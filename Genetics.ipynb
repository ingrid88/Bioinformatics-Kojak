{
 "cells": [
  {
   "cell_type": "code",
   "execution_count": 13,
   "metadata": {
    "collapsed": true
   },
   "outputs": [],
   "source": [
    "# x = open('normal_tissue.csv')\n",
    "import pandas as pd\n",
    "df = pd.DataFrame.from_csv('normal_tissue.csv')"
   ]
  },
  {
   "cell_type": "code",
   "execution_count": 4,
   "metadata": {
    "collapsed": false
   },
   "outputs": [
    {
     "data": {
      "text/plain": [
       "{'High', 'Low', 'Medium', 'Not detected'}"
      ]
     },
     "execution_count": 4,
     "metadata": {},
     "output_type": "execute_result"
    }
   ],
   "source": [
    "set(df.Level)"
   ]
  },
  {
   "cell_type": "code",
   "execution_count": 5,
   "metadata": {
    "collapsed": false
   },
   "outputs": [],
   "source": [
    "ndf = df[df.Reliability == \"Supportive\"]"
   ]
  },
  {
   "cell_type": "code",
   "execution_count": 6,
   "metadata": {
    "collapsed": false
   },
   "outputs": [
    {
     "data": {
      "text/html": [
       "<div>\n",
       "<table border=\"1\" class=\"dataframe\">\n",
       "  <thead>\n",
       "    <tr style=\"text-align: right;\">\n",
       "      <th></th>\n",
       "      <th>Gene name</th>\n",
       "      <th>Tissue</th>\n",
       "      <th>Cell type</th>\n",
       "      <th>Level</th>\n",
       "      <th>Expression type</th>\n",
       "      <th>Reliability</th>\n",
       "    </tr>\n",
       "    <tr>\n",
       "      <th>Gene</th>\n",
       "      <th></th>\n",
       "      <th></th>\n",
       "      <th></th>\n",
       "      <th></th>\n",
       "      <th></th>\n",
       "      <th></th>\n",
       "    </tr>\n",
       "  </thead>\n",
       "  <tbody>\n",
       "    <tr>\n",
       "      <th>ENSG00000001084</th>\n",
       "      <td>GCLC</td>\n",
       "      <td>duodenum</td>\n",
       "      <td>glandular cells</td>\n",
       "      <td>High</td>\n",
       "      <td>APE</td>\n",
       "      <td>Supportive</td>\n",
       "    </tr>\n",
       "    <tr>\n",
       "      <th>ENSG00000001084</th>\n",
       "      <td>GCLC</td>\n",
       "      <td>endometrium 2</td>\n",
       "      <td>glandular cells</td>\n",
       "      <td>High</td>\n",
       "      <td>APE</td>\n",
       "      <td>Supportive</td>\n",
       "    </tr>\n",
       "    <tr>\n",
       "      <th>ENSG00000001084</th>\n",
       "      <td>GCLC</td>\n",
       "      <td>fallopian tube</td>\n",
       "      <td>glandular cells</td>\n",
       "      <td>High</td>\n",
       "      <td>APE</td>\n",
       "      <td>Supportive</td>\n",
       "    </tr>\n",
       "    <tr>\n",
       "      <th>ENSG00000001084</th>\n",
       "      <td>GCLC</td>\n",
       "      <td>gallbladder</td>\n",
       "      <td>glandular cells</td>\n",
       "      <td>High</td>\n",
       "      <td>APE</td>\n",
       "      <td>Supportive</td>\n",
       "    </tr>\n",
       "    <tr>\n",
       "      <th>ENSG00000001084</th>\n",
       "      <td>GCLC</td>\n",
       "      <td>kidney</td>\n",
       "      <td>cells in tubules</td>\n",
       "      <td>High</td>\n",
       "      <td>APE</td>\n",
       "      <td>Supportive</td>\n",
       "    </tr>\n",
       "  </tbody>\n",
       "</table>\n",
       "</div>"
      ],
      "text/plain": [
       "                Gene name          Tissue         Cell type Level  \\\n",
       "Gene                                                                \n",
       "ENSG00000001084      GCLC        duodenum   glandular cells  High   \n",
       "ENSG00000001084      GCLC   endometrium 2   glandular cells  High   \n",
       "ENSG00000001084      GCLC  fallopian tube   glandular cells  High   \n",
       "ENSG00000001084      GCLC     gallbladder   glandular cells  High   \n",
       "ENSG00000001084      GCLC          kidney  cells in tubules  High   \n",
       "\n",
       "                Expression type Reliability  \n",
       "Gene                                         \n",
       "ENSG00000001084             APE  Supportive  \n",
       "ENSG00000001084             APE  Supportive  \n",
       "ENSG00000001084             APE  Supportive  \n",
       "ENSG00000001084             APE  Supportive  \n",
       "ENSG00000001084             APE  Supportive  "
      ]
     },
     "execution_count": 6,
     "metadata": {},
     "output_type": "execute_result"
    }
   ],
   "source": [
    "ndf[ndf.Level== \"High\"].head()"
   ]
  },
  {
   "cell_type": "code",
   "execution_count": null,
   "metadata": {
    "collapsed": true
   },
   "outputs": [],
   "source": []
  },
  {
   "cell_type": "markdown",
   "metadata": {
    "collapsed": true
   },
   "source": [
    "## Staph data\n",
    "http://users-birc.au.dk/cstorm/courses/MLiB_f14/project1.html"
   ]
  },
  {
   "cell_type": "code",
   "execution_count": 9,
   "metadata": {
    "collapsed": true
   },
   "outputs": [],
   "source": [
    "import requests"
   ]
  },
  {
   "cell_type": "code",
   "execution_count": 6,
   "metadata": {
    "collapsed": true
   },
   "outputs": [],
   "source": [
    "staph_url = [\"http://users-birc.au.dk/cstorm/courses/MLiB_f14/projects/project3/genome1.fa\",\n",
    "            \"http://users-birc.au.dk/cstorm/courses/MLiB_f14/projects/project3/genome2.fa\",\n",
    "           \"http://users-birc.au.dk/cstorm/courses/MLiB_f14/projects/project3/genome3.fa\"]\n",
    "staph_annot = [\"http://users-birc.au.dk/cstorm/courses/MLiB_f14/projects/project3/annotation1.fa\",\n",
    "              \"http://users-birc.au.dk/cstorm/courses/MLiB_f14/projects/project3/annotation2.fa\"\n",
    "              \"http://users-birc.au.dk/cstorm/courses/MLiB_f14/projects/project3/annotation3.fa\"]"
   ]
  },
  {
   "cell_type": "code",
   "execution_count": 7,
   "metadata": {
    "collapsed": true
   },
   "outputs": [],
   "source": [
    "def load_file(url,genome=True):\n",
    "    \"\"\"input: url for genome, \n",
    "    output: pulled data without header and as a single txt string\"\"\"\n",
    "    data = ''.join(requests.get(url).text.split(\"\\n\")[1::])\n",
    "    return data\n",
    "\n",
    "def segment_genome(data_string,split_size):\n",
    "    \"\"\"input: genome data string (data_string) and then size we should split the data (split_size)\n",
    "    output: array split by specified split_size\"\"\"\n",
    "    chunks = len(data_string)\n",
    "    data = [data_string[i:i+split_size] for i in range(0,chunks,split_size)]\n",
    "    return data"
   ]
  },
  {
   "cell_type": "markdown",
   "metadata": {},
   "source": [
    "### neural network that predicts which sub-strings of the genomes are coding and which are not."
   ]
  },
  {
   "cell_type": "markdown",
   "metadata": {},
   "source": [
    "#### Segment the genomes into windows of sizes 50, 100 and 200 characters."
   ]
  },
  {
   "cell_type": "code",
   "execution_count": 10,
   "metadata": {
    "collapsed": false
   },
   "outputs": [],
   "source": [
    "data = load_file(staph_url[0])\n",
    "seg_100 = segment_genome(data,100)"
   ]
  },
  {
   "cell_type": "markdown",
   "metadata": {},
   "source": [
    "#### For each window, assign the classification given by the most frequent annotation in the window."
   ]
  },
  {
   "cell_type": "code",
   "execution_count": 11,
   "metadata": {
    "collapsed": true
   },
   "outputs": [],
   "source": [
    "data = load_file(staph_annot[0])\n",
    "seg_50_an = segment_genome(data,50)"
   ]
  },
  {
   "cell_type": "code",
   "execution_count": 12,
   "metadata": {
    "collapsed": true
   },
   "outputs": [],
   "source": [
    "seg_50_an = segment_genome(data,50)"
   ]
  },
  {
   "cell_type": "code",
   "execution_count": 13,
   "metadata": {
    "collapsed": true
   },
   "outputs": [],
   "source": [
    "def gene_label(annotation, min_gene=10):\n",
    "    \"\"\"Input: annotation\n",
    "    ouput: the label array for data (true if C or R else false for > 50% of line)\"\"\"\n",
    "    size = len(annotation[0])\n",
    "    print(size)\n",
    "    label = [True if len(line.strip(\"C\")) < size/2 or len(line.strip(\"R\")) < size/2 else False \n",
    "             for line in annotation]\n",
    "#     label = [0 if len(line.strip(\"C\")) < size/2 or len(line.strip(\"R\")) < size/2 else 1 \n",
    "#          for line in annotation]\n",
    "    return label\n",
    "\n",
    "def gene_label_dir(annotation,direction=\"C\"):\n",
    "    \"\"\"Input: annotation and direction is C (forward) unless specified as R (reverse)\n",
    "    ouput: the label array for data\"\"\"\n",
    "    size = len(annotation[0])\n",
    "    label = [True if len(line.strip(direction)) < size/2 else False \n",
    "             for line in annotation]\n",
    "    return label"
   ]
  },
  {
   "cell_type": "code",
   "execution_count": 14,
   "metadata": {
    "collapsed": false
   },
   "outputs": [
    {
     "ename": "NameError",
     "evalue": "name 'pd' is not defined",
     "output_type": "error",
     "traceback": [
      "\u001b[0;31m---------------------------------------------------------------------------\u001b[0m",
      "\u001b[0;31mNameError\u001b[0m                                 Traceback (most recent call last)",
      "\u001b[0;32m<ipython-input-14-e43ab3a82ef4>\u001b[0m in \u001b[0;36m<module>\u001b[0;34m()\u001b[0m\n\u001b[0;32m----> 1\u001b[0;31m \u001b[0mgene_df\u001b[0m \u001b[0;34m=\u001b[0m \u001b[0mpd\u001b[0m\u001b[0;34m.\u001b[0m\u001b[0mDataFrame\u001b[0m\u001b[0;34m(\u001b[0m\u001b[0;34m{\u001b[0m\u001b[0;34m\"label\"\u001b[0m\u001b[0;34m:\u001b[0m\u001b[0mdf\u001b[0m\u001b[0;34m.\u001b[0m\u001b[0mgene\u001b[0m\u001b[0;34m,\u001b[0m\u001b[0;34m\"sequence\"\u001b[0m\u001b[0;34m:\u001b[0m \u001b[0mseg_50\u001b[0m\u001b[0;34m}\u001b[0m\u001b[0;34m)\u001b[0m\u001b[0;34m\u001b[0m\u001b[0m\n\u001b[0m",
      "\u001b[0;31mNameError\u001b[0m: name 'pd' is not defined"
     ]
    }
   ],
   "source": [
    "gene_df = pd.DataFrame({\"label\":df.gene,\"sequence\": seg_50})"
   ]
  },
  {
   "cell_type": "code",
   "execution_count": null,
   "metadata": {
    "collapsed": false
   },
   "outputs": [],
   "source": [
    "gene_df.head()"
   ]
  },
  {
   "cell_type": "code",
   "execution_count": null,
   "metadata": {
    "collapsed": false
   },
   "outputs": [],
   "source": [
    "gene_df['label'].value_counts()"
   ]
  },
  {
   "cell_type": "code",
   "execution_count": null,
   "metadata": {
    "collapsed": false
   },
   "outputs": [],
   "source": [
    "list(gene_df['sequence'])"
   ]
  },
  {
   "cell_type": "code",
   "execution_count": null,
   "metadata": {
    "collapsed": false
   },
   "outputs": [],
   "source": [
    "from sklearn.feature_extraction.text import CountVectorizer\n",
    "vectorizer = CountVectorizer(analyzer = 'char_wb', ngram_range=(1,3), min_df= 1)\n",
    "d = vectorizer.fit_transform(list(gene_df['sequence']))"
   ]
  },
  {
   "cell_type": "code",
   "execution_count": 15,
   "metadata": {
    "collapsed": false
   },
   "outputs": [
    {
     "ename": "NameError",
     "evalue": "name 'gene_df' is not defined",
     "output_type": "error",
     "traceback": [
      "\u001b[0;31m---------------------------------------------------------------------------\u001b[0m",
      "\u001b[0;31mNameError\u001b[0m                                 Traceback (most recent call last)",
      "\u001b[0;32m<ipython-input-15-48ac5c3a03ef>\u001b[0m in \u001b[0;36m<module>\u001b[0;34m()\u001b[0m\n\u001b[1;32m      1\u001b[0m \u001b[0mnew_seq\u001b[0m \u001b[0;34m=\u001b[0m \u001b[0;34m''\u001b[0m\u001b[0;34m\u001b[0m\u001b[0m\n\u001b[0;32m----> 2\u001b[0;31m \u001b[0;32mfor\u001b[0m \u001b[0mj\u001b[0m\u001b[0;34m,\u001b[0m \u001b[0mi\u001b[0m \u001b[0;32min\u001b[0m \u001b[0menumerate\u001b[0m\u001b[0;34m(\u001b[0m\u001b[0mgene_df\u001b[0m\u001b[0;34m[\u001b[0m\u001b[0;34m'sequence'\u001b[0m\u001b[0;34m]\u001b[0m\u001b[0;34m[\u001b[0m\u001b[0;36m0\u001b[0m\u001b[0;34m]\u001b[0m\u001b[0;34m)\u001b[0m\u001b[0;34m:\u001b[0m\u001b[0;34m\u001b[0m\u001b[0m\n\u001b[0m\u001b[1;32m      3\u001b[0m     \u001b[0;32mif\u001b[0m \u001b[0mj\u001b[0m \u001b[0;34m%\u001b[0m \u001b[0;36m3\u001b[0m \u001b[0;34m==\u001b[0m \u001b[0;36m0\u001b[0m\u001b[0;34m:\u001b[0m\u001b[0;34m\u001b[0m\u001b[0m\n\u001b[1;32m      4\u001b[0m         \u001b[0mnew_seq\u001b[0m \u001b[0;34m=\u001b[0m \u001b[0mnew_seq\u001b[0m \u001b[0;34m+\u001b[0m \u001b[0mi\u001b[0m \u001b[0;34m+\u001b[0m \u001b[0;34m' '\u001b[0m\u001b[0;34m\u001b[0m\u001b[0m\n\u001b[1;32m      5\u001b[0m     \u001b[0;32melse\u001b[0m\u001b[0;34m:\u001b[0m\u001b[0;34m\u001b[0m\u001b[0m\n",
      "\u001b[0;31mNameError\u001b[0m: name 'gene_df' is not defined"
     ]
    }
   ],
   "source": [
    "new_seq = ''\n",
    "for j, i in enumerate(gene_df['sequence'][0]):\n",
    "    if j % 3 == 0:\n",
    "        new_seq = new_seq + i + ' '\n",
    "    else: \n",
    "        new_seq = new_seq + i"
   ]
  },
  {
   "cell_type": "code",
   "execution_count": null,
   "metadata": {
    "collapsed": true
   },
   "outputs": [],
   "source": []
  },
  {
   "cell_type": "code",
   "execution_count": 116,
   "metadata": {
    "collapsed": false
   },
   "outputs": [
    {
     "data": {
      "text/plain": [
       "u'T TGT TGA TAT TCT GTT TTT TCT TTT TTA GTT TTC CAC ATG AAA AAT AGT T'"
      ]
     },
     "execution_count": 116,
     "metadata": {},
     "output_type": "execute_result"
    }
   ],
   "source": [
    "new_seq"
   ]
  },
  {
   "cell_type": "code",
   "execution_count": 104,
   "metadata": {
    "collapsed": false
   },
   "outputs": [
    {
     "data": {
      "text/plain": [
       "[u' ',\n",
       " u' a',\n",
       " u' aa',\n",
       " u' ac',\n",
       " u' ag',\n",
       " u' at',\n",
       " u' c',\n",
       " u' ca',\n",
       " u' cc',\n",
       " u' cg',\n",
       " u' ct',\n",
       " u' g',\n",
       " u' ga',\n",
       " u' gc',\n",
       " u' gg',\n",
       " u' gt',\n",
       " u' t',\n",
       " u' ta',\n",
       " u' tc',\n",
       " u' tg',\n",
       " u' tt',\n",
       " u'a',\n",
       " u'a ',\n",
       " u'aa',\n",
       " u'aa ',\n",
       " u'aaa',\n",
       " u'aac',\n",
       " u'aag',\n",
       " u'aat',\n",
       " u'ac',\n",
       " u'ac ',\n",
       " u'aca',\n",
       " u'acc',\n",
       " u'acg',\n",
       " u'act',\n",
       " u'ag',\n",
       " u'ag ',\n",
       " u'aga',\n",
       " u'agc',\n",
       " u'agg',\n",
       " u'agt',\n",
       " u'at',\n",
       " u'at ',\n",
       " u'ata',\n",
       " u'atc',\n",
       " u'atg',\n",
       " u'att',\n",
       " u'c',\n",
       " u'c ',\n",
       " u'ca',\n",
       " u'ca ',\n",
       " u'caa',\n",
       " u'cac',\n",
       " u'cag',\n",
       " u'cat',\n",
       " u'cc',\n",
       " u'cc ',\n",
       " u'cca',\n",
       " u'ccc',\n",
       " u'ccg',\n",
       " u'cct',\n",
       " u'cg',\n",
       " u'cg ',\n",
       " u'cga',\n",
       " u'cgc',\n",
       " u'cgg',\n",
       " u'cgt',\n",
       " u'ct',\n",
       " u'ct ',\n",
       " u'cta',\n",
       " u'ctc',\n",
       " u'ctg',\n",
       " u'ctt',\n",
       " u'g',\n",
       " u'g ',\n",
       " u'ga',\n",
       " u'ga ',\n",
       " u'gaa',\n",
       " u'gac',\n",
       " u'gag',\n",
       " u'gat',\n",
       " u'gc',\n",
       " u'gc ',\n",
       " u'gca',\n",
       " u'gcc',\n",
       " u'gcg',\n",
       " u'gct',\n",
       " u'gg',\n",
       " u'gg ',\n",
       " u'gga',\n",
       " u'ggc',\n",
       " u'ggg',\n",
       " u'ggt',\n",
       " u'gt',\n",
       " u'gt ',\n",
       " u'gta',\n",
       " u'gtc',\n",
       " u'gtg',\n",
       " u'gtt',\n",
       " u't',\n",
       " u't ',\n",
       " u'ta',\n",
       " u'ta ',\n",
       " u'taa',\n",
       " u'tac',\n",
       " u'tag',\n",
       " u'tat',\n",
       " u'tc',\n",
       " u'tc ',\n",
       " u'tca',\n",
       " u'tcc',\n",
       " u'tcg',\n",
       " u'tct',\n",
       " u'tg',\n",
       " u'tg ',\n",
       " u'tga',\n",
       " u'tgc',\n",
       " u'tgg',\n",
       " u'tgt',\n",
       " u'tt',\n",
       " u'tt ',\n",
       " u'tta',\n",
       " u'ttc',\n",
       " u'ttg',\n",
       " u'ttt']"
      ]
     },
     "execution_count": 104,
     "metadata": {},
     "output_type": "execute_result"
    }
   ],
   "source": [
    "vectorizer.get_feature_names()"
   ]
  },
  {
   "cell_type": "code",
   "execution_count": null,
   "metadata": {
    "collapsed": true
   },
   "outputs": [],
   "source": [
    "print_top_words(d,)"
   ]
  },
  {
   "cell_type": "code",
   "execution_count": null,
   "metadata": {
    "collapsed": true
   },
   "outputs": [],
   "source": [
    "d.get"
   ]
  },
  {
   "cell_type": "code",
   "execution_count": 108,
   "metadata": {
    "collapsed": false
   },
   "outputs": [
    {
     "data": {
      "text/plain": [
       "array([[ 2,  0,  0, ...,  3,  2, 10],\n",
       "       [ 2,  0,  0, ...,  1,  1,  2],\n",
       "       [ 2,  1,  1, ...,  1,  1,  3],\n",
       "       ..., \n",
       "       [ 2,  0,  0, ...,  1,  2,  1],\n",
       "       [ 2,  1,  0, ...,  2,  0,  3],\n",
       "       [ 2,  0,  0, ...,  0,  0,  0]])"
      ]
     },
     "execution_count": 108,
     "metadata": {},
     "output_type": "execute_result"
    }
   ],
   "source": [
    "d.toarray()"
   ]
  },
  {
   "cell_type": "code",
   "execution_count": 8,
   "metadata": {
    "collapsed": true
   },
   "outputs": [],
   "source": [
    "## Feature1: nucleotide frequence"
   ]
  },
  {
   "cell_type": "code",
   "execution_count": 9,
   "metadata": {
    "collapsed": true
   },
   "outputs": [],
   "source": [
    "def nucleotide_frequency(seq):\n",
    "    '''Count the occurrences of characters in \"seq\".'''\n",
    "    counts = {'A':0,'C':0,'G':0,'T':0}\n",
    "    for c in seq:\n",
    "        counts[c] +=1\n",
    "    return counts"
   ]
  },
  {
   "cell_type": "code",
   "execution_count": null,
   "metadata": {
    "collapsed": true
   },
   "outputs": [],
   "source": []
  },
  {
   "cell_type": "code",
   "execution_count": 10,
   "metadata": {
    "collapsed": true
   },
   "outputs": [],
   "source": [
    "## splice sites\n",
    "data = load_file(staph_url[0])\n",
    "seg_50=segment_genome(data,50)"
   ]
  },
  {
   "cell_type": "code",
   "execution_count": 11,
   "metadata": {
    "collapsed": false
   },
   "outputs": [
    {
     "data": {
      "text/plain": [
       "{'A': 11, 'C': 5, 'G': 6, 'T': 28}"
      ]
     },
     "execution_count": 11,
     "metadata": {},
     "output_type": "execute_result"
    }
   ],
   "source": [
    "nucleotide_frequency(seg_50[0])"
   ]
  },
  {
   "cell_type": "code",
   "execution_count": 16,
   "metadata": {
    "collapsed": false
   },
   "outputs": [
    {
     "ename": "NameError",
     "evalue": "name 'seg_50' is not defined",
     "output_type": "error",
     "traceback": [
      "\u001b[0;31m---------------------------------------------------------------------------\u001b[0m",
      "\u001b[0;31mNameError\u001b[0m                                 Traceback (most recent call last)",
      "\u001b[0;32m<ipython-input-16-910527c4b0a2>\u001b[0m in \u001b[0;36m<module>\u001b[0;34m()\u001b[0m\n\u001b[1;32m      1\u001b[0m \u001b[0;32mimport\u001b[0m \u001b[0mnumpy\u001b[0m \u001b[0;32mas\u001b[0m \u001b[0mnp\u001b[0m\u001b[0;34m\u001b[0m\u001b[0m\n\u001b[1;32m      2\u001b[0m \u001b[0;32mimport\u001b[0m \u001b[0mpandas\u001b[0m \u001b[0;32mas\u001b[0m \u001b[0mpd\u001b[0m\u001b[0;34m\u001b[0m\u001b[0m\n\u001b[0;32m----> 3\u001b[0;31m \u001b[0mresult\u001b[0m \u001b[0;34m=\u001b[0m \u001b[0;34m[\u001b[0m\u001b[0;34m[\u001b[0m\u001b[0ml\u001b[0m\u001b[0;34m[\u001b[0m\u001b[0;36m1\u001b[0m\u001b[0;34m]\u001b[0m \u001b[0;32mfor\u001b[0m \u001b[0ml\u001b[0m \u001b[0;32min\u001b[0m \u001b[0mlist\u001b[0m\u001b[0;34m(\u001b[0m\u001b[0mnucleotide_frequency\u001b[0m\u001b[0;34m(\u001b[0m\u001b[0mseg\u001b[0m\u001b[0;34m)\u001b[0m\u001b[0;34m.\u001b[0m\u001b[0mitems\u001b[0m\u001b[0;34m(\u001b[0m\u001b[0;34m)\u001b[0m\u001b[0;34m)\u001b[0m\u001b[0;34m]\u001b[0m \u001b[0;32mfor\u001b[0m \u001b[0mseg\u001b[0m \u001b[0;32min\u001b[0m \u001b[0mseg_50\u001b[0m\u001b[0;34m]\u001b[0m\u001b[0;34m\u001b[0m\u001b[0m\n\u001b[0m\u001b[1;32m      4\u001b[0m \u001b[0mt\u001b[0m \u001b[0;34m=\u001b[0m \u001b[0mnp\u001b[0m\u001b[0;34m.\u001b[0m\u001b[0marray\u001b[0m\u001b[0;34m(\u001b[0m\u001b[0mresult\u001b[0m\u001b[0;34m)\u001b[0m\u001b[0;34m\u001b[0m\u001b[0m\n\u001b[1;32m      5\u001b[0m \u001b[0;31m# df = pd.DataFrame({\"A\":result[0],\"C\":result[1],\"G\":result[2],\"T\":result[3]})\u001b[0m\u001b[0;34m\u001b[0m\u001b[0;34m\u001b[0m\u001b[0m\n",
      "\u001b[0;31mNameError\u001b[0m: name 'seg_50' is not defined"
     ]
    }
   ],
   "source": [
    "import numpy as np\n",
    "import pandas as pd\n",
    "result = [[l[1] for l in list(nucleotide_frequency(seg).items())] for seg in seg_50]\n",
    "t = np.array(result)\n",
    "# df = pd.DataFrame({\"A\":result[0],\"C\":result[1],\"G\":result[2],\"T\":result[3]})\n",
    "df = pd.DataFrame(result)\n",
    "df.columns=[\"a\",\"c\",\"g\",\"t\"]\n",
    "df[\"gene\"] = gene_label(seg_50_an)"
   ]
  },
  {
   "cell_type": "code",
   "execution_count": 13,
   "metadata": {
    "collapsed": false
   },
   "outputs": [
    {
     "name": "stdout",
     "output_type": "stream",
     "text": [
      "50\n"
     ]
    }
   ],
   "source": [
    "df[\"gene\"] = gene_label(seg_50_an)"
   ]
  },
  {
   "cell_type": "code",
   "execution_count": 14,
   "metadata": {
    "collapsed": false
   },
   "outputs": [
    {
     "data": {
      "text/plain": [
       "numpy.bool_"
      ]
     },
     "execution_count": 14,
     "metadata": {},
     "output_type": "execute_result"
    }
   ],
   "source": [
    "type(df.gene[0])\n"
   ]
  },
  {
   "cell_type": "code",
   "execution_count": 74,
   "metadata": {
    "collapsed": false
   },
   "outputs": [],
   "source": [
    "## Run several models: \n",
    "# \n",
    "from sklearn.linear_model import LogisticRegression\n",
    "from sklearn.naive_bayes import GaussianNB\n",
    "from sklearn.svm import SVC\n",
    "from sklearn.tree import DecisionTreeClassifier\n",
    "from sklearn.ensemble import RandomForestClassifier\n",
    "from sklearn.neighbors import KNeighborsClassifier\n",
    "\n",
    "from sklearn.metrics import accuracy_score, classification_report\n",
    "\n",
    "\n",
    "from sklearn.learning_curve import learning_curve\n",
    "\n",
    "from sklearn.cross_validation import train_test_split, KFold, cross_val_score\n",
    "# from sklearn.cross_validation import KFold\n",
    "\n",
    "## how to use Cross-validation\n",
    "# X_train, X_test, y_train, y_test = train_test_split(\n",
    "# ...     df[[\"a\",\"c\",\"g\",\"t\"]], df.gene, test_size=0.4, random_state=0)\n",
    "\n",
    "## how to use k-fold\n",
    "# kf = KFold(4, n_folds=2)\n",
    "# sklearn.cross_validation.KFold(n=4, n_folds=2, shuffle=False,\n",
    "#                                random_state=None)\n",
    "# for train_index, test_index in kf:\n",
    "# print(\"TRAIN:\", train_index, \"TEST:\", test_index)\n",
    "# X_train, X_test = X[train_index], X[test_index]\n",
    "# y_train, y_test = y[train_index], y[test_index]\n"
   ]
  },
  {
   "cell_type": "code",
   "execution_count": 2,
   "metadata": {
    "collapsed": false
   },
   "outputs": [
    {
     "ename": "NameError",
     "evalue": "name 'df' is not defined",
     "output_type": "error",
     "traceback": [
      "\u001b[0;31m---------------------------------------------------------------------------\u001b[0m",
      "\u001b[0;31mNameError\u001b[0m                                 Traceback (most recent call last)",
      "\u001b[0;32m<ipython-input-2-d30b300729d8>\u001b[0m in \u001b[0;36m<module>\u001b[0;34m()\u001b[0m\n\u001b[0;32m----> 1\u001b[0;31m \u001b[0mx\u001b[0m \u001b[0;34m=\u001b[0m \u001b[0mdf\u001b[0m\u001b[0;34m[\u001b[0m\u001b[0;34m[\u001b[0m\u001b[0;34m\"a\"\u001b[0m\u001b[0;34m,\u001b[0m\u001b[0;34m\"c\"\u001b[0m\u001b[0;34m,\u001b[0m\u001b[0;34m\"g\"\u001b[0m\u001b[0;34m,\u001b[0m\u001b[0;34m\"t\"\u001b[0m\u001b[0;34m]\u001b[0m\u001b[0;34m]\u001b[0m\u001b[0;34m\u001b[0m\u001b[0m\n\u001b[0m\u001b[1;32m      2\u001b[0m \u001b[0my\u001b[0m \u001b[0;34m=\u001b[0m \u001b[0mdf\u001b[0m\u001b[0;34m.\u001b[0m\u001b[0mgene\u001b[0m\u001b[0;34m\u001b[0m\u001b[0m\n",
      "\u001b[0;31mNameError\u001b[0m: name 'df' is not defined"
     ]
    }
   ],
   "source": [
    "x = df[[\"a\",\"c\",\"g\",\"t\"]]\n",
    "y = df.gene"
   ]
  },
  {
   "cell_type": "code",
   "execution_count": 1,
   "metadata": {
    "collapsed": false
   },
   "outputs": [
    {
     "ename": "NameError",
     "evalue": "name 'y' is not defined",
     "output_type": "error",
     "traceback": [
      "\u001b[0;31m---------------------------------------------------------------------------\u001b[0m",
      "\u001b[0;31mNameError\u001b[0m                                 Traceback (most recent call last)",
      "\u001b[0;32m<ipython-input-1-009520053b00>\u001b[0m in \u001b[0;36m<module>\u001b[0;34m()\u001b[0m\n\u001b[0;32m----> 1\u001b[0;31m \u001b[0my\u001b[0m\u001b[0;34m\u001b[0m\u001b[0m\n\u001b[0m",
      "\u001b[0;31mNameError\u001b[0m: name 'y' is not defined"
     ]
    }
   ],
   "source": [
    "y"
   ]
  },
  {
   "cell_type": "code",
   "execution_count": 74,
   "metadata": {
    "collapsed": false
   },
   "outputs": [
    {
     "name": "stdout",
     "output_type": "stream",
     "text": [
      "RandomForestClassifier Accuracy Score : 0.709034\n",
      "DecisionTreeClassifier Accuracy Score : 0.699668\n",
      "GaussianNB Accuracy Score : 0.729898\n",
      "SVC Accuracy Score : 0.731329\n",
      "KNeighborsClassifier Accuracy Score : 0.665767\n",
      "LogisticRegression Accuracy Score : 0.730681\n"
     ]
    }
   ],
   "source": [
    "algorithms = [RandomForestClassifier(), DecisionTreeClassifier(), GaussianNB(), \n",
    "              SVC(), KNeighborsClassifier(n_neighbors=6), LogisticRegression()]\n",
    "\n",
    "for algo in algorithms:\n",
    "    accuracy = cross_val_score(algo,x,y)\n",
    "    print(\"{:s} Accuracy Score : {:f}\".format(str(algo).split('(', 1)[0],accuracy.mean()))"
   ]
  },
  {
   "cell_type": "code",
   "execution_count": 76,
   "metadata": {
    "collapsed": false
   },
   "outputs": [
    {
     "name": "stdout",
     "output_type": "stream",
     "text": [
      "             precision    recall  f1-score   support\n",
      "\n",
      "      False       0.52      0.10      0.17      3270\n",
      "       True       0.75      0.97      0.84      8957\n",
      "\n",
      "avg / total       0.69      0.73      0.66     12227\n",
      "\n"
     ]
    }
   ],
   "source": [
    "lg = LogisticRegression()\n",
    "lg.fit(X_train,y_train)\n",
    "gnb = GaussianNB()\n",
    "gnb.fit(X_train,y_train)\n",
    "print classification_report(y_test, gnb.predict(X_test))"
   ]
  },
  {
   "cell_type": "code",
   "execution_count": 75,
   "metadata": {
    "collapsed": false
   },
   "outputs": [
    {
     "name": "stdout",
     "output_type": "stream",
     "text": [
      "             precision    recall  f1-score   support\n",
      "\n",
      "      False       0.83      0.01      0.03      3270\n",
      "       True       0.74      1.00      0.85      8957\n",
      "\n",
      "avg / total       0.76      0.74      0.63     12227\n",
      "\n"
     ]
    }
   ],
   "source": [
    "print classification_report(y_test, lg.predict(X_test))"
   ]
  },
  {
   "cell_type": "code",
   "execution_count": null,
   "metadata": {
    "collapsed": true
   },
   "outputs": [],
   "source": []
  },
  {
   "cell_type": "code",
   "execution_count": 23,
   "metadata": {
    "collapsed": true
   },
   "outputs": [],
   "source": [
    "## confusion matrix\n",
    "\n",
    "## logistic regression"
   ]
  },
  {
   "cell_type": "code",
   "execution_count": null,
   "metadata": {
    "collapsed": true
   },
   "outputs": [],
   "source": [
    "LogisticRegression(penalty='l2', dual=False, tol=0.0001, C=1.0, \n",
    "                   fit_intercept=True, intercept_scaling=1, class_weight=None, \n",
    "                   random_state=None, solver='liblinear', max_iter=100, multi_class='ovr', \n",
    "                   verbose=0, warm_start=False, n_jobs=1)\n",
    "fit_transform(X, y=None, **fit_params)\n",
    "get_params(deep=True)\n",
    "predict(X)\n",
    "score(X, y, sample_weight=None)"
   ]
  },
  {
   "cell_type": "code",
   "execution_count": 20,
   "metadata": {
    "collapsed": true
   },
   "outputs": [],
   "source": [
    "# Code source: Gaël Varoquaux\n",
    "# Modified for documentation by Jaques Grobler\n",
    "# License: BSD 3 clause\n",
    "\n",
    "%matplotlib inline\n",
    "import numpy as np\n",
    "import matplotlib.pyplot as plt\n",
    "\n",
    "from sklearn import linear_model, decomposition, datasets\n",
    "from sklearn.pipeline import Pipeline\n",
    "from sklearn.grid_search import GridSearchCV\n",
    "\n",
    "logistic = linear_model.LogisticRegression()"
   ]
  },
  {
   "cell_type": "code",
   "execution_count": 18,
   "metadata": {
    "collapsed": true
   },
   "outputs": [],
   "source": [
    "pca = decomposition.PCA()\n",
    "pipe = Pipeline(steps=[('pca', pca), ('logistic', logistic)])\n",
    "\n",
    "digits = datasets.load_digits()\n",
    "X_digits = digits.data\n",
    "y_digits = digits.target"
   ]
  },
  {
   "cell_type": "code",
   "execution_count": 25,
   "metadata": {
    "collapsed": false
   },
   "outputs": [
    {
     "data": {
      "text/plain": [
       "(1797, 64)"
      ]
     },
     "execution_count": 25,
     "metadata": {},
     "output_type": "execute_result"
    }
   ],
   "source": [
    "X_digits.shape"
   ]
  },
  {
   "cell_type": "code",
   "execution_count": 23,
   "metadata": {
    "collapsed": false
   },
   "outputs": [
    {
     "data": {
      "image/png": "[encoded data removed]",
      "text/plain": [
       "<matplotlib.figure.Figure at 0x10e971550>"
      ]
     },
     "metadata": {},
     "output_type": "display_data"
    }
   ],
   "source": [
    "###############################################################################\n",
    "# Plot the PCA spectrum\n",
    "pca.fit(X_digits)\n",
    "\n",
    "plt.figure(1, figsize=(4, 3))\n",
    "plt.clf()\n",
    "plt.axes([.2, .2, .7, .7])\n",
    "plt.plot(pca.explained_variance_, linewidth=2)\n",
    "plt.axis('tight')\n",
    "plt.xlabel('n_components')\n",
    "plt.ylabel('explained_variance_')\n",
    "###############################################################################\n",
    "# Prediction\n",
    "\n",
    "n_components = [20, 40, 64]\n",
    "Cs = np.logspace(-4, 4, 3)\n",
    "\n",
    "#Parameters of pipelines can be set using ‘__’ separated parameter names:\n",
    "\n",
    "estimator = GridSearchCV(pipe,\n",
    "                         dict(pca__n_components=n_components,\n",
    "                              logistic__C=Cs))\n",
    "estimator.fit(X_digits, y_digits)\n",
    "\n",
    "plt.axvline(estimator.best_estimator_.named_steps['pca'].n_components,\n",
    "            linestyle=':', label='n_components chosen')\n",
    "plt.legend(prop=dict(size=12))\n",
    "plt.show()"
   ]
  },
  {
   "cell_type": "code",
   "execution_count": 63,
   "metadata": {
    "collapsed": false
   },
   "outputs": [],
   "source": [
    "from sklearn.cross_validation import train_test_split\n",
    "X_train, X_test, y_train, y_test = train_test_split(x, y, test_size=0.33, random_state=42)"
   ]
  },
  {
   "cell_type": "code",
   "execution_count": null,
   "metadata": {
    "collapsed": true
   },
   "outputs": [],
   "source": []
  },
  {
   "cell_type": "code",
   "execution_count": 64,
   "metadata": {
    "collapsed": true
   },
   "outputs": [],
   "source": [
    "param_grid = {'C': [0.001, 0.01, 0.1, 1, 10, 100, 1000] }\n",
    "clf = GridSearchCV(LogisticRegression(penalty='l2'), param_grid)\n",
    "clf = clf.fit(X_train, y_train)"
   ]
  },
  {
   "cell_type": "code",
   "execution_count": 65,
   "metadata": {
    "collapsed": false
   },
   "outputs": [],
   "source": [
    "res = clf.predict(X_test)"
   ]
  },
  {
   "cell_type": "code",
   "execution_count": null,
   "metadata": {
    "collapsed": true
   },
   "outputs": [],
   "source": []
  },
  {
   "cell_type": "code",
   "execution_count": 66,
   "metadata": {
    "collapsed": false
   },
   "outputs": [
    {
     "data": {
      "text/plain": [
       "array([[  44, 3226],\n",
       "       [   9, 8948]])"
      ]
     },
     "execution_count": 66,
     "metadata": {},
     "output_type": "execute_result"
    }
   ],
   "source": [
    "from sklearn.metrics import confusion_matrix\n",
    "confusion_matrix(y_test, list(res))"
   ]
  },
  {
   "cell_type": "code",
   "execution_count": 67,
   "metadata": {
    "collapsed": false
   },
   "outputs": [],
   "source": [
    "c = pd.DataFrame(y_test)\n",
    "c[\"r\"] = list(res)"
   ]
  },
  {
   "cell_type": "code",
   "execution_count": 71,
   "metadata": {
    "collapsed": false
   },
   "outputs": [
    {
     "data": {
      "text/plain": [
       "26993"
      ]
     },
     "execution_count": 71,
     "metadata": {},
     "output_type": "execute_result"
    }
   ],
   "source": [
    "len(y[y==True])"
   ]
  },
  {
   "cell_type": "code",
   "execution_count": 20,
   "metadata": {
    "collapsed": false
   },
   "outputs": [
    {
     "data": {
      "text/html": [
       "<div>\n",
       "<table border=\"1\" class=\"dataframe\">\n",
       "  <thead>\n",
       "    <tr style=\"text-align: right;\">\n",
       "      <th></th>\n",
       "      <th>a</th>\n",
       "      <th>c</th>\n",
       "      <th>g</th>\n",
       "      <th>t</th>\n",
       "      <th>gene</th>\n",
       "    </tr>\n",
       "  </thead>\n",
       "  <tbody>\n",
       "    <tr>\n",
       "      <th>0</th>\n",
       "      <td>11</td>\n",
       "      <td>5</td>\n",
       "      <td>28</td>\n",
       "      <td>6</td>\n",
       "      <td>False</td>\n",
       "    </tr>\n",
       "    <tr>\n",
       "      <th>1</th>\n",
       "      <td>14</td>\n",
       "      <td>10</td>\n",
       "      <td>13</td>\n",
       "      <td>13</td>\n",
       "      <td>False</td>\n",
       "    </tr>\n",
       "    <tr>\n",
       "      <th>2</th>\n",
       "      <td>19</td>\n",
       "      <td>8</td>\n",
       "      <td>16</td>\n",
       "      <td>7</td>\n",
       "      <td>False</td>\n",
       "    </tr>\n",
       "    <tr>\n",
       "      <th>3</th>\n",
       "      <td>17</td>\n",
       "      <td>6</td>\n",
       "      <td>17</td>\n",
       "      <td>10</td>\n",
       "      <td>False</td>\n",
       "    </tr>\n",
       "    <tr>\n",
       "      <th>4</th>\n",
       "      <td>23</td>\n",
       "      <td>8</td>\n",
       "      <td>11</td>\n",
       "      <td>8</td>\n",
       "      <td>False</td>\n",
       "    </tr>\n",
       "  </tbody>\n",
       "</table>\n",
       "</div>"
      ],
      "text/plain": [
       "    a   c   g   t   gene\n",
       "0  11   5  28   6  False\n",
       "1  14  10  13  13  False\n",
       "2  19   8  16   7  False\n",
       "3  17   6  17  10  False\n",
       "4  23   8  11   8  False"
      ]
     },
     "execution_count": 20,
     "metadata": {},
     "output_type": "execute_result"
    }
   ],
   "source": [
    "df.head()"
   ]
  },
  {
   "cell_type": "code",
   "execution_count": null,
   "metadata": {
    "collapsed": true
   },
   "outputs": [],
   "source": [
    "clf = DecisionTreeClassifier(random_state=0)\n",
    "clf.fit_transform()"
   ]
  },
  {
   "cell_type": "code",
   "execution_count": 26,
   "metadata": {
    "collapsed": false
   },
   "outputs": [
    {
     "data": {
      "text/plain": [
       "10056"
      ]
     },
     "execution_count": 26,
     "metadata": {},
     "output_type": "execute_result"
    }
   ],
   "source": [
    "len(df[df.gene == False])"
   ]
  },
  {
   "cell_type": "code",
   "execution_count": 25,
   "metadata": {
    "collapsed": false
   },
   "outputs": [
    {
     "data": {
      "text/plain": [
       "26993"
      ]
     },
     "execution_count": 25,
     "metadata": {},
     "output_type": "execute_result"
    }
   ],
   "source": [
    "len(df[df.gene == True])"
   ]
  },
  {
   "cell_type": "code",
   "execution_count": 64,
   "metadata": {
    "collapsed": false
   },
   "outputs": [
    {
     "data": {
      "text/plain": [
       "[[6, 11, 5, 28],\n",
       " [13, 14, 10, 13],\n",
       " [19, 7, 8, 16],\n",
       " [17, 10, 6, 17],\n",
       " [23, 8, 8, 11],\n",
       " [12, 16, 7, 15],\n",
       " [14, 9, 8, 19],\n",
       " [20, 8, 6, 16],\n",
       " [14, 8, 7, 21],\n",
       " [17, 9, 7, 17],\n",
       " [5, 21, 14, 10],\n",
       " [5, 18, 7, 20],\n",
       " [14, 14, 8, 14],\n",
       " [13, 7, 11, 19],\n",
       " [6, 20, 6, 18],\n",
       " [20, 6, 8, 16],\n",
       " [8, 17, 8, 17],\n",
       " [5, 18, 7, 20],\n",
       " [16, 7, 11, 16],\n",
       " [22, 5, 13, 10],\n",
       " [17, 10, 5, 18],\n",
       " [8, 16, 11, 15],\n",
       " [19, 4, 7, 20],\n",
       " [12, 15, 6, 17],\n",
       " [9, 16, 7, 18],\n",
       " [17, 12, 12, 9],\n",
       " [17, 10, 9, 14],\n",
       " [6, 22, 8, 14],\n",
       " [19, 11, 8, 12],\n",
       " [18, 10, 9, 13],\n",
       " [22, 8, 11, 9],\n",
       " [7, 29, 5, 9],\n",
       " [16, 6, 8, 20],\n",
       " [6, 14, 11, 19],\n",
       " [19, 4, 7, 20],\n",
       " [18, 3, 9, 20],\n",
       " [4, 18, 10, 18],\n",
       " [18, 9, 10, 13],\n",
       " [18, 8, 7, 17],\n",
       " [13, 6, 6, 25],\n",
       " [23, 7, 7, 13],\n",
       " [11, 19, 5, 15],\n",
       " [7, 17, 11, 15],\n",
       " [19, 7, 8, 16],\n",
       " [17, 9, 6, 18],\n",
       " [17, 9, 10, 14],\n",
       " [15, 8, 7, 20],\n",
       " [18, 9, 6, 17],\n",
       " [10, 14, 11, 15],\n",
       " [16, 6, 12, 16],\n",
       " [10, 15, 8, 17],\n",
       " [8, 11, 15, 16],\n",
       " [15, 8, 8, 19],\n",
       " [16, 13, 6, 15],\n",
       " [8, 13, 10, 19],\n",
       " [22, 4, 8, 16],\n",
       " [10, 16, 13, 11],\n",
       " [22, 6, 10, 12],\n",
       " [10, 20, 1, 19],\n",
       " [9, 18, 6, 17],\n",
       " [13, 22, 4, 11],\n",
       " [17, 11, 6, 16],\n",
       " [10, 20, 6, 14],\n",
       " [18, 4, 9, 19],\n",
       " [17, 9, 6, 18],\n",
       " [21, 12, 7, 10],\n",
       " [21, 6, 9, 14],\n",
       " [23, 11, 3, 13],\n",
       " [9, 3, 9, 29],\n",
       " [12, 16, 5, 17],\n",
       " [7, 19, 9, 15],\n",
       " [14, 11, 11, 14],\n",
       " [15, 15, 6, 14],\n",
       " [19, 5, 11, 15],\n",
       " [16, 15, 4, 15],\n",
       " [11, 11, 7, 21],\n",
       " [16, 14, 6, 14],\n",
       " [16, 6, 8, 20],\n",
       " [19, 11, 8, 12],\n",
       " [24, 9, 4, 13],\n",
       " [17, 14, 6, 13],\n",
       " [18, 7, 7, 18],\n",
       " [17, 11, 5, 17],\n",
       " [10, 17, 8, 15],\n",
       " [15, 13, 8, 14],\n",
       " [14, 16, 6, 14],\n",
       " [8, 15, 11, 16],\n",
       " [14, 16, 6, 14],\n",
       " [15, 10, 9, 16],\n",
       " [13, 10, 10, 17],\n",
       " [22, 14, 7, 7],\n",
       " [12, 16, 5, 17],\n",
       " [17, 9, 9, 15],\n",
       " [20, 14, 4, 12],\n",
       " [22, 7, 6, 15],\n",
       " [19, 7, 7, 17],\n",
       " [20, 8, 5, 17],\n",
       " [19, 7, 10, 14],\n",
       " [18, 6, 5, 21],\n",
       " [17, 15, 6, 12],\n",
       " [18, 8, 10, 14],\n",
       " [11, 16, 7, 16],\n",
       " [16, 9, 9, 16],\n",
       " [17, 9, 7, 17],\n",
       " [8, 22, 3, 17],\n",
       " [18, 8, 10, 14],\n",
       " [16, 14, 7, 13],\n",
       " [9, 17, 7, 17],\n",
       " [19, 8, 8, 15],\n",
       " [13, 11, 8, 18],\n",
       " [8, 18, 9, 15],\n",
       " [9, 14, 6, 21],\n",
       " [17, 9, 9, 15],\n",
       " [20, 8, 7, 15],\n",
       " [15, 13, 9, 13],\n",
       " [18, 11, 6, 15],\n",
       " [12, 12, 5, 21],\n",
       " [20, 5, 8, 17],\n",
       " [12, 11, 7, 20],\n",
       " [25, 8, 8, 9],\n",
       " [19, 9, 4, 18],\n",
       " [19, 6, 5, 20],\n",
       " [7, 16, 8, 19],\n",
       " [18, 10, 5, 17],\n",
       " [18, 7, 10, 15],\n",
       " [15, 8, 11, 16],\n",
       " [18, 9, 9, 14],\n",
       " [13, 10, 6, 21],\n",
       " [22, 9, 7, 12],\n",
       " [17, 6, 10, 17],\n",
       " [8, 14, 10, 18],\n",
       " [12, 12, 6, 20],\n",
       " [8, 22, 9, 11],\n",
       " [11, 18, 6, 15],\n",
       " [14, 9, 9, 18],\n",
       " [11, 17, 7, 15],\n",
       " [17, 4, 11, 18],\n",
       " [21, 8, 7, 14],\n",
       " [20, 11, 9, 10],\n",
       " [18, 11, 6, 15],\n",
       " [14, 10, 10, 16],\n",
       " [11, 17, 5, 17],\n",
       " [16, 12, 7, 15],\n",
       " [17, 15, 6, 12],\n",
       " [16, 10, 12, 12],\n",
       " [8, 17, 13, 12],\n",
       " [14, 15, 7, 14],\n",
       " [20, 9, 10, 11],\n",
       " [12, 11, 7, 20],\n",
       " [20, 13, 4, 13],\n",
       " [17, 6, 12, 15],\n",
       " [11, 13, 8, 18],\n",
       " [17, 5, 14, 14],\n",
       " [13, 15, 10, 12],\n",
       " [21, 7, 5, 17],\n",
       " [12, 14, 9, 15],\n",
       " [19, 9, 5, 17],\n",
       " [16, 10, 9, 15],\n",
       " [14, 10, 6, 20],\n",
       " [15, 12, 9, 14],\n",
       " [13, 11, 10, 16],\n",
       " [15, 12, 7, 16],\n",
       " [16, 13, 5, 16],\n",
       " [9, 12, 8, 21],\n",
       " [16, 13, 9, 12],\n",
       " [19, 8, 9, 14],\n",
       " [19, 9, 8, 14],\n",
       " [10, 20, 6, 14],\n",
       " [12, 11, 8, 19],\n",
       " [10, 18, 8, 14],\n",
       " [14, 6, 7, 23],\n",
       " [7, 19, 11, 13],\n",
       " [15, 11, 10, 14],\n",
       " [20, 12, 1, 17],\n",
       " [5, 27, 3, 15],\n",
       " [19, 8, 8, 15],\n",
       " [15, 7, 7, 21],\n",
       " [27, 9, 3, 11],\n",
       " [17, 9, 8, 16],\n",
       " [20, 15, 4, 11],\n",
       " [24, 5, 7, 14],\n",
       " [10, 22, 3, 15],\n",
       " [25, 10, 5, 10],\n",
       " [6, 22, 5, 17],\n",
       " [30, 7, 4, 9],\n",
       " [14, 11, 3, 22],\n",
       " [7, 17, 6, 20],\n",
       " [24, 11, 3, 12],\n",
       " [28, 7, 5, 10],\n",
       " [21, 11, 6, 12],\n",
       " [18, 7, 8, 17],\n",
       " [21, 7, 6, 16],\n",
       " [8, 29, 5, 8],\n",
       " [20, 11, 5, 14],\n",
       " [5, 17, 8, 20],\n",
       " [20, 6, 9, 15],\n",
       " [20, 3, 11, 16],\n",
       " [11, 19, 8, 12],\n",
       " [16, 6, 11, 17],\n",
       " [12, 12, 6, 20],\n",
       " [17, 9, 5, 19],\n",
       " [17, 8, 10, 15],\n",
       " [13, 4, 12, 21],\n",
       " [11, 17, 9, 13],\n",
       " [19, 9, 9, 13],\n",
       " [23, 3, 7, 17],\n",
       " [23, 7, 9, 11],\n",
       " [7, 17, 10, 16],\n",
       " [27, 6, 5, 12],\n",
       " [12, 16, 4, 18],\n",
       " [20, 10, 6, 14],\n",
       " [19, 7, 7, 17],\n",
       " [10, 16, 9, 15],\n",
       " [12, 12, 10, 16],\n",
       " [18, 6, 8, 18],\n",
       " [21, 4, 11, 14],\n",
       " [17, 10, 6, 17],\n",
       " [4, 15, 7, 24],\n",
       " [16, 10, 6, 18],\n",
       " [24, 5, 6, 15],\n",
       " [18, 11, 6, 15],\n",
       " [6, 16, 7, 21],\n",
       " [20, 8, 8, 14],\n",
       " [19, 9, 6, 16],\n",
       " [16, 11, 7, 16],\n",
       " [17, 6, 4, 23],\n",
       " [19, 9, 10, 12],\n",
       " [16, 15, 9, 10],\n",
       " [6, 17, 9, 18],\n",
       " [6, 17, 7, 20],\n",
       " [22, 8, 4, 16],\n",
       " [18, 8, 8, 16],\n",
       " [17, 5, 10, 18],\n",
       " [20, 5, 7, 18],\n",
       " [6, 19, 5, 20],\n",
       " [19, 4, 10, 17],\n",
       " [24, 2, 5, 19],\n",
       " [22, 10, 5, 13],\n",
       " [18, 6, 6, 20],\n",
       " [16, 9, 7, 18],\n",
       " [14, 8, 8, 20],\n",
       " [26, 6, 5, 13],\n",
       " [12, 17, 4, 17],\n",
       " [22, 8, 3, 17],\n",
       " [13, 19, 6, 12],\n",
       " [22, 5, 7, 16],\n",
       " [29, 6, 6, 9],\n",
       " [15, 11, 5, 19],\n",
       " [18, 8, 6, 18],\n",
       " [17, 13, 5, 15],\n",
       " [21, 9, 4, 16],\n",
       " [17, 9, 10, 14],\n",
       " [17, 9, 8, 16],\n",
       " [19, 6, 5, 20],\n",
       " [10, 13, 9, 18],\n",
       " [23, 10, 3, 14],\n",
       " [23, 5, 2, 20],\n",
       " [15, 6, 5, 24],\n",
       " [7, 22, 11, 10],\n",
       " [16, 11, 7, 16],\n",
       " [24, 10, 4, 12],\n",
       " [16, 12, 8, 14],\n",
       " [17, 7, 10, 16],\n",
       " [13, 21, 7, 9],\n",
       " [8, 9, 7, 26],\n",
       " [18, 11, 6, 15],\n",
       " [10, 21, 7, 12],\n",
       " [21, 13, 6, 10],\n",
       " [22, 6, 4, 18],\n",
       " [19, 9, 12, 10],\n",
       " [16, 12, 8, 14],\n",
       " [8, 15, 6, 21],\n",
       " [12, 14, 7, 17],\n",
       " [9, 15, 10, 16],\n",
       " [12, 17, 11, 10],\n",
       " [14, 15, 5, 16],\n",
       " [12, 11, 9, 18],\n",
       " [12, 14, 8, 16],\n",
       " [19, 7, 8, 16],\n",
       " [14, 13, 9, 14],\n",
       " [17, 10, 6, 17],\n",
       " [14, 13, 7, 16],\n",
       " [20, 11, 8, 11],\n",
       " [11, 12, 7, 20],\n",
       " [14, 13, 8, 15],\n",
       " [8, 19, 10, 13],\n",
       " [12, 16, 4, 18],\n",
       " [17, 10, 11, 12],\n",
       " [16, 17, 7, 10],\n",
       " [16, 11, 11, 12],\n",
       " [16, 11, 10, 13],\n",
       " [19, 7, 11, 13],\n",
       " [7, 18, 9, 16],\n",
       " [9, 20, 8, 13],\n",
       " [18, 9, 6, 17],\n",
       " [27, 8, 5, 10],\n",
       " [16, 5, 9, 20],\n",
       " [19, 11, 5, 15],\n",
       " [17, 7, 4, 22],\n",
       " [20, 6, 4, 20],\n",
       " [9, 25, 6, 10],\n",
       " [22, 4, 8, 16],\n",
       " [6, 24, 6, 14],\n",
       " [16, 10, 6, 18],\n",
       " [14, 11, 9, 16],\n",
       " [13, 9, 11, 17],\n",
       " [10, 9, 8, 23],\n",
       " [11, 13, 8, 18],\n",
       " [11, 12, 6, 21],\n",
       " [12, 14, 5, 19],\n",
       " [20, 6, 8, 16],\n",
       " [11, 11, 7, 21],\n",
       " [9, 15, 7, 19],\n",
       " [11, 6, 6, 27],\n",
       " [13, 9, 8, 20],\n",
       " [11, 12, 7, 20],\n",
       " [11, 15, 4, 20],\n",
       " [5, 19, 10, 16],\n",
       " [16, 7, 11, 16],\n",
       " [16, 9, 8, 17],\n",
       " [10, 12, 8, 20],\n",
       " [16, 7, 8, 19],\n",
       " [6, 17, 8, 19],\n",
       " [17, 7, 11, 15],\n",
       " [12, 12, 6, 20],\n",
       " [7, 13, 7, 23],\n",
       " [25, 9, 7, 9],\n",
       " [13, 6, 12, 19],\n",
       " [14, 8, 7, 21],\n",
       " [21, 4, 7, 18],\n",
       " [19, 7, 4, 20],\n",
       " [22, 6, 6, 16],\n",
       " [15, 8, 9, 18],\n",
       " [6, 23, 6, 15],\n",
       " [22, 4, 5, 19],\n",
       " [26, 6, 3, 15],\n",
       " [12, 20, 6, 12],\n",
       " [9, 21, 7, 13],\n",
       " [12, 19, 7, 12],\n",
       " [14, 20, 6, 10],\n",
       " [21, 12, 10, 7],\n",
       " [18, 12, 9, 11],\n",
       " [16, 12, 11, 11],\n",
       " [13, 16, 12, 9],\n",
       " [19, 13, 8, 10],\n",
       " [11, 17, 8, 14],\n",
       " [17, 12, 9, 12],\n",
       " [16, 14, 13, 7],\n",
       " [19, 11, 13, 7],\n",
       " [16, 12, 13, 9],\n",
       " [18, 15, 6, 11],\n",
       " [15, 15, 14, 6],\n",
       " [17, 11, 9, 13],\n",
       " [14, 13, 9, 14],\n",
       " [15, 18, 6, 11],\n",
       " [15, 18, 7, 10],\n",
       " [9, 19, 12, 10],\n",
       " [16, 13, 11, 10],\n",
       " [15, 9, 13, 13],\n",
       " [18, 14, 11, 7],\n",
       " [16, 15, 11, 8],\n",
       " [11, 10, 15, 14],\n",
       " [18, 6, 10, 16],\n",
       " [14, 11, 12, 13],\n",
       " [15, 14, 11, 10],\n",
       " [13, 13, 13, 11],\n",
       " [16, 13, 12, 9],\n",
       " [13, 9, 14, 14],\n",
       " [16, 13, 12, 9],\n",
       " [10, 11, 19, 10],\n",
       " [17, 13, 11, 9],\n",
       " [20, 12, 7, 11],\n",
       " [9, 13, 10, 18],\n",
       " [19, 6, 10, 15],\n",
       " [12, 14, 15, 9],\n",
       " [18, 7, 13, 12],\n",
       " [14, 10, 13, 13],\n",
       " [14, 9, 9, 18],\n",
       " [21, 5, 8, 16],\n",
       " [24, 9, 6, 11],\n",
       " [23, 7, 2, 18],\n",
       " [19, 13, 11, 7],\n",
       " [14, 16, 9, 11],\n",
       " [15, 13, 10, 12],\n",
       " [20, 15, 8, 7],\n",
       " [16, 19, 10, 5],\n",
       " [12, 17, 10, 11],\n",
       " [23, 13, 6, 8],\n",
       " [11, 13, 11, 15],\n",
       " [15, 10, 16, 9],\n",
       " [17, 15, 9, 9],\n",
       " [17, 14, 13, 6],\n",
       " [17, 10, 10, 13],\n",
       " [19, 16, 5, 10],\n",
       " [15, 11, 11, 13],\n",
       " [17, 14, 10, 9],\n",
       " [19, 13, 8, 10],\n",
       " [15, 11, 10, 14],\n",
       " [19, 9, 7, 15],\n",
       " [9, 16, 15, 10],\n",
       " [17, 15, 9, 9],\n",
       " [19, 11, 13, 7],\n",
       " [15, 14, 8, 13],\n",
       " [15, 12, 12, 11],\n",
       " [14, 16, 10, 10],\n",
       " [12, 20, 6, 12],\n",
       " [19, 18, 6, 7],\n",
       " [11, 13, 16, 10],\n",
       " [18, 14, 9, 9],\n",
       " [14, 16, 6, 14],\n",
       " [16, 16, 9, 9],\n",
       " [14, 15, 6, 15],\n",
       " [15, 12, 9, 14],\n",
       " [15, 11, 14, 10],\n",
       " [14, 16, 10, 10],\n",
       " [17, 11, 12, 10],\n",
       " [18, 8, 13, 11],\n",
       " [11, 22, 7, 10],\n",
       " [15, 14, 12, 9],\n",
       " [14, 12, 11, 13],\n",
       " [15, 13, 12, 10],\n",
       " [15, 16, 9, 10],\n",
       " [12, 10, 11, 17],\n",
       " [13, 17, 10, 10],\n",
       " [12, 10, 10, 18],\n",
       " [8, 18, 13, 11],\n",
       " [15, 14, 11, 10],\n",
       " [17, 15, 8, 10],\n",
       " [19, 12, 10, 9],\n",
       " [15, 13, 13, 9],\n",
       " [9, 15, 15, 11],\n",
       " [18, 5, 15, 12],\n",
       " [11, 17, 12, 10],\n",
       " [11, 16, 11, 12],\n",
       " [12, 15, 12, 11],\n",
       " [18, 14, 7, 11],\n",
       " [9, 15, 13, 13],\n",
       " [17, 16, 5, 12],\n",
       " [9, 20, 8, 13],\n",
       " [12, 14, 6, 18],\n",
       " [20, 10, 7, 13],\n",
       " [15, 10, 16, 9],\n",
       " [16, 10, 10, 14],\n",
       " [14, 14, 11, 11],\n",
       " [13, 13, 11, 13],\n",
       " [17, 8, 15, 10],\n",
       " [12, 13, 9, 16],\n",
       " [14, 12, 8, 16],\n",
       " [18, 11, 10, 11],\n",
       " [17, 10, 12, 11],\n",
       " [14, 11, 12, 13],\n",
       " [16, 12, 8, 14],\n",
       " [12, 16, 9, 13],\n",
       " [21, 5, 12, 12],\n",
       " [14, 12, 13, 11],\n",
       " [9, 10, 13, 18],\n",
       " [14, 14, 11, 11],\n",
       " [10, 17, 8, 15],\n",
       " [14, 11, 12, 13],\n",
       " [14, 19, 7, 10],\n",
       " [22, 11, 10, 7],\n",
       " [12, 18, 9, 11],\n",
       " [16, 12, 11, 11],\n",
       " [17, 13, 11, 9],\n",
       " [18, 13, 9, 10],\n",
       " [18, 11, 8, 13],\n",
       " [17, 11, 9, 13],\n",
       " [14, 16, 13, 7],\n",
       " [12, 18, 13, 7],\n",
       " [17, 12, 13, 8],\n",
       " [17, 15, 6, 12],\n",
       " [16, 15, 13, 6],\n",
       " [17, 10, 10, 13],\n",
       " [14, 13, 9, 14],\n",
       " [19, 15, 5, 11],\n",
       " [14, 18, 8, 10],\n",
       " [10, 19, 11, 10],\n",
       " [16, 12, 12, 10],\n",
       " [16, 9, 13, 12],\n",
       " [17, 14, 11, 8],\n",
       " [17, 14, 11, 8],\n",
       " [12, 10, 14, 14],\n",
       " [18, 6, 11, 15],\n",
       " [15, 11, 11, 13],\n",
       " [14, 14, 12, 10],\n",
       " [13, 13, 13, 11],\n",
       " [13, 16, 12, 9],\n",
       " [13, 9, 14, 14],\n",
       " [14, 15, 12, 9],\n",
       " [11, 11, 18, 10],\n",
       " [17, 12, 12, 9],\n",
       " [13, 20, 7, 10],\n",
       " [9, 13, 10, 18],\n",
       " [18, 6, 10, 16],\n",
       " [15, 12, 15, 8],\n",
       " [18, 6, 13, 13],\n",
       " [11, 13, 13, 13],\n",
       " [14, 9, 9, 18],\n",
       " [22, 5, 8, 15],\n",
       " [24, 9, 6, 11],\n",
       " [22, 7, 2, 19],\n",
       " [13, 19, 11, 7],\n",
       " [15, 16, 8, 11],\n",
       " [15, 13, 11, 11],\n",
       " [20, 14, 8, 8],\n",
       " [19, 16, 10, 5],\n",
       " [18, 12, 10, 10],\n",
       " [23, 13, 5, 9],\n",
       " [10, 13, 12, 15],\n",
       " [11, 15, 14, 10],\n",
       " [17, 14, 9, 10],\n",
       " [15, 16, 13, 6],\n",
       " [11, 17, 9, 13],\n",
       " [19, 15, 6, 10],\n",
       " [16, 11, 10, 13],\n",
       " [16, 15, 9, 10],\n",
       " [19, 12, 9, 10],\n",
       " [16, 10, 10, 14],\n",
       " [19, 9, 7, 15],\n",
       " [10, 16, 14, 10],\n",
       " [15, 15, 10, 10],\n",
       " [20, 10, 13, 7],\n",
       " [15, 14, 8, 13],\n",
       " [16, 12, 12, 10],\n",
       " [14, 16, 9, 11],\n",
       " [12, 20, 7, 11],\n",
       " [18, 18, 6, 8],\n",
       " [14, 11, 15, 10],\n",
       " [18, 13, 10, 9],\n",
       " [15, 15, 6, 14],\n",
       " [17, 15, 9, 9],\n",
       " [15, 14, 6, 15],\n",
       " [16, 11, 9, 14],\n",
       " [12, 14, 14, 10],\n",
       " [16, 14, 10, 10],\n",
       " [12, 17, 12, 9],\n",
       " [18, 7, 13, 12],\n",
       " [22, 11, 7, 10],\n",
       " [16, 14, 11, 9],\n",
       " [14, 12, 10, 14],\n",
       " [15, 13, 13, 9],\n",
       " [14, 16, 9, 11],\n",
       " [11, 12, 11, 16],\n",
       " [13, 17, 9, 11],\n",
       " [12, 10, 11, 17],\n",
       " [8, 18, 12, 12],\n",
       " [14, 14, 12, 10],\n",
       " [17, 15, 8, 10],\n",
       " [12, 19, 10, 9],\n",
       " [16, 13, 12, 9],\n",
       " [9, 15, 16, 10],\n",
       " [18, 4, 15, 13],\n",
       " [12, 17, 11, 10],\n",
       " [11, 15, 12, 12],\n",
       " [16, 11, 12, 11],\n",
       " [15, 17, 7, 11],\n",
       " [10, 15, 12, 13],\n",
       " [17, 15, 6, 12],\n",
       " [21, 9, 8, 12],\n",
       " [11, 14, 6, 19],\n",
       " [11, 20, 6, 13],\n",
       " [14, 10, 17, 9],\n",
       " [11, 16, 9, 14],\n",
       " [13, 14, 12, 11],\n",
       " [9, 14, 11, 16],\n",
       " [12, 10, 13, 15],\n",
       " [14, 9, 12, 15],\n",
       " [20, 9, 10, 11],\n",
       " [8, 11, 11, 20],\n",
       " [11, 15, 14, 10],\n",
       " [14, 14, 10, 12],\n",
       " [15, 12, 12, 11],\n",
       " [9, 15, 12, 14],\n",
       " [15, 9, 14, 12],\n",
       " [11, 17, 6, 16],\n",
       " [6, 14, 14, 16],\n",
       " [13, 11, 10, 16],\n",
       " [6, 14, 13, 17],\n",
       " [20, 9, 11, 10],\n",
       " [12, 13, 10, 15],\n",
       " [19, 12, 8, 11],\n",
       " [9, 13, 8, 20],\n",
       " [18, 10, 5, 17],\n",
       " [22, 4, 6, 18],\n",
       " [15, 10, 8, 17],\n",
       " [13, 11, 4, 22],\n",
       " [16, 5, 4, 25],\n",
       " [14, 22, 2, 12],\n",
       " [12, 11, 5, 22],\n",
       " [12, 18, 7, 13],\n",
       " [13, 13, 6, 18],\n",
       " [16, 11, 5, 18],\n",
       " [14, 16, 6, 14],\n",
       " [17, 13, 7, 13],\n",
       " [17, 9, 8, 16],\n",
       " [14, 8, 9, 19],\n",
       " [17, 6, 6, 21],\n",
       " [12, 10, 7, 21],\n",
       " [16, 9, 4, 21],\n",
       " [20, 10, 5, 15],\n",
       " [16, 11, 4, 19],\n",
       " [19, 7, 6, 18],\n",
       " [23, 9, 3, 15],\n",
       " [22, 8, 4, 16],\n",
       " [9, 21, 6, 14],\n",
       " [19, 12, 3, 16],\n",
       " [4, 17, 4, 25],\n",
       " [18, 5, 3, 24],\n",
       " [5, 13, 6, 26],\n",
       " [17, 3, 5, 25],\n",
       " [10, 19, 2, 19],\n",
       " [15, 12, 8, 15],\n",
       " [18, 13, 7, 12],\n",
       " [20, 7, 11, 12],\n",
       " [19, 8, 11, 12],\n",
       " [12, 18, 10, 10],\n",
       " [8, 22, 6, 14],\n",
       " [20, 7, 7, 16],\n",
       " [15, 7, 7, 21],\n",
       " [8, 20, 9, 13],\n",
       " [20, 9, 11, 10],\n",
       " [21, 8, 10, 11],\n",
       " [15, 8, 11, 16],\n",
       " [19, 9, 9, 13],\n",
       " [17, 13, 12, 8],\n",
       " [20, 12, 11, 7],\n",
       " [17, 8, 17, 8],\n",
       " [11, 10, 16, 13],\n",
       " [7, 17, 12, 14],\n",
       " [14, 15, 8, 13],\n",
       " [15, 12, 8, 15],\n",
       " [19, 9, 8, 14],\n",
       " [15, 10, 9, 16],\n",
       " [14, 13, 11, 12],\n",
       " [5, 16, 9, 20],\n",
       " [12, 9, 7, 22],\n",
       " [15, 13, 3, 19],\n",
       " [23, 9, 4, 14],\n",
       " [14, 3, 7, 26],\n",
       " [12, 22, 3, 13],\n",
       " [17, 8, 6, 19],\n",
       " [13, 13, 10, 14],\n",
       " [18, 11, 5, 16],\n",
       " [14, 5, 11, 20],\n",
       " [15, 13, 5, 17],\n",
       " [15, 10, 12, 13],\n",
       " [9, 14, 9, 18],\n",
       " [12, 12, 8, 18],\n",
       " [10, 11, 9, 20],\n",
       " [10, 15, 5, 20],\n",
       " [14, 11, 10, 15],\n",
       " [16, 10, 11, 13],\n",
       " [19, 14, 5, 12],\n",
       " [13, 12, 8, 17],\n",
       " [10, 18, 11, 11],\n",
       " [11, 9, 15, 15],\n",
       " [18, 6, 10, 16],\n",
       " [17, 10, 5, 18],\n",
       " [13, 10, 8, 19],\n",
       " [16, 9, 9, 16],\n",
       " [14, 18, 1, 17],\n",
       " [21, 9, 4, 16],\n",
       " [26, 10, 5, 9],\n",
       " [18, 10, 7, 15],\n",
       " [19, 9, 5, 17],\n",
       " [5, 18, 13, 14],\n",
       " [10, 12, 5, 23],\n",
       " [6, 17, 5, 22],\n",
       " [12, 10, 10, 18],\n",
       " [18, 8, 6, 18],\n",
       " [18, 11, 3, 18],\n",
       " [13, 10, 6, 21],\n",
       " [8, 7, 13, 22],\n",
       " [6, 17, 10, 17],\n",
       " [7, 17, 8, 18],\n",
       " [8, 20, 7, 15],\n",
       " [19, 10, 5, 16],\n",
       " [21, 10, 2, 17],\n",
       " [11, 15, 5, 19],\n",
       " [23, 10, 2, 15],\n",
       " [18, 14, 7, 11],\n",
       " [18, 11, 5, 16],\n",
       " [17, 5, 11, 17],\n",
       " [10, 18, 5, 17],\n",
       " [16, 12, 10, 12],\n",
       " [20, 14, 7, 9],\n",
       " [7, 18, 6, 19],\n",
       " [15, 9, 11, 15],\n",
       " [12, 17, 6, 15],\n",
       " [13, 9, 8, 20],\n",
       " [10, 19, 8, 13],\n",
       " [17, 9, 11, 13],\n",
       " [12, 14, 7, 17],\n",
       " [14, 14, 6, 16],\n",
       " [21, 11, 7, 11],\n",
       " [19, 12, 6, 13],\n",
       " [13, 14, 9, 14],\n",
       " [11, 11, 6, 22],\n",
       " [8, 20, 9, 13],\n",
       " [19, 13, 6, 12],\n",
       " [19, 11, 6, 14],\n",
       " [23, 8, 6, 13],\n",
       " [15, 9, 4, 22],\n",
       " [12, 14, 4, 20],\n",
       " [15, 10, 4, 21],\n",
       " [19, 5, 7, 19],\n",
       " [23, 4, 3, 20],\n",
       " [24, 9, 6, 11],\n",
       " [24, 8, 5, 13],\n",
       " [12, 19, 6, 13],\n",
       " [18, 13, 7, 12],\n",
       " [15, 10, 6, 19],\n",
       " [26, 6, 4, 14],\n",
       " [13, 13, 10, 14],\n",
       " [15, 14, 5, 16],\n",
       " [17, 9, 7, 17],\n",
       " [16, 14, 2, 18],\n",
       " [12, 14, 8, 16],\n",
       " [14, 12, 7, 17],\n",
       " [14, 10, 9, 17],\n",
       " [18, 13, 7, 12],\n",
       " [12, 14, 7, 17],\n",
       " [22, 15, 6, 7],\n",
       " [11, 5, 16, 18],\n",
       " [10, 16, 4, 20],\n",
       " [14, 13, 7, 16],\n",
       " [11, 11, 10, 18],\n",
       " [15, 9, 8, 18],\n",
       " [14, 13, 11, 12],\n",
       " [8, 12, 11, 19],\n",
       " [13, 13, 9, 15],\n",
       " [17, 11, 10, 12],\n",
       " [15, 10, 10, 15],\n",
       " [12, 10, 12, 16],\n",
       " [7, 15, 9, 19],\n",
       " [17, 11, 9, 13],\n",
       " [7, 14, 12, 17],\n",
       " [14, 12, 10, 14],\n",
       " [7, 16, 10, 17],\n",
       " [22, 6, 11, 11],\n",
       " [13, 15, 9, 13],\n",
       " [10, 15, 9, 16],\n",
       " [13, 15, 7, 15],\n",
       " [12, 14, 11, 13],\n",
       " [12, 16, 11, 11],\n",
       " [12, 10, 12, 16],\n",
       " [12, 14, 13, 11],\n",
       " [9, 15, 12, 14],\n",
       " [13, 12, 10, 15],\n",
       " [8, 17, 12, 13],\n",
       " [15, 17, 9, 9],\n",
       " [19, 8, 9, 14],\n",
       " [14, 15, 9, 12],\n",
       " [19, 11, 8, 12],\n",
       " [11, 14, 10, 15],\n",
       " [8, 18, 8, 16],\n",
       " [16, 10, 8, 16],\n",
       " [11, 14, 11, 14],\n",
       " [13, 14, 12, 11],\n",
       " [11, 14, 10, 15],\n",
       " [12, 11, 11, 16],\n",
       " [14, 13, 8, 15],\n",
       " [17, 11, 13, 9],\n",
       " [6, 15, 15, 14],\n",
       " [12, 10, 14, 14],\n",
       " [16, 10, 11, 13],\n",
       " [16, 8, 11, 15],\n",
       " [13, 9, 14, 14],\n",
       " [14, 8, 13, 15],\n",
       " [16, 13, 8, 13],\n",
       " [9, 10, 11, 20],\n",
       " [13, 13, 10, 14],\n",
       " [12, 14, 16, 8],\n",
       " [9, 13, 13, 15],\n",
       " [8, 16, 7, 19],\n",
       " [16, 9, 13, 12],\n",
       " [12, 11, 10, 17],\n",
       " [12, 13, 11, 14],\n",
       " [13, 11, 11, 15],\n",
       " [12, 17, 10, 11],\n",
       " [12, 13, 13, 12],\n",
       " [12, 16, 9, 13],\n",
       " [11, 19, 7, 13],\n",
       " [13, 8, 14, 15],\n",
       " [14, 11, 9, 16],\n",
       " [12, 13, 8, 17],\n",
       " [12, 11, 10, 17],\n",
       " [11, 14, 9, 16],\n",
       " [13, 14, 12, 11],\n",
       " [9, 10, 12, 19],\n",
       " [16, 11, 11, 12],\n",
       " [12, 15, 9, 14],\n",
       " [10, 14, 12, 14],\n",
       " [11, 12, 10, 17],\n",
       " [17, 14, 8, 11],\n",
       " [7, 17, 14, 12],\n",
       " [19, 14, 8, 9],\n",
       " [17, 11, 13, 9],\n",
       " [20, 8, 9, 13],\n",
       " [15, 10, 10, 15],\n",
       " [20, 11, 6, 13],\n",
       " [8, 11, 10, 21],\n",
       " [11, 22, 5, 12],\n",
       " [13, 9, 12, 16],\n",
       " [15, 12, 10, 13],\n",
       " [12, 12, 8, 18],\n",
       " [18, 11, 5, 16],\n",
       " [11, 11, 12, 16],\n",
       " [13, 8, 7, 22],\n",
       " [21, 10, 6, 13],\n",
       " [12, 8, 11, 19],\n",
       " [22, 10, 8, 10],\n",
       " [16, 10, 9, 15],\n",
       " [8, 13, 13, 16],\n",
       " [19, 6, 8, 17],\n",
       " [16, 13, 6, 15],\n",
       " [12, 14, 8, 16],\n",
       " [12, 13, 8, 17],\n",
       " [19, 11, 8, 12],\n",
       " [13, 9, 9, 19],\n",
       " [16, 12, 9, 13],\n",
       " [7, 21, 11, 11],\n",
       " [14, 15, 7, 14],\n",
       " [18, 14, 6, 12],\n",
       " [17, 15, 5, 13],\n",
       " [13, 9, 7, 21],\n",
       " [11, 11, 10, 18],\n",
       " [12, 12, 9, 17],\n",
       " [13, 17, 7, 13],\n",
       " [12, 10, 10, 18],\n",
       " [24, 8, 5, 13],\n",
       " [24, 9, 5, 12],\n",
       " [14, 15, 4, 17],\n",
       " [13, 19, 8, 10],\n",
       " [19, 11, 5, 15],\n",
       " [14, 14, 9, 13],\n",
       " [11, 15, 12, 12],\n",
       " [12, 12, 8, 18],\n",
       " [22, 9, 7, 12],\n",
       " [15, 10, 8, 17],\n",
       " [17, 15, 6, 12],\n",
       " [13, 11, 11, 15],\n",
       " [13, 15, 6, 16],\n",
       " [10, 9, 11, 20],\n",
       " [13, 16, 10, 11],\n",
       " [8, 14, 13, 15],\n",
       " [15, 14, 10, 11],\n",
       " [16, 11, 7, 16],\n",
       " [14, 13, 10, 13],\n",
       " [16, 11, 7, 16],\n",
       " [13, 13, 10, 14],\n",
       " [17, 12, 9, 12],\n",
       " [10, 19, 2, 19],\n",
       " [9, 22, 7, 12],\n",
       " [9, 9, 10, 22],\n",
       " [9, 13, 11, 17],\n",
       " [12, 12, 10, 16],\n",
       " [11, 9, 9, 21],\n",
       " [15, 10, 9, 16],\n",
       " [14, 14, 9, 13],\n",
       " [12, 12, 9, 17],\n",
       " [10, 13, 14, 13],\n",
       " [9, 17, 11, 13],\n",
       " [18, 7, 12, 13],\n",
       " [15, 12, 16, 7],\n",
       " [6, 15, 15, 14],\n",
       " [17, 13, 5, 15],\n",
       " [25, 11, 3, 11],\n",
       " [22, 10, 10, 8],\n",
       " [12, 5, 14, 19],\n",
       " [9, 14, 9, 18],\n",
       " [18, 14, 4, 14],\n",
       " [10, 14, 9, 17],\n",
       " [14, 14, 11, 11],\n",
       " [12, 9, 16, 13],\n",
       " [12, 15, 15, 8],\n",
       " [9, 9, 15, 17],\n",
       " [14, 13, 13, 10],\n",
       " [12, 12, 14, 12],\n",
       " [17, 9, 9, 15],\n",
       " [13, 12, 13, 12],\n",
       " [13, 11, 14, 12],\n",
       " [9, 19, 12, 10],\n",
       " [20, 9, 11, 10],\n",
       " [8, 17, 14, 11],\n",
       " [13, 9, 11, 17],\n",
       " [8, 14, 16, 12],\n",
       " [12, 15, 8, 15],\n",
       " [13, 9, 11, 17],\n",
       " [12, 16, 12, 10],\n",
       " [18, 6, 15, 11],\n",
       " [15, 11, 12, 12],\n",
       " [11, 19, 7, 13],\n",
       " [16, 14, 10, 10],\n",
       " [15, 13, 15, 7],\n",
       " [8, 17, 8, 17],\n",
       " [15, 12, 14, 9],\n",
       " [12, 12, 14, 12],\n",
       " [12, 12, 14, 12],\n",
       " [10, 16, 13, 11],\n",
       " [12, 15, 12, 11],\n",
       " [20, 5, 6, 19],\n",
       " [21, 5, 4, 20],\n",
       " [15, 8, 12, 15],\n",
       " [20, 3, 10, 17],\n",
       " [11, 7, 11, 21],\n",
       " [10, 16, 9, 15],\n",
       " [20, 5, 10, 15],\n",
       " [15, 13, 8, 14],\n",
       " [14, 11, 9, 16],\n",
       " [18, 10, 13, 9],\n",
       " [17, 10, 9, 14],\n",
       " [11, 12, 7, 20],\n",
       " [13, 15, 5, 17],\n",
       " [12, 18, 5, 15],\n",
       " [9, 12, 9, 20],\n",
       " [12, 10, 11, 17],\n",
       " [14, 10, 13, 13],\n",
       " [14, 9, 12, 15],\n",
       " [9, 10, 16, 15],\n",
       " [24, 10, 8, 8],\n",
       " [10, 10, 11, 19],\n",
       " [16, 8, 12, 14],\n",
       " [12, 18, 7, 13],\n",
       " [21, 6, 9, 14],\n",
       " [20, 5, 8, 17],\n",
       " [16, 7, 3, 24],\n",
       " [10, 13, 8, 19],\n",
       " [21, 4, 5, 20],\n",
       " [10, 19, 3, 18],\n",
       " [15, 11, 6, 18],\n",
       " [10, 17, 6, 17],\n",
       " [16, 10, 6, 18],\n",
       " [12, 13, 9, 16],\n",
       " [10, 13, 8, 19],\n",
       " [13, 16, 12, 9],\n",
       " [19, 10, 10, 11],\n",
       " [18, 8, 13, 11],\n",
       " [19, 10, 12, 9],\n",
       " [24, 9, 8, 9],\n",
       " [12, 17, 8, 13],\n",
       " [8, 13, 10, 19],\n",
       " [14, 12, 14, 10],\n",
       " [18, 11, 11, 10],\n",
       " [12, 14, 12, 12],\n",
       " [7, 17, 11, 15],\n",
       " [14, 10, 11, 15],\n",
       " [8, 10, 18, 14],\n",
       " [12, 13, 8, 17],\n",
       " [8, 16, 10, 16],\n",
       " [15, 12, 11, 12],\n",
       " [15, 12, 12, 11],\n",
       " [13, 11, 13, 13],\n",
       " [20, 12, 13, 5],\n",
       " [20, 8, 14, 8],\n",
       " [8, 21, 10, 11],\n",
       " [14, 22, 10, 4],\n",
       " [20, 9, 11, 10],\n",
       " [13, 8, 14, 15],\n",
       " [8, 12, 11, 19],\n",
       " [9, 17, 10, 14],\n",
       " [13, 8, 13, 16],\n",
       " [20, 11, 8, 11],\n",
       " [12, 10, 17, 11],\n",
       " [13, 18, 11, 8],\n",
       " [10, 13, 13, 14],\n",
       " [10, 9, 13, 18],\n",
       " [19, 9, 11, 11],\n",
       " [12, 9, 19, 10],\n",
       " [12, 17, 11, 10],\n",
       " [16, 13, 8, 13],\n",
       " [21, 8, 8, 13],\n",
       " [9, 12, 20, 9],\n",
       " [11, 17, 7, 15],\n",
       " [17, 8, 6, 19],\n",
       " [19, 7, 12, 12],\n",
       " [14, 8, 14, 14],\n",
       " [11, 15, 11, 13],\n",
       " [14, 14, 11, 11],\n",
       " [15, 15, 9, 11],\n",
       " [14, 13, 11, 12],\n",
       " [11, 12, 10, 17],\n",
       " [15, 10, 13, 12],\n",
       " [8, 16, 15, 11],\n",
       " [15, 17, 11, 7],\n",
       " [11, 14, 9, 16],\n",
       " [11, 10, 20, 9],\n",
       " [8, 11, 15, 16],\n",
       " [12, 9, 19, 10],\n",
       " [14, 9, 18, 9],\n",
       " [21, 11, 10, 8],\n",
       " [18, 15, 3, 14],\n",
       " [24, 7, 2, 17],\n",
       " [19, 9, 4, 18],\n",
       " [18, 15, 3, 14],\n",
       " [17, 9, 9, 15],\n",
       " [15, 12, 8, 15],\n",
       " [26, 2, 4, 18],\n",
       " [22, 9, 5, 14],\n",
       " [6, 18, 8, 18],\n",
       " ...]"
      ]
     },
     "execution_count": 64,
     "metadata": {},
     "output_type": "execute_result"
    }
   ],
   "source": [
    "t = np.array(result)\n",
    "np.asarray(t).T.tolist()\n",
    "\n",
    "# list(map(list,map(None,*t)))"
   ]
  },
  {
   "cell_type": "code",
   "execution_count": 41,
   "metadata": {
    "collapsed": false
   },
   "outputs": [
    {
     "data": {
      "text/plain": [
       "37049"
      ]
     },
     "execution_count": 41,
     "metadata": {},
     "output_type": "execute_result"
    }
   ],
   "source": [
    "len(result)"
   ]
  },
  {
   "cell_type": "code",
   "execution_count": 15,
   "metadata": {
    "collapsed": true
   },
   "outputs": [],
   "source": [
    "label_1 = gene_label(seg_100_an)"
   ]
  },
  {
   "cell_type": "markdown",
   "metadata": {},
   "source": [
    "## Test the net performance for different window sizes."
   ]
  },
  {
   "cell_type": "code",
   "execution_count": 16,
   "metadata": {
    "collapsed": false
   },
   "outputs": [
    {
     "ename": "ImportError",
     "evalue": "cannot import name 'MLPClassifier'",
     "output_type": "error",
     "traceback": [
      "\u001b[0;31m---------------------------------------------------------------------------\u001b[0m",
      "\u001b[0;31mImportError\u001b[0m                               Traceback (most recent call last)",
      "\u001b[0;32m<ipython-input-16-79a8cbe90082>\u001b[0m in \u001b[0;36m<module>\u001b[0;34m()\u001b[0m\n\u001b[1;32m      1\u001b[0m \u001b[0;32mimport\u001b[0m \u001b[0mos\u001b[0m\u001b[0;34m\u001b[0m\u001b[0m\n\u001b[0;32m----> 2\u001b[0;31m \u001b[0;32mfrom\u001b[0m \u001b[0msklearn\u001b[0m\u001b[0;34m.\u001b[0m\u001b[0mneural_network\u001b[0m \u001b[0;32mimport\u001b[0m \u001b[0mMLPClassifier\u001b[0m\u001b[0;34m\u001b[0m\u001b[0m\n\u001b[0m",
      "\u001b[0;31mImportError\u001b[0m: cannot import name 'MLPClassifier'"
     ]
    }
   ],
   "source": [
    "import os\n",
    "from sklearn.neural_network import MLPClassifier"
   ]
  },
  {
   "cell_type": "code",
   "execution_count": 17,
   "metadata": {
    "collapsed": true
   },
   "outputs": [],
   "source": [
    "import sklearn"
   ]
  },
  {
   "cell_type": "code",
   "execution_count": 18,
   "metadata": {
    "collapsed": false
   },
   "outputs": [
    {
     "data": {
      "text/plain": [
       "'0.17'"
      ]
     },
     "execution_count": 18,
     "metadata": {},
     "output_type": "execute_result"
    }
   ],
   "source": [
    "sklearn.__version__\n"
   ]
  },
  {
   "cell_type": "code",
   "execution_count": 19,
   "metadata": {
    "collapsed": false
   },
   "outputs": [
    {
     "ename": "ImportError",
     "evalue": "No module named 'tensorflow'",
     "output_type": "error",
     "traceback": [
      "\u001b[0;31m---------------------------------------------------------------------------\u001b[0m",
      "\u001b[0;31mImportError\u001b[0m                               Traceback (most recent call last)",
      "\u001b[0;32m<ipython-input-19-a649b509054f>\u001b[0m in \u001b[0;36m<module>\u001b[0;34m()\u001b[0m\n\u001b[0;32m----> 1\u001b[0;31m \u001b[0;32mimport\u001b[0m \u001b[0mtensorflow\u001b[0m\u001b[0;34m\u001b[0m\u001b[0m\n\u001b[0m",
      "\u001b[0;31mImportError\u001b[0m: No module named 'tensorflow'"
     ]
    }
   ],
   "source": [
    "import tensorflow"
   ]
  },
  {
   "cell_type": "markdown",
   "metadata": {},
   "source": [
    "## Test the net performance as a function of the number of hidden nodes."
   ]
  },
  {
   "cell_type": "markdown",
   "metadata": {},
   "source": [
    "## Test the performance both on the data you have fitted the model to and on test data you did not fit the model to (one of the other genomes)."
   ]
  },
  {
   "cell_type": "code",
   "execution_count": 79,
   "metadata": {
    "collapsed": true
   },
   "outputs": [],
   "source": [
    "## Fraction of correct classifications \n",
    " # (the fraction of coding windows you classify as coding and the of non-coding you classify as coding).\n",
    "## The sensitivity: the fraction of coding windows you classify as coding.\n",
    "## The specificity: the fraction of non-coding windows you classify as non-coding."
   ]
  },
  {
   "cell_type": "code",
   "execution_count": 83,
   "metadata": {
    "collapsed": false
   },
   "outputs": [
    {
     "name": "stdout",
     "output_type": "stream",
     "text": [
      "A C G T coding\n"
     ]
    },
    {
     "ename": "FileNotFoundError",
     "evalue": "[Errno 2] No such file or directory: 'genome1.fa'",
     "output_type": "error",
     "traceback": [
      "\u001b[0;31m---------------------------------------------------------------------------\u001b[0m",
      "\u001b[0;31mFileNotFoundError\u001b[0m                         Traceback (most recent call last)",
      "\u001b[0;32m<ipython-input-83-bd440286fd28>\u001b[0m in \u001b[0;36m<module>\u001b[0;34m()\u001b[0m\n\u001b[1;32m     39\u001b[0m \u001b[0;34m\u001b[0m\u001b[0m\n\u001b[1;32m     40\u001b[0m \u001b[0mprint\u001b[0m\u001b[0;34m(\u001b[0m\u001b[0;34m'A C G T coding'\u001b[0m\u001b[0;34m)\u001b[0m\u001b[0;34m\u001b[0m\u001b[0m\n\u001b[0;32m---> 41\u001b[0;31m \u001b[0;32mfor\u001b[0m \u001b[0mseqwin\u001b[0m\u001b[0;34m,\u001b[0m\u001b[0mannwin\u001b[0m \u001b[0;32min\u001b[0m \u001b[0mwindows\u001b[0m\u001b[0;34m(\u001b[0m\u001b[0;34m'genome1.fa'\u001b[0m\u001b[0;34m,\u001b[0m\u001b[0;34m'annotation1.fa'\u001b[0m\u001b[0;34m)\u001b[0m\u001b[0;34m:\u001b[0m\u001b[0;34m\u001b[0m\u001b[0m\n\u001b[0m\u001b[1;32m     42\u001b[0m     \u001b[0mseq_freqs\u001b[0m \u001b[0;34m=\u001b[0m \u001b[0mcounts_to_freqs\u001b[0m\u001b[0;34m(\u001b[0m\u001b[0mchar_count\u001b[0m\u001b[0;34m(\u001b[0m\u001b[0mseqwin\u001b[0m\u001b[0;34m)\u001b[0m\u001b[0;34m)\u001b[0m\u001b[0;34m\u001b[0m\u001b[0m\n\u001b[1;32m     43\u001b[0m     \u001b[0mann_freqs\u001b[0m \u001b[0;34m=\u001b[0m \u001b[0mcounts_to_freqs\u001b[0m\u001b[0;34m(\u001b[0m\u001b[0mchar_count\u001b[0m\u001b[0;34m(\u001b[0m\u001b[0mannwin\u001b[0m\u001b[0;34m)\u001b[0m\u001b[0;34m)\u001b[0m\u001b[0;34m\u001b[0m\u001b[0m\n",
      "\u001b[0;32m<ipython-input-83-bd440286fd28>\u001b[0m in \u001b[0;36mwindows\u001b[0;34m(seqfile, annfile, winsize)\u001b[0m\n\u001b[1;32m     11\u001b[0m     window.'''\n\u001b[1;32m     12\u001b[0m \u001b[0;34m\u001b[0m\u001b[0m\n\u001b[0;32m---> 13\u001b[0;31m     \u001b[0mseq\u001b[0m \u001b[0;34m=\u001b[0m \u001b[0mread_FASTA\u001b[0m\u001b[0;34m(\u001b[0m\u001b[0mseqfile\u001b[0m\u001b[0;34m)\u001b[0m\u001b[0;34m\u001b[0m\u001b[0m\n\u001b[0m\u001b[1;32m     14\u001b[0m     \u001b[0mann\u001b[0m \u001b[0;34m=\u001b[0m \u001b[0mread_FASTA\u001b[0m\u001b[0;34m(\u001b[0m\u001b[0mannfile\u001b[0m\u001b[0;34m)\u001b[0m\u001b[0;34m\u001b[0m\u001b[0m\n\u001b[1;32m     15\u001b[0m \u001b[0;34m\u001b[0m\u001b[0m\n",
      "\u001b[0;32m<ipython-input-83-bd440286fd28>\u001b[0m in \u001b[0;36mread_FASTA\u001b[0;34m(fname)\u001b[0m\n\u001b[1;32m      2\u001b[0m \u001b[0;32mdef\u001b[0m \u001b[0mread_FASTA\u001b[0m\u001b[0;34m(\u001b[0m\u001b[0mfname\u001b[0m\u001b[0;34m)\u001b[0m\u001b[0;34m:\u001b[0m\u001b[0;34m\u001b[0m\u001b[0m\n\u001b[1;32m      3\u001b[0m     \u001b[0;34m'''Reads in a FASTA file and returns the sequence.'''\u001b[0m\u001b[0;34m\u001b[0m\u001b[0m\n\u001b[0;32m----> 4\u001b[0;31m     \u001b[0mlines\u001b[0m \u001b[0;34m=\u001b[0m \u001b[0mopen\u001b[0m\u001b[0;34m(\u001b[0m\u001b[0mfname\u001b[0m\u001b[0;34m)\u001b[0m\u001b[0;34m.\u001b[0m\u001b[0mreadlines\u001b[0m\u001b[0;34m(\u001b[0m\u001b[0;34m)\u001b[0m\u001b[0;34m[\u001b[0m\u001b[0;36m1\u001b[0m\u001b[0;34m:\u001b[0m\u001b[0;34m]\u001b[0m\u001b[0;34m\u001b[0m\u001b[0m\n\u001b[0m\u001b[1;32m      5\u001b[0m     \u001b[0;32mreturn\u001b[0m \u001b[0;34m''\u001b[0m\u001b[0;34m.\u001b[0m\u001b[0mjoin\u001b[0m\u001b[0;34m(\u001b[0m \u001b[0mline\u001b[0m\u001b[0;34m.\u001b[0m\u001b[0mstrip\u001b[0m\u001b[0;34m(\u001b[0m\u001b[0;34m)\u001b[0m \u001b[0;32mfor\u001b[0m \u001b[0mline\u001b[0m \u001b[0;32min\u001b[0m \u001b[0mlines\u001b[0m\u001b[0;34m)\u001b[0m\u001b[0;34m\u001b[0m\u001b[0m\n\u001b[1;32m      6\u001b[0m \u001b[0;34m\u001b[0m\u001b[0m\n",
      "\u001b[0;31mFileNotFoundError\u001b[0m: [Errno 2] No such file or directory: 'genome1.fa'"
     ]
    }
   ],
   "source": [
    "\n",
    "def read_FASTA(fname):\n",
    "    '''Reads in a FASTA file and returns the sequence.'''\n",
    "    lines = open(fname).readlines()[1:]\n",
    "    return ''.join( line.strip() for line in lines)\n",
    "    \n",
    "\n",
    "def windows(seqfile, annfile, winsize = 100):    \n",
    "    '''Iterates through a FASTA sequence together with it's gene\n",
    "    annotation, providing each window together with the annotation\n",
    "    window.'''\n",
    "    \n",
    "    seq = read_FASTA(seqfile)\n",
    "    ann = read_FASTA(annfile)\n",
    "    \n",
    "    assert len(seq) == len(ann)\n",
    "    \n",
    "    for i in xrange( len(seq) / winsize ):\n",
    "        yield seq[i*winsize:(i+1)*winsize], ann[i*winsize:(i+1)*winsize]\n",
    "\n",
    "    # The last part of the sequence isn't a full window, but we still need it\n",
    "    yield seq[(i+1)*winsize:], ann[(i+1)*winsize:]\n",
    "\n",
    "def char_count(seq):\n",
    "    '''Count the occurrences of characters in \"seq\".'''\n",
    "    counts = dict()\n",
    "    for c in seq:\n",
    "        try:\n",
    "            counts[c] +=1\n",
    "        except KeyError:\n",
    "            counts[c] = 1\n",
    "    return counts\n",
    "\n",
    "def counts_to_freqs(counts):\n",
    "    '''Normalize counts into frequencies.'''\n",
    "    n = sum(counts.values())\n",
    "    freqs = dict( (k,float(v)/n) for k,v in counts.items() )\n",
    "    return freqs\n",
    "\n",
    "print('A C G T coding')\n",
    "for seqwin,annwin in windows('genome1.fa','annotation1.fa'):\n",
    "    seq_freqs = counts_to_freqs(char_count(seqwin))\n",
    "    ann_freqs = counts_to_freqs(char_count(annwin))\n",
    "    \n",
    "    # set the class to be the majority in the annotation\n",
    "    category = max( (v,k) for k,v in ann_freqs.items() )[1]\n",
    "        \n",
    "    for nuc in 'ACGT':\n",
    "        print(seq_freqs[nuc])\n",
    "    if category in 'RC':\n",
    "        print('TRUE')\n",
    "    else:\n",
    "        print('FALSE')\n",
    "\n",
    "    "
   ]
  },
  {
   "cell_type": "code",
   "execution_count": null,
   "metadata": {
    "collapsed": true
   },
   "outputs": [],
   "source": []
  }
 ],
 "metadata": {
  "kernelspec": {
   "display_name": "Python 2",
   "language": "python",
   "name": "python2"
  },
  "language_info": {
   "codemirror_mode": {
    "name": "ipython",
    "version": 2
   },
   "file_extension": ".py",
   "mimetype": "text/x-python",
   "name": "python",
   "nbconvert_exporter": "python",
   "pygments_lexer": "ipython2",
   "version": "2.7.11"
  }
 },
 "nbformat": 4,
 "nbformat_minor": 0
}
