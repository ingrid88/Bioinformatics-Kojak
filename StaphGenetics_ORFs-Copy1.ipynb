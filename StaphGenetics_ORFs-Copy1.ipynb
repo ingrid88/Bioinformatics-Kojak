{
 "cells": [
  {
   "cell_type": "markdown",
   "metadata": {},
   "source": [
    "## Staph data\n",
    "http://users-birc.au.dk/cstorm/courses/MLiB_f14/project1.html"
   ]
  },
  {
   "cell_type": "code",
   "execution_count": 20,
   "metadata": {
    "collapsed": true
   },
   "outputs": [],
   "source": [
    "import requests\n",
    "import numpy as np\n",
    "import pandas as pd\n",
    "import re"
   ]
  },
  {
   "cell_type": "code",
   "execution_count": 2,
   "metadata": {
    "collapsed": true
   },
   "outputs": [],
   "source": [
    "staph_url = [\"http://users-birc.au.dk/cstorm/courses/MLiB_f14/projects/project3/genome1.fa\",\n",
    "            \"http://users-birc.au.dk/cstorm/courses/MLiB_f14/projects/project3/genome2.fa\",\n",
    "           \"http://users-birc.au.dk/cstorm/courses/MLiB_f14/projects/project3/genome3.fa\"]\n",
    "staph_annot = [\"http://users-birc.au.dk/cstorm/courses/MLiB_f14/projects/project3/annotation1.fa\",\n",
    "              \"http://users-birc.au.dk/cstorm/courses/MLiB_f14/projects/project3/annotation2.fa\"\n",
    "              \"http://users-birc.au.dk/cstorm/courses/MLiB_f14/projects/project3/annotation3.fa\"]"
   ]
  },
  {
   "cell_type": "markdown",
   "metadata": {
    "collapsed": true
   },
   "source": [
    "## Load/ Modify Data"
   ]
  },
  {
   "cell_type": "code",
   "execution_count": 3,
   "metadata": {
    "collapsed": true
   },
   "outputs": [],
   "source": [
    "def load_file(url,genome=True):\n",
    "    \"\"\"input: url for genome, \n",
    "    output: pulled data without header and as a single txt string\"\"\"\n",
    "    data = ''.join(requests.get(url).text.split(\"\\n\")[1::])\n",
    "    return data\n",
    "\n",
    "def segment_genome(data_string,split_size):\n",
    "    \"\"\"input: genome data string (data_string) and then size we should split the data (split_size)\n",
    "    output: array split by specified split_size\"\"\"\n",
    "    chunks = len(data_string)\n",
    "    data = [data_string[i:i+split_size] for i in range(0,chunks,split_size)]\n",
    "    return data\n",
    "\n",
    "def gene_label(annotation, min_gene=10):\n",
    "    \"\"\"Input: annotation\n",
    "    ouput: the label array for data (true if C or R else false for > 50% of line)\"\"\"\n",
    "    size = len(annotation[0])\n",
    "    print(size)\n",
    "    label = [True if len(line.strip(\"C\")) < size/2 or len(line.strip(\"R\")) < size/2 else False \n",
    "             for line in annotation]\n",
    "    return label\n",
    "\n",
    "def gene_label_dir(annotation,direction=\"C\"):\n",
    "    \"\"\"Input: annotation and direction is C (forward) unless specified as R (reverse)\n",
    "    ouput: the label array for data\"\"\"\n",
    "    size = len(annotation[0])\n",
    "    label = [True if len(line.strip(direction)) < size/2 else False \n",
    "             for line in annotation]\n",
    "    return label\n",
    "\n",
    "def nucleotide_frequency(seq):\n",
    "    '''Count the occurrences of characters in \"seq\".'''\n",
    "    counts = {'A':0,'C':0,'G':0,'T':0}\n",
    "    for c in seq:\n",
    "        counts[c] +=1\n",
    "    return counts"
   ]
  },
  {
   "cell_type": "code",
   "execution_count": 4,
   "metadata": {
    "collapsed": false
   },
   "outputs": [],
   "source": [
    "import re\n",
    "\n",
    "def ORF_finds(genome):\n",
    "    starts = [m.start() for m in re.finditer('ATG', genome)]\n",
    "    return starts\n",
    "\n",
    "def sequence_list(genome,ends,start):\n",
    "    sequences = [genome[start:start+end+3] for end in ends[0]]\n",
    "    sequences += [genome[start:start+end+3] for end in ends[1]] \n",
    "    sequences += [genome[start:start+end+3] for end in ends[2]]\n",
    "    return sequences\n",
    "\n",
    "def sequence_list2(genome,ends,start,direction):\n",
    "    frame = start % 3\n",
    "    sequences = [(start, start+end+3, 'taa', frame, direction) for end in ends[0]]\n",
    "    sequences += [(start, start+end+3, 'tag', frame, direction) for end in ends[1]] \n",
    "    sequences += [(start, start+end+3, 'tga', frame, direction) for end in ends[2]]\n",
    "    return sequences\n",
    "\n",
    "def geneList(genome,direction):\n",
    "    starts = ORF_finds(genome)\n",
    "    sequences = []\n",
    "    for start in starts:\n",
    "        ends = [[m.start() for m in re.finditer(x, data[start:start+2000]) if m.start() % 3 == 0] for x in [\"TAA\", \"TAG\", \"TGA\"]]\n",
    "        sequences.append(sequence_list2(genome,ends,start,direction))\n",
    "    return sequences   \n",
    "\n",
    "def potentialGenes(genome):\n",
    "    forwards = geneList(genome,'F')\n",
    "    reversed_genome = reverse_complement(str(genome))\n",
    "    reverse = geneList(reversed_genome,'R')\n",
    "    combos = forwards + reverse\n",
    "    return combos"
   ]
  },
  {
   "cell_type": "code",
   "execution_count": 5,
   "metadata": {
    "collapsed": true
   },
   "outputs": [],
   "source": [
    "def reverse_complement(genome):\n",
    "    \"\"\"input: genome, output: reverse complement\"\"\"\n",
    "    switch = {\"A\":\"T\",\"G\":\"C\",\"T\":\"A\",\"C\":\"G\"}\n",
    "    rc = ''.join([switch[letter] for letter in genome])[::-1]\n",
    "    return rc"
   ]
  },
  {
   "cell_type": "code",
   "execution_count": 6,
   "metadata": {
    "collapsed": true
   },
   "outputs": [],
   "source": [
    "codon_map = {\"I\":[\"ATT\", \"ATC\", \"ATA\"],\"L\":[\"CTT\", \"CTC\", \"CTA\", \"CTG\", \"TTA\",\" TTG\"],\n",
    "          \"V\":[\"GTT\", \"GTC\", \"GTA\", \"GTG\"],\"F\":[\"TTT\", \"TTC\"],\"M\":[\"ATG\"],\"C\":[\"TGT\", \"TGC\"],\n",
    "          \"A\":[\"GCT\", \"GCC\", \"GCA\", \"GCG\"],\"G\":[\"GGT\", \"GGC\", \"GGA\", \"GGG\"],\n",
    "          \"P\":[\"CCT\", \"CCC\", \"CCA\", \"CCG\"],\n",
    "          \"T\":[\"ACT\", \"ACC\", \"ACA\", \"ACG\"],\"S\":[\"TCT\", \"TCC\", \"TCA\", \"TCG\", \"AGT\", \"AGC\"],\n",
    "          \"Y\":[\"TAT\", \"TAC\"],\"W\":[\"TGG\"],\"Q\":[\"CAA\", \"CAG\"],\"N\":[\"AAT\", \"AAC\"],\"H\":[\"CAT\", \"CAC\"],\n",
    "             \"E\":[\"GAA\", \"GAG\"],\"D\":[\"GAT\", \"GAC\"],\"K\":[\"AAA\", \"AAG\"],\n",
    "             \"R\":[\"CGT\", \"CGC\", \"CGA\", \"CGG\",\"AGA\", \"AGG\"],\"Stop\":[\"TAA\", \"TAG\", \"TGA\"]}\n",
    "\n",
    "def invert(d):\n",
    "    return dict( (v,k) for k in d for v in d[k] )\n",
    "\n",
    "codon_to_aa = invert(codon_map)\n",
    "\n",
    "def codonToAA(strand):\n",
    "    aa_seq = ''.join([codon_to_aa(codon) for codon in strand])\n",
    "    return aa_seq"
   ]
  },
  {
   "cell_type": "code",
   "execution_count": 7,
   "metadata": {
    "collapsed": false
   },
   "outputs": [],
   "source": [
    "## amino acid to nucleotide chart http://www.cbs.dtu.dk/courses/27619/codon.html\n",
    "aa = [\"I\",\"L\",\"V\",\"F\",\"M\",\"C\",\"A\",\"G\",\"P\",\"T\",\"S\",\"Y\",\"W\",\"Q\",\"N\",\"H\",\"E\",\"D\",\"K\",\"R\",\"STOP\"]\n",
    "aa_name = [\"Isoleucine\",\"Leucine\",\"Valine\",\"Phenylalanine\",\"Methionine\",\"Cysteine\",\"Alanine\",\n",
    "           \"Glycine\",\"Proline\",\"Threonine\",\"Serine\",\"Tyrosine\",\"Tryptophan\",\n",
    "           \"Glutamine\",\"Asparagine\",\"Histidine\",\"Glutamic_acid\", \"Aspartic_acid\", \n",
    "           \"Lysine\",\"Arginine\",\"Stop_codons\"]\n",
    "codons = [[\"ATT\", \"ATC\", \"ATA\"],[\"CTT\", \"CTC\", \"CTA\", \"CTG\", \"TTA\",\" TTG\"],\n",
    "          [\"GTT\", \"GTC\", \"GTA\", \"GTG\"],[\"TTT\", \"TTC\"],[\"ATG\"],[\"TGT\", \"TGC\"],\n",
    "          [\"GCT\", \"GCC\", \"GCA\", \"GCG\"],[\"GGT\", \"GGC\", \"GGA\", \"GGG\"],\n",
    "          [\"CCT\", \"CCC\", \"CCA\", \"CCG\"],\n",
    "          [\"ACT\", \"ACC\", \"ACA\", \"ACG\"],[\"TCT\", \"TCC\", \"TCA\", \"TCG\", \"AGT\", \"AGC\"],\n",
    "          [\"TAT\", \"TAC\"],[\"TGG\"],[\"CAA\", \"CAG\"],[\"AAT\", \"AAC\"],[\"CAT\", \"CAC\"],[\"GAA\", \"GAG\"],\n",
    "          [\"GAT\", \"GAC\"],[\"AAA\", \"AAG\"],[\"CGT\", \"CGC\", \"CGA\", \"CGG\",\"AGA\", \"AGG\"],\n",
    "          [\"TAA\", \"TAG\", \"TGA\"]]\n",
    "\n",
    "codon_map = {\"I\":[\"ATT\", \"ATC\", \"ATA\"],\n",
    "             \"L\":[\"CTT\", \"CTC\", \"CTA\", \"CTG\", \"TTA\",\" TTG\"],\n",
    "             \"V\":[\"GTT\", \"GTC\", \"GTA\", \"GTG\"],\n",
    "             \"F\":[\"TTT\", \"TTC\"],\"M\":[\"ATG\"],\n",
    "             \"C\":[\"TGT\", \"TGC\"],\n",
    "             \"A\":[\"GCT\", \"GCC\", \"GCA\", \"GCG\"],\n",
    "             \"G\":[\"GGT\", \"GGC\", \"GGA\", \"GGG\"],\n",
    "             \"P\":[\"CCT\", \"CCC\", \"CCA\", \"CCG\"],\n",
    "             \"T\":[\"ACT\", \"ACC\", \"ACA\", \"ACG\"],\n",
    "             \"S\":[\"TCT\", \"TCC\", \"TCA\", \"TCG\", \"AGT\", \"AGC\"],\n",
    "             \"Y\":[\"TAT\", \"TAC\"],\n",
    "             \"W\":[\"TGG\"],\n",
    "             \"Q\":[\"CAA\", \"CAG\"],\n",
    "             \"N\":[\"AAT\", \"AAC\"],\n",
    "             \"H\":[\"CAT\", \"CAC\"],\n",
    "             \"E\":[\"GAA\", \"GAG\"],\n",
    "             \"D\":[\"GAT\", \"GAC\"],\n",
    "             \"K\":[\"AAA\", \"AAG\"],\n",
    "             \"R\":[\"CGT\", \"CGC\", \"CGA\", \"CGG\",\"AGA\", \"AGG\"],\n",
    "             \"Stop\":[\"TAA\", \"TAG\", \"TGA\"]}\n",
    "\n",
    "codon_properties_map = {}"
   ]
  },
  {
   "cell_type": "code",
   "execution_count": 8,
   "metadata": {
    "collapsed": false
   },
   "outputs": [],
   "source": [
    "## Thermofisher aa properties table\n",
    "from lxml import html\n",
    "def pull_page(url):\n",
    "    data = requests.get(url).text\n",
    "    return data\n",
    "tag = \"table table-bordered table-striped\"\n",
    "tag = \"table\"\n",
    "url = \"https://www.thermofisher.com/us/en/home/life-science/protein-biology/protein-biology-learning-center/protein-biology-resource-library/pierce-protein-methods/amino-acid-physical-properties.html\"\n",
    "\n",
    "page = html.fromstring(pull_page(url))\n",
    "tables = page.cssselect(tag)\n",
    "aa_table = pd.read_html(html.tostring(tables[0]),header=0)[0]\n"
   ]
  },
  {
   "cell_type": "markdown",
   "metadata": {},
   "source": [
    "### aa_properties\n",
    "Aliphatic: Alanine,Isoleucine,Leucine,Valine\n",
    "Aromatic: Phenylalanine, Tryptophan, Tyrosine\n",
    "Polar_neutral: Asparagine, Cysteine, Glutamine, Methionine,Serine,Threonine\n",
    "charged: Aspartic acid, Glutamic acid\n",
    "    \n",
    "Properties table\n",
    "https://www.thermofisher.com/us/en/home/life-science/protein-biology/protein-biology-learning-center/protein-biology-resource-library/pierce-protein-methods/amino-acid-physical-properties.html\n",
    "\n",
    "http://www.ncbi.nlm.nih.gov/pmc/articles/PMC3456822/pdf/10867_2004_Article_396406.pdf\n",
    "\n",
    "http://www.proteinstructures.com/Structure/Structure/amino-acids.html"
   ]
  },
  {
   "cell_type": "code",
   "execution_count": 17,
   "metadata": {
    "collapsed": false
   },
   "outputs": [],
   "source": [
    "flipped_annot = annot[::-1]\n",
    "\n",
    "def check_gene_state(loc,annot,strand):\n",
    "    \n",
    "    start, end = int(loc[0]), int(loc[1])\n",
    "    fwd = list(set(annot[start:end+1]))\n",
    "    bhd = list(set(annot[start - 1:end]))\n",
    "    if strand == 'F':\n",
    "        states = list(set(annot[start:end]))\n",
    "        state = 'C'\n",
    "    else:\n",
    "        r_annot = flipped_annot\n",
    "        states = list(set(r_annot[start:end]))\n",
    "        state = 'R'\n",
    "    if len(states) == 1 and states[0] == state and len(fwd) != 1 and len(bhd) != 1:\n",
    "        return True\n",
    "    else:\n",
    "        return False"
   ]
  },
  {
   "cell_type": "code",
   "execution_count": 10,
   "metadata": {
    "collapsed": false
   },
   "outputs": [],
   "source": [
    "def build_training_data(annot, data):\n",
    "    \"\"\"This finds all the genes, non-coding regions, \n",
    "    reverse regions in the genome and returns them as a list\n",
    "    annot is the annotated genome with c's as forward genes, \n",
    "    n's as noncoding regions and r's as genes on the reverse complement strand. \n",
    "    data is the genome comprised of a's,t's,g's,c's. \n",
    "    Both annot and data are strings\"\"\"\n",
    "    d = []\n",
    "    i = 0\n",
    "    c = ''\n",
    "    start = 0\n",
    "    while i < len(annot)-1:\n",
    "        if str(annot[i]) != str(annot[i+1]):\n",
    "            end = i\n",
    "            d.append((start,end,str(c),str(annot[i-1])))\n",
    "            c = ''\n",
    "            start = i+1\n",
    "        else:\n",
    "            c = c + data[i]\n",
    "        i += 1\n",
    "    d.append((start,i,str(c),str(annot[i-1])))   \n",
    "    return d"
   ]
  },
  {
   "cell_type": "code",
   "execution_count": 11,
   "metadata": {
    "collapsed": false
   },
   "outputs": [],
   "source": [
    "from itertools import groupby\n",
    "\n",
    "def find_regions(annot,data):\n",
    "    \"\"\"This finds all the genes, non-coding regions, \n",
    "    reverse regions in the genome and returns them as a list\n",
    "    annot is the annotated genome with c's as forward genes, \n",
    "    n's as noncoding regions and r's as genes on the reverse complement strand. \n",
    "    data is the genome comprised of a's,t's,g's,c's. \n",
    "    Both annot and data are strings\"\"\"\n",
    "    stateGroups = groupby(enumerate(annot), lambda value: value[1])\n",
    "    genome_regions = [(state, [x for x, _ in iterator]) for state, iterator in stateGroups] \n",
    "    regions = [(region[0],min(region[1]),max(region[1]),\n",
    "                data[min(region[1]):max(region[1])+1]) for region in genome_regions]\n",
    "    return regions"
   ]
  },
  {
   "cell_type": "code",
   "execution_count": 12,
   "metadata": {
    "collapsed": false
   },
   "outputs": [],
   "source": [
    "def frameShift(seq,shift):\n",
    "    \"\"\"input: seq and shift -- shift not used....\"\"\"\n",
    "    new_seq = ''\n",
    "    for j, i in enumerate(seq):\n",
    "        if j % shift == 0:\n",
    "            new_seq = new_seq + i + ' '\n",
    "        else: \n",
    "            new_seq = new_seq + i\n",
    "    return new_seq\n",
    "\n",
    "\n",
    "# fs = [frameShift(seq,3) for seq in gene_df.sequence]"
   ]
  },
  {
   "cell_type": "code",
   "execution_count": 13,
   "metadata": {
    "collapsed": true
   },
   "outputs": [],
   "source": [
    "def state(annot):\n",
    "    \"\"\"input: states are possible annotations C forward gene,\n",
    "    N - not a gene, or R for reverse gene\"\"\"\n",
    "    states = list(set(annot))\n",
    "    return states\n",
    "\n",
    "def transitions(annot,state):\n",
    "    \"\"\"input: determine when transitions occur where annot is annotated \n",
    "    and state is the state i'm looking to transition from ouput: there location\"\"\"\n",
    "    trs = list(set(annot))\n",
    "    transits = {}\n",
    "    total = len(annot) \n",
    "\n",
    "    for transition_state in trs:\n",
    "        count = len([ts for i,ts in enumerate(annot[:-1]) if str(ts) == state and str(annot[i+1]) == transition_state])\n",
    "        transits[str(transition_state)] = count/total\n",
    "    return transits\n",
    "\n",
    "def emissions(genome,annot,state):\n",
    "    \"\"\"input: genome is  a genome, annot is its annotation, \n",
    "    state is the state i want to count nucleotide frequency of\"\"\"\n",
    "    ems = list(set(genome))\n",
    "    \n",
    "    emissions = {}\n",
    "    transition_totals = {}\n",
    "\n",
    "    total = len([letter for letter in annot if str(letter) == state])\n",
    "    for emission_state in ems:\n",
    "        count = len([letter for i,letter in enumerate(genome) if \n",
    "                     str(letter) == emission_state and str(annot[i])==state])\n",
    "        emissions[str(emission_state)] = count/total    \n",
    "    return emissions\n",
    "\n",
    "def prior_state_emissions(genome,annot):\n",
    "    \"\"\"input: \"\"\"\n",
    "    state_dictionary = {}\n",
    "    states = state(annot)\n",
    "    for s in states:\n",
    "        if s == 'N':\n",
    "            prob = 1\n",
    "        else:\n",
    "            prob = 0\n",
    "        em = emissions(genome,annot,s)\n",
    "        tr = transitions(annot,s)\n",
    "        state_dictionary[s] = [str(s),prob,em,tr]\n",
    "    return state_dictionary"
   ]
  },
  {
   "cell_type": "code",
   "execution_count": 14,
   "metadata": {
    "collapsed": true
   },
   "outputs": [],
   "source": [
    "# from collections import defaultdict\n",
    "def aa_find(seq):\n",
    "    \"\"\"find aa's in sequence\n",
    "    input: sequence, \n",
    "    output: dictionary of codons in sequence\"\"\"\n",
    "    codon_count = {}\n",
    "    for aa, codons in codon_map.items():\n",
    "        codon_count[aa] = 0\n",
    "        if any(x in seq for x in codons):\n",
    "            codon_count[aa] += 1\n",
    "    return codon_count"
   ]
  },
  {
   "cell_type": "code",
   "execution_count": 15,
   "metadata": {
    "collapsed": true
   },
   "outputs": [],
   "source": [
    "\n",
    "def is_gene():\n",
    "    ## for each start in gene list find one with appropriate end and label as true\n",
    "    ## generate list of genes\n",
    "    \n",
    "    ## fill in the empty spots with false\n",
    "    return False"
   ]
  },
  {
   "cell_type": "code",
   "execution_count": 16,
   "metadata": {
    "collapsed": false
   },
   "outputs": [
    {
     "name": "stdout",
     "output_type": "stream",
     "text": [
      "Built table of sequences for each state in genome...\n",
      "  state  start   end                                                seq\n",
      "0     N      0   230  TTGTTGATATTCTGTTTTTTCTTTTTTAGTTTTCCACATGAAAAAT...\n",
      "1     C    231  1586  ATGACTGAAAATGAACAAATTTTTTGGAACAGGGTCTTGGAATTAG...\n",
      "2     N   1587  1740  CATGTGGAAAAGAATATCTTTTATGAAATAGTTATCCACAAGTTGT...\n",
      "3     C   1741  2877  ATGATTCAATTTTCAATTAATCGCACATTATTTATTCATGCTTTAA...\n",
      "4     N   2878  2951  GTAAGAAAAAGCTCCCTTTTAGGAGTTTTTTTGTTATTATAAATAT...\n",
      "State 'R' sequences were reverse complemented...\n"
     ]
    }
   ],
   "source": [
    "### Pipeline\n",
    "\n",
    "## load genome annotation\n",
    "annot = load_file(staph_annot[0])\n",
    "\n",
    "## load genome\n",
    "data = load_file(staph_url[0])\n",
    "\n",
    "## Built table of sequences for each state in genome\n",
    "re = find_regions(annot,data)\n",
    "# re = build_training_data(annot,data)\n",
    "regions = pd.DataFrame(re)\n",
    "regions.columns = [[\"state\",\"start\",\"end\",\"seq\"]]\n",
    "regions.head()\n",
    "print(\"Built table of sequences for each state in genome...\")\n",
    "print(regions.head(5))\n",
    "\n",
    "## Reverse Complement strands found on the Reverse strand\n",
    "regions.seq = regions.apply(lambda x: reverse_complement(x[3]) if x[0] == \"R\" else x[3],axis=1)\n",
    "print(\"State 'R' sequences were reverse complemented...\")"
   ]
  },
  {
   "cell_type": "code",
   "execution_count": 21,
   "metadata": {
    "collapsed": false
   },
   "outputs": [
    {
     "name": "stdout",
     "output_type": "stream",
     "text": [
      "Found potential sequences...\n",
      "Genome DataFrame Built...\n"
     ]
    }
   ],
   "source": [
    "## Find potential sequences\n",
    "pot_sequences = potentialGenes(data)\n",
    "print(\"Found potential sequences...\")\n",
    "\n",
    "## Create DataFrame\n",
    "df = pd.DataFrame(list(pd.DataFrame(pot_sequences).unstack().dropna()))\n",
    "df.columns=[[\"start\",\"end\",\"end_codon\",\"shift\",\"strand\"]]\n",
    "print(\"Genome DataFrame Built...\")"
   ]
  },
  {
   "cell_type": "code",
   "execution_count": null,
   "metadata": {
    "collapsed": true
   },
   "outputs": [],
   "source": [
    "## List of C Genes\n",
    "C_regions = regions[regions.state == 'C']\n",
    "R_regions = "
   ]
  },
  {
   "cell_type": "code",
   "execution_count": 22,
   "metadata": {
    "collapsed": false
   },
   "outputs": [
    {
     "name": "stdout",
     "output_type": "stream",
     "text": [
      "Calculated sequence lengths...\n"
     ]
    }
   ],
   "source": [
    "## Add length of each sequence\n",
    "df[\"len\"] = df.apply(lambda x: x[1] - x[0],axis=1) #x[1] - x[0])\n",
    "print(\"Calculated sequence lengths...\")"
   ]
  },
  {
   "cell_type": "code",
   "execution_count": null,
   "metadata": {
    "collapsed": true
   },
   "outputs": [],
   "source": []
  },
  {
   "cell_type": "code",
   "execution_count": 18,
   "metadata": {
    "collapsed": false
   },
   "outputs": [
    {
     "ename": "NameError",
     "evalue": "name 'df' is not defined",
     "output_type": "error",
     "traceback": [
      "\u001b[0;31m---------------------------------------------------------------------------\u001b[0m",
      "\u001b[0;31mNameError\u001b[0m                                 Traceback (most recent call last)",
      "\u001b[0;32m<ipython-input-18-edbe477ea33d>\u001b[0m in \u001b[0;36m<module>\u001b[0;34m()\u001b[0m\n\u001b[1;32m      1\u001b[0m \u001b[0;31m## Obtain potential gene sequence  -- TIME SUCK\u001b[0m\u001b[0;34m\u001b[0m\u001b[0;34m\u001b[0m\u001b[0m\n\u001b[0;32m----> 2\u001b[0;31m \u001b[0mdf\u001b[0m\u001b[0;34m[\u001b[0m\u001b[0;34m\"seq\"\u001b[0m\u001b[0;34m]\u001b[0m \u001b[0;34m=\u001b[0m \u001b[0mdf\u001b[0m\u001b[0;34m.\u001b[0m\u001b[0mapply\u001b[0m\u001b[0;34m(\u001b[0m\u001b[0;32mlambda\u001b[0m \u001b[0mx\u001b[0m\u001b[0;34m:\u001b[0m \u001b[0mdata\u001b[0m\u001b[0;34m[\u001b[0m\u001b[0mx\u001b[0m\u001b[0;34m[\u001b[0m\u001b[0;36m0\u001b[0m\u001b[0;34m]\u001b[0m\u001b[0;34m:\u001b[0m\u001b[0mx\u001b[0m\u001b[0;34m[\u001b[0m\u001b[0;36m1\u001b[0m\u001b[0;34m]\u001b[0m\u001b[0;34m]\u001b[0m\u001b[0;34m,\u001b[0m\u001b[0maxis\u001b[0m\u001b[0;34m=\u001b[0m\u001b[0;36m1\u001b[0m\u001b[0;34m)\u001b[0m\u001b[0;34m\u001b[0m\u001b[0m\n\u001b[0m\u001b[1;32m      3\u001b[0m \u001b[0mprint\u001b[0m\u001b[0;34m(\u001b[0m\u001b[0;34m\"Obtained potential sequences...\"\u001b[0m\u001b[0;34m)\u001b[0m\u001b[0;34m\u001b[0m\u001b[0m\n\u001b[1;32m      4\u001b[0m \u001b[0;34m\u001b[0m\u001b[0m\n\u001b[1;32m      5\u001b[0m \u001b[0;31m## Nucleotide Frequencies for each Potential Gene\u001b[0m\u001b[0;34m\u001b[0m\u001b[0;34m\u001b[0m\u001b[0m\n",
      "\u001b[0;31mNameError\u001b[0m: name 'df' is not defined"
     ]
    }
   ],
   "source": [
    "## Obtain potential gene sequence  -- TIME SUCK\n",
    "df[\"seq\"] = df.apply(lambda x: data[x[0]:x[1]],axis=1)\n",
    "print(\"Obtained potential sequences...\")\n",
    "\n",
    "## Nucleotide Frequencies for each Potential Gene\n",
    "res = [[l[1] for l in list(nucleotide_frequency(seg).items())] for seg in list(df.seq)]\n",
    "frequency_df = pd.DataFrame(res)\n",
    "frequency_df.columns=[\"a\",\"c\",\"g\",\"t\"]\n",
    "print(\"Calculate Nucleotide Frequencies...\")\n",
    "\n",
    "## Combine tables\n",
    "# 1. reset df index\n",
    "df.reset_index(inplace=True)\n",
    "# 2. concat\n",
    "df = pd.concat([df,frequency_df],axis=1)\n",
    "print(\"Combined frequence and gene tables...\")"
   ]
  },
  {
   "cell_type": "code",
   "execution_count": null,
   "metadata": {
    "collapsed": true
   },
   "outputs": [],
   "source": []
  },
  {
   "cell_type": "code",
   "execution_count": 66,
   "metadata": {
    "collapsed": false
   },
   "outputs": [],
   "source": [
    "## Filter for Genes\n",
    "    # x[0] - start\n",
    "    # x[1] - end\n",
    "    # x[4] - strand\n",
    "# df[\"is_gene\"] = df.apply(lambda x: check_gene_state([x[0],x[1]],annot, x[4]), axis=1)"
   ]
  },
  {
   "cell_type": "code",
   "execution_count": 341,
   "metadata": {
    "collapsed": false
   },
   "outputs": [],
   "source": [
    "y = nsample_df.is_gene\n",
    "x = nsample_df[[\"start\",\"end\",\"shift\",\"len\",\"a\",\"c\",\"g\",\"t\"]]"
   ]
  },
  {
   "cell_type": "code",
   "execution_count": 357,
   "metadata": {
    "collapsed": false
   },
   "outputs": [
    {
     "data": {
      "text/plain": [
       "False    9995\n",
       "True        5\n",
       "Name: is_gene, dtype: int64"
      ]
     },
     "execution_count": 357,
     "metadata": {},
     "output_type": "execute_result"
    }
   ],
   "source": [
    "nsample_df.is_gene.value_counts()"
   ]
  },
  {
   "cell_type": "code",
   "execution_count": 326,
   "metadata": {
    "collapsed": false
   },
   "outputs": [
    {
     "data": {
      "text/plain": [
       "{False}"
      ]
     },
     "execution_count": 326,
     "metadata": {},
     "output_type": "execute_result"
    }
   ],
   "source": [
    "set(nsample_df.isnull().any(axis=1))"
   ]
  },
  {
   "cell_type": "code",
   "execution_count": 290,
   "metadata": {
    "collapsed": true
   },
   "outputs": [],
   "source": [
    "sample_df[\"len\"] = sample_df.seq.apply(lambda x: len(x))\n"
   ]
  },
  {
   "cell_type": "code",
   "execution_count": 291,
   "metadata": {
    "collapsed": false
   },
   "outputs": [],
   "source": [
    "Nsample_df = sample_df.reindex(np.arange(10000))"
   ]
  },
  {
   "cell_type": "code",
   "execution_count": 296,
   "metadata": {
    "collapsed": false
   },
   "outputs": [
    {
     "data": {
      "text/plain": [
       "{False}"
      ]
     },
     "execution_count": 296,
     "metadata": {},
     "output_type": "execute_result"
    }
   ],
   "source": [
    "set(sample_df.isnull().any(axis=1))"
   ]
  },
  {
   "cell_type": "code",
   "execution_count": 283,
   "metadata": {
    "collapsed": false
   },
   "outputs": [
    {
     "data": {
      "text/plain": [
       "(10000, 7)"
      ]
     },
     "execution_count": 283,
     "metadata": {},
     "output_type": "execute_result"
    }
   ],
   "source": [
    "ex = Nsample_df.seq\n",
    "# ex.apply(lambda x: len(str(x)))\n",
    "sample_df.isnull().shape"
   ]
  },
  {
   "cell_type": "code",
   "execution_count": 361,
   "metadata": {
    "collapsed": false
   },
   "outputs": [],
   "source": [
    "xxx = list(sample_df[sample_df.is_gene == True].seq)"
   ]
  },
  {
   "cell_type": "code",
   "execution_count": 362,
   "metadata": {
    "collapsed": false
   },
   "outputs": [
    {
     "name": "stdout",
     "output_type": "stream",
     "text": [
      "Query:    1 ATG--ATTC--AAT--T----TTCAA-TTAAT--CGCACATTATTTAT--T--C-ATGCTTT--AA-ATACAACTAAACGTGCTATT-AGCACTAAA-AATG-CC--ATTCCTATTCTTTCATCAA--TAA--A--AA---TTGAAGTCACTT--CTACAGGAGTAACTTTAACAGGGTCT-AACGGTC-AAATATCA--ATTGAAAACACTATTCCTGTAAGTA-ATGAAAAT-GCT-GG-T-TTGCTAATTAC-CTCTCCAGGAGCTATTTTA-T--TAGAAGCTA-GT-T-TTTTTATTAATATTATTTCAAGTTTG-CCAGATATTAGTATAA---ATGT--TAAA-GAAATT-G-AA--CAACACCAAGTT-GTTTTAA-CC-AGTGGT-AAATCAGAGAT-T-AC--CTTAAAA--GGA--AAAGATG-TTG--A-CCAGTA-TC-CTCGT-CTA-CA---A-GAAGTATCAACAG-AAAATCCTTTG-ATTTTA-A-AAACAAAATTATTGAAG-TCT---AT-TATT-GCT-GAAACA-GCT-TTTGCAGCCAGTTTACAAGAA-AG-TC-GTCCTA-TTTTAACAGGAGTTCATATTGTATTAAGTAATCATAA-AGATT-T--TAA--AGC-A--GTAGCGA-CTGA-C-TCTC-ATCG-TAT-G-AGCCAACGTTTAATCACT--TTGGACAAT----ACTT--CAG-CAGAT-T------T--TGATGTAGTT-ATTC-CAAGT--AAATCTTTGAGAGAATTTTCAGCAGTATTTACAGATGATATTGAGACCGTTGAGGTATTTTT-CTCACCA-AGCCA---A--ATCTTGTTCAGAAGTGAACACATTT-CTTTTTAT-ACACG-CCTCTTAGAAGG-AAATTATCCCGATA-CAGAC-CGTT--T-A-TT-AATGACAGAATTTGAGACGGAGGT--TGTTTTCAATAC--CC-AATCCCTTCGC-CAC-GCTATGGAACG-T-G-CCT-TCTTGA-TTTCTAATGCTACTC-AA-AATGGTACTGTTAAGCTTG-AGATTACTCAAAATCATATTTCAGCTCATGTTAAC-TCACCTGAGGTTGGTAAGGTA---AACGAGGATTTAGATATTG--TTAGTC-AGTCTGGTAG-T--G-ATTTA--AC-T---AT--CAGCTTCAATCCA-ACTTACCT--TATTGAGTCTTTAAAAGCTATTAAAAGTGAAACAGTA-AAAATTCATTTC-TTATCACCAGTTCGACC-AT--TCACCCT-AACACCAGGCGAT--G--AGGAAGAAAGTTTTA---TCCAATTAATT-ACACCAGT-ACGAAC-AAACTAA 1137\n",
      "            |||  ||||  |.|  |    ||.|| ||.||  |||.|| .||||.|  |  | |||.|||  || | |.|.|| ||  ||  ||| ||||  ||| .| | ||  |.| | | .|   ||..||  |||  |  ||   ||.||.|| .||  |||| .|  |.|| ||  || |.|.| |||  || |||||| |  .||||||||..|||| |   |||.| |||||||| |.| || | |||||..|| | .| ..|||.|||||  .|| |  |.||| ||| .| | .|..| || .| |||||| ..|.|.| ||.|...||.|.|.||   ||.|  |||| |..||| | ||  |...| |.| || |  ..|| || |.||.| .|||.|.|.|| | ||  ||.||||  ..|  ||.|| | |||  | ||| || || | |.| .|| ||   | ||| | |.|| || |||||  ||.| |.|||| | ..|| ...|||||||.| |.|   || | || ||| .|||.| ||| |.||.| .||     |||||| || || .|..|| |||||| .|.|.||||||    | ||| ||| || || |.||| |  |||  ||| |  ||| | | |.|| | |||| || | |.| | ||  |.||.|||.|.|||  ||..| |||    | ||  ||| || || |      |  |||| |  || |..| |.|||  ..|| |||||.| ||   | |  | .|||.| |||  ||| | | | | ||    ||||||| ||||..| | |||   |  || ||| .|.|  ||   || |||| .||.|.|| .|| | ..| |||||||| ...||| ...|||| .||.| .|||  | | || ||  ||| || ||||.|| || .|  ||||..||.|.|  || ||.|..||||| | | | .|.|.|| | | | ||| ...||| ..| ||.|.|.| || || ||    | | |.||||  | | |.|  |..|||  || ||| | | ..|||||.| ||| ..||..||  .|||.||   |||||..| ..|.||||||  |||| | ||.|..|||| |  | .||||  || |   ||  ||| .| ||  || .||| |||  .|||| |     ||||| .|||  ..|||  .||| | |..|||||  .| .|| |.|||  | | || ||  | |...| ||.|.||.|  ||  |  ||||.|||||..|||   ||.||   ||| |.|||| | |..||| |||.|||\n",
      "Ref  :  179 ATGTTATTCTTACTGCTGGTTTTGAAGTTTATAACGCTCA-AATTTCTGTTGACTATGTTTTCGAAGA-AGACCT-AA--TG--ATTGAGCA--AAATCA-GACCAAAAT-C-A-AC---CAAAAACCTAAGCAGCAAGCCTTAAATTC-TTTGCCTAC-TG--TTAC-TT--CA-GATTTAAAC--TCGAAATAT-AGTTTTGAAAACTTTATT-C---AAGGAGATGAAAATCGTTGGGCTGTTGCTGCTT-CAAT-AGCAGTAGCTA--ATACTCCTGGAA-CTACCTATAATCCT-TT-GT-TTATTT-GGGGTGGCCCTGGGCTTGGAAAAACCCATTTATTAAATGCTATTGGTAATTCTGTA-CTA-TTAG--AAAATCCAAATGCTCGAATTAAATATATCACAGCTGAAAACTTTATTAATGA-GTTTGTTATCCA-TATTCGC-CTTGATACCATGGATGAA-T-TGAA-AGAAAAAT--TTCGTAATTTAGATTTAC-TCCTTATTGATGATATCCAATCT-TTAGCTAAAAAAACGCTCTCTGGA-ACA-----CAAGAAGAGTTCTTTAATACTTTTAA-TGCACTTCATA----A-TAA-TAA-CA-AACAAATTGTCCTAACAAGCGACCGTA-C-ACCAGATCATCTCAAT-GATTTAGAAG--ATCGATTAGTTACTCGTTTTA-AATGGGGA-TTAACAGTCA-ATATCACACCTCCTGAT-T--TTGAAACACGAGTGGCTAT-TTTGACA-AA---T-A--A-AATTCA-AGA--ATA-T-A-A-C-TT----TATTTTTCCTCAAGATA-CCATTGAGTAT-TTG-GCTG--GT---CA-ATTTGATTCTAATGTCA-GAGAT-TTAGAAGGTGCCTTA-AAAGATATTAGTCTGGTTGCTAATTTCAA--ACA-AA-TTGACAC-GA-TTACTGTTGACATTGCTGCCGAAGCTATTCGCGC-CAG-AAAGCAA-GATGGACCTAAAATGACAGT-TATTCCCA-TCGAAGAA----A-T-TCAAGC--GCA-AGT--TGGAAA--AT-TTT-A-C-GGTGTTACCGTCA-AAGAAATT--AAAGCTACTAAACGAACA-CAAAATATTGTTTTAG-CAAGACAAGTAGCTATGTTTTTAGCACGTGAAATGACAG-AT-AA--CAGTCTT-CCTAAAATTG-G-----AAAAG-AATT--TGGTG--GCAG-AGACCATTCA--ACAGTA-CTCCA--T-G-CCTATAAT-AAAATCAAAAACATG--ATCAGCCAGGACGAAAGCCTTAGGATCGAA---ATTGAAACCA-TAAAAAACAAAATTAA 1352\n",
      "\n",
      "Score: 941\n",
      "Matches: 764 (56.6%)\n",
      "Mismatches: 587\n",
      "CIGAR: 3M2D4M2D3M2D1M4D5M1D5M2D6M1I7M2D1M2D1M1D7M2D2M1D1M1I6M1I2M2I2M2I3M1D4M2I3M1D2M1I1M1D2M2D3M1I1M1I1M1I2M3I6M2D3M2D1M2D2M3D8M1I3M2D4M1I2M2I4M1I2M2I2M1I5M1D3M2I2M1D6M1I1M2D15M1I1M3I5M1D8M1D3M1D2M1D1M1D9M1I1M1D2M1I11M2I3M1D1M2D5M1I3M1D2M1D1M1D5M1I2M1I2M1I6M1I7M1D16M3D4M2D4M1D6M1D1M1D2M2D5M1I3M1I2M1D1M2I4M1D2M1D6M1D11M1D1M1D2M2D7M2D3M2D5M1I1M1D3M2D1M1D3M1I2M1D2M1D1M1I3M1D3M1D2M3D1M1D3M1I1M1I4M1I2M1D5M2I4M1D6M1D1M1D4M1I12M1D3M3D2M1D1M1I2M1D3M1D6M1D3M1D6M1I3M5I6M1D2M1D2M1D6M1D6M1I11M4I1M1I3M1I3M1I2M1I2M1D5M1D1M2D3M2D3M1D1M2D3M1I1M1I1M1D4M1D1M1D4M1D2M1I1M1D3M1D1M1D2M2I14M2D5M1I3M4D1M1I2M2D3M1D2M1I2M1D1M6D1M2D4M1I1M2I2M1D4M1D5M2D4M1I7M1I2M3I1M1I1M2I1M1I6M1I3M2I3M1I1M1I1M1I1M1I1M1I2M4I7M1D7M1D1M1I3M3D1M2D2M1I3M1I4M2I2M3I2M1I4M1D8M1D3M1I1M1D3M1I8M1D6M1I7M1D5M1D4M2D1M1D1M1D2M1D2M2I3M1I2M1I7M1I2M1I2M2D12M2D2M1D11M1D1M1I1M1D1M1I7M1I1M1D1M1D1M1D3M1D6M1D3M1I8M1I2M1D2M1D2M4I1M1I1M1I6M2I1M1D1M1I3M2I6M2I2M1I3M1I1M1I1M1I9M1D3M1I8M2I7M3D8M1I10M2D4M1I1M1D10M1D1M2D1M1D5M2D2M1D1M3D2M2D3M1I2M1I2M2I2M1D4M1I3M2D5M1I1M5I5M1I4M2I5M2I4M1I1M1D8M2I2M1D3M1I5M2I1M1I1M1I2M1D2M2D1M1I5M1D9M2I2M2D1M2D15M3D5M3I3M1D6M1I1M1D6M1D7M\n"
     ]
    }
   ],
   "source": [
    "import swalign\n",
    "# choose your own values here… 2 and -1 are common.\n",
    "match = 2\n",
    "mismatch = -1\n",
    "scoring = swalign.NucleotideScoringMatrix(match, mismatch)\n",
    "\n",
    "sw = swalign.LocalAlignment(scoring)  # you can also choose gap penalties, etc...\n",
    "alignment = sw.align(xxx[0],xxx[1])\n",
    "alignment.dump()"
   ]
  },
  {
   "cell_type": "code",
   "execution_count": 308,
   "metadata": {
    "collapsed": false
   },
   "outputs": [
    {
     "data": {
      "text/plain": [
       "75"
      ]
     },
     "execution_count": 308,
     "metadata": {},
     "output_type": "execute_result"
    }
   ],
   "source": [
    "28+13+19+15"
   ]
  },
  {
   "cell_type": "code",
   "execution_count": 301,
   "metadata": {
    "collapsed": false
   },
   "outputs": [],
   "source": [
    "frequency_df[\"start\"] = sample_df.start"
   ]
  },
  {
   "cell_type": "code",
   "execution_count": 304,
   "metadata": {
    "collapsed": false
   },
   "outputs": [
    {
     "ename": "ValueError",
     "evalue": "labels [ nan  nan  nan ...,  nan  nan  nan] not contained in axis",
     "output_type": "error",
     "traceback": [
      "\u001b[0;31m---------------------------------------------------------------------------\u001b[0m",
      "\u001b[0;31mValueError\u001b[0m                                Traceback (most recent call last)",
      "\u001b[0;32m<ipython-input-304-9e306ef10fa6>\u001b[0m in \u001b[0;36m<module>\u001b[0;34m()\u001b[0m\n\u001b[0;32m----> 1\u001b[0;31m \u001b[0mfrequency_df\u001b[0m\u001b[0;34m.\u001b[0m\u001b[0mdrop\u001b[0m\u001b[0;34m(\u001b[0m\u001b[0mfrequency_df\u001b[0m\u001b[0;34m.\u001b[0m\u001b[0mstart\u001b[0m\u001b[0;34m)\u001b[0m\u001b[0;34m\u001b[0m\u001b[0m\n\u001b[0m",
      "\u001b[0;32m/Users/ingrid/anaconda/envs/py27/lib/python2.7/site-packages/pandas/core/generic.pyc\u001b[0m in \u001b[0;36mdrop\u001b[0;34m(self, labels, axis, level, inplace, errors)\u001b[0m\n\u001b[1;32m   1615\u001b[0m                 \u001b[0mnew_axis\u001b[0m \u001b[0;34m=\u001b[0m \u001b[0maxis\u001b[0m\u001b[0;34m.\u001b[0m\u001b[0mdrop\u001b[0m\u001b[0;34m(\u001b[0m\u001b[0mlabels\u001b[0m\u001b[0;34m,\u001b[0m \u001b[0mlevel\u001b[0m\u001b[0;34m=\u001b[0m\u001b[0mlevel\u001b[0m\u001b[0;34m,\u001b[0m \u001b[0merrors\u001b[0m\u001b[0;34m=\u001b[0m\u001b[0merrors\u001b[0m\u001b[0;34m)\u001b[0m\u001b[0;34m\u001b[0m\u001b[0m\n\u001b[1;32m   1616\u001b[0m             \u001b[0;32melse\u001b[0m\u001b[0;34m:\u001b[0m\u001b[0;34m\u001b[0m\u001b[0m\n\u001b[0;32m-> 1617\u001b[0;31m                 \u001b[0mnew_axis\u001b[0m \u001b[0;34m=\u001b[0m \u001b[0maxis\u001b[0m\u001b[0;34m.\u001b[0m\u001b[0mdrop\u001b[0m\u001b[0;34m(\u001b[0m\u001b[0mlabels\u001b[0m\u001b[0;34m,\u001b[0m \u001b[0merrors\u001b[0m\u001b[0;34m=\u001b[0m\u001b[0merrors\u001b[0m\u001b[0;34m)\u001b[0m\u001b[0;34m\u001b[0m\u001b[0m\n\u001b[0m\u001b[1;32m   1618\u001b[0m             \u001b[0mdropped\u001b[0m \u001b[0;34m=\u001b[0m \u001b[0mself\u001b[0m\u001b[0;34m.\u001b[0m\u001b[0mreindex\u001b[0m\u001b[0;34m(\u001b[0m\u001b[0;34m**\u001b[0m\u001b[0;34m{\u001b[0m\u001b[0maxis_name\u001b[0m\u001b[0;34m:\u001b[0m \u001b[0mnew_axis\u001b[0m\u001b[0;34m}\u001b[0m\u001b[0;34m)\u001b[0m\u001b[0;34m\u001b[0m\u001b[0m\n\u001b[1;32m   1619\u001b[0m             \u001b[0;32mtry\u001b[0m\u001b[0;34m:\u001b[0m\u001b[0;34m\u001b[0m\u001b[0m\n",
      "\u001b[0;32m/Users/ingrid/anaconda/envs/py27/lib/python2.7/site-packages/pandas/core/index.pyc\u001b[0m in \u001b[0;36mdrop\u001b[0;34m(self, labels, errors)\u001b[0m\n\u001b[1;32m   2801\u001b[0m         \u001b[0;32mif\u001b[0m \u001b[0mmask\u001b[0m\u001b[0;34m.\u001b[0m\u001b[0many\u001b[0m\u001b[0;34m(\u001b[0m\u001b[0;34m)\u001b[0m\u001b[0;34m:\u001b[0m\u001b[0;34m\u001b[0m\u001b[0m\n\u001b[1;32m   2802\u001b[0m             \u001b[0;32mif\u001b[0m \u001b[0merrors\u001b[0m \u001b[0;34m!=\u001b[0m \u001b[0;34m'ignore'\u001b[0m\u001b[0;34m:\u001b[0m\u001b[0;34m\u001b[0m\u001b[0m\n\u001b[0;32m-> 2803\u001b[0;31m                 \u001b[0;32mraise\u001b[0m \u001b[0mValueError\u001b[0m\u001b[0;34m(\u001b[0m\u001b[0;34m'labels %s not contained in axis'\u001b[0m \u001b[0;34m%\u001b[0m \u001b[0mlabels\u001b[0m\u001b[0;34m[\u001b[0m\u001b[0mmask\u001b[0m\u001b[0;34m]\u001b[0m\u001b[0;34m)\u001b[0m\u001b[0;34m\u001b[0m\u001b[0m\n\u001b[0m\u001b[1;32m   2804\u001b[0m             \u001b[0mindexer\u001b[0m \u001b[0;34m=\u001b[0m \u001b[0mindexer\u001b[0m\u001b[0;34m[\u001b[0m\u001b[0;34m~\u001b[0m\u001b[0mmask\u001b[0m\u001b[0;34m]\u001b[0m\u001b[0;34m\u001b[0m\u001b[0m\n\u001b[1;32m   2805\u001b[0m         \u001b[0;32mreturn\u001b[0m \u001b[0mself\u001b[0m\u001b[0;34m.\u001b[0m\u001b[0mdelete\u001b[0m\u001b[0;34m(\u001b[0m\u001b[0mindexer\u001b[0m\u001b[0;34m)\u001b[0m\u001b[0;34m\u001b[0m\u001b[0m\n",
      "\u001b[0;31mValueError\u001b[0m: labels [ nan  nan  nan ...,  nan  nan  nan] not contained in axis"
     ]
    }
   ],
   "source": [
    "frequency_df.drop(frequency_df.start)"
   ]
  },
  {
   "cell_type": "code",
   "execution_count": 258,
   "metadata": {
    "collapsed": false
   },
   "outputs": [
    {
     "data": {
      "text/plain": [
       "(10000, 4)"
      ]
     },
     "execution_count": 258,
     "metadata": {},
     "output_type": "execute_result"
    }
   ],
   "source": [
    "frequency_df.shape"
   ]
  },
  {
   "cell_type": "code",
   "execution_count": 259,
   "metadata": {
    "collapsed": false
   },
   "outputs": [],
   "source": [
    "new_df = pd.concat([Nsample_df,frequency_df],axis=1)"
   ]
  },
  {
   "cell_type": "code",
   "execution_count": 260,
   "metadata": {
    "collapsed": false
   },
   "outputs": [
    {
     "data": {
      "text/plain": [
       "(10000, 11)"
      ]
     },
     "execution_count": 260,
     "metadata": {},
     "output_type": "execute_result"
    }
   ],
   "source": [
    "new_df.shape"
   ]
  },
  {
   "cell_type": "code",
   "execution_count": null,
   "metadata": {
    "collapsed": true
   },
   "outputs": [],
   "source": [
    "nucleotide_frequency(seq)"
   ]
  },
  {
   "cell_type": "code",
   "execution_count": 201,
   "metadata": {
    "collapsed": false
   },
   "outputs": [],
   "source": [
    "from sklearn.feature_extraction.text import CountVectorizer\n",
    "vectorizer = CountVectorizer(analyzer = 'char_wb', ngram_range=(1,3), min_df= 1)\n",
    "d = vectorizer.fit_transform(list(sample_df['seq']))\n"
   ]
  },
  {
   "cell_type": "code",
   "execution_count": null,
   "metadata": {
    "collapsed": true
   },
   "outputs": [],
   "source": []
  },
  {
   "cell_type": "code",
   "execution_count": 243,
   "metadata": {
    "collapsed": true
   },
   "outputs": [],
   "source": []
  },
  {
   "cell_type": "code",
   "execution_count": 98,
   "metadata": {
    "collapsed": false
   },
   "outputs": [
    {
     "data": {
      "text/plain": [
       "False"
      ]
     },
     "execution_count": 98,
     "metadata": {},
     "output_type": "execute_result"
    }
   ],
   "source": [
    "check_gene_state((37, 1438),annot,'C','F')"
   ]
  },
  {
   "cell_type": "code",
   "execution_count": 87,
   "metadata": {
    "collapsed": false
   },
   "outputs": [
    {
     "data": {
      "text/plain": [
       "u'ATGAAAAATAGTTGAAAACAATAGCGGTGTCCCCTTAAAATGGCTTTTCCACAGGTTGTGGAGAACCCAAATTAACAGTGTTAATTTATTTTCCACAGGTTGTGGAAAAACTAACTATTATCCATCGTTCTGTGGAAAACTAGAATAGTTTATGGTAGAATAGTTCTAGAATTATCCACAAGAAGGAACCTAGTATGA'"
      ]
     },
     "execution_count": 87,
     "metadata": {},
     "output_type": "execute_result"
    }
   ],
   "source": [
    "sample_df.iloc[1].seq"
   ]
  },
  {
   "cell_type": "code",
   "execution_count": null,
   "metadata": {
    "collapsed": true
   },
   "outputs": [],
   "source": [
    "df[\"sequence_s\"] =  df[['start', 'end']].apply(lambda x: data[x[0]:x[1]], axis=1)"
   ]
  },
  {
   "cell_type": "code",
   "execution_count": null,
   "metadata": {
    "collapsed": true
   },
   "outputs": [],
   "source": []
  },
  {
   "cell_type": "code",
   "execution_count": 6,
   "metadata": {
    "collapsed": true
   },
   "outputs": [],
   "source": []
  },
  {
   "cell_type": "code",
   "execution_count": 39,
   "metadata": {
    "collapsed": false
   },
   "outputs": [
    {
     "name": "stdout",
     "output_type": "stream",
     "text": [
      "50\n"
     ]
    }
   ],
   "source": [
    "result = [[l[1] for l in list(nucleotide_frequency(seg).items())] for seg in seg_50]\n",
    "df = pd.DataFrame(result)\n",
    "df.columns=[\"a\",\"c\",\"g\",\"t\"]\n",
    "df[\"gene\"] = gene_label(seg_50_an)\n",
    "\n",
    "gene_df = pd.DataFrame({\"label\":df.gene,\"sequence\": seg_50})"
   ]
  },
  {
   "cell_type": "code",
   "execution_count": 124,
   "metadata": {
    "collapsed": false
   },
   "outputs": [
    {
     "data": {
      "text/plain": [
       "'x'"
      ]
     },
     "execution_count": 124,
     "metadata": {},
     "output_type": "execute_result"
    }
   ],
   "source": [
    "str(u'x')"
   ]
  },
  {
   "cell_type": "code",
   "execution_count": 122,
   "metadata": {
    "collapsed": false
   },
   "outputs": [],
   "source": [
    "he = prior_state_emissions(data,annot)"
   ]
  },
  {
   "cell_type": "code",
   "execution_count": 123,
   "metadata": {
    "collapsed": false
   },
   "outputs": [
    {
     "data": {
      "text/plain": [
       "{u'C': ['C',\n",
       "  0,\n",
       "  {'A': 0.3129376364986609,\n",
       "   'C': 0.18263194813359745,\n",
       "   'G': 0.20960154402206216,\n",
       "   'T': 0.2948288713456795},\n",
       "  {'C': 0.39282114788001343, 'N': 0.0004367210615614748, 'R': 0.0}],\n",
       " u'N': ['N',\n",
       "  1,\n",
       "  {'A': 0.3190287760527498,\n",
       "   'C': 0.1789016522921669,\n",
       "   'G': 0.18693843939846827,\n",
       "   'T': 0.315131132256615},\n",
       "  {'C': 0.0004367210615614748,\n",
       "   'N': 0.2719266092685273,\n",
       "   'R': 0.000344950257525071}],\n",
       " u'R': ['R',\n",
       "  0,\n",
       "  {'A': 0.29606142439037003,\n",
       "   'C': 0.20997386780698055,\n",
       "   'G': 0.1825552662752494,\n",
       "   'T': 0.3114094415274},\n",
       "  {'C': 0.0, 'N': 0.000344950257525071, 'R': 0.3336883603850271}]}"
      ]
     },
     "execution_count": 123,
     "metadata": {},
     "output_type": "execute_result"
    }
   ],
   "source": [
    "he"
   ]
  },
  {
   "cell_type": "code",
   "execution_count": null,
   "metadata": {
    "collapsed": true
   },
   "outputs": [],
   "source": [
    "emi = emissions(data,annot)"
   ]
  },
  {
   "cell_type": "code",
   "execution_count": 100,
   "metadata": {
    "collapsed": false
   },
   "outputs": [],
   "source": [
    "trs = transitions(annot)"
   ]
  },
  {
   "cell_type": "code",
   "execution_count": null,
   "metadata": {
    "collapsed": false
   },
   "outputs": [],
   "source": [
    "# dir(hmm)\n",
    "from hmm import hmm"
   ]
  },
  {
   "cell_type": "code",
   "execution_count": 133,
   "metadata": {
    "collapsed": false
   },
   "outputs": [
    {
     "data": {
      "text/plain": [
       "{'A': 0.3190287760527498,\n",
       " 'C': 0.1789016522921669,\n",
       " 'G': 0.18693843939846827,\n",
       " 'T': 0.315131132256615}"
      ]
     },
     "execution_count": 133,
     "metadata": {},
     "output_type": "execute_result"
    }
   ],
   "source": [
    "he[u'N'][2]"
   ]
  },
  {
   "cell_type": "code",
   "execution_count": 136,
   "metadata": {
    "collapsed": false
   },
   "outputs": [],
   "source": [
    "NC = hmm.state(he[u'N'][0],he[u'N'][1],he[u'N'][2],he[u'N'][3])\n",
    "C = hmm.state(he[u'C'][0],he[u'C'][1],he[u'C'][2],he[u'C'][3])\n",
    "R = hmm.state(he[u'R'][0],he[u'R'][1],he[u'R'][2],he[u'R'][3])\n",
    "gene_model = hmm.hmm(['A','T','G','C'],[NC,C,R])"
   ]
  },
  {
   "cell_type": "code",
   "execution_count": 139,
   "metadata": {
    "collapsed": false
   },
   "outputs": [
    {
     "name": "stdout",
     "output_type": "stream",
     "text": [
      "('N', 'C', 'C', 'C'): -6.615035\n"
     ]
    },
    {
     "ename": "ValueError",
     "evalue": "math domain error",
     "output_type": "error",
     "traceback": [
      "\u001b[0;31m---------------------------------------------------------------------------\u001b[0m",
      "\u001b[0;31mValueError\u001b[0m                                Traceback (most recent call last)",
      "\u001b[0;32m<ipython-input-139-af260a53f2ee>\u001b[0m in \u001b[0;36m<module>\u001b[0;34m()\u001b[0m\n\u001b[0;32m----> 1\u001b[0;31m \u001b[0mgene_model\u001b[0m\u001b[0;34m.\u001b[0m\u001b[0menumerate\u001b[0m\u001b[0;34m(\u001b[0m\u001b[0;34m'ATGC'\u001b[0m\u001b[0;34m)\u001b[0m\u001b[0;34m\u001b[0m\u001b[0m\n\u001b[0m",
      "\u001b[0;32m/Users/ingrid/Downloads/hmm/hmm.py\u001b[0m in \u001b[0;36menumerate\u001b[0;34m(self, observed)\u001b[0m\n\u001b[1;32m    173\u001b[0m         \u001b[0mbest_score\u001b[0m \u001b[0;34m=\u001b[0m \u001b[0mNone\u001b[0m\u001b[0;34m\u001b[0m\u001b[0m\n\u001b[1;32m    174\u001b[0m         \u001b[0;32mfor\u001b[0m \u001b[0mseq\u001b[0m \u001b[0;32min\u001b[0m \u001b[0mitertools\u001b[0m\u001b[0;34m.\u001b[0m\u001b[0mproduct\u001b[0m\u001b[0;34m(\u001b[0m\u001b[0mself\u001b[0m\u001b[0;34m.\u001b[0m\u001b[0mstates\u001b[0m\u001b[0;34m.\u001b[0m\u001b[0mkeys\u001b[0m\u001b[0;34m(\u001b[0m\u001b[0;34m)\u001b[0m\u001b[0;34m,\u001b[0m \u001b[0mrepeat\u001b[0m\u001b[0;34m=\u001b[0m\u001b[0mlen\u001b[0m\u001b[0;34m(\u001b[0m\u001b[0mobserved\u001b[0m\u001b[0;34m)\u001b[0m\u001b[0;34m)\u001b[0m\u001b[0;34m:\u001b[0m\u001b[0;34m\u001b[0m\u001b[0m\n\u001b[0;32m--> 175\u001b[0;31m             \u001b[0ms\u001b[0m \u001b[0;34m=\u001b[0m \u001b[0mself\u001b[0m\u001b[0;34m.\u001b[0m\u001b[0mscore\u001b[0m\u001b[0;34m(\u001b[0m\u001b[0mseq\u001b[0m\u001b[0;34m,\u001b[0m \u001b[0mobserved\u001b[0m\u001b[0;34m)\u001b[0m\u001b[0;34m\u001b[0m\u001b[0m\n\u001b[0m\u001b[1;32m    176\u001b[0m             \u001b[0;32mif\u001b[0m \u001b[0ms\u001b[0m \u001b[0;32mis\u001b[0m \u001b[0;32mnot\u001b[0m \u001b[0mNone\u001b[0m\u001b[0;34m:\u001b[0m\u001b[0;34m\u001b[0m\u001b[0m\n\u001b[1;32m    177\u001b[0m                 \u001b[0;32mprint\u001b[0m \u001b[0;34m'%s: %f'\u001b[0m \u001b[0;34m%\u001b[0m \u001b[0;34m(\u001b[0m\u001b[0mseq\u001b[0m\u001b[0;34m,\u001b[0m \u001b[0ms\u001b[0m\u001b[0;34m)\u001b[0m\u001b[0;34m\u001b[0m\u001b[0m\n",
      "\u001b[0;32m/Users/ingrid/Downloads/hmm/hmm.py\u001b[0m in \u001b[0;36mscore\u001b[0;34m(self, seq_state, seq_observed)\u001b[0m\n\u001b[1;32m    134\u001b[0m                     \u001b[0;32mreturn\u001b[0m \u001b[0mNone\u001b[0m\u001b[0;34m\u001b[0m\u001b[0m\n\u001b[1;32m    135\u001b[0m \u001b[0;34m\u001b[0m\u001b[0m\n\u001b[0;32m--> 136\u001b[0;31m                 \u001b[0mp\u001b[0m \u001b[0;34m+=\u001b[0m \u001b[0mmath\u001b[0m\u001b[0;34m.\u001b[0m\u001b[0mlog10\u001b[0m\u001b[0;34m(\u001b[0m\u001b[0mstate_prev\u001b[0m\u001b[0;34m.\u001b[0m\u001b[0mp_transition\u001b[0m\u001b[0;34m[\u001b[0m\u001b[0mseq_state\u001b[0m\u001b[0;34m[\u001b[0m\u001b[0mi\u001b[0m\u001b[0;34m]\u001b[0m\u001b[0;34m]\u001b[0m\u001b[0;34m)\u001b[0m\u001b[0;34m\u001b[0m\u001b[0m\n\u001b[0m\u001b[1;32m    137\u001b[0m \u001b[0;34m\u001b[0m\u001b[0m\n\u001b[1;32m    138\u001b[0m             \u001b[0;31m# check that this state can emit the observed alphabet symbol\u001b[0m\u001b[0;34m\u001b[0m\u001b[0;34m\u001b[0m\u001b[0m\n",
      "\u001b[0;31mValueError\u001b[0m: math domain error"
     ]
    }
   ],
   "source": [
    "gene_model.enumerate('ATGC')"
   ]
  },
  {
   "cell_type": "code",
   "execution_count": 83,
   "metadata": {
    "collapsed": false
   },
   "outputs": [],
   "source": [
    "s1 = hmm.state(\n",
    "        'S1',            # name of the state\n",
    "        0.5,             # probability of being the initial state\n",
    "        { '1': 0.5,      # probability of emitting a '1' at each visit\n",
    "          '2': 0.5 },    # probability of emitting a '2' at each visit\n",
    "        { 'S1': 0.9,     # probability of transitioning to itself\n",
    "          'S2': 0.1 })   # probability of transitioning to state 'S2'\n",
    "s2 = hmm.state('S2', 0.5,\n",
    "        { '1': 0.25, '2': 0.75 },\n",
    "        { 'S1': 0.8, 'S2': 0.2 })\n",
    "model = hmm.hmm(['1', '2'],  # all symbols that can be emitted\n",
    "                [s1, s2])    # all of the states in this HMM"
   ]
  },
  {
   "cell_type": "code",
   "execution_count": null,
   "metadata": {
    "collapsed": true
   },
   "outputs": [],
   "source": [
    "model = hmm.hmm(['A', 'C','T','G'],  # all symbols that can be emitted\n",
    "                [s1, s2])"
   ]
  },
  {
   "cell_type": "code",
   "execution_count": 84,
   "metadata": {
    "collapsed": false
   },
   "outputs": [
    {
     "name": "stdout",
     "output_type": "stream",
     "text": [
      "('S2', 'S2', 'S2'): -2.073786\n",
      "('S2', 'S2', 'S1'): -1.647817\n",
      "('S2', 'S1', 'S2'): -1.948847\n",
      "('S2', 'S1', 'S1'): -1.170696\n",
      "('S1', 'S2', 'S2'): -2.550907\n",
      "('S1', 'S2', 'S1'): -2.124939\n",
      "('S1', 'S1', 'S2'): -2.073786\n",
      "('S1', 'S1', 'S1'): -1.295635\n",
      "BEST: ('S2', 'S1', 'S1'): -1.170696\n"
     ]
    }
   ],
   "source": [
    "model.enumerate('222')"
   ]
  },
  {
   "cell_type": "code",
   "execution_count": 45,
   "metadata": {
    "collapsed": false
   },
   "outputs": [],
   "source": [
    "training_data = build_training_data(annot,data)"
   ]
  },
  {
   "cell_type": "code",
   "execution_count": 58,
   "metadata": {
    "collapsed": true
   },
   "outputs": [],
   "source": [
    "import hmm"
   ]
  },
  {
   "cell_type": "code",
   "execution_count": 57,
   "metadata": {
    "collapsed": false
   },
   "outputs": [
    {
     "ename": "TypeError",
     "evalue": "'module' object is not callable",
     "output_type": "error",
     "traceback": [
      "\u001b[0;31m---------------------------------------------------------------------------\u001b[0m",
      "\u001b[0;31mTypeError\u001b[0m                                 Traceback (most recent call last)",
      "\u001b[0;32m<ipython-input-57-df4d22853628>\u001b[0m in \u001b[0;36m<module>\u001b[0;34m()\u001b[0m\n\u001b[0;32m----> 1\u001b[0;31m \u001b[0mtabul\u001b[0m \u001b[0;34m=\u001b[0m \u001b[0mhmm\u001b[0m\u001b[0;34m(\u001b[0m\u001b[0mdata\u001b[0m\u001b[0;34m,\u001b[0m \u001b[0mannot\u001b[0m\u001b[0;34m)\u001b[0m\u001b[0;34m\u001b[0m\u001b[0m\n\u001b[0m",
      "\u001b[0;31mTypeError\u001b[0m: 'module' object is not callable"
     ]
    }
   ],
   "source": [
    "tabul = hmm(data, annot)"
   ]
  },
  {
   "cell_type": "code",
   "execution_count": 54,
   "metadata": {
    "collapsed": false
   },
   "outputs": [
    {
     "ename": "NameError",
     "evalue": "global name 'state' is not defined",
     "output_type": "error",
     "traceback": [
      "\u001b[0;31m---------------------------------------------------------------------------\u001b[0m",
      "\u001b[0;31mNameError\u001b[0m                                 Traceback (most recent call last)",
      "\u001b[0;32m<ipython-input-54-a64a5c4f888d>\u001b[0m in \u001b[0;36m<module>\u001b[0;34m()\u001b[0m\n\u001b[0;32m----> 1\u001b[0;31m \u001b[0mtrain_hmm\u001b[0m\u001b[0;34m(\u001b[0m\u001b[0mtraining_data\u001b[0m\u001b[0;34m)\u001b[0m\u001b[0;34m\u001b[0m\u001b[0m\n\u001b[0m",
      "\u001b[0;32m<ipython-input-49-85de8a1f7edf>\u001b[0m in \u001b[0;36mtrain_hmm\u001b[0;34m(training_data, include_terminal_state)\u001b[0m\n\u001b[1;32m     28\u001b[0m     \u001b[0mstates\u001b[0m \u001b[0;34m=\u001b[0m \u001b[0;34m[\u001b[0m\u001b[0;34m]\u001b[0m\u001b[0;34m\u001b[0m\u001b[0m\n\u001b[1;32m     29\u001b[0m     \u001b[0;32mfor\u001b[0m \u001b[0ms_name\u001b[0m \u001b[0;32min\u001b[0m \u001b[0mstate_names\u001b[0m\u001b[0;34m:\u001b[0m\u001b[0;34m\u001b[0m\u001b[0m\n\u001b[0;32m---> 30\u001b[0;31m         \u001b[0mstates\u001b[0m\u001b[0;34m.\u001b[0m\u001b[0mappend\u001b[0m\u001b[0;34m(\u001b[0m\u001b[0mstate\u001b[0m\u001b[0;34m(\u001b[0m\u001b[0ms_name\u001b[0m\u001b[0;34m,\u001b[0m \u001b[0;36m0.0\u001b[0m\u001b[0;34m,\u001b[0m \u001b[0mNone\u001b[0m\u001b[0;34m,\u001b[0m \u001b[0mNone\u001b[0m\u001b[0;34m)\u001b[0m\u001b[0;34m)\u001b[0m\u001b[0;34m\u001b[0m\u001b[0m\n\u001b[0m\u001b[1;32m     31\u001b[0m \u001b[0;34m\u001b[0m\u001b[0m\n\u001b[1;32m     32\u001b[0m     \u001b[0;31m# calculate the initial probabilities\u001b[0m\u001b[0;34m\u001b[0m\u001b[0;34m\u001b[0m\u001b[0m\n",
      "\u001b[0;31mNameError\u001b[0m: global name 'state' is not defined"
     ]
    }
   ],
   "source": [
    "train_hmm(training_data)"
   ]
  },
  {
   "cell_type": "code",
   "execution_count": null,
   "metadata": {
    "collapsed": true
   },
   "outputs": [],
   "source": []
  },
  {
   "cell_type": "code",
   "execution_count": null,
   "metadata": {
    "collapsed": false
   },
   "outputs": [],
   "source": [
    "emissions(data,annot)"
   ]
  },
  {
   "cell_type": "code",
   "execution_count": null,
   "metadata": {
    "collapsed": true
   },
   "outputs": [],
   "source": []
  },
  {
   "cell_type": "code",
   "execution_count": null,
   "metadata": {
    "collapsed": false
   },
   "outputs": [],
   "source": [
    "set(data)"
   ]
  },
  {
   "cell_type": "code",
   "execution_count": null,
   "metadata": {
    "collapsed": false
   },
   "outputs": [],
   "source": [
    "# two_state_transitions(annot,1)\n",
    "two_state_emissions(data,annot,1)\n",
    "# str(annot[0]) == \"N\""
   ]
  },
  {
   "cell_type": "code",
   "execution_count": null,
   "metadata": {
    "collapsed": true
   },
   "outputs": [],
   "source": []
  },
  {
   "cell_type": "code",
   "execution_count": null,
   "metadata": {
    "collapsed": false
   },
   "outputs": [],
   "source": [
    "reverse_complement(\"aaatttgggcca\")"
   ]
  },
  {
   "cell_type": "code",
   "execution_count": null,
   "metadata": {
    "collapsed": true
   },
   "outputs": [],
   "source": []
  },
  {
   "cell_type": "code",
   "execution_count": null,
   "metadata": {
    "collapsed": true
   },
   "outputs": [],
   "source": []
  },
  {
   "cell_type": "code",
   "execution_count": null,
   "metadata": {
    "collapsed": true
   },
   "outputs": [],
   "source": [
    "df[\"sequence\"] = gene_df.sequence\n",
    "df[\"start\"] = gene_df.sequence.apply(lambda seq: \"ATG\" in seq)\n",
    "df[\"stop\"] = gene_df.sequence.apply(lambda seq: any(x in seq for x in [\"TAA\", \"TAG\", \"TGA\"]))\n",
    "# df.iloc[0].sequence"
   ]
  },
  {
   "cell_type": "code",
   "execution_count": null,
   "metadata": {
    "collapsed": true
   },
   "outputs": [],
   "source": [
    "# from collections import defaultdict\n",
    "def aa_find(seq):\n",
    "    codon_count = {}\n",
    "    for aa, codons in codon_map.items():\n",
    "        codon_count[aa] = 0\n",
    "        if any(x in seq for x in codons):\n",
    "            codon_count[aa] += 1\n",
    "    return codon_count"
   ]
  },
  {
   "cell_type": "code",
   "execution_count": null,
   "metadata": {
    "collapsed": false
   },
   "outputs": [],
   "source": [
    "df[\"dict\"] = gene_df.sequence.apply(lambda seq: aa_find(seq)) "
   ]
  },
  {
   "cell_type": "code",
   "execution_count": null,
   "metadata": {
    "collapsed": false
   },
   "outputs": [],
   "source": [
    "aa_counts = pd.DataFrame(list(df[\"dict\"]))"
   ]
  },
  {
   "cell_type": "code",
   "execution_count": null,
   "metadata": {
    "collapsed": false
   },
   "outputs": [],
   "source": [
    "# aa_counts[[\"a\"],[\"c\"],[\"g\"],[\"t\"],[\"gene\"]] = [[df.a],[df.c],[df.g],[df.t],[df.gene]]\n",
    "# aa_counts[[\"a\"]]\n",
    "aa_counts[\"a\"] = df.a\n",
    "aa_counts[\"c\"] = df.c\n",
    "aa_counts[\"g\"] = df.g\n",
    "aa_counts[\"t\"] = df.t\n",
    "aa_counts[\"gene\"] = df.gene\n"
   ]
  },
  {
   "cell_type": "code",
   "execution_count": null,
   "metadata": {
    "collapsed": false
   },
   "outputs": [],
   "source": [
    "df.shape"
   ]
  },
  {
   "cell_type": "code",
   "execution_count": null,
   "metadata": {
    "collapsed": false
   },
   "outputs": [],
   "source": [
    "a = []\n",
    "a.append(aa_find(df.iloc[1].sequence).values())\n",
    "a.append(aa_find(df.iloc[2].sequence).values())\n",
    "a.append(aa_find(df.iloc[3].sequence).values())\n",
    "pd.DataFrame(a)"
   ]
  },
  {
   "cell_type": "code",
   "execution_count": null,
   "metadata": {
    "collapsed": false
   },
   "outputs": [],
   "source": [
    "[a[1] for a in aa_find(df.iloc[1].sequence).items()]"
   ]
  },
  {
   "cell_type": "code",
   "execution_count": null,
   "metadata": {
    "collapsed": false
   },
   "outputs": [],
   "source": [
    "aa_find(df.iloc[1].sequence).items()"
   ]
  },
  {
   "cell_type": "code",
   "execution_count": null,
   "metadata": {
    "collapsed": false
   },
   "outputs": [],
   "source": [
    "codon_to_aa.items()\n",
    "codon_map.items()"
   ]
  },
  {
   "cell_type": "markdown",
   "metadata": {},
   "source": [
    "\n",
    "## Feature Development"
   ]
  },
  {
   "cell_type": "code",
   "execution_count": null,
   "metadata": {
    "collapsed": true
   },
   "outputs": [],
   "source": [
    "# ngrams\n",
    "- 3 grams, which frame?, relationship between subsequent sequence fragments.\n",
    "... am I next to a fragment"
   ]
  },
  {
   "cell_type": "code",
   "execution_count": null,
   "metadata": {
    "collapsed": false
   },
   "outputs": [],
   "source": [
    "\"atg\" in \"gowijgoijatgsoijdfo\""
   ]
  },
  {
   "cell_type": "code",
   "execution_count": null,
   "metadata": {
    "collapsed": false
   },
   "outputs": [],
   "source": [
    "gene_df.sequence[0]"
   ]
  },
  {
   "cell_type": "code",
   "execution_count": null,
   "metadata": {
    "collapsed": true
   },
   "outputs": [],
   "source": [
    "from sklearn.feature_extraction.text import CountVectorizer\n",
    "vectorizer = CountVectorizer(analyzer = 'char_wb', ngram_range=(1,3), min_df= 1)\n",
    "d = vectorizer.fit_transform(list(gene_df['sequence']))"
   ]
  },
  {
   "cell_type": "code",
   "execution_count": null,
   "metadata": {
    "collapsed": false
   },
   "outputs": [],
   "source": [
    "def frameShift(seq,shift):\n",
    "    new_seq = ''\n",
    "    for j, i in enumerate(seq):\n",
    "        if j % shift == 0:\n",
    "            new_seq = new_seq + i + ' '\n",
    "        else: \n",
    "            new_seq = new_seq + i\n",
    "    return new_seq\n",
    "\n",
    "\n",
    "fs = [frameShift(seq,3) for seq in gene_df.sequence]"
   ]
  },
  {
   "cell_type": "code",
   "execution_count": null,
   "metadata": {
    "collapsed": false
   },
   "outputs": [],
   "source": [
    "fs[0]"
   ]
  },
  {
   "cell_type": "code",
   "execution_count": null,
   "metadata": {
    "collapsed": true
   },
   "outputs": [],
   "source": [
    "from sklearn.feature_extraction.text import CountVectorizer\n",
    "vectorizer = CountVectorizer(analyzer = 'char_wb', ngram_range=(3,3), min_df= 1)\n",
    "d = vectorizer.fit_transform(fs)"
   ]
  },
  {
   "cell_type": "code",
   "execution_count": null,
   "metadata": {
    "collapsed": false
   },
   "outputs": [],
   "source": [
    "fs[0]"
   ]
  },
  {
   "cell_type": "code",
   "execution_count": null,
   "metadata": {
    "collapsed": false,
    "scrolled": true
   },
   "outputs": [],
   "source": [
    "x = vectorizer.vocabulary_.copy()\n",
    "my_dict2 = dict((y,str(x)) for x,y in x.iteritems())"
   ]
  },
  {
   "cell_type": "code",
   "execution_count": null,
   "metadata": {
    "collapsed": false
   },
   "outputs": [],
   "source": [
    "my_dict2 = dict((y,str(x)) for x,y in x.iteritems())"
   ]
  },
  {
   "cell_type": "code",
   "execution_count": null,
   "metadata": {
    "collapsed": false
   },
   "outputs": [],
   "source": [
    "my_dict2"
   ]
  },
  {
   "cell_type": "code",
   "execution_count": null,
   "metadata": {
    "collapsed": false
   },
   "outputs": [],
   "source": [
    "nx = [x.pop(val) for val in vectorizer.vocabulary_ if len(val.strip()) != 3]\n"
   ]
  },
  {
   "cell_type": "code",
   "execution_count": null,
   "metadata": {
    "collapsed": false
   },
   "outputs": [],
   "source": [
    "gg = list(d)"
   ]
  },
  {
   "cell_type": "code",
   "execution_count": null,
   "metadata": {
    "collapsed": false
   },
   "outputs": [],
   "source": [
    "len(gg)"
   ]
  },
  {
   "cell_type": "code",
   "execution_count": null,
   "metadata": {
    "collapsed": false
   },
   "outputs": [],
   "source": [
    "len(d.indptr)\n",
    "len(d.data)"
   ]
  },
  {
   "cell_type": "code",
   "execution_count": null,
   "metadata": {
    "collapsed": false
   },
   "outputs": [],
   "source": [
    "test = gg[0]"
   ]
  },
  {
   "cell_type": "code",
   "execution_count": null,
   "metadata": {
    "collapsed": false
   },
   "outputs": [],
   "source": [
    "import pandas as pd\n",
    "\n",
    "l = []\n",
    "for i in range(len(gg)):\n",
    "    doc = gg[i]\n",
    "    l.append(pd.DataFrame({\"doc\":i,\"index\":doc.indices,\"count\":doc.data}))\n",
    "dum = pd.concat(l)\n",
    "# df2 = pd.DataFrame({\"index\":doc.indices,\"count\":doc.data})\n",
    "# df2\n"
   ]
  },
  {
   "cell_type": "code",
   "execution_count": null,
   "metadata": {
    "collapsed": false
   },
   "outputs": [],
   "source": [
    "len(set(dum.doc))"
   ]
  },
  {
   "cell_type": "code",
   "execution_count": null,
   "metadata": {
    "collapsed": false
   },
   "outputs": [],
   "source": [
    "dum.index"
   ]
  },
  {
   "cell_type": "code",
   "execution_count": null,
   "metadata": {
    "collapsed": false
   },
   "outputs": [],
   "source": [
    "x = vectorizer.vocabulary_.copy()\n",
    "my_dict2 = dict((y,str(x)) for x,y in x.iteritems())\n",
    "dum[\"codon\"] = dum['index'].apply(lambda ind: my_dict2[ind])\n",
    "codonCount = dum[dum.codon.apply(lambda v: len(v.strip())) == 3]"
   ]
  },
  {
   "cell_type": "code",
   "execution_count": null,
   "metadata": {
    "collapsed": false
   },
   "outputs": [],
   "source": [
    "codonCount = dum[dum.codon.apply(lambda v: len(v.strip())) == 3]\n",
    "# dum.codon.apply(lambda v: len(v.strip()))"
   ]
  },
  {
   "cell_type": "code",
   "execution_count": null,
   "metadata": {
    "collapsed": false
   },
   "outputs": [],
   "source": [
    "codonCount"
   ]
  },
  {
   "cell_type": "code",
   "execution_count": null,
   "metadata": {
    "collapsed": true
   },
   "outputs": [],
   "source": [
    "ngrams = list(vectorizer.get_feature_names())\n",
    "[gram.strip() for gram in ngrams if len(gram.strip()) == 3]\n",
    "\n",
    "\n"
   ]
  },
  {
   "cell_type": "code",
   "execution_count": null,
   "metadata": {
    "collapsed": false
   },
   "outputs": [],
   "source": [
    "df"
   ]
  },
  {
   "cell_type": "code",
   "execution_count": null,
   "metadata": {
    "collapsed": false
   },
   "outputs": [],
   "source": [
    "codon_map = {\"I\":[\"ATT\", \"ATC\", \"ATA\"],\"L\":[\"CTT\", \"CTC\", \"CTA\", \"CTG\", \"TTA\",\" TTG\"],\n",
    "          \"V\":[\"GTT\", \"GTC\", \"GTA\", \"GTG\"],\"F\":[\"TTT\", \"TTC\"],\"M\":[\"ATG\"],\"C\":[\"TGT\", \"TGC\"],\n",
    "          \"A\":[\"GCT\", \"GCC\", \"GCA\", \"GCG\"],\"G\":[\"GGT\", \"GGC\", \"GGA\", \"GGG\"],\n",
    "          \"P\":[\"CCT\", \"CCC\", \"CCA\", \"CCG\"],\n",
    "          \"T\":[\"ACT\", \"ACC\", \"ACA\", \"ACG\"],\"S\":[\"TCT\", \"TCC\", \"TCA\", \"TCG\", \"AGT\", \"AGC\"],\n",
    "          \"Y\":[\"TAT\", \"TAC\"],\"W\":[\"TGG\"],\"Q\":[\"CAA\", \"CAG\"],\"N\":[\"AAT\", \"AAC\"],\"H\":[\"CAT\", \"CAC\"],\n",
    "             \"E\":[\"GAA\", \"GAG\"],\"D\":[\"GAT\", \"GAC\"],\"K\":[\"AAA\", \"AAG\"],\n",
    "             \"R\":[\"CGT\", \"CGC\", \"CGA\", \"CGG\",\"AGA\", \"AGG\"],\"Stop\":[\"TAA\", \"TAG\", \"TGA\"]}\n",
    "def invert(d):\n",
    "    return dict( (v,k) for k in d for v in d[k] )\n",
    "codon_to_aa = invert(codon_map)\n",
    "\n",
    "def codonToAA(strand):\n",
    "    aa_seq = ''.join([codon_to_aa(codon) for codon in strand])\n",
    "    return aa_seq"
   ]
  },
  {
   "cell_type": "code",
   "execution_count": null,
   "metadata": {
    "collapsed": false
   },
   "outputs": [],
   "source": [
    "codon_to_aa\n",
    "\n",
    "#e"
   ]
  },
  {
   "cell_type": "code",
   "execution_count": null,
   "metadata": {
    "collapsed": true
   },
   "outputs": [],
   "source": [
    "def codonToAA(strand):\n",
    "    aa_seq = ''.join([codon_to_aa(codon) for codon in strand])\n",
    "    return aa_seq\n"
   ]
  },
  {
   "cell_type": "code",
   "execution_count": null,
   "metadata": {
    "collapsed": false
   },
   "outputs": [],
   "source": [
    "new_seq"
   ]
  },
  {
   "cell_type": "code",
   "execution_count": null,
   "metadata": {
    "collapsed": false
   },
   "outputs": [],
   "source": [
    "ngrams = list(vectorizer.get_feature_names())\n",
    "ngrams\n"
   ]
  },
  {
   "cell_type": "code",
   "execution_count": null,
   "metadata": {
    "collapsed": true
   },
   "outputs": [],
   "source": [
    "## amino acid to nucleotide chart http://www.cbs.dtu.dk/courses/27619/codon.html\n",
    "aa = [\"I\",\"L\",\"V\",\"F\",\"M\",\"C\",\"A\",\"G\",\"P\",\"T\",\"S\",\"Y\",\"W\",\"Q\",\"N\",\"H\",\"E\",\"D\",\"K\",\"R\",\"STOP\"]\n",
    "aa_name = [\"Isoleucine\",\"Leucine\",\"Valine\",\"Phenylalanine\",\"Methionine\",\"Cysteine\",\"Alanine\",\n",
    "           \"Glycine\",\"Proline\",\"Threonine\",\"Serine\",\"Tyrosine\",\"Tryptophan\",\n",
    "           \"Glutamine\",\"Asparagine\",\"Histidine\",\"Glutamic_acid\", \"Aspartic_acid\", \n",
    "           \"Lysine\",\"Arginine\",\"Stop_codons\"]\n",
    "codons = [[\"ATT\", \"ATC\", \"ATA\"],[\"CTT\", \"CTC\", \"CTA\", \"CTG\", \"TTA\",\" TTG\"],\n",
    "          [\"GTT\", \"GTC\", \"GTA\", \"GTG\"],[\"TTT\", \"TTC\"],[\"ATG\"],[\"TGT\", \"TGC\"],\n",
    "          [\"GCT\", \"GCC\", \"GCA\", \"GCG\"],[\"GGT\", \"GGC\", \"GGA\", \"GGG\"],\n",
    "          [\"CCT\", \"CCC\", \"CCA\", \"CCG\"],\n",
    "          [\"ACT\", \"ACC\", \"ACA\", \"ACG\"],[\"TCT\", \"TCC\", \"TCA\", \"TCG\", \"AGT\", \"AGC\"],\n",
    "          [\"TAT\", \"TAC\"],[\"TGG\"],[\"CAA\", \"CAG\"],[\"AAT\", \"AAC\"],[\"CAT\", \"CAC\"],[\"GAA\", \"GAG\"],\n",
    "          [\"GAT\", \"GAC\"],[\"AAA\", \"AAG\"],[\"CGT\", \"CGC\", \"CGA\", \"CGG\",\"AGA\", \"AGG\"],\n",
    "          [\"TAA\", \"TAG\", \"TGA\"]]\n",
    "\n",
    "codon_map = {\"I\":[\"ATT\", \"ATC\", \"ATA\"],\"L\":[\"CTT\", \"CTC\", \"CTA\", \"CTG\", \"TTA\",\" TTG\"],\n",
    "          \"V\":[\"GTT\", \"GTC\", \"GTA\", \"GTG\"],\"F\":[\"TTT\", \"TTC\"],\"M\":[\"ATG\"],\"C\":[\"TGT\", \"TGC\"],\n",
    "          \"A\":[\"GCT\", \"GCC\", \"GCA\", \"GCG\"],\"G\":[\"GGT\", \"GGC\", \"GGA\", \"GGG\"],\n",
    "          \"P\":[\"CCT\", \"CCC\", \"CCA\", \"CCG\"],\n",
    "          \"T\":[\"ACT\", \"ACC\", \"ACA\", \"ACG\"],\"S\":[\"TCT\", \"TCC\", \"TCA\", \"TCG\", \"AGT\", \"AGC\"],\n",
    "          \"Y\":[\"TAT\", \"TAC\"],\"W\":[\"TGG\"],\"Q\"[\"CAA\", \"CAG\"],\"N\":[\"AAT\", \"AAC\"],\"H\":[\"CAT\", \"CAC\"],\n",
    "             \"E\":[\"GAA\", \"GAG\"],\"D\":[\"GAT\", \"GAC\"],\"K\":[\"AAA\", \"AAG\"],\n",
    "             \"R\":[\"CGT\", \"CGC\", \"CGA\", \"CGG\",\"AGA\", \"AGG\"],\"Stop\":[\"TAA\", \"TAG\", \"TGA\"]}\n",
    "def invert(d):\n",
    "    return dict( (v,k) for k in d for v in d[k] )\n",
    "# aa_properties\n",
    "Aliphatic: Alanine,Isoleucine,Leucine,Valine\n",
    "Aromatic: Phenylalanine, Tryptophan, Tyrosine\n",
    "Polar_neutral: Asparagine, Cysteine, Glutamine, Methionine,Serine,Threonine\n",
    "charged: Aspartic acid, Glutamic acid\n",
    "    \n",
    "Properties table\n",
    "https://www.thermofisher.com/us/en/home/life-science/protein-biology/protein-biology-learning-center/protein-biology-resource-library/pierce-protein-methods/amino-acid-physical-properties.html\n",
    "\n",
    "http://www.ncbi.nlm.nih.gov/pmc/articles/PMC3456822/pdf/10867_2004_Article_396406.pdf\n",
    "\n",
    "http://www.proteinstructures.com/Structure/Structure/amino-acids.html"
   ]
  },
  {
   "cell_type": "code",
   "execution_count": null,
   "metadata": {
    "collapsed": false
   },
   "outputs": [],
   "source": [
    "codon_map = {\"I\":[\"ATT\", \"ATC\", \"ATA\"],\"L\":[\"CTT\", \"CTC\", \"CTA\", \"CTG\", \"TTA\",\" TTG\"],\n",
    "          \"V\":[\"GTT\", \"GTC\", \"GTA\", \"GTG\"],\"F\":[\"TTT\", \"TTC\"],\"M\":[\"ATG\"],\"C\":[\"TGT\", \"TGC\"],\n",
    "          \"A\":[\"GCT\", \"GCC\", \"GCA\", \"GCG\"],\"G\":[\"GGT\", \"GGC\", \"GGA\", \"GGG\"],\n",
    "          \"P\":[\"CCT\", \"CCC\", \"CCA\", \"CCG\"],\n",
    "          \"T\":[\"ACT\", \"ACC\", \"ACA\", \"ACG\"],\"S\":[\"TCT\", \"TCC\", \"TCA\", \"TCG\", \"AGT\", \"AGC\"],\n",
    "          \"Y\":[\"TAT\", \"TAC\"],\"W\":[\"TGG\"],\"Q\":[\"CAA\", \"CAG\"],\"N\":[\"AAT\", \"AAC\"],\"H\":[\"CAT\", \"CAC\"],\n",
    "             \"E\":[\"GAA\", \"GAG\"],\"D\":[\"GAT\", \"GAC\"],\"K\":[\"AAA\", \"AAG\"],\n",
    "             \"R\":[\"CGT\", \"CGC\", \"CGA\", \"CGG\",\"AGA\", \"AGG\"],\"Stop\":[\"TAA\", \"TAG\", \"TGA\"]}\n",
    "def invert(d):\n",
    "    return dict( (v,k) for k in d for v in d[k] )\n",
    "codon_to_aa = invert(codon_map)"
   ]
  },
  {
   "cell_type": "code",
   "execution_count": null,
   "metadata": {
    "collapsed": false
   },
   "outputs": [],
   "source": [
    "codon_to_aa"
   ]
  },
  {
   "cell_type": "markdown",
   "metadata": {
    "collapsed": true
   },
   "source": [
    "## Model testing"
   ]
  },
  {
   "cell_type": "code",
   "execution_count": 339,
   "metadata": {
    "collapsed": true
   },
   "outputs": [],
   "source": [
    "from sklearn.linear_model import LogisticRegression\n",
    "from sklearn.naive_bayes import GaussianNB\n",
    "from sklearn.svm import SVC\n",
    "from sklearn.tree import DecisionTreeClassifier\n",
    "from sklearn.ensemble import RandomForestClassifier\n",
    "from sklearn.neighbors import KNeighborsClassifier\n",
    "\n",
    "from sklearn.metrics import accuracy_score, classification_report\n",
    "\n",
    "\n",
    "from sklearn.learning_curve import learning_curve\n",
    "\n",
    "from sklearn.cross_validation import train_test_split, KFold, cross_val_score"
   ]
  },
  {
   "cell_type": "code",
   "execution_count": null,
   "metadata": {
    "collapsed": false
   },
   "outputs": [],
   "source": [
    "# x = df[[\"a\",\"c\",\"g\",\"t\",\"start\",\"stop\"]]\n",
    "y = df.gene\n",
    "x = aa_counts.drop('gene', 1)"
   ]
  },
  {
   "cell_type": "code",
   "execution_count": 351,
   "metadata": {
    "collapsed": false
   },
   "outputs": [],
   "source": [
    "y = y.apply(lambda x: int(x))"
   ]
  },
  {
   "cell_type": "code",
   "execution_count": 352,
   "metadata": {
    "collapsed": false
   },
   "outputs": [
    {
     "name": "stdout",
     "output_type": "stream",
     "text": [
      "RandomForestClassifier Accuracy Score : 0.999500\n",
      "DecisionTreeClassifier Accuracy Score : 0.669966\n",
      "GaussianNB Accuracy Score : 0.996001\n",
      "SVC Accuracy Score : 0.999500\n",
      "KNeighborsClassifier Accuracy Score : 0.999500\n",
      "LogisticRegression Accuracy Score : 0.996901\n"
     ]
    }
   ],
   "source": [
    "algorithms = [RandomForestClassifier(), DecisionTreeClassifier(), GaussianNB(), \n",
    "              SVC(), KNeighborsClassifier(n_neighbors=6), LogisticRegression()]\n",
    "\n",
    "for algo in algorithms:\n",
    "    accuracy = cross_val_score(algo,x,y)\n",
    "    print(\"{:s} Accuracy Score : {:f}\".format(str(algo).split('(', 1)[0],accuracy.mean()))"
   ]
  },
  {
   "cell_type": "code",
   "execution_count": 52,
   "metadata": {
    "collapsed": true
   },
   "outputs": [],
   "source": [
    "import hmm"
   ]
  },
  {
   "cell_type": "code",
   "execution_count": null,
   "metadata": {
    "collapsed": true
   },
   "outputs": [],
   "source": []
  }
 ],
 "metadata": {
  "kernelspec": {
   "display_name": "Python 3",
   "language": "python",
   "name": "python3"
  },
  "language_info": {
   "codemirror_mode": {
    "name": "ipython",
    "version": 3
   },
   "file_extension": ".py",
   "mimetype": "text/x-python",
   "name": "python",
   "nbconvert_exporter": "python",
   "pygments_lexer": "ipython3",
   "version": "3.5.1"
  }
 },
 "nbformat": 4,
 "nbformat_minor": 0
}
