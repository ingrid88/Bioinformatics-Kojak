{
 "cells": [
  {
   "cell_type": "markdown",
   "metadata": {},
   "source": [
    "## Staph data\n",
    "http://users-birc.au.dk/cstorm/courses/MLiB_f14/project1.html"
   ]
  },
  {
   "cell_type": "code",
   "execution_count": 1,
   "metadata": {
    "collapsed": true
   },
   "outputs": [],
   "source": [
    "import requests\n",
    "import numpy as np\n",
    "import pandas as pd\n",
    "import re\n",
    "from itertools import groupby"
   ]
  },
  {
   "cell_type": "code",
   "execution_count": 2,
   "metadata": {
    "collapsed": true
   },
   "outputs": [],
   "source": [
    "staph_url = [\"http://users-birc.au.dk/cstorm/courses/MLiB_f14/projects/project3/genome1.fa\",\n",
    "            \"http://users-birc.au.dk/cstorm/courses/MLiB_f14/projects/project3/genome2.fa\",\n",
    "           \"http://users-birc.au.dk/cstorm/courses/MLiB_f14/projects/project3/genome3.fa\"]\n",
    "staph_annot = [\"http://users-birc.au.dk/cstorm/courses/MLiB_f14/projects/project3/annotation1.fa\",\n",
    "              \"http://users-birc.au.dk/cstorm/courses/MLiB_f14/projects/project3/annotation2.fa\"\n",
    "              \"http://users-birc.au.dk/cstorm/courses/MLiB_f14/projects/project3/annotation3.fa\"]"
   ]
  },
  {
   "cell_type": "markdown",
   "metadata": {
    "collapsed": true
   },
   "source": [
    "## Load/ Modify Data"
   ]
  },
  {
   "cell_type": "code",
   "execution_count": 3,
   "metadata": {
    "collapsed": true
   },
   "outputs": [],
   "source": [
    "def load_file(url,genome=True):\n",
    "    \"\"\"input: url for genome, \n",
    "    output: pulled data without header and as a single txt string\"\"\"\n",
    "    data = ''.join(requests.get(url).text.split(\"\\n\")[1::])\n",
    "    return data\n",
    "\n",
    "def segment_genome(data_string,split_size):\n",
    "    \"\"\"input: genome data string (data_string) and then size we should split the data (split_size)\n",
    "    output: array split by specified split_size\"\"\"\n",
    "    chunks = len(data_string)\n",
    "    data = [data_string[i:i+split_size] for i in range(0,chunks,split_size)]\n",
    "    return data\n",
    "\n",
    "def gene_label(annotation, min_gene=10):\n",
    "    \"\"\"Input: annotation\n",
    "    ouput: the label array for data (true if C or R else false for > 50% of line)\"\"\"\n",
    "    size = len(annotation[0])\n",
    "    print(size)\n",
    "    label = [True if len(line.strip(\"C\")) < size/2 or len(line.strip(\"R\")) < size/2 else False \n",
    "             for line in annotation]\n",
    "    return label\n",
    "\n",
    "def gene_label_dir(annotation,direction=\"C\"):\n",
    "    \"\"\"Input: annotation and direction is C (forward) unless specified as R (reverse)\n",
    "    ouput: the label array for data\"\"\"\n",
    "    size = len(annotation[0])\n",
    "    label = [True if len(line.strip(direction)) < size/2 else False \n",
    "             for line in annotation]\n",
    "    return label\n",
    "\n",
    "def nucleotide_frequency(seq):\n",
    "    '''Count the occurrences of characters in \"seq\".'''\n",
    "    counts = {'A':0,'C':0,'G':0,'T':0}\n",
    "    for c in seq:\n",
    "        counts[c] +=1\n",
    "    return counts"
   ]
  },
  {
   "cell_type": "code",
   "execution_count": 4,
   "metadata": {
    "collapsed": false
   },
   "outputs": [],
   "source": [
    "import re\n",
    "\n",
    "def ORF_finds(seq):\n",
    "    \"\"\"input: A sequence string (the genome) is taken and all the ATG's in the sequence are found\n",
    "    output: a list of start indices \n",
    "    *** on this reverse strand... these are from the end of the sequence!!\"\"\"\n",
    "    starts = [m.start() for m in re.finditer('ATG', seq)]\n",
    "    return starts\n",
    "\n",
    "def sequence_list(genome,ends,start):\n",
    "    \"\"\"input: output: \"\"\"\n",
    "    sequences = [genome[start:start+end+3] for end in ends[0]]\n",
    "    sequences += [genome[start:start+end+3] for end in ends[1]] \n",
    "    sequences += [genome[start:start+end+3] for end in ends[2]]\n",
    "    return sequences\n",
    "\n",
    "def sequence_list2(genome,ends,start,direction):\n",
    "    \"\"\"input: \"\"\"\n",
    "    frame = start % 3\n",
    "    sequences = [(start, start+end+3, 'taa', frame, direction) for end in ends[0]]\n",
    "    sequences += [(start, start+end+3, 'tag', frame, direction) for end in ends[1]] \n",
    "    sequences += [(start, start+end+3, 'tga', frame, direction) for end in ends[2]]\n",
    "    return sequences\n",
    "\n",
    "# def geneList(genome,direction):\n",
    "#     \"\"\"input: genome (character string), which direction we are looking at (the forward or reverse strand)\n",
    "#     output: a list of sequences on that particular strand of interest (forward or reverse complement)\"\"\"\n",
    "#     if direction == 'R':\n",
    "#         genome = reverse_complement(genome)\n",
    "#     starts = ORF_finds(genome)\n",
    "#     sequences = []\n",
    "#     for start in starts:\n",
    "#         ## m.start()+1 so that when we sample the sequence we go from \n",
    "#         ends = [[m.start() for m in re.finditer(x, genome[start:start+2000]) if m.start() % 3 == 0] for x in [\"TAA\", \"TAG\", \"TGA\"]]\n",
    "#         if direction == 'R':\n",
    "#             length = len(genome)\n",
    "#             start = length - 3 - start  # CAT ~ ATG (length - 1 - 2)\n",
    "#             ends = [[length - e for e in end] for end in ends]\n",
    "#         sequences.append(sequence_list2(genome,ends,start,direction))\n",
    "#     return sequences \n",
    "\n",
    "def geneList(genome,direction):\n",
    "    \"\"\"input: genome (character string), which direction we are looking at (the forward or reverse strand)\n",
    "    output: a list of sequences on that particular strand of interest (forward or reverse complement)\"\"\"\n",
    "    starts = ORF_finds(genome)\n",
    "    sequences = []\n",
    "    for start in starts:\n",
    "        ## m.start()+1 so that when we sample the sequence we go from \n",
    "        ends = [[m.start() for m in re.finditer(x, genome[start:start+2000]) if m.start() % 3 == 0] for x in [\"TAA\", \"TAG\", \"TGA\"]]\n",
    "        sequences.append(sequence_list2(genome,ends,start,direction))\n",
    "    return sequences   \n",
    "\n",
    "def fixed(possible_reverse_sequences, genome_length):\n",
    "    fixed_reversed_sequences = []\n",
    "    for possible_reverse in possible_reverse_sequences:\n",
    "        f = [(genome_length - end , genome_length - start,end_codon,frame,strand) for start,end,end_codon,frame,strand in possible_reverse]\n",
    "        fixed_reversed_sequences.append(f)\n",
    "    return fixed_reversed_sequences\n",
    "\n",
    "def potentialGenes(genome):\n",
    "    \"\"\"input: genome which is a string of a's, t's, g's, c's\n",
    "    ouput: the number of possible genes that start with ATG and \n",
    "    end with taa,tag, or tga on the forward and reverse complement DNA strand\"\"\"\n",
    "    forwards = geneList(genome,'F')\n",
    "    reversed_genome = reverse_complement(str(genome))\n",
    "    reverse = geneList(reversed_genome,'R')\n",
    "    reverses = fixed(reverse, len(genome))\n",
    "    combos = forwards + reverses\n",
    "    return combos"
   ]
  },
  {
   "cell_type": "code",
   "execution_count": 10,
   "metadata": {
    "collapsed": false
   },
   "outputs": [
    {
     "ename": "NameError",
     "evalue": "name 'data' is not defined",
     "output_type": "error",
     "traceback": [
      "\u001b[0;31m---------------------------------------------------------------------------\u001b[0m",
      "\u001b[0;31mNameError\u001b[0m                                 Traceback (most recent call last)",
      "\u001b[0;32m<ipython-input-10-535e5913ab2a>\u001b[0m in \u001b[0;36m<module>\u001b[0;34m()\u001b[0m\n\u001b[0;32m----> 1\u001b[0;31m \u001b[0mty\u001b[0m \u001b[0;34m=\u001b[0m \u001b[0mORF_finds\u001b[0m\u001b[0;34m(\u001b[0m\u001b[0mdata\u001b[0m\u001b[0;34m)\u001b[0m\u001b[0;34m\u001b[0m\u001b[0m\n\u001b[0m",
      "\u001b[0;31mNameError\u001b[0m: name 'data' is not defined"
     ]
    }
   ],
   "source": [
    "ty = ORF_finds(data)"
   ]
  },
  {
   "cell_type": "code",
   "execution_count": 125,
   "metadata": {
    "collapsed": false
   },
   "outputs": [
    {
     "data": {
      "text/plain": [
       "1732446"
      ]
     },
     "execution_count": 125,
     "metadata": {},
     "output_type": "execute_result"
    }
   ],
   "source": [
    "ty[30880]\n",
    "#1628381\n",
    "# data[1732800]"
   ]
  },
  {
   "cell_type": "code",
   "execution_count": 65,
   "metadata": {
    "collapsed": false
   },
   "outputs": [],
   "source": [
    "te = fixed(geneList(reverse_complement(data), 'R'),len(data))"
   ]
  },
  {
   "cell_type": "code",
   "execution_count": 5,
   "metadata": {
    "collapsed": true
   },
   "outputs": [],
   "source": [
    "def reverse_complement(genome):\n",
    "    \"\"\"input: genome, output: reverse complement\"\"\"\n",
    "    switch = {\"A\":\"T\",\"G\":\"C\",\"T\":\"A\",\"C\":\"G\"}\n",
    "    rc = ''.join([switch[letter] for letter in genome])[::-1]\n",
    "    return rc"
   ]
  },
  {
   "cell_type": "code",
   "execution_count": 6,
   "metadata": {
    "collapsed": true
   },
   "outputs": [],
   "source": [
    "codon_map = {\"I\":[\"ATT\", \"ATC\", \"ATA\"],\"L\":[\"CTT\", \"CTC\", \"CTA\", \"CTG\", \"TTA\",\" TTG\"],\n",
    "          \"V\":[\"GTT\", \"GTC\", \"GTA\", \"GTG\"],\"F\":[\"TTT\", \"TTC\"],\"M\":[\"ATG\"],\"C\":[\"TGT\", \"TGC\"],\n",
    "          \"A\":[\"GCT\", \"GCC\", \"GCA\", \"GCG\"],\"G\":[\"GGT\", \"GGC\", \"GGA\", \"GGG\"],\n",
    "          \"P\":[\"CCT\", \"CCC\", \"CCA\", \"CCG\"],\n",
    "          \"T\":[\"ACT\", \"ACC\", \"ACA\", \"ACG\"],\"S\":[\"TCT\", \"TCC\", \"TCA\", \"TCG\", \"AGT\", \"AGC\"],\n",
    "          \"Y\":[\"TAT\", \"TAC\"],\"W\":[\"TGG\"],\"Q\":[\"CAA\", \"CAG\"],\"N\":[\"AAT\", \"AAC\"],\"H\":[\"CAT\", \"CAC\"],\n",
    "             \"E\":[\"GAA\", \"GAG\"],\"D\":[\"GAT\", \"GAC\"],\"K\":[\"AAA\", \"AAG\"],\n",
    "             \"R\":[\"CGT\", \"CGC\", \"CGA\", \"CGG\",\"AGA\", \"AGG\"],\"Stop\":[\"TAA\", \"TAG\", \"TGA\"]}\n",
    "\n",
    "def invert(d):\n",
    "    return dict( (v,k) for k in d for v in d[k] )\n",
    "\n",
    "codon_to_aa = invert(codon_map)\n",
    "\n",
    "def codonToAA(strand):\n",
    "    aa_seq = ''.join([codon_to_aa(codon) for codon in strand])\n",
    "    return aa_seq"
   ]
  },
  {
   "cell_type": "code",
   "execution_count": 7,
   "metadata": {
    "collapsed": false
   },
   "outputs": [],
   "source": [
    "## amino acid to nucleotide chart http://www.cbs.dtu.dk/courses/27619/codon.html\n",
    "aa = [\"I\",\"L\",\"V\",\"F\",\"M\",\"C\",\"A\",\"G\",\"P\",\"T\",\"S\",\"Y\",\"W\",\"Q\",\"N\",\"H\",\"E\",\"D\",\"K\",\"R\",\"STOP\"]\n",
    "aa_name = [\"Isoleucine\",\"Leucine\",\"Valine\",\"Phenylalanine\",\"Methionine\",\"Cysteine\",\"Alanine\",\n",
    "           \"Glycine\",\"Proline\",\"Threonine\",\"Serine\",\"Tyrosine\",\"Tryptophan\",\n",
    "           \"Glutamine\",\"Asparagine\",\"Histidine\",\"Glutamic_acid\", \"Aspartic_acid\", \n",
    "           \"Lysine\",\"Arginine\",\"Stop_codons\"]\n",
    "codons = [[\"ATT\", \"ATC\", \"ATA\"],[\"CTT\", \"CTC\", \"CTA\", \"CTG\", \"TTA\",\" TTG\"],\n",
    "          [\"GTT\", \"GTC\", \"GTA\", \"GTG\"],[\"TTT\", \"TTC\"],[\"ATG\"],[\"TGT\", \"TGC\"],\n",
    "          [\"GCT\", \"GCC\", \"GCA\", \"GCG\"],[\"GGT\", \"GGC\", \"GGA\", \"GGG\"],\n",
    "          [\"CCT\", \"CCC\", \"CCA\", \"CCG\"],\n",
    "          [\"ACT\", \"ACC\", \"ACA\", \"ACG\"],[\"TCT\", \"TCC\", \"TCA\", \"TCG\", \"AGT\", \"AGC\"],\n",
    "          [\"TAT\", \"TAC\"],[\"TGG\"],[\"CAA\", \"CAG\"],[\"AAT\", \"AAC\"],[\"CAT\", \"CAC\"],[\"GAA\", \"GAG\"],\n",
    "          [\"GAT\", \"GAC\"],[\"AAA\", \"AAG\"],[\"CGT\", \"CGC\", \"CGA\", \"CGG\",\"AGA\", \"AGG\"],\n",
    "          [\"TAA\", \"TAG\", \"TGA\"]]\n",
    "\n",
    "codon_map = {\"I\":[\"ATT\", \"ATC\", \"ATA\"],\n",
    "             \"L\":[\"CTT\", \"CTC\", \"CTA\", \"CTG\", \"TTA\",\" TTG\"],\n",
    "             \"V\":[\"GTT\", \"GTC\", \"GTA\", \"GTG\"],\n",
    "             \"F\":[\"TTT\", \"TTC\"],\"M\":[\"ATG\"],\n",
    "             \"C\":[\"TGT\", \"TGC\"],\n",
    "             \"A\":[\"GCT\", \"GCC\", \"GCA\", \"GCG\"],\n",
    "             \"G\":[\"GGT\", \"GGC\", \"GGA\", \"GGG\"],\n",
    "             \"P\":[\"CCT\", \"CCC\", \"CCA\", \"CCG\"],\n",
    "             \"T\":[\"ACT\", \"ACC\", \"ACA\", \"ACG\"],\n",
    "             \"S\":[\"TCT\", \"TCC\", \"TCA\", \"TCG\", \"AGT\", \"AGC\"],\n",
    "             \"Y\":[\"TAT\", \"TAC\"],\n",
    "             \"W\":[\"TGG\"],\n",
    "             \"Q\":[\"CAA\", \"CAG\"],\n",
    "             \"N\":[\"AAT\", \"AAC\"],\n",
    "             \"H\":[\"CAT\", \"CAC\"],\n",
    "             \"E\":[\"GAA\", \"GAG\"],\n",
    "             \"D\":[\"GAT\", \"GAC\"],\n",
    "             \"K\":[\"AAA\", \"AAG\"],\n",
    "             \"R\":[\"CGT\", \"CGC\", \"CGA\", \"CGG\",\"AGA\", \"AGG\"],\n",
    "             \"Stop\":[\"TAA\", \"TAG\", \"TGA\"]}\n",
    "\n",
    "codon_properties_map = {}"
   ]
  },
  {
   "cell_type": "code",
   "execution_count": 8,
   "metadata": {
    "collapsed": false
   },
   "outputs": [],
   "source": [
    "## Thermofisher aa properties table\n",
    "from lxml import html\n",
    "def pull_page(url):\n",
    "    data = requests.get(url).text\n",
    "    return data\n",
    "tag = \"table table-bordered table-striped\"\n",
    "tag = \"table\"\n",
    "url = \"https://www.thermofisher.com/us/en/home/life-science/protein-biology/protein-biology-learning-center/protein-biology-resource-library/pierce-protein-methods/amino-acid-physical-properties.html\"\n",
    "\n",
    "page = html.fromstring(pull_page(url))\n",
    "tables = page.cssselect(tag)\n",
    "aa_table = pd.read_html(html.tostring(tables[0]),header=0)[0]\n"
   ]
  },
  {
   "cell_type": "markdown",
   "metadata": {},
   "source": [
    "### aa_properties\n",
    "Aliphatic: Alanine,Isoleucine,Leucine,Valine\n",
    "Aromatic: Phenylalanine, Tryptophan, Tyrosine\n",
    "Polar_neutral: Asparagine, Cysteine, Glutamine, Methionine,Serine,Threonine\n",
    "charged: Aspartic acid, Glutamic acid\n",
    "    \n",
    "Properties table\n",
    "https://www.thermofisher.com/us/en/home/life-science/protein-biology/protein-biology-learning-center/protein-biology-resource-library/pierce-protein-methods/amino-acid-physical-properties.html\n",
    "\n",
    "http://www.ncbi.nlm.nih.gov/pmc/articles/PMC3456822/pdf/10867_2004_Article_396406.pdf\n",
    "\n",
    "http://www.proteinstructures.com/Structure/Structure/amino-acids.html"
   ]
  },
  {
   "cell_type": "code",
   "execution_count": 9,
   "metadata": {
    "collapsed": false
   },
   "outputs": [],
   "source": [
    "# flipped_annot = annot[::-1]\n",
    "\n",
    "def check_gene_state(loc,annot,strand):\n",
    "    \"\"\"input: output: \"\"\"\n",
    "    start, end = int(loc[0]), int(loc[1])\n",
    "    fwd = list(set(annot[start:end+1]))\n",
    "    bhd = list(set(annot[start - 1:end]))\n",
    "    if strand == 'F':\n",
    "        states = list(set(annot[start:end]))\n",
    "        state = 'C'\n",
    "    else:\n",
    "        r_annot = flipped_annot\n",
    "        states = list(set(r_annot[start:end]))\n",
    "        state = 'R'\n",
    "    if len(states) == 1 and states[0] == state and len(fwd) != 1 and len(bhd) != 1:\n",
    "        return True\n",
    "    else:\n",
    "        return False"
   ]
  },
  {
   "cell_type": "code",
   "execution_count": 10,
   "metadata": {
    "collapsed": false
   },
   "outputs": [],
   "source": [
    "def build_training_data(annot, data):\n",
    "    \"\"\"This finds all the genes, non-coding regions, \n",
    "    reverse regions in the genome and returns them as a list\n",
    "    annot is the annotated genome with c's as forward genes, \n",
    "    n's as noncoding regions and r's as genes on the reverse complement strand. \n",
    "    data is the genome comprised of a's,t's,g's,c's. \n",
    "    Both annot and data are strings\"\"\"\n",
    "    d = []\n",
    "    i = 0\n",
    "    c = ''\n",
    "    start = 0\n",
    "    while i < len(annot)-1:\n",
    "        if str(annot[i]) != str(annot[i+1]):\n",
    "            end = i\n",
    "            d.append((start,end,str(c),str(annot[i-1])))\n",
    "            c = ''\n",
    "            start = i+1\n",
    "        else:\n",
    "            c = c + data[i]\n",
    "        i += 1\n",
    "    d.append((start,i,str(c),str(annot[i-1])))   \n",
    "    return d"
   ]
  },
  {
   "cell_type": "code",
   "execution_count": 11,
   "metadata": {
    "collapsed": false
   },
   "outputs": [],
   "source": [
    "from itertools import groupby\n",
    "\n",
    "def find_regions(annot,data):\n",
    "    \"\"\"This finds all the genes, non-coding regions, \n",
    "    reverse regions in the genome and returns them as a list\n",
    "    annot is the annotated genome with c's as forward genes, \n",
    "    n's as noncoding regions and r's as genes on the reverse complement strand. \n",
    "    data is the genome comprised of a's,t's,g's,c's. \n",
    "    Both annot and data are strings\"\"\"\n",
    "    stateGroups = groupby(enumerate(annot), lambda value: value[1])\n",
    "    genome_regions = [(state, [x for x, _ in iterator]) for state, iterator in stateGroups] \n",
    "    regions = [(region[0],min(region[1]),max(region[1])+1,\n",
    "                data[min(region[1]):max(region[1])+1]) for region in genome_regions]\n",
    "    return regions"
   ]
  },
  {
   "cell_type": "code",
   "execution_count": 12,
   "metadata": {
    "collapsed": false
   },
   "outputs": [],
   "source": [
    "def frameShift(seq,shift):\n",
    "    \"\"\"input: seq and shift -- shift not used....\"\"\"\n",
    "    new_seq = ''\n",
    "    for j, i in enumerate(seq):\n",
    "        if j % shift == 0:\n",
    "            new_seq = new_seq + i + ' '\n",
    "        else: \n",
    "            new_seq = new_seq + i\n",
    "    return new_seq\n",
    "\n",
    "\n",
    "# fs = [frameShift(seq,3) for seq in gene_df.sequence]"
   ]
  },
  {
   "cell_type": "code",
   "execution_count": 13,
   "metadata": {
    "collapsed": true
   },
   "outputs": [],
   "source": [
    "def state(annot):\n",
    "    \"\"\"input: states are possible annotations C forward gene,\n",
    "    N - not a gene, or R for reverse gene\"\"\"\n",
    "    states = list(set(annot))\n",
    "    return states\n",
    "\n",
    "def transitions(annot,state):\n",
    "    \"\"\"input: determine when transitions occur where annot is annotated \n",
    "    and state is the state i'm looking to transition from ouput: there location\"\"\"\n",
    "    trs = list(set(annot))\n",
    "    transits = {}\n",
    "    total = len(annot) \n",
    "\n",
    "    for transition_state in trs:\n",
    "        count = len([ts for i,ts in enumerate(annot[:-1]) if str(ts) == state and str(annot[i+1]) == transition_state])\n",
    "        transits[str(transition_state)] = count/total\n",
    "    return transits\n",
    "\n",
    "def emissions(genome,annot,state):\n",
    "    \"\"\"input: genome is  a genome, annot is its annotation, \n",
    "    state is the state i want to count nucleotide frequency of\"\"\"\n",
    "    ems = list(set(genome))\n",
    "    \n",
    "    emissions = {}\n",
    "    transition_totals = {}\n",
    "\n",
    "    total = len([letter for letter in annot if str(letter) == state])\n",
    "    for emission_state in ems:\n",
    "        count = len([letter for i,letter in enumerate(genome) if \n",
    "                     str(letter) == emission_state and str(annot[i])==state])\n",
    "        emissions[str(emission_state)] = count/total    \n",
    "    return emissions\n",
    "\n",
    "def prior_state_emissions(genome,annot):\n",
    "    \"\"\"input: \"\"\"\n",
    "    state_dictionary = {}\n",
    "    states = state(annot)\n",
    "    for s in states:\n",
    "        if s == 'N':\n",
    "            prob = 1\n",
    "        else:\n",
    "            prob = 0\n",
    "        em = emissions(genome,annot,s)\n",
    "        tr = transitions(annot,s)\n",
    "        state_dictionary[s] = [str(s),prob,em,tr]\n",
    "    return state_dictionary"
   ]
  },
  {
   "cell_type": "code",
   "execution_count": 14,
   "metadata": {
    "collapsed": true
   },
   "outputs": [],
   "source": [
    "# from collections import defaultdict\n",
    "def aa_find(seq):\n",
    "    \"\"\"find aa's in sequence\n",
    "    input: sequence, \n",
    "    output: dictionary of codons in sequence\"\"\"\n",
    "    codon_count = {}\n",
    "    for aa, codons in codon_map.items():\n",
    "        codon_count[aa] = 0\n",
    "        if any(x in seq for x in codons):\n",
    "            codon_count[aa] += 1\n",
    "    return codon_count"
   ]
  },
  {
   "cell_type": "code",
   "execution_count": 15,
   "metadata": {
    "collapsed": false
   },
   "outputs": [
    {
     "name": "stdout",
     "output_type": "stream",
     "text": [
      "Built table of sequences for each state in genome...\n",
      "  state  start   end                                                seq\n",
      "0     N      0   231  TTGTTGATATTCTGTTTTTTCTTTTTTAGTTTTCCACATGAAAAAT...\n",
      "1     C    231  1587  ATGACTGAAAATGAACAAATTTTTTGGAACAGGGTCTTGGAATTAG...\n",
      "2     N   1587  1741  CATGTGGAAAAGAATATCTTTTATGAAATAGTTATCCACAAGTTGT...\n",
      "3     C   1741  2878  ATGATTCAATTTTCAATTAATCGCACATTATTTATTCATGCTTTAA...\n",
      "4     N   2878  2952  GTAAGAAAAAGCTCCCTTTTAGGAGTTTTTTTGTTATTATAAATAT...\n",
      "State 'R' sequences were reverse complemented...\n"
     ]
    }
   ],
   "source": [
    "### Pipeline\n",
    "\n",
    "## load genome annotation\n",
    "annot = load_file(staph_annot[0])\n",
    "\n",
    "## load genome\n",
    "data = load_file(staph_url[0])\n",
    "\n",
    "## Built table of sequences for each state in genome\n",
    "region = find_regions(annot,data)\n",
    "# re = build_training_data(annot,data)\n",
    "regions = pd.DataFrame(region)\n",
    "regions.columns = [[\"state\",\"start\",\"end\",\"seq\"]]\n",
    "regions.head()\n",
    "print(\"Built table of sequences for each state in genome...\")\n",
    "print(regions.head(5))\n",
    "\n",
    "## Reverse Complement strands found on the Reverse strand\n",
    "regions.seq = regions.apply(lambda x: reverse_complement(x[3]) if x[0] == \"R\" else x[3],axis=1)\n",
    "print(\"State 'R' sequences were reverse complemented...\")"
   ]
  },
  {
   "cell_type": "code",
   "execution_count": 16,
   "metadata": {
    "collapsed": false
   },
   "outputs": [
    {
     "data": {
      "text/plain": [
       "N    1449\n",
       "C     809\n",
       "R     639\n",
       "Name: state, dtype: int64"
      ]
     },
     "execution_count": 16,
     "metadata": {},
     "output_type": "execute_result"
    }
   ],
   "source": [
    "regions.state.value_counts()"
   ]
  },
  {
   "cell_type": "code",
   "execution_count": 19,
   "metadata": {
    "collapsed": false
   },
   "outputs": [
    {
     "name": "stdout",
     "output_type": "stream",
     "text": [
      "Found potential sequences...\n",
      "Genome DataFrame Built...\n"
     ]
    }
   ],
   "source": [
    "## Find potential sequences\n",
    "pot_sequences = potentialGenes(data)\n",
    "print(\"Found potential sequences...\")\n",
    "\n",
    "## Create DataFrame\n",
    "df = pd.DataFrame(list(pd.DataFrame(pot_sequences).unstack().dropna()))\n",
    "df.columns=[[\"start\",\"end\",\"end_codon\",\"shift\",\"strand\"]]\n",
    "print(\"Genome DataFrame Built...\")"
   ]
  },
  {
   "cell_type": "markdown",
   "metadata": {},
   "source": [
    "### Is this a STOP or not?\n",
    "How many potential stops are there?\n",
    "Can I visualize where I see them in the genome\n",
    "Can I visualize where the actual stops are in the genome\n",
    "Can I predict where the actual stops are in the genome and which frame the are?"
   ]
  },
  {
   "cell_type": "code",
   "execution_count": 113,
   "metadata": {
    "collapsed": true
   },
   "outputs": [],
   "source": [
    "## Find all potential stop locations\n",
    "## Find closest in frame start\n",
    "## Tag if its (in) a gene or not and which frame we have found it within"
   ]
  },
  {
   "cell_type": "code",
   "execution_count": null,
   "metadata": {
    "collapsed": true
   },
   "outputs": [],
   "source": [
    "# def pos_fix(reverse_end_indices,genome_length):\n",
    "#     pos_list = [genome_length - indice - 1 for indice in reverse_end_indices]\n",
    "#     return pos_list\n",
    "\n",
    "# def stop_indices(genome):\n",
    "#     stops = [\"TAA\",\"TAG\",\"TGA\"]\n",
    "#     forward = [finds(genome,stop) for stop in stops]\n",
    "#     reverse = [pos_fix(finds(reverse_complement(genome), stop),len(genome)) for stop in stops]\n",
    "#     stop_locations = forward + reverse\n",
    "#     return stop_locations\n",
    "\n",
    "# def finds(seq,pattern):\n",
    "#     \"\"\"input: A sequence string (the genome) and a pattern sequence are\n",
    "#     taken and all the patterns in the sequence are found\n",
    "#     output: a list of start indices \n",
    "#     *** on this reverse strand... these are from the end of the sequence!!\"\"\"\n",
    "#     starts = [m.start() for m in re.finditer(pattern, seq)]\n",
    "#     return starts"
   ]
  },
  {
   "cell_type": "code",
   "execution_count": 56,
   "metadata": {
    "collapsed": true
   },
   "outputs": [],
   "source": [
    "import itertools\n",
    "from itertools import product\n",
    "\n",
    "def find_all_occurrences(pattern, string):\n",
    "    \"\"\"finds all occurrences of pattern in string, \n",
    "    returning a list of positions for each occurrence\"\"\"\n",
    "    occurence_indices = [m.start() for m in re.finditer(pattern, string)]\n",
    "    return occurence_indices\n",
    "\n",
    "def stop_indices(seq):\n",
    "    patterns = [\"TAA\",\"TAG\",\"TGA\"]\n",
    "    stop_locations = [find_all_occurrences(pattern,seq) for pattern in patterns]\n",
    "    stop_locations = list(itertools.chain(*stop_locations))\n",
    "    return stop_locations\n",
    "\n",
    "def start_indices(seq):\n",
    "    pattern = \"ATG\"\n",
    "    start_locations = find_all_occurrences(pattern,seq)\n",
    "    return start_locations\n",
    "\n",
    "def start_stops(genome):\n",
    "    \"\"\"input: output:\"\"\"\n",
    "    stop_locations = sorted(stop_indices(genome))\n",
    "    start_locations = start_indices(genome)\n",
    "    return [start_locations, stop_locations]\n",
    "\n",
    "def split_into_frames(starts,stops):\n",
    "    \"\"\"input: starts and stops are a list of indices \n",
    "    where starts: (ATGs) or stops: (taa,tag,tga) where found in the genome.\n",
    "    output: a list of tuples in the form of [...(start, stop, frame),...]\"\"\"\n",
    "    res = []\n",
    "    for i in range(3):\n",
    "        s = np.array([-1] + [start for start in starts if (start - i) % 3 == 0])\n",
    "        e = [end for end in stops if (end - i) % 3 == 0]\n",
    "        indices = np.searchsorted(s,e)\n",
    "        res += [(s[ind-1],e[index]+3,i) for index,ind in enumerate(indices)]\n",
    "    return res\n",
    "\n",
    "def process_genome(genome):\n",
    "    \"\"\"input: \n",
    "    output: \"\"\"\n",
    "    starts, stops = start_stops(genome)\n",
    "#     pairs = [pair for pair in split_into_frames(starts,stops) if pair[0] !=-1]\n",
    "    pairs = split_into_frames(starts,stops)\n",
    "    return pairs\n",
    "\n",
    "\n",
    "def split_into_frames(starts,stops):\n",
    "    res = []\n",
    "    for i in range(3):\n",
    "        s = np.array([-1] + [start for start in starts if (start - i) % 3 == 0])\n",
    "        e = [end for end in stops if (end - i) % 3 == 0]\n",
    "        res += clever_name(s,e)\n",
    "    return res\n",
    "    \n",
    "    \n",
    "def clever_name(s,e):\n",
    "    indices = np.searchsorted(s,e)\n",
    "    return np.stack([s[indices-1], e]).T\n",
    "\n"
   ]
  },
  {
   "cell_type": "code",
   "execution_count": 54,
   "metadata": {
    "collapsed": false
   },
   "outputs": [],
   "source": [
    "tester = data[0:3000]"
   ]
  },
  {
   "cell_type": "code",
   "execution_count": 57,
   "metadata": {
    "collapsed": false
   },
   "outputs": [
    {
     "ename": "ValueError",
     "evalue": "operands could not be broadcast together with shapes (0,) (50,2) ",
     "output_type": "error",
     "traceback": [
      "\u001b[0;31m---------------------------------------------------------------------------\u001b[0m",
      "\u001b[0;31mValueError\u001b[0m                                Traceback (most recent call last)",
      "\u001b[0;32m<ipython-input-57-36b0446142c1>\u001b[0m in \u001b[0;36m<module>\u001b[0;34m()\u001b[0m\n\u001b[0;32m----> 1\u001b[0;31m \u001b[0mF_pairs\u001b[0m \u001b[0;34m=\u001b[0m \u001b[0mprocess_genome\u001b[0m\u001b[0;34m(\u001b[0m\u001b[0mtester\u001b[0m\u001b[0;34m)\u001b[0m\u001b[0;34m\u001b[0m\u001b[0m\n\u001b[0m\u001b[1;32m      2\u001b[0m \u001b[0;31m# R_pairs = genome_end_genes(r_data)\u001b[0m\u001b[0;34m\u001b[0m\u001b[0;34m\u001b[0m\u001b[0m\n",
      "\u001b[0;32m<ipython-input-56-e996b945bd33>\u001b[0m in \u001b[0;36mprocess_genome\u001b[0;34m(genome)\u001b[0m\n\u001b[1;32m     42\u001b[0m     \u001b[0mstarts\u001b[0m\u001b[0;34m,\u001b[0m \u001b[0mstops\u001b[0m \u001b[0;34m=\u001b[0m \u001b[0mstart_stops\u001b[0m\u001b[0;34m(\u001b[0m\u001b[0mgenome\u001b[0m\u001b[0;34m)\u001b[0m\u001b[0;34m\u001b[0m\u001b[0m\n\u001b[1;32m     43\u001b[0m \u001b[0;31m#     pairs = [pair for pair in split_into_frames(starts,stops) if pair[0] !=-1]\u001b[0m\u001b[0;34m\u001b[0m\u001b[0;34m\u001b[0m\u001b[0m\n\u001b[0;32m---> 44\u001b[0;31m     \u001b[0mpairs\u001b[0m \u001b[0;34m=\u001b[0m \u001b[0msplit_into_frames\u001b[0m\u001b[0;34m(\u001b[0m\u001b[0mstarts\u001b[0m\u001b[0;34m,\u001b[0m\u001b[0mstops\u001b[0m\u001b[0;34m)\u001b[0m\u001b[0;34m\u001b[0m\u001b[0m\n\u001b[0m\u001b[1;32m     45\u001b[0m     \u001b[0;32mreturn\u001b[0m \u001b[0mpairs\u001b[0m\u001b[0;34m\u001b[0m\u001b[0m\n\u001b[1;32m     46\u001b[0m \u001b[0;34m\u001b[0m\u001b[0m\n",
      "\u001b[0;32m<ipython-input-56-e996b945bd33>\u001b[0m in \u001b[0;36msplit_into_frames\u001b[0;34m(starts, stops)\u001b[0m\n\u001b[1;32m     51\u001b[0m         \u001b[0ms\u001b[0m \u001b[0;34m=\u001b[0m \u001b[0mnp\u001b[0m\u001b[0;34m.\u001b[0m\u001b[0marray\u001b[0m\u001b[0;34m(\u001b[0m\u001b[0;34m[\u001b[0m\u001b[0;34m-\u001b[0m\u001b[0;36m1\u001b[0m\u001b[0;34m]\u001b[0m \u001b[0;34m+\u001b[0m \u001b[0;34m[\u001b[0m\u001b[0mstart\u001b[0m \u001b[0;32mfor\u001b[0m \u001b[0mstart\u001b[0m \u001b[0;32min\u001b[0m \u001b[0mstarts\u001b[0m \u001b[0;32mif\u001b[0m \u001b[0;34m(\u001b[0m\u001b[0mstart\u001b[0m \u001b[0;34m-\u001b[0m \u001b[0mi\u001b[0m\u001b[0;34m)\u001b[0m \u001b[0;34m%\u001b[0m \u001b[0;36m3\u001b[0m \u001b[0;34m==\u001b[0m \u001b[0;36m0\u001b[0m\u001b[0;34m]\u001b[0m\u001b[0;34m)\u001b[0m\u001b[0;34m\u001b[0m\u001b[0m\n\u001b[1;32m     52\u001b[0m         \u001b[0me\u001b[0m \u001b[0;34m=\u001b[0m \u001b[0;34m[\u001b[0m\u001b[0mend\u001b[0m \u001b[0;32mfor\u001b[0m \u001b[0mend\u001b[0m \u001b[0;32min\u001b[0m \u001b[0mstops\u001b[0m \u001b[0;32mif\u001b[0m \u001b[0;34m(\u001b[0m\u001b[0mend\u001b[0m \u001b[0;34m-\u001b[0m \u001b[0mi\u001b[0m\u001b[0;34m)\u001b[0m \u001b[0;34m%\u001b[0m \u001b[0;36m3\u001b[0m \u001b[0;34m==\u001b[0m \u001b[0;36m0\u001b[0m\u001b[0;34m]\u001b[0m\u001b[0;34m\u001b[0m\u001b[0m\n\u001b[0;32m---> 53\u001b[0;31m         \u001b[0mres\u001b[0m \u001b[0;34m+=\u001b[0m \u001b[0mclever_name\u001b[0m\u001b[0;34m(\u001b[0m\u001b[0ms\u001b[0m\u001b[0;34m,\u001b[0m\u001b[0me\u001b[0m\u001b[0;34m)\u001b[0m\u001b[0;34m\u001b[0m\u001b[0m\n\u001b[0m\u001b[1;32m     54\u001b[0m     \u001b[0;32mreturn\u001b[0m \u001b[0mres\u001b[0m\u001b[0;34m\u001b[0m\u001b[0m\n\u001b[1;32m     55\u001b[0m \u001b[0;34m\u001b[0m\u001b[0m\n",
      "\u001b[0;31mValueError\u001b[0m: operands could not be broadcast together with shapes (0,) (50,2) "
     ]
    }
   ],
   "source": [
    "F_pairs = process_genome(tester)\n",
    "# R_pairs = genome_end_genes(r_data)"
   ]
  },
  {
   "cell_type": "code",
   "execution_count": 45,
   "metadata": {
    "collapsed": false
   },
   "outputs": [
    {
     "data": {
      "text/plain": [
       "[(1524, 1587, 0),\n",
       " (1524, 1635, 0),\n",
       " (1524, 1647, 0),\n",
       " (1524, 1671, 0),\n",
       " (1524, 1731, 0),\n",
       " (1524, 1761, 0),\n",
       " (1524, 1797, 0),\n",
       " (1524, 1809, 0),\n",
       " (1524, 1815, 0),\n",
       " (1524, 1851, 0),\n",
       " (1524, 1887, 0),\n",
       " (1524, 1905, 0),\n",
       " (1524, 1926, 0),\n",
       " (1524, 1929, 0),\n",
       " (1524, 1980, 0),\n",
       " (1524, 1992, 0),\n",
       " (1524, 2019, 0),\n",
       " (1524, 2031, 0),\n",
       " (1524, 2040, 0),\n",
       " (1524, 2070, 0),\n",
       " (1524, 2103, 0),\n",
       " (1524, 2184, 0),\n",
       " (1524, 2253, 0),\n",
       " (1524, 2259, 0),\n",
       " (1524, 2268, 0),\n",
       " (1524, 2283, 0),\n",
       " (1524, 2340, 0),\n",
       " (1524, 2358, 0),\n",
       " (1524, 2394, 0),\n",
       " (1524, 2400, 0),\n",
       " (1524, 2409, 0),\n",
       " (1524, 2448, 0),\n",
       " (1524, 2523, 0),\n",
       " (1524, 2589, 0),\n",
       " (1524, 2613, 0),\n",
       " (1524, 2619, 0),\n",
       " (1524, 2652, 0),\n",
       " (1524, 2661, 0),\n",
       " (1524, 2670, 0),\n",
       " (1524, 2697, 0),\n",
       " (1524, 2709, 0),\n",
       " (1524, 2712, 0),\n",
       " (1524, 2748, 0),\n",
       " (1524, 2766, 0),\n",
       " (1524, 2772, 0),\n",
       " (1524, 2832, 0),\n",
       " (37, 52, 1),\n",
       " (37, 61, 1),\n",
       " (76, 112, 1),\n",
       " (76, 121, 1),\n",
       " (76, 151, 1),\n",
       " (76, 235, 1),\n",
       " (241, 277, 1),\n",
       " (241, 292, 1),\n",
       " (322, 337, 1),\n",
       " (322, 370, 1),\n",
       " (322, 379, 1),\n",
       " (463, 484, 1),\n",
       " (463, 487, 1),\n",
       " (463, 538, 1),\n",
       " (463, 568, 1),\n",
       " (604, 637, 1),\n",
       " (604, 643, 1),\n",
       " (604, 718, 1),\n",
       " (718, 745, 1),\n",
       " (829, 838, 1),\n",
       " (829, 859, 1),\n",
       " (874, 892, 1),\n",
       " (940, 976, 1),\n",
       " (1003, 1012, 1),\n",
       " (1003, 1024, 1),\n",
       " (1003, 1048, 1),\n",
       " (1003, 1096, 1),\n",
       " (1171, 1186, 1),\n",
       " (1171, 1198, 1),\n",
       " (1285, 1300, 1),\n",
       " (1285, 1402, 1),\n",
       " (1285, 1414, 1),\n",
       " (1285, 1426, 1),\n",
       " (1285, 1438, 1),\n",
       " (1501, 1528, 1),\n",
       " (1501, 1570, 1),\n",
       " (1609, 1618, 1),\n",
       " (2563, 2878, 1),\n",
       " (2563, 2920, 1),\n",
       " (2563, 2938, 1),\n",
       " (2563, 2983, 1),\n",
       " (188, 200, 2),\n",
       " (188, 206, 2),\n",
       " (188, 230, 2),\n",
       " (188, 239, 2),\n",
       " (188, 245, 2),\n",
       " (188, 308, 2),\n",
       " (188, 323, 2),\n",
       " (188, 347, 2),\n",
       " (188, 407, 2),\n",
       " (188, 434, 2),\n",
       " (188, 443, 2),\n",
       " (188, 461, 2),\n",
       " (188, 491, 2),\n",
       " (188, 524, 2),\n",
       " (188, 581, 2),\n",
       " (188, 587, 2),\n",
       " (188, 608, 2),\n",
       " (188, 647, 2),\n",
       " (188, 668, 2),\n",
       " (188, 731, 2),\n",
       " (188, 767, 2),\n",
       " (188, 782, 2),\n",
       " (188, 794, 2),\n",
       " (188, 797, 2),\n",
       " (188, 821, 2),\n",
       " (188, 833, 2),\n",
       " (188, 854, 2),\n",
       " (188, 875, 2),\n",
       " (188, 878, 2),\n",
       " (188, 896, 2),\n",
       " (188, 932, 2),\n",
       " (188, 941, 2),\n",
       " (188, 953, 2),\n",
       " (188, 956, 2),\n",
       " (188, 959, 2),\n",
       " (188, 1007, 2),\n",
       " (188, 1037, 2),\n",
       " (1037, 1070, 2),\n",
       " (1037, 1076, 2),\n",
       " (1037, 1103, 2),\n",
       " (1037, 1118, 2),\n",
       " (1037, 1145, 2),\n",
       " (1037, 1166, 2),\n",
       " (1037, 1172, 2),\n",
       " (1037, 1208, 2),\n",
       " (1037, 1220, 2),\n",
       " (1037, 1235, 2),\n",
       " (1037, 1250, 2),\n",
       " (1037, 1295, 2),\n",
       " (1037, 1370, 2),\n",
       " (1037, 1379, 2),\n",
       " (1037, 1433, 2),\n",
       " (1037, 1445, 2),\n",
       " (1037, 1457, 2),\n",
       " (1037, 1511, 2),\n",
       " (1037, 1514, 2),\n",
       " (1037, 1550, 2),\n",
       " (1037, 1562, 2),\n",
       " (1037, 1583, 2),\n",
       " (1037, 1613, 2),\n",
       " (1037, 1727, 2),\n",
       " (1037, 1745, 2),\n",
       " (1778, 1787, 2),\n",
       " (1817, 1844, 2),\n",
       " (1817, 1871, 2),\n",
       " (1817, 1877, 2),\n",
       " (1817, 1922, 2),\n",
       " (1931, 1946, 2),\n",
       " (1931, 1973, 2),\n",
       " (1931, 2024, 2),\n",
       " (2024, 2060, 2),\n",
       " (2024, 2087, 2),\n",
       " (2096, 2147, 2),\n",
       " (2096, 2153, 2),\n",
       " (2096, 2168, 2),\n",
       " (2096, 2228, 2),\n",
       " (2096, 2249, 2),\n",
       " (2096, 2276, 2),\n",
       " (2096, 2297, 2),\n",
       " (2096, 2309, 2),\n",
       " (2339, 2345, 2),\n",
       " (2339, 2366, 2),\n",
       " (2390, 2477, 2),\n",
       " (2390, 2510, 2),\n",
       " (2390, 2513, 2),\n",
       " (2390, 2582, 2),\n",
       " (2645, 2675, 2),\n",
       " (2645, 2687, 2),\n",
       " (2645, 2717, 2),\n",
       " (2645, 2756, 2),\n",
       " (2645, 2780, 2),\n",
       " (2645, 2819, 2),\n",
       " (2828, 2855, 2),\n",
       " (2828, 2882, 2),\n",
       " (2828, 2900, 2),\n",
       " (2828, 2927, 2),\n",
       " (2828, 2933, 2),\n",
       " (2828, 2978, 2)]"
      ]
     },
     "execution_count": 45,
     "metadata": {},
     "output_type": "execute_result"
    }
   ],
   "source": [
    "F_pairs"
   ]
  },
  {
   "cell_type": "code",
   "execution_count": 103,
   "metadata": {
    "collapsed": false
   },
   "outputs": [
    {
     "data": {
      "text/plain": [
       "[(1852350, 75, 0),\n",
       " (1524, 1587, 0),\n",
       " (1524, 1731, 0),\n",
       " (1524, 1761, 0),\n",
       " (1524, 1797, 0),\n",
       " (1524, 1815, 0),\n",
       " (1524, 1887, 0),\n",
       " (1524, 1926, 0),\n",
       " (1524, 1992, 0),\n",
       " (1524, 2031, 0),\n",
       " (1524, 2070, 0),\n",
       " (1524, 2253, 0),\n",
       " (1524, 2259, 0),\n",
       " (1524, 2268, 0),\n",
       " (1524, 2358, 0),\n",
       " (1524, 2589, 0),\n",
       " (1524, 2613, 0),\n",
       " (1524, 2652, 0),\n",
       " (1524, 2670, 0),\n",
       " (1524, 2766, 0),\n",
       " (3099, 3162, 0),\n",
       " (3261, 3381, 0),\n",
       " (3261, 3387, 0),\n",
       " (3261, 3444, 0),\n",
       " (3261, 3447, 0),\n",
       " (3261, 3489, 0),\n",
       " (3837, 3888, 0),\n",
       " (4050, 4086, 0),\n",
       " (4248, 4311, 0),\n",
       " (4248, 4401, 0),\n",
       " (4248, 4464, 0),\n",
       " (4476, 4485, 0),\n",
       " (4587, 4671, 0),\n",
       " (4827, 4887, 0),\n",
       " (4827, 4899, 0),\n",
       " (4827, 4920, 0),\n",
       " (4827, 4929, 0),\n",
       " (5004, 5082, 0),\n",
       " (5103, 5151, 0),\n",
       " (5226, 5268, 0),\n",
       " (5226, 5343, 0),\n",
       " (5226, 5526, 0),\n",
       " (5226, 5571, 0),\n",
       " (5226, 5697, 0),\n",
       " (5226, 5904, 0),\n",
       " (5226, 5994, 0),\n",
       " (5226, 6042, 0),\n",
       " (5226, 6048, 0),\n",
       " (5226, 6060, 0),\n",
       " (5226, 6114, 0),\n",
       " (5226, 6159, 0),\n",
       " (5226, 6189, 0),\n",
       " (5226, 6237, 0),\n",
       " (5226, 6252, 0),\n",
       " (5226, 6276, 0),\n",
       " (5226, 6306, 0),\n",
       " (5226, 6375, 0),\n",
       " (5226, 6405, 0),\n",
       " (5226, 6522, 0),\n",
       " (5226, 6630, 0),\n",
       " (5226, 6660, 0),\n",
       " (5226, 6726, 0),\n",
       " (5226, 6891, 0),\n",
       " (5226, 6897, 0),\n",
       " (5226, 6900, 0),\n",
       " (5226, 7107, 0),\n",
       " (5226, 7170, 0),\n",
       " (5226, 7200, 0),\n",
       " (5226, 7335, 0),\n",
       " (5226, 7479, 0),\n",
       " (5226, 7485, 0),\n",
       " (5226, 7512, 0),\n",
       " (5226, 7650, 0),\n",
       " (5226, 7722, 0),\n",
       " (5226, 7905, 0),\n",
       " (5226, 7989, 0),\n",
       " (5226, 8028, 0),\n",
       " (5226, 8070, 0),\n",
       " (5226, 8139, 0),\n",
       " (5226, 8505, 0),\n",
       " (5226, 8592, 0),\n",
       " (5226, 8598, 0),\n",
       " (5226, 8736, 0),\n",
       " (8781, 8868, 0),\n",
       " (8781, 8877, 0),\n",
       " (8781, 8916, 0),\n",
       " (8781, 8943, 0),\n",
       " (8781, 8976, 0),\n",
       " (8781, 8988, 0),\n",
       " (8781, 8994, 0),\n",
       " (8781, 9009, 0),\n",
       " (8781, 9063, 0),\n",
       " (8781, 9123, 0),\n",
       " (8781, 9189, 0),\n",
       " (8781, 9282, 0),\n",
       " (9330, 9372, 0),\n",
       " (9384, 9435, 0),\n",
       " (9459, 9585, 0),\n",
       " (9459, 9624, 0),\n",
       " (9459, 9810, 0),\n",
       " (9459, 9825, 0),\n",
       " (9459, 9858, 0),\n",
       " (9459, 9918, 0),\n",
       " (9459, 9933, 0),\n",
       " (9459, 9987, 0),\n",
       " (9459, 10020, 0),\n",
       " (9459, 10191, 0),\n",
       " (9459, 10230, 0),\n",
       " (9459, 10272, 0),\n",
       " (9459, 10275, 0),\n",
       " (9459, 10332, 0),\n",
       " (9459, 10341, 0),\n",
       " (9459, 10428, 0),\n",
       " (9459, 10446, 0),\n",
       " (9459, 10455, 0),\n",
       " (9459, 10494, 0),\n",
       " (9459, 10503, 0),\n",
       " (9459, 10515, 0),\n",
       " (9459, 10518, 0),\n",
       " (9459, 10569, 0),\n",
       " (9459, 10581, 0),\n",
       " (10599, 10617, 0),\n",
       " (10599, 10812, 0),\n",
       " (10599, 10836, 0),\n",
       " (10599, 10863, 0),\n",
       " (10599, 10896, 0),\n",
       " (12195, 12303, 0),\n",
       " (12195, 12483, 0),\n",
       " (12195, 12588, 0),\n",
       " (12195, 12597, 0),\n",
       " (12195, 12603, 0),\n",
       " (12195, 12633, 0),\n",
       " (12195, 12654, 0),\n",
       " (12195, 12816, 0),\n",
       " (12195, 12819, 0),\n",
       " (12195, 12825, 0),\n",
       " (12195, 12837, 0),\n",
       " (12195, 12900, 0),\n",
       " (12195, 12948, 0),\n",
       " (12195, 12957, 0),\n",
       " (12195, 13014, 0),\n",
       " (12195, 13050, 0),\n",
       " (12195, 13161, 0),\n",
       " (12195, 13185, 0),\n",
       " (12195, 13323, 0),\n",
       " (12195, 13347, 0),\n",
       " (12195, 13353, 0),\n",
       " (12195, 13434, 0),\n",
       " (12195, 13443, 0),\n",
       " (12195, 13503, 0),\n",
       " (12195, 13518, 0),\n",
       " (12195, 13632, 0),\n",
       " (12195, 13713, 0),\n",
       " (12195, 13737, 0),\n",
       " (12195, 13773, 0),\n",
       " (12195, 13803, 0),\n",
       " (12195, 13857, 0),\n",
       " (12195, 13884, 0),\n",
       " (12195, 13917, 0),\n",
       " (12195, 13923, 0),\n",
       " (12195, 13944, 0),\n",
       " (12195, 14040, 0),\n",
       " (12195, 14046, 0),\n",
       " (12195, 14190, 0),\n",
       " (12195, 14286, 0),\n",
       " (12195, 14352, 0),\n",
       " (12195, 14466, 0),\n",
       " (12195, 14571, 0),\n",
       " (12195, 14613, 0),\n",
       " (12195, 14667, 0),\n",
       " (12195, 14688, 0),\n",
       " (12195, 14718, 0),\n",
       " (12195, 14751, 0),\n",
       " (12195, 14757, 0),\n",
       " (14781, 14790, 0),\n",
       " (14781, 14862, 0),\n",
       " (14781, 14919, 0),\n",
       " (14781, 14943, 0),\n",
       " (14781, 15039, 0),\n",
       " (14781, 15063, 0),\n",
       " (14781, 15108, 0),\n",
       " (14781, 15126, 0),\n",
       " (14781, 15147, 0),\n",
       " (14781, 15252, 0),\n",
       " (14781, 15354, 0),\n",
       " (15402, 15504, 0),\n",
       " (15402, 15546, 0),\n",
       " (15402, 15717, 0),\n",
       " (15402, 15765, 0),\n",
       " (15402, 15873, 0),\n",
       " (15402, 15957, 0),\n",
       " (16059, 16128, 0),\n",
       " (16059, 16149, 0),\n",
       " (16059, 16158, 0),\n",
       " (16059, 16248, 0),\n",
       " (16059, 16296, 0),\n",
       " (16059, 16338, 0),\n",
       " (16059, 16407, 0),\n",
       " (16059, 16497, 0),\n",
       " (16500, 16512, 0),\n",
       " (16500, 16515, 0),\n",
       " (16500, 16542, 0),\n",
       " (16500, 16566, 0),\n",
       " (16500, 16605, 0),\n",
       " (16500, 16626, 0),\n",
       " (16656, 16683, 0),\n",
       " (16656, 16689, 0),\n",
       " (16656, 16764, 0),\n",
       " (16656, 16833, 0),\n",
       " (16656, 16836, 0),\n",
       " (16899, 16920, 0),\n",
       " (16989, 17025, 0),\n",
       " (16989, 17070, 0),\n",
       " (16989, 17256, 0),\n",
       " (17259, 17274, 0),\n",
       " (17298, 17334, 0),\n",
       " (17298, 17502, 0),\n",
       " (17778, 17820, 0),\n",
       " (17778, 17886, 0),\n",
       " (17889, 17937, 0),\n",
       " (18153, 18165, 0),\n",
       " (18309, 18351, 0),\n",
       " (18399, 18618, 0),\n",
       " (18399, 18873, 0),\n",
       " (18399, 18978, 0),\n",
       " (18399, 19002, 0),\n",
       " (18399, 19005, 0),\n",
       " (18399, 19047, 0),\n",
       " (18399, 19050, 0),\n",
       " (18399, 19101, 0),\n",
       " (18399, 19131, 0),\n",
       " (19173, 19197, 0),\n",
       " (19173, 19236, 0),\n",
       " (19761, 19785, 0),\n",
       " (19761, 19917, 0),\n",
       " (19761, 19980, 0),\n",
       " (19761, 20004, 0),\n",
       " (19761, 20070, 0),\n",
       " (20100, 20166, 0),\n",
       " (20319, 20367, 0),\n",
       " (20319, 20373, 0),\n",
       " (20442, 20505, 0),\n",
       " (20442, 20550, 0),\n",
       " (20442, 20655, 0),\n",
       " (20442, 20733, 0),\n",
       " (20853, 20952, 0),\n",
       " (20853, 20958, 0),\n",
       " (20853, 20967, 0),\n",
       " (21225, 21306, 0),\n",
       " (21225, 21375, 0),\n",
       " (21225, 21780, 0),\n",
       " (21828, 21846, 0),\n",
       " (22002, 22080, 0),\n",
       " (22155, 22224, 0),\n",
       " (22155, 22389, 0),\n",
       " (22392, 23184, 0),\n",
       " (22392, 23217, 0),\n",
       " (22392, 23247, 0),\n",
       " (23526, 23565, 0),\n",
       " (23526, 23583, 0),\n",
       " (23526, 23646, 0),\n",
       " (23526, 23946, 0),\n",
       " (24021, 24210, 0),\n",
       " (24021, 24360, 0),\n",
       " (24021, 24498, 0),\n",
       " (24021, 24519, 0),\n",
       " (24552, 24573, 0),\n",
       " (24552, 24759, 0),\n",
       " (24552, 24765, 0),\n",
       " (24804, 24852, 0),\n",
       " (24804, 25020, 0),\n",
       " (24804, 25128, 0),\n",
       " (25146, 25353, 0),\n",
       " (25146, 25359, 0),\n",
       " (25146, 25383, 0),\n",
       " (25641, 25713, 0),\n",
       " (25911, 26091, 0),\n",
       " (26199, 26214, 0),\n",
       " (26484, 26577, 0),\n",
       " (26655, 26850, 0),\n",
       " (26655, 26940, 0),\n",
       " (26655, 27018, 0),\n",
       " (27147, 27798, 0),\n",
       " (27147, 27888, 0),\n",
       " (27900, 28029, 0),\n",
       " (27900, 28257, 0),\n",
       " (27900, 28335, 0),\n",
       " (27900, 28380, 0),\n",
       " (27900, 28425, 0),\n",
       " (27900, 28575, 0),\n",
       " (28623, 28656, 0),\n",
       " (28623, 28698, 0),\n",
       " (28752, 29040, 0),\n",
       " (29088, 29103, 0),\n",
       " (29088, 29142, 0),\n",
       " (29088, 29172, 0),\n",
       " (29088, 29196, 0),\n",
       " (29088, 29256, 0),\n",
       " (29088, 29301, 0),\n",
       " (29088, 29313, 0),\n",
       " (29088, 29343, 0),\n",
       " (29088, 29421, 0),\n",
       " (29751, 29790, 0),\n",
       " (29751, 29820, 0),\n",
       " (29901, 29925, 0),\n",
       " (30123, 30168, 0),\n",
       " (30174, 30219, 0),\n",
       " (30174, 30234, 0),\n",
       " (30174, 30279, 0),\n",
       " (30174, 30309, 0),\n",
       " (30174, 30336, 0),\n",
       " (30174, 30360, 0),\n",
       " (30174, 30429, 0),\n",
       " (30174, 30480, 0),\n",
       " (30174, 30486, 0),\n",
       " (30513, 30579, 0),\n",
       " (30513, 30627, 0),\n",
       " (30513, 30723, 0),\n",
       " (30513, 30816, 0),\n",
       " (30837, 30849, 0),\n",
       " (30930, 30939, 0),\n",
       " (31605, 31773, 0),\n",
       " (31605, 31836, 0),\n",
       " (31605, 31872, 0),\n",
       " (31605, 31962, 0),\n",
       " (31605, 32013, 0),\n",
       " (32109, 32127, 0),\n",
       " (32190, 32202, 0),\n",
       " (32223, 32232, 0),\n",
       " (32280, 32376, 0),\n",
       " (32388, 32451, 0),\n",
       " (32739, 32814, 0),\n",
       " (32913, 33006, 0),\n",
       " (33018, 33030, 0),\n",
       " (33018, 33075, 0),\n",
       " (33018, 33078, 0),\n",
       " (33018, 33087, 0),\n",
       " (33018, 33108, 0),\n",
       " (33018, 33120, 0),\n",
       " (33018, 33141, 0),\n",
       " (33018, 33180, 0),\n",
       " (33018, 33204, 0),\n",
       " (33018, 33237, 0),\n",
       " (33018, 33363, 0),\n",
       " (33018, 33369, 0),\n",
       " (33018, 33387, 0),\n",
       " (33018, 33390, 0),\n",
       " (33018, 33456, 0),\n",
       " (33018, 33693, 0),\n",
       " (33018, 33777, 0),\n",
       " (33018, 33852, 0),\n",
       " (33018, 33867, 0),\n",
       " (33018, 33876, 0),\n",
       " (33915, 33990, 0),\n",
       " (33915, 34038, 0),\n",
       " (33915, 34047, 0),\n",
       " (33915, 34068, 0),\n",
       " (33915, 34131, 0),\n",
       " (33915, 34224, 0),\n",
       " (33915, 34254, 0),\n",
       " (33915, 34428, 0),\n",
       " (33915, 34488, 0),\n",
       " (33915, 34509, 0),\n",
       " (33915, 34569, 0),\n",
       " (33915, 34599, 0),\n",
       " (33915, 34620, 0),\n",
       " (33915, 34752, 0),\n",
       " (33915, 34767, 0),\n",
       " (33915, 34773, 0),\n",
       " (33915, 34794, 0),\n",
       " (33915, 34953, 0),\n",
       " (33915, 34986, 0),\n",
       " (33915, 35040, 0),\n",
       " (33915, 35094, 0),\n",
       " (35520, 35538, 0),\n",
       " (35520, 35574, 0),\n",
       " (39081, 39252, 0),\n",
       " (39660, 39708, 0),\n",
       " (39822, 39927, 0),\n",
       " (41169, 41562, 0),\n",
       " (41169, 41580, 0),\n",
       " (42498, 42612, 0),\n",
       " (42498, 42657, 0),\n",
       " (42498, 42693, 0),\n",
       " (43266, 43329, 0),\n",
       " (43266, 43440, 0),\n",
       " (43266, 43515, 0),\n",
       " (43266, 43536, 0),\n",
       " (43668, 43860, 0),\n",
       " (43965, 44124, 0),\n",
       " (45072, 45087, 0),\n",
       " (45072, 45105, 0),\n",
       " (45072, 45117, 0),\n",
       " (45072, 45183, 0),\n",
       " (45072, 45222, 0),\n",
       " (45480, 45534, 0),\n",
       " (45480, 45561, 0),\n",
       " (45480, 45564, 0),\n",
       " (45480, 45588, 0),\n",
       " (45480, 45651, 0),\n",
       " (45681, 45747, 0),\n",
       " (45681, 45813, 0),\n",
       " (45681, 45876, 0),\n",
       " (45681, 45894, 0),\n",
       " (45924, 45951, 0),\n",
       " (46068, 46263, 0),\n",
       " (46068, 46344, 0),\n",
       " (46068, 46428, 0),\n",
       " (46458, 46467, 0),\n",
       " (47733, 47757, 0),\n",
       " (47733, 47871, 0),\n",
       " (48384, 48534, 0),\n",
       " (48384, 48855, 0),\n",
       " (48384, 48882, 0),\n",
       " (48384, 49026, 0),\n",
       " (48384, 49200, 0),\n",
       " (48384, 49206, 0),\n",
       " (48384, 49515, 0),\n",
       " (48384, 49533, 0),\n",
       " (48384, 49602, 0),\n",
       " (51252, 51264, 0),\n",
       " (51252, 51267, 0),\n",
       " (52545, 52659, 0),\n",
       " (52545, 52677, 0),\n",
       " (52545, 52680, 0),\n",
       " (52545, 52851, 0),\n",
       " (52545, 52926, 0),\n",
       " (52545, 53040, 0),\n",
       " (52545, 53115, 0),\n",
       " (52545, 53148, 0),\n",
       " (52545, 53163, 0),\n",
       " (52545, 53253, 0),\n",
       " (52545, 53280, 0),\n",
       " (52545, 53331, 0),\n",
       " (52545, 53334, 0),\n",
       " (52545, 53373, 0),\n",
       " (52545, 53385, 0),\n",
       " (53532, 53607, 0),\n",
       " (53532, 53640, 0),\n",
       " (53532, 53661, 0),\n",
       " (53532, 53673, 0),\n",
       " (53700, 53796, 0),\n",
       " (53700, 53799, 0),\n",
       " (53826, 53835, 0),\n",
       " (53826, 53865, 0),\n",
       " (53826, 53940, 0),\n",
       " (53826, 53946, 0),\n",
       " (53826, 53979, 0),\n",
       " (53826, 54078, 0),\n",
       " (53826, 54339, 0),\n",
       " (53826, 54504, 0),\n",
       " (53826, 54717, 0),\n",
       " (54840, 54858, 0),\n",
       " (54840, 54867, 0),\n",
       " (54840, 54903, 0),\n",
       " (55467, 55560, 0),\n",
       " (55467, 55581, 0),\n",
       " (55467, 55614, 0),\n",
       " (55467, 55620, 0),\n",
       " (55467, 55680, 0),\n",
       " (55467, 55719, 0),\n",
       " (55467, 55737, 0),\n",
       " (55467, 55752, 0),\n",
       " (55467, 55794, 0),\n",
       " (55467, 55797, 0),\n",
       " (55467, 55806, 0),\n",
       " (55467, 55818, 0),\n",
       " (57174, 57612, 0),\n",
       " (57174, 57618, 0),\n",
       " (57621, 57636, 0),\n",
       " (57621, 57687, 0),\n",
       " (57771, 57807, 0),\n",
       " (57771, 57909, 0),\n",
       " (58221, 58242, 0),\n",
       " (58221, 58329, 0),\n",
       " (58719, 58767, 0),\n",
       " (58719, 58848, 0),\n",
       " (58956, 58968, 0),\n",
       " (58956, 59004, 0),\n",
       " (59229, 59268, 0),\n",
       " (59229, 59550, 0),\n",
       " (59655, 59838, 0),\n",
       " (60534, 60570, 0),\n",
       " (60585, 60603, 0),\n",
       " (60585, 60669, 0),\n",
       " (60801, 60834, 0),\n",
       " (60801, 60906, 0),\n",
       " (61080, 61137, 0),\n",
       " (61080, 61206, 0),\n",
       " (61080, 61272, 0),\n",
       " (61080, 61281, 0),\n",
       " (61305, 61362, 0),\n",
       " (61305, 61374, 0),\n",
       " (61305, 61401, 0),\n",
       " (61305, 61404, 0),\n",
       " (61305, 61410, 0),\n",
       " (61305, 61425, 0),\n",
       " (61305, 61452, 0),\n",
       " (61305, 61536, 0),\n",
       " (61305, 61548, 0),\n",
       " (61305, 61683, 0),\n",
       " (61839, 61848, 0),\n",
       " (61839, 61890, 0),\n",
       " (61839, 62031, 0),\n",
       " (61839, 62049, 0),\n",
       " (61839, 62079, 0),\n",
       " (61839, 62085, 0),\n",
       " (61839, 62115, 0),\n",
       " (61839, 62151, 0),\n",
       " (61839, 62229, 0),\n",
       " (61839, 62232, 0),\n",
       " (61839, 62310, 0),\n",
       " (61839, 62364, 0),\n",
       " (61839, 62451, 0),\n",
       " (62556, 62685, 0),\n",
       " (62754, 62844, 0),\n",
       " (62754, 62994, 0),\n",
       " (62754, 63024, 0),\n",
       " (62754, 63093, 0),\n",
       " (62754, 63447, 0),\n",
       " (62754, 63474, 0),\n",
       " (62754, 63483, 0),\n",
       " (62754, 63543, 0),\n",
       " (62754, 63561, 0),\n",
       " (63972, 64020, 0),\n",
       " (64053, 64095, 0),\n",
       " (64170, 64248, 0),\n",
       " (64170, 64383, 0),\n",
       " (64170, 64452, 0),\n",
       " (64170, 64497, 0),\n",
       " (64170, 64611, 0),\n",
       " (64170, 64716, 0),\n",
       " (64170, 64761, 0),\n",
       " (64170, 64827, 0),\n",
       " (64170, 64833, 0),\n",
       " (64170, 64848, 0),\n",
       " (64170, 64881, 0),\n",
       " (64170, 64890, 0),\n",
       " (64917, 65541, 0),\n",
       " (64917, 65559, 0),\n",
       " (64917, 65703, 0),\n",
       " (64917, 65853, 0),\n",
       " (64917, 65865, 0),\n",
       " (64917, 65874, 0),\n",
       " (64917, 65898, 0),\n",
       " (64917, 65967, 0),\n",
       " (64917, 65985, 0),\n",
       " (64917, 66063, 0),\n",
       " (64917, 66090, 0),\n",
       " (64917, 66177, 0),\n",
       " (64917, 66237, 0),\n",
       " (64917, 66303, 0),\n",
       " (64917, 66363, 0),\n",
       " (66414, 66444, 0),\n",
       " (66414, 66465, 0),\n",
       " (66414, 66474, 0),\n",
       " (66414, 66537, 0),\n",
       " (66414, 66567, 0),\n",
       " (66414, 66585, 0),\n",
       " (66600, 66609, 0),\n",
       " (66600, 66627, 0),\n",
       " (66600, 66636, 0),\n",
       " (66600, 66648, 0),\n",
       " (66600, 66678, 0),\n",
       " (66600, 66705, 0),\n",
       " (66600, 66810, 0),\n",
       " (66600, 66843, 0),\n",
       " (66600, 66993, 0),\n",
       " (66600, 67143, 0),\n",
       " (66600, 67179, 0),\n",
       " (66600, 67212, 0),\n",
       " (66600, 67287, 0),\n",
       " (66600, 67302, 0),\n",
       " (66600, 67362, 0),\n",
       " (66600, 67473, 0),\n",
       " (67539, 67596, 0),\n",
       " (67539, 67605, 0),\n",
       " (67539, 67608, 0),\n",
       " (67539, 67689, 0),\n",
       " (67539, 67710, 0),\n",
       " (67539, 67749, 0),\n",
       " (67539, 67914, 0),\n",
       " (67539, 67923, 0),\n",
       " (67539, 68058, 0),\n",
       " (67539, 68070, 0),\n",
       " (67539, 68109, 0),\n",
       " (67539, 68118, 0),\n",
       " (67539, 68148, 0),\n",
       " (67539, 68157, 0),\n",
       " (67539, 68199, 0),\n",
       " (67539, 68208, 0),\n",
       " (67539, 68322, 0),\n",
       " (67539, 68334, 0),\n",
       " (67539, 68394, 0),\n",
       " (67539, 68427, 0),\n",
       " (67539, 68436, 0),\n",
       " (67539, 68517, 0),\n",
       " (67539, 68577, 0),\n",
       " (67539, 68589, 0),\n",
       " (67539, 68625, 0),\n",
       " (67539, 68718, 0),\n",
       " (67539, 68739, 0),\n",
       " (68931, 69189, 0),\n",
       " (68931, 69204, 0),\n",
       " (69318, 69330, 0),\n",
       " (69339, 69507, 0),\n",
       " (69339, 69531, 0),\n",
       " (69339, 69555, 0),\n",
       " (69741, 69882, 0),\n",
       " (69741, 70059, 0),\n",
       " (69741, 70065, 0),\n",
       " (69741, 70296, 0),\n",
       " (69741, 70365, 0),\n",
       " (69741, 70407, 0),\n",
       " (69741, 70416, 0),\n",
       " (69741, 70434, 0),\n",
       " (70485, 70521, 0),\n",
       " (70485, 70614, 0),\n",
       " (70485, 70644, 0),\n",
       " (70485, 70704, 0),\n",
       " (70485, 70728, 0),\n",
       " (70485, 70791, 0),\n",
       " (70485, 70797, 0),\n",
       " (70485, 70842, 0),\n",
       " (70485, 70866, 0),\n",
       " (70485, 70911, 0),\n",
       " (70485, 70971, 0),\n",
       " (70485, 71031, 0),\n",
       " (70485, 71040, 0),\n",
       " (70485, 71148, 0),\n",
       " (70485, 71343, 0),\n",
       " (70485, 71370, 0),\n",
       " (70485, 71397, 0),\n",
       " (71919, 72006, 0),\n",
       " (71919, 72048, 0),\n",
       " (71919, 72096, 0),\n",
       " (71919, 72168, 0),\n",
       " (71919, 72180, 0),\n",
       " (71919, 72243, 0),\n",
       " (71919, 72300, 0),\n",
       " (71919, 72372, 0),\n",
       " (71919, 72378, 0),\n",
       " (71919, 72414, 0),\n",
       " (71919, 72435, 0),\n",
       " (71919, 72513, 0),\n",
       " (71919, 72543, 0),\n",
       " (71919, 72561, 0),\n",
       " (71919, 72621, 0),\n",
       " (71919, 72636, 0),\n",
       " (71919, 72801, 0),\n",
       " (73005, 73053, 0),\n",
       " (73005, 73083, 0),\n",
       " (73005, 73182, 0),\n",
       " (73266, 73707, 0),\n",
       " (73266, 73776, 0),\n",
       " (73266, 73911, 0),\n",
       " (73266, 74007, 0),\n",
       " (73266, 74049, 0),\n",
       " (73266, 74124, 0),\n",
       " (73266, 74151, 0),\n",
       " (73266, 74244, 0),\n",
       " (73266, 74256, 0),\n",
       " (73266, 74346, 0),\n",
       " (73266, 74448, 0),\n",
       " (73266, 74640, 0),\n",
       " (73266, 74721, 0),\n",
       " (73266, 75078, 0),\n",
       " (75690, 75816, 0),\n",
       " (75690, 75879, 0),\n",
       " (76101, 76152, 0),\n",
       " (76101, 76161, 0),\n",
       " (76101, 76200, 0),\n",
       " (76101, 76221, 0),\n",
       " (76101, 76236, 0),\n",
       " (76551, 76677, 0),\n",
       " (76551, 76689, 0),\n",
       " (76806, 76926, 0),\n",
       " (76806, 76947, 0),\n",
       " (76806, 77010, 0),\n",
       " (77043, 77148, 0),\n",
       " (77043, 77151, 0),\n",
       " (77160, 77277, 0),\n",
       " (77358, 77439, 0),\n",
       " (77682, 77700, 0),\n",
       " (77739, 77781, 0),\n",
       " (77739, 77799, 0),\n",
       " (77739, 77826, 0),\n",
       " (77850, 77916, 0),\n",
       " (77850, 77949, 0),\n",
       " (77850, 78048, 0),\n",
       " (77850, 78090, 0),\n",
       " (77850, 78117, 0),\n",
       " (77850, 78201, 0),\n",
       " (77850, 78231, 0),\n",
       " (77850, 78279, 0),\n",
       " (77850, 78318, 0),\n",
       " (77850, 78384, 0),\n",
       " (77850, 78408, 0),\n",
       " (78579, 78585, 0),\n",
       " (78594, 78609, 0),\n",
       " (78708, 78720, 0),\n",
       " (78708, 78777, 0),\n",
       " (78786, 78798, 0),\n",
       " (78786, 78807, 0),\n",
       " (78786, 78924, 0),\n",
       " (78786, 78993, 0),\n",
       " (79026, 79185, 0),\n",
       " (79026, 79272, 0),\n",
       " (79026, 79335, 0),\n",
       " (79338, 79413, 0),\n",
       " (79338, 79455, 0),\n",
       " (79338, 79488, 0),\n",
       " (79512, 79779, 0),\n",
       " (79512, 79824, 0),\n",
       " (79512, 79887, 0),\n",
       " (79512, 79899, 0),\n",
       " (79512, 80250, 0),\n",
       " (80292, 80457, 0),\n",
       " (80292, 80460, 0),\n",
       " (80502, 80640, 0),\n",
       " (80502, 80760, 0),\n",
       " (81054, 81120, 0),\n",
       " (81054, 81186, 0),\n",
       " (81054, 81252, 0),\n",
       " (81054, 81255, 0),\n",
       " (81054, 81261, 0),\n",
       " (81372, 81393, 0),\n",
       " (81420, 81615, 0),\n",
       " (81420, 81630, 0),\n",
       " (81420, 81717, 0),\n",
       " (81420, 81834, 0),\n",
       " (81882, 81894, 0),\n",
       " (82206, 82248, 0),\n",
       " (82206, 82302, 0),\n",
       " (82344, 82638, 0),\n",
       " (82344, 82728, 0),\n",
       " (82344, 82755, 0),\n",
       " (82965, 82977, 0),\n",
       " (82965, 83061, 0),\n",
       " (82965, 83112, 0),\n",
       " (82965, 83130, 0),\n",
       " (82965, 83211, 0),\n",
       " (83412, 83457, 0),\n",
       " (83412, 83532, 0),\n",
       " (83412, 83586, 0),\n",
       " (83412, 84000, 0),\n",
       " (84048, 84066, 0),\n",
       " (84222, 84300, 0),\n",
       " (84375, 84444, 0),\n",
       " (84654, 84678, 0),\n",
       " (84654, 84702, 0),\n",
       " (84654, 84795, 0),\n",
       " (84843, 84876, 0),\n",
       " (84843, 84918, 0),\n",
       " (84972, 85008, 0),\n",
       " (84972, 85110, 0),\n",
       " (84972, 85125, 0),\n",
       " (84972, 85137, 0),\n",
       " (84972, 85350, 0),\n",
       " (85665, 85701, 0),\n",
       " (85995, 86178, 0),\n",
       " (85995, 86214, 0),\n",
       " (85995, 86361, 0),\n",
       " (85995, 86367, 0),\n",
       " (86370, 86457, 0),\n",
       " (86370, 86496, 0),\n",
       " (86370, 86505, 0),\n",
       " (86370, 86517, 0),\n",
       " (86370, 86553, 0),\n",
       " (86925, 87000, 0),\n",
       " (87030, 87096, 0),\n",
       " (87030, 87129, 0),\n",
       " (87177, 87186, 0),\n",
       " (87177, 87198, 0),\n",
       " (87450, 87657, 0),\n",
       " (88236, 88695, 0),\n",
       " (88236, 89013, 0),\n",
       " (88236, 89022, 0),\n",
       " (88236, 89172, 0),\n",
       " (88236, 89253, 0),\n",
       " (88236, 89274, 0),\n",
       " (88236, 89379, 0),\n",
       " (89625, 89712, 0),\n",
       " (89625, 89742, 0),\n",
       " (89625, 89754, 0),\n",
       " (89625, 89847, 0),\n",
       " (89862, 89919, 0),\n",
       " (89862, 89958, 0),\n",
       " (90000, 90105, 0),\n",
       " (90000, 90156, 0),\n",
       " (90000, 90357, 0),\n",
       " (90366, 90696, 0),\n",
       " (90366, 90762, 0),\n",
       " (90783, 90843, 0),\n",
       " (91029, 91122, 0),\n",
       " (91029, 91209, 0),\n",
       " (91029, 91221, 0),\n",
       " (91029, 91284, 0),\n",
       " (91029, 91335, 0),\n",
       " (91029, 91404, 0),\n",
       " (91029, 91536, 0),\n",
       " (91029, 91548, 0),\n",
       " (91602, 91617, 0),\n",
       " (91602, 91638, 0),\n",
       " (91602, 91848, 0),\n",
       " (91602, 91875, 0),\n",
       " (91602, 91896, 0),\n",
       " (91602, 91950, 0),\n",
       " (91602, 91989, 0),\n",
       " (91602, 92016, 0),\n",
       " (91602, 92025, 0),\n",
       " (91602, 92061, 0),\n",
       " (91602, 92130, 0),\n",
       " (91602, 92133, 0),\n",
       " (91602, 92292, 0),\n",
       " (91602, 92334, 0),\n",
       " (91602, 92400, 0),\n",
       " (91602, 92580, 0),\n",
       " (91602, 92709, 0),\n",
       " (91602, 92754, 0),\n",
       " (91602, 92865, 0),\n",
       " (91602, 92880, 0),\n",
       " (91602, 92898, 0),\n",
       " (91602, 93018, 0),\n",
       " (91602, 93024, 0),\n",
       " (91602, 93030, 0),\n",
       " (91602, 93051, 0),\n",
       " (91602, 93060, 0),\n",
       " (91602, 93123, 0),\n",
       " (91602, 93168, 0),\n",
       " (93216, 93351, 0),\n",
       " (93216, 93357, 0),\n",
       " (93216, 93360, 0),\n",
       " (93216, 93429, 0),\n",
       " (93216, 93495, 0),\n",
       " (93216, 93504, 0),\n",
       " (93216, 93564, 0),\n",
       " (97068, 97152, 0),\n",
       " (97068, 97170, 0),\n",
       " (100812, 100884, 0),\n",
       " (100965, 101016, 0),\n",
       " (101028, 101052, 0),\n",
       " (101091, 101157, 0),\n",
       " (101163, 101244, 0),\n",
       " (101247, 101304, 0),\n",
       " (101247, 101310, 0),\n",
       " (101247, 101331, 0),\n",
       " (101247, 101412, 0),\n",
       " (101247, 101484, 0),\n",
       " (102171, 102435, 0),\n",
       " (102171, 102447, 0),\n",
       " (102171, 102468, 0),\n",
       " (102171, 102552, 0),\n",
       " (102171, 102660, 0),\n",
       " (102171, 102846, 0),\n",
       " (102915, 102978, 0),\n",
       " (103017, 103155, 0),\n",
       " (103017, 103179, 0),\n",
       " (103017, 103443, 0),\n",
       " (103017, 103521, 0),\n",
       " (103596, 103638, 0),\n",
       " (104049, 104244, 0),\n",
       " (104049, 104277, 0),\n",
       " (104049, 104382, 0),\n",
       " (104049, 104391, 0),\n",
       " (104049, 104418, 0),\n",
       " (104505, 104556, 0),\n",
       " (104667, 104751, 0),\n",
       " (105036, 105111, 0),\n",
       " (105036, 105129, 0),\n",
       " (105138, 105204, 0),\n",
       " (105138, 105372, 0),\n",
       " (105402, 105411, 0),\n",
       " (105402, 105435, 0),\n",
       " (105402, 105531, 0),\n",
       " (105402, 105780, 0),\n",
       " (105402, 105822, 0),\n",
       " (106137, 106152, 0),\n",
       " (106137, 106179, 0),\n",
       " (106137, 106182, 0),\n",
       " (106137, 106218, 0),\n",
       " (106242, 106263, 0),\n",
       " (106770, 106821, 0),\n",
       " (106770, 106827, 0),\n",
       " (106845, 106974, 0),\n",
       " (106845, 106995, 0),\n",
       " (106845, 107025, 0),\n",
       " (107244, 107262, 0),\n",
       " (107295, 107403, 0),\n",
       " (107295, 107427, 0),\n",
       " (107295, 107442, 0),\n",
       " (107559, 107586, 0),\n",
       " (107625, 107634, 0),\n",
       " (107625, 107649, 0),\n",
       " (107658, 107757, 0),\n",
       " (107658, 107862, 0),\n",
       " (107658, 107925, 0),\n",
       " (107658, 108069, 0),\n",
       " (107658, 108285, 0),\n",
       " (107658, 108348, 0),\n",
       " (107658, 108369, 0),\n",
       " (107658, 108399, 0),\n",
       " (107658, 108579, 0),\n",
       " (107658, 108639, 0),\n",
       " (107658, 108669, 0),\n",
       " (108804, 108819, 0),\n",
       " (109083, 109149, 0),\n",
       " (109314, 109572, 0),\n",
       " (109830, 110061, 0),\n",
       " (109830, 110085, 0),\n",
       " (109830, 110088, 0),\n",
       " (109830, 110139, 0),\n",
       " (109830, 110145, 0),\n",
       " (109830, 110205, 0),\n",
       " (109830, 110334, 0),\n",
       " (109830, 110352, 0),\n",
       " (110916, 110943, 0),\n",
       " (111144, 111186, 0),\n",
       " (111360, 111378, 0),\n",
       " (111360, 111408, 0),\n",
       " (111531, 111621, 0),\n",
       " (111621, 111720, 0),\n",
       " (111621, 111723, 0),\n",
       " (112254, 112770, 0),\n",
       " (112254, 112851, 0),\n",
       " (112254, 113049, 0),\n",
       " (113235, 113316, 0),\n",
       " (113637, 113646, 0),\n",
       " (113841, 113868, 0),\n",
       " (113961, 114132, 0),\n",
       " (114264, 114408, 0),\n",
       " (114264, 114456, 0),\n",
       " (114639, 114813, 0),\n",
       " (114639, 114966, 0),\n",
       " (114639, 114999, 0),\n",
       " (114639, 115011, 0),\n",
       " (115197, 115233, 0),\n",
       " (115197, 115254, 0),\n",
       " (115632, 115749, 0),\n",
       " (115632, 115800, 0),\n",
       " (115929, 116040, 0),\n",
       " (116073, 116082, 0),\n",
       " (116085, 116175, 0),\n",
       " (116085, 116295, 0),\n",
       " (116085, 116301, 0),\n",
       " (116349, 116400, 0),\n",
       " (116349, 116460, 0),\n",
       " (116349, 116571, 0),\n",
       " (116349, 116616, 0),\n",
       " (118569, 119088, 0),\n",
       " (118569, 119106, 0),\n",
       " (118569, 119127, 0),\n",
       " (118569, 119163, 0),\n",
       " (118569, 119304, 0),\n",
       " (118569, 119337, 0),\n",
       " (118569, 119421, 0),\n",
       " (118569, 119472, 0),\n",
       " (118569, 119496, 0),\n",
       " (118569, 119565, 0),\n",
       " (118569, 119589, 0),\n",
       " (118569, 119622, 0),\n",
       " (118569, 119634, 0),\n",
       " (120591, 120672, 0),\n",
       " (121350, 121395, 0),\n",
       " (121350, 121401, 0),\n",
       " (121974, 122076, 0),\n",
       " (121974, 122085, 0),\n",
       " (121974, 122142, 0),\n",
       " (121974, 122148, 0),\n",
       " (121974, 122199, 0),\n",
       " (122379, 122478, 0),\n",
       " (122520, 122535, 0),\n",
       " (122556, 122646, 0),\n",
       " (122556, 122694, 0),\n",
       " (122556, 122715, 0),\n",
       " (122835, 122844, 0),\n",
       " (123042, 123063, 0),\n",
       " (123042, 123066, 0),\n",
       " (123120, 123162, 0),\n",
       " (123255, 123264, 0),\n",
       " (123348, 123387, 0),\n",
       " (123429, 123465, 0),\n",
       " (123429, 123741, 0),\n",
       " (123825, 123966, 0),\n",
       " (123825, 124056, 0),\n",
       " (124059, 124227, 0),\n",
       " (124059, 124254, 0),\n",
       " (124059, 124362, 0),\n",
       " (125187, 125244, 0),\n",
       " (125187, 125325, 0),\n",
       " (125187, 125331, 0),\n",
       " (125187, 125334, 0),\n",
       " (125187, 125343, 0),\n",
       " (125460, 125478, 0),\n",
       " (125460, 125490, 0),\n",
       " (125460, 125541, 0),\n",
       " (125460, 125700, 0),\n",
       " (125460, 125874, 0),\n",
       " (125460, 126027, 0),\n",
       " (125460, 126105, 0),\n",
       " ...]"
      ]
     },
     "execution_count": 103,
     "metadata": {},
     "output_type": "execute_result"
    }
   ],
   "source": [
    "R_pairs"
   ]
  },
  {
   "cell_type": "code",
   "execution_count": 101,
   "metadata": {
    "collapsed": false
   },
   "outputs": [
    {
     "data": {
      "text/plain": [
       "'ATGATCAGCCAGGACGAAAGCCTTAGGATCGAAATTGAAACCATAAAAAACAAAATTAAATAACATGTGGAAAAGAATATCTTTTATGAAATAGTTATCCACAAGTTGTGAACATCCATTTAGTCTTGGATTCTCTCGTTTATTTAGAGTTATCCACTATATACACAAGACCTACTACTACTACTTATTATTATACTTATTAAATAAAGGAGTTCTCATGATTCAATTTTCAATTAATCGCACATTATTTATTCATGCTTTAAATACAACTAAACGTGCTATTAGCACTAA'"
      ]
     },
     "execution_count": 101,
     "metadata": {},
     "output_type": "execute_result"
    }
   ],
   "source": [
    "data[1524:1815]"
   ]
  },
  {
   "cell_type": "code",
   "execution_count": 100,
   "metadata": {
    "collapsed": false
   },
   "outputs": [
    {
     "data": {
      "text/plain": [
       "[(1852350, 75, 0),\n",
       " (1524, 1587, 0),\n",
       " (1524, 1731, 0),\n",
       " (1524, 1761, 0),\n",
       " (1524, 1797, 0),\n",
       " (1524, 1815, 0),\n",
       " (1524, 1887, 0),\n",
       " (1524, 1926, 0),\n",
       " (1524, 1992, 0),\n",
       " (1524, 2031, 0),\n",
       " (1524, 2070, 0),\n",
       " (1524, 2253, 0),\n",
       " (1524, 2259, 0),\n",
       " (1524, 2268, 0),\n",
       " (1524, 2358, 0),\n",
       " (1524, 2589, 0),\n",
       " (1524, 2613, 0),\n",
       " (1524, 2652, 0),\n",
       " (1524, 2670, 0),\n",
       " (1524, 2766, 0),\n",
       " (3099, 3162, 0),\n",
       " (3261, 3381, 0),\n",
       " (3261, 3387, 0),\n",
       " (3261, 3444, 0),\n",
       " (3261, 3447, 0),\n",
       " (3261, 3489, 0),\n",
       " (3837, 3888, 0),\n",
       " (4050, 4086, 0),\n",
       " (4248, 4311, 0),\n",
       " (4248, 4401, 0)]"
      ]
     },
     "execution_count": 100,
     "metadata": {},
     "output_type": "execute_result"
    }
   ],
   "source": [
    "pairs[0:30]"
   ]
  },
  {
   "cell_type": "code",
   "execution_count": 85,
   "metadata": {
    "collapsed": false
   },
   "outputs": [
    {
     "data": {
      "text/plain": [
       "278"
      ]
     },
     "execution_count": 85,
     "metadata": {},
     "output_type": "execute_result"
    }
   ],
   "source": [
    "len('ATGAAATAGTTATCCACAAGTTGTGAACATCCATTTAGTCTTGGATTCTCTCGTTTATTTAGAGTTATCCACTATATACACAAGACCTACTACTACTACTTATTATTATACTTATTAAATAAAGGAGTTCTCATGATTCAATTTTCAATTAATCGCACATTATTTATTCATGCTTTAAATACAACTAAACGTGCTATTAGCACTAAAAATGCCATTCCTATTCTTTCATCAATAAAAATTGAAGTCACTTCTACAGGAGTAACTTTAACAGGGTCTAA')"
   ]
  },
  {
   "cell_type": "code",
   "execution_count": 86,
   "metadata": {
    "collapsed": false
   },
   "outputs": [
    {
     "data": {
      "text/plain": [
       "146"
      ]
     },
     "execution_count": 86,
     "metadata": {},
     "output_type": "execute_result"
    }
   ],
   "source": [
    "len('ATGATTCAATTTTCAATTAATCGCACATTATTTATTCATGCTTTAAATACAACTAAACGTGCTATTAGCACTAAAAATGCCATTCCTATTCTTTCATCAATAAAAATTGAAGTCACTTCTACAGGAGTAACTTTAACAGGGTCTAA')"
   ]
  },
  {
   "cell_type": "code",
   "execution_count": 87,
   "metadata": {
    "collapsed": false
   },
   "outputs": [
    {
     "data": {
      "text/plain": [
       "363"
      ]
     },
     "execution_count": 87,
     "metadata": {},
     "output_type": "execute_result"
    }
   ],
   "source": [
    "len('ATGATCAGCCAGGACGAAAGCCTTAGGATCGAAATTGAAACCATAAAAAACAAAATTAAATAACATGTGGAAAAGAATATCTTTTATGAAATAGTTATCCACAAGTTGTGAACATCCATTTAGTCTTGGATTCTCTCGTTTATTTAGAGTTATCCACTATATACACAAGACCTACTACTACTACTTATTATTATACTTATTAAATAAAGGAGTTCTCATGATTCAATTTTCAATTAATCGCACATTATTTATTCATGCTTTAAATACAACTAAACGTGCTATTAGCACTAAAAATGCCATTCCTATTCTTTCATCAATAAAAATTGAAGTCACTTCTACAGGAGTAACTTTAACAGGGTCTAA')"
   ]
  },
  {
   "cell_type": "code",
   "execution_count": 84,
   "metadata": {
    "collapsed": false
   },
   "outputs": [
    {
     "data": {
      "text/plain": [
       "'ATGATCAGCCAGGACGAAAGCCTTAGGATCGAAATTGAAACCATAAAAAACAAAATTAAATAACATGTGGAAAAGAATATCTTTTATGAAATAGTTATCCACAAGTTGTGAACATCCATTTAGTCTTGGATTCTCTCGTTTATTTAGAGTTATCCACTATATACACAAGACCTACTACTACTACTTATTATTATACTTATTAAATAAAGGAGTTCTCATGATTCAATTTTCAATTAATCGCACATTATTTATTCATGCTTTAAATACAACTAAACGTGCTATTAGCACTAAAAATGCCATTCCTATTCTTTCATCAATAAAAATTGAAGTCACTTCTACAGGAGTAACTTTAACAGGGTCTAA'"
      ]
     },
     "execution_count": 84,
     "metadata": {},
     "output_type": "execute_result"
    }
   ],
   "source": [
    "data[1524:1887]"
   ]
  },
  {
   "cell_type": "code",
   "execution_count": 77,
   "metadata": {
    "collapsed": false
   },
   "outputs": [
    {
     "data": {
      "text/plain": [
       "'ATGATCAGCCAGGACGAAAGCCTTAGGATCGAAATTGAAACCATAAAAAACAAAATTAAATAA'"
      ]
     },
     "execution_count": 77,
     "metadata": {},
     "output_type": "execute_result"
    }
   ],
   "source": [
    "data[1524:1584+3]"
   ]
  },
  {
   "cell_type": "code",
   "execution_count": 78,
   "metadata": {
    "collapsed": false
   },
   "outputs": [],
   "source": []
  },
  {
   "cell_type": "code",
   "execution_count": 64,
   "metadata": {
    "collapsed": false
   },
   "outputs": [
    {
     "data": {
      "text/plain": [
       "'ATGATC'"
      ]
     },
     "execution_count": 64,
     "metadata": {},
     "output_type": "execute_result"
    }
   ],
   "source": [
    "data[1524:1530]"
   ]
  },
  {
   "cell_type": "code",
   "execution_count": 60,
   "metadata": {
    "collapsed": false
   },
   "outputs": [
    {
     "data": {
      "text/plain": [
       "[(1852350, 72),\n",
       " (1524, 1584),\n",
       " (1524, 1728),\n",
       " (1524, 1758),\n",
       " (1524, 1794),\n",
       " (1524, 1812),\n",
       " (1524, 1884),\n",
       " (1524, 1923),\n",
       " (1524, 1989),\n",
       " (1524, 2028),\n",
       " (1524, 2067),\n",
       " (1524, 2250),\n",
       " (1524, 2256),\n",
       " (1524, 2265),\n",
       " (1524, 2355),\n",
       " (1524, 2586),\n",
       " (1524, 2610),\n",
       " (1524, 2649),\n",
       " (1524, 2667),\n",
       " (1524, 2763),\n",
       " (3099, 3159),\n",
       " (3261, 3378),\n",
       " (3261, 3384),\n",
       " (3261, 3441),\n",
       " (3261, 3444),\n",
       " (3261, 3486),\n",
       " (3837, 3885),\n",
       " (4050, 4083),\n",
       " (4248, 4308),\n",
       " (4248, 4398),\n",
       " (4248, 4461),\n",
       " (4476, 4482),\n",
       " (4587, 4668),\n",
       " (4827, 4884),\n",
       " (4827, 4896),\n",
       " (4827, 4917),\n",
       " (4827, 4926),\n",
       " (5004, 5079),\n",
       " (5103, 5148),\n",
       " (5226, 5265),\n",
       " (5226, 5340),\n",
       " (5226, 5523),\n",
       " (5226, 5568),\n",
       " (5226, 5694),\n",
       " (5226, 5901),\n",
       " (5226, 5991),\n",
       " (5226, 6039),\n",
       " (5226, 6045),\n",
       " (5226, 6057),\n",
       " (5226, 6111),\n",
       " (5226, 6156),\n",
       " (5226, 6186),\n",
       " (5226, 6234),\n",
       " (5226, 6249),\n",
       " (5226, 6273),\n",
       " (5226, 6303),\n",
       " (5226, 6372),\n",
       " (5226, 6402),\n",
       " (5226, 6519),\n",
       " (5226, 6627),\n",
       " (5226, 6657),\n",
       " (5226, 6723),\n",
       " (5226, 6888),\n",
       " (5226, 6894),\n",
       " (5226, 6897),\n",
       " (5226, 7104),\n",
       " (5226, 7167),\n",
       " (5226, 7197),\n",
       " (5226, 7332),\n",
       " (5226, 7476),\n",
       " (5226, 7482),\n",
       " (5226, 7509),\n",
       " (5226, 7647),\n",
       " (5226, 7719),\n",
       " (5226, 7902),\n",
       " (5226, 7986),\n",
       " (5226, 8025),\n",
       " (5226, 8067),\n",
       " (5226, 8136),\n",
       " (5226, 8502),\n",
       " (5226, 8589),\n",
       " (5226, 8595),\n",
       " (5226, 8733),\n",
       " (8781, 8865),\n",
       " (8781, 8874),\n",
       " (8781, 8913),\n",
       " (8781, 8940),\n",
       " (8781, 8973),\n",
       " (8781, 8985),\n",
       " (8781, 8991),\n",
       " (8781, 9006),\n",
       " (8781, 9060),\n",
       " (8781, 9120),\n",
       " (8781, 9186),\n",
       " (8781, 9279),\n",
       " (9330, 9369),\n",
       " (9384, 9432),\n",
       " (9459, 9582),\n",
       " (9459, 9621),\n",
       " (9459, 9807),\n",
       " (9459, 9822),\n",
       " (9459, 9855),\n",
       " (9459, 9915),\n",
       " (9459, 9930),\n",
       " (9459, 9984),\n",
       " (9459, 10017),\n",
       " (9459, 10188),\n",
       " (9459, 10227),\n",
       " (9459, 10269),\n",
       " (9459, 10272),\n",
       " (9459, 10329),\n",
       " (9459, 10338),\n",
       " (9459, 10425),\n",
       " (9459, 10443),\n",
       " (9459, 10452),\n",
       " (9459, 10491),\n",
       " (9459, 10500),\n",
       " (9459, 10512),\n",
       " (9459, 10515),\n",
       " (9459, 10566),\n",
       " (9459, 10578),\n",
       " (10599, 10614),\n",
       " (10599, 10809),\n",
       " (10599, 10833),\n",
       " (10599, 10860),\n",
       " (10599, 10893),\n",
       " (12195, 12300),\n",
       " (12195, 12480),\n",
       " (12195, 12585),\n",
       " (12195, 12594),\n",
       " (12195, 12600),\n",
       " (12195, 12630),\n",
       " (12195, 12651),\n",
       " (12195, 12813),\n",
       " (12195, 12816),\n",
       " (12195, 12822),\n",
       " (12195, 12834),\n",
       " (12195, 12897),\n",
       " (12195, 12945),\n",
       " (12195, 12954),\n",
       " (12195, 13011),\n",
       " (12195, 13047),\n",
       " (12195, 13158),\n",
       " (12195, 13182),\n",
       " (12195, 13320),\n",
       " (12195, 13344),\n",
       " (12195, 13350),\n",
       " (12195, 13431),\n",
       " (12195, 13440),\n",
       " (12195, 13500),\n",
       " (12195, 13515),\n",
       " (12195, 13629),\n",
       " (12195, 13710),\n",
       " (12195, 13734),\n",
       " (12195, 13770),\n",
       " (12195, 13800),\n",
       " (12195, 13854),\n",
       " (12195, 13881),\n",
       " (12195, 13914),\n",
       " (12195, 13920),\n",
       " (12195, 13941),\n",
       " (12195, 14037),\n",
       " (12195, 14043),\n",
       " (12195, 14187),\n",
       " (12195, 14283),\n",
       " (12195, 14349),\n",
       " (12195, 14463),\n",
       " (12195, 14568),\n",
       " (12195, 14610),\n",
       " (12195, 14664),\n",
       " (12195, 14685),\n",
       " (12195, 14715),\n",
       " (12195, 14748),\n",
       " (12195, 14754),\n",
       " (14781, 14787),\n",
       " (14781, 14859),\n",
       " (14781, 14916),\n",
       " (14781, 14940),\n",
       " (14781, 15036),\n",
       " (14781, 15060),\n",
       " (14781, 15105),\n",
       " (14781, 15123),\n",
       " (14781, 15144),\n",
       " (14781, 15249),\n",
       " (14781, 15351),\n",
       " (15402, 15501),\n",
       " (15402, 15543),\n",
       " (15402, 15714),\n",
       " (15402, 15762),\n",
       " (15402, 15870),\n",
       " (15402, 15954),\n",
       " (16059, 16125),\n",
       " (16059, 16146),\n",
       " (16059, 16155),\n",
       " (16059, 16245),\n",
       " (16059, 16293),\n",
       " (16059, 16335),\n",
       " (16059, 16404),\n",
       " (16059, 16494),\n",
       " (16500, 16509),\n",
       " (16500, 16512),\n",
       " (16500, 16539),\n",
       " (16500, 16563),\n",
       " (16500, 16602),\n",
       " (16500, 16623),\n",
       " (16656, 16680),\n",
       " (16656, 16686),\n",
       " (16656, 16761),\n",
       " (16656, 16830),\n",
       " (16656, 16833),\n",
       " (16899, 16917),\n",
       " (16989, 17022),\n",
       " (16989, 17067),\n",
       " (16989, 17253),\n",
       " (17259, 17271),\n",
       " (17298, 17331),\n",
       " (17298, 17499),\n",
       " (17778, 17817),\n",
       " (17778, 17883),\n",
       " (17889, 17934),\n",
       " (18153, 18162),\n",
       " (18309, 18348),\n",
       " (18399, 18615),\n",
       " (18399, 18870),\n",
       " (18399, 18975),\n",
       " (18399, 18999),\n",
       " (18399, 19002),\n",
       " (18399, 19044),\n",
       " (18399, 19047),\n",
       " (18399, 19098),\n",
       " (18399, 19128),\n",
       " (19173, 19194),\n",
       " (19173, 19233),\n",
       " (19761, 19782),\n",
       " (19761, 19914),\n",
       " (19761, 19977),\n",
       " (19761, 20001),\n",
       " (19761, 20067),\n",
       " (20100, 20163),\n",
       " (20319, 20364),\n",
       " (20319, 20370),\n",
       " (20442, 20502),\n",
       " (20442, 20547),\n",
       " (20442, 20652),\n",
       " (20442, 20730),\n",
       " (20853, 20949),\n",
       " (20853, 20955),\n",
       " (20853, 20964),\n",
       " (21225, 21303),\n",
       " (21225, 21372),\n",
       " (21225, 21777),\n",
       " (21828, 21843),\n",
       " (22002, 22077),\n",
       " (22155, 22221),\n",
       " (22155, 22386),\n",
       " (22392, 23181),\n",
       " (22392, 23214),\n",
       " (22392, 23244),\n",
       " (23526, 23562),\n",
       " (23526, 23580),\n",
       " (23526, 23643),\n",
       " (23526, 23943),\n",
       " (24021, 24207),\n",
       " (24021, 24357),\n",
       " (24021, 24495),\n",
       " (24021, 24516),\n",
       " (24552, 24570),\n",
       " (24552, 24756),\n",
       " (24552, 24762),\n",
       " (24804, 24849),\n",
       " (24804, 25017),\n",
       " (24804, 25125),\n",
       " (25146, 25350),\n",
       " (25146, 25356),\n",
       " (25146, 25380),\n",
       " (25641, 25710),\n",
       " (25911, 26088),\n",
       " (26199, 26211),\n",
       " (26484, 26574),\n",
       " (26655, 26847),\n",
       " (26655, 26937),\n",
       " (26655, 27015),\n",
       " (27147, 27795),\n",
       " (27147, 27885),\n",
       " (27900, 28026),\n",
       " (27900, 28254),\n",
       " (27900, 28332),\n",
       " (27900, 28377),\n",
       " (27900, 28422),\n",
       " (27900, 28572),\n",
       " (28623, 28653),\n",
       " (28623, 28695),\n",
       " (28752, 29037),\n",
       " (29088, 29100),\n",
       " (29088, 29139),\n",
       " (29088, 29169),\n",
       " (29088, 29193),\n",
       " (29088, 29253),\n",
       " (29088, 29298),\n",
       " (29088, 29310),\n",
       " (29088, 29340),\n",
       " (29088, 29418),\n",
       " (29751, 29787),\n",
       " (29751, 29817),\n",
       " (29901, 29922),\n",
       " (30123, 30165),\n",
       " (30174, 30216),\n",
       " (30174, 30231),\n",
       " (30174, 30276),\n",
       " (30174, 30306),\n",
       " (30174, 30333),\n",
       " (30174, 30357),\n",
       " (30174, 30426),\n",
       " (30174, 30477),\n",
       " (30174, 30483),\n",
       " (30513, 30576),\n",
       " (30513, 30624),\n",
       " (30513, 30720),\n",
       " (30513, 30813),\n",
       " (30837, 30846),\n",
       " (30930, 30936),\n",
       " (31605, 31770),\n",
       " (31605, 31833),\n",
       " (31605, 31869),\n",
       " (31605, 31959),\n",
       " (31605, 32010),\n",
       " (32109, 32124),\n",
       " (32190, 32199),\n",
       " (32223, 32229),\n",
       " (32280, 32373),\n",
       " (32388, 32448),\n",
       " (32739, 32811),\n",
       " (32913, 33003),\n",
       " (33018, 33027),\n",
       " (33018, 33072),\n",
       " (33018, 33075),\n",
       " (33018, 33084),\n",
       " (33018, 33105),\n",
       " (33018, 33117),\n",
       " (33018, 33138),\n",
       " (33018, 33177),\n",
       " (33018, 33201),\n",
       " (33018, 33234),\n",
       " (33018, 33360),\n",
       " (33018, 33366),\n",
       " (33018, 33384),\n",
       " (33018, 33387),\n",
       " (33018, 33453),\n",
       " (33018, 33690),\n",
       " (33018, 33774),\n",
       " (33018, 33849),\n",
       " (33018, 33864),\n",
       " (33018, 33873),\n",
       " (33915, 33987),\n",
       " (33915, 34035),\n",
       " (33915, 34044),\n",
       " (33915, 34065),\n",
       " (33915, 34128),\n",
       " (33915, 34221),\n",
       " (33915, 34251),\n",
       " (33915, 34425),\n",
       " (33915, 34485),\n",
       " (33915, 34506),\n",
       " (33915, 34566),\n",
       " (33915, 34596),\n",
       " (33915, 34617),\n",
       " (33915, 34749),\n",
       " (33915, 34764),\n",
       " (33915, 34770),\n",
       " (33915, 34791),\n",
       " (33915, 34950),\n",
       " (33915, 34983),\n",
       " (33915, 35037),\n",
       " (33915, 35091),\n",
       " (35520, 35535),\n",
       " (35520, 35571),\n",
       " (39081, 39249),\n",
       " (39660, 39705),\n",
       " (39822, 39924),\n",
       " (41169, 41559),\n",
       " (41169, 41577),\n",
       " (42498, 42609),\n",
       " (42498, 42654),\n",
       " (42498, 42690),\n",
       " (43266, 43326),\n",
       " (43266, 43437),\n",
       " (43266, 43512),\n",
       " (43266, 43533),\n",
       " (43668, 43857),\n",
       " (43965, 44121),\n",
       " (45072, 45084),\n",
       " (45072, 45102),\n",
       " (45072, 45114),\n",
       " (45072, 45180),\n",
       " (45072, 45219),\n",
       " (45480, 45531),\n",
       " (45480, 45558),\n",
       " (45480, 45561),\n",
       " (45480, 45585),\n",
       " (45480, 45648),\n",
       " (45681, 45744),\n",
       " (45681, 45810),\n",
       " (45681, 45873),\n",
       " (45681, 45891),\n",
       " (45924, 45948),\n",
       " (46068, 46260),\n",
       " (46068, 46341),\n",
       " (46068, 46425),\n",
       " (46458, 46464),\n",
       " (47733, 47754),\n",
       " (47733, 47868),\n",
       " (48384, 48531),\n",
       " (48384, 48852),\n",
       " (48384, 48879),\n",
       " (48384, 49023),\n",
       " (48384, 49197),\n",
       " (48384, 49203),\n",
       " (48384, 49512),\n",
       " (48384, 49530),\n",
       " (48384, 49599),\n",
       " (51252, 51261),\n",
       " (51252, 51264),\n",
       " (52545, 52656),\n",
       " (52545, 52674),\n",
       " (52545, 52677),\n",
       " (52545, 52848),\n",
       " (52545, 52923),\n",
       " (52545, 53037),\n",
       " (52545, 53112),\n",
       " (52545, 53145),\n",
       " (52545, 53160),\n",
       " (52545, 53250),\n",
       " (52545, 53277),\n",
       " (52545, 53328),\n",
       " (52545, 53331),\n",
       " (52545, 53370),\n",
       " (52545, 53382),\n",
       " (53532, 53604),\n",
       " (53532, 53637),\n",
       " (53532, 53658),\n",
       " (53532, 53670),\n",
       " (53700, 53793),\n",
       " (53700, 53796),\n",
       " (53826, 53832),\n",
       " (53826, 53862),\n",
       " (53826, 53937),\n",
       " (53826, 53943),\n",
       " (53826, 53976),\n",
       " (53826, 54075),\n",
       " (53826, 54336),\n",
       " (53826, 54501),\n",
       " (53826, 54714),\n",
       " (54840, 54855),\n",
       " (54840, 54864),\n",
       " (54840, 54900),\n",
       " (55467, 55557),\n",
       " (55467, 55578),\n",
       " (55467, 55611),\n",
       " (55467, 55617),\n",
       " (55467, 55677),\n",
       " (55467, 55716),\n",
       " (55467, 55734),\n",
       " (55467, 55749),\n",
       " (55467, 55791),\n",
       " (55467, 55794),\n",
       " (55467, 55803),\n",
       " (55467, 55815),\n",
       " (57174, 57609),\n",
       " (57174, 57615),\n",
       " (57621, 57633),\n",
       " (57621, 57684),\n",
       " (57771, 57804),\n",
       " (57771, 57906),\n",
       " (58221, 58239),\n",
       " (58221, 58326),\n",
       " (58719, 58764),\n",
       " (58719, 58845),\n",
       " (58956, 58965),\n",
       " (58956, 59001),\n",
       " (59229, 59265),\n",
       " (59229, 59547),\n",
       " (59655, 59835),\n",
       " (60534, 60567),\n",
       " (60585, 60600),\n",
       " (60585, 60666),\n",
       " (60801, 60831),\n",
       " (60801, 60903),\n",
       " (61080, 61134),\n",
       " (61080, 61203),\n",
       " (61080, 61269),\n",
       " (61080, 61278),\n",
       " (61305, 61359),\n",
       " (61305, 61371),\n",
       " (61305, 61398),\n",
       " (61305, 61401),\n",
       " (61305, 61407),\n",
       " (61305, 61422),\n",
       " (61305, 61449),\n",
       " (61305, 61533),\n",
       " (61305, 61545),\n",
       " (61305, 61680),\n",
       " (61839, 61845),\n",
       " (61839, 61887),\n",
       " (61839, 62028),\n",
       " (61839, 62046),\n",
       " (61839, 62076),\n",
       " (61839, 62082),\n",
       " (61839, 62112),\n",
       " (61839, 62148),\n",
       " (61839, 62226),\n",
       " (61839, 62229),\n",
       " (61839, 62307),\n",
       " (61839, 62361),\n",
       " (61839, 62448),\n",
       " (62556, 62682),\n",
       " (62754, 62841),\n",
       " (62754, 62991),\n",
       " (62754, 63021),\n",
       " (62754, 63090),\n",
       " (62754, 63444),\n",
       " (62754, 63471),\n",
       " (62754, 63480),\n",
       " (62754, 63540),\n",
       " (62754, 63558),\n",
       " (63972, 64017),\n",
       " (64053, 64092),\n",
       " (64170, 64245),\n",
       " (64170, 64380),\n",
       " (64170, 64449),\n",
       " (64170, 64494),\n",
       " (64170, 64608),\n",
       " (64170, 64713),\n",
       " (64170, 64758),\n",
       " (64170, 64824),\n",
       " (64170, 64830),\n",
       " (64170, 64845),\n",
       " (64170, 64878),\n",
       " (64170, 64887),\n",
       " (64917, 65538),\n",
       " (64917, 65556),\n",
       " (64917, 65700),\n",
       " (64917, 65850),\n",
       " (64917, 65862),\n",
       " (64917, 65871),\n",
       " (64917, 65895),\n",
       " (64917, 65964),\n",
       " (64917, 65982),\n",
       " (64917, 66060),\n",
       " (64917, 66087),\n",
       " (64917, 66174),\n",
       " (64917, 66234),\n",
       " (64917, 66300),\n",
       " (64917, 66360),\n",
       " (66414, 66441),\n",
       " (66414, 66462),\n",
       " (66414, 66471),\n",
       " (66414, 66534),\n",
       " (66414, 66564),\n",
       " (66414, 66582),\n",
       " (66600, 66606),\n",
       " (66600, 66624),\n",
       " (66600, 66633),\n",
       " (66600, 66645),\n",
       " (66600, 66675),\n",
       " (66600, 66702),\n",
       " (66600, 66807),\n",
       " (66600, 66840),\n",
       " (66600, 66990),\n",
       " (66600, 67140),\n",
       " (66600, 67176),\n",
       " (66600, 67209),\n",
       " (66600, 67284),\n",
       " (66600, 67299),\n",
       " (66600, 67359),\n",
       " (66600, 67470),\n",
       " (67539, 67593),\n",
       " (67539, 67602),\n",
       " (67539, 67605),\n",
       " (67539, 67686),\n",
       " (67539, 67707),\n",
       " (67539, 67746),\n",
       " (67539, 67911),\n",
       " (67539, 67920),\n",
       " (67539, 68055),\n",
       " (67539, 68067),\n",
       " (67539, 68106),\n",
       " (67539, 68115),\n",
       " (67539, 68145),\n",
       " (67539, 68154),\n",
       " (67539, 68196),\n",
       " (67539, 68205),\n",
       " (67539, 68319),\n",
       " (67539, 68331),\n",
       " (67539, 68391),\n",
       " (67539, 68424),\n",
       " (67539, 68433),\n",
       " (67539, 68514),\n",
       " (67539, 68574),\n",
       " (67539, 68586),\n",
       " (67539, 68622),\n",
       " (67539, 68715),\n",
       " (67539, 68736),\n",
       " (68931, 69186),\n",
       " (68931, 69201),\n",
       " (69318, 69327),\n",
       " (69339, 69504),\n",
       " (69339, 69528),\n",
       " (69339, 69552),\n",
       " (69741, 69879),\n",
       " (69741, 70056),\n",
       " (69741, 70062),\n",
       " (69741, 70293),\n",
       " (69741, 70362),\n",
       " (69741, 70404),\n",
       " (69741, 70413),\n",
       " (69741, 70431),\n",
       " (70485, 70518),\n",
       " (70485, 70611),\n",
       " (70485, 70641),\n",
       " (70485, 70701),\n",
       " (70485, 70725),\n",
       " (70485, 70788),\n",
       " (70485, 70794),\n",
       " (70485, 70839),\n",
       " (70485, 70863),\n",
       " (70485, 70908),\n",
       " (70485, 70968),\n",
       " (70485, 71028),\n",
       " (70485, 71037),\n",
       " (70485, 71145),\n",
       " (70485, 71340),\n",
       " (70485, 71367),\n",
       " (70485, 71394),\n",
       " (71919, 72003),\n",
       " (71919, 72045),\n",
       " (71919, 72093),\n",
       " (71919, 72165),\n",
       " (71919, 72177),\n",
       " (71919, 72240),\n",
       " (71919, 72297),\n",
       " (71919, 72369),\n",
       " (71919, 72375),\n",
       " (71919, 72411),\n",
       " (71919, 72432),\n",
       " (71919, 72510),\n",
       " (71919, 72540),\n",
       " (71919, 72558),\n",
       " (71919, 72618),\n",
       " (71919, 72633),\n",
       " (71919, 72798),\n",
       " (73005, 73050),\n",
       " (73005, 73080),\n",
       " (73005, 73179),\n",
       " (73266, 73704),\n",
       " (73266, 73773),\n",
       " (73266, 73908),\n",
       " (73266, 74004),\n",
       " (73266, 74046),\n",
       " (73266, 74121),\n",
       " (73266, 74148),\n",
       " (73266, 74241),\n",
       " (73266, 74253),\n",
       " (73266, 74343),\n",
       " (73266, 74445),\n",
       " (73266, 74637),\n",
       " (73266, 74718),\n",
       " (73266, 75075),\n",
       " (75690, 75813),\n",
       " (75690, 75876),\n",
       " (76101, 76149),\n",
       " (76101, 76158),\n",
       " (76101, 76197),\n",
       " (76101, 76218),\n",
       " (76101, 76233),\n",
       " (76551, 76674),\n",
       " (76551, 76686),\n",
       " (76806, 76923),\n",
       " (76806, 76944),\n",
       " (76806, 77007),\n",
       " (77043, 77145),\n",
       " (77043, 77148),\n",
       " (77160, 77274),\n",
       " (77358, 77436),\n",
       " (77682, 77697),\n",
       " (77739, 77778),\n",
       " (77739, 77796),\n",
       " (77739, 77823),\n",
       " (77850, 77913),\n",
       " (77850, 77946),\n",
       " (77850, 78045),\n",
       " (77850, 78087),\n",
       " (77850, 78114),\n",
       " (77850, 78198),\n",
       " (77850, 78228),\n",
       " (77850, 78276),\n",
       " (77850, 78315),\n",
       " (77850, 78381),\n",
       " (77850, 78405),\n",
       " (78579, 78582),\n",
       " (78594, 78606),\n",
       " (78708, 78717),\n",
       " (78708, 78774),\n",
       " (78786, 78795),\n",
       " (78786, 78804),\n",
       " (78786, 78921),\n",
       " (78786, 78990),\n",
       " (79026, 79182),\n",
       " (79026, 79269),\n",
       " (79026, 79332),\n",
       " (79338, 79410),\n",
       " (79338, 79452),\n",
       " (79338, 79485),\n",
       " (79512, 79776),\n",
       " (79512, 79821),\n",
       " (79512, 79884),\n",
       " (79512, 79896),\n",
       " (79512, 80247),\n",
       " (80292, 80454),\n",
       " (80292, 80457),\n",
       " (80502, 80637),\n",
       " (80502, 80757),\n",
       " (81054, 81117),\n",
       " (81054, 81183),\n",
       " (81054, 81249),\n",
       " (81054, 81252),\n",
       " (81054, 81258),\n",
       " (81372, 81390),\n",
       " (81420, 81612),\n",
       " (81420, 81627),\n",
       " (81420, 81714),\n",
       " (81420, 81831),\n",
       " (81882, 81891),\n",
       " (82206, 82245),\n",
       " (82206, 82299),\n",
       " (82344, 82635),\n",
       " (82344, 82725),\n",
       " (82344, 82752),\n",
       " (82965, 82974),\n",
       " (82965, 83058),\n",
       " (82965, 83109),\n",
       " (82965, 83127),\n",
       " (82965, 83208),\n",
       " (83412, 83454),\n",
       " (83412, 83529),\n",
       " (83412, 83583),\n",
       " (83412, 83997),\n",
       " (84048, 84063),\n",
       " (84222, 84297),\n",
       " (84375, 84441),\n",
       " (84654, 84675),\n",
       " (84654, 84699),\n",
       " (84654, 84792),\n",
       " (84843, 84873),\n",
       " (84843, 84915),\n",
       " (84972, 85005),\n",
       " (84972, 85107),\n",
       " (84972, 85122),\n",
       " (84972, 85134),\n",
       " (84972, 85347),\n",
       " (85665, 85698),\n",
       " (85995, 86175),\n",
       " (85995, 86211),\n",
       " (85995, 86358),\n",
       " (85995, 86364),\n",
       " (86370, 86454),\n",
       " (86370, 86493),\n",
       " (86370, 86502),\n",
       " (86370, 86514),\n",
       " (86370, 86550),\n",
       " (86925, 86997),\n",
       " (87030, 87093),\n",
       " (87030, 87126),\n",
       " (87177, 87183),\n",
       " (87177, 87195),\n",
       " (87450, 87654),\n",
       " (88236, 88692),\n",
       " (88236, 89010),\n",
       " (88236, 89019),\n",
       " (88236, 89169),\n",
       " (88236, 89250),\n",
       " (88236, 89271),\n",
       " (88236, 89376),\n",
       " (89625, 89709),\n",
       " (89625, 89739),\n",
       " (89625, 89751),\n",
       " (89625, 89844),\n",
       " (89862, 89916),\n",
       " (89862, 89955),\n",
       " (90000, 90102),\n",
       " (90000, 90153),\n",
       " (90000, 90354),\n",
       " (90366, 90693),\n",
       " (90366, 90759),\n",
       " (90783, 90840),\n",
       " (91029, 91119),\n",
       " (91029, 91206),\n",
       " (91029, 91218),\n",
       " (91029, 91281),\n",
       " (91029, 91332),\n",
       " (91029, 91401),\n",
       " (91029, 91533),\n",
       " (91029, 91545),\n",
       " (91602, 91614),\n",
       " (91602, 91635),\n",
       " (91602, 91845),\n",
       " (91602, 91872),\n",
       " (91602, 91893),\n",
       " (91602, 91947),\n",
       " (91602, 91986),\n",
       " (91602, 92013),\n",
       " (91602, 92022),\n",
       " (91602, 92058),\n",
       " (91602, 92127),\n",
       " (91602, 92130),\n",
       " (91602, 92289),\n",
       " (91602, 92331),\n",
       " (91602, 92397),\n",
       " (91602, 92577),\n",
       " (91602, 92706),\n",
       " (91602, 92751),\n",
       " (91602, 92862),\n",
       " (91602, 92877),\n",
       " (91602, 92895),\n",
       " (91602, 93015),\n",
       " (91602, 93021),\n",
       " (91602, 93027),\n",
       " (91602, 93048),\n",
       " (91602, 93057),\n",
       " (91602, 93120),\n",
       " (91602, 93165),\n",
       " (93216, 93348),\n",
       " (93216, 93354),\n",
       " (93216, 93357),\n",
       " (93216, 93426),\n",
       " (93216, 93492),\n",
       " (93216, 93501),\n",
       " (93216, 93561),\n",
       " (97068, 97149),\n",
       " (97068, 97167),\n",
       " (100812, 100881),\n",
       " (100965, 101013),\n",
       " (101028, 101049),\n",
       " (101091, 101154),\n",
       " (101163, 101241),\n",
       " (101247, 101301),\n",
       " (101247, 101307),\n",
       " (101247, 101328),\n",
       " (101247, 101409),\n",
       " (101247, 101481),\n",
       " (102171, 102432),\n",
       " (102171, 102444),\n",
       " (102171, 102465),\n",
       " (102171, 102549),\n",
       " (102171, 102657),\n",
       " (102171, 102843),\n",
       " (102915, 102975),\n",
       " (103017, 103152),\n",
       " (103017, 103176),\n",
       " (103017, 103440),\n",
       " (103017, 103518),\n",
       " (103596, 103635),\n",
       " (104049, 104241),\n",
       " (104049, 104274),\n",
       " (104049, 104379),\n",
       " (104049, 104388),\n",
       " (104049, 104415),\n",
       " (104505, 104553),\n",
       " (104667, 104748),\n",
       " (105036, 105108),\n",
       " (105036, 105126),\n",
       " (105138, 105201),\n",
       " (105138, 105369),\n",
       " (105402, 105408),\n",
       " (105402, 105432),\n",
       " (105402, 105528),\n",
       " (105402, 105777),\n",
       " (105402, 105819),\n",
       " (106137, 106149),\n",
       " (106137, 106176),\n",
       " (106137, 106179),\n",
       " (106137, 106215),\n",
       " (106242, 106260),\n",
       " (106770, 106818),\n",
       " (106770, 106824),\n",
       " (106845, 106971),\n",
       " (106845, 106992),\n",
       " (106845, 107022),\n",
       " (107244, 107259),\n",
       " (107295, 107400),\n",
       " (107295, 107424),\n",
       " (107295, 107439),\n",
       " (107559, 107583),\n",
       " (107625, 107631),\n",
       " (107625, 107646),\n",
       " (107658, 107754),\n",
       " (107658, 107859),\n",
       " (107658, 107922),\n",
       " (107658, 108066),\n",
       " (107658, 108282),\n",
       " (107658, 108345),\n",
       " (107658, 108366),\n",
       " (107658, 108396),\n",
       " (107658, 108576),\n",
       " (107658, 108636),\n",
       " (107658, 108666),\n",
       " (108804, 108816),\n",
       " (109083, 109146),\n",
       " (109314, 109569),\n",
       " (109830, 110058),\n",
       " (109830, 110082),\n",
       " (109830, 110085),\n",
       " (109830, 110136),\n",
       " (109830, 110142),\n",
       " (109830, 110202),\n",
       " (109830, 110331),\n",
       " (109830, 110349),\n",
       " (110916, 110940),\n",
       " (111144, 111183),\n",
       " (111360, 111375),\n",
       " (111360, 111405),\n",
       " (111531, 111618),\n",
       " (111621, 111717),\n",
       " (111621, 111720),\n",
       " (112254, 112767),\n",
       " (112254, 112848),\n",
       " (112254, 113046),\n",
       " (113235, 113313),\n",
       " (113637, 113643),\n",
       " (113841, 113865),\n",
       " (113961, 114129),\n",
       " (114264, 114405),\n",
       " (114264, 114453),\n",
       " (114639, 114810),\n",
       " (114639, 114963),\n",
       " (114639, 114996),\n",
       " (114639, 115008),\n",
       " (115197, 115230),\n",
       " (115197, 115251),\n",
       " (115632, 115746),\n",
       " (115632, 115797),\n",
       " (115929, 116037),\n",
       " (116073, 116079),\n",
       " (116085, 116172),\n",
       " (116085, 116292),\n",
       " (116085, 116298),\n",
       " (116349, 116397),\n",
       " (116349, 116457),\n",
       " (116349, 116568),\n",
       " (116349, 116613),\n",
       " (118569, 119085),\n",
       " (118569, 119103),\n",
       " (118569, 119124),\n",
       " (118569, 119160),\n",
       " (118569, 119301),\n",
       " (118569, 119334),\n",
       " (118569, 119418),\n",
       " (118569, 119469),\n",
       " (118569, 119493),\n",
       " (118569, 119562),\n",
       " (118569, 119586),\n",
       " (118569, 119619),\n",
       " (118569, 119631),\n",
       " (120591, 120669),\n",
       " (121350, 121392),\n",
       " (121350, 121398),\n",
       " (121974, 122073),\n",
       " (121974, 122082),\n",
       " (121974, 122139),\n",
       " (121974, 122145),\n",
       " (121974, 122196),\n",
       " (122379, 122475),\n",
       " (122520, 122532),\n",
       " (122556, 122643),\n",
       " (122556, 122691),\n",
       " (122556, 122712),\n",
       " (122835, 122841),\n",
       " (123042, 123060),\n",
       " (123042, 123063),\n",
       " (123120, 123159),\n",
       " (123255, 123261),\n",
       " (123348, 123384),\n",
       " (123429, 123462),\n",
       " (123429, 123738),\n",
       " (123825, 123963),\n",
       " (123825, 124053),\n",
       " (124059, 124224),\n",
       " (124059, 124251),\n",
       " (124059, 124359),\n",
       " (125187, 125241),\n",
       " (125187, 125322),\n",
       " (125187, 125328),\n",
       " (125187, 125331),\n",
       " (125187, 125340),\n",
       " (125460, 125475),\n",
       " (125460, 125487),\n",
       " (125460, 125538),\n",
       " (125460, 125697),\n",
       " (125460, 125871),\n",
       " (125460, 126024),\n",
       " (125460, 126102),\n",
       " ...]"
      ]
     },
     "execution_count": 60,
     "metadata": {},
     "output_type": "execute_result"
    }
   ],
   "source": [
    "res"
   ]
  },
  {
   "cell_type": "code",
   "execution_count": 43,
   "metadata": {
    "collapsed": false
   },
   "outputs": [
    {
     "data": {
      "text/plain": [
       "10794"
      ]
     },
     "execution_count": 43,
     "metadata": {},
     "output_type": "execute_result"
    }
   ],
   "source": [
    "len(indices)"
   ]
  },
  {
   "cell_type": "code",
   "execution_count": 36,
   "metadata": {
    "collapsed": false
   },
   "outputs": [],
   "source": [
    "import pickle"
   ]
  },
  {
   "cell_type": "code",
   "execution_count": 37,
   "metadata": {
    "collapsed": true
   },
   "outputs": [],
   "source": [
    "\n",
    "output = open('start-stops.pkl', 'wb')\n",
    "\n",
    "pickle.dump(tup_list, output)\n",
    "output.close()"
   ]
  },
  {
   "cell_type": "code",
   "execution_count": 34,
   "metadata": {
    "collapsed": false
   },
   "outputs": [
    {
     "data": {
      "text/plain": [
       "33"
      ]
     },
     "execution_count": 34,
     "metadata": {},
     "output_type": "execute_result"
    }
   ],
   "source": [
    "109 - 76"
   ]
  },
  {
   "cell_type": "code",
   "execution_count": null,
   "metadata": {
    "collapsed": true
   },
   "outputs": [],
   "source": [
    "from itertools import product\n",
    "ssx = sorted(product(arr1, arr2), key=lambda t: t[1]-t[0])[0:len(arr2)]"
   ]
  },
  {
   "cell_type": "code",
   "execution_count": null,
   "metadata": {
    "collapsed": true
   },
   "outputs": [],
   "source": [
    "len(ssx)"
   ]
  },
  {
   "cell_type": "code",
   "execution_count": null,
   "metadata": {
    "collapsed": true
   },
   "outputs": [],
   "source": [
    "matches = ssx[0:len(arr2)]"
   ]
  },
  {
   "cell_type": "code",
   "execution_count": 121,
   "metadata": {
    "collapsed": false
   },
   "outputs": [],
   "source": [
    "stops = stop_indices(data)"
   ]
  },
  {
   "cell_type": "code",
   "execution_count": 132,
   "metadata": {
    "collapsed": false
   },
   "outputs": [
    {
     "data": {
      "text/plain": [
       "'TAAAGG'"
      ]
     },
     "execution_count": 132,
     "metadata": {},
     "output_type": "execute_result"
    }
   ],
   "source": [
    "data[35413:35419]"
   ]
  },
  {
   "cell_type": "code",
   "execution_count": 133,
   "metadata": {
    "collapsed": false
   },
   "outputs": [
    {
     "data": {
      "text/plain": [
       "229411"
      ]
     },
     "execution_count": 133,
     "metadata": {},
     "output_type": "execute_result"
    }
   ],
   "source": [
    "# stops\n",
    "all_stops = stops[0]+stops[1]+stops[2]+stops[3]+stops[4]+stops[5]\n",
    "len(all_stops)"
   ]
  },
  {
   "cell_type": "code",
   "execution_count": 47,
   "metadata": {
    "collapsed": false
   },
   "outputs": [
    {
     "name": "stderr",
     "output_type": "stream",
     "text": [
      "/Users/ingrid/anaconda/lib/python3.5/site-packages/ipykernel/__main__.py:2: SettingWithCopyWarning: \n",
      "A value is trying to be set on a copy of a slice from a DataFrame.\n",
      "Try using .loc[row_indexer,col_indexer] = value instead\n",
      "\n",
      "See the caveats in the documentation: http://pandas.pydata.org/pandas-docs/stable/indexing.html#indexing-view-versus-copy\n",
      "  from ipykernel import kernelapp as app\n"
     ]
    }
   ],
   "source": [
    "tzz= regions[regions.start == 45122]\n",
    "tzz[\"true\"] = True"
   ]
  },
  {
   "cell_type": "raw",
   "metadata": {},
   "source": [
    "regions[regions.state == 'R']\n",
    "rzz = df[df.start == 45122]"
   ]
  },
  {
   "cell_type": "code",
   "execution_count": 95,
   "metadata": {
    "collapsed": true
   },
   "outputs": [],
   "source": [
    "mer = pd.merge(tzz,rzz, on=['start','end'], how=\"outer\")\n",
    "\n",
    "## regression - gene candidate and take nearest candiate neighbors or gene neighbors\n",
    "## common sub-sequences in front of genes, \n",
    "## matrix of character combinations.... "
   ]
  },
  {
   "cell_type": "code",
   "execution_count": 111,
   "metadata": {
    "collapsed": false
   },
   "outputs": [
    {
     "data": {
      "text/plain": [
       "'TAGAACAAGTACGTCGACAAAATCCGCTATTGATAGGCTCATTCACCTTTTTTCCGTTACCTTAGCTAAGCACCTTGTACATATAGGCGGTTACGTGAAGAAAACGTCGAAAAGCAAATTCGAGACGATTACCAAAAGTCAATGGATTTCCGATGCCATTACGGACGTGCACCCCTGTATAGCGCTTTTTAGTCCCAATAGGACACTTATTCTGTGGTTCGTATCCCCGATAGCGAACCAAACTATTTTTGCGAATAGTCAGTTTACGACGAATGCCAGTACATCGTACCCATCGACTATAGGCACCTCTGTGACAGTGATAGCTTCTCATATTAATGTTGCGACCTGTTCCGGGACTTTCTATGGTATTCGCAGTTTAAGGTTTTAGAGTCCATTCACCAATATAGGTAAAATTTCTGAATAGTAGAGTCTGTTCAGTAAGGATGGGTTCTGTTGATTTTGTGTAAAGAGTTCGAAGTAAACTGGGGAGACCTTGAATAGTGAAATGTTGGTCTAATGGTCAGTTTCCTGTTTGGTCATAGCTATCGGGACTAGAACGAATGATACTTCGTCCAGTTAGACAAATAATGCTATTTCAGCACTGACGACCTCCAATATGTACCGAATCGATGGAGTCAAAAAGACCTTTGGCTGCGATATAAGGGTAATTTCTCGGGCGTGTCAGACACCAAGTTTTACTGTTATGTTTTGGAAGGTAATTCCAGCCACTATGACAATGGAAGGGACCGCAAAAAGCACATCTAGTCGAACAATTATTAAACTAGCAATTATTTCTTAATCGGCCTCCTCTGGGTTGAGGTGATTTGACCTAACTAGGGTGTGGTAATCTACTTTGTCTATTGGTTCCTTTTCAAAATCCTCTAGTTTAAGAGGCACACCCACTTATAAAATAGCAGTGACCATCAATATTTCATAATTTTTAACTAGTTGGTTCATTACCATAAATACAAGTTTAGCCTAGAGCACCTTGTACCCATTTACGACTATTTCGATTGTTTAATATC'"
      ]
     },
     "execution_count": 111,
     "metadata": {},
     "output_type": "execute_result"
    }
   ],
   "source": [
    "data[45122:46147][::-1]"
   ]
  },
  {
   "cell_type": "code",
   "execution_count": 97,
   "metadata": {
    "collapsed": false
   },
   "outputs": [],
   "source": [
    "mer.true = mer.true.fillna(False)\n",
    "pd.isnull(mer.iloc[2].seq)\n",
    "mer.iloc[2].seq is None\n",
    "mer\n",
    "# type(seq[1]),axis=1)#\n",
    "mer.seq = mer.apply(lambda seq: seq[3] if not pd.isnull(seq[3]) else reverse_complement(data[int(seq[1]):int(seq[2])]), axis=1 )"
   ]
  },
  {
   "cell_type": "code",
   "execution_count": 98,
   "metadata": {
    "collapsed": false
   },
   "outputs": [
    {
     "data": {
      "text/html": [
       "<div>\n",
       "<table border=\"1\" class=\"dataframe\">\n",
       "  <thead>\n",
       "    <tr style=\"text-align: right;\">\n",
       "      <th></th>\n",
       "      <th>state</th>\n",
       "      <th>start</th>\n",
       "      <th>end</th>\n",
       "      <th>seq</th>\n",
       "      <th>true</th>\n",
       "      <th>end_codon</th>\n",
       "      <th>shift</th>\n",
       "      <th>strand</th>\n",
       "    </tr>\n",
       "  </thead>\n",
       "  <tbody>\n",
       "    <tr>\n",
       "      <th>0</th>\n",
       "      <td>R</td>\n",
       "      <td>45122</td>\n",
       "      <td>46247</td>\n",
       "      <td>ATGAAAAAATTTCATCGTTTTTTGGTCTCAGGAGTAATCCTTTTAG...</td>\n",
       "      <td>True</td>\n",
       "      <td>tag</td>\n",
       "      <td>2</td>\n",
       "      <td>R</td>\n",
       "    </tr>\n",
       "    <tr>\n",
       "      <th>1</th>\n",
       "      <td>NaN</td>\n",
       "      <td>45122</td>\n",
       "      <td>46178</td>\n",
       "      <td>ATGCCATCTACACTTATTTCGCAACAGGAAAATCTTGTTCATGCAG...</td>\n",
       "      <td>False</td>\n",
       "      <td>tag</td>\n",
       "      <td>2</td>\n",
       "      <td>R</td>\n",
       "    </tr>\n",
       "    <tr>\n",
       "      <th>2</th>\n",
       "      <td>NaN</td>\n",
       "      <td>45122</td>\n",
       "      <td>46070</td>\n",
       "      <td>ATGTATATCCGCCAATGCACTTCTTTTGCAGCTTTTCGTTTAAGCT...</td>\n",
       "      <td>False</td>\n",
       "      <td>tag</td>\n",
       "      <td>2</td>\n",
       "      <td>R</td>\n",
       "    </tr>\n",
       "    <tr>\n",
       "      <th>3</th>\n",
       "      <td>NaN</td>\n",
       "      <td>45122</td>\n",
       "      <td>46538</td>\n",
       "      <td>ATGTTCACGACCACCTGAACCAACAACAAGTAATTTCAAAACATCC...</td>\n",
       "      <td>False</td>\n",
       "      <td>tag</td>\n",
       "      <td>2</td>\n",
       "      <td>R</td>\n",
       "    </tr>\n",
       "    <tr>\n",
       "      <th>4</th>\n",
       "      <td>NaN</td>\n",
       "      <td>45122</td>\n",
       "      <td>46655</td>\n",
       "      <td>ATGTTCGGAAACTACTATATTCACCAAGTCCAGACCATCCAAGGTC...</td>\n",
       "      <td>False</td>\n",
       "      <td>tag</td>\n",
       "      <td>2</td>\n",
       "      <td>R</td>\n",
       "    </tr>\n",
       "  </tbody>\n",
       "</table>\n",
       "</div>"
      ],
      "text/plain": [
       "  state  start    end                                                seq  \\\n",
       "0     R  45122  46247  ATGAAAAAATTTCATCGTTTTTTGGTCTCAGGAGTAATCCTTTTAG...   \n",
       "1   NaN  45122  46178  ATGCCATCTACACTTATTTCGCAACAGGAAAATCTTGTTCATGCAG...   \n",
       "2   NaN  45122  46070  ATGTATATCCGCCAATGCACTTCTTTTGCAGCTTTTCGTTTAAGCT...   \n",
       "3   NaN  45122  46538  ATGTTCACGACCACCTGAACCAACAACAAGTAATTTCAAAACATCC...   \n",
       "4   NaN  45122  46655  ATGTTCGGAAACTACTATATTCACCAAGTCCAGACCATCCAAGGTC...   \n",
       "\n",
       "    true end_codon  shift strand  \n",
       "0   True       tag      2      R  \n",
       "1  False       tag      2      R  \n",
       "2  False       tag      2      R  \n",
       "3  False       tag      2      R  \n",
       "4  False       tag      2      R  "
      ]
     },
     "execution_count": 98,
     "metadata": {},
     "output_type": "execute_result"
    }
   ],
   "source": [
    "mer"
   ]
  },
  {
   "cell_type": "code",
   "execution_count": 44,
   "metadata": {
    "collapsed": false
   },
   "outputs": [],
   "source": [
    "mer[\"true\"] = mer.true.fillna(False, inplace=True)"
   ]
  },
  {
   "cell_type": "code",
   "execution_count": 46,
   "metadata": {
    "collapsed": false
   },
   "outputs": [
    {
     "data": {
      "text/html": [
       "<div>\n",
       "<table border=\"1\" class=\"dataframe\">\n",
       "  <thead>\n",
       "    <tr style=\"text-align: right;\">\n",
       "      <th></th>\n",
       "      <th>state</th>\n",
       "      <th>start</th>\n",
       "      <th>end</th>\n",
       "      <th>seq</th>\n",
       "      <th>true</th>\n",
       "      <th>end_codon</th>\n",
       "      <th>shift</th>\n",
       "      <th>strand</th>\n",
       "    </tr>\n",
       "  </thead>\n",
       "  <tbody>\n",
       "    <tr>\n",
       "      <th>0</th>\n",
       "      <td>R</td>\n",
       "      <td>45122</td>\n",
       "      <td>46247</td>\n",
       "      <td>ATGAAAAAATTTCATCGTTTTTTGGTCTCAGGAGTAATCCTTTTAG...</td>\n",
       "      <td>None</td>\n",
       "      <td>tag</td>\n",
       "      <td>2</td>\n",
       "      <td>R</td>\n",
       "    </tr>\n",
       "    <tr>\n",
       "      <th>1</th>\n",
       "      <td>NaN</td>\n",
       "      <td>45122</td>\n",
       "      <td>46178</td>\n",
       "      <td>NaN</td>\n",
       "      <td>None</td>\n",
       "      <td>tag</td>\n",
       "      <td>2</td>\n",
       "      <td>R</td>\n",
       "    </tr>\n",
       "    <tr>\n",
       "      <th>2</th>\n",
       "      <td>NaN</td>\n",
       "      <td>45122</td>\n",
       "      <td>46070</td>\n",
       "      <td>NaN</td>\n",
       "      <td>None</td>\n",
       "      <td>tag</td>\n",
       "      <td>2</td>\n",
       "      <td>R</td>\n",
       "    </tr>\n",
       "    <tr>\n",
       "      <th>3</th>\n",
       "      <td>NaN</td>\n",
       "      <td>45122</td>\n",
       "      <td>46538</td>\n",
       "      <td>NaN</td>\n",
       "      <td>None</td>\n",
       "      <td>tag</td>\n",
       "      <td>2</td>\n",
       "      <td>R</td>\n",
       "    </tr>\n",
       "    <tr>\n",
       "      <th>4</th>\n",
       "      <td>NaN</td>\n",
       "      <td>45122</td>\n",
       "      <td>46655</td>\n",
       "      <td>NaN</td>\n",
       "      <td>None</td>\n",
       "      <td>tag</td>\n",
       "      <td>2</td>\n",
       "      <td>R</td>\n",
       "    </tr>\n",
       "  </tbody>\n",
       "</table>\n",
       "</div>"
      ],
      "text/plain": [
       "  state  start    end                                                seq  \\\n",
       "0     R  45122  46247  ATGAAAAAATTTCATCGTTTTTTGGTCTCAGGAGTAATCCTTTTAG...   \n",
       "1   NaN  45122  46178                                                NaN   \n",
       "2   NaN  45122  46070                                                NaN   \n",
       "3   NaN  45122  46538                                                NaN   \n",
       "4   NaN  45122  46655                                                NaN   \n",
       "\n",
       "   true end_codon  shift strand  \n",
       "0  None       tag      2      R  \n",
       "1  None       tag      2      R  \n",
       "2  None       tag      2      R  \n",
       "3  None       tag      2      R  \n",
       "4  None       tag      2      R  "
      ]
     },
     "execution_count": 46,
     "metadata": {},
     "output_type": "execute_result"
    }
   ],
   "source": [
    "mer"
   ]
  },
  {
   "cell_type": "code",
   "execution_count": 77,
   "metadata": {
    "collapsed": false
   },
   "outputs": [],
   "source": [
    "regions[\"true\"] = True\n",
    "merged_df = pd.merge(df,regions[regions.state != \"N\"], on=['start', 'end'],how='outer')"
   ]
  },
  {
   "cell_type": "code",
   "execution_count": 78,
   "metadata": {
    "collapsed": false,
    "scrolled": true
   },
   "outputs": [],
   "source": [
    "merged_df[\"true\"] = merged_df.true.fillna(False)"
   ]
  },
  {
   "cell_type": "code",
   "execution_count": 95,
   "metadata": {
    "collapsed": false
   },
   "outputs": [
    {
     "data": {
      "text/plain": [
       "'ATGTCATTTTACAGTGAAACTGACATAGCTGCCGCTATGACTGTTAAGTT'"
      ]
     },
     "execution_count": 95,
     "metadata": {},
     "output_type": "execute_result"
    }
   ],
   "source": [
    "data[1732800:1732850]"
   ]
  },
  {
   "cell_type": "code",
   "execution_count": 94,
   "metadata": {
    "collapsed": false
   },
   "outputs": [
    {
     "data": {
      "text/html": [
       "<div>\n",
       "<table border=\"1\" class=\"dataframe\">\n",
       "  <thead>\n",
       "    <tr style=\"text-align: right;\">\n",
       "      <th></th>\n",
       "      <th>start</th>\n",
       "      <th>end</th>\n",
       "      <th>end_codon</th>\n",
       "      <th>shift</th>\n",
       "      <th>strand</th>\n",
       "    </tr>\n",
       "  </thead>\n",
       "  <tbody>\n",
       "    <tr>\n",
       "      <th>30585</th>\n",
       "      <td>1732836</td>\n",
       "      <td>1734831</td>\n",
       "      <td>taa</td>\n",
       "      <td>0</td>\n",
       "      <td>F</td>\n",
       "    </tr>\n",
       "    <tr>\n",
       "      <th>30586</th>\n",
       "      <td>1732855</td>\n",
       "      <td>1733497</td>\n",
       "      <td>taa</td>\n",
       "      <td>1</td>\n",
       "      <td>F</td>\n",
       "    </tr>\n",
       "    <tr>\n",
       "      <th>30587</th>\n",
       "      <td>1732954</td>\n",
       "      <td>1733497</td>\n",
       "      <td>taa</td>\n",
       "      <td>1</td>\n",
       "      <td>F</td>\n",
       "    </tr>\n",
       "    <tr>\n",
       "      <th>30588</th>\n",
       "      <td>1732966</td>\n",
       "      <td>1733497</td>\n",
       "      <td>taa</td>\n",
       "      <td>1</td>\n",
       "      <td>F</td>\n",
       "    </tr>\n",
       "    <tr>\n",
       "      <th>30589</th>\n",
       "      <td>1733038</td>\n",
       "      <td>1733497</td>\n",
       "      <td>taa</td>\n",
       "      <td>1</td>\n",
       "      <td>F</td>\n",
       "    </tr>\n",
       "    <tr>\n",
       "      <th>30590</th>\n",
       "      <td>1733121</td>\n",
       "      <td>1734831</td>\n",
       "      <td>taa</td>\n",
       "      <td>0</td>\n",
       "      <td>F</td>\n",
       "    </tr>\n",
       "    <tr>\n",
       "      <th>30591</th>\n",
       "      <td>1733130</td>\n",
       "      <td>1734831</td>\n",
       "      <td>taa</td>\n",
       "      <td>0</td>\n",
       "      <td>F</td>\n",
       "    </tr>\n",
       "    <tr>\n",
       "      <th>30592</th>\n",
       "      <td>1733188</td>\n",
       "      <td>1733497</td>\n",
       "      <td>taa</td>\n",
       "      <td>1</td>\n",
       "      <td>F</td>\n",
       "    </tr>\n",
       "    <tr>\n",
       "      <th>30593</th>\n",
       "      <td>1733220</td>\n",
       "      <td>1734831</td>\n",
       "      <td>taa</td>\n",
       "      <td>0</td>\n",
       "      <td>F</td>\n",
       "    </tr>\n",
       "    <tr>\n",
       "      <th>30594</th>\n",
       "      <td>1733256</td>\n",
       "      <td>1734831</td>\n",
       "      <td>taa</td>\n",
       "      <td>0</td>\n",
       "      <td>F</td>\n",
       "    </tr>\n",
       "    <tr>\n",
       "      <th>30595</th>\n",
       "      <td>1733263</td>\n",
       "      <td>1733497</td>\n",
       "      <td>taa</td>\n",
       "      <td>1</td>\n",
       "      <td>F</td>\n",
       "    </tr>\n",
       "    <tr>\n",
       "      <th>30596</th>\n",
       "      <td>1733347</td>\n",
       "      <td>1733497</td>\n",
       "      <td>taa</td>\n",
       "      <td>1</td>\n",
       "      <td>F</td>\n",
       "    </tr>\n",
       "    <tr>\n",
       "      <th>30597</th>\n",
       "      <td>1733376</td>\n",
       "      <td>1734831</td>\n",
       "      <td>taa</td>\n",
       "      <td>0</td>\n",
       "      <td>F</td>\n",
       "    </tr>\n",
       "    <tr>\n",
       "      <th>30598</th>\n",
       "      <td>1733403</td>\n",
       "      <td>1734831</td>\n",
       "      <td>taa</td>\n",
       "      <td>0</td>\n",
       "      <td>F</td>\n",
       "    </tr>\n",
       "    <tr>\n",
       "      <th>30599</th>\n",
       "      <td>1733419</td>\n",
       "      <td>1733497</td>\n",
       "      <td>taa</td>\n",
       "      <td>1</td>\n",
       "      <td>F</td>\n",
       "    </tr>\n",
       "    <tr>\n",
       "      <th>30600</th>\n",
       "      <td>1733427</td>\n",
       "      <td>1734831</td>\n",
       "      <td>taa</td>\n",
       "      <td>0</td>\n",
       "      <td>F</td>\n",
       "    </tr>\n",
       "    <tr>\n",
       "      <th>30601</th>\n",
       "      <td>1733445</td>\n",
       "      <td>1734831</td>\n",
       "      <td>taa</td>\n",
       "      <td>0</td>\n",
       "      <td>F</td>\n",
       "    </tr>\n",
       "    <tr>\n",
       "      <th>30602</th>\n",
       "      <td>1733473</td>\n",
       "      <td>1733497</td>\n",
       "      <td>taa</td>\n",
       "      <td>1</td>\n",
       "      <td>F</td>\n",
       "    </tr>\n",
       "    <tr>\n",
       "      <th>30603</th>\n",
       "      <td>1733497</td>\n",
       "      <td>1733989</td>\n",
       "      <td>taa</td>\n",
       "      <td>1</td>\n",
       "      <td>F</td>\n",
       "    </tr>\n",
       "    <tr>\n",
       "      <th>30604</th>\n",
       "      <td>1733527</td>\n",
       "      <td>1733989</td>\n",
       "      <td>taa</td>\n",
       "      <td>1</td>\n",
       "      <td>F</td>\n",
       "    </tr>\n",
       "    <tr>\n",
       "      <th>30605</th>\n",
       "      <td>1733577</td>\n",
       "      <td>1734831</td>\n",
       "      <td>taa</td>\n",
       "      <td>0</td>\n",
       "      <td>F</td>\n",
       "    </tr>\n",
       "    <tr>\n",
       "      <th>30606</th>\n",
       "      <td>1733737</td>\n",
       "      <td>1733989</td>\n",
       "      <td>taa</td>\n",
       "      <td>1</td>\n",
       "      <td>F</td>\n",
       "    </tr>\n",
       "    <tr>\n",
       "      <th>30607</th>\n",
       "      <td>1733767</td>\n",
       "      <td>1733989</td>\n",
       "      <td>taa</td>\n",
       "      <td>1</td>\n",
       "      <td>F</td>\n",
       "    </tr>\n",
       "    <tr>\n",
       "      <th>30608</th>\n",
       "      <td>1733800</td>\n",
       "      <td>1733989</td>\n",
       "      <td>taa</td>\n",
       "      <td>1</td>\n",
       "      <td>F</td>\n",
       "    </tr>\n",
       "    <tr>\n",
       "      <th>30609</th>\n",
       "      <td>1733815</td>\n",
       "      <td>1733989</td>\n",
       "      <td>taa</td>\n",
       "      <td>1</td>\n",
       "      <td>F</td>\n",
       "    </tr>\n",
       "    <tr>\n",
       "      <th>30610</th>\n",
       "      <td>1733857</td>\n",
       "      <td>1733989</td>\n",
       "      <td>taa</td>\n",
       "      <td>1</td>\n",
       "      <td>F</td>\n",
       "    </tr>\n",
       "    <tr>\n",
       "      <th>30611</th>\n",
       "      <td>1733940</td>\n",
       "      <td>1734831</td>\n",
       "      <td>taa</td>\n",
       "      <td>0</td>\n",
       "      <td>F</td>\n",
       "    </tr>\n",
       "    <tr>\n",
       "      <th>30612</th>\n",
       "      <td>1733947</td>\n",
       "      <td>1733989</td>\n",
       "      <td>taa</td>\n",
       "      <td>1</td>\n",
       "      <td>F</td>\n",
       "    </tr>\n",
       "    <tr>\n",
       "      <th>30613</th>\n",
       "      <td>1733995</td>\n",
       "      <td>1734853</td>\n",
       "      <td>taa</td>\n",
       "      <td>1</td>\n",
       "      <td>F</td>\n",
       "    </tr>\n",
       "    <tr>\n",
       "      <th>30614</th>\n",
       "      <td>1734022</td>\n",
       "      <td>1734853</td>\n",
       "      <td>taa</td>\n",
       "      <td>1</td>\n",
       "      <td>F</td>\n",
       "    </tr>\n",
       "    <tr>\n",
       "      <th>...</th>\n",
       "      <td>...</td>\n",
       "      <td>...</td>\n",
       "      <td>...</td>\n",
       "      <td>...</td>\n",
       "      <td>...</td>\n",
       "    </tr>\n",
       "    <tr>\n",
       "      <th>2500347</th>\n",
       "      <td>1816389</td>\n",
       "      <td>1817847</td>\n",
       "      <td>tga</td>\n",
       "      <td>1</td>\n",
       "      <td>R</td>\n",
       "    </tr>\n",
       "    <tr>\n",
       "      <th>2500606</th>\n",
       "      <td>1781279</td>\n",
       "      <td>1783112</td>\n",
       "      <td>tga</td>\n",
       "      <td>2</td>\n",
       "      <td>F</td>\n",
       "    </tr>\n",
       "    <tr>\n",
       "      <th>2500607</th>\n",
       "      <td>1790248</td>\n",
       "      <td>1791967</td>\n",
       "      <td>tga</td>\n",
       "      <td>1</td>\n",
       "      <td>F</td>\n",
       "    </tr>\n",
       "    <tr>\n",
       "      <th>2500608</th>\n",
       "      <td>1790308</td>\n",
       "      <td>1792072</td>\n",
       "      <td>tga</td>\n",
       "      <td>1</td>\n",
       "      <td>F</td>\n",
       "    </tr>\n",
       "    <tr>\n",
       "      <th>2500609</th>\n",
       "      <td>1790347</td>\n",
       "      <td>1792078</td>\n",
       "      <td>tga</td>\n",
       "      <td>1</td>\n",
       "      <td>F</td>\n",
       "    </tr>\n",
       "    <tr>\n",
       "      <th>2500610</th>\n",
       "      <td>1849971</td>\n",
       "      <td>1851600</td>\n",
       "      <td>tga</td>\n",
       "      <td>1</td>\n",
       "      <td>R</td>\n",
       "    </tr>\n",
       "    <tr>\n",
       "      <th>2500611</th>\n",
       "      <td>1831025</td>\n",
       "      <td>1832810</td>\n",
       "      <td>tga</td>\n",
       "      <td>2</td>\n",
       "      <td>R</td>\n",
       "    </tr>\n",
       "    <tr>\n",
       "      <th>2500612</th>\n",
       "      <td>1816368</td>\n",
       "      <td>1817847</td>\n",
       "      <td>tga</td>\n",
       "      <td>1</td>\n",
       "      <td>R</td>\n",
       "    </tr>\n",
       "    <tr>\n",
       "      <th>2500842</th>\n",
       "      <td>1781279</td>\n",
       "      <td>1783199</td>\n",
       "      <td>tga</td>\n",
       "      <td>2</td>\n",
       "      <td>F</td>\n",
       "    </tr>\n",
       "    <tr>\n",
       "      <th>2500843</th>\n",
       "      <td>1790248</td>\n",
       "      <td>1792033</td>\n",
       "      <td>tga</td>\n",
       "      <td>1</td>\n",
       "      <td>F</td>\n",
       "    </tr>\n",
       "    <tr>\n",
       "      <th>2500844</th>\n",
       "      <td>1790308</td>\n",
       "      <td>1792078</td>\n",
       "      <td>tga</td>\n",
       "      <td>1</td>\n",
       "      <td>F</td>\n",
       "    </tr>\n",
       "    <tr>\n",
       "      <th>2500845</th>\n",
       "      <td>1790347</td>\n",
       "      <td>1792147</td>\n",
       "      <td>tga</td>\n",
       "      <td>1</td>\n",
       "      <td>F</td>\n",
       "    </tr>\n",
       "    <tr>\n",
       "      <th>2500846</th>\n",
       "      <td>1849764</td>\n",
       "      <td>1851600</td>\n",
       "      <td>tga</td>\n",
       "      <td>1</td>\n",
       "      <td>R</td>\n",
       "    </tr>\n",
       "    <tr>\n",
       "      <th>2500847</th>\n",
       "      <td>1830944</td>\n",
       "      <td>1832810</td>\n",
       "      <td>tga</td>\n",
       "      <td>2</td>\n",
       "      <td>R</td>\n",
       "    </tr>\n",
       "    <tr>\n",
       "      <th>2500848</th>\n",
       "      <td>1816338</td>\n",
       "      <td>1817847</td>\n",
       "      <td>tga</td>\n",
       "      <td>1</td>\n",
       "      <td>R</td>\n",
       "    </tr>\n",
       "    <tr>\n",
       "      <th>2501038</th>\n",
       "      <td>1781279</td>\n",
       "      <td>1783247</td>\n",
       "      <td>tga</td>\n",
       "      <td>2</td>\n",
       "      <td>F</td>\n",
       "    </tr>\n",
       "    <tr>\n",
       "      <th>2501039</th>\n",
       "      <td>1790248</td>\n",
       "      <td>1792072</td>\n",
       "      <td>tga</td>\n",
       "      <td>1</td>\n",
       "      <td>F</td>\n",
       "    </tr>\n",
       "    <tr>\n",
       "      <th>2501040</th>\n",
       "      <td>1790308</td>\n",
       "      <td>1792147</td>\n",
       "      <td>tga</td>\n",
       "      <td>1</td>\n",
       "      <td>F</td>\n",
       "    </tr>\n",
       "    <tr>\n",
       "      <th>2501041</th>\n",
       "      <td>1790347</td>\n",
       "      <td>1792243</td>\n",
       "      <td>tga</td>\n",
       "      <td>1</td>\n",
       "      <td>F</td>\n",
       "    </tr>\n",
       "    <tr>\n",
       "      <th>2501042</th>\n",
       "      <td>1849689</td>\n",
       "      <td>1851600</td>\n",
       "      <td>tga</td>\n",
       "      <td>1</td>\n",
       "      <td>R</td>\n",
       "    </tr>\n",
       "    <tr>\n",
       "      <th>2501043</th>\n",
       "      <td>1830821</td>\n",
       "      <td>1832810</td>\n",
       "      <td>tga</td>\n",
       "      <td>2</td>\n",
       "      <td>R</td>\n",
       "    </tr>\n",
       "    <tr>\n",
       "      <th>2501044</th>\n",
       "      <td>1816242</td>\n",
       "      <td>1817847</td>\n",
       "      <td>tga</td>\n",
       "      <td>1</td>\n",
       "      <td>R</td>\n",
       "    </tr>\n",
       "    <tr>\n",
       "      <th>2501199</th>\n",
       "      <td>1790248</td>\n",
       "      <td>1792078</td>\n",
       "      <td>tga</td>\n",
       "      <td>1</td>\n",
       "      <td>F</td>\n",
       "    </tr>\n",
       "    <tr>\n",
       "      <th>2501200</th>\n",
       "      <td>1790308</td>\n",
       "      <td>1792243</td>\n",
       "      <td>tga</td>\n",
       "      <td>1</td>\n",
       "      <td>F</td>\n",
       "    </tr>\n",
       "    <tr>\n",
       "      <th>2501201</th>\n",
       "      <td>1790347</td>\n",
       "      <td>1792312</td>\n",
       "      <td>tga</td>\n",
       "      <td>1</td>\n",
       "      <td>F</td>\n",
       "    </tr>\n",
       "    <tr>\n",
       "      <th>2501202</th>\n",
       "      <td>1849650</td>\n",
       "      <td>1851600</td>\n",
       "      <td>tga</td>\n",
       "      <td>1</td>\n",
       "      <td>R</td>\n",
       "    </tr>\n",
       "    <tr>\n",
       "      <th>2501203</th>\n",
       "      <td>1816221</td>\n",
       "      <td>1817847</td>\n",
       "      <td>tga</td>\n",
       "      <td>1</td>\n",
       "      <td>R</td>\n",
       "    </tr>\n",
       "    <tr>\n",
       "      <th>2501333</th>\n",
       "      <td>1790248</td>\n",
       "      <td>1792147</td>\n",
       "      <td>tga</td>\n",
       "      <td>1</td>\n",
       "      <td>F</td>\n",
       "    </tr>\n",
       "    <tr>\n",
       "      <th>2501334</th>\n",
       "      <td>1790347</td>\n",
       "      <td>1792324</td>\n",
       "      <td>tga</td>\n",
       "      <td>1</td>\n",
       "      <td>F</td>\n",
       "    </tr>\n",
       "    <tr>\n",
       "      <th>2501450</th>\n",
       "      <td>1790248</td>\n",
       "      <td>1792243</td>\n",
       "      <td>tga</td>\n",
       "      <td>1</td>\n",
       "      <td>F</td>\n",
       "    </tr>\n",
       "  </tbody>\n",
       "</table>\n",
       "<p>155619 rows × 5 columns</p>\n",
       "</div>"
      ],
      "text/plain": [
       "           start      end end_codon  shift strand\n",
       "30585    1732836  1734831       taa      0      F\n",
       "30586    1732855  1733497       taa      1      F\n",
       "30587    1732954  1733497       taa      1      F\n",
       "30588    1732966  1733497       taa      1      F\n",
       "30589    1733038  1733497       taa      1      F\n",
       "30590    1733121  1734831       taa      0      F\n",
       "30591    1733130  1734831       taa      0      F\n",
       "30592    1733188  1733497       taa      1      F\n",
       "30593    1733220  1734831       taa      0      F\n",
       "30594    1733256  1734831       taa      0      F\n",
       "30595    1733263  1733497       taa      1      F\n",
       "30596    1733347  1733497       taa      1      F\n",
       "30597    1733376  1734831       taa      0      F\n",
       "30598    1733403  1734831       taa      0      F\n",
       "30599    1733419  1733497       taa      1      F\n",
       "30600    1733427  1734831       taa      0      F\n",
       "30601    1733445  1734831       taa      0      F\n",
       "30602    1733473  1733497       taa      1      F\n",
       "30603    1733497  1733989       taa      1      F\n",
       "30604    1733527  1733989       taa      1      F\n",
       "30605    1733577  1734831       taa      0      F\n",
       "30606    1733737  1733989       taa      1      F\n",
       "30607    1733767  1733989       taa      1      F\n",
       "30608    1733800  1733989       taa      1      F\n",
       "30609    1733815  1733989       taa      1      F\n",
       "30610    1733857  1733989       taa      1      F\n",
       "30611    1733940  1734831       taa      0      F\n",
       "30612    1733947  1733989       taa      1      F\n",
       "30613    1733995  1734853       taa      1      F\n",
       "30614    1734022  1734853       taa      1      F\n",
       "...          ...      ...       ...    ...    ...\n",
       "2500347  1816389  1817847       tga      1      R\n",
       "2500606  1781279  1783112       tga      2      F\n",
       "2500607  1790248  1791967       tga      1      F\n",
       "2500608  1790308  1792072       tga      1      F\n",
       "2500609  1790347  1792078       tga      1      F\n",
       "2500610  1849971  1851600       tga      1      R\n",
       "2500611  1831025  1832810       tga      2      R\n",
       "2500612  1816368  1817847       tga      1      R\n",
       "2500842  1781279  1783199       tga      2      F\n",
       "2500843  1790248  1792033       tga      1      F\n",
       "2500844  1790308  1792078       tga      1      F\n",
       "2500845  1790347  1792147       tga      1      F\n",
       "2500846  1849764  1851600       tga      1      R\n",
       "2500847  1830944  1832810       tga      2      R\n",
       "2500848  1816338  1817847       tga      1      R\n",
       "2501038  1781279  1783247       tga      2      F\n",
       "2501039  1790248  1792072       tga      1      F\n",
       "2501040  1790308  1792147       tga      1      F\n",
       "2501041  1790347  1792243       tga      1      F\n",
       "2501042  1849689  1851600       tga      1      R\n",
       "2501043  1830821  1832810       tga      2      R\n",
       "2501044  1816242  1817847       tga      1      R\n",
       "2501199  1790248  1792078       tga      1      F\n",
       "2501200  1790308  1792243       tga      1      F\n",
       "2501201  1790347  1792312       tga      1      F\n",
       "2501202  1849650  1851600       tga      1      R\n",
       "2501203  1816221  1817847       tga      1      R\n",
       "2501333  1790248  1792147       tga      1      F\n",
       "2501334  1790347  1792324       tga      1      F\n",
       "2501450  1790248  1792243       tga      1      F\n",
       "\n",
       "[155619 rows x 5 columns]"
      ]
     },
     "execution_count": 94,
     "metadata": {},
     "output_type": "execute_result"
    }
   ],
   "source": [
    "df[df.start > 1732700]"
   ]
  },
  {
   "cell_type": "code",
   "execution_count": 91,
   "metadata": {
    "collapsed": false
   },
   "outputs": [
    {
     "data": {
      "text/plain": [
       "'ATGTCATTTT'"
      ]
     },
     "execution_count": 91,
     "metadata": {},
     "output_type": "execute_result"
    }
   ],
   "source": [
    "data[1732800:1732810]"
   ]
  },
  {
   "cell_type": "code",
   "execution_count": 87,
   "metadata": {
    "collapsed": false
   },
   "outputs": [
    {
     "data": {
      "text/html": [
       "<div>\n",
       "<table border=\"1\" class=\"dataframe\">\n",
       "  <thead>\n",
       "    <tr style=\"text-align: right;\">\n",
       "      <th></th>\n",
       "      <th>start</th>\n",
       "      <th>end</th>\n",
       "      <th>end_codon</th>\n",
       "      <th>shift</th>\n",
       "      <th>strand</th>\n",
       "      <th>state</th>\n",
       "      <th>seq</th>\n",
       "      <th>true</th>\n",
       "    </tr>\n",
       "  </thead>\n",
       "  <tbody>\n",
       "    <tr>\n",
       "      <th>3</th>\n",
       "      <td>231</td>\n",
       "      <td>1587</td>\n",
       "      <td>taa</td>\n",
       "      <td>0</td>\n",
       "      <td>F</td>\n",
       "      <td>C</td>\n",
       "      <td>ATGACTGAAAATGAACAAATTTTTTGGAACAGGGTCTTGGAATTAG...</td>\n",
       "      <td>True</td>\n",
       "    </tr>\n",
       "    <tr>\n",
       "      <th>31</th>\n",
       "      <td>1741</td>\n",
       "      <td>2878</td>\n",
       "      <td>taa</td>\n",
       "      <td>1</td>\n",
       "      <td>F</td>\n",
       "      <td>C</td>\n",
       "      <td>ATGATTCAATTTTCAATTAATCGCACATTATTTATTCATGCTTTAA...</td>\n",
       "      <td>True</td>\n",
       "    </tr>\n",
       "    <tr>\n",
       "      <th>64</th>\n",
       "      <td>3479</td>\n",
       "      <td>4595</td>\n",
       "      <td>taa</td>\n",
       "      <td>2</td>\n",
       "      <td>F</td>\n",
       "      <td>C</td>\n",
       "      <td>ATGGCTTTAACAGCAGGTATTGTAGGCTTACCAAATGTTGGTAAAT...</td>\n",
       "      <td>True</td>\n",
       "    </tr>\n",
       "    <tr>\n",
       "      <th>96</th>\n",
       "      <td>4664</td>\n",
       "      <td>5234</td>\n",
       "      <td>taa</td>\n",
       "      <td>2</td>\n",
       "      <td>F</td>\n",
       "      <td>C</td>\n",
       "      <td>ATGGTAAAAATGATTGTTGGTCTGGGAAATCCAGGCTCTAAATATG...</td>\n",
       "      <td>True</td>\n",
       "    </tr>\n",
       "    <tr>\n",
       "      <th>270</th>\n",
       "      <td>12805</td>\n",
       "      <td>14785</td>\n",
       "      <td>tga</td>\n",
       "      <td>1</td>\n",
       "      <td>F</td>\n",
       "      <td>C</td>\n",
       "      <td>ATGAAAAATAATAAAAATAATGGTTTTGTTAAAAATTCTTTTATAT...</td>\n",
       "      <td>True</td>\n",
       "    </tr>\n",
       "    <tr>\n",
       "      <th>332</th>\n",
       "      <td>15109</td>\n",
       "      <td>16501</td>\n",
       "      <td>taa</td>\n",
       "      <td>1</td>\n",
       "      <td>F</td>\n",
       "      <td>C</td>\n",
       "      <td>ATGACTATTTTTCGTAAAAAAAAGAAATATTCCAATAAAACAGAAA...</td>\n",
       "      <td>True</td>\n",
       "    </tr>\n",
       "    <tr>\n",
       "      <th>576</th>\n",
       "      <td>30545</td>\n",
       "      <td>31742</td>\n",
       "      <td>taa</td>\n",
       "      <td>2</td>\n",
       "      <td>F</td>\n",
       "      <td>C</td>\n",
       "      <td>ATGAAAAAAAGAATTTTATCAGCAGTTCTTGTAAGTGGTGTTACCC...</td>\n",
       "      <td>True</td>\n",
       "    </tr>\n",
       "    <tr>\n",
       "      <th>596</th>\n",
       "      <td>31994</td>\n",
       "      <td>32957</td>\n",
       "      <td>taa</td>\n",
       "      <td>2</td>\n",
       "      <td>F</td>\n",
       "      <td>C</td>\n",
       "      <td>ATGTCTTATTCTGATTTAAAATTGTTTGCTTTATCGTCAAACAAGG...</td>\n",
       "      <td>True</td>\n",
       "    </tr>\n",
       "    <tr>\n",
       "      <th>683</th>\n",
       "      <td>35363</td>\n",
       "      <td>36098</td>\n",
       "      <td>taa</td>\n",
       "      <td>2</td>\n",
       "      <td>F</td>\n",
       "      <td>C</td>\n",
       "      <td>ATGAAAACAGAAAGAAAGGCGAATAATCAAGTGACTAACCAGCTTA...</td>\n",
       "      <td>True</td>\n",
       "    </tr>\n",
       "    <tr>\n",
       "      <th>762</th>\n",
       "      <td>40107</td>\n",
       "      <td>41562</td>\n",
       "      <td>taa</td>\n",
       "      <td>0</td>\n",
       "      <td>F</td>\n",
       "      <td>C</td>\n",
       "      <td>ATGACATACGAAGTAAAATCTCTAAATGAAGAATGTGGAGTCTTTG...</td>\n",
       "      <td>True</td>\n",
       "    </tr>\n",
       "    <tr>\n",
       "      <th>808</th>\n",
       "      <td>41589</td>\n",
       "      <td>42612</td>\n",
       "      <td>taa</td>\n",
       "      <td>0</td>\n",
       "      <td>F</td>\n",
       "      <td>C</td>\n",
       "      <td>ATGTCTGAAAAAAATGCTTATGCAAAATCTGGTGTTGATGTTGAAG...</td>\n",
       "      <td>True</td>\n",
       "    </tr>\n",
       "    <tr>\n",
       "      <th>920</th>\n",
       "      <td>48042</td>\n",
       "      <td>48534</td>\n",
       "      <td>taa</td>\n",
       "      <td>0</td>\n",
       "      <td>F</td>\n",
       "      <td>C</td>\n",
       "      <td>ATGAAAACTCCAATTATTTCTATTATCATGGGCTCCAAATCTGACT...</td>\n",
       "      <td>True</td>\n",
       "    </tr>\n",
       "    <tr>\n",
       "      <th>959</th>\n",
       "      <td>49620</td>\n",
       "      <td>51264</td>\n",
       "      <td>taa</td>\n",
       "      <td>0</td>\n",
       "      <td>F</td>\n",
       "      <td>C</td>\n",
       "      <td>ATGGCAAATATTCAAATAAATAGAATAAAAAGTAAATTGACAGAAC...</td>\n",
       "      <td>True</td>\n",
       "    </tr>\n",
       "    <tr>\n",
       "      <th>1000</th>\n",
       "      <td>51281</td>\n",
       "      <td>52574</td>\n",
       "      <td>taa</td>\n",
       "      <td>2</td>\n",
       "      <td>F</td>\n",
       "      <td>C</td>\n",
       "      <td>ATGCTAGAACGTTATTCACGCCCTGAGATGGCGGCAATTTGGACAG...</td>\n",
       "      <td>True</td>\n",
       "    </tr>\n",
       "    <tr>\n",
       "      <th>1028</th>\n",
       "      <td>52705</td>\n",
       "      <td>53617</td>\n",
       "      <td>taa</td>\n",
       "      <td>1</td>\n",
       "      <td>F</td>\n",
       "      <td>C</td>\n",
       "      <td>ATGTTAGAACATTTTGGTGGAAAAGTAAAAGTGTTAAGACTTGAAA...</td>\n",
       "      <td>True</td>\n",
       "    </tr>\n",
       "    <tr>\n",
       "      <th>1052</th>\n",
       "      <td>53842</td>\n",
       "      <td>54841</td>\n",
       "      <td>taa</td>\n",
       "      <td>1</td>\n",
       "      <td>F</td>\n",
       "      <td>C</td>\n",
       "      <td>ATGGCTAGAATTTTAGACAATAATGTAATGGGAAATGAGGAGTTTT...</td>\n",
       "      <td>True</td>\n",
       "    </tr>\n",
       "    <tr>\n",
       "      <th>1213</th>\n",
       "      <td>60814</td>\n",
       "      <td>61831</td>\n",
       "      <td>taa</td>\n",
       "      <td>1</td>\n",
       "      <td>F</td>\n",
       "      <td>C</td>\n",
       "      <td>ATGAAAGCCGTAGTTGTTAATCAAGCTAGTACAGGTGTCGAAGTTG...</td>\n",
       "      <td>True</td>\n",
       "    </tr>\n",
       "    <tr>\n",
       "      <th>1275</th>\n",
       "      <td>63711</td>\n",
       "      <td>64020</td>\n",
       "      <td>taa</td>\n",
       "      <td>0</td>\n",
       "      <td>F</td>\n",
       "      <td>C</td>\n",
       "      <td>ATGGCAAACAAAAAAATCCGTATCCGTTTGAAAGCGTACGAACACC...</td>\n",
       "      <td>True</td>\n",
       "    </tr>\n",
       "    <tr>\n",
       "      <th>1282</th>\n",
       "      <td>64267</td>\n",
       "      <td>64894</td>\n",
       "      <td>taa</td>\n",
       "      <td>1</td>\n",
       "      <td>F</td>\n",
       "      <td>C</td>\n",
       "      <td>ATGACAAAAGGAATCTTAGGGAAAAAAGTGGGAATGACTCAAATTT...</td>\n",
       "      <td>True</td>\n",
       "    </tr>\n",
       "    <tr>\n",
       "      <th>1292</th>\n",
       "      <td>64917</td>\n",
       "      <td>65541</td>\n",
       "      <td>taa</td>\n",
       "      <td>0</td>\n",
       "      <td>F</td>\n",
       "      <td>C</td>\n",
       "      <td>ATGGCAAACGTAAAACTATTTGACCAAACTGGTAAAGAAGTTAGCT...</td>\n",
       "      <td>True</td>\n",
       "    </tr>\n",
       "    <tr>\n",
       "      <th>1309</th>\n",
       "      <td>66826</td>\n",
       "      <td>67105</td>\n",
       "      <td>taa</td>\n",
       "      <td>1</td>\n",
       "      <td>F</td>\n",
       "      <td>C</td>\n",
       "      <td>ATGGGACGTAGTCTTAAAAAAGGACCTTTCGTCGATGAGCATTTGA...</td>\n",
       "      <td>True</td>\n",
       "    </tr>\n",
       "    <tr>\n",
       "      <th>1315</th>\n",
       "      <td>67120</td>\n",
       "      <td>67465</td>\n",
       "      <td>taa</td>\n",
       "      <td>1</td>\n",
       "      <td>F</td>\n",
       "      <td>C</td>\n",
       "      <td>ATGGCAGAAATTACTTCAGCTAAAGCAATGGCTCGTACAGTGCGTG...</td>\n",
       "      <td>True</td>\n",
       "    </tr>\n",
       "    <tr>\n",
       "      <th>1328</th>\n",
       "      <td>68134</td>\n",
       "      <td>68548</td>\n",
       "      <td>taa</td>\n",
       "      <td>1</td>\n",
       "      <td>F</td>\n",
       "      <td>C</td>\n",
       "      <td>ATGTTAGTACCTAAACGTGTTAAACACCGTCGCGAATTCCGTGGAA...</td>\n",
       "      <td>True</td>\n",
       "    </tr>\n",
       "    <tr>\n",
       "      <th>1334</th>\n",
       "      <td>68557</td>\n",
       "      <td>68764</td>\n",
       "      <td>taa</td>\n",
       "      <td>1</td>\n",
       "      <td>F</td>\n",
       "      <td>C</td>\n",
       "      <td>ATGAAACTTCAAGAAATTAAAGATTTTGTTAAAGAGCTTCGTGGAT...</td>\n",
       "      <td>True</td>\n",
       "    </tr>\n",
       "    <tr>\n",
       "      <th>1336</th>\n",
       "      <td>68789</td>\n",
       "      <td>69050</td>\n",
       "      <td>taa</td>\n",
       "      <td>2</td>\n",
       "      <td>F</td>\n",
       "      <td>C</td>\n",
       "      <td>ATGGAACGTAATCAACGTAAAACTCTTTACGGACGCGTAGTGTCTG...</td>\n",
       "      <td>True</td>\n",
       "    </tr>\n",
       "    <tr>\n",
       "      <th>1341</th>\n",
       "      <td>69074</td>\n",
       "      <td>69443</td>\n",
       "      <td>taa</td>\n",
       "      <td>2</td>\n",
       "      <td>F</td>\n",
       "      <td>C</td>\n",
       "      <td>ATGATTCAACAAGAAACTCGCTTGAAAGTTGCTGATAATAGCGGTG...</td>\n",
       "      <td>True</td>\n",
       "    </tr>\n",
       "    <tr>\n",
       "      <th>1346</th>\n",
       "      <td>69521</td>\n",
       "      <td>69827</td>\n",
       "      <td>taa</td>\n",
       "      <td>2</td>\n",
       "      <td>F</td>\n",
       "      <td>C</td>\n",
       "      <td>ATGTTTGTAAAAAAAGGCGACAAAGTTCGCGTAATTGCTGGCAAGG...</td>\n",
       "      <td>True</td>\n",
       "    </tr>\n",
       "    <tr>\n",
       "      <th>1351</th>\n",
       "      <td>69850</td>\n",
       "      <td>70393</td>\n",
       "      <td>taa</td>\n",
       "      <td>1</td>\n",
       "      <td>F</td>\n",
       "      <td>C</td>\n",
       "      <td>ATGGCAAATCGTTTAAAAGAAAAATATACTAACGAAGTAATTCCTG...</td>\n",
       "      <td>True</td>\n",
       "    </tr>\n",
       "    <tr>\n",
       "      <th>1364</th>\n",
       "      <td>70744</td>\n",
       "      <td>71143</td>\n",
       "      <td>taa</td>\n",
       "      <td>1</td>\n",
       "      <td>F</td>\n",
       "      <td>C</td>\n",
       "      <td>ATGGTTATGACTGACCCAATTGCAGACTTTTTAACACGTATCCGTA...</td>\n",
       "      <td>True</td>\n",
       "    </tr>\n",
       "    <tr>\n",
       "      <th>1374</th>\n",
       "      <td>71345</td>\n",
       "      <td>71882</td>\n",
       "      <td>taa</td>\n",
       "      <td>2</td>\n",
       "      <td>F</td>\n",
       "      <td>C</td>\n",
       "      <td>ATGTCACGTATTGGTAATAAAGTAATTACTATGCCTGCAGGCGTTG...</td>\n",
       "      <td>True</td>\n",
       "    </tr>\n",
       "    <tr>\n",
       "      <th>...</th>\n",
       "      <td>...</td>\n",
       "      <td>...</td>\n",
       "      <td>...</td>\n",
       "      <td>...</td>\n",
       "      <td>...</td>\n",
       "      <td>...</td>\n",
       "      <td>...</td>\n",
       "      <td>...</td>\n",
       "    </tr>\n",
       "    <tr>\n",
       "      <th>2502378</th>\n",
       "      <td>1628381</td>\n",
       "      <td>1632779</td>\n",
       "      <td>NaN</td>\n",
       "      <td>NaN</td>\n",
       "      <td>NaN</td>\n",
       "      <td>R</td>\n",
       "      <td>ATGTCAGATTTATTCGCTAAATTGATGGACCAGATAGAAATGCCAC...</td>\n",
       "      <td>True</td>\n",
       "    </tr>\n",
       "    <tr>\n",
       "      <th>2502379</th>\n",
       "      <td>1639164</td>\n",
       "      <td>1642662</td>\n",
       "      <td>NaN</td>\n",
       "      <td>NaN</td>\n",
       "      <td>NaN</td>\n",
       "      <td>R</td>\n",
       "      <td>ATGAAAAAGAAAGTCAACCAAGGATCAAAGCGCTATCAATATCTGT...</td>\n",
       "      <td>True</td>\n",
       "    </tr>\n",
       "    <tr>\n",
       "      <th>2502380</th>\n",
       "      <td>1649118</td>\n",
       "      <td>1651350</td>\n",
       "      <td>NaN</td>\n",
       "      <td>NaN</td>\n",
       "      <td>NaN</td>\n",
       "      <td>R</td>\n",
       "      <td>ATGAGGAACGAAATGGCAAAAATAATGAACGTAACAGGAGAAGAAG...</td>\n",
       "      <td>True</td>\n",
       "    </tr>\n",
       "    <tr>\n",
       "      <th>2502381</th>\n",
       "      <td>1654794</td>\n",
       "      <td>1656981</td>\n",
       "      <td>NaN</td>\n",
       "      <td>NaN</td>\n",
       "      <td>NaN</td>\n",
       "      <td>R</td>\n",
       "      <td>ATGAAAACATCATTCAAGCAACTGTTTCGTTTCGAATTTTGGCAAA...</td>\n",
       "      <td>True</td>\n",
       "    </tr>\n",
       "    <tr>\n",
       "      <th>2502382</th>\n",
       "      <td>1664430</td>\n",
       "      <td>1664937</td>\n",
       "      <td>NaN</td>\n",
       "      <td>NaN</td>\n",
       "      <td>NaN</td>\n",
       "      <td>C</td>\n",
       "      <td>TTGAAAATTGCCATCATTGGACATAGTGGCTCTGGCAAGTCAACCT...</td>\n",
       "      <td>True</td>\n",
       "    </tr>\n",
       "    <tr>\n",
       "      <th>2502383</th>\n",
       "      <td>1666615</td>\n",
       "      <td>1668244</td>\n",
       "      <td>NaN</td>\n",
       "      <td>NaN</td>\n",
       "      <td>NaN</td>\n",
       "      <td>C</td>\n",
       "      <td>GTGTCAAAATACCTAAAATACTTCTCTATTATCACGTTATTTTTGA...</td>\n",
       "      <td>True</td>\n",
       "    </tr>\n",
       "    <tr>\n",
       "      <th>2502384</th>\n",
       "      <td>1668356</td>\n",
       "      <td>1669334</td>\n",
       "      <td>NaN</td>\n",
       "      <td>NaN</td>\n",
       "      <td>NaN</td>\n",
       "      <td>C</td>\n",
       "      <td>GTGAAACGTACTACCATTATTATCATCTGGAAAATCATCAGATGTG...</td>\n",
       "      <td>True</td>\n",
       "    </tr>\n",
       "    <tr>\n",
       "      <th>2502385</th>\n",
       "      <td>1672026</td>\n",
       "      <td>1674504</td>\n",
       "      <td>NaN</td>\n",
       "      <td>NaN</td>\n",
       "      <td>NaN</td>\n",
       "      <td>R</td>\n",
       "      <td>GTGAAGAAAACATATGGTTATATCGGCTCAGTTGCTGCTATTTTAC...</td>\n",
       "      <td>True</td>\n",
       "    </tr>\n",
       "    <tr>\n",
       "      <th>2502386</th>\n",
       "      <td>1676908</td>\n",
       "      <td>1680454</td>\n",
       "      <td>NaN</td>\n",
       "      <td>NaN</td>\n",
       "      <td>NaN</td>\n",
       "      <td>R</td>\n",
       "      <td>TTGCGTAAAAAACAAAAATTACCATTTGATAAACTTGCCATTGCGC...</td>\n",
       "      <td>True</td>\n",
       "    </tr>\n",
       "    <tr>\n",
       "      <th>2502387</th>\n",
       "      <td>1689747</td>\n",
       "      <td>1691136</td>\n",
       "      <td>NaN</td>\n",
       "      <td>NaN</td>\n",
       "      <td>NaN</td>\n",
       "      <td>R</td>\n",
       "      <td>GTGAGACTAATCAAAAAAACCTTTTTGGTCATCAATGGCTTAATTA...</td>\n",
       "      <td>True</td>\n",
       "    </tr>\n",
       "    <tr>\n",
       "      <th>2502388</th>\n",
       "      <td>1693109</td>\n",
       "      <td>1693784</td>\n",
       "      <td>NaN</td>\n",
       "      <td>NaN</td>\n",
       "      <td>NaN</td>\n",
       "      <td>R</td>\n",
       "      <td>TTGTTAAACCTTAAAGATATTCGAAAAAGCTATCATCTTGGAACTG...</td>\n",
       "      <td>True</td>\n",
       "    </tr>\n",
       "    <tr>\n",
       "      <th>2502389</th>\n",
       "      <td>1705476</td>\n",
       "      <td>1707894</td>\n",
       "      <td>NaN</td>\n",
       "      <td>NaN</td>\n",
       "      <td>NaN</td>\n",
       "      <td>R</td>\n",
       "      <td>ATGACTGAAACAAAAAGCCCTTATTTTGGACATTTAACAGACAGAA...</td>\n",
       "      <td>True</td>\n",
       "    </tr>\n",
       "    <tr>\n",
       "      <th>2502390</th>\n",
       "      <td>1713630</td>\n",
       "      <td>1715967</td>\n",
       "      <td>NaN</td>\n",
       "      <td>NaN</td>\n",
       "      <td>NaN</td>\n",
       "      <td>R</td>\n",
       "      <td>ATGAGATTTCTAGAACTTTTACAAAAGAAATTTTTTCCTAAAGCAT...</td>\n",
       "      <td>True</td>\n",
       "    </tr>\n",
       "    <tr>\n",
       "      <th>2502391</th>\n",
       "      <td>1717144</td>\n",
       "      <td>1717963</td>\n",
       "      <td>NaN</td>\n",
       "      <td>NaN</td>\n",
       "      <td>NaN</td>\n",
       "      <td>C</td>\n",
       "      <td>TTGTTAATTCCCCGTAAAATTAGGCATTTTCTGAGAACTAAAAAAC...</td>\n",
       "      <td>True</td>\n",
       "    </tr>\n",
       "    <tr>\n",
       "      <th>2502392</th>\n",
       "      <td>1718051</td>\n",
       "      <td>1719776</td>\n",
       "      <td>NaN</td>\n",
       "      <td>NaN</td>\n",
       "      <td>NaN</td>\n",
       "      <td>R</td>\n",
       "      <td>GTGAACTATCTAGGTTTCTTCGAAAATCCATTAGCCATTTATGATA...</td>\n",
       "      <td>True</td>\n",
       "    </tr>\n",
       "    <tr>\n",
       "      <th>2502393</th>\n",
       "      <td>1724772</td>\n",
       "      <td>1727217</td>\n",
       "      <td>NaN</td>\n",
       "      <td>NaN</td>\n",
       "      <td>NaN</td>\n",
       "      <td>R</td>\n",
       "      <td>ATGATTATGTATTCAACGAAGATGCAAGACATTTTTAGACAGGCGC...</td>\n",
       "      <td>True</td>\n",
       "    </tr>\n",
       "    <tr>\n",
       "      <th>2502394</th>\n",
       "      <td>1732800</td>\n",
       "      <td>1734831</td>\n",
       "      <td>NaN</td>\n",
       "      <td>NaN</td>\n",
       "      <td>NaN</td>\n",
       "      <td>C</td>\n",
       "      <td>ATGTCATTTTACAGTGAAACTGACATAGCTGCCGCTATGACTGTTA...</td>\n",
       "      <td>True</td>\n",
       "    </tr>\n",
       "    <tr>\n",
       "      <th>2502395</th>\n",
       "      <td>1743082</td>\n",
       "      <td>1746157</td>\n",
       "      <td>NaN</td>\n",
       "      <td>NaN</td>\n",
       "      <td>NaN</td>\n",
       "      <td>R</td>\n",
       "      <td>ATGACGAAGGGTATTCGATTTCAATTGCTTGGCAGTCCCCACATTT...</td>\n",
       "      <td>True</td>\n",
       "    </tr>\n",
       "    <tr>\n",
       "      <th>2502396</th>\n",
       "      <td>1752365</td>\n",
       "      <td>1754390</td>\n",
       "      <td>NaN</td>\n",
       "      <td>NaN</td>\n",
       "      <td>NaN</td>\n",
       "      <td>R</td>\n",
       "      <td>ATGGGAAAATTTGAACAGGATGCTAAGAGTCTTCTAACTGCTATTG...</td>\n",
       "      <td>True</td>\n",
       "    </tr>\n",
       "    <tr>\n",
       "      <th>2502397</th>\n",
       "      <td>1760345</td>\n",
       "      <td>1762544</td>\n",
       "      <td>NaN</td>\n",
       "      <td>NaN</td>\n",
       "      <td>NaN</td>\n",
       "      <td>R</td>\n",
       "      <td>ATGGTAAGTTTAGAAGAAGACAAGGTGACTGTTCAACCTGATATTA...</td>\n",
       "      <td>True</td>\n",
       "    </tr>\n",
       "    <tr>\n",
       "      <th>2502398</th>\n",
       "      <td>1762640</td>\n",
       "      <td>1764200</td>\n",
       "      <td>NaN</td>\n",
       "      <td>NaN</td>\n",
       "      <td>NaN</td>\n",
       "      <td>R</td>\n",
       "      <td>GTGATCGAGTTAAACGATGAATTCATCCGAAAAGAGACGATAGAAC...</td>\n",
       "      <td>True</td>\n",
       "    </tr>\n",
       "    <tr>\n",
       "      <th>2502399</th>\n",
       "      <td>1766416</td>\n",
       "      <td>1767553</td>\n",
       "      <td>NaN</td>\n",
       "      <td>NaN</td>\n",
       "      <td>NaN</td>\n",
       "      <td>R</td>\n",
       "      <td>TTGGCAAAAAAATTAAAAAAGAATGAAGAAATCACTAAGAAGTTTG...</td>\n",
       "      <td>True</td>\n",
       "    </tr>\n",
       "    <tr>\n",
       "      <th>2502400</th>\n",
       "      <td>1785831</td>\n",
       "      <td>1786407</td>\n",
       "      <td>NaN</td>\n",
       "      <td>NaN</td>\n",
       "      <td>NaN</td>\n",
       "      <td>C</td>\n",
       "      <td>TTGATATTTAATTTTAAGGAGAATATAGTGAAAAAGAAATTAGTTT...</td>\n",
       "      <td>True</td>\n",
       "    </tr>\n",
       "    <tr>\n",
       "      <th>2502401</th>\n",
       "      <td>1787020</td>\n",
       "      <td>1789576</td>\n",
       "      <td>NaN</td>\n",
       "      <td>NaN</td>\n",
       "      <td>NaN</td>\n",
       "      <td>R</td>\n",
       "      <td>ATGGCAAAAACTAACATTTCTCCTGGAATGCAACAGTATCTGGACA...</td>\n",
       "      <td>True</td>\n",
       "    </tr>\n",
       "    <tr>\n",
       "      <th>2502402</th>\n",
       "      <td>1801729</td>\n",
       "      <td>1802482</td>\n",
       "      <td>NaN</td>\n",
       "      <td>NaN</td>\n",
       "      <td>NaN</td>\n",
       "      <td>C</td>\n",
       "      <td>TTGGCGATTCCTGATTTAGATAAATTTTCATCTAACTTACAACAGG...</td>\n",
       "      <td>True</td>\n",
       "    </tr>\n",
       "    <tr>\n",
       "      <th>2502403</th>\n",
       "      <td>1808122</td>\n",
       "      <td>1810396</td>\n",
       "      <td>NaN</td>\n",
       "      <td>NaN</td>\n",
       "      <td>NaN</td>\n",
       "      <td>R</td>\n",
       "      <td>ATGTTAGAAGAATTGAAAACACTTATTAAAAATCCAAAATTAATGA...</td>\n",
       "      <td>True</td>\n",
       "    </tr>\n",
       "    <tr>\n",
       "      <th>2502404</th>\n",
       "      <td>1820108</td>\n",
       "      <td>1820426</td>\n",
       "      <td>NaN</td>\n",
       "      <td>NaN</td>\n",
       "      <td>NaN</td>\n",
       "      <td>R</td>\n",
       "      <td>TTGATTGTTAGAAATGGTAAGAATTTTTTAACTAGAGATGCAGATG...</td>\n",
       "      <td>True</td>\n",
       "    </tr>\n",
       "    <tr>\n",
       "      <th>2502405</th>\n",
       "      <td>1832624</td>\n",
       "      <td>1833884</td>\n",
       "      <td>NaN</td>\n",
       "      <td>NaN</td>\n",
       "      <td>NaN</td>\n",
       "      <td>C</td>\n",
       "      <td>GTGCCTATTTTTAAAAAAACTTTAATTGTTTTATCCTTTATTTTTT...</td>\n",
       "      <td>True</td>\n",
       "    </tr>\n",
       "    <tr>\n",
       "      <th>2502406</th>\n",
       "      <td>1843353</td>\n",
       "      <td>1844973</td>\n",
       "      <td>NaN</td>\n",
       "      <td>NaN</td>\n",
       "      <td>NaN</td>\n",
       "      <td>C</td>\n",
       "      <td>TTGCTTACAGTTTCTGATGTATCACTACGCTTTAGTGATCGAAAAC...</td>\n",
       "      <td>True</td>\n",
       "    </tr>\n",
       "    <tr>\n",
       "      <th>2502407</th>\n",
       "      <td>1845055</td>\n",
       "      <td>1847632</td>\n",
       "      <td>NaN</td>\n",
       "      <td>NaN</td>\n",
       "      <td>NaN</td>\n",
       "      <td>C</td>\n",
       "      <td>ATGAAAAATAATAATAAATGGATAATTGCTGGACTTGCTAGTTTTT...</td>\n",
       "      <td>True</td>\n",
       "    </tr>\n",
       "  </tbody>\n",
       "</table>\n",
       "<p>1448 rows × 8 columns</p>\n",
       "</div>"
      ],
      "text/plain": [
       "           start      end end_codon  shift strand state  \\\n",
       "3            231     1587       taa      0      F     C   \n",
       "31          1741     2878       taa      1      F     C   \n",
       "64          3479     4595       taa      2      F     C   \n",
       "96          4664     5234       taa      2      F     C   \n",
       "270        12805    14785       tga      1      F     C   \n",
       "332        15109    16501       taa      1      F     C   \n",
       "576        30545    31742       taa      2      F     C   \n",
       "596        31994    32957       taa      2      F     C   \n",
       "683        35363    36098       taa      2      F     C   \n",
       "762        40107    41562       taa      0      F     C   \n",
       "808        41589    42612       taa      0      F     C   \n",
       "920        48042    48534       taa      0      F     C   \n",
       "959        49620    51264       taa      0      F     C   \n",
       "1000       51281    52574       taa      2      F     C   \n",
       "1028       52705    53617       taa      1      F     C   \n",
       "1052       53842    54841       taa      1      F     C   \n",
       "1213       60814    61831       taa      1      F     C   \n",
       "1275       63711    64020       taa      0      F     C   \n",
       "1282       64267    64894       taa      1      F     C   \n",
       "1292       64917    65541       taa      0      F     C   \n",
       "1309       66826    67105       taa      1      F     C   \n",
       "1315       67120    67465       taa      1      F     C   \n",
       "1328       68134    68548       taa      1      F     C   \n",
       "1334       68557    68764       taa      1      F     C   \n",
       "1336       68789    69050       taa      2      F     C   \n",
       "1341       69074    69443       taa      2      F     C   \n",
       "1346       69521    69827       taa      2      F     C   \n",
       "1351       69850    70393       taa      1      F     C   \n",
       "1364       70744    71143       taa      1      F     C   \n",
       "1374       71345    71882       taa      2      F     C   \n",
       "...          ...      ...       ...    ...    ...   ...   \n",
       "2502378  1628381  1632779       NaN    NaN    NaN     R   \n",
       "2502379  1639164  1642662       NaN    NaN    NaN     R   \n",
       "2502380  1649118  1651350       NaN    NaN    NaN     R   \n",
       "2502381  1654794  1656981       NaN    NaN    NaN     R   \n",
       "2502382  1664430  1664937       NaN    NaN    NaN     C   \n",
       "2502383  1666615  1668244       NaN    NaN    NaN     C   \n",
       "2502384  1668356  1669334       NaN    NaN    NaN     C   \n",
       "2502385  1672026  1674504       NaN    NaN    NaN     R   \n",
       "2502386  1676908  1680454       NaN    NaN    NaN     R   \n",
       "2502387  1689747  1691136       NaN    NaN    NaN     R   \n",
       "2502388  1693109  1693784       NaN    NaN    NaN     R   \n",
       "2502389  1705476  1707894       NaN    NaN    NaN     R   \n",
       "2502390  1713630  1715967       NaN    NaN    NaN     R   \n",
       "2502391  1717144  1717963       NaN    NaN    NaN     C   \n",
       "2502392  1718051  1719776       NaN    NaN    NaN     R   \n",
       "2502393  1724772  1727217       NaN    NaN    NaN     R   \n",
       "2502394  1732800  1734831       NaN    NaN    NaN     C   \n",
       "2502395  1743082  1746157       NaN    NaN    NaN     R   \n",
       "2502396  1752365  1754390       NaN    NaN    NaN     R   \n",
       "2502397  1760345  1762544       NaN    NaN    NaN     R   \n",
       "2502398  1762640  1764200       NaN    NaN    NaN     R   \n",
       "2502399  1766416  1767553       NaN    NaN    NaN     R   \n",
       "2502400  1785831  1786407       NaN    NaN    NaN     C   \n",
       "2502401  1787020  1789576       NaN    NaN    NaN     R   \n",
       "2502402  1801729  1802482       NaN    NaN    NaN     C   \n",
       "2502403  1808122  1810396       NaN    NaN    NaN     R   \n",
       "2502404  1820108  1820426       NaN    NaN    NaN     R   \n",
       "2502405  1832624  1833884       NaN    NaN    NaN     C   \n",
       "2502406  1843353  1844973       NaN    NaN    NaN     C   \n",
       "2502407  1845055  1847632       NaN    NaN    NaN     C   \n",
       "\n",
       "                                                       seq  true  \n",
       "3        ATGACTGAAAATGAACAAATTTTTTGGAACAGGGTCTTGGAATTAG...  True  \n",
       "31       ATGATTCAATTTTCAATTAATCGCACATTATTTATTCATGCTTTAA...  True  \n",
       "64       ATGGCTTTAACAGCAGGTATTGTAGGCTTACCAAATGTTGGTAAAT...  True  \n",
       "96       ATGGTAAAAATGATTGTTGGTCTGGGAAATCCAGGCTCTAAATATG...  True  \n",
       "270      ATGAAAAATAATAAAAATAATGGTTTTGTTAAAAATTCTTTTATAT...  True  \n",
       "332      ATGACTATTTTTCGTAAAAAAAAGAAATATTCCAATAAAACAGAAA...  True  \n",
       "576      ATGAAAAAAAGAATTTTATCAGCAGTTCTTGTAAGTGGTGTTACCC...  True  \n",
       "596      ATGTCTTATTCTGATTTAAAATTGTTTGCTTTATCGTCAAACAAGG...  True  \n",
       "683      ATGAAAACAGAAAGAAAGGCGAATAATCAAGTGACTAACCAGCTTA...  True  \n",
       "762      ATGACATACGAAGTAAAATCTCTAAATGAAGAATGTGGAGTCTTTG...  True  \n",
       "808      ATGTCTGAAAAAAATGCTTATGCAAAATCTGGTGTTGATGTTGAAG...  True  \n",
       "920      ATGAAAACTCCAATTATTTCTATTATCATGGGCTCCAAATCTGACT...  True  \n",
       "959      ATGGCAAATATTCAAATAAATAGAATAAAAAGTAAATTGACAGAAC...  True  \n",
       "1000     ATGCTAGAACGTTATTCACGCCCTGAGATGGCGGCAATTTGGACAG...  True  \n",
       "1028     ATGTTAGAACATTTTGGTGGAAAAGTAAAAGTGTTAAGACTTGAAA...  True  \n",
       "1052     ATGGCTAGAATTTTAGACAATAATGTAATGGGAAATGAGGAGTTTT...  True  \n",
       "1213     ATGAAAGCCGTAGTTGTTAATCAAGCTAGTACAGGTGTCGAAGTTG...  True  \n",
       "1275     ATGGCAAACAAAAAAATCCGTATCCGTTTGAAAGCGTACGAACACC...  True  \n",
       "1282     ATGACAAAAGGAATCTTAGGGAAAAAAGTGGGAATGACTCAAATTT...  True  \n",
       "1292     ATGGCAAACGTAAAACTATTTGACCAAACTGGTAAAGAAGTTAGCT...  True  \n",
       "1309     ATGGGACGTAGTCTTAAAAAAGGACCTTTCGTCGATGAGCATTTGA...  True  \n",
       "1315     ATGGCAGAAATTACTTCAGCTAAAGCAATGGCTCGTACAGTGCGTG...  True  \n",
       "1328     ATGTTAGTACCTAAACGTGTTAAACACCGTCGCGAATTCCGTGGAA...  True  \n",
       "1334     ATGAAACTTCAAGAAATTAAAGATTTTGTTAAAGAGCTTCGTGGAT...  True  \n",
       "1336     ATGGAACGTAATCAACGTAAAACTCTTTACGGACGCGTAGTGTCTG...  True  \n",
       "1341     ATGATTCAACAAGAAACTCGCTTGAAAGTTGCTGATAATAGCGGTG...  True  \n",
       "1346     ATGTTTGTAAAAAAAGGCGACAAAGTTCGCGTAATTGCTGGCAAGG...  True  \n",
       "1351     ATGGCAAATCGTTTAAAAGAAAAATATACTAACGAAGTAATTCCTG...  True  \n",
       "1364     ATGGTTATGACTGACCCAATTGCAGACTTTTTAACACGTATCCGTA...  True  \n",
       "1374     ATGTCACGTATTGGTAATAAAGTAATTACTATGCCTGCAGGCGTTG...  True  \n",
       "...                                                    ...   ...  \n",
       "2502378  ATGTCAGATTTATTCGCTAAATTGATGGACCAGATAGAAATGCCAC...  True  \n",
       "2502379  ATGAAAAAGAAAGTCAACCAAGGATCAAAGCGCTATCAATATCTGT...  True  \n",
       "2502380  ATGAGGAACGAAATGGCAAAAATAATGAACGTAACAGGAGAAGAAG...  True  \n",
       "2502381  ATGAAAACATCATTCAAGCAACTGTTTCGTTTCGAATTTTGGCAAA...  True  \n",
       "2502382  TTGAAAATTGCCATCATTGGACATAGTGGCTCTGGCAAGTCAACCT...  True  \n",
       "2502383  GTGTCAAAATACCTAAAATACTTCTCTATTATCACGTTATTTTTGA...  True  \n",
       "2502384  GTGAAACGTACTACCATTATTATCATCTGGAAAATCATCAGATGTG...  True  \n",
       "2502385  GTGAAGAAAACATATGGTTATATCGGCTCAGTTGCTGCTATTTTAC...  True  \n",
       "2502386  TTGCGTAAAAAACAAAAATTACCATTTGATAAACTTGCCATTGCGC...  True  \n",
       "2502387  GTGAGACTAATCAAAAAAACCTTTTTGGTCATCAATGGCTTAATTA...  True  \n",
       "2502388  TTGTTAAACCTTAAAGATATTCGAAAAAGCTATCATCTTGGAACTG...  True  \n",
       "2502389  ATGACTGAAACAAAAAGCCCTTATTTTGGACATTTAACAGACAGAA...  True  \n",
       "2502390  ATGAGATTTCTAGAACTTTTACAAAAGAAATTTTTTCCTAAAGCAT...  True  \n",
       "2502391  TTGTTAATTCCCCGTAAAATTAGGCATTTTCTGAGAACTAAAAAAC...  True  \n",
       "2502392  GTGAACTATCTAGGTTTCTTCGAAAATCCATTAGCCATTTATGATA...  True  \n",
       "2502393  ATGATTATGTATTCAACGAAGATGCAAGACATTTTTAGACAGGCGC...  True  \n",
       "2502394  ATGTCATTTTACAGTGAAACTGACATAGCTGCCGCTATGACTGTTA...  True  \n",
       "2502395  ATGACGAAGGGTATTCGATTTCAATTGCTTGGCAGTCCCCACATTT...  True  \n",
       "2502396  ATGGGAAAATTTGAACAGGATGCTAAGAGTCTTCTAACTGCTATTG...  True  \n",
       "2502397  ATGGTAAGTTTAGAAGAAGACAAGGTGACTGTTCAACCTGATATTA...  True  \n",
       "2502398  GTGATCGAGTTAAACGATGAATTCATCCGAAAAGAGACGATAGAAC...  True  \n",
       "2502399  TTGGCAAAAAAATTAAAAAAGAATGAAGAAATCACTAAGAAGTTTG...  True  \n",
       "2502400  TTGATATTTAATTTTAAGGAGAATATAGTGAAAAAGAAATTAGTTT...  True  \n",
       "2502401  ATGGCAAAAACTAACATTTCTCCTGGAATGCAACAGTATCTGGACA...  True  \n",
       "2502402  TTGGCGATTCCTGATTTAGATAAATTTTCATCTAACTTACAACAGG...  True  \n",
       "2502403  ATGTTAGAAGAATTGAAAACACTTATTAAAAATCCAAAATTAATGA...  True  \n",
       "2502404  TTGATTGTTAGAAATGGTAAGAATTTTTTAACTAGAGATGCAGATG...  True  \n",
       "2502405  GTGCCTATTTTTAAAAAAACTTTAATTGTTTTATCCTTTATTTTTT...  True  \n",
       "2502406  TTGCTTACAGTTTCTGATGTATCACTACGCTTTAGTGATCGAAAAC...  True  \n",
       "2502407  ATGAAAAATAATAATAAATGGATAATTGCTGGACTTGCTAGTTTTT...  True  \n",
       "\n",
       "[1448 rows x 8 columns]"
      ]
     },
     "execution_count": 87,
     "metadata": {},
     "output_type": "execute_result"
    }
   ],
   "source": [
    "merged_df[merged_df.true == True]"
   ]
  },
  {
   "cell_type": "code",
   "execution_count": 22,
   "metadata": {
    "collapsed": false
   },
   "outputs": [
    {
     "name": "stdout",
     "output_type": "stream",
     "text": [
      "Calculated sequence lengths...\n"
     ]
    }
   ],
   "source": [
    "## Add length of each sequence\n",
    "df[\"len\"] = df.apply(lambda x: x[1] - x[0],axis=1) #x[1] - x[0])\n",
    "print(\"Calculated sequence lengths...\")"
   ]
  },
  {
   "cell_type": "code",
   "execution_count": 26,
   "metadata": {
    "collapsed": false
   },
   "outputs": [
    {
     "data": {
      "text/html": [
       "<div>\n",
       "<table border=\"1\" class=\"dataframe\">\n",
       "  <thead>\n",
       "    <tr style=\"text-align: right;\">\n",
       "      <th></th>\n",
       "      <th>start</th>\n",
       "      <th>end</th>\n",
       "    </tr>\n",
       "  </thead>\n",
       "  <tbody>\n",
       "    <tr>\n",
       "      <th>0</th>\n",
       "      <td>37</td>\n",
       "      <td>112</td>\n",
       "    </tr>\n",
       "    <tr>\n",
       "      <th>1</th>\n",
       "      <td>76</td>\n",
       "      <td>112</td>\n",
       "    </tr>\n",
       "    <tr>\n",
       "      <th>2</th>\n",
       "      <td>188</td>\n",
       "      <td>347</td>\n",
       "    </tr>\n",
       "    <tr>\n",
       "      <th>3</th>\n",
       "      <td>231</td>\n",
       "      <td>1587</td>\n",
       "    </tr>\n",
       "    <tr>\n",
       "      <th>4</th>\n",
       "      <td>241</td>\n",
       "      <td>292</td>\n",
       "    </tr>\n",
       "  </tbody>\n",
       "</table>\n",
       "</div>"
      ],
      "text/plain": [
       "   start   end\n",
       "0     37   112\n",
       "1     76   112\n",
       "2    188   347\n",
       "3    231  1587\n",
       "4    241   292"
      ]
     },
     "execution_count": 26,
     "metadata": {},
     "output_type": "execute_result"
    }
   ],
   "source": [
    "df[df.strand == 'F'][[\"start\",\"end\"]].head()"
   ]
  },
  {
   "cell_type": "code",
   "execution_count": 116,
   "metadata": {
    "collapsed": false
   },
   "outputs": [
    {
     "ename": "KeyboardInterrupt",
     "evalue": "",
     "output_type": "error",
     "traceback": [
      "\u001b[0;31m---------------------------------------------------------------------------\u001b[0m",
      "\u001b[0;31mKeyboardInterrupt\u001b[0m                         Traceback (most recent call last)",
      "\u001b[0;32m<ipython-input-116-3dafa92a3aa8>\u001b[0m in \u001b[0;36m<module>\u001b[0;34m()\u001b[0m\n\u001b[1;32m      1\u001b[0m \u001b[0;31m## Obtain potential gene sequence  -- TIME SUCK\u001b[0m\u001b[0;34m\u001b[0m\u001b[0;34m\u001b[0m\u001b[0m\n\u001b[0;32m----> 2\u001b[0;31m \u001b[0mdf\u001b[0m\u001b[0;34m[\u001b[0m\u001b[0;34m\"seq\"\u001b[0m\u001b[0;34m]\u001b[0m \u001b[0;34m=\u001b[0m \u001b[0mdf\u001b[0m\u001b[0;34m.\u001b[0m\u001b[0mapply\u001b[0m\u001b[0;34m(\u001b[0m\u001b[0;32mlambda\u001b[0m \u001b[0mx\u001b[0m\u001b[0;34m:\u001b[0m \u001b[0mdata\u001b[0m\u001b[0;34m[\u001b[0m\u001b[0mx\u001b[0m\u001b[0;34m[\u001b[0m\u001b[0;36m0\u001b[0m\u001b[0;34m]\u001b[0m\u001b[0;34m:\u001b[0m\u001b[0mx\u001b[0m\u001b[0;34m[\u001b[0m\u001b[0;36m1\u001b[0m\u001b[0;34m]\u001b[0m\u001b[0;34m]\u001b[0m\u001b[0;34m,\u001b[0m\u001b[0maxis\u001b[0m\u001b[0;34m=\u001b[0m\u001b[0;36m1\u001b[0m\u001b[0;34m)\u001b[0m\u001b[0;34m\u001b[0m\u001b[0m\n\u001b[0m\u001b[1;32m      3\u001b[0m \u001b[0mprint\u001b[0m\u001b[0;34m(\u001b[0m\u001b[0;34m\"Obtained potential sequences...\"\u001b[0m\u001b[0;34m)\u001b[0m\u001b[0;34m\u001b[0m\u001b[0m\n\u001b[1;32m      4\u001b[0m \u001b[0;34m\u001b[0m\u001b[0m\n\u001b[1;32m      5\u001b[0m \u001b[0;31m## Nucleotide Frequencies for each Potential Gene\u001b[0m\u001b[0;34m\u001b[0m\u001b[0;34m\u001b[0m\u001b[0m\n",
      "\u001b[0;32m/Users/ingrid/anaconda/lib/python3.5/site-packages/pandas/core/frame.py\u001b[0m in \u001b[0;36mapply\u001b[0;34m(self, func, axis, broadcast, raw, reduce, args, **kwds)\u001b[0m\n\u001b[1;32m   3970\u001b[0m                     \u001b[0;32mif\u001b[0m \u001b[0mreduce\u001b[0m \u001b[0;32mis\u001b[0m \u001b[0;32mNone\u001b[0m\u001b[0;34m:\u001b[0m\u001b[0;34m\u001b[0m\u001b[0m\n\u001b[1;32m   3971\u001b[0m                         \u001b[0mreduce\u001b[0m \u001b[0;34m=\u001b[0m \u001b[0;32mTrue\u001b[0m\u001b[0;34m\u001b[0m\u001b[0m\n\u001b[0;32m-> 3972\u001b[0;31m                     \u001b[0;32mreturn\u001b[0m \u001b[0mself\u001b[0m\u001b[0;34m.\u001b[0m\u001b[0m_apply_standard\u001b[0m\u001b[0;34m(\u001b[0m\u001b[0mf\u001b[0m\u001b[0;34m,\u001b[0m \u001b[0maxis\u001b[0m\u001b[0;34m,\u001b[0m \u001b[0mreduce\u001b[0m\u001b[0;34m=\u001b[0m\u001b[0mreduce\u001b[0m\u001b[0;34m)\u001b[0m\u001b[0;34m\u001b[0m\u001b[0m\n\u001b[0m\u001b[1;32m   3973\u001b[0m             \u001b[0;32melse\u001b[0m\u001b[0;34m:\u001b[0m\u001b[0;34m\u001b[0m\u001b[0m\n\u001b[1;32m   3974\u001b[0m                 \u001b[0;32mreturn\u001b[0m \u001b[0mself\u001b[0m\u001b[0;34m.\u001b[0m\u001b[0m_apply_broadcast\u001b[0m\u001b[0;34m(\u001b[0m\u001b[0mf\u001b[0m\u001b[0;34m,\u001b[0m \u001b[0maxis\u001b[0m\u001b[0;34m)\u001b[0m\u001b[0;34m\u001b[0m\u001b[0m\n",
      "\u001b[0;32m/Users/ingrid/anaconda/lib/python3.5/site-packages/pandas/core/frame.py\u001b[0m in \u001b[0;36m_apply_standard\u001b[0;34m(self, func, axis, ignore_failures, reduce)\u001b[0m\n\u001b[1;32m   4024\u001b[0m                 \u001b[0mlabels\u001b[0m \u001b[0;34m=\u001b[0m \u001b[0mself\u001b[0m\u001b[0;34m.\u001b[0m\u001b[0m_get_agg_axis\u001b[0m\u001b[0;34m(\u001b[0m\u001b[0maxis\u001b[0m\u001b[0;34m)\u001b[0m\u001b[0;34m\u001b[0m\u001b[0m\n\u001b[1;32m   4025\u001b[0m                 result = lib.reduce(values, func, axis=axis, dummy=dummy,\n\u001b[0;32m-> 4026\u001b[0;31m                                     labels=labels)\n\u001b[0m\u001b[1;32m   4027\u001b[0m                 \u001b[0;32mreturn\u001b[0m \u001b[0mSeries\u001b[0m\u001b[0;34m(\u001b[0m\u001b[0mresult\u001b[0m\u001b[0;34m,\u001b[0m \u001b[0mindex\u001b[0m\u001b[0;34m=\u001b[0m\u001b[0mlabels\u001b[0m\u001b[0;34m)\u001b[0m\u001b[0;34m\u001b[0m\u001b[0m\n\u001b[1;32m   4028\u001b[0m             \u001b[0;32mexcept\u001b[0m \u001b[0mException\u001b[0m\u001b[0;34m:\u001b[0m\u001b[0;34m\u001b[0m\u001b[0m\n",
      "\u001b[0;32mpandas/src/reduce.pyx\u001b[0m in \u001b[0;36mpandas.lib.reduce (pandas/lib.c:43773)\u001b[0;34m()\u001b[0m\n",
      "\u001b[0;32mpandas/src/reduce.pyx\u001b[0m in \u001b[0;36mpandas.lib.Reducer.get_result (pandas/lib.c:33913)\u001b[0;34m()\u001b[0m\n",
      "\u001b[0;32m<ipython-input-116-3dafa92a3aa8>\u001b[0m in \u001b[0;36m<lambda>\u001b[0;34m(x)\u001b[0m\n\u001b[1;32m      1\u001b[0m \u001b[0;31m## Obtain potential gene sequence  -- TIME SUCK\u001b[0m\u001b[0;34m\u001b[0m\u001b[0;34m\u001b[0m\u001b[0m\n\u001b[0;32m----> 2\u001b[0;31m \u001b[0mdf\u001b[0m\u001b[0;34m[\u001b[0m\u001b[0;34m\"seq\"\u001b[0m\u001b[0;34m]\u001b[0m \u001b[0;34m=\u001b[0m \u001b[0mdf\u001b[0m\u001b[0;34m.\u001b[0m\u001b[0mapply\u001b[0m\u001b[0;34m(\u001b[0m\u001b[0;32mlambda\u001b[0m \u001b[0mx\u001b[0m\u001b[0;34m:\u001b[0m \u001b[0mdata\u001b[0m\u001b[0;34m[\u001b[0m\u001b[0mx\u001b[0m\u001b[0;34m[\u001b[0m\u001b[0;36m0\u001b[0m\u001b[0;34m]\u001b[0m\u001b[0;34m:\u001b[0m\u001b[0mx\u001b[0m\u001b[0;34m[\u001b[0m\u001b[0;36m1\u001b[0m\u001b[0;34m]\u001b[0m\u001b[0;34m]\u001b[0m\u001b[0;34m,\u001b[0m\u001b[0maxis\u001b[0m\u001b[0;34m=\u001b[0m\u001b[0;36m1\u001b[0m\u001b[0;34m)\u001b[0m\u001b[0;34m\u001b[0m\u001b[0m\n\u001b[0m\u001b[1;32m      3\u001b[0m \u001b[0mprint\u001b[0m\u001b[0;34m(\u001b[0m\u001b[0;34m\"Obtained potential sequences...\"\u001b[0m\u001b[0;34m)\u001b[0m\u001b[0;34m\u001b[0m\u001b[0m\n\u001b[1;32m      4\u001b[0m \u001b[0;34m\u001b[0m\u001b[0m\n\u001b[1;32m      5\u001b[0m \u001b[0;31m## Nucleotide Frequencies for each Potential Gene\u001b[0m\u001b[0;34m\u001b[0m\u001b[0;34m\u001b[0m\u001b[0m\n",
      "\u001b[0;32m/Users/ingrid/anaconda/lib/python3.5/site-packages/pandas/core/series.py\u001b[0m in \u001b[0;36m__getitem__\u001b[0;34m(self, key)\u001b[0m\n\u001b[1;32m    555\u001b[0m     \u001b[0;32mdef\u001b[0m \u001b[0m__getitem__\u001b[0m\u001b[0;34m(\u001b[0m\u001b[0mself\u001b[0m\u001b[0;34m,\u001b[0m \u001b[0mkey\u001b[0m\u001b[0;34m)\u001b[0m\u001b[0;34m:\u001b[0m\u001b[0;34m\u001b[0m\u001b[0m\n\u001b[1;32m    556\u001b[0m         \u001b[0;32mtry\u001b[0m\u001b[0;34m:\u001b[0m\u001b[0;34m\u001b[0m\u001b[0m\n\u001b[0;32m--> 557\u001b[0;31m             \u001b[0mresult\u001b[0m \u001b[0;34m=\u001b[0m \u001b[0mself\u001b[0m\u001b[0;34m.\u001b[0m\u001b[0mindex\u001b[0m\u001b[0;34m.\u001b[0m\u001b[0mget_value\u001b[0m\u001b[0;34m(\u001b[0m\u001b[0mself\u001b[0m\u001b[0;34m,\u001b[0m \u001b[0mkey\u001b[0m\u001b[0;34m)\u001b[0m\u001b[0;34m\u001b[0m\u001b[0m\n\u001b[0m\u001b[1;32m    558\u001b[0m \u001b[0;34m\u001b[0m\u001b[0m\n\u001b[1;32m    559\u001b[0m             \u001b[0;32mif\u001b[0m \u001b[0;32mnot\u001b[0m \u001b[0mnp\u001b[0m\u001b[0;34m.\u001b[0m\u001b[0misscalar\u001b[0m\u001b[0;34m(\u001b[0m\u001b[0mresult\u001b[0m\u001b[0;34m)\u001b[0m\u001b[0;34m:\u001b[0m\u001b[0;34m\u001b[0m\u001b[0m\n",
      "\u001b[0;32m/Users/ingrid/anaconda/lib/python3.5/site-packages/pandas/core/index.py\u001b[0m in \u001b[0;36mget_value\u001b[0;34m(self, series, key)\u001b[0m\n\u001b[1;32m   1780\u001b[0m             \u001b[0;32mreturn\u001b[0m \u001b[0ms\u001b[0m\u001b[0;34m[\u001b[0m\u001b[0mkey\u001b[0m\u001b[0;34m]\u001b[0m\u001b[0;34m\u001b[0m\u001b[0m\n\u001b[1;32m   1781\u001b[0m \u001b[0;34m\u001b[0m\u001b[0m\n\u001b[0;32m-> 1782\u001b[0;31m         \u001b[0ms\u001b[0m \u001b[0;34m=\u001b[0m \u001b[0m_values_from_object\u001b[0m\u001b[0;34m(\u001b[0m\u001b[0mseries\u001b[0m\u001b[0;34m)\u001b[0m\u001b[0;34m\u001b[0m\u001b[0m\n\u001b[0m\u001b[1;32m   1783\u001b[0m         \u001b[0mk\u001b[0m \u001b[0;34m=\u001b[0m \u001b[0m_values_from_object\u001b[0m\u001b[0;34m(\u001b[0m\u001b[0mkey\u001b[0m\u001b[0;34m)\u001b[0m\u001b[0;34m\u001b[0m\u001b[0m\n\u001b[1;32m   1784\u001b[0m \u001b[0;34m\u001b[0m\u001b[0m\n",
      "\u001b[0;32mpandas/lib.pyx\u001b[0m in \u001b[0;36mpandas.lib.values_from_object (pandas/lib.c:4231)\u001b[0;34m()\u001b[0m\n",
      "\u001b[0;32m/Users/ingrid/anaconda/lib/python3.5/site-packages/pandas/core/series.py\u001b[0m in \u001b[0;36mget_values\u001b[0;34m(self)\u001b[0m\n\u001b[1;32m    357\u001b[0m     \u001b[0;32mdef\u001b[0m \u001b[0mget_values\u001b[0m\u001b[0;34m(\u001b[0m\u001b[0mself\u001b[0m\u001b[0;34m)\u001b[0m\u001b[0;34m:\u001b[0m\u001b[0;34m\u001b[0m\u001b[0m\n\u001b[1;32m    358\u001b[0m         \u001b[0;34m\"\"\" same as values (but handles sparseness conversions); is a view \"\"\"\u001b[0m\u001b[0;34m\u001b[0m\u001b[0m\n\u001b[0;32m--> 359\u001b[0;31m         \u001b[0;32mreturn\u001b[0m \u001b[0mself\u001b[0m\u001b[0;34m.\u001b[0m\u001b[0m_data\u001b[0m\u001b[0;34m.\u001b[0m\u001b[0mget_values\u001b[0m\u001b[0;34m(\u001b[0m\u001b[0;34m)\u001b[0m\u001b[0;34m\u001b[0m\u001b[0m\n\u001b[0m\u001b[1;32m    360\u001b[0m \u001b[0;34m\u001b[0m\u001b[0m\n\u001b[1;32m    361\u001b[0m     \u001b[0;31m# ops\u001b[0m\u001b[0;34m\u001b[0m\u001b[0;34m\u001b[0m\u001b[0m\n",
      "\u001b[0;32m/Users/ingrid/anaconda/lib/python3.5/site-packages/pandas/core/internals.py\u001b[0m in \u001b[0;36mget_values\u001b[0;34m(self)\u001b[0m\n\u001b[1;32m   3836\u001b[0m     \u001b[0;32mdef\u001b[0m \u001b[0mget_values\u001b[0m\u001b[0;34m(\u001b[0m\u001b[0mself\u001b[0m\u001b[0;34m)\u001b[0m\u001b[0;34m:\u001b[0m\u001b[0;34m\u001b[0m\u001b[0m\n\u001b[1;32m   3837\u001b[0m         \u001b[0;34m\"\"\" return a dense type view \"\"\"\u001b[0m\u001b[0;34m\u001b[0m\u001b[0m\n\u001b[0;32m-> 3838\u001b[0;31m         \u001b[0;32mreturn\u001b[0m \u001b[0mnp\u001b[0m\u001b[0;34m.\u001b[0m\u001b[0marray\u001b[0m\u001b[0;34m(\u001b[0m\u001b[0mself\u001b[0m\u001b[0;34m.\u001b[0m\u001b[0m_block\u001b[0m\u001b[0;34m.\u001b[0m\u001b[0mto_dense\u001b[0m\u001b[0;34m(\u001b[0m\u001b[0;34m)\u001b[0m\u001b[0;34m,\u001b[0m\u001b[0mcopy\u001b[0m\u001b[0;34m=\u001b[0m\u001b[0;32mFalse\u001b[0m\u001b[0;34m)\u001b[0m\u001b[0;34m\u001b[0m\u001b[0m\n\u001b[0m\u001b[1;32m   3839\u001b[0m \u001b[0;34m\u001b[0m\u001b[0m\n\u001b[1;32m   3840\u001b[0m     \u001b[0;34m@\u001b[0m\u001b[0mproperty\u001b[0m\u001b[0;34m\u001b[0m\u001b[0m\n",
      "\u001b[0;32m/Users/ingrid/anaconda/lib/python3.5/site-packages/pandas/core/internals.py\u001b[0m in \u001b[0;36m_block\u001b[0;34m(self)\u001b[0m\n\u001b[1;32m   3741\u001b[0m         \u001b[0;32mpass\u001b[0m\u001b[0;34m\u001b[0m\u001b[0m\n\u001b[1;32m   3742\u001b[0m \u001b[0;34m\u001b[0m\u001b[0m\n\u001b[0;32m-> 3743\u001b[0;31m     \u001b[0;34m@\u001b[0m\u001b[0mproperty\u001b[0m\u001b[0;34m\u001b[0m\u001b[0m\n\u001b[0m\u001b[1;32m   3744\u001b[0m     \u001b[0;32mdef\u001b[0m \u001b[0m_block\u001b[0m\u001b[0;34m(\u001b[0m\u001b[0mself\u001b[0m\u001b[0;34m)\u001b[0m\u001b[0;34m:\u001b[0m\u001b[0;34m\u001b[0m\u001b[0m\n\u001b[1;32m   3745\u001b[0m         \u001b[0;32mreturn\u001b[0m \u001b[0mself\u001b[0m\u001b[0;34m.\u001b[0m\u001b[0mblocks\u001b[0m\u001b[0;34m[\u001b[0m\u001b[0;36m0\u001b[0m\u001b[0;34m]\u001b[0m\u001b[0;34m\u001b[0m\u001b[0m\n",
      "\u001b[0;31mKeyboardInterrupt\u001b[0m: "
     ]
    }
   ],
   "source": [
    "## Obtain potential gene sequence  -- TIME SUCK\n",
    "df[\"seq\"] = df.apply(lambda x: data[x[0]:x[1]],axis=1)\n",
    "print(\"Obtained potential sequences...\")\n",
    "\n",
    "## Nucleotide Frequencies for each Potential Gene\n",
    "res = [[l[1] for l in list(nucleotide_frequency(seg).items())] for seg in list(df.seq)]\n",
    "frequency_df = pd.DataFrame(res)\n",
    "frequency_df.columns=[\"a\",\"c\",\"g\",\"t\"]\n",
    "print(\"Calculate Nucleotide Frequencies...\")\n",
    "\n",
    "## Combine tables\n",
    "# 1. reset df index\n",
    "df.reset_index(inplace=True)\n",
    "# 2. concat\n",
    "df = pd.concat([df,frequency_df],axis=1)\n",
    "print(\"Combined frequence and gene tables...\")"
   ]
  },
  {
   "cell_type": "code",
   "execution_count": null,
   "metadata": {
    "collapsed": true
   },
   "outputs": [],
   "source": []
  },
  {
   "cell_type": "code",
   "execution_count": 66,
   "metadata": {
    "collapsed": false
   },
   "outputs": [],
   "source": [
    "## Filter for Genes\n",
    "    # x[0] - start\n",
    "    # x[1] - end\n",
    "    # x[4] - strand\n",
    "# df[\"is_gene\"] = df.apply(lambda x: check_gene_state([x[0],x[1]],annot, x[4]), axis=1)"
   ]
  },
  {
   "cell_type": "code",
   "execution_count": 341,
   "metadata": {
    "collapsed": false
   },
   "outputs": [],
   "source": [
    "y = nsample_df.is_gene\n",
    "x = nsample_df[[\"start\",\"end\",\"shift\",\"len\",\"a\",\"c\",\"g\",\"t\"]]"
   ]
  },
  {
   "cell_type": "code",
   "execution_count": 357,
   "metadata": {
    "collapsed": false
   },
   "outputs": [
    {
     "data": {
      "text/plain": [
       "False    9995\n",
       "True        5\n",
       "Name: is_gene, dtype: int64"
      ]
     },
     "execution_count": 357,
     "metadata": {},
     "output_type": "execute_result"
    }
   ],
   "source": [
    "nsample_df.is_gene.value_counts()"
   ]
  },
  {
   "cell_type": "code",
   "execution_count": 326,
   "metadata": {
    "collapsed": false
   },
   "outputs": [
    {
     "data": {
      "text/plain": [
       "{False}"
      ]
     },
     "execution_count": 326,
     "metadata": {},
     "output_type": "execute_result"
    }
   ],
   "source": [
    "set(nsample_df.isnull().any(axis=1))"
   ]
  },
  {
   "cell_type": "code",
   "execution_count": 290,
   "metadata": {
    "collapsed": true
   },
   "outputs": [],
   "source": [
    "sample_df[\"len\"] = sample_df.seq.apply(lambda x: len(x))\n"
   ]
  },
  {
   "cell_type": "code",
   "execution_count": 291,
   "metadata": {
    "collapsed": false
   },
   "outputs": [],
   "source": [
    "Nsample_df = sample_df.reindex(np.arange(10000))"
   ]
  },
  {
   "cell_type": "code",
   "execution_count": 296,
   "metadata": {
    "collapsed": false
   },
   "outputs": [
    {
     "data": {
      "text/plain": [
       "{False}"
      ]
     },
     "execution_count": 296,
     "metadata": {},
     "output_type": "execute_result"
    }
   ],
   "source": [
    "set(sample_df.isnull().any(axis=1))"
   ]
  },
  {
   "cell_type": "code",
   "execution_count": 283,
   "metadata": {
    "collapsed": false
   },
   "outputs": [
    {
     "data": {
      "text/plain": [
       "(10000, 7)"
      ]
     },
     "execution_count": 283,
     "metadata": {},
     "output_type": "execute_result"
    }
   ],
   "source": [
    "ex = Nsample_df.seq\n",
    "# ex.apply(lambda x: len(str(x)))\n",
    "sample_df.isnull().shape"
   ]
  },
  {
   "cell_type": "code",
   "execution_count": 361,
   "metadata": {
    "collapsed": false
   },
   "outputs": [],
   "source": [
    "xxx = list(sample_df[sample_df.is_gene == True].seq)"
   ]
  },
  {
   "cell_type": "code",
   "execution_count": 362,
   "metadata": {
    "collapsed": false
   },
   "outputs": [
    {
     "name": "stdout",
     "output_type": "stream",
     "text": [
      "Query:    1 ATG--ATTC--AAT--T----TTCAA-TTAAT--CGCACATTATTTAT--T--C-ATGCTTT--AA-ATACAACTAAACGTGCTATT-AGCACTAAA-AATG-CC--ATTCCTATTCTTTCATCAA--TAA--A--AA---TTGAAGTCACTT--CTACAGGAGTAACTTTAACAGGGTCT-AACGGTC-AAATATCA--ATTGAAAACACTATTCCTGTAAGTA-ATGAAAAT-GCT-GG-T-TTGCTAATTAC-CTCTCCAGGAGCTATTTTA-T--TAGAAGCTA-GT-T-TTTTTATTAATATTATTTCAAGTTTG-CCAGATATTAGTATAA---ATGT--TAAA-GAAATT-G-AA--CAACACCAAGTT-GTTTTAA-CC-AGTGGT-AAATCAGAGAT-T-AC--CTTAAAA--GGA--AAAGATG-TTG--A-CCAGTA-TC-CTCGT-CTA-CA---A-GAAGTATCAACAG-AAAATCCTTTG-ATTTTA-A-AAACAAAATTATTGAAG-TCT---AT-TATT-GCT-GAAACA-GCT-TTTGCAGCCAGTTTACAAGAA-AG-TC-GTCCTA-TTTTAACAGGAGTTCATATTGTATTAAGTAATCATAA-AGATT-T--TAA--AGC-A--GTAGCGA-CTGA-C-TCTC-ATCG-TAT-G-AGCCAACGTTTAATCACT--TTGGACAAT----ACTT--CAG-CAGAT-T------T--TGATGTAGTT-ATTC-CAAGT--AAATCTTTGAGAGAATTTTCAGCAGTATTTACAGATGATATTGAGACCGTTGAGGTATTTTT-CTCACCA-AGCCA---A--ATCTTGTTCAGAAGTGAACACATTT-CTTTTTAT-ACACG-CCTCTTAGAAGG-AAATTATCCCGATA-CAGAC-CGTT--T-A-TT-AATGACAGAATTTGAGACGGAGGT--TGTTTTCAATAC--CC-AATCCCTTCGC-CAC-GCTATGGAACG-T-G-CCT-TCTTGA-TTTCTAATGCTACTC-AA-AATGGTACTGTTAAGCTTG-AGATTACTCAAAATCATATTTCAGCTCATGTTAAC-TCACCTGAGGTTGGTAAGGTA---AACGAGGATTTAGATATTG--TTAGTC-AGTCTGGTAG-T--G-ATTTA--AC-T---AT--CAGCTTCAATCCA-ACTTACCT--TATTGAGTCTTTAAAAGCTATTAAAAGTGAAACAGTA-AAAATTCATTTC-TTATCACCAGTTCGACC-AT--TCACCCT-AACACCAGGCGAT--G--AGGAAGAAAGTTTTA---TCCAATTAATT-ACACCAGT-ACGAAC-AAACTAA 1137\n",
      "            |||  ||||  |.|  |    ||.|| ||.||  |||.|| .||||.|  |  | |||.|||  || | |.|.|| ||  ||  ||| ||||  ||| .| | ||  |.| | | .|   ||..||  |||  |  ||   ||.||.|| .||  |||| .|  |.|| ||  || |.|.| |||  || |||||| |  .||||||||..|||| |   |||.| |||||||| |.| || | |||||..|| | .| ..|||.|||||  .|| |  |.||| ||| .| | .|..| || .| |||||| ..|.|.| ||.|...||.|.|.||   ||.|  |||| |..||| | ||  |...| |.| || |  ..|| || |.||.| .|||.|.|.|| | ||  ||.||||  ..|  ||.|| | |||  | ||| || || | |.| .|| ||   | ||| | |.|| || |||||  ||.| |.|||| | ..|| ...|||||||.| |.|   || | || ||| .|||.| ||| |.||.| .||     |||||| || || .|..|| |||||| .|.|.||||||    | ||| ||| || || |.||| |  |||  ||| |  ||| | | |.|| | |||| || | |.| | ||  |.||.|||.|.|||  ||..| |||    | ||  ||| || || |      |  |||| |  || |..| |.|||  ..|| |||||.| ||   | |  | .|||.| |||  ||| | | | | ||    ||||||| ||||..| | |||   |  || ||| .|.|  ||   || |||| .||.|.|| .|| | ..| |||||||| ...||| ...|||| .||.| .|||  | | || ||  ||| || ||||.|| || .|  ||||..||.|.|  || ||.|..||||| | | | .|.|.|| | | | ||| ...||| ..| ||.|.|.| || || ||    | | |.||||  | | |.|  |..|||  || ||| | | ..|||||.| ||| ..||..||  .|||.||   |||||..| ..|.||||||  |||| | ||.|..|||| |  | .||||  || |   ||  ||| .| ||  || .||| |||  .|||| |     ||||| .|||  ..|||  .||| | |..|||||  .| .|| |.|||  | | || ||  | |...| ||.|.||.|  ||  |  ||||.|||||..|||   ||.||   ||| |.|||| | |..||| |||.|||\n",
      "Ref  :  179 ATGTTATTCTTACTGCTGGTTTTGAAGTTTATAACGCTCA-AATTTCTGTTGACTATGTTTTCGAAGA-AGACCT-AA--TG--ATTGAGCA--AAATCA-GACCAAAAT-C-A-AC---CAAAAACCTAAGCAGCAAGCCTTAAATTC-TTTGCCTAC-TG--TTAC-TT--CA-GATTTAAAC--TCGAAATAT-AGTTTTGAAAACTTTATT-C---AAGGAGATGAAAATCGTTGGGCTGTTGCTGCTT-CAAT-AGCAGTAGCTA--ATACTCCTGGAA-CTACCTATAATCCT-TT-GT-TTATTT-GGGGTGGCCCTGGGCTTGGAAAAACCCATTTATTAAATGCTATTGGTAATTCTGTA-CTA-TTAG--AAAATCCAAATGCTCGAATTAAATATATCACAGCTGAAAACTTTATTAATGA-GTTTGTTATCCA-TATTCGC-CTTGATACCATGGATGAA-T-TGAA-AGAAAAAT--TTCGTAATTTAGATTTAC-TCCTTATTGATGATATCCAATCT-TTAGCTAAAAAAACGCTCTCTGGA-ACA-----CAAGAAGAGTTCTTTAATACTTTTAA-TGCACTTCATA----A-TAA-TAA-CA-AACAAATTGTCCTAACAAGCGACCGTA-C-ACCAGATCATCTCAAT-GATTTAGAAG--ATCGATTAGTTACTCGTTTTA-AATGGGGA-TTAACAGTCA-ATATCACACCTCCTGAT-T--TTGAAACACGAGTGGCTAT-TTTGACA-AA---T-A--A-AATTCA-AGA--ATA-T-A-A-C-TT----TATTTTTCCTCAAGATA-CCATTGAGTAT-TTG-GCTG--GT---CA-ATTTGATTCTAATGTCA-GAGAT-TTAGAAGGTGCCTTA-AAAGATATTAGTCTGGTTGCTAATTTCAA--ACA-AA-TTGACAC-GA-TTACTGTTGACATTGCTGCCGAAGCTATTCGCGC-CAG-AAAGCAA-GATGGACCTAAAATGACAGT-TATTCCCA-TCGAAGAA----A-T-TCAAGC--GCA-AGT--TGGAAA--AT-TTT-A-C-GGTGTTACCGTCA-AAGAAATT--AAAGCTACTAAACGAACA-CAAAATATTGTTTTAG-CAAGACAAGTAGCTATGTTTTTAGCACGTGAAATGACAG-AT-AA--CAGTCTT-CCTAAAATTG-G-----AAAAG-AATT--TGGTG--GCAG-AGACCATTCA--ACAGTA-CTCCA--T-G-CCTATAAT-AAAATCAAAAACATG--ATCAGCCAGGACGAAAGCCTTAGGATCGAA---ATTGAAACCA-TAAAAAACAAAATTAA 1352\n",
      "\n",
      "Score: 941\n",
      "Matches: 764 (56.6%)\n",
      "Mismatches: 587\n",
      "CIGAR: 3M2D4M2D3M2D1M4D5M1D5M2D6M1I7M2D1M2D1M1D7M2D2M1D1M1I6M1I2M2I2M2I3M1D4M2I3M1D2M1I1M1D2M2D3M1I1M1I1M1I2M3I6M2D3M2D1M2D2M3D8M1I3M2D4M1I2M2I4M1I2M2I2M1I5M1D3M2I2M1D6M1I1M2D15M1I1M3I5M1D8M1D3M1D2M1D1M1D9M1I1M1D2M1I11M2I3M1D1M2D5M1I3M1D2M1D1M1D5M1I2M1I2M1I6M1I7M1D16M3D4M2D4M1D6M1D1M1D2M2D5M1I3M1I2M1D1M2I4M1D2M1D6M1D11M1D1M1D2M2D7M2D3M2D5M1I1M1D3M2D1M1D3M1I2M1D2M1D1M1I3M1D3M1D2M3D1M1D3M1I1M1I4M1I2M1D5M2I4M1D6M1D1M1D4M1I12M1D3M3D2M1D1M1I2M1D3M1D6M1D3M1D6M1I3M5I6M1D2M1D2M1D6M1D6M1I11M4I1M1I3M1I3M1I2M1I2M1D5M1D1M2D3M2D3M1D1M2D3M1I1M1I1M1D4M1D1M1D4M1D2M1I1M1D3M1D1M1D2M2I14M2D5M1I3M4D1M1I2M2D3M1D2M1I2M1D1M6D1M2D4M1I1M2I2M1D4M1D5M2D4M1I7M1I2M3I1M1I1M2I1M1I6M1I3M2I3M1I1M1I1M1I1M1I1M1I2M4I7M1D7M1D1M1I3M3D1M2D2M1I3M1I4M2I2M3I2M1I4M1D8M1D3M1I1M1D3M1I8M1D6M1I7M1D5M1D4M2D1M1D1M1D2M1D2M2I3M1I2M1I7M1I2M1I2M2D12M2D2M1D11M1D1M1I1M1D1M1I7M1I1M1D1M1D1M1D3M1D6M1D3M1I8M1I2M1D2M1D2M4I1M1I1M1I6M2I1M1D1M1I3M2I6M2I2M1I3M1I1M1I1M1I9M1D3M1I8M2I7M3D8M1I10M2D4M1I1M1D10M1D1M2D1M1D5M2D2M1D1M3D2M2D3M1I2M1I2M2I2M1D4M1I3M2D5M1I1M5I5M1I4M2I5M2I4M1I1M1D8M2I2M1D3M1I5M2I1M1I1M1I2M1D2M2D1M1I5M1D9M2I2M2D1M2D15M3D5M3I3M1D6M1I1M1D6M1D7M\n"
     ]
    }
   ],
   "source": [
    "import swalign\n",
    "# choose your own values here… 2 and -1 are common.\n",
    "match = 2\n",
    "mismatch = -1\n",
    "scoring = swalign.NucleotideScoringMatrix(match, mismatch)\n",
    "\n",
    "sw = swalign.LocalAlignment(scoring)  # you can also choose gap penalties, etc...\n",
    "alignment = sw.align(xxx[0],xxx[1])\n",
    "alignment.dump()"
   ]
  },
  {
   "cell_type": "code",
   "execution_count": 308,
   "metadata": {
    "collapsed": false
   },
   "outputs": [
    {
     "data": {
      "text/plain": [
       "75"
      ]
     },
     "execution_count": 308,
     "metadata": {},
     "output_type": "execute_result"
    }
   ],
   "source": [
    "28+13+19+15"
   ]
  },
  {
   "cell_type": "code",
   "execution_count": 301,
   "metadata": {
    "collapsed": false
   },
   "outputs": [],
   "source": [
    "frequency_df[\"start\"] = sample_df.start"
   ]
  },
  {
   "cell_type": "code",
   "execution_count": 304,
   "metadata": {
    "collapsed": false
   },
   "outputs": [
    {
     "ename": "ValueError",
     "evalue": "labels [ nan  nan  nan ...,  nan  nan  nan] not contained in axis",
     "output_type": "error",
     "traceback": [
      "\u001b[0;31m---------------------------------------------------------------------------\u001b[0m",
      "\u001b[0;31mValueError\u001b[0m                                Traceback (most recent call last)",
      "\u001b[0;32m<ipython-input-304-9e306ef10fa6>\u001b[0m in \u001b[0;36m<module>\u001b[0;34m()\u001b[0m\n\u001b[0;32m----> 1\u001b[0;31m \u001b[0mfrequency_df\u001b[0m\u001b[0;34m.\u001b[0m\u001b[0mdrop\u001b[0m\u001b[0;34m(\u001b[0m\u001b[0mfrequency_df\u001b[0m\u001b[0;34m.\u001b[0m\u001b[0mstart\u001b[0m\u001b[0;34m)\u001b[0m\u001b[0;34m\u001b[0m\u001b[0m\n\u001b[0m",
      "\u001b[0;32m/Users/ingrid/anaconda/envs/py27/lib/python2.7/site-packages/pandas/core/generic.pyc\u001b[0m in \u001b[0;36mdrop\u001b[0;34m(self, labels, axis, level, inplace, errors)\u001b[0m\n\u001b[1;32m   1615\u001b[0m                 \u001b[0mnew_axis\u001b[0m \u001b[0;34m=\u001b[0m \u001b[0maxis\u001b[0m\u001b[0;34m.\u001b[0m\u001b[0mdrop\u001b[0m\u001b[0;34m(\u001b[0m\u001b[0mlabels\u001b[0m\u001b[0;34m,\u001b[0m \u001b[0mlevel\u001b[0m\u001b[0;34m=\u001b[0m\u001b[0mlevel\u001b[0m\u001b[0;34m,\u001b[0m \u001b[0merrors\u001b[0m\u001b[0;34m=\u001b[0m\u001b[0merrors\u001b[0m\u001b[0;34m)\u001b[0m\u001b[0;34m\u001b[0m\u001b[0m\n\u001b[1;32m   1616\u001b[0m             \u001b[0;32melse\u001b[0m\u001b[0;34m:\u001b[0m\u001b[0;34m\u001b[0m\u001b[0m\n\u001b[0;32m-> 1617\u001b[0;31m                 \u001b[0mnew_axis\u001b[0m \u001b[0;34m=\u001b[0m \u001b[0maxis\u001b[0m\u001b[0;34m.\u001b[0m\u001b[0mdrop\u001b[0m\u001b[0;34m(\u001b[0m\u001b[0mlabels\u001b[0m\u001b[0;34m,\u001b[0m \u001b[0merrors\u001b[0m\u001b[0;34m=\u001b[0m\u001b[0merrors\u001b[0m\u001b[0;34m)\u001b[0m\u001b[0;34m\u001b[0m\u001b[0m\n\u001b[0m\u001b[1;32m   1618\u001b[0m             \u001b[0mdropped\u001b[0m \u001b[0;34m=\u001b[0m \u001b[0mself\u001b[0m\u001b[0;34m.\u001b[0m\u001b[0mreindex\u001b[0m\u001b[0;34m(\u001b[0m\u001b[0;34m**\u001b[0m\u001b[0;34m{\u001b[0m\u001b[0maxis_name\u001b[0m\u001b[0;34m:\u001b[0m \u001b[0mnew_axis\u001b[0m\u001b[0;34m}\u001b[0m\u001b[0;34m)\u001b[0m\u001b[0;34m\u001b[0m\u001b[0m\n\u001b[1;32m   1619\u001b[0m             \u001b[0;32mtry\u001b[0m\u001b[0;34m:\u001b[0m\u001b[0;34m\u001b[0m\u001b[0m\n",
      "\u001b[0;32m/Users/ingrid/anaconda/envs/py27/lib/python2.7/site-packages/pandas/core/index.pyc\u001b[0m in \u001b[0;36mdrop\u001b[0;34m(self, labels, errors)\u001b[0m\n\u001b[1;32m   2801\u001b[0m         \u001b[0;32mif\u001b[0m \u001b[0mmask\u001b[0m\u001b[0;34m.\u001b[0m\u001b[0many\u001b[0m\u001b[0;34m(\u001b[0m\u001b[0;34m)\u001b[0m\u001b[0;34m:\u001b[0m\u001b[0;34m\u001b[0m\u001b[0m\n\u001b[1;32m   2802\u001b[0m             \u001b[0;32mif\u001b[0m \u001b[0merrors\u001b[0m \u001b[0;34m!=\u001b[0m \u001b[0;34m'ignore'\u001b[0m\u001b[0;34m:\u001b[0m\u001b[0;34m\u001b[0m\u001b[0m\n\u001b[0;32m-> 2803\u001b[0;31m                 \u001b[0;32mraise\u001b[0m \u001b[0mValueError\u001b[0m\u001b[0;34m(\u001b[0m\u001b[0;34m'labels %s not contained in axis'\u001b[0m \u001b[0;34m%\u001b[0m \u001b[0mlabels\u001b[0m\u001b[0;34m[\u001b[0m\u001b[0mmask\u001b[0m\u001b[0;34m]\u001b[0m\u001b[0;34m)\u001b[0m\u001b[0;34m\u001b[0m\u001b[0m\n\u001b[0m\u001b[1;32m   2804\u001b[0m             \u001b[0mindexer\u001b[0m \u001b[0;34m=\u001b[0m \u001b[0mindexer\u001b[0m\u001b[0;34m[\u001b[0m\u001b[0;34m~\u001b[0m\u001b[0mmask\u001b[0m\u001b[0;34m]\u001b[0m\u001b[0;34m\u001b[0m\u001b[0m\n\u001b[1;32m   2805\u001b[0m         \u001b[0;32mreturn\u001b[0m \u001b[0mself\u001b[0m\u001b[0;34m.\u001b[0m\u001b[0mdelete\u001b[0m\u001b[0;34m(\u001b[0m\u001b[0mindexer\u001b[0m\u001b[0;34m)\u001b[0m\u001b[0;34m\u001b[0m\u001b[0m\n",
      "\u001b[0;31mValueError\u001b[0m: labels [ nan  nan  nan ...,  nan  nan  nan] not contained in axis"
     ]
    }
   ],
   "source": [
    "frequency_df.drop(frequency_df.start)"
   ]
  },
  {
   "cell_type": "code",
   "execution_count": 258,
   "metadata": {
    "collapsed": false
   },
   "outputs": [
    {
     "data": {
      "text/plain": [
       "(10000, 4)"
      ]
     },
     "execution_count": 258,
     "metadata": {},
     "output_type": "execute_result"
    }
   ],
   "source": [
    "frequency_df.shape"
   ]
  },
  {
   "cell_type": "code",
   "execution_count": 259,
   "metadata": {
    "collapsed": false
   },
   "outputs": [],
   "source": [
    "new_df = pd.concat([Nsample_df,frequency_df],axis=1)"
   ]
  },
  {
   "cell_type": "code",
   "execution_count": 260,
   "metadata": {
    "collapsed": false
   },
   "outputs": [
    {
     "data": {
      "text/plain": [
       "(10000, 11)"
      ]
     },
     "execution_count": 260,
     "metadata": {},
     "output_type": "execute_result"
    }
   ],
   "source": [
    "new_df.shape"
   ]
  },
  {
   "cell_type": "code",
   "execution_count": null,
   "metadata": {
    "collapsed": true
   },
   "outputs": [],
   "source": [
    "nucleotide_frequency(seq)"
   ]
  },
  {
   "cell_type": "code",
   "execution_count": 201,
   "metadata": {
    "collapsed": false
   },
   "outputs": [],
   "source": [
    "from sklearn.feature_extraction.text import CountVectorizer\n",
    "vectorizer = CountVectorizer(analyzer = 'char_wb', ngram_range=(1,3), min_df= 1)\n",
    "d = vectorizer.fit_transform(list(sample_df['seq']))\n"
   ]
  },
  {
   "cell_type": "code",
   "execution_count": null,
   "metadata": {
    "collapsed": true
   },
   "outputs": [],
   "source": []
  },
  {
   "cell_type": "code",
   "execution_count": 243,
   "metadata": {
    "collapsed": true
   },
   "outputs": [],
   "source": []
  },
  {
   "cell_type": "code",
   "execution_count": 98,
   "metadata": {
    "collapsed": false
   },
   "outputs": [
    {
     "data": {
      "text/plain": [
       "False"
      ]
     },
     "execution_count": 98,
     "metadata": {},
     "output_type": "execute_result"
    }
   ],
   "source": [
    "check_gene_state((37, 1438),annot,'C','F')"
   ]
  },
  {
   "cell_type": "code",
   "execution_count": 87,
   "metadata": {
    "collapsed": false
   },
   "outputs": [
    {
     "data": {
      "text/plain": [
       "u'ATGAAAAATAGTTGAAAACAATAGCGGTGTCCCCTTAAAATGGCTTTTCCACAGGTTGTGGAGAACCCAAATTAACAGTGTTAATTTATTTTCCACAGGTTGTGGAAAAACTAACTATTATCCATCGTTCTGTGGAAAACTAGAATAGTTTATGGTAGAATAGTTCTAGAATTATCCACAAGAAGGAACCTAGTATGA'"
      ]
     },
     "execution_count": 87,
     "metadata": {},
     "output_type": "execute_result"
    }
   ],
   "source": [
    "sample_df.iloc[1].seq"
   ]
  },
  {
   "cell_type": "code",
   "execution_count": null,
   "metadata": {
    "collapsed": true
   },
   "outputs": [],
   "source": [
    "df[\"sequence_s\"] =  df[['start', 'end']].apply(lambda x: data[x[0]:x[1]], axis=1)"
   ]
  },
  {
   "cell_type": "code",
   "execution_count": null,
   "metadata": {
    "collapsed": true
   },
   "outputs": [],
   "source": []
  },
  {
   "cell_type": "code",
   "execution_count": 6,
   "metadata": {
    "collapsed": true
   },
   "outputs": [],
   "source": []
  },
  {
   "cell_type": "code",
   "execution_count": 39,
   "metadata": {
    "collapsed": false
   },
   "outputs": [
    {
     "name": "stdout",
     "output_type": "stream",
     "text": [
      "50\n"
     ]
    }
   ],
   "source": [
    "result = [[l[1] for l in list(nucleotide_frequency(seg).items())] for seg in seg_50]\n",
    "df = pd.DataFrame(result)\n",
    "df.columns=[\"a\",\"c\",\"g\",\"t\"]\n",
    "df[\"gene\"] = gene_label(seg_50_an)\n",
    "\n",
    "gene_df = pd.DataFrame({\"label\":df.gene,\"sequence\": seg_50})"
   ]
  },
  {
   "cell_type": "code",
   "execution_count": 124,
   "metadata": {
    "collapsed": false
   },
   "outputs": [
    {
     "data": {
      "text/plain": [
       "'x'"
      ]
     },
     "execution_count": 124,
     "metadata": {},
     "output_type": "execute_result"
    }
   ],
   "source": [
    "str(u'x')"
   ]
  },
  {
   "cell_type": "code",
   "execution_count": 122,
   "metadata": {
    "collapsed": false
   },
   "outputs": [],
   "source": [
    "he = prior_state_emissions(data,annot)"
   ]
  },
  {
   "cell_type": "code",
   "execution_count": 123,
   "metadata": {
    "collapsed": false
   },
   "outputs": [
    {
     "data": {
      "text/plain": [
       "{u'C': ['C',\n",
       "  0,\n",
       "  {'A': 0.3129376364986609,\n",
       "   'C': 0.18263194813359745,\n",
       "   'G': 0.20960154402206216,\n",
       "   'T': 0.2948288713456795},\n",
       "  {'C': 0.39282114788001343, 'N': 0.0004367210615614748, 'R': 0.0}],\n",
       " u'N': ['N',\n",
       "  1,\n",
       "  {'A': 0.3190287760527498,\n",
       "   'C': 0.1789016522921669,\n",
       "   'G': 0.18693843939846827,\n",
       "   'T': 0.315131132256615},\n",
       "  {'C': 0.0004367210615614748,\n",
       "   'N': 0.2719266092685273,\n",
       "   'R': 0.000344950257525071}],\n",
       " u'R': ['R',\n",
       "  0,\n",
       "  {'A': 0.29606142439037003,\n",
       "   'C': 0.20997386780698055,\n",
       "   'G': 0.1825552662752494,\n",
       "   'T': 0.3114094415274},\n",
       "  {'C': 0.0, 'N': 0.000344950257525071, 'R': 0.3336883603850271}]}"
      ]
     },
     "execution_count": 123,
     "metadata": {},
     "output_type": "execute_result"
    }
   ],
   "source": [
    "he"
   ]
  },
  {
   "cell_type": "code",
   "execution_count": null,
   "metadata": {
    "collapsed": true
   },
   "outputs": [],
   "source": [
    "emi = emissions(data,annot)"
   ]
  },
  {
   "cell_type": "code",
   "execution_count": 100,
   "metadata": {
    "collapsed": false
   },
   "outputs": [],
   "source": [
    "trs = transitions(annot)"
   ]
  },
  {
   "cell_type": "code",
   "execution_count": null,
   "metadata": {
    "collapsed": false
   },
   "outputs": [],
   "source": [
    "# dir(hmm)\n",
    "from hmm import hmm"
   ]
  },
  {
   "cell_type": "code",
   "execution_count": 133,
   "metadata": {
    "collapsed": false
   },
   "outputs": [
    {
     "data": {
      "text/plain": [
       "{'A': 0.3190287760527498,\n",
       " 'C': 0.1789016522921669,\n",
       " 'G': 0.18693843939846827,\n",
       " 'T': 0.315131132256615}"
      ]
     },
     "execution_count": 133,
     "metadata": {},
     "output_type": "execute_result"
    }
   ],
   "source": [
    "he[u'N'][2]"
   ]
  },
  {
   "cell_type": "code",
   "execution_count": 136,
   "metadata": {
    "collapsed": false
   },
   "outputs": [],
   "source": [
    "NC = hmm.state(he[u'N'][0],he[u'N'][1],he[u'N'][2],he[u'N'][3])\n",
    "C = hmm.state(he[u'C'][0],he[u'C'][1],he[u'C'][2],he[u'C'][3])\n",
    "R = hmm.state(he[u'R'][0],he[u'R'][1],he[u'R'][2],he[u'R'][3])\n",
    "gene_model = hmm.hmm(['A','T','G','C'],[NC,C,R])"
   ]
  },
  {
   "cell_type": "code",
   "execution_count": 139,
   "metadata": {
    "collapsed": false
   },
   "outputs": [
    {
     "name": "stdout",
     "output_type": "stream",
     "text": [
      "('N', 'C', 'C', 'C'): -6.615035\n"
     ]
    },
    {
     "ename": "ValueError",
     "evalue": "math domain error",
     "output_type": "error",
     "traceback": [
      "\u001b[0;31m---------------------------------------------------------------------------\u001b[0m",
      "\u001b[0;31mValueError\u001b[0m                                Traceback (most recent call last)",
      "\u001b[0;32m<ipython-input-139-af260a53f2ee>\u001b[0m in \u001b[0;36m<module>\u001b[0;34m()\u001b[0m\n\u001b[0;32m----> 1\u001b[0;31m \u001b[0mgene_model\u001b[0m\u001b[0;34m.\u001b[0m\u001b[0menumerate\u001b[0m\u001b[0;34m(\u001b[0m\u001b[0;34m'ATGC'\u001b[0m\u001b[0;34m)\u001b[0m\u001b[0;34m\u001b[0m\u001b[0m\n\u001b[0m",
      "\u001b[0;32m/Users/ingrid/Downloads/hmm/hmm.py\u001b[0m in \u001b[0;36menumerate\u001b[0;34m(self, observed)\u001b[0m\n\u001b[1;32m    173\u001b[0m         \u001b[0mbest_score\u001b[0m \u001b[0;34m=\u001b[0m \u001b[0mNone\u001b[0m\u001b[0;34m\u001b[0m\u001b[0m\n\u001b[1;32m    174\u001b[0m         \u001b[0;32mfor\u001b[0m \u001b[0mseq\u001b[0m \u001b[0;32min\u001b[0m \u001b[0mitertools\u001b[0m\u001b[0;34m.\u001b[0m\u001b[0mproduct\u001b[0m\u001b[0;34m(\u001b[0m\u001b[0mself\u001b[0m\u001b[0;34m.\u001b[0m\u001b[0mstates\u001b[0m\u001b[0;34m.\u001b[0m\u001b[0mkeys\u001b[0m\u001b[0;34m(\u001b[0m\u001b[0;34m)\u001b[0m\u001b[0;34m,\u001b[0m \u001b[0mrepeat\u001b[0m\u001b[0;34m=\u001b[0m\u001b[0mlen\u001b[0m\u001b[0;34m(\u001b[0m\u001b[0mobserved\u001b[0m\u001b[0;34m)\u001b[0m\u001b[0;34m)\u001b[0m\u001b[0;34m:\u001b[0m\u001b[0;34m\u001b[0m\u001b[0m\n\u001b[0;32m--> 175\u001b[0;31m             \u001b[0ms\u001b[0m \u001b[0;34m=\u001b[0m \u001b[0mself\u001b[0m\u001b[0;34m.\u001b[0m\u001b[0mscore\u001b[0m\u001b[0;34m(\u001b[0m\u001b[0mseq\u001b[0m\u001b[0;34m,\u001b[0m \u001b[0mobserved\u001b[0m\u001b[0;34m)\u001b[0m\u001b[0;34m\u001b[0m\u001b[0m\n\u001b[0m\u001b[1;32m    176\u001b[0m             \u001b[0;32mif\u001b[0m \u001b[0ms\u001b[0m \u001b[0;32mis\u001b[0m \u001b[0;32mnot\u001b[0m \u001b[0mNone\u001b[0m\u001b[0;34m:\u001b[0m\u001b[0;34m\u001b[0m\u001b[0m\n\u001b[1;32m    177\u001b[0m                 \u001b[0;32mprint\u001b[0m \u001b[0;34m'%s: %f'\u001b[0m \u001b[0;34m%\u001b[0m \u001b[0;34m(\u001b[0m\u001b[0mseq\u001b[0m\u001b[0;34m,\u001b[0m \u001b[0ms\u001b[0m\u001b[0;34m)\u001b[0m\u001b[0;34m\u001b[0m\u001b[0m\n",
      "\u001b[0;32m/Users/ingrid/Downloads/hmm/hmm.py\u001b[0m in \u001b[0;36mscore\u001b[0;34m(self, seq_state, seq_observed)\u001b[0m\n\u001b[1;32m    134\u001b[0m                     \u001b[0;32mreturn\u001b[0m \u001b[0mNone\u001b[0m\u001b[0;34m\u001b[0m\u001b[0m\n\u001b[1;32m    135\u001b[0m \u001b[0;34m\u001b[0m\u001b[0m\n\u001b[0;32m--> 136\u001b[0;31m                 \u001b[0mp\u001b[0m \u001b[0;34m+=\u001b[0m \u001b[0mmath\u001b[0m\u001b[0;34m.\u001b[0m\u001b[0mlog10\u001b[0m\u001b[0;34m(\u001b[0m\u001b[0mstate_prev\u001b[0m\u001b[0;34m.\u001b[0m\u001b[0mp_transition\u001b[0m\u001b[0;34m[\u001b[0m\u001b[0mseq_state\u001b[0m\u001b[0;34m[\u001b[0m\u001b[0mi\u001b[0m\u001b[0;34m]\u001b[0m\u001b[0;34m]\u001b[0m\u001b[0;34m)\u001b[0m\u001b[0;34m\u001b[0m\u001b[0m\n\u001b[0m\u001b[1;32m    137\u001b[0m \u001b[0;34m\u001b[0m\u001b[0m\n\u001b[1;32m    138\u001b[0m             \u001b[0;31m# check that this state can emit the observed alphabet symbol\u001b[0m\u001b[0;34m\u001b[0m\u001b[0;34m\u001b[0m\u001b[0m\n",
      "\u001b[0;31mValueError\u001b[0m: math domain error"
     ]
    }
   ],
   "source": [
    "gene_model.enumerate('ATGC')"
   ]
  },
  {
   "cell_type": "code",
   "execution_count": 83,
   "metadata": {
    "collapsed": false
   },
   "outputs": [],
   "source": [
    "s1 = hmm.state(\n",
    "        'S1',            # name of the state\n",
    "        0.5,             # probability of being the initial state\n",
    "        { '1': 0.5,      # probability of emitting a '1' at each visit\n",
    "          '2': 0.5 },    # probability of emitting a '2' at each visit\n",
    "        { 'S1': 0.9,     # probability of transitioning to itself\n",
    "          'S2': 0.1 })   # probability of transitioning to state 'S2'\n",
    "s2 = hmm.state('S2', 0.5,\n",
    "        { '1': 0.25, '2': 0.75 },\n",
    "        { 'S1': 0.8, 'S2': 0.2 })\n",
    "model = hmm.hmm(['1', '2'],  # all symbols that can be emitted\n",
    "                [s1, s2])    # all of the states in this HMM"
   ]
  },
  {
   "cell_type": "code",
   "execution_count": null,
   "metadata": {
    "collapsed": true
   },
   "outputs": [],
   "source": [
    "model = hmm.hmm(['A', 'C','T','G'],  # all symbols that can be emitted\n",
    "                [s1, s2])"
   ]
  },
  {
   "cell_type": "code",
   "execution_count": 84,
   "metadata": {
    "collapsed": false
   },
   "outputs": [
    {
     "name": "stdout",
     "output_type": "stream",
     "text": [
      "('S2', 'S2', 'S2'): -2.073786\n",
      "('S2', 'S2', 'S1'): -1.647817\n",
      "('S2', 'S1', 'S2'): -1.948847\n",
      "('S2', 'S1', 'S1'): -1.170696\n",
      "('S1', 'S2', 'S2'): -2.550907\n",
      "('S1', 'S2', 'S1'): -2.124939\n",
      "('S1', 'S1', 'S2'): -2.073786\n",
      "('S1', 'S1', 'S1'): -1.295635\n",
      "BEST: ('S2', 'S1', 'S1'): -1.170696\n"
     ]
    }
   ],
   "source": [
    "model.enumerate('222')"
   ]
  },
  {
   "cell_type": "code",
   "execution_count": 45,
   "metadata": {
    "collapsed": false
   },
   "outputs": [],
   "source": [
    "training_data = build_training_data(annot,data)"
   ]
  },
  {
   "cell_type": "code",
   "execution_count": 58,
   "metadata": {
    "collapsed": true
   },
   "outputs": [],
   "source": [
    "import hmm"
   ]
  },
  {
   "cell_type": "code",
   "execution_count": 57,
   "metadata": {
    "collapsed": false
   },
   "outputs": [
    {
     "ename": "TypeError",
     "evalue": "'module' object is not callable",
     "output_type": "error",
     "traceback": [
      "\u001b[0;31m---------------------------------------------------------------------------\u001b[0m",
      "\u001b[0;31mTypeError\u001b[0m                                 Traceback (most recent call last)",
      "\u001b[0;32m<ipython-input-57-df4d22853628>\u001b[0m in \u001b[0;36m<module>\u001b[0;34m()\u001b[0m\n\u001b[0;32m----> 1\u001b[0;31m \u001b[0mtabul\u001b[0m \u001b[0;34m=\u001b[0m \u001b[0mhmm\u001b[0m\u001b[0;34m(\u001b[0m\u001b[0mdata\u001b[0m\u001b[0;34m,\u001b[0m \u001b[0mannot\u001b[0m\u001b[0;34m)\u001b[0m\u001b[0;34m\u001b[0m\u001b[0m\n\u001b[0m",
      "\u001b[0;31mTypeError\u001b[0m: 'module' object is not callable"
     ]
    }
   ],
   "source": [
    "tabul = hmm(data, annot)"
   ]
  },
  {
   "cell_type": "code",
   "execution_count": 54,
   "metadata": {
    "collapsed": false
   },
   "outputs": [
    {
     "ename": "NameError",
     "evalue": "global name 'state' is not defined",
     "output_type": "error",
     "traceback": [
      "\u001b[0;31m---------------------------------------------------------------------------\u001b[0m",
      "\u001b[0;31mNameError\u001b[0m                                 Traceback (most recent call last)",
      "\u001b[0;32m<ipython-input-54-a64a5c4f888d>\u001b[0m in \u001b[0;36m<module>\u001b[0;34m()\u001b[0m\n\u001b[0;32m----> 1\u001b[0;31m \u001b[0mtrain_hmm\u001b[0m\u001b[0;34m(\u001b[0m\u001b[0mtraining_data\u001b[0m\u001b[0;34m)\u001b[0m\u001b[0;34m\u001b[0m\u001b[0m\n\u001b[0m",
      "\u001b[0;32m<ipython-input-49-85de8a1f7edf>\u001b[0m in \u001b[0;36mtrain_hmm\u001b[0;34m(training_data, include_terminal_state)\u001b[0m\n\u001b[1;32m     28\u001b[0m     \u001b[0mstates\u001b[0m \u001b[0;34m=\u001b[0m \u001b[0;34m[\u001b[0m\u001b[0;34m]\u001b[0m\u001b[0;34m\u001b[0m\u001b[0m\n\u001b[1;32m     29\u001b[0m     \u001b[0;32mfor\u001b[0m \u001b[0ms_name\u001b[0m \u001b[0;32min\u001b[0m \u001b[0mstate_names\u001b[0m\u001b[0;34m:\u001b[0m\u001b[0;34m\u001b[0m\u001b[0m\n\u001b[0;32m---> 30\u001b[0;31m         \u001b[0mstates\u001b[0m\u001b[0;34m.\u001b[0m\u001b[0mappend\u001b[0m\u001b[0;34m(\u001b[0m\u001b[0mstate\u001b[0m\u001b[0;34m(\u001b[0m\u001b[0ms_name\u001b[0m\u001b[0;34m,\u001b[0m \u001b[0;36m0.0\u001b[0m\u001b[0;34m,\u001b[0m \u001b[0mNone\u001b[0m\u001b[0;34m,\u001b[0m \u001b[0mNone\u001b[0m\u001b[0;34m)\u001b[0m\u001b[0;34m)\u001b[0m\u001b[0;34m\u001b[0m\u001b[0m\n\u001b[0m\u001b[1;32m     31\u001b[0m \u001b[0;34m\u001b[0m\u001b[0m\n\u001b[1;32m     32\u001b[0m     \u001b[0;31m# calculate the initial probabilities\u001b[0m\u001b[0;34m\u001b[0m\u001b[0;34m\u001b[0m\u001b[0m\n",
      "\u001b[0;31mNameError\u001b[0m: global name 'state' is not defined"
     ]
    }
   ],
   "source": [
    "train_hmm(training_data)"
   ]
  },
  {
   "cell_type": "code",
   "execution_count": null,
   "metadata": {
    "collapsed": true
   },
   "outputs": [],
   "source": []
  },
  {
   "cell_type": "code",
   "execution_count": null,
   "metadata": {
    "collapsed": false
   },
   "outputs": [],
   "source": [
    "emissions(data,annot)"
   ]
  },
  {
   "cell_type": "code",
   "execution_count": null,
   "metadata": {
    "collapsed": true
   },
   "outputs": [],
   "source": []
  },
  {
   "cell_type": "code",
   "execution_count": null,
   "metadata": {
    "collapsed": false
   },
   "outputs": [],
   "source": [
    "set(data)"
   ]
  },
  {
   "cell_type": "code",
   "execution_count": null,
   "metadata": {
    "collapsed": false
   },
   "outputs": [],
   "source": [
    "# two_state_transitions(annot,1)\n",
    "two_state_emissions(data,annot,1)\n",
    "# str(annot[0]) == \"N\""
   ]
  },
  {
   "cell_type": "code",
   "execution_count": null,
   "metadata": {
    "collapsed": true
   },
   "outputs": [],
   "source": []
  },
  {
   "cell_type": "code",
   "execution_count": null,
   "metadata": {
    "collapsed": false
   },
   "outputs": [],
   "source": [
    "reverse_complement(\"aaatttgggcca\")"
   ]
  },
  {
   "cell_type": "code",
   "execution_count": null,
   "metadata": {
    "collapsed": true
   },
   "outputs": [],
   "source": []
  },
  {
   "cell_type": "code",
   "execution_count": null,
   "metadata": {
    "collapsed": true
   },
   "outputs": [],
   "source": []
  },
  {
   "cell_type": "code",
   "execution_count": null,
   "metadata": {
    "collapsed": true
   },
   "outputs": [],
   "source": [
    "df[\"sequence\"] = gene_df.sequence\n",
    "df[\"start\"] = gene_df.sequence.apply(lambda seq: \"ATG\" in seq)\n",
    "df[\"stop\"] = gene_df.sequence.apply(lambda seq: any(x in seq for x in [\"TAA\", \"TAG\", \"TGA\"]))\n",
    "# df.iloc[0].sequence"
   ]
  },
  {
   "cell_type": "code",
   "execution_count": null,
   "metadata": {
    "collapsed": true
   },
   "outputs": [],
   "source": [
    "# from collections import defaultdict\n",
    "def aa_find(seq):\n",
    "    codon_count = {}\n",
    "    for aa, codons in codon_map.items():\n",
    "        codon_count[aa] = 0\n",
    "        if any(x in seq for x in codons):\n",
    "            codon_count[aa] += 1\n",
    "    return codon_count"
   ]
  },
  {
   "cell_type": "code",
   "execution_count": null,
   "metadata": {
    "collapsed": false
   },
   "outputs": [],
   "source": [
    "df[\"dict\"] = gene_df.sequence.apply(lambda seq: aa_find(seq)) "
   ]
  },
  {
   "cell_type": "code",
   "execution_count": null,
   "metadata": {
    "collapsed": false
   },
   "outputs": [],
   "source": [
    "aa_counts = pd.DataFrame(list(df[\"dict\"]))"
   ]
  },
  {
   "cell_type": "code",
   "execution_count": null,
   "metadata": {
    "collapsed": false
   },
   "outputs": [],
   "source": [
    "# aa_counts[[\"a\"],[\"c\"],[\"g\"],[\"t\"],[\"gene\"]] = [[df.a],[df.c],[df.g],[df.t],[df.gene]]\n",
    "# aa_counts[[\"a\"]]\n",
    "aa_counts[\"a\"] = df.a\n",
    "aa_counts[\"c\"] = df.c\n",
    "aa_counts[\"g\"] = df.g\n",
    "aa_counts[\"t\"] = df.t\n",
    "aa_counts[\"gene\"] = df.gene\n"
   ]
  },
  {
   "cell_type": "code",
   "execution_count": null,
   "metadata": {
    "collapsed": false
   },
   "outputs": [],
   "source": [
    "df.shape"
   ]
  },
  {
   "cell_type": "code",
   "execution_count": null,
   "metadata": {
    "collapsed": false
   },
   "outputs": [],
   "source": [
    "a = []\n",
    "a.append(aa_find(df.iloc[1].sequence).values())\n",
    "a.append(aa_find(df.iloc[2].sequence).values())\n",
    "a.append(aa_find(df.iloc[3].sequence).values())\n",
    "pd.DataFrame(a)"
   ]
  },
  {
   "cell_type": "code",
   "execution_count": null,
   "metadata": {
    "collapsed": false
   },
   "outputs": [],
   "source": [
    "[a[1] for a in aa_find(df.iloc[1].sequence).items()]"
   ]
  },
  {
   "cell_type": "code",
   "execution_count": null,
   "metadata": {
    "collapsed": false
   },
   "outputs": [],
   "source": [
    "aa_find(df.iloc[1].sequence).items()"
   ]
  },
  {
   "cell_type": "code",
   "execution_count": null,
   "metadata": {
    "collapsed": false
   },
   "outputs": [],
   "source": [
    "codon_to_aa.items()\n",
    "codon_map.items()"
   ]
  },
  {
   "cell_type": "markdown",
   "metadata": {},
   "source": [
    "\n",
    "## Feature Development"
   ]
  },
  {
   "cell_type": "code",
   "execution_count": null,
   "metadata": {
    "collapsed": true
   },
   "outputs": [],
   "source": [
    "# ngrams\n",
    "- 3 grams, which frame?, relationship between subsequent sequence fragments.\n",
    "... am I next to a fragment"
   ]
  },
  {
   "cell_type": "code",
   "execution_count": null,
   "metadata": {
    "collapsed": false
   },
   "outputs": [],
   "source": [
    "\"atg\" in \"gowijgoijatgsoijdfo\""
   ]
  },
  {
   "cell_type": "code",
   "execution_count": null,
   "metadata": {
    "collapsed": false
   },
   "outputs": [],
   "source": [
    "gene_df.sequence[0]"
   ]
  },
  {
   "cell_type": "code",
   "execution_count": null,
   "metadata": {
    "collapsed": true
   },
   "outputs": [],
   "source": [
    "from sklearn.feature_extraction.text import CountVectorizer\n",
    "vectorizer = CountVectorizer(analyzer = 'char_wb', ngram_range=(1,3), min_df= 1)\n",
    "d = vectorizer.fit_transform(list(gene_df['sequence']))"
   ]
  },
  {
   "cell_type": "code",
   "execution_count": null,
   "metadata": {
    "collapsed": false
   },
   "outputs": [],
   "source": [
    "def frameShift(seq,shift):\n",
    "    new_seq = ''\n",
    "    for j, i in enumerate(seq):\n",
    "        if j % shift == 0:\n",
    "            new_seq = new_seq + i + ' '\n",
    "        else: \n",
    "            new_seq = new_seq + i\n",
    "    return new_seq\n",
    "\n",
    "\n",
    "fs = [frameShift(seq,3) for seq in gene_df.sequence]"
   ]
  },
  {
   "cell_type": "code",
   "execution_count": null,
   "metadata": {
    "collapsed": false
   },
   "outputs": [],
   "source": [
    "fs[0]"
   ]
  },
  {
   "cell_type": "code",
   "execution_count": null,
   "metadata": {
    "collapsed": true
   },
   "outputs": [],
   "source": [
    "from sklearn.feature_extraction.text import CountVectorizer\n",
    "vectorizer = CountVectorizer(analyzer = 'char_wb', ngram_range=(3,3), min_df= 1)\n",
    "d = vectorizer.fit_transform(fs)"
   ]
  },
  {
   "cell_type": "code",
   "execution_count": null,
   "metadata": {
    "collapsed": false
   },
   "outputs": [],
   "source": [
    "fs[0]"
   ]
  },
  {
   "cell_type": "code",
   "execution_count": null,
   "metadata": {
    "collapsed": false,
    "scrolled": true
   },
   "outputs": [],
   "source": [
    "x = vectorizer.vocabulary_.copy()\n",
    "my_dict2 = dict((y,str(x)) for x,y in x.iteritems())"
   ]
  },
  {
   "cell_type": "code",
   "execution_count": null,
   "metadata": {
    "collapsed": false
   },
   "outputs": [],
   "source": [
    "my_dict2 = dict((y,str(x)) for x,y in x.iteritems())"
   ]
  },
  {
   "cell_type": "code",
   "execution_count": null,
   "metadata": {
    "collapsed": false
   },
   "outputs": [],
   "source": [
    "my_dict2"
   ]
  },
  {
   "cell_type": "code",
   "execution_count": null,
   "metadata": {
    "collapsed": false
   },
   "outputs": [],
   "source": [
    "nx = [x.pop(val) for val in vectorizer.vocabulary_ if len(val.strip()) != 3]\n"
   ]
  },
  {
   "cell_type": "code",
   "execution_count": null,
   "metadata": {
    "collapsed": false
   },
   "outputs": [],
   "source": [
    "gg = list(d)"
   ]
  },
  {
   "cell_type": "code",
   "execution_count": null,
   "metadata": {
    "collapsed": false
   },
   "outputs": [],
   "source": [
    "len(gg)"
   ]
  },
  {
   "cell_type": "code",
   "execution_count": null,
   "metadata": {
    "collapsed": false
   },
   "outputs": [],
   "source": [
    "len(d.indptr)\n",
    "len(d.data)"
   ]
  },
  {
   "cell_type": "code",
   "execution_count": null,
   "metadata": {
    "collapsed": false
   },
   "outputs": [],
   "source": [
    "test = gg[0]"
   ]
  },
  {
   "cell_type": "code",
   "execution_count": null,
   "metadata": {
    "collapsed": false
   },
   "outputs": [],
   "source": [
    "import pandas as pd\n",
    "\n",
    "l = []\n",
    "for i in range(len(gg)):\n",
    "    doc = gg[i]\n",
    "    l.append(pd.DataFrame({\"doc\":i,\"index\":doc.indices,\"count\":doc.data}))\n",
    "dum = pd.concat(l)\n",
    "# df2 = pd.DataFrame({\"index\":doc.indices,\"count\":doc.data})\n",
    "# df2\n"
   ]
  },
  {
   "cell_type": "code",
   "execution_count": null,
   "metadata": {
    "collapsed": false
   },
   "outputs": [],
   "source": [
    "len(set(dum.doc))"
   ]
  },
  {
   "cell_type": "code",
   "execution_count": null,
   "metadata": {
    "collapsed": false
   },
   "outputs": [],
   "source": [
    "dum.index"
   ]
  },
  {
   "cell_type": "code",
   "execution_count": null,
   "metadata": {
    "collapsed": false
   },
   "outputs": [],
   "source": [
    "x = vectorizer.vocabulary_.copy()\n",
    "my_dict2 = dict((y,str(x)) for x,y in x.iteritems())\n",
    "dum[\"codon\"] = dum['index'].apply(lambda ind: my_dict2[ind])\n",
    "codonCount = dum[dum.codon.apply(lambda v: len(v.strip())) == 3]"
   ]
  },
  {
   "cell_type": "code",
   "execution_count": null,
   "metadata": {
    "collapsed": false
   },
   "outputs": [],
   "source": [
    "codonCount = dum[dum.codon.apply(lambda v: len(v.strip())) == 3]\n",
    "# dum.codon.apply(lambda v: len(v.strip()))"
   ]
  },
  {
   "cell_type": "code",
   "execution_count": null,
   "metadata": {
    "collapsed": false
   },
   "outputs": [],
   "source": [
    "codonCount"
   ]
  },
  {
   "cell_type": "code",
   "execution_count": null,
   "metadata": {
    "collapsed": true
   },
   "outputs": [],
   "source": [
    "ngrams = list(vectorizer.get_feature_names())\n",
    "[gram.strip() for gram in ngrams if len(gram.strip()) == 3]\n",
    "\n",
    "\n"
   ]
  },
  {
   "cell_type": "code",
   "execution_count": null,
   "metadata": {
    "collapsed": false
   },
   "outputs": [],
   "source": [
    "df"
   ]
  },
  {
   "cell_type": "code",
   "execution_count": null,
   "metadata": {
    "collapsed": false
   },
   "outputs": [],
   "source": [
    "codon_map = {\"I\":[\"ATT\", \"ATC\", \"ATA\"],\"L\":[\"CTT\", \"CTC\", \"CTA\", \"CTG\", \"TTA\",\" TTG\"],\n",
    "          \"V\":[\"GTT\", \"GTC\", \"GTA\", \"GTG\"],\"F\":[\"TTT\", \"TTC\"],\"M\":[\"ATG\"],\"C\":[\"TGT\", \"TGC\"],\n",
    "          \"A\":[\"GCT\", \"GCC\", \"GCA\", \"GCG\"],\"G\":[\"GGT\", \"GGC\", \"GGA\", \"GGG\"],\n",
    "          \"P\":[\"CCT\", \"CCC\", \"CCA\", \"CCG\"],\n",
    "          \"T\":[\"ACT\", \"ACC\", \"ACA\", \"ACG\"],\"S\":[\"TCT\", \"TCC\", \"TCA\", \"TCG\", \"AGT\", \"AGC\"],\n",
    "          \"Y\":[\"TAT\", \"TAC\"],\"W\":[\"TGG\"],\"Q\":[\"CAA\", \"CAG\"],\"N\":[\"AAT\", \"AAC\"],\"H\":[\"CAT\", \"CAC\"],\n",
    "             \"E\":[\"GAA\", \"GAG\"],\"D\":[\"GAT\", \"GAC\"],\"K\":[\"AAA\", \"AAG\"],\n",
    "             \"R\":[\"CGT\", \"CGC\", \"CGA\", \"CGG\",\"AGA\", \"AGG\"],\"Stop\":[\"TAA\", \"TAG\", \"TGA\"]}\n",
    "def invert(d):\n",
    "    return dict( (v,k) for k in d for v in d[k] )\n",
    "codon_to_aa = invert(codon_map)\n",
    "\n",
    "def codonToAA(strand):\n",
    "    aa_seq = ''.join([codon_to_aa(codon) for codon in strand])\n",
    "    return aa_seq"
   ]
  },
  {
   "cell_type": "code",
   "execution_count": null,
   "metadata": {
    "collapsed": false
   },
   "outputs": [],
   "source": [
    "codon_to_aa\n",
    "\n",
    "#e"
   ]
  },
  {
   "cell_type": "code",
   "execution_count": null,
   "metadata": {
    "collapsed": true
   },
   "outputs": [],
   "source": [
    "def codonToAA(strand):\n",
    "    aa_seq = ''.join([codon_to_aa(codon) for codon in strand])\n",
    "    return aa_seq\n"
   ]
  },
  {
   "cell_type": "code",
   "execution_count": null,
   "metadata": {
    "collapsed": false
   },
   "outputs": [],
   "source": [
    "new_seq"
   ]
  },
  {
   "cell_type": "code",
   "execution_count": null,
   "metadata": {
    "collapsed": false
   },
   "outputs": [],
   "source": [
    "ngrams = list(vectorizer.get_feature_names())\n",
    "ngrams\n"
   ]
  },
  {
   "cell_type": "code",
   "execution_count": null,
   "metadata": {
    "collapsed": true
   },
   "outputs": [],
   "source": [
    "## amino acid to nucleotide chart http://www.cbs.dtu.dk/courses/27619/codon.html\n",
    "aa = [\"I\",\"L\",\"V\",\"F\",\"M\",\"C\",\"A\",\"G\",\"P\",\"T\",\"S\",\"Y\",\"W\",\"Q\",\"N\",\"H\",\"E\",\"D\",\"K\",\"R\",\"STOP\"]\n",
    "aa_name = [\"Isoleucine\",\"Leucine\",\"Valine\",\"Phenylalanine\",\"Methionine\",\"Cysteine\",\"Alanine\",\n",
    "           \"Glycine\",\"Proline\",\"Threonine\",\"Serine\",\"Tyrosine\",\"Tryptophan\",\n",
    "           \"Glutamine\",\"Asparagine\",\"Histidine\",\"Glutamic_acid\", \"Aspartic_acid\", \n",
    "           \"Lysine\",\"Arginine\",\"Stop_codons\"]\n",
    "codons = [[\"ATT\", \"ATC\", \"ATA\"],[\"CTT\", \"CTC\", \"CTA\", \"CTG\", \"TTA\",\" TTG\"],\n",
    "          [\"GTT\", \"GTC\", \"GTA\", \"GTG\"],[\"TTT\", \"TTC\"],[\"ATG\"],[\"TGT\", \"TGC\"],\n",
    "          [\"GCT\", \"GCC\", \"GCA\", \"GCG\"],[\"GGT\", \"GGC\", \"GGA\", \"GGG\"],\n",
    "          [\"CCT\", \"CCC\", \"CCA\", \"CCG\"],\n",
    "          [\"ACT\", \"ACC\", \"ACA\", \"ACG\"],[\"TCT\", \"TCC\", \"TCA\", \"TCG\", \"AGT\", \"AGC\"],\n",
    "          [\"TAT\", \"TAC\"],[\"TGG\"],[\"CAA\", \"CAG\"],[\"AAT\", \"AAC\"],[\"CAT\", \"CAC\"],[\"GAA\", \"GAG\"],\n",
    "          [\"GAT\", \"GAC\"],[\"AAA\", \"AAG\"],[\"CGT\", \"CGC\", \"CGA\", \"CGG\",\"AGA\", \"AGG\"],\n",
    "          [\"TAA\", \"TAG\", \"TGA\"]]\n",
    "\n",
    "codon_map = {\"I\":[\"ATT\", \"ATC\", \"ATA\"],\"L\":[\"CTT\", \"CTC\", \"CTA\", \"CTG\", \"TTA\",\" TTG\"],\n",
    "          \"V\":[\"GTT\", \"GTC\", \"GTA\", \"GTG\"],\"F\":[\"TTT\", \"TTC\"],\"M\":[\"ATG\"],\"C\":[\"TGT\", \"TGC\"],\n",
    "          \"A\":[\"GCT\", \"GCC\", \"GCA\", \"GCG\"],\"G\":[\"GGT\", \"GGC\", \"GGA\", \"GGG\"],\n",
    "          \"P\":[\"CCT\", \"CCC\", \"CCA\", \"CCG\"],\n",
    "          \"T\":[\"ACT\", \"ACC\", \"ACA\", \"ACG\"],\"S\":[\"TCT\", \"TCC\", \"TCA\", \"TCG\", \"AGT\", \"AGC\"],\n",
    "          \"Y\":[\"TAT\", \"TAC\"],\"W\":[\"TGG\"],\"Q\"[\"CAA\", \"CAG\"],\"N\":[\"AAT\", \"AAC\"],\"H\":[\"CAT\", \"CAC\"],\n",
    "             \"E\":[\"GAA\", \"GAG\"],\"D\":[\"GAT\", \"GAC\"],\"K\":[\"AAA\", \"AAG\"],\n",
    "             \"R\":[\"CGT\", \"CGC\", \"CGA\", \"CGG\",\"AGA\", \"AGG\"],\"Stop\":[\"TAA\", \"TAG\", \"TGA\"]}\n",
    "def invert(d):\n",
    "    return dict( (v,k) for k in d for v in d[k] )\n",
    "# aa_properties\n",
    "Aliphatic: Alanine,Isoleucine,Leucine,Valine\n",
    "Aromatic: Phenylalanine, Tryptophan, Tyrosine\n",
    "Polar_neutral: Asparagine, Cysteine, Glutamine, Methionine,Serine,Threonine\n",
    "charged: Aspartic acid, Glutamic acid\n",
    "    \n",
    "Properties table\n",
    "https://www.thermofisher.com/us/en/home/life-science/protein-biology/protein-biology-learning-center/protein-biology-resource-library/pierce-protein-methods/amino-acid-physical-properties.html\n",
    "\n",
    "http://www.ncbi.nlm.nih.gov/pmc/articles/PMC3456822/pdf/10867_2004_Article_396406.pdf\n",
    "\n",
    "http://www.proteinstructures.com/Structure/Structure/amino-acids.html"
   ]
  },
  {
   "cell_type": "code",
   "execution_count": null,
   "metadata": {
    "collapsed": false
   },
   "outputs": [],
   "source": [
    "codon_map = {\"I\":[\"ATT\", \"ATC\", \"ATA\"],\"L\":[\"CTT\", \"CTC\", \"CTA\", \"CTG\", \"TTA\",\" TTG\"],\n",
    "          \"V\":[\"GTT\", \"GTC\", \"GTA\", \"GTG\"],\"F\":[\"TTT\", \"TTC\"],\"M\":[\"ATG\"],\"C\":[\"TGT\", \"TGC\"],\n",
    "          \"A\":[\"GCT\", \"GCC\", \"GCA\", \"GCG\"],\"G\":[\"GGT\", \"GGC\", \"GGA\", \"GGG\"],\n",
    "          \"P\":[\"CCT\", \"CCC\", \"CCA\", \"CCG\"],\n",
    "          \"T\":[\"ACT\", \"ACC\", \"ACA\", \"ACG\"],\"S\":[\"TCT\", \"TCC\", \"TCA\", \"TCG\", \"AGT\", \"AGC\"],\n",
    "          \"Y\":[\"TAT\", \"TAC\"],\"W\":[\"TGG\"],\"Q\":[\"CAA\", \"CAG\"],\"N\":[\"AAT\", \"AAC\"],\"H\":[\"CAT\", \"CAC\"],\n",
    "             \"E\":[\"GAA\", \"GAG\"],\"D\":[\"GAT\", \"GAC\"],\"K\":[\"AAA\", \"AAG\"],\n",
    "             \"R\":[\"CGT\", \"CGC\", \"CGA\", \"CGG\",\"AGA\", \"AGG\"],\"Stop\":[\"TAA\", \"TAG\", \"TGA\"]}\n",
    "def invert(d):\n",
    "    return dict( (v,k) for k in d for v in d[k] )\n",
    "codon_to_aa = invert(codon_map)"
   ]
  },
  {
   "cell_type": "code",
   "execution_count": null,
   "metadata": {
    "collapsed": false
   },
   "outputs": [],
   "source": [
    "codon_to_aa"
   ]
  },
  {
   "cell_type": "markdown",
   "metadata": {
    "collapsed": true
   },
   "source": [
    "## Model testing"
   ]
  },
  {
   "cell_type": "code",
   "execution_count": 339,
   "metadata": {
    "collapsed": true
   },
   "outputs": [],
   "source": [
    "from sklearn.linear_model import LogisticRegression\n",
    "from sklearn.naive_bayes import GaussianNB\n",
    "from sklearn.svm import SVC\n",
    "from sklearn.tree import DecisionTreeClassifier\n",
    "from sklearn.ensemble import RandomForestClassifier\n",
    "from sklearn.neighbors import KNeighborsClassifier\n",
    "\n",
    "from sklearn.metrics import accuracy_score, classification_report\n",
    "\n",
    "\n",
    "from sklearn.learning_curve import learning_curve\n",
    "\n",
    "from sklearn.cross_validation import train_test_split, KFold, cross_val_score"
   ]
  },
  {
   "cell_type": "code",
   "execution_count": null,
   "metadata": {
    "collapsed": false
   },
   "outputs": [],
   "source": [
    "# x = df[[\"a\",\"c\",\"g\",\"t\",\"start\",\"stop\"]]\n",
    "y = df.gene\n",
    "x = aa_counts.drop('gene', 1)"
   ]
  },
  {
   "cell_type": "code",
   "execution_count": 351,
   "metadata": {
    "collapsed": false
   },
   "outputs": [],
   "source": [
    "y = y.apply(lambda x: int(x))"
   ]
  },
  {
   "cell_type": "code",
   "execution_count": 352,
   "metadata": {
    "collapsed": false
   },
   "outputs": [
    {
     "name": "stdout",
     "output_type": "stream",
     "text": [
      "RandomForestClassifier Accuracy Score : 0.999500\n",
      "DecisionTreeClassifier Accuracy Score : 0.669966\n",
      "GaussianNB Accuracy Score : 0.996001\n",
      "SVC Accuracy Score : 0.999500\n",
      "KNeighborsClassifier Accuracy Score : 0.999500\n",
      "LogisticRegression Accuracy Score : 0.996901\n"
     ]
    }
   ],
   "source": [
    "algorithms = [RandomForestClassifier(), DecisionTreeClassifier(), GaussianNB(), \n",
    "              SVC(), KNeighborsClassifier(n_neighbors=6), LogisticRegression()]\n",
    "\n",
    "for algo in algorithms:\n",
    "    accuracy = cross_val_score(algo,x,y)\n",
    "    print(\"{:s} Accuracy Score : {:f}\".format(str(algo).split('(', 1)[0],accuracy.mean()))"
   ]
  },
  {
   "cell_type": "code",
   "execution_count": 52,
   "metadata": {
    "collapsed": true
   },
   "outputs": [],
   "source": [
    "import hmm"
   ]
  },
  {
   "cell_type": "code",
   "execution_count": null,
   "metadata": {
    "collapsed": true
   },
   "outputs": [],
   "source": []
  }
 ],
 "metadata": {
  "kernelspec": {
   "display_name": "Python 3",
   "language": "python",
   "name": "python3"
  },
  "language_info": {
   "codemirror_mode": {
    "name": "ipython",
    "version": 3
   },
   "file_extension": ".py",
   "mimetype": "text/x-python",
   "name": "python",
   "nbconvert_exporter": "python",
   "pygments_lexer": "ipython3",
   "version": "3.5.1"
  }
 },
 "nbformat": 4,
 "nbformat_minor": 0
}
