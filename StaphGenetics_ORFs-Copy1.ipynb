{
 "cells": [
  {
   "cell_type": "markdown",
   "metadata": {},
   "source": [
    "## Staph data\n",
    "http://users-birc.au.dk/cstorm/courses/MLiB_f14/project1.html"
   ]
  },
  {
   "cell_type": "code",
   "execution_count": 78,
   "metadata": {
    "collapsed": true
   },
   "outputs": [],
   "source": [
    "import requests\n",
    "import numpy as np\n",
    "import pandas as pd\n",
    "import re\n",
    "from itertools import groupby\n",
    "import pickle"
   ]
  },
  {
   "cell_type": "code",
   "execution_count": 2,
   "metadata": {
    "collapsed": true
   },
   "outputs": [],
   "source": [
    "staph_url = [\"http://users-birc.au.dk/cstorm/courses/MLiB_f14/projects/project3/genome1.fa\",\n",
    "            \"http://users-birc.au.dk/cstorm/courses/MLiB_f14/projects/project3/genome2.fa\",\n",
    "           \"http://users-birc.au.dk/cstorm/courses/MLiB_f14/projects/project3/genome3.fa\"]\n",
    "staph_annot = [\"http://users-birc.au.dk/cstorm/courses/MLiB_f14/projects/project3/annotation1.fa\",\n",
    "              \"http://users-birc.au.dk/cstorm/courses/MLiB_f14/projects/project3/annotation2.fa\"\n",
    "              \"http://users-birc.au.dk/cstorm/courses/MLiB_f14/projects/project3/annotation3.fa\"]"
   ]
  },
  {
   "cell_type": "markdown",
   "metadata": {
    "collapsed": true
   },
   "source": [
    "## Load/ Modify Data"
   ]
  },
  {
   "cell_type": "code",
   "execution_count": 266,
   "metadata": {
    "collapsed": true
   },
   "outputs": [],
   "source": [
    "def load_file(url,genome=True):\n",
    "    \"\"\"input: url for genome, \n",
    "    output: pulled data without header and as a single txt string\"\"\"\n",
    "    data = ''.join(requests.get(url).text.split(\"\\n\")[1::])\n",
    "    return data\n",
    "\n",
    "def segment_genome(data_string,split_size):\n",
    "    \"\"\"input: genome data string (data_string) and then size we should split the data (split_size)\n",
    "    output: array split by specified split_size\"\"\"\n",
    "    chunks = len(data_string)\n",
    "    data = [data_string[i:i+split_size] for i in range(0,chunks,split_size)]\n",
    "    return data\n",
    "\n",
    "def gene_label(annotation, min_gene=10):\n",
    "    \"\"\"Input: annotation\n",
    "    ouput: the label array for data (true if C or R else false for > 50% of line)\"\"\"\n",
    "    size = len(annotation[0])\n",
    "    print(size)\n",
    "    label = [True if len(line.strip(\"C\")) < size/2 or len(line.strip(\"R\")) < size/2 else False \n",
    "             for line in annotation]\n",
    "    return label\n",
    "\n",
    "def gene_label_dir(annotation,direction=\"C\"):\n",
    "    \"\"\"Input: annotation and direction is C (forward) unless specified as R (reverse)\n",
    "    ouput: the label array for data\"\"\"\n",
    "    size = len(annotation[0])\n",
    "    label = [True if len(line.strip(direction)) < size/2 else False \n",
    "             for line in annotation]\n",
    "    return label\n",
    "\n",
    "def nucleotide_frequency(seq):\n",
    "    '''Count the occurrences of characters in \"seq\".'''\n",
    "    counts = {'A':0,'C':0,'G':0,'T':0}\n",
    "    for c in seq:\n",
    "        counts[c] +=1\n",
    "    total = sum(list(counts.values()))\n",
    "    for key, value in counts.items():\n",
    "        counts[key] = value / total\n",
    "    return counts"
   ]
  },
  {
   "cell_type": "code",
   "execution_count": 267,
   "metadata": {
    "collapsed": false
   },
   "outputs": [],
   "source": [
    "import re\n",
    "\n",
    "def ORF_finds(seq):\n",
    "    \"\"\"input: A sequence string (the genome) is taken and all the ATG's in the sequence are found\n",
    "    output: a list of start indices \n",
    "    *** on this reverse strand... these are from the end of the sequence!!\"\"\"\n",
    "    starts = [m.start() for m in re.finditer('ATG', seq)]\n",
    "    return starts\n",
    "\n",
    "def sequence_list(genome,ends,start):\n",
    "    \"\"\"input: output: \"\"\"\n",
    "    sequences = [genome[start:start+end+3] for end in ends[0]]\n",
    "    sequences += [genome[start:start+end+3] for end in ends[1]] \n",
    "    sequences += [genome[start:start+end+3] for end in ends[2]]\n",
    "    return sequences\n",
    "\n",
    "def sequence_list2(genome,ends,start,direction):\n",
    "    \"\"\"input: \"\"\"\n",
    "    frame = start % 3\n",
    "    sequences = [(start, start+end+3, 'taa', frame, direction) for end in ends[0]]\n",
    "    sequences += [(start, start+end+3, 'tag', frame, direction) for end in ends[1]] \n",
    "    sequences += [(start, start+end+3, 'tga', frame, direction) for end in ends[2]]\n",
    "    return sequences\n",
    "\n",
    "# def geneList(genome,direction):\n",
    "#     \"\"\"input: genome (character string), which direction we are looking at (the forward or reverse strand)\n",
    "#     output: a list of sequences on that particular strand of interest (forward or reverse complement)\"\"\"\n",
    "#     if direction == 'R':\n",
    "#         genome = reverse_complement(genome)\n",
    "#     starts = ORF_finds(genome)\n",
    "#     sequences = []\n",
    "#     for start in starts:\n",
    "#         ## m.start()+1 so that when we sample the sequence we go from \n",
    "#         ends = [[m.start() for m in re.finditer(x, genome[start:start+2000]) if m.start() % 3 == 0] for x in [\"TAA\", \"TAG\", \"TGA\"]]\n",
    "#         if direction == 'R':\n",
    "#             length = len(genome)\n",
    "#             start = length - 3 - start  # CAT ~ ATG (length - 1 - 2)\n",
    "#             ends = [[length - e for e in end] for end in ends]\n",
    "#         sequences.append(sequence_list2(genome,ends,start,direction))\n",
    "#     return sequences \n",
    "\n",
    "def geneList(genome,direction):\n",
    "    \"\"\"input: genome (character string), which direction we are looking at (the forward or reverse strand)\n",
    "    output: a list of sequences on that particular strand of interest (forward or reverse complement)\"\"\"\n",
    "    starts = ORF_finds(genome)\n",
    "    sequences = []\n",
    "    for start in starts:\n",
    "        ## m.start()+1 so that when we sample the sequence we go from \n",
    "        ends = [[m.start() for m in re.finditer(x, genome[start:start+2000]) if m.start() % 3 == 0] for x in [\"TAA\", \"TAG\", \"TGA\"]]\n",
    "        sequences.append(sequence_list2(genome,ends,start,direction))\n",
    "    return sequences   \n",
    "\n",
    "def fixed(possible_reverse_sequences, genome_length):\n",
    "    fixed_reversed_sequences = []\n",
    "    for possible_reverse in possible_reverse_sequences:\n",
    "        f = [(genome_length - end , genome_length - start,end_codon,frame,strand) for start,end,end_codon,frame,strand in possible_reverse]\n",
    "        fixed_reversed_sequences.append(f)\n",
    "    return fixed_reversed_sequences\n",
    "\n",
    "def potentialGenes(genome):\n",
    "    \"\"\"input: genome which is a string of a's, t's, g's, c's\n",
    "    ouput: the number of possible genes that start with ATG and \n",
    "    end with taa,tag, or tga on the forward and reverse complement DNA strand\"\"\"\n",
    "    forwards = geneList(genome,'F')\n",
    "    reversed_genome = reverse_complement(str(genome))\n",
    "    reverse = geneList(reversed_genome,'R')\n",
    "    reverses = fixed(reverse, len(genome))\n",
    "    combos = forwards + reverses\n",
    "    return combos"
   ]
  },
  {
   "cell_type": "code",
   "execution_count": 268,
   "metadata": {
    "collapsed": true
   },
   "outputs": [],
   "source": [
    "def reverse_complement(genome):\n",
    "    \"\"\"input: genome, output: reverse complement\"\"\"\n",
    "    switch = {\"A\":\"T\",\"G\":\"C\",\"T\":\"A\",\"C\":\"G\"}\n",
    "    rc = ''.join([switch[letter] for letter in genome])[::-1]\n",
    "    return rc"
   ]
  },
  {
   "cell_type": "code",
   "execution_count": 269,
   "metadata": {
    "collapsed": true
   },
   "outputs": [],
   "source": [
    "codon_map = {\"I\":[\"ATT\", \"ATC\", \"ATA\"],\"L\":[\"CTT\", \"CTC\", \"CTA\", \"CTG\", \"TTA\",\"TTG\"],\n",
    "          \"V\":[\"GTT\", \"GTC\", \"GTA\", \"GTG\"],\"F\":[\"TTT\", \"TTC\"],\"M\":[\"ATG\"],\"C\":[\"TGT\", \"TGC\"],\n",
    "          \"A\":[\"GCT\", \"GCC\", \"GCA\", \"GCG\"],\"G\":[\"GGT\", \"GGC\", \"GGA\", \"GGG\"],\n",
    "          \"P\":[\"CCT\", \"CCC\", \"CCA\", \"CCG\"],\n",
    "          \"T\":[\"ACT\", \"ACC\", \"ACA\", \"ACG\"],\"S\":[\"TCT\", \"TCC\", \"TCA\", \"TCG\", \"AGT\", \"AGC\"],\n",
    "          \"Y\":[\"TAT\", \"TAC\"],\"W\":[\"TGG\"],\"Q\":[\"CAA\", \"CAG\"],\"N\":[\"AAT\", \"AAC\"],\"H\":[\"CAT\", \"CAC\"],\n",
    "             \"E\":[\"GAA\", \"GAG\"],\"D\":[\"GAT\", \"GAC\"],\"K\":[\"AAA\", \"AAG\"],\n",
    "             \"R\":[\"CGT\", \"CGC\", \"CGA\", \"CGG\",\"AGA\", \"AGG\"],\"X\":[\"TAA\", \"TAG\", \"TGA\"]}\n",
    "\n",
    "def invert(d):\n",
    "    return dict( (v,k) for k in d for v in d[k] )\n",
    "\n",
    "codon_to_aa = invert(codon_map)\n",
    "\n",
    "def codonToAA(strand):\n",
    "    aa_seq = ''.join([codon_to_aa(codon) for codon in strand])\n",
    "    return aa_seq"
   ]
  },
  {
   "cell_type": "code",
   "execution_count": 270,
   "metadata": {
    "collapsed": false
   },
   "outputs": [],
   "source": [
    "## amino acid to nucleotide chart http://www.cbs.dtu.dk/courses/27619/codon.html\n",
    "## X === stop\n",
    "aa = [\"I\",\"L\",\"V\",\"F\",\"M\",\"C\",\"A\",\"G\",\"P\",\"T\",\"S\",\"Y\",\"W\",\"Q\",\"N\",\"H\",\"E\",\"D\",\"K\",\"R\",\"X\"]\n",
    "aa_name = [\"Isoleucine\",\"Leucine\",\"Valine\",\"Phenylalanine\",\"Methionine\",\"Cysteine\",\"Alanine\",\n",
    "           \"Glycine\",\"Proline\",\"Threonine\",\"Serine\",\"Tyrosine\",\"Tryptophan\",\n",
    "           \"Glutamine\",\"Asparagine\",\"Histidine\",\"Glutamic_acid\", \"Aspartic_acid\", \n",
    "           \"Lysine\",\"Arginine\",\"Stop_codons\"]\n",
    "codons = [[\"ATT\", \"ATC\", \"ATA\"],[\"CTT\", \"CTC\", \"CTA\", \"CTG\", \"TTA\",\" TTG\"],\n",
    "          [\"GTT\", \"GTC\", \"GTA\", \"GTG\"],[\"TTT\", \"TTC\"],[\"ATG\"],[\"TGT\", \"TGC\"],\n",
    "          [\"GCT\", \"GCC\", \"GCA\", \"GCG\"],[\"GGT\", \"GGC\", \"GGA\", \"GGG\"],\n",
    "          [\"CCT\", \"CCC\", \"CCA\", \"CCG\"],\n",
    "          [\"ACT\", \"ACC\", \"ACA\", \"ACG\"],[\"TCT\", \"TCC\", \"TCA\", \"TCG\", \"AGT\", \"AGC\"],\n",
    "          [\"TAT\", \"TAC\"],[\"TGG\"],[\"CAA\", \"CAG\"],[\"AAT\", \"AAC\"],[\"CAT\", \"CAC\"],[\"GAA\", \"GAG\"],\n",
    "          [\"GAT\", \"GAC\"],[\"AAA\", \"AAG\"],[\"CGT\", \"CGC\", \"CGA\", \"CGG\",\"AGA\", \"AGG\"],\n",
    "          [\"TAA\", \"TAG\", \"TGA\"]]\n",
    "\n",
    "codon_map = {\"I\":[\"ATT\", \"ATC\", \"ATA\"],\n",
    "             \"L\":[\"CTT\", \"CTC\", \"CTA\", \"CTG\", \"TTA\",\" TTG\"],\n",
    "             \"V\":[\"GTT\", \"GTC\", \"GTA\", \"GTG\"],\n",
    "             \"F\":[\"TTT\", \"TTC\"],\"M\":[\"ATG\"],\n",
    "             \"C\":[\"TGT\", \"TGC\"],\n",
    "             \"A\":[\"GCT\", \"GCC\", \"GCA\", \"GCG\"],\n",
    "             \"G\":[\"GGT\", \"GGC\", \"GGA\", \"GGG\"],\n",
    "             \"P\":[\"CCT\", \"CCC\", \"CCA\", \"CCG\"],\n",
    "             \"T\":[\"ACT\", \"ACC\", \"ACA\", \"ACG\"],\n",
    "             \"S\":[\"TCT\", \"TCC\", \"TCA\", \"TCG\", \"AGT\", \"AGC\"],\n",
    "             \"Y\":[\"TAT\", \"TAC\"],\n",
    "             \"W\":[\"TGG\"],\n",
    "             \"Q\":[\"CAA\", \"CAG\"],\n",
    "             \"N\":[\"AAT\", \"AAC\"],\n",
    "             \"H\":[\"CAT\", \"CAC\"],\n",
    "             \"E\":[\"GAA\", \"GAG\"],\n",
    "             \"D\":[\"GAT\", \"GAC\"],\n",
    "             \"K\":[\"AAA\", \"AAG\"],\n",
    "             \"R\":[\"CGT\", \"CGC\", \"CGA\", \"CGG\",\"AGA\", \"AGG\"],\n",
    "             \"Stop\":[\"TAA\", \"TAG\", \"TGA\"]}\n",
    "\n",
    "codon_properties_map = {}"
   ]
  },
  {
   "cell_type": "code",
   "execution_count": 271,
   "metadata": {
    "collapsed": false
   },
   "outputs": [],
   "source": [
    "## Thermofisher aa properties table\n",
    "from lxml import html\n",
    "def pull_page(url):\n",
    "    data = requests.get(url).text\n",
    "    return data\n",
    "tag = \"table table-bordered table-striped\"\n",
    "tag = \"table\"\n",
    "url = \"https://www.thermofisher.com/us/en/home/life-science/protein-biology/protein-biology-learning-center/protein-biology-resource-library/pierce-protein-methods/amino-acid-physical-properties.html\"\n",
    "\n",
    "page = html.fromstring(pull_page(url))\n",
    "tables = page.cssselect(tag)\n",
    "aa_table = pd.read_html(html.tostring(tables[0]),header=0)[0]\n"
   ]
  },
  {
   "cell_type": "markdown",
   "metadata": {},
   "source": [
    "### aa_properties\n",
    "Aliphatic: Alanine,Isoleucine,Leucine,Valine\n",
    "Aromatic: Phenylalanine, Tryptophan, Tyrosine\n",
    "Polar_neutral: Asparagine, Cysteine, Glutamine, Methionine,Serine,Threonine\n",
    "charged: Aspartic acid, Glutamic acid\n",
    "    \n",
    "Properties table\n",
    "https://www.thermofisher.com/us/en/home/life-science/protein-biology/protein-biology-learning-center/protein-biology-resource-library/pierce-protein-methods/amino-acid-physical-properties.html\n",
    "\n",
    "http://www.ncbi.nlm.nih.gov/pmc/articles/PMC3456822/pdf/10867_2004_Article_396406.pdf\n",
    "\n",
    "http://www.proteinstructures.com/Structure/Structure/amino-acids.html"
   ]
  },
  {
   "cell_type": "code",
   "execution_count": 272,
   "metadata": {
    "collapsed": false
   },
   "outputs": [],
   "source": [
    "# flipped_annot = annot[::-1]\n",
    "\n",
    "def check_gene_state(loc,annot,strand):\n",
    "    \"\"\"input: output: \"\"\"\n",
    "    start, end = int(loc[0]), int(loc[1])\n",
    "    fwd = list(set(annot[start:end+1]))\n",
    "    bhd = list(set(annot[start - 1:end]))\n",
    "    if strand == 'F':\n",
    "        states = list(set(annot[start:end]))\n",
    "        state = 'C'\n",
    "    else:\n",
    "        r_annot = flipped_annot\n",
    "        states = list(set(r_annot[start:end]))\n",
    "        state = 'R'\n",
    "    if len(states) == 1 and states[0] == state and len(fwd) != 1 and len(bhd) != 1:\n",
    "        return True\n",
    "    else:\n",
    "        return False"
   ]
  },
  {
   "cell_type": "code",
   "execution_count": 273,
   "metadata": {
    "collapsed": false
   },
   "outputs": [],
   "source": [
    "def build_training_data(annot, data):\n",
    "    \"\"\"This finds all the genes, non-coding regions, \n",
    "    reverse regions in the genome and returns them as a list\n",
    "    annot is the annotated genome with c's as forward genes, \n",
    "    n's as noncoding regions and r's as genes on the reverse complement strand. \n",
    "    data is the genome comprised of a's,t's,g's,c's. \n",
    "    Both annot and data are strings\"\"\"\n",
    "    d = []\n",
    "    i = 0\n",
    "    c = ''\n",
    "    start = 0\n",
    "    while i < len(annot)-1:\n",
    "        if str(annot[i]) != str(annot[i+1]):\n",
    "            end = i\n",
    "            d.append((start,end,str(c),str(annot[i-1])))\n",
    "            c = ''\n",
    "            start = i+1\n",
    "        else:\n",
    "            c = c + data[i]\n",
    "        i += 1\n",
    "    d.append((start,i,str(c),str(annot[i-1])))   \n",
    "    return d"
   ]
  },
  {
   "cell_type": "code",
   "execution_count": 274,
   "metadata": {
    "collapsed": false
   },
   "outputs": [],
   "source": [
    "from itertools import groupby\n",
    "\n",
    "def find_regions(annot,data):\n",
    "    \"\"\"This finds all the genes, non-coding regions, \n",
    "    reverse regions in the genome and returns them as a list\n",
    "    annot is the annotated genome with c's as forward genes, \n",
    "    n's as noncoding regions and r's as genes on the reverse complement strand. \n",
    "    data is the genome comprised of a's,t's,g's,c's. \n",
    "    Both annot and data are strings\"\"\"\n",
    "    stateGroups = groupby(enumerate(annot), lambda value: value[1])\n",
    "    genome_regions = [(state, [x for x, _ in iterator]) for state, iterator in stateGroups] \n",
    "    regions = [(region[0],min(region[1]),max(region[1])+1,\n",
    "                data[min(region[1]):max(region[1])+1]) for region in genome_regions]\n",
    "    return regions"
   ]
  },
  {
   "cell_type": "code",
   "execution_count": 275,
   "metadata": {
    "collapsed": false
   },
   "outputs": [],
   "source": [
    "def frameShift(seq,shift):\n",
    "    \"\"\"input: seq and shift -- shift not used....\"\"\"\n",
    "    new_seq = ''\n",
    "    for j, i in enumerate(seq):\n",
    "        if j % shift == 0:\n",
    "            new_seq = new_seq + i + ' '\n",
    "        else: \n",
    "            new_seq = new_seq + i\n",
    "    return new_seq\n",
    "\n",
    "\n",
    "# fs = [frameShift(seq,3) for seq in gene_df.sequence]"
   ]
  },
  {
   "cell_type": "code",
   "execution_count": 276,
   "metadata": {
    "collapsed": true
   },
   "outputs": [],
   "source": [
    "def state(annot):\n",
    "    \"\"\"input: states are possible annotations C forward gene,\n",
    "    N - not a gene, or R for reverse gene\"\"\"\n",
    "    states = list(set(annot))\n",
    "    return states\n",
    "\n",
    "def transitions(annot,state):\n",
    "    \"\"\"input: determine when transitions occur where annot is annotated \n",
    "    and state is the state i'm looking to transition from ouput: there location\"\"\"\n",
    "    trs = list(set(annot))\n",
    "    transits = {}\n",
    "    total = len(annot) \n",
    "\n",
    "    for transition_state in trs:\n",
    "        count = len([ts for i,ts in enumerate(annot[:-1]) if str(ts) == state and str(annot[i+1]) == transition_state])\n",
    "        transits[str(transition_state)] = count/total\n",
    "    return transits\n",
    "\n",
    "def emissions(genome,annot,state):\n",
    "    \"\"\"input: genome is  a genome, annot is its annotation, \n",
    "    state is the state i want to count nucleotide frequency of\"\"\"\n",
    "    ems = list(set(genome))\n",
    "    \n",
    "    emissions = {}\n",
    "    transition_totals = {}\n",
    "\n",
    "    total = len([letter for letter in annot if str(letter) == state])\n",
    "    for emission_state in ems:\n",
    "        count = len([letter for i,letter in enumerate(genome) if \n",
    "                     str(letter) == emission_state and str(annot[i])==state])\n",
    "        emissions[str(emission_state)] = count/total    \n",
    "    return emissions\n",
    "\n",
    "def prior_state_emissions(genome,annot):\n",
    "    \"\"\"input: \"\"\"\n",
    "    state_dictionary = {}\n",
    "    states = state(annot)\n",
    "    for s in states:\n",
    "        if s == 'N':\n",
    "            prob = 1\n",
    "        else:\n",
    "            prob = 0\n",
    "        em = emissions(genome,annot,s)\n",
    "        tr = transitions(annot,s)\n",
    "        state_dictionary[s] = [str(s),prob,em,tr]\n",
    "    return state_dictionary"
   ]
  },
  {
   "cell_type": "code",
   "execution_count": 277,
   "metadata": {
    "collapsed": true
   },
   "outputs": [],
   "source": [
    "# from collections import defaultdict\n",
    "def aa_find(seq):\n",
    "    \"\"\"find aa's in sequence\n",
    "    input: sequence, \n",
    "    output: dictionary of codons in sequence\"\"\"\n",
    "    codon_count = {}\n",
    "    for aa, codons in codon_map.items():\n",
    "        codon_count[aa] = 0\n",
    "        if any(x in seq for x in codons):\n",
    "            codon_count[aa] += 1\n",
    "    return codon_count"
   ]
  },
  {
   "cell_type": "code",
   "execution_count": 278,
   "metadata": {
    "collapsed": false
   },
   "outputs": [
    {
     "name": "stdout",
     "output_type": "stream",
     "text": [
      "Built table of sequences for each state in genome...\n",
      "  state  start   end                                                seq\n",
      "0     N      0   231  TTGTTGATATTCTGTTTTTTCTTTTTTAGTTTTCCACATGAAAAAT...\n",
      "1     C    231  1587  ATGACTGAAAATGAACAAATTTTTTGGAACAGGGTCTTGGAATTAG...\n",
      "2     N   1587  1741  CATGTGGAAAAGAATATCTTTTATGAAATAGTTATCCACAAGTTGT...\n",
      "3     C   1741  2878  ATGATTCAATTTTCAATTAATCGCACATTATTTATTCATGCTTTAA...\n",
      "4     N   2878  2952  GTAAGAAAAAGCTCCCTTTTAGGAGTTTTTTTGTTATTATAAATAT...\n",
      "State 'R' sequences were reverse complemented...\n"
     ]
    }
   ],
   "source": [
    "### Pipeline\n",
    "\n",
    "## load genome annotation\n",
    "annot = load_file(staph_annot[0])\n",
    "\n",
    "## load genome\n",
    "data = load_file(staph_url[0])\n",
    "\n",
    "## Built table of sequences for each state in genome\n",
    "region = find_regions(annot,data)\n",
    "# re = build_training_data(annot,data)\n",
    "regions = pd.DataFrame(region)\n",
    "regions.columns = [[\"state\",\"start\",\"end\",\"seq\"]]\n",
    "regions.head()\n",
    "print(\"Built table of sequences for each state in genome...\")\n",
    "print(regions.head(5))\n",
    "\n",
    "## Reverse Complement strands found on the Reverse strand\n",
    "regions.seq = regions.apply(lambda x: reverse_complement(x[3]) if x[0] == \"R\" else x[3],axis=1)\n",
    "print(\"State 'R' sequences were reverse complemented...\")"
   ]
  },
  {
   "cell_type": "code",
   "execution_count": 279,
   "metadata": {
    "collapsed": false
   },
   "outputs": [
    {
     "name": "stdout",
     "output_type": "stream",
     "text": [
      "StaphGenome1.pkl Saved!\n",
      "StaphGenome1_annot.pkl Saved!\n",
      "StaphGenome1_regions_df.pkl Saved!\n"
     ]
    },
    {
     "data": {
      "text/plain": [
       "True"
      ]
     },
     "execution_count": 279,
     "metadata": {},
     "output_type": "execute_result"
    }
   ],
   "source": [
    "## Save Data, corresponding Annotation\n",
    "def pickle_save(filename, variable):\n",
    "    filename = filename+'.pkl'\n",
    "    output = open(filename, 'wb')\n",
    "    pickle.dump(variable, output)\n",
    "    output.close()\n",
    "    print(filename + \" Saved!\")\n",
    "    return True\n",
    "\n",
    "pickle_save('StaphGenome1', data)\n",
    "pickle_save('StaphGenome1_annot', annot)\n",
    "pickle_save('StaphGenome1_regions_df', regions)"
   ]
  },
  {
   "cell_type": "code",
   "execution_count": 280,
   "metadata": {
    "collapsed": false
   },
   "outputs": [
    {
     "name": "stdout",
     "output_type": "stream",
     "text": [
      "StaphGenome1_regions_df.pkl dataframe sucessfully loaded!\n",
      "StaphGenome1.pkl sucessfully loaded!\n"
     ]
    }
   ],
   "source": [
    "import pandas as pd\n",
    "import os\n",
    "\n",
    "## Open Pickles in Folder\n",
    "def find_pickles():\n",
    "    directory_files = os.listdir()\n",
    "    filenames = []\n",
    "    for file in directory_files:\n",
    "        filename, file_extension = os.path.splitext(file)\n",
    "        if file_extension in ['.pkl','.p']:\n",
    "            filenames.append(file)\n",
    "    return filenames\n",
    "\n",
    "def open_pickles():\n",
    "    filenames = find_pickles()\n",
    "    d = {}\n",
    "    for file in filenames:\n",
    "        key = os.path.splitext(file)[0]\n",
    "        d[key] = pickle_open(file)\n",
    "    return d\n",
    "\n",
    "def pickle_open(filename, df=False):\n",
    "    \"\"\"Eventually check if we are opening a python 3 or python 2 file \n",
    "    and deal with discrepencies (python 3 pickle opened in python 2 etc...)\"\"\"\n",
    "    if df == True:\n",
    "        file = pd.read_pickle(filename)\n",
    "        print(filename + \" dataframe sucessfully loaded!\")\n",
    "    else:\n",
    "        file = pickle.load( open( filename, \"rb\" ) )\n",
    "        print(filename + \" sucessfully loaded!\")\n",
    "    return file\n",
    "\n",
    "df_test = pickle_open('StaphGenome1_regions_df.pkl',df=True)\n",
    "data2 = pickle_open('StaphGenome1.pkl')"
   ]
  },
  {
   "cell_type": "code",
   "execution_count": 281,
   "metadata": {
    "collapsed": false
   },
   "outputs": [
    {
     "data": {
      "text/plain": [
       "N    1449\n",
       "C     809\n",
       "R     639\n",
       "Name: state, dtype: int64"
      ]
     },
     "execution_count": 281,
     "metadata": {},
     "output_type": "execute_result"
    }
   ],
   "source": [
    "regions.state.value_counts()"
   ]
  },
  {
   "cell_type": "code",
   "execution_count": 19,
   "metadata": {
    "collapsed": false
   },
   "outputs": [
    {
     "name": "stdout",
     "output_type": "stream",
     "text": [
      "Found potential sequences...\n",
      "Genome DataFrame Built...\n"
     ]
    }
   ],
   "source": [
    "## Find potential sequences\n",
    "pot_sequences = potentialGenes(data)\n",
    "print(\"Found potential sequences...\")\n",
    "\n",
    "## Create DataFrame\n",
    "df = pd.DataFrame(list(pd.DataFrame(pot_sequences).unstack().dropna()))\n",
    "df.columns=[[\"start\",\"end\",\"end_codon\",\"shift\",\"strand\"]]\n",
    "print(\"Genome DataFrame Built...\")"
   ]
  },
  {
   "cell_type": "markdown",
   "metadata": {},
   "source": [
    "### Is this a STOP or not?\n",
    "How many potential stops are there?\n",
    "Can I visualize where I see them in the genome\n",
    "Can I visualize where the actual stops are in the genome\n",
    "Can I predict where the actual stops are in the genome and which frame the are?"
   ]
  },
  {
   "cell_type": "code",
   "execution_count": 113,
   "metadata": {
    "collapsed": true
   },
   "outputs": [],
   "source": [
    "## Find all potential stop locations\n",
    "## Find closest in frame start\n",
    "## Tag if its (in) a gene or not and which frame we have found it within"
   ]
  },
  {
   "cell_type": "code",
   "execution_count": null,
   "metadata": {
    "collapsed": true
   },
   "outputs": [],
   "source": [
    "# def pos_fix(reverse_end_indices,genome_length):\n",
    "#     pos_list = [genome_length - indice - 1 for indice in reverse_end_indices]\n",
    "#     return pos_list\n",
    "\n",
    "# def stop_indices(genome):\n",
    "#     stops = [\"TAA\",\"TAG\",\"TGA\"]\n",
    "#     forward = [finds(genome,stop) for stop in stops]\n",
    "#     reverse = [pos_fix(finds(reverse_complement(genome), stop),len(genome)) for stop in stops]\n",
    "#     stop_locations = forward + reverse\n",
    "#     return stop_locations\n",
    "\n",
    "# def finds(seq,pattern):\n",
    "#     \"\"\"input: A sequence string (the genome) and a pattern sequence are\n",
    "#     taken and all the patterns in the sequence are found\n",
    "#     output: a list of start indices \n",
    "#     *** on this reverse strand... these are from the end of the sequence!!\"\"\"\n",
    "#     starts = [m.start() for m in re.finditer(pattern, seq)]\n",
    "#     return starts"
   ]
  },
  {
   "cell_type": "code",
   "execution_count": 282,
   "metadata": {
    "collapsed": true
   },
   "outputs": [],
   "source": [
    "import itertools\n",
    "from itertools import product\n",
    "\n",
    "def find_all_occurrences(pattern, string):\n",
    "    \"\"\"finds all occurrences of pattern in string, \n",
    "    returning a list of positions for each occurrence\"\"\"\n",
    "    occurence_indices = [m.start() for m in re.finditer(pattern, string)]\n",
    "    return occurence_indices\n",
    "\n",
    "def stop_indices(seq):\n",
    "    patterns = [\"TAA\",\"TAG\",\"TGA\"]\n",
    "    stop_locations = [find_all_occurrences(pattern,seq) for pattern in patterns]\n",
    "    stop_locations = list(itertools.chain(*stop_locations))\n",
    "    return stop_locations\n",
    "\n",
    "def start_indices(seq):\n",
    "    pattern = \"ATG\"\n",
    "    start_locations = find_all_occurrences(pattern,seq)\n",
    "    return start_locations\n",
    "\n",
    "def start_stops(genome):\n",
    "    \"\"\"input: output:\"\"\"\n",
    "    stop_locations = sorted(stop_indices(genome))\n",
    "    start_locations = start_indices(genome)\n",
    "    return [start_locations, stop_locations]\n",
    "\n",
    "# def split_into_frames(starts,stops):\n",
    "#     \"\"\"input: starts and stops are a list of indices \n",
    "#     where starts: (ATGs) or stops: (taa,tag,tga) where found in the genome.\n",
    "#     output: a list of tuples in the form of [...(start, stop, frame),...]\"\"\"\n",
    "#     res = []\n",
    "#     for i in range(3):\n",
    "#         s = np.array([-1] + [start for start in starts if (start - i) % 3 == 0])\n",
    "#         e = [end for end in stops if (end - i) % 3 == 0]\n",
    "#         indices = np.searchsorted(s,e)\n",
    "#         res += [(s[ind-1],e[index]+3,i) for index,ind in enumerate(indices)]\n",
    "#     return res\n",
    "\n",
    "def split_into_frames(starts,stops):\n",
    "    \"\"\"input: starts and stops are a list of indices \n",
    "    where starts: (ATGs) or stops: (taa,tag,tga) where found in the genome.\n",
    "    output: a list of tuples in the form of [...(start, stop, frame),...]\"\"\"\n",
    "    res = []\n",
    "    for i in range(3):\n",
    "        s = np.array([-1] + [start for start in starts if (start - i) % 3 == 0])\n",
    "        e = [end for end in stops if (end - i) % 3 == 0]\n",
    "        indices = np.searchsorted(e,s)\n",
    "        res += [(s[index],e[ind]+3,i) for index,ind in enumerate(indices)]\n",
    "    return res\n",
    "\n",
    "def process_genome(genome):\n",
    "    \"\"\"input:  \n",
    "    output: \"\"\"\n",
    "    starts, stops = start_stops(genome)\n",
    "    pairs = [pair for pair in split_into_frames(starts,stops) if pair[0] !=-1]\n",
    "    pairs = [pair for pair in pairs if pair[1] - pair[0] > 200]\n",
    "    return pairs\n",
    "\n",
    "\n",
    "# def split_into_frames(starts,stops):\n",
    "#     res = []\n",
    "#     for i in range(3):\n",
    "#         s = np.array([-1] + [start for start in starts if (start - i) % 3 == 0])\n",
    "#         e = [end for end in stops if (end - i) % 3 == 0]\n",
    "#         res += clever_name(s,e)\n",
    "#     return res\n",
    "    \n",
    "    \n",
    "# def clever_name(s,e):\n",
    "#     indices = np.searchsorted(s,e)\n",
    "#     return np.stack([s[indices-1], e]).T\n",
    "\n"
   ]
  },
  {
   "cell_type": "code",
   "execution_count": 299,
   "metadata": {
    "collapsed": false
   },
   "outputs": [],
   "source": [
    "## Pipeline\n",
    "r_data = reverse_complement(data)\n",
    "\n",
    "F_pairs = process_genome(data)\n",
    "R_pairs = genome_end_genes(r_data)\n"
   ]
  },
  {
   "cell_type": "code",
   "execution_count": 300,
   "metadata": {
    "collapsed": false
   },
   "outputs": [
    {
     "name": "stdout",
     "output_type": "stream",
     "text": [
      "Calculate Nucleotide Frequencies...\n",
      "          a         c         g         t\n",
      "0  0.158120  0.259259  0.363248  0.219373\n",
      "1  0.194313  0.254344  0.360190  0.191153\n",
      "2  0.165192  0.333333  0.289086  0.212389\n",
      "3  0.171198  0.303122  0.326284  0.199396\n",
      "4  0.185417  0.320833  0.268750  0.225000\n"
     ]
    }
   ],
   "source": [
    "import warnings\n",
    "warnings.filterwarnings('ignore')\n",
    "\n",
    "##Downsample from potential regions\n",
    "potential_forward_stops = pd.DataFrame(F_pairs,columns=['start', 'end', 'frame'])\n",
    "potential_subset = potential_forward_stops.sample(n=809)\n",
    "potential_subset[\"seq\"] = potential_subset.apply(lambda x: data[x[0]:x[1]],axis=1)\n",
    "potential_subset[\"state\"] = ['C']*len(potential_subset)\n",
    "potential_subset\n",
    "\n",
    "##Sample from Actual Sequences and label as true\n",
    "actual_forward_stops = regions[regions.state == 'C']\n",
    "actual_forward_stops[\"frame\"] = actual_forward_stops.start.apply(lambda start: int(start) % 3)\n",
    "actual_forward_stops[\"gene\"] = True\n",
    "actual_forward_stops.head()\n",
    "\n",
    "##Merge actual and potential to create dataframe of both true and false sequences\n",
    "merged_frames = pd.merge(potential_subset,actual_forward_stops, on=[\"start\",'end','frame','state','seq'],how='outer')\n",
    "merged_frames.gene.fillna(False, inplace=True)\n",
    "merged_frames.gene.value_counts()\n",
    "\n",
    "## regression - gene candidate and take nearest candiate neighbors or gene neighbors\n",
    "## common sub-sequences in front of genes, \n",
    "## matrix of character combinations.... \n",
    "### Feature 1: nucleotide frequences\n",
    "## Nucleotide Frequencies for each Potential Gene\n",
    "res = [[l[1] for l in list(nucleotide_frequency(seg).items())] for seg in list(merged_frames.seq)]\n",
    "frequency_df = pd.DataFrame(res)\n",
    "frequency_df.columns=[\"a\",\"c\",\"g\",\"t\"]\n",
    "print(\"Calculate Nucleotide Frequencies...\")\n",
    "print(frequency_df.head())"
   ]
  },
  {
   "cell_type": "code",
   "execution_count": 286,
   "metadata": {
    "collapsed": false
   },
   "outputs": [
    {
     "name": "stdout",
     "output_type": "stream",
     "text": [
      "Calculated amino acid frequencies...\n",
      "          X         N         T         D         Y         L         W  \\\n",
      "0  0.003215  0.045016  0.067524  0.045016  0.016077  0.112540  0.000000   \n",
      "1  0.004016  0.040161  0.048193  0.024096  0.056225  0.152610  0.008032   \n",
      "2  0.006329  0.075949  0.025316  0.075949  0.037975  0.069620  0.000000   \n",
      "3  0.007246  0.050725  0.057971  0.007246  0.021739  0.152174  0.021739   \n",
      "4  0.005051  0.035354  0.075758  0.050505  0.030303  0.126263  0.000000   \n",
      "\n",
      "          Q         S         I    ...            C         A         V  \\\n",
      "0  0.054662  0.051447  0.064309    ...     0.006431  0.115756  0.070740   \n",
      "1  0.080321  0.072289  0.076305    ...     0.004016  0.048193  0.040161   \n",
      "2  0.025316  0.101266  0.132911    ...     0.025316  0.037975  0.025316   \n",
      "3  0.036232  0.028986  0.036232    ...     0.000000  0.094203  0.094203   \n",
      "4  0.045455  0.035354  0.045455    ...     0.020202  0.075758  0.065657   \n",
      "\n",
      "          K         G         H         R         P         F         E  \n",
      "0  0.054662  0.093248  0.019293  0.032154  0.038585  0.019293  0.064309  \n",
      "1  0.092369  0.044177  0.008032  0.040161  0.028112  0.056225  0.056225  \n",
      "2  0.101266  0.050633  0.018987  0.044304  0.037975  0.056962  0.037975  \n",
      "3  0.065217  0.021739  0.014493  0.072464  0.028986  0.072464  0.050725  \n",
      "4  0.075758  0.050505  0.080808  0.075758  0.040404  0.025253  0.030303  \n",
      "\n",
      "[5 rows x 21 columns]\n",
      "Calculated sequence lengths...\n",
      "Combined frequence and gene tables...\n"
     ]
    },
    {
     "data": {
      "text/plain": [
       "1528"
      ]
     },
     "execution_count": 286,
     "metadata": {},
     "output_type": "execute_result"
    }
   ],
   "source": [
    "##Convert sequences in to amino acid sequences\n",
    "def tri_split(seq):\n",
    "    return ''.join([char+' ' if (i+1) % 3 == 0 else char for i,char in enumerate(seq)]).split()\n",
    "def codonToAA(codon_list):\n",
    "    aa_seq = ''.join([codon_to_aa[codon] for codon in codon_list])\n",
    "    return aa_seq\n",
    "def aa_frequency(seq):\n",
    "    \"\"\"Count the occurrences of amino acids in \"seq\".\"\"\"\n",
    "    zeros = [0]*len(aa)\n",
    "    counts = dict(zip(aa, zeros))\n",
    "    for c in seq:\n",
    "        counts[c] +=1\n",
    "        \n",
    "    total = sum(list(counts.values()))\n",
    "    for key, value in counts.items():\n",
    "        counts[key] = value / total\n",
    "    return counts\n",
    "\n",
    "def no_prior_stops(aa_seq):\n",
    "    prior = aa_seq[0:len(aa_seq)-1]\n",
    "    if 'x' in prior:\n",
    "        return False\n",
    "    else:\n",
    "        return True\n",
    "#     aa_frequency(codonToAA(tri_split(seq)))\n",
    "    \n",
    "aa_matrix = [list(aa_frequency(codonToAA(tri_split(seg))).values()) for seg in list(merged_frames.seq)]\n",
    "# aa_matrix = [codonToAA(tri_split(seg)) for seg in list(merged_frames.seq)]\n",
    "aa_frequency_df = pd.DataFrame(aa_matrix)\n",
    "aa_frequency_df.columns=[['X','N','T','D','Y','L','W','Q','S','I','M','C','A','V','K','G','H','R','P','F','E']]\n",
    "print(\"Calculated amino acid frequencies...\")\n",
    "print(aa_frequency_df.head())\n",
    "# seq = 'ATGCTTCATTAACGTGTACAAAGACTAGGTTCCCTTCGCCTGCTTCACCGTCTTCCTCTTTAGTACTGTCGACCACCGTAAAGACATCATAGGCTTGATACTCACCTTTTTTGGCTGGCTCGATTAGCTCAAGCATGCCTTTATAAATGTCAGGATCAATCTTGCCGCCGCTCGTTAACATGTGGATGGTTTGCAAGTTAATCATTCGCTGTGTACGCTCTGCGGACACCTTAGCTAGTCCAGCAGCTGTTTGAGCAGTTTTGGCAGTCTTAGCGGTTTCCTGTGAGATTTTTTCAAGGTCGTCTACCTTTTGCACGGCTTCGCCCATTGCAATTTCAACGTATTCAGATTTTTTAAATTCTTCCAAAGTAGCTTTGATAATCTCTGTGTCATTATTTGAGGTTAAGTCCTGCTTGATTGGTTGAGAGATGACTGAGCCATCCTCAGCAGTGATAATAATATGTGTGCTTGCGACTGCTCCTGTGCTGTCAAATTGTGGGTATTTTCCTGTCACTTTCCAATTTCTCATGGTTATTCTCCTTTTTTACTTTCTTCAAATTGTTCCAAAATGTTGTCGATAAGAATGATTTCAGATGATGTAAATTCATCTTCACACTCTTCTAA'\n",
    "# codonToAA(tri_split(seq))\n",
    "\n",
    "### CountVectorizer N-gram analysis\n",
    "### Features 2: amino acid frequencies\n",
    "### CountVectorizer N-gram analysis\n",
    "\n",
    "\n",
    "\n",
    "### Feature 3: length of sequence // false sequences should be at least 300 nucleotides long\n",
    "## Add length of each sequence\n",
    "merged_frames[\"len\"] = merged_frames.apply(lambda x: x[1] - x[0],axis=1) #x[1] - x[0])\n",
    "print(\"Calculated sequence lengths...\")\n",
    "\n",
    "## Combine tables\n",
    "# 1. reset df index\n",
    "merged_frames.reset_index(inplace=True)\n",
    "# 2. concat\n",
    "merged_frames = pd.concat([merged_frames,frequency_df,aa_frequency_df],axis=1)\n",
    "print(\"Combined frequence and gene tables...\")\n",
    "len(merged_frames)\n",
    "\n",
    "### linear regression on result and see if we can predict which STOPS are real given the prior sequences\n",
    "\n",
    "\n",
    "### Views!\n",
    "# draw where all actual stops are (color by frame)\n",
    "# draw where all potential stops are (color by frame)"
   ]
  },
  {
   "cell_type": "code",
   "execution_count": 287,
   "metadata": {
    "collapsed": false
   },
   "outputs": [
    {
     "data": {
      "text/html": [
       "<div>\n",
       "<table border=\"1\" class=\"dataframe\">\n",
       "  <thead>\n",
       "    <tr style=\"text-align: right;\">\n",
       "      <th></th>\n",
       "      <th>index</th>\n",
       "      <th>start</th>\n",
       "      <th>end</th>\n",
       "      <th>frame</th>\n",
       "      <th>seq</th>\n",
       "      <th>state</th>\n",
       "      <th>gene</th>\n",
       "      <th>len</th>\n",
       "      <th>a</th>\n",
       "      <th>c</th>\n",
       "      <th>...</th>\n",
       "      <th>C</th>\n",
       "      <th>A</th>\n",
       "      <th>V</th>\n",
       "      <th>K</th>\n",
       "      <th>G</th>\n",
       "      <th>H</th>\n",
       "      <th>R</th>\n",
       "      <th>P</th>\n",
       "      <th>F</th>\n",
       "      <th>E</th>\n",
       "    </tr>\n",
       "  </thead>\n",
       "  <tbody>\n",
       "    <tr>\n",
       "      <th>0</th>\n",
       "      <td>0</td>\n",
       "      <td>1357297</td>\n",
       "      <td>1358230</td>\n",
       "      <td>1</td>\n",
       "      <td>ATGGTTTGCGGTTCTGGACTTAAAGCAATCCAATTAGCTGCGCAAA...</td>\n",
       "      <td>C</td>\n",
       "      <td>False</td>\n",
       "      <td>933</td>\n",
       "      <td>0.199357</td>\n",
       "      <td>0.315113</td>\n",
       "      <td>...</td>\n",
       "      <td>0.006431</td>\n",
       "      <td>0.115756</td>\n",
       "      <td>0.070740</td>\n",
       "      <td>0.054662</td>\n",
       "      <td>0.093248</td>\n",
       "      <td>0.019293</td>\n",
       "      <td>0.032154</td>\n",
       "      <td>0.038585</td>\n",
       "      <td>0.019293</td>\n",
       "      <td>0.064309</td>\n",
       "    </tr>\n",
       "    <tr>\n",
       "      <th>1</th>\n",
       "      <td>1</td>\n",
       "      <td>315250</td>\n",
       "      <td>315997</td>\n",
       "      <td>1</td>\n",
       "      <td>ATGAAGAGTTATATTGAACCTTTTATTGCTAGCAAGGCTTTATCTC...</td>\n",
       "      <td>C</td>\n",
       "      <td>True</td>\n",
       "      <td>747</td>\n",
       "      <td>0.160643</td>\n",
       "      <td>0.353414</td>\n",
       "      <td>...</td>\n",
       "      <td>0.004016</td>\n",
       "      <td>0.048193</td>\n",
       "      <td>0.040161</td>\n",
       "      <td>0.092369</td>\n",
       "      <td>0.044177</td>\n",
       "      <td>0.008032</td>\n",
       "      <td>0.040161</td>\n",
       "      <td>0.028112</td>\n",
       "      <td>0.056225</td>\n",
       "      <td>0.056225</td>\n",
       "    </tr>\n",
       "    <tr>\n",
       "      <th>2</th>\n",
       "      <td>2</td>\n",
       "      <td>443307</td>\n",
       "      <td>443781</td>\n",
       "      <td>0</td>\n",
       "      <td>ATGGGATATGACCAGAGAATAGGAAATTCGCACAATAATCCTTCTT...</td>\n",
       "      <td>C</td>\n",
       "      <td>False</td>\n",
       "      <td>474</td>\n",
       "      <td>0.124473</td>\n",
       "      <td>0.369198</td>\n",
       "      <td>...</td>\n",
       "      <td>0.025316</td>\n",
       "      <td>0.037975</td>\n",
       "      <td>0.025316</td>\n",
       "      <td>0.101266</td>\n",
       "      <td>0.050633</td>\n",
       "      <td>0.018987</td>\n",
       "      <td>0.044304</td>\n",
       "      <td>0.037975</td>\n",
       "      <td>0.056962</td>\n",
       "      <td>0.037975</td>\n",
       "    </tr>\n",
       "    <tr>\n",
       "      <th>3</th>\n",
       "      <td>3</td>\n",
       "      <td>214925</td>\n",
       "      <td>215339</td>\n",
       "      <td>2</td>\n",
       "      <td>ATGCCAGTTATGATTGCCTTATTCCAAGCCTTGACACGGGTATCTT...</td>\n",
       "      <td>C</td>\n",
       "      <td>False</td>\n",
       "      <td>414</td>\n",
       "      <td>0.188406</td>\n",
       "      <td>0.280193</td>\n",
       "      <td>...</td>\n",
       "      <td>0.000000</td>\n",
       "      <td>0.094203</td>\n",
       "      <td>0.094203</td>\n",
       "      <td>0.065217</td>\n",
       "      <td>0.021739</td>\n",
       "      <td>0.014493</td>\n",
       "      <td>0.072464</td>\n",
       "      <td>0.028986</td>\n",
       "      <td>0.072464</td>\n",
       "      <td>0.050725</td>\n",
       "    </tr>\n",
       "    <tr>\n",
       "      <th>4</th>\n",
       "      <td>4</td>\n",
       "      <td>1717369</td>\n",
       "      <td>1717963</td>\n",
       "      <td>1</td>\n",
       "      <td>ATGAAAACACACGGCAATGATCCAACAGAGTTGGCGCTGCTCAACC...</td>\n",
       "      <td>C</td>\n",
       "      <td>False</td>\n",
       "      <td>594</td>\n",
       "      <td>0.227273</td>\n",
       "      <td>0.314815</td>\n",
       "      <td>...</td>\n",
       "      <td>0.020202</td>\n",
       "      <td>0.075758</td>\n",
       "      <td>0.065657</td>\n",
       "      <td>0.075758</td>\n",
       "      <td>0.050505</td>\n",
       "      <td>0.080808</td>\n",
       "      <td>0.075758</td>\n",
       "      <td>0.040404</td>\n",
       "      <td>0.025253</td>\n",
       "      <td>0.030303</td>\n",
       "    </tr>\n",
       "    <tr>\n",
       "      <th>5</th>\n",
       "      <td>5</td>\n",
       "      <td>322934</td>\n",
       "      <td>323879</td>\n",
       "      <td>2</td>\n",
       "      <td>ATGAACCTCAAAGACAAGTTGGCGATTGTTTCAGCCCCTATTATCA...</td>\n",
       "      <td>C</td>\n",
       "      <td>False</td>\n",
       "      <td>945</td>\n",
       "      <td>0.172487</td>\n",
       "      <td>0.318519</td>\n",
       "      <td>...</td>\n",
       "      <td>0.000000</td>\n",
       "      <td>0.041270</td>\n",
       "      <td>0.060317</td>\n",
       "      <td>0.050794</td>\n",
       "      <td>0.050794</td>\n",
       "      <td>0.009524</td>\n",
       "      <td>0.038095</td>\n",
       "      <td>0.028571</td>\n",
       "      <td>0.041270</td>\n",
       "      <td>0.098413</td>\n",
       "    </tr>\n",
       "    <tr>\n",
       "      <th>6</th>\n",
       "      <td>6</td>\n",
       "      <td>322634</td>\n",
       "      <td>323879</td>\n",
       "      <td>2</td>\n",
       "      <td>ATGGCCTTAGTTTCTCTCAATCGTTCTCGGGTGGAACAAAAAGCAG...</td>\n",
       "      <td>C</td>\n",
       "      <td>False</td>\n",
       "      <td>1245</td>\n",
       "      <td>0.174297</td>\n",
       "      <td>0.302811</td>\n",
       "      <td>...</td>\n",
       "      <td>0.000000</td>\n",
       "      <td>0.055422</td>\n",
       "      <td>0.065060</td>\n",
       "      <td>0.050602</td>\n",
       "      <td>0.057831</td>\n",
       "      <td>0.009639</td>\n",
       "      <td>0.043373</td>\n",
       "      <td>0.026506</td>\n",
       "      <td>0.038554</td>\n",
       "      <td>0.084337</td>\n",
       "    </tr>\n",
       "    <tr>\n",
       "      <th>7</th>\n",
       "      <td>7</td>\n",
       "      <td>1258642</td>\n",
       "      <td>1259047</td>\n",
       "      <td>1</td>\n",
       "      <td>ATGAAGACGACATCTGGGTTATTTTCACCAGCACCTACCCAACGTT...</td>\n",
       "      <td>C</td>\n",
       "      <td>False</td>\n",
       "      <td>405</td>\n",
       "      <td>0.246914</td>\n",
       "      <td>0.281481</td>\n",
       "      <td>...</td>\n",
       "      <td>0.014815</td>\n",
       "      <td>0.088889</td>\n",
       "      <td>0.059259</td>\n",
       "      <td>0.059259</td>\n",
       "      <td>0.029630</td>\n",
       "      <td>0.007407</td>\n",
       "      <td>0.044444</td>\n",
       "      <td>0.133333</td>\n",
       "      <td>0.037037</td>\n",
       "      <td>0.014815</td>\n",
       "    </tr>\n",
       "    <tr>\n",
       "      <th>8</th>\n",
       "      <td>8</td>\n",
       "      <td>469411</td>\n",
       "      <td>470617</td>\n",
       "      <td>1</td>\n",
       "      <td>ATGGTTCTTGGGTTTGACCCTGCCTTTCGAACAGGTGCAAAATTGG...</td>\n",
       "      <td>C</td>\n",
       "      <td>False</td>\n",
       "      <td>1206</td>\n",
       "      <td>0.213101</td>\n",
       "      <td>0.283582</td>\n",
       "      <td>...</td>\n",
       "      <td>0.000000</td>\n",
       "      <td>0.092040</td>\n",
       "      <td>0.101990</td>\n",
       "      <td>0.064677</td>\n",
       "      <td>0.062189</td>\n",
       "      <td>0.022388</td>\n",
       "      <td>0.039801</td>\n",
       "      <td>0.044776</td>\n",
       "      <td>0.032338</td>\n",
       "      <td>0.057214</td>\n",
       "    </tr>\n",
       "    <tr>\n",
       "      <th>9</th>\n",
       "      <td>9</td>\n",
       "      <td>1258720</td>\n",
       "      <td>1259047</td>\n",
       "      <td>1</td>\n",
       "      <td>ATGGCAAAAGGAATGCCCAATTCTTTTTCAACAACGGAACCGACTT...</td>\n",
       "      <td>C</td>\n",
       "      <td>False</td>\n",
       "      <td>327</td>\n",
       "      <td>0.235474</td>\n",
       "      <td>0.281346</td>\n",
       "      <td>...</td>\n",
       "      <td>0.018349</td>\n",
       "      <td>0.073394</td>\n",
       "      <td>0.073394</td>\n",
       "      <td>0.064220</td>\n",
       "      <td>0.027523</td>\n",
       "      <td>0.009174</td>\n",
       "      <td>0.036697</td>\n",
       "      <td>0.137615</td>\n",
       "      <td>0.036697</td>\n",
       "      <td>0.018349</td>\n",
       "    </tr>\n",
       "    <tr>\n",
       "      <th>10</th>\n",
       "      <td>10</td>\n",
       "      <td>296862</td>\n",
       "      <td>298173</td>\n",
       "      <td>0</td>\n",
       "      <td>ATGGTTTTACCTACCGTTGCCATTGTGGGCCGTCCAAATGTGGGCA...</td>\n",
       "      <td>C</td>\n",
       "      <td>True</td>\n",
       "      <td>1311</td>\n",
       "      <td>0.196796</td>\n",
       "      <td>0.275362</td>\n",
       "      <td>...</td>\n",
       "      <td>0.000000</td>\n",
       "      <td>0.077803</td>\n",
       "      <td>0.091533</td>\n",
       "      <td>0.054920</td>\n",
       "      <td>0.061785</td>\n",
       "      <td>0.016018</td>\n",
       "      <td>0.061785</td>\n",
       "      <td>0.041190</td>\n",
       "      <td>0.043478</td>\n",
       "      <td>0.068650</td>\n",
       "    </tr>\n",
       "    <tr>\n",
       "      <th>11</th>\n",
       "      <td>11</td>\n",
       "      <td>771126</td>\n",
       "      <td>771645</td>\n",
       "      <td>0</td>\n",
       "      <td>ATGGATTTAACAAATTACATTGCATCGATCAAAGATTACCCTAAAG...</td>\n",
       "      <td>C</td>\n",
       "      <td>True</td>\n",
       "      <td>519</td>\n",
       "      <td>0.157996</td>\n",
       "      <td>0.287091</td>\n",
       "      <td>...</td>\n",
       "      <td>0.017341</td>\n",
       "      <td>0.104046</td>\n",
       "      <td>0.069364</td>\n",
       "      <td>0.063584</td>\n",
       "      <td>0.104046</td>\n",
       "      <td>0.011561</td>\n",
       "      <td>0.046243</td>\n",
       "      <td>0.052023</td>\n",
       "      <td>0.028902</td>\n",
       "      <td>0.052023</td>\n",
       "    </tr>\n",
       "    <tr>\n",
       "      <th>12</th>\n",
       "      <td>12</td>\n",
       "      <td>601560</td>\n",
       "      <td>602448</td>\n",
       "      <td>0</td>\n",
       "      <td>ATGTTCTTTGAGGACGCAGAGATGTATGTTCCAGCTCAAATGCTTT...</td>\n",
       "      <td>C</td>\n",
       "      <td>False</td>\n",
       "      <td>888</td>\n",
       "      <td>0.168919</td>\n",
       "      <td>0.313063</td>\n",
       "      <td>...</td>\n",
       "      <td>0.016892</td>\n",
       "      <td>0.070946</td>\n",
       "      <td>0.050676</td>\n",
       "      <td>0.067568</td>\n",
       "      <td>0.054054</td>\n",
       "      <td>0.023649</td>\n",
       "      <td>0.023649</td>\n",
       "      <td>0.070946</td>\n",
       "      <td>0.043919</td>\n",
       "      <td>0.077703</td>\n",
       "    </tr>\n",
       "    <tr>\n",
       "      <th>13</th>\n",
       "      <td>13</td>\n",
       "      <td>769458</td>\n",
       "      <td>770976</td>\n",
       "      <td>0</td>\n",
       "      <td>ATGGTAAGCTTGACAGGTGAAAACCGTGTTTTAGTCAAAAATGGTC...</td>\n",
       "      <td>C</td>\n",
       "      <td>False</td>\n",
       "      <td>1518</td>\n",
       "      <td>0.187747</td>\n",
       "      <td>0.301713</td>\n",
       "      <td>...</td>\n",
       "      <td>0.001976</td>\n",
       "      <td>0.075099</td>\n",
       "      <td>0.063241</td>\n",
       "      <td>0.065217</td>\n",
       "      <td>0.061265</td>\n",
       "      <td>0.023715</td>\n",
       "      <td>0.037549</td>\n",
       "      <td>0.035573</td>\n",
       "      <td>0.053360</td>\n",
       "      <td>0.065217</td>\n",
       "    </tr>\n",
       "    <tr>\n",
       "      <th>14</th>\n",
       "      <td>14</td>\n",
       "      <td>320357</td>\n",
       "      <td>320606</td>\n",
       "      <td>2</td>\n",
       "      <td>ATGCTGATTTTTGGTAGCCTATTGATTATTTGTTATCAGAGGCTAC...</td>\n",
       "      <td>C</td>\n",
       "      <td>False</td>\n",
       "      <td>249</td>\n",
       "      <td>0.132530</td>\n",
       "      <td>0.293173</td>\n",
       "      <td>...</td>\n",
       "      <td>0.012048</td>\n",
       "      <td>0.012048</td>\n",
       "      <td>0.036145</td>\n",
       "      <td>0.048193</td>\n",
       "      <td>0.072289</td>\n",
       "      <td>0.036145</td>\n",
       "      <td>0.048193</td>\n",
       "      <td>0.024096</td>\n",
       "      <td>0.108434</td>\n",
       "      <td>0.012048</td>\n",
       "    </tr>\n",
       "    <tr>\n",
       "      <th>15</th>\n",
       "      <td>15</td>\n",
       "      <td>958077</td>\n",
       "      <td>958854</td>\n",
       "      <td>0</td>\n",
       "      <td>ATGGCAGAAGGAGAAACGGTTAAAAAAATATCGACCTCTCCAGAAC...</td>\n",
       "      <td>C</td>\n",
       "      <td>False</td>\n",
       "      <td>777</td>\n",
       "      <td>0.176319</td>\n",
       "      <td>0.329472</td>\n",
       "      <td>...</td>\n",
       "      <td>0.042471</td>\n",
       "      <td>0.046332</td>\n",
       "      <td>0.069498</td>\n",
       "      <td>0.100386</td>\n",
       "      <td>0.065637</td>\n",
       "      <td>0.015444</td>\n",
       "      <td>0.042471</td>\n",
       "      <td>0.057915</td>\n",
       "      <td>0.050193</td>\n",
       "      <td>0.111969</td>\n",
       "    </tr>\n",
       "    <tr>\n",
       "      <th>16</th>\n",
       "      <td>16</td>\n",
       "      <td>1681070</td>\n",
       "      <td>1682093</td>\n",
       "      <td>2</td>\n",
       "      <td>ATGTTGGTTAAAATCCCTCTGATTCAGTGCTTTTATGGCATTCGTT...</td>\n",
       "      <td>C</td>\n",
       "      <td>False</td>\n",
       "      <td>1023</td>\n",
       "      <td>0.215054</td>\n",
       "      <td>0.296188</td>\n",
       "      <td>...</td>\n",
       "      <td>0.023460</td>\n",
       "      <td>0.067449</td>\n",
       "      <td>0.046921</td>\n",
       "      <td>0.093842</td>\n",
       "      <td>0.046921</td>\n",
       "      <td>0.029326</td>\n",
       "      <td>0.058651</td>\n",
       "      <td>0.058651</td>\n",
       "      <td>0.043988</td>\n",
       "      <td>0.067449</td>\n",
       "    </tr>\n",
       "    <tr>\n",
       "      <th>17</th>\n",
       "      <td>17</td>\n",
       "      <td>977636</td>\n",
       "      <td>978299</td>\n",
       "      <td>2</td>\n",
       "      <td>ATGGCGATTGCCTTGACGGATTTAGGCTTTGACACAGGCTTGGATA...</td>\n",
       "      <td>C</td>\n",
       "      <td>False</td>\n",
       "      <td>663</td>\n",
       "      <td>0.209653</td>\n",
       "      <td>0.322775</td>\n",
       "      <td>...</td>\n",
       "      <td>0.004525</td>\n",
       "      <td>0.067873</td>\n",
       "      <td>0.081448</td>\n",
       "      <td>0.045249</td>\n",
       "      <td>0.063348</td>\n",
       "      <td>0.009050</td>\n",
       "      <td>0.045249</td>\n",
       "      <td>0.072398</td>\n",
       "      <td>0.022624</td>\n",
       "      <td>0.085973</td>\n",
       "    </tr>\n",
       "    <tr>\n",
       "      <th>18</th>\n",
       "      <td>18</td>\n",
       "      <td>537256</td>\n",
       "      <td>537571</td>\n",
       "      <td>1</td>\n",
       "      <td>ATGAACTGGAATACCGTCATCGGAGCTAAGGGGGTTGCTCGTATTA...</td>\n",
       "      <td>C</td>\n",
       "      <td>False</td>\n",
       "      <td>315</td>\n",
       "      <td>0.222222</td>\n",
       "      <td>0.371429</td>\n",
       "      <td>...</td>\n",
       "      <td>0.000000</td>\n",
       "      <td>0.085714</td>\n",
       "      <td>0.047619</td>\n",
       "      <td>0.057143</td>\n",
       "      <td>0.104762</td>\n",
       "      <td>0.009524</td>\n",
       "      <td>0.028571</td>\n",
       "      <td>0.047619</td>\n",
       "      <td>0.019048</td>\n",
       "      <td>0.019048</td>\n",
       "    </tr>\n",
       "    <tr>\n",
       "      <th>19</th>\n",
       "      <td>19</td>\n",
       "      <td>886057</td>\n",
       "      <td>886375</td>\n",
       "      <td>1</td>\n",
       "      <td>ATGGCTCAATTAGATTTGACCATTACAGAGTTGCAGGACCATATTG...</td>\n",
       "      <td>C</td>\n",
       "      <td>False</td>\n",
       "      <td>318</td>\n",
       "      <td>0.144654</td>\n",
       "      <td>0.371069</td>\n",
       "      <td>...</td>\n",
       "      <td>0.000000</td>\n",
       "      <td>0.066038</td>\n",
       "      <td>0.037736</td>\n",
       "      <td>0.056604</td>\n",
       "      <td>0.009434</td>\n",
       "      <td>0.018868</td>\n",
       "      <td>0.056604</td>\n",
       "      <td>0.000000</td>\n",
       "      <td>0.009434</td>\n",
       "      <td>0.141509</td>\n",
       "    </tr>\n",
       "    <tr>\n",
       "      <th>20</th>\n",
       "      <td>20</td>\n",
       "      <td>209060</td>\n",
       "      <td>209882</td>\n",
       "      <td>2</td>\n",
       "      <td>ATGCAAATTTCTCACGTTATCCGTGGCGATGACCATATTGCCAATA...</td>\n",
       "      <td>C</td>\n",
       "      <td>False</td>\n",
       "      <td>822</td>\n",
       "      <td>0.200730</td>\n",
       "      <td>0.328467</td>\n",
       "      <td>...</td>\n",
       "      <td>0.003650</td>\n",
       "      <td>0.072993</td>\n",
       "      <td>0.036496</td>\n",
       "      <td>0.091241</td>\n",
       "      <td>0.054745</td>\n",
       "      <td>0.021898</td>\n",
       "      <td>0.029197</td>\n",
       "      <td>0.051095</td>\n",
       "      <td>0.058394</td>\n",
       "      <td>0.113139</td>\n",
       "    </tr>\n",
       "    <tr>\n",
       "      <th>21</th>\n",
       "      <td>21</td>\n",
       "      <td>377213</td>\n",
       "      <td>377480</td>\n",
       "      <td>2</td>\n",
       "      <td>ATGAAAATGGTGCTGAAAAGCTCTTGGGACGGGGTGATATGCTCTT...</td>\n",
       "      <td>C</td>\n",
       "      <td>False</td>\n",
       "      <td>267</td>\n",
       "      <td>0.176030</td>\n",
       "      <td>0.262172</td>\n",
       "      <td>...</td>\n",
       "      <td>0.022472</td>\n",
       "      <td>0.033708</td>\n",
       "      <td>0.067416</td>\n",
       "      <td>0.134831</td>\n",
       "      <td>0.022472</td>\n",
       "      <td>0.000000</td>\n",
       "      <td>0.022472</td>\n",
       "      <td>0.022472</td>\n",
       "      <td>0.033708</td>\n",
       "      <td>0.022472</td>\n",
       "    </tr>\n",
       "    <tr>\n",
       "      <th>22</th>\n",
       "      <td>22</td>\n",
       "      <td>1517339</td>\n",
       "      <td>1517774</td>\n",
       "      <td>2</td>\n",
       "      <td>ATGATGGAACTTGAAAAATCCATTGTCTACTTAAAGGCTTCCTTGA...</td>\n",
       "      <td>C</td>\n",
       "      <td>False</td>\n",
       "      <td>435</td>\n",
       "      <td>0.204598</td>\n",
       "      <td>0.319540</td>\n",
       "      <td>...</td>\n",
       "      <td>0.000000</td>\n",
       "      <td>0.068966</td>\n",
       "      <td>0.041379</td>\n",
       "      <td>0.068966</td>\n",
       "      <td>0.020690</td>\n",
       "      <td>0.006897</td>\n",
       "      <td>0.013793</td>\n",
       "      <td>0.013793</td>\n",
       "      <td>0.048276</td>\n",
       "      <td>0.075862</td>\n",
       "    </tr>\n",
       "    <tr>\n",
       "      <th>23</th>\n",
       "      <td>23</td>\n",
       "      <td>402419</td>\n",
       "      <td>403352</td>\n",
       "      <td>2</td>\n",
       "      <td>ATGGGTGGTTTAGCTATTATTCCTAATGTGTTTTGGTTACTCATTT...</td>\n",
       "      <td>C</td>\n",
       "      <td>False</td>\n",
       "      <td>933</td>\n",
       "      <td>0.153269</td>\n",
       "      <td>0.256163</td>\n",
       "      <td>...</td>\n",
       "      <td>0.006431</td>\n",
       "      <td>0.073955</td>\n",
       "      <td>0.093248</td>\n",
       "      <td>0.038585</td>\n",
       "      <td>0.093248</td>\n",
       "      <td>0.009646</td>\n",
       "      <td>0.035370</td>\n",
       "      <td>0.035370</td>\n",
       "      <td>0.067524</td>\n",
       "      <td>0.022508</td>\n",
       "    </tr>\n",
       "    <tr>\n",
       "      <th>24</th>\n",
       "      <td>24</td>\n",
       "      <td>11886</td>\n",
       "      <td>12237</td>\n",
       "      <td>0</td>\n",
       "      <td>ATGTTAGAATACGATAGTAACTTATGCTACAGAGATTATTATTTTT...</td>\n",
       "      <td>C</td>\n",
       "      <td>False</td>\n",
       "      <td>351</td>\n",
       "      <td>0.102564</td>\n",
       "      <td>0.384615</td>\n",
       "      <td>...</td>\n",
       "      <td>0.017094</td>\n",
       "      <td>0.034188</td>\n",
       "      <td>0.017094</td>\n",
       "      <td>0.094017</td>\n",
       "      <td>0.051282</td>\n",
       "      <td>0.017094</td>\n",
       "      <td>0.059829</td>\n",
       "      <td>0.017094</td>\n",
       "      <td>0.068376</td>\n",
       "      <td>0.059829</td>\n",
       "    </tr>\n",
       "    <tr>\n",
       "      <th>25</th>\n",
       "      <td>25</td>\n",
       "      <td>1171061</td>\n",
       "      <td>1171481</td>\n",
       "      <td>2</td>\n",
       "      <td>ATGCTCTGCAATCCCCCTTACTTTAAAAGTCACGAAAGTTCTAAGA...</td>\n",
       "      <td>C</td>\n",
       "      <td>False</td>\n",
       "      <td>420</td>\n",
       "      <td>0.195238</td>\n",
       "      <td>0.311905</td>\n",
       "      <td>...</td>\n",
       "      <td>0.014286</td>\n",
       "      <td>0.071429</td>\n",
       "      <td>0.057143</td>\n",
       "      <td>0.078571</td>\n",
       "      <td>0.057143</td>\n",
       "      <td>0.064286</td>\n",
       "      <td>0.050000</td>\n",
       "      <td>0.057143</td>\n",
       "      <td>0.035714</td>\n",
       "      <td>0.078571</td>\n",
       "    </tr>\n",
       "    <tr>\n",
       "      <th>26</th>\n",
       "      <td>26</td>\n",
       "      <td>570543</td>\n",
       "      <td>571887</td>\n",
       "      <td>0</td>\n",
       "      <td>ATGGTTGCTCGAACAGAAGATTCTCAAAATGGTGATTTCACGCCTA...</td>\n",
       "      <td>C</td>\n",
       "      <td>False</td>\n",
       "      <td>1344</td>\n",
       "      <td>0.208333</td>\n",
       "      <td>0.287946</td>\n",
       "      <td>...</td>\n",
       "      <td>0.004464</td>\n",
       "      <td>0.071429</td>\n",
       "      <td>0.062500</td>\n",
       "      <td>0.037946</td>\n",
       "      <td>0.051339</td>\n",
       "      <td>0.033482</td>\n",
       "      <td>0.044643</td>\n",
       "      <td>0.055804</td>\n",
       "      <td>0.044643</td>\n",
       "      <td>0.066964</td>\n",
       "    </tr>\n",
       "    <tr>\n",
       "      <th>27</th>\n",
       "      <td>27</td>\n",
       "      <td>1142592</td>\n",
       "      <td>1144068</td>\n",
       "      <td>0</td>\n",
       "      <td>ATGAAATTATTTGAAGATAGTTTTTCTTATTCAAATCAACTTGGGC...</td>\n",
       "      <td>C</td>\n",
       "      <td>False</td>\n",
       "      <td>1476</td>\n",
       "      <td>0.204607</td>\n",
       "      <td>0.310976</td>\n",
       "      <td>...</td>\n",
       "      <td>0.010163</td>\n",
       "      <td>0.058943</td>\n",
       "      <td>0.048780</td>\n",
       "      <td>0.063008</td>\n",
       "      <td>0.052846</td>\n",
       "      <td>0.022358</td>\n",
       "      <td>0.034553</td>\n",
       "      <td>0.036585</td>\n",
       "      <td>0.044715</td>\n",
       "      <td>0.065041</td>\n",
       "    </tr>\n",
       "    <tr>\n",
       "      <th>28</th>\n",
       "      <td>28</td>\n",
       "      <td>363944</td>\n",
       "      <td>364280</td>\n",
       "      <td>2</td>\n",
       "      <td>ATGTGCTCAATAGCAAGTTTTATAGCGGGTGGCGGTGGTGTTGCCT...</td>\n",
       "      <td>C</td>\n",
       "      <td>False</td>\n",
       "      <td>336</td>\n",
       "      <td>0.193452</td>\n",
       "      <td>0.252976</td>\n",
       "      <td>...</td>\n",
       "      <td>0.008929</td>\n",
       "      <td>0.142857</td>\n",
       "      <td>0.044643</td>\n",
       "      <td>0.062500</td>\n",
       "      <td>0.133929</td>\n",
       "      <td>0.017857</td>\n",
       "      <td>0.035714</td>\n",
       "      <td>0.035714</td>\n",
       "      <td>0.044643</td>\n",
       "      <td>0.044643</td>\n",
       "    </tr>\n",
       "    <tr>\n",
       "      <th>29</th>\n",
       "      <td>29</td>\n",
       "      <td>1323405</td>\n",
       "      <td>1323630</td>\n",
       "      <td>0</td>\n",
       "      <td>ATGAATATATTTCTCGCCAGCCAAATCATGACCAACCTTTCTATGC...</td>\n",
       "      <td>C</td>\n",
       "      <td>False</td>\n",
       "      <td>225</td>\n",
       "      <td>0.262222</td>\n",
       "      <td>0.324444</td>\n",
       "      <td>...</td>\n",
       "      <td>0.000000</td>\n",
       "      <td>0.040000</td>\n",
       "      <td>0.013333</td>\n",
       "      <td>0.093333</td>\n",
       "      <td>0.013333</td>\n",
       "      <td>0.013333</td>\n",
       "      <td>0.066667</td>\n",
       "      <td>0.066667</td>\n",
       "      <td>0.026667</td>\n",
       "      <td>0.000000</td>\n",
       "    </tr>\n",
       "    <tr>\n",
       "      <th>...</th>\n",
       "      <td>...</td>\n",
       "      <td>...</td>\n",
       "      <td>...</td>\n",
       "      <td>...</td>\n",
       "      <td>...</td>\n",
       "      <td>...</td>\n",
       "      <td>...</td>\n",
       "      <td>...</td>\n",
       "      <td>...</td>\n",
       "      <td>...</td>\n",
       "      <td>...</td>\n",
       "      <td>...</td>\n",
       "      <td>...</td>\n",
       "      <td>...</td>\n",
       "      <td>...</td>\n",
       "      <td>...</td>\n",
       "      <td>...</td>\n",
       "      <td>...</td>\n",
       "      <td>...</td>\n",
       "      <td>...</td>\n",
       "      <td>...</td>\n",
       "    </tr>\n",
       "    <tr>\n",
       "      <th>1498</th>\n",
       "      <td>1498</td>\n",
       "      <td>1777799</td>\n",
       "      <td>1778423</td>\n",
       "      <td>2</td>\n",
       "      <td>ATGAACAAAACAGAAACATGGAACGGATATACTATCCGATTTGTAG...</td>\n",
       "      <td>C</td>\n",
       "      <td>True</td>\n",
       "      <td>624</td>\n",
       "      <td>0.161859</td>\n",
       "      <td>0.384615</td>\n",
       "      <td>...</td>\n",
       "      <td>0.000000</td>\n",
       "      <td>0.057692</td>\n",
       "      <td>0.067308</td>\n",
       "      <td>0.115385</td>\n",
       "      <td>0.048077</td>\n",
       "      <td>0.014423</td>\n",
       "      <td>0.043269</td>\n",
       "      <td>0.014423</td>\n",
       "      <td>0.048077</td>\n",
       "      <td>0.086538</td>\n",
       "    </tr>\n",
       "    <tr>\n",
       "      <th>1499</th>\n",
       "      <td>1499</td>\n",
       "      <td>1778947</td>\n",
       "      <td>1779289</td>\n",
       "      <td>1</td>\n",
       "      <td>ATGAAATATAGAGTAGAAACAAATCCTTTTTCAAAAGATAGATACA...</td>\n",
       "      <td>C</td>\n",
       "      <td>True</td>\n",
       "      <td>342</td>\n",
       "      <td>0.175439</td>\n",
       "      <td>0.380117</td>\n",
       "      <td>...</td>\n",
       "      <td>0.008772</td>\n",
       "      <td>0.061404</td>\n",
       "      <td>0.061404</td>\n",
       "      <td>0.078947</td>\n",
       "      <td>0.017544</td>\n",
       "      <td>0.026316</td>\n",
       "      <td>0.061404</td>\n",
       "      <td>0.026316</td>\n",
       "      <td>0.061404</td>\n",
       "      <td>0.122807</td>\n",
       "    </tr>\n",
       "    <tr>\n",
       "      <th>1500</th>\n",
       "      <td>1500</td>\n",
       "      <td>1779499</td>\n",
       "      <td>1779691</td>\n",
       "      <td>1</td>\n",
       "      <td>ATGCAAGAACTTAACCTCACACCAACACAGACGCTTATTCTATTCT...</td>\n",
       "      <td>C</td>\n",
       "      <td>True</td>\n",
       "      <td>192</td>\n",
       "      <td>0.239583</td>\n",
       "      <td>0.317708</td>\n",
       "      <td>...</td>\n",
       "      <td>0.000000</td>\n",
       "      <td>0.031250</td>\n",
       "      <td>0.031250</td>\n",
       "      <td>0.031250</td>\n",
       "      <td>0.046875</td>\n",
       "      <td>0.015625</td>\n",
       "      <td>0.031250</td>\n",
       "      <td>0.062500</td>\n",
       "      <td>0.031250</td>\n",
       "      <td>0.031250</td>\n",
       "    </tr>\n",
       "    <tr>\n",
       "      <th>1501</th>\n",
       "      <td>1501</td>\n",
       "      <td>1779702</td>\n",
       "      <td>1780032</td>\n",
       "      <td>0</td>\n",
       "      <td>ATGACACTACCAGAGAATTATAGACGTGTCCTTAATCTGATCAAGG...</td>\n",
       "      <td>C</td>\n",
       "      <td>True</td>\n",
       "      <td>330</td>\n",
       "      <td>0.196970</td>\n",
       "      <td>0.339394</td>\n",
       "      <td>...</td>\n",
       "      <td>0.000000</td>\n",
       "      <td>0.054545</td>\n",
       "      <td>0.054545</td>\n",
       "      <td>0.063636</td>\n",
       "      <td>0.081818</td>\n",
       "      <td>0.009091</td>\n",
       "      <td>0.063636</td>\n",
       "      <td>0.036364</td>\n",
       "      <td>0.027273</td>\n",
       "      <td>0.081818</td>\n",
       "    </tr>\n",
       "    <tr>\n",
       "      <th>1502</th>\n",
       "      <td>1502</td>\n",
       "      <td>1780034</td>\n",
       "      <td>1781165</td>\n",
       "      <td>2</td>\n",
       "      <td>ATGAACGTATTTAGTCAAGATTATGAAGCCAAACTCTTAGAACAAA...</td>\n",
       "      <td>C</td>\n",
       "      <td>True</td>\n",
       "      <td>1131</td>\n",
       "      <td>0.199823</td>\n",
       "      <td>0.320955</td>\n",
       "      <td>...</td>\n",
       "      <td>0.005305</td>\n",
       "      <td>0.050398</td>\n",
       "      <td>0.066313</td>\n",
       "      <td>0.074271</td>\n",
       "      <td>0.053050</td>\n",
       "      <td>0.010610</td>\n",
       "      <td>0.058355</td>\n",
       "      <td>0.068966</td>\n",
       "      <td>0.037135</td>\n",
       "      <td>0.068966</td>\n",
       "    </tr>\n",
       "    <tr>\n",
       "      <th>1503</th>\n",
       "      <td>1503</td>\n",
       "      <td>1783561</td>\n",
       "      <td>1783972</td>\n",
       "      <td>1</td>\n",
       "      <td>ATGACTGGTACTTATGAGCAACCAGTGATTGACGCAACTTATCACA...</td>\n",
       "      <td>C</td>\n",
       "      <td>True</td>\n",
       "      <td>411</td>\n",
       "      <td>0.189781</td>\n",
       "      <td>0.323601</td>\n",
       "      <td>...</td>\n",
       "      <td>0.007299</td>\n",
       "      <td>0.043796</td>\n",
       "      <td>0.072993</td>\n",
       "      <td>0.065693</td>\n",
       "      <td>0.043796</td>\n",
       "      <td>0.036496</td>\n",
       "      <td>0.029197</td>\n",
       "      <td>0.021898</td>\n",
       "      <td>0.029197</td>\n",
       "      <td>0.072993</td>\n",
       "    </tr>\n",
       "    <tr>\n",
       "      <th>1504</th>\n",
       "      <td>1504</td>\n",
       "      <td>1784937</td>\n",
       "      <td>1785300</td>\n",
       "      <td>0</td>\n",
       "      <td>ATGAGCGCTAAAGAACAACTTAAAGAATTGAAACCACTTTTCGCTT...</td>\n",
       "      <td>C</td>\n",
       "      <td>True</td>\n",
       "      <td>363</td>\n",
       "      <td>0.176309</td>\n",
       "      <td>0.393939</td>\n",
       "      <td>...</td>\n",
       "      <td>0.000000</td>\n",
       "      <td>0.090909</td>\n",
       "      <td>0.033058</td>\n",
       "      <td>0.107438</td>\n",
       "      <td>0.016529</td>\n",
       "      <td>0.024793</td>\n",
       "      <td>0.066116</td>\n",
       "      <td>0.016529</td>\n",
       "      <td>0.033058</td>\n",
       "      <td>0.107438</td>\n",
       "    </tr>\n",
       "    <tr>\n",
       "      <th>1505</th>\n",
       "      <td>1505</td>\n",
       "      <td>1785831</td>\n",
       "      <td>1786407</td>\n",
       "      <td>0</td>\n",
       "      <td>TTGATATTTAATTTTAAGGAGAATATAGTGAAAAAGAAATTAGTTT...</td>\n",
       "      <td>C</td>\n",
       "      <td>True</td>\n",
       "      <td>576</td>\n",
       "      <td>0.130208</td>\n",
       "      <td>0.373264</td>\n",
       "      <td>...</td>\n",
       "      <td>0.005208</td>\n",
       "      <td>0.062500</td>\n",
       "      <td>0.057292</td>\n",
       "      <td>0.088542</td>\n",
       "      <td>0.093750</td>\n",
       "      <td>0.000000</td>\n",
       "      <td>0.020833</td>\n",
       "      <td>0.020833</td>\n",
       "      <td>0.036458</td>\n",
       "      <td>0.052083</td>\n",
       "    </tr>\n",
       "    <tr>\n",
       "      <th>1506</th>\n",
       "      <td>1506</td>\n",
       "      <td>1790639</td>\n",
       "      <td>1792331</td>\n",
       "      <td>2</td>\n",
       "      <td>ATGGATACTAAAACTCTAATCGCAAGTGAAATAGCTAAAGTTGTTC...</td>\n",
       "      <td>C</td>\n",
       "      <td>True</td>\n",
       "      <td>1692</td>\n",
       "      <td>0.214539</td>\n",
       "      <td>0.304374</td>\n",
       "      <td>...</td>\n",
       "      <td>0.001773</td>\n",
       "      <td>0.115248</td>\n",
       "      <td>0.062057</td>\n",
       "      <td>0.074468</td>\n",
       "      <td>0.051418</td>\n",
       "      <td>0.019504</td>\n",
       "      <td>0.039007</td>\n",
       "      <td>0.031915</td>\n",
       "      <td>0.044326</td>\n",
       "      <td>0.076241</td>\n",
       "    </tr>\n",
       "    <tr>\n",
       "      <th>1507</th>\n",
       "      <td>1507</td>\n",
       "      <td>1792418</td>\n",
       "      <td>1792727</td>\n",
       "      <td>2</td>\n",
       "      <td>ATGCCATCAGAAAAAGAAATATTAGATGCTCTTAGTAAAGTTTATA...</td>\n",
       "      <td>C</td>\n",
       "      <td>True</td>\n",
       "      <td>309</td>\n",
       "      <td>0.184466</td>\n",
       "      <td>0.359223</td>\n",
       "      <td>...</td>\n",
       "      <td>0.000000</td>\n",
       "      <td>0.087379</td>\n",
       "      <td>0.029126</td>\n",
       "      <td>0.087379</td>\n",
       "      <td>0.048544</td>\n",
       "      <td>0.019417</td>\n",
       "      <td>0.019417</td>\n",
       "      <td>0.029126</td>\n",
       "      <td>0.048544</td>\n",
       "      <td>0.058252</td>\n",
       "    </tr>\n",
       "    <tr>\n",
       "      <th>1508</th>\n",
       "      <td>1508</td>\n",
       "      <td>1799148</td>\n",
       "      <td>1799268</td>\n",
       "      <td>0</td>\n",
       "      <td>ATGACAGCTCCATCTGTACAATTCGACGAAACTACTGGAGATTACT...</td>\n",
       "      <td>C</td>\n",
       "      <td>True</td>\n",
       "      <td>120</td>\n",
       "      <td>0.233333</td>\n",
       "      <td>0.366667</td>\n",
       "      <td>...</td>\n",
       "      <td>0.000000</td>\n",
       "      <td>0.100000</td>\n",
       "      <td>0.050000</td>\n",
       "      <td>0.125000</td>\n",
       "      <td>0.075000</td>\n",
       "      <td>0.025000</td>\n",
       "      <td>0.075000</td>\n",
       "      <td>0.025000</td>\n",
       "      <td>0.025000</td>\n",
       "      <td>0.050000</td>\n",
       "    </tr>\n",
       "    <tr>\n",
       "      <th>1509</th>\n",
       "      <td>1509</td>\n",
       "      <td>1799283</td>\n",
       "      <td>1799433</td>\n",
       "      <td>0</td>\n",
       "      <td>ATGCGCGTAAATATTACACTTGAACATAAAGAATCTGGTGAACGCT...</td>\n",
       "      <td>C</td>\n",
       "      <td>True</td>\n",
       "      <td>150</td>\n",
       "      <td>0.206667</td>\n",
       "      <td>0.406667</td>\n",
       "      <td>...</td>\n",
       "      <td>0.000000</td>\n",
       "      <td>0.000000</td>\n",
       "      <td>0.060000</td>\n",
       "      <td>0.160000</td>\n",
       "      <td>0.020000</td>\n",
       "      <td>0.040000</td>\n",
       "      <td>0.100000</td>\n",
       "      <td>0.040000</td>\n",
       "      <td>0.020000</td>\n",
       "      <td>0.080000</td>\n",
       "    </tr>\n",
       "    <tr>\n",
       "      <th>1510</th>\n",
       "      <td>1510</td>\n",
       "      <td>1800351</td>\n",
       "      <td>1800690</td>\n",
       "      <td>0</td>\n",
       "      <td>ATGAAAAAAGATAGTATCTGTCAAGTGGGTGTTATAAATCAACAAA...</td>\n",
       "      <td>C</td>\n",
       "      <td>True</td>\n",
       "      <td>339</td>\n",
       "      <td>0.174041</td>\n",
       "      <td>0.380531</td>\n",
       "      <td>...</td>\n",
       "      <td>0.035398</td>\n",
       "      <td>0.053097</td>\n",
       "      <td>0.053097</td>\n",
       "      <td>0.088496</td>\n",
       "      <td>0.026549</td>\n",
       "      <td>0.017699</td>\n",
       "      <td>0.044248</td>\n",
       "      <td>0.000000</td>\n",
       "      <td>0.044248</td>\n",
       "      <td>0.061947</td>\n",
       "    </tr>\n",
       "    <tr>\n",
       "      <th>1511</th>\n",
       "      <td>1511</td>\n",
       "      <td>1800719</td>\n",
       "      <td>1801664</td>\n",
       "      <td>2</td>\n",
       "      <td>ATGATTATAGGGGGATTATATATGAAATTTTTTGAAGAAAATTATT...</td>\n",
       "      <td>C</td>\n",
       "      <td>True</td>\n",
       "      <td>945</td>\n",
       "      <td>0.133333</td>\n",
       "      <td>0.369312</td>\n",
       "      <td>...</td>\n",
       "      <td>0.006349</td>\n",
       "      <td>0.031746</td>\n",
       "      <td>0.041270</td>\n",
       "      <td>0.073016</td>\n",
       "      <td>0.034921</td>\n",
       "      <td>0.009524</td>\n",
       "      <td>0.041270</td>\n",
       "      <td>0.028571</td>\n",
       "      <td>0.063492</td>\n",
       "      <td>0.073016</td>\n",
       "    </tr>\n",
       "    <tr>\n",
       "      <th>1512</th>\n",
       "      <td>1512</td>\n",
       "      <td>1801729</td>\n",
       "      <td>1802482</td>\n",
       "      <td>1</td>\n",
       "      <td>TTGGCGATTCCTGATTTAGATAAATTTTCATCTAACTTACAACAGG...</td>\n",
       "      <td>C</td>\n",
       "      <td>True</td>\n",
       "      <td>753</td>\n",
       "      <td>0.227092</td>\n",
       "      <td>0.322709</td>\n",
       "      <td>...</td>\n",
       "      <td>0.007968</td>\n",
       "      <td>0.047809</td>\n",
       "      <td>0.059761</td>\n",
       "      <td>0.063745</td>\n",
       "      <td>0.059761</td>\n",
       "      <td>0.043825</td>\n",
       "      <td>0.019920</td>\n",
       "      <td>0.055777</td>\n",
       "      <td>0.047809</td>\n",
       "      <td>0.039841</td>\n",
       "    </tr>\n",
       "    <tr>\n",
       "      <th>1513</th>\n",
       "      <td>1513</td>\n",
       "      <td>1804291</td>\n",
       "      <td>1805134</td>\n",
       "      <td>1</td>\n",
       "      <td>ATGGTTTCATTTATTTCAAGAGTTTTTAAAGGCATGATTATTGCAC...</td>\n",
       "      <td>C</td>\n",
       "      <td>True</td>\n",
       "      <td>843</td>\n",
       "      <td>0.185053</td>\n",
       "      <td>0.243179</td>\n",
       "      <td>...</td>\n",
       "      <td>0.000000</td>\n",
       "      <td>0.067616</td>\n",
       "      <td>0.064057</td>\n",
       "      <td>0.035587</td>\n",
       "      <td>0.103203</td>\n",
       "      <td>0.024911</td>\n",
       "      <td>0.014235</td>\n",
       "      <td>0.039146</td>\n",
       "      <td>0.074733</td>\n",
       "      <td>0.024911</td>\n",
       "    </tr>\n",
       "    <tr>\n",
       "      <th>1514</th>\n",
       "      <td>1514</td>\n",
       "      <td>1806028</td>\n",
       "      <td>1806355</td>\n",
       "      <td>1</td>\n",
       "      <td>ATGTATTTTCCAGTATCGGCTACCTTGATTGAATTTCTGATTTTAG...</td>\n",
       "      <td>C</td>\n",
       "      <td>True</td>\n",
       "      <td>327</td>\n",
       "      <td>0.162080</td>\n",
       "      <td>0.339450</td>\n",
       "      <td>...</td>\n",
       "      <td>0.000000</td>\n",
       "      <td>0.064220</td>\n",
       "      <td>0.036697</td>\n",
       "      <td>0.110092</td>\n",
       "      <td>0.055046</td>\n",
       "      <td>0.018349</td>\n",
       "      <td>0.036697</td>\n",
       "      <td>0.018349</td>\n",
       "      <td>0.045872</td>\n",
       "      <td>0.064220</td>\n",
       "    </tr>\n",
       "    <tr>\n",
       "      <th>1515</th>\n",
       "      <td>1515</td>\n",
       "      <td>1810530</td>\n",
       "      <td>1811064</td>\n",
       "      <td>0</td>\n",
       "      <td>ATGGTCAACCGTAAAGAAAATACGAAGCAAGCAATTTTAAAAGCAA...</td>\n",
       "      <td>C</td>\n",
       "      <td>True</td>\n",
       "      <td>534</td>\n",
       "      <td>0.179775</td>\n",
       "      <td>0.378277</td>\n",
       "      <td>...</td>\n",
       "      <td>0.005618</td>\n",
       "      <td>0.050562</td>\n",
       "      <td>0.039326</td>\n",
       "      <td>0.112360</td>\n",
       "      <td>0.022472</td>\n",
       "      <td>0.016854</td>\n",
       "      <td>0.028090</td>\n",
       "      <td>0.005618</td>\n",
       "      <td>0.073034</td>\n",
       "      <td>0.089888</td>\n",
       "    </tr>\n",
       "    <tr>\n",
       "      <th>1516</th>\n",
       "      <td>1516</td>\n",
       "      <td>1822621</td>\n",
       "      <td>1823293</td>\n",
       "      <td>1</td>\n",
       "      <td>ATGAATACACAAAAATTTCAATCAGTTTTTGACATCATTGGGCCAG...</td>\n",
       "      <td>C</td>\n",
       "      <td>True</td>\n",
       "      <td>672</td>\n",
       "      <td>0.180060</td>\n",
       "      <td>0.339286</td>\n",
       "      <td>...</td>\n",
       "      <td>0.004464</td>\n",
       "      <td>0.066964</td>\n",
       "      <td>0.084821</td>\n",
       "      <td>0.071429</td>\n",
       "      <td>0.080357</td>\n",
       "      <td>0.035714</td>\n",
       "      <td>0.017857</td>\n",
       "      <td>0.040179</td>\n",
       "      <td>0.035714</td>\n",
       "      <td>0.035714</td>\n",
       "    </tr>\n",
       "    <tr>\n",
       "      <th>1517</th>\n",
       "      <td>1517</td>\n",
       "      <td>1823304</td>\n",
       "      <td>1824177</td>\n",
       "      <td>0</td>\n",
       "      <td>ATGTTTTATACTATTGAAGAACTTGTCAAACAAGCTGACCAACAAT...</td>\n",
       "      <td>C</td>\n",
       "      <td>True</td>\n",
       "      <td>873</td>\n",
       "      <td>0.189003</td>\n",
       "      <td>0.301260</td>\n",
       "      <td>...</td>\n",
       "      <td>0.017182</td>\n",
       "      <td>0.158076</td>\n",
       "      <td>0.079038</td>\n",
       "      <td>0.044674</td>\n",
       "      <td>0.092784</td>\n",
       "      <td>0.003436</td>\n",
       "      <td>0.027491</td>\n",
       "      <td>0.024055</td>\n",
       "      <td>0.030928</td>\n",
       "      <td>0.068729</td>\n",
       "    </tr>\n",
       "    <tr>\n",
       "      <th>1518</th>\n",
       "      <td>1518</td>\n",
       "      <td>1832624</td>\n",
       "      <td>1833884</td>\n",
       "      <td>2</td>\n",
       "      <td>GTGCCTATTTTTAAAAAAACTTTAATTGTTTTATCCTTTATTTTTT...</td>\n",
       "      <td>C</td>\n",
       "      <td>True</td>\n",
       "      <td>1260</td>\n",
       "      <td>0.162698</td>\n",
       "      <td>0.314286</td>\n",
       "      <td>...</td>\n",
       "      <td>0.014286</td>\n",
       "      <td>0.057143</td>\n",
       "      <td>0.076190</td>\n",
       "      <td>0.057143</td>\n",
       "      <td>0.040476</td>\n",
       "      <td>0.016667</td>\n",
       "      <td>0.045238</td>\n",
       "      <td>0.033333</td>\n",
       "      <td>0.054762</td>\n",
       "      <td>0.042857</td>\n",
       "    </tr>\n",
       "    <tr>\n",
       "      <th>1519</th>\n",
       "      <td>1519</td>\n",
       "      <td>1833919</td>\n",
       "      <td>1835128</td>\n",
       "      <td>1</td>\n",
       "      <td>ATGAAAATAGCAGTTGCTGGATCAGGATATGTTGGATTATCACTAG...</td>\n",
       "      <td>C</td>\n",
       "      <td>True</td>\n",
       "      <td>1209</td>\n",
       "      <td>0.147229</td>\n",
       "      <td>0.379653</td>\n",
       "      <td>...</td>\n",
       "      <td>0.004963</td>\n",
       "      <td>0.064516</td>\n",
       "      <td>0.074442</td>\n",
       "      <td>0.086849</td>\n",
       "      <td>0.032258</td>\n",
       "      <td>0.009926</td>\n",
       "      <td>0.037221</td>\n",
       "      <td>0.032258</td>\n",
       "      <td>0.029777</td>\n",
       "      <td>0.066998</td>\n",
       "    </tr>\n",
       "    <tr>\n",
       "      <th>1520</th>\n",
       "      <td>1520</td>\n",
       "      <td>1835309</td>\n",
       "      <td>1836224</td>\n",
       "      <td>2</td>\n",
       "      <td>ATGACCAAAGTCAGAAAAGCCATTATTCCTGCTGCAGGTCTAGGAA...</td>\n",
       "      <td>C</td>\n",
       "      <td>True</td>\n",
       "      <td>915</td>\n",
       "      <td>0.218579</td>\n",
       "      <td>0.322404</td>\n",
       "      <td>...</td>\n",
       "      <td>0.000000</td>\n",
       "      <td>0.085246</td>\n",
       "      <td>0.072131</td>\n",
       "      <td>0.098361</td>\n",
       "      <td>0.065574</td>\n",
       "      <td>0.022951</td>\n",
       "      <td>0.032787</td>\n",
       "      <td>0.052459</td>\n",
       "      <td>0.042623</td>\n",
       "      <td>0.072131</td>\n",
       "    </tr>\n",
       "    <tr>\n",
       "      <th>1521</th>\n",
       "      <td>1521</td>\n",
       "      <td>1836531</td>\n",
       "      <td>1836945</td>\n",
       "      <td>0</td>\n",
       "      <td>ATGATATACAAATTATTTACAGAATTTATCACCCTACAAGCCCTTC...</td>\n",
       "      <td>C</td>\n",
       "      <td>True</td>\n",
       "      <td>414</td>\n",
       "      <td>0.198068</td>\n",
       "      <td>0.388889</td>\n",
       "      <td>...</td>\n",
       "      <td>0.000000</td>\n",
       "      <td>0.072464</td>\n",
       "      <td>0.043478</td>\n",
       "      <td>0.137681</td>\n",
       "      <td>0.065217</td>\n",
       "      <td>0.007246</td>\n",
       "      <td>0.050725</td>\n",
       "      <td>0.036232</td>\n",
       "      <td>0.043478</td>\n",
       "      <td>0.086957</td>\n",
       "    </tr>\n",
       "    <tr>\n",
       "      <th>1522</th>\n",
       "      <td>1522</td>\n",
       "      <td>1836946</td>\n",
       "      <td>1838053</td>\n",
       "      <td>1</td>\n",
       "      <td>ATGTGGATTAAAGAGTTAGAGTTAAAACATTATCGCAATTATGACC...</td>\n",
       "      <td>C</td>\n",
       "      <td>True</td>\n",
       "      <td>1107</td>\n",
       "      <td>0.195122</td>\n",
       "      <td>0.322493</td>\n",
       "      <td>...</td>\n",
       "      <td>0.000000</td>\n",
       "      <td>0.059621</td>\n",
       "      <td>0.054201</td>\n",
       "      <td>0.067751</td>\n",
       "      <td>0.046070</td>\n",
       "      <td>0.046070</td>\n",
       "      <td>0.043360</td>\n",
       "      <td>0.016260</td>\n",
       "      <td>0.046070</td>\n",
       "      <td>0.051491</td>\n",
       "    </tr>\n",
       "    <tr>\n",
       "      <th>1523</th>\n",
       "      <td>1523</td>\n",
       "      <td>1842402</td>\n",
       "      <td>1843275</td>\n",
       "      <td>0</td>\n",
       "      <td>ATGAAAAAACGAGGGATTGATTTACTACTTGTCACAATTGGCTCAT...</td>\n",
       "      <td>C</td>\n",
       "      <td>True</td>\n",
       "      <td>873</td>\n",
       "      <td>0.162658</td>\n",
       "      <td>0.289805</td>\n",
       "      <td>...</td>\n",
       "      <td>0.006873</td>\n",
       "      <td>0.054983</td>\n",
       "      <td>0.072165</td>\n",
       "      <td>0.048110</td>\n",
       "      <td>0.099656</td>\n",
       "      <td>0.013746</td>\n",
       "      <td>0.024055</td>\n",
       "      <td>0.030928</td>\n",
       "      <td>0.051546</td>\n",
       "      <td>0.020619</td>\n",
       "    </tr>\n",
       "    <tr>\n",
       "      <th>1524</th>\n",
       "      <td>1524</td>\n",
       "      <td>1843353</td>\n",
       "      <td>1844973</td>\n",
       "      <td>0</td>\n",
       "      <td>TTGCTTACAGTTTCTGATGTATCACTACGCTTTAGTGATCGAAAAC...</td>\n",
       "      <td>C</td>\n",
       "      <td>True</td>\n",
       "      <td>1620</td>\n",
       "      <td>0.182716</td>\n",
       "      <td>0.316667</td>\n",
       "      <td>...</td>\n",
       "      <td>0.001852</td>\n",
       "      <td>0.068519</td>\n",
       "      <td>0.059259</td>\n",
       "      <td>0.074074</td>\n",
       "      <td>0.059259</td>\n",
       "      <td>0.018519</td>\n",
       "      <td>0.040741</td>\n",
       "      <td>0.020370</td>\n",
       "      <td>0.053704</td>\n",
       "      <td>0.085185</td>\n",
       "    </tr>\n",
       "    <tr>\n",
       "      <th>1525</th>\n",
       "      <td>1525</td>\n",
       "      <td>1845055</td>\n",
       "      <td>1847632</td>\n",
       "      <td>1</td>\n",
       "      <td>ATGAAAAATAATAATAAATGGATAATTGCTGGACTTGCTAGTTTTT...</td>\n",
       "      <td>C</td>\n",
       "      <td>True</td>\n",
       "      <td>2577</td>\n",
       "      <td>0.176562</td>\n",
       "      <td>0.310827</td>\n",
       "      <td>...</td>\n",
       "      <td>0.009313</td>\n",
       "      <td>0.048894</td>\n",
       "      <td>0.036088</td>\n",
       "      <td>0.057043</td>\n",
       "      <td>0.047730</td>\n",
       "      <td>0.011641</td>\n",
       "      <td>0.020955</td>\n",
       "      <td>0.037253</td>\n",
       "      <td>0.086147</td>\n",
       "      <td>0.016298</td>\n",
       "    </tr>\n",
       "    <tr>\n",
       "      <th>1526</th>\n",
       "      <td>1526</td>\n",
       "      <td>1850351</td>\n",
       "      <td>1851575</td>\n",
       "      <td>2</td>\n",
       "      <td>ATGCCAAGTATGAAACATATCTTAAAATCCTTAAGTATTTTACTAA...</td>\n",
       "      <td>C</td>\n",
       "      <td>True</td>\n",
       "      <td>1224</td>\n",
       "      <td>0.165033</td>\n",
       "      <td>0.352124</td>\n",
       "      <td>...</td>\n",
       "      <td>0.000000</td>\n",
       "      <td>0.066176</td>\n",
       "      <td>0.083333</td>\n",
       "      <td>0.073529</td>\n",
       "      <td>0.090686</td>\n",
       "      <td>0.009804</td>\n",
       "      <td>0.014706</td>\n",
       "      <td>0.031863</td>\n",
       "      <td>0.019608</td>\n",
       "      <td>0.041667</td>\n",
       "    </tr>\n",
       "    <tr>\n",
       "      <th>1527</th>\n",
       "      <td>1527</td>\n",
       "      <td>1851633</td>\n",
       "      <td>1852440</td>\n",
       "      <td>0</td>\n",
       "      <td>ATGTTTCTTATTCTATCCAGGAACTCCCTTATGACAAAAGAATTAT...</td>\n",
       "      <td>C</td>\n",
       "      <td>True</td>\n",
       "      <td>807</td>\n",
       "      <td>0.195787</td>\n",
       "      <td>0.365551</td>\n",
       "      <td>...</td>\n",
       "      <td>0.000000</td>\n",
       "      <td>0.066914</td>\n",
       "      <td>0.033457</td>\n",
       "      <td>0.100372</td>\n",
       "      <td>0.037175</td>\n",
       "      <td>0.018587</td>\n",
       "      <td>0.044610</td>\n",
       "      <td>0.033457</td>\n",
       "      <td>0.018587</td>\n",
       "      <td>0.063197</td>\n",
       "    </tr>\n",
       "  </tbody>\n",
       "</table>\n",
       "<p>1528 rows × 33 columns</p>\n",
       "</div>"
      ],
      "text/plain": [
       "      index    start      end  frame  \\\n",
       "0         0  1357297  1358230      1   \n",
       "1         1   315250   315997      1   \n",
       "2         2   443307   443781      0   \n",
       "3         3   214925   215339      2   \n",
       "4         4  1717369  1717963      1   \n",
       "5         5   322934   323879      2   \n",
       "6         6   322634   323879      2   \n",
       "7         7  1258642  1259047      1   \n",
       "8         8   469411   470617      1   \n",
       "9         9  1258720  1259047      1   \n",
       "10       10   296862   298173      0   \n",
       "11       11   771126   771645      0   \n",
       "12       12   601560   602448      0   \n",
       "13       13   769458   770976      0   \n",
       "14       14   320357   320606      2   \n",
       "15       15   958077   958854      0   \n",
       "16       16  1681070  1682093      2   \n",
       "17       17   977636   978299      2   \n",
       "18       18   537256   537571      1   \n",
       "19       19   886057   886375      1   \n",
       "20       20   209060   209882      2   \n",
       "21       21   377213   377480      2   \n",
       "22       22  1517339  1517774      2   \n",
       "23       23   402419   403352      2   \n",
       "24       24    11886    12237      0   \n",
       "25       25  1171061  1171481      2   \n",
       "26       26   570543   571887      0   \n",
       "27       27  1142592  1144068      0   \n",
       "28       28   363944   364280      2   \n",
       "29       29  1323405  1323630      0   \n",
       "...     ...      ...      ...    ...   \n",
       "1498   1498  1777799  1778423      2   \n",
       "1499   1499  1778947  1779289      1   \n",
       "1500   1500  1779499  1779691      1   \n",
       "1501   1501  1779702  1780032      0   \n",
       "1502   1502  1780034  1781165      2   \n",
       "1503   1503  1783561  1783972      1   \n",
       "1504   1504  1784937  1785300      0   \n",
       "1505   1505  1785831  1786407      0   \n",
       "1506   1506  1790639  1792331      2   \n",
       "1507   1507  1792418  1792727      2   \n",
       "1508   1508  1799148  1799268      0   \n",
       "1509   1509  1799283  1799433      0   \n",
       "1510   1510  1800351  1800690      0   \n",
       "1511   1511  1800719  1801664      2   \n",
       "1512   1512  1801729  1802482      1   \n",
       "1513   1513  1804291  1805134      1   \n",
       "1514   1514  1806028  1806355      1   \n",
       "1515   1515  1810530  1811064      0   \n",
       "1516   1516  1822621  1823293      1   \n",
       "1517   1517  1823304  1824177      0   \n",
       "1518   1518  1832624  1833884      2   \n",
       "1519   1519  1833919  1835128      1   \n",
       "1520   1520  1835309  1836224      2   \n",
       "1521   1521  1836531  1836945      0   \n",
       "1522   1522  1836946  1838053      1   \n",
       "1523   1523  1842402  1843275      0   \n",
       "1524   1524  1843353  1844973      0   \n",
       "1525   1525  1845055  1847632      1   \n",
       "1526   1526  1850351  1851575      2   \n",
       "1527   1527  1851633  1852440      0   \n",
       "\n",
       "                                                    seq state   gene   len  \\\n",
       "0     ATGGTTTGCGGTTCTGGACTTAAAGCAATCCAATTAGCTGCGCAAA...     C  False   933   \n",
       "1     ATGAAGAGTTATATTGAACCTTTTATTGCTAGCAAGGCTTTATCTC...     C   True   747   \n",
       "2     ATGGGATATGACCAGAGAATAGGAAATTCGCACAATAATCCTTCTT...     C  False   474   \n",
       "3     ATGCCAGTTATGATTGCCTTATTCCAAGCCTTGACACGGGTATCTT...     C  False   414   \n",
       "4     ATGAAAACACACGGCAATGATCCAACAGAGTTGGCGCTGCTCAACC...     C  False   594   \n",
       "5     ATGAACCTCAAAGACAAGTTGGCGATTGTTTCAGCCCCTATTATCA...     C  False   945   \n",
       "6     ATGGCCTTAGTTTCTCTCAATCGTTCTCGGGTGGAACAAAAAGCAG...     C  False  1245   \n",
       "7     ATGAAGACGACATCTGGGTTATTTTCACCAGCACCTACCCAACGTT...     C  False   405   \n",
       "8     ATGGTTCTTGGGTTTGACCCTGCCTTTCGAACAGGTGCAAAATTGG...     C  False  1206   \n",
       "9     ATGGCAAAAGGAATGCCCAATTCTTTTTCAACAACGGAACCGACTT...     C  False   327   \n",
       "10    ATGGTTTTACCTACCGTTGCCATTGTGGGCCGTCCAAATGTGGGCA...     C   True  1311   \n",
       "11    ATGGATTTAACAAATTACATTGCATCGATCAAAGATTACCCTAAAG...     C   True   519   \n",
       "12    ATGTTCTTTGAGGACGCAGAGATGTATGTTCCAGCTCAAATGCTTT...     C  False   888   \n",
       "13    ATGGTAAGCTTGACAGGTGAAAACCGTGTTTTAGTCAAAAATGGTC...     C  False  1518   \n",
       "14    ATGCTGATTTTTGGTAGCCTATTGATTATTTGTTATCAGAGGCTAC...     C  False   249   \n",
       "15    ATGGCAGAAGGAGAAACGGTTAAAAAAATATCGACCTCTCCAGAAC...     C  False   777   \n",
       "16    ATGTTGGTTAAAATCCCTCTGATTCAGTGCTTTTATGGCATTCGTT...     C  False  1023   \n",
       "17    ATGGCGATTGCCTTGACGGATTTAGGCTTTGACACAGGCTTGGATA...     C  False   663   \n",
       "18    ATGAACTGGAATACCGTCATCGGAGCTAAGGGGGTTGCTCGTATTA...     C  False   315   \n",
       "19    ATGGCTCAATTAGATTTGACCATTACAGAGTTGCAGGACCATATTG...     C  False   318   \n",
       "20    ATGCAAATTTCTCACGTTATCCGTGGCGATGACCATATTGCCAATA...     C  False   822   \n",
       "21    ATGAAAATGGTGCTGAAAAGCTCTTGGGACGGGGTGATATGCTCTT...     C  False   267   \n",
       "22    ATGATGGAACTTGAAAAATCCATTGTCTACTTAAAGGCTTCCTTGA...     C  False   435   \n",
       "23    ATGGGTGGTTTAGCTATTATTCCTAATGTGTTTTGGTTACTCATTT...     C  False   933   \n",
       "24    ATGTTAGAATACGATAGTAACTTATGCTACAGAGATTATTATTTTT...     C  False   351   \n",
       "25    ATGCTCTGCAATCCCCCTTACTTTAAAAGTCACGAAAGTTCTAAGA...     C  False   420   \n",
       "26    ATGGTTGCTCGAACAGAAGATTCTCAAAATGGTGATTTCACGCCTA...     C  False  1344   \n",
       "27    ATGAAATTATTTGAAGATAGTTTTTCTTATTCAAATCAACTTGGGC...     C  False  1476   \n",
       "28    ATGTGCTCAATAGCAAGTTTTATAGCGGGTGGCGGTGGTGTTGCCT...     C  False   336   \n",
       "29    ATGAATATATTTCTCGCCAGCCAAATCATGACCAACCTTTCTATGC...     C  False   225   \n",
       "...                                                 ...   ...    ...   ...   \n",
       "1498  ATGAACAAAACAGAAACATGGAACGGATATACTATCCGATTTGTAG...     C   True   624   \n",
       "1499  ATGAAATATAGAGTAGAAACAAATCCTTTTTCAAAAGATAGATACA...     C   True   342   \n",
       "1500  ATGCAAGAACTTAACCTCACACCAACACAGACGCTTATTCTATTCT...     C   True   192   \n",
       "1501  ATGACACTACCAGAGAATTATAGACGTGTCCTTAATCTGATCAAGG...     C   True   330   \n",
       "1502  ATGAACGTATTTAGTCAAGATTATGAAGCCAAACTCTTAGAACAAA...     C   True  1131   \n",
       "1503  ATGACTGGTACTTATGAGCAACCAGTGATTGACGCAACTTATCACA...     C   True   411   \n",
       "1504  ATGAGCGCTAAAGAACAACTTAAAGAATTGAAACCACTTTTCGCTT...     C   True   363   \n",
       "1505  TTGATATTTAATTTTAAGGAGAATATAGTGAAAAAGAAATTAGTTT...     C   True   576   \n",
       "1506  ATGGATACTAAAACTCTAATCGCAAGTGAAATAGCTAAAGTTGTTC...     C   True  1692   \n",
       "1507  ATGCCATCAGAAAAAGAAATATTAGATGCTCTTAGTAAAGTTTATA...     C   True   309   \n",
       "1508  ATGACAGCTCCATCTGTACAATTCGACGAAACTACTGGAGATTACT...     C   True   120   \n",
       "1509  ATGCGCGTAAATATTACACTTGAACATAAAGAATCTGGTGAACGCT...     C   True   150   \n",
       "1510  ATGAAAAAAGATAGTATCTGTCAAGTGGGTGTTATAAATCAACAAA...     C   True   339   \n",
       "1511  ATGATTATAGGGGGATTATATATGAAATTTTTTGAAGAAAATTATT...     C   True   945   \n",
       "1512  TTGGCGATTCCTGATTTAGATAAATTTTCATCTAACTTACAACAGG...     C   True   753   \n",
       "1513  ATGGTTTCATTTATTTCAAGAGTTTTTAAAGGCATGATTATTGCAC...     C   True   843   \n",
       "1514  ATGTATTTTCCAGTATCGGCTACCTTGATTGAATTTCTGATTTTAG...     C   True   327   \n",
       "1515  ATGGTCAACCGTAAAGAAAATACGAAGCAAGCAATTTTAAAAGCAA...     C   True   534   \n",
       "1516  ATGAATACACAAAAATTTCAATCAGTTTTTGACATCATTGGGCCAG...     C   True   672   \n",
       "1517  ATGTTTTATACTATTGAAGAACTTGTCAAACAAGCTGACCAACAAT...     C   True   873   \n",
       "1518  GTGCCTATTTTTAAAAAAACTTTAATTGTTTTATCCTTTATTTTTT...     C   True  1260   \n",
       "1519  ATGAAAATAGCAGTTGCTGGATCAGGATATGTTGGATTATCACTAG...     C   True  1209   \n",
       "1520  ATGACCAAAGTCAGAAAAGCCATTATTCCTGCTGCAGGTCTAGGAA...     C   True   915   \n",
       "1521  ATGATATACAAATTATTTACAGAATTTATCACCCTACAAGCCCTTC...     C   True   414   \n",
       "1522  ATGTGGATTAAAGAGTTAGAGTTAAAACATTATCGCAATTATGACC...     C   True  1107   \n",
       "1523  ATGAAAAAACGAGGGATTGATTTACTACTTGTCACAATTGGCTCAT...     C   True   873   \n",
       "1524  TTGCTTACAGTTTCTGATGTATCACTACGCTTTAGTGATCGAAAAC...     C   True  1620   \n",
       "1525  ATGAAAAATAATAATAAATGGATAATTGCTGGACTTGCTAGTTTTT...     C   True  2577   \n",
       "1526  ATGCCAAGTATGAAACATATCTTAAAATCCTTAAGTATTTTACTAA...     C   True  1224   \n",
       "1527  ATGTTTCTTATTCTATCCAGGAACTCCCTTATGACAAAAGAATTAT...     C   True   807   \n",
       "\n",
       "             a         c    ...            C         A         V         K  \\\n",
       "0     0.199357  0.315113    ...     0.006431  0.115756  0.070740  0.054662   \n",
       "1     0.160643  0.353414    ...     0.004016  0.048193  0.040161  0.092369   \n",
       "2     0.124473  0.369198    ...     0.025316  0.037975  0.025316  0.101266   \n",
       "3     0.188406  0.280193    ...     0.000000  0.094203  0.094203  0.065217   \n",
       "4     0.227273  0.314815    ...     0.020202  0.075758  0.065657  0.075758   \n",
       "5     0.172487  0.318519    ...     0.000000  0.041270  0.060317  0.050794   \n",
       "6     0.174297  0.302811    ...     0.000000  0.055422  0.065060  0.050602   \n",
       "7     0.246914  0.281481    ...     0.014815  0.088889  0.059259  0.059259   \n",
       "8     0.213101  0.283582    ...     0.000000  0.092040  0.101990  0.064677   \n",
       "9     0.235474  0.281346    ...     0.018349  0.073394  0.073394  0.064220   \n",
       "10    0.196796  0.275362    ...     0.000000  0.077803  0.091533  0.054920   \n",
       "11    0.157996  0.287091    ...     0.017341  0.104046  0.069364  0.063584   \n",
       "12    0.168919  0.313063    ...     0.016892  0.070946  0.050676  0.067568   \n",
       "13    0.187747  0.301713    ...     0.001976  0.075099  0.063241  0.065217   \n",
       "14    0.132530  0.293173    ...     0.012048  0.012048  0.036145  0.048193   \n",
       "15    0.176319  0.329472    ...     0.042471  0.046332  0.069498  0.100386   \n",
       "16    0.215054  0.296188    ...     0.023460  0.067449  0.046921  0.093842   \n",
       "17    0.209653  0.322775    ...     0.004525  0.067873  0.081448  0.045249   \n",
       "18    0.222222  0.371429    ...     0.000000  0.085714  0.047619  0.057143   \n",
       "19    0.144654  0.371069    ...     0.000000  0.066038  0.037736  0.056604   \n",
       "20    0.200730  0.328467    ...     0.003650  0.072993  0.036496  0.091241   \n",
       "21    0.176030  0.262172    ...     0.022472  0.033708  0.067416  0.134831   \n",
       "22    0.204598  0.319540    ...     0.000000  0.068966  0.041379  0.068966   \n",
       "23    0.153269  0.256163    ...     0.006431  0.073955  0.093248  0.038585   \n",
       "24    0.102564  0.384615    ...     0.017094  0.034188  0.017094  0.094017   \n",
       "25    0.195238  0.311905    ...     0.014286  0.071429  0.057143  0.078571   \n",
       "26    0.208333  0.287946    ...     0.004464  0.071429  0.062500  0.037946   \n",
       "27    0.204607  0.310976    ...     0.010163  0.058943  0.048780  0.063008   \n",
       "28    0.193452  0.252976    ...     0.008929  0.142857  0.044643  0.062500   \n",
       "29    0.262222  0.324444    ...     0.000000  0.040000  0.013333  0.093333   \n",
       "...        ...       ...    ...          ...       ...       ...       ...   \n",
       "1498  0.161859  0.384615    ...     0.000000  0.057692  0.067308  0.115385   \n",
       "1499  0.175439  0.380117    ...     0.008772  0.061404  0.061404  0.078947   \n",
       "1500  0.239583  0.317708    ...     0.000000  0.031250  0.031250  0.031250   \n",
       "1501  0.196970  0.339394    ...     0.000000  0.054545  0.054545  0.063636   \n",
       "1502  0.199823  0.320955    ...     0.005305  0.050398  0.066313  0.074271   \n",
       "1503  0.189781  0.323601    ...     0.007299  0.043796  0.072993  0.065693   \n",
       "1504  0.176309  0.393939    ...     0.000000  0.090909  0.033058  0.107438   \n",
       "1505  0.130208  0.373264    ...     0.005208  0.062500  0.057292  0.088542   \n",
       "1506  0.214539  0.304374    ...     0.001773  0.115248  0.062057  0.074468   \n",
       "1507  0.184466  0.359223    ...     0.000000  0.087379  0.029126  0.087379   \n",
       "1508  0.233333  0.366667    ...     0.000000  0.100000  0.050000  0.125000   \n",
       "1509  0.206667  0.406667    ...     0.000000  0.000000  0.060000  0.160000   \n",
       "1510  0.174041  0.380531    ...     0.035398  0.053097  0.053097  0.088496   \n",
       "1511  0.133333  0.369312    ...     0.006349  0.031746  0.041270  0.073016   \n",
       "1512  0.227092  0.322709    ...     0.007968  0.047809  0.059761  0.063745   \n",
       "1513  0.185053  0.243179    ...     0.000000  0.067616  0.064057  0.035587   \n",
       "1514  0.162080  0.339450    ...     0.000000  0.064220  0.036697  0.110092   \n",
       "1515  0.179775  0.378277    ...     0.005618  0.050562  0.039326  0.112360   \n",
       "1516  0.180060  0.339286    ...     0.004464  0.066964  0.084821  0.071429   \n",
       "1517  0.189003  0.301260    ...     0.017182  0.158076  0.079038  0.044674   \n",
       "1518  0.162698  0.314286    ...     0.014286  0.057143  0.076190  0.057143   \n",
       "1519  0.147229  0.379653    ...     0.004963  0.064516  0.074442  0.086849   \n",
       "1520  0.218579  0.322404    ...     0.000000  0.085246  0.072131  0.098361   \n",
       "1521  0.198068  0.388889    ...     0.000000  0.072464  0.043478  0.137681   \n",
       "1522  0.195122  0.322493    ...     0.000000  0.059621  0.054201  0.067751   \n",
       "1523  0.162658  0.289805    ...     0.006873  0.054983  0.072165  0.048110   \n",
       "1524  0.182716  0.316667    ...     0.001852  0.068519  0.059259  0.074074   \n",
       "1525  0.176562  0.310827    ...     0.009313  0.048894  0.036088  0.057043   \n",
       "1526  0.165033  0.352124    ...     0.000000  0.066176  0.083333  0.073529   \n",
       "1527  0.195787  0.365551    ...     0.000000  0.066914  0.033457  0.100372   \n",
       "\n",
       "             G         H         R         P         F         E  \n",
       "0     0.093248  0.019293  0.032154  0.038585  0.019293  0.064309  \n",
       "1     0.044177  0.008032  0.040161  0.028112  0.056225  0.056225  \n",
       "2     0.050633  0.018987  0.044304  0.037975  0.056962  0.037975  \n",
       "3     0.021739  0.014493  0.072464  0.028986  0.072464  0.050725  \n",
       "4     0.050505  0.080808  0.075758  0.040404  0.025253  0.030303  \n",
       "5     0.050794  0.009524  0.038095  0.028571  0.041270  0.098413  \n",
       "6     0.057831  0.009639  0.043373  0.026506  0.038554  0.084337  \n",
       "7     0.029630  0.007407  0.044444  0.133333  0.037037  0.014815  \n",
       "8     0.062189  0.022388  0.039801  0.044776  0.032338  0.057214  \n",
       "9     0.027523  0.009174  0.036697  0.137615  0.036697  0.018349  \n",
       "10    0.061785  0.016018  0.061785  0.041190  0.043478  0.068650  \n",
       "11    0.104046  0.011561  0.046243  0.052023  0.028902  0.052023  \n",
       "12    0.054054  0.023649  0.023649  0.070946  0.043919  0.077703  \n",
       "13    0.061265  0.023715  0.037549  0.035573  0.053360  0.065217  \n",
       "14    0.072289  0.036145  0.048193  0.024096  0.108434  0.012048  \n",
       "15    0.065637  0.015444  0.042471  0.057915  0.050193  0.111969  \n",
       "16    0.046921  0.029326  0.058651  0.058651  0.043988  0.067449  \n",
       "17    0.063348  0.009050  0.045249  0.072398  0.022624  0.085973  \n",
       "18    0.104762  0.009524  0.028571  0.047619  0.019048  0.019048  \n",
       "19    0.009434  0.018868  0.056604  0.000000  0.009434  0.141509  \n",
       "20    0.054745  0.021898  0.029197  0.051095  0.058394  0.113139  \n",
       "21    0.022472  0.000000  0.022472  0.022472  0.033708  0.022472  \n",
       "22    0.020690  0.006897  0.013793  0.013793  0.048276  0.075862  \n",
       "23    0.093248  0.009646  0.035370  0.035370  0.067524  0.022508  \n",
       "24    0.051282  0.017094  0.059829  0.017094  0.068376  0.059829  \n",
       "25    0.057143  0.064286  0.050000  0.057143  0.035714  0.078571  \n",
       "26    0.051339  0.033482  0.044643  0.055804  0.044643  0.066964  \n",
       "27    0.052846  0.022358  0.034553  0.036585  0.044715  0.065041  \n",
       "28    0.133929  0.017857  0.035714  0.035714  0.044643  0.044643  \n",
       "29    0.013333  0.013333  0.066667  0.066667  0.026667  0.000000  \n",
       "...        ...       ...       ...       ...       ...       ...  \n",
       "1498  0.048077  0.014423  0.043269  0.014423  0.048077  0.086538  \n",
       "1499  0.017544  0.026316  0.061404  0.026316  0.061404  0.122807  \n",
       "1500  0.046875  0.015625  0.031250  0.062500  0.031250  0.031250  \n",
       "1501  0.081818  0.009091  0.063636  0.036364  0.027273  0.081818  \n",
       "1502  0.053050  0.010610  0.058355  0.068966  0.037135  0.068966  \n",
       "1503  0.043796  0.036496  0.029197  0.021898  0.029197  0.072993  \n",
       "1504  0.016529  0.024793  0.066116  0.016529  0.033058  0.107438  \n",
       "1505  0.093750  0.000000  0.020833  0.020833  0.036458  0.052083  \n",
       "1506  0.051418  0.019504  0.039007  0.031915  0.044326  0.076241  \n",
       "1507  0.048544  0.019417  0.019417  0.029126  0.048544  0.058252  \n",
       "1508  0.075000  0.025000  0.075000  0.025000  0.025000  0.050000  \n",
       "1509  0.020000  0.040000  0.100000  0.040000  0.020000  0.080000  \n",
       "1510  0.026549  0.017699  0.044248  0.000000  0.044248  0.061947  \n",
       "1511  0.034921  0.009524  0.041270  0.028571  0.063492  0.073016  \n",
       "1512  0.059761  0.043825  0.019920  0.055777  0.047809  0.039841  \n",
       "1513  0.103203  0.024911  0.014235  0.039146  0.074733  0.024911  \n",
       "1514  0.055046  0.018349  0.036697  0.018349  0.045872  0.064220  \n",
       "1515  0.022472  0.016854  0.028090  0.005618  0.073034  0.089888  \n",
       "1516  0.080357  0.035714  0.017857  0.040179  0.035714  0.035714  \n",
       "1517  0.092784  0.003436  0.027491  0.024055  0.030928  0.068729  \n",
       "1518  0.040476  0.016667  0.045238  0.033333  0.054762  0.042857  \n",
       "1519  0.032258  0.009926  0.037221  0.032258  0.029777  0.066998  \n",
       "1520  0.065574  0.022951  0.032787  0.052459  0.042623  0.072131  \n",
       "1521  0.065217  0.007246  0.050725  0.036232  0.043478  0.086957  \n",
       "1522  0.046070  0.046070  0.043360  0.016260  0.046070  0.051491  \n",
       "1523  0.099656  0.013746  0.024055  0.030928  0.051546  0.020619  \n",
       "1524  0.059259  0.018519  0.040741  0.020370  0.053704  0.085185  \n",
       "1525  0.047730  0.011641  0.020955  0.037253  0.086147  0.016298  \n",
       "1526  0.090686  0.009804  0.014706  0.031863  0.019608  0.041667  \n",
       "1527  0.037175  0.018587  0.044610  0.033457  0.018587  0.063197  \n",
       "\n",
       "[1528 rows x 33 columns]"
      ]
     },
     "execution_count": 287,
     "metadata": {},
     "output_type": "execute_result"
    }
   ],
   "source": [
    "merged_frames"
   ]
  },
  {
   "cell_type": "code",
   "execution_count": 160,
   "metadata": {
    "collapsed": true
   },
   "outputs": [],
   "source": [
    "import pickle\n",
    "\n",
    "class Pickler:\n",
    "    def __init__(self, path):\n",
    "        self.path = path\n",
    "\n",
    "    def load(self):\n",
    "        with open(self.path, 'rb') as f:\n",
    "            return pickle.load(f)\n",
    "    \n",
    "    def save(self, thing):\n",
    "        with open(self.path, 'wb') as f:\n",
    "            pickle.dump(thing, f)\n",
    "\n",
    "class StoredValue:\n",
    "    def __init__(self, path, creator):\n",
    "        self.pickler = Pickler(path)\n",
    "        self.creator = creator\n",
    "    def get(self):\n",
    "        try:\n",
    "            value = self.pickler.load()\n",
    "        except FileNotFoundError:\n",
    "            value = self.creator()\n",
    "            pickler.save(value)\n",
    "        return value"
   ]
  },
  {
   "cell_type": "code",
   "execution_count": null,
   "metadata": {
    "collapsed": true
   },
   "outputs": [],
   "source": [
    "def tri_split(seq):\n",
    "    return ''.join([char+' ' if (i+1) % 3 == 0 else char for i,char in enumerate(seq)]).split()\n",
    "def codonToAA(codon_list):\n",
    "    aa_seq = ''.join([codon_to_aa[codon] for codon in codon_list])\n",
    "    return aa_seq\n",
    "def aa_frequency(seq):\n",
    "    \"\"\"Count the occurrences of amino acids in \"seq\".\"\"\"\n",
    "    zeros = [0]*len(aa)\n",
    "    counts = dict(zip(aa, zeros))\n",
    "    for c in seq:\n",
    "        counts[c] +=1\n",
    "    return counts\n",
    "seq = 'ATGCTTCATTAACGTGTACAAAGACTAGGTTCCCTTCGCCTGCTTCACCGTCTTCCTCTTTAGTACTGTCGACCACCGTAAAGACATCATAGGCTTGATACTCACCTTTTTTGGCTGGCTCGATTAGCTCAAGCATGCCTTTATAAATGTCAGGATCAATCTTGCCGCCGCTCGTTAACATGTGGATGGTTTGCAAGTTAATCATTCGCTGTGTACGCTCTGCGGACACCTTAGCTAGTCCAGCAGCTGTTTGAGCAGTTTTGGCAGTCTTAGCGGTTTCCTGTGAGATTTTTTCAAGGTCGTCTACCTTTTGCACGGCTTCGCCCATTGCAATTTCAACGTATTCAGATTTTTTAAATTCTTCCAAAGTAGCTTTGATAATCTCTGTGTCATTATTTGAGGTTAAGTCCTGCTTGATTGGTTGAGAGATGACTGAGCCATCCTCAGCAGTGATAATAATATGTGTGCTTGCGACTGCTCCTGTGCTGTCAAATTGTGGGTATTTTCCTGTCACTTTCCAATTTCTCATGGTTATTCTCCTTTTTTACTTTCTTCAAATTGTTCCAAAATGTTGTCGATAAGAATGATTTCAGATGATGTAAATTCATCTTCACACTCTTCTAA'"
   ]
  },
  {
   "cell_type": "code",
   "execution_count": 197,
   "metadata": {
    "collapsed": false
   },
   "outputs": [
    {
     "data": {
      "text/plain": [
       "dict_values([17, 3, 5, 4, 5, 35, 4, 16, 13, 6, 1, 10, 8, 9, 5, 4, 7, 21, 10, 23, 2])"
      ]
     },
     "execution_count": 197,
     "metadata": {},
     "output_type": "execute_result"
    }
   ],
   "source": [
    "aa_frequency(codonToAA(tri_split(seq))).values()"
   ]
  },
  {
   "cell_type": "code",
   "execution_count": 198,
   "metadata": {
    "collapsed": false
   },
   "outputs": [
    {
     "data": {
      "text/plain": [
       "dict_keys(['X', 'N', 'T', 'D', 'Y', 'L', 'W', 'Q', 'S', 'I', 'M', 'C', 'A', 'V', 'K', 'G', 'H', 'R', 'P', 'F', 'E'])"
      ]
     },
     "execution_count": 198,
     "metadata": {},
     "output_type": "execute_result"
    }
   ],
   "source": [
    "aa_frequency(codonToAA(tri_split(seq))).keys()"
   ]
  },
  {
   "cell_type": "code",
   "execution_count": 199,
   "metadata": {
    "collapsed": false
   },
   "outputs": [
    {
     "data": {
      "text/plain": [
       "{'A': 8,\n",
       " 'C': 10,\n",
       " 'D': 4,\n",
       " 'E': 2,\n",
       " 'F': 23,\n",
       " 'G': 4,\n",
       " 'H': 7,\n",
       " 'I': 6,\n",
       " 'K': 5,\n",
       " 'L': 35,\n",
       " 'M': 1,\n",
       " 'N': 3,\n",
       " 'P': 10,\n",
       " 'Q': 16,\n",
       " 'R': 21,\n",
       " 'S': 13,\n",
       " 'T': 5,\n",
       " 'V': 9,\n",
       " 'W': 4,\n",
       " 'X': 17,\n",
       " 'Y': 5}"
      ]
     },
     "execution_count": 199,
     "metadata": {},
     "output_type": "execute_result"
    }
   ],
   "source": [
    "aa_frequency(codonToAA(tri_split(seq)))\n",
    "## anomaly vs change point detection"
   ]
  },
  {
   "cell_type": "code",
   "execution_count": 143,
   "metadata": {
    "collapsed": false
   },
   "outputs": [
    {
     "ename": "AttributeError",
     "evalue": "'DataFrame' object has no attribute 'true'",
     "output_type": "error",
     "traceback": [
      "\u001b[0;31m---------------------------------------------------------------------------\u001b[0m",
      "\u001b[0;31mAttributeError\u001b[0m                            Traceback (most recent call last)",
      "\u001b[0;32m<ipython-input-143-a1667e5bf7c5>\u001b[0m in \u001b[0;36m<module>\u001b[0;34m()\u001b[0m\n\u001b[0;32m----> 1\u001b[0;31m \u001b[0mmer\u001b[0m\u001b[0;34m.\u001b[0m\u001b[0mtrue\u001b[0m \u001b[0;34m=\u001b[0m \u001b[0mmer\u001b[0m\u001b[0;34m.\u001b[0m\u001b[0mtrue\u001b[0m\u001b[0;34m.\u001b[0m\u001b[0mfillna\u001b[0m\u001b[0;34m(\u001b[0m\u001b[0;32mFalse\u001b[0m\u001b[0;34m)\u001b[0m\u001b[0;34m\u001b[0m\u001b[0m\n\u001b[0m\u001b[1;32m      2\u001b[0m \u001b[0mpd\u001b[0m\u001b[0;34m.\u001b[0m\u001b[0misnull\u001b[0m\u001b[0;34m(\u001b[0m\u001b[0mmer\u001b[0m\u001b[0;34m.\u001b[0m\u001b[0miloc\u001b[0m\u001b[0;34m[\u001b[0m\u001b[0;36m2\u001b[0m\u001b[0;34m]\u001b[0m\u001b[0;34m.\u001b[0m\u001b[0mseq\u001b[0m\u001b[0;34m)\u001b[0m\u001b[0;34m\u001b[0m\u001b[0m\n\u001b[1;32m      3\u001b[0m \u001b[0mmer\u001b[0m\u001b[0;34m.\u001b[0m\u001b[0miloc\u001b[0m\u001b[0;34m[\u001b[0m\u001b[0;36m2\u001b[0m\u001b[0;34m]\u001b[0m\u001b[0;34m.\u001b[0m\u001b[0mseq\u001b[0m \u001b[0;32mis\u001b[0m \u001b[0;32mNone\u001b[0m\u001b[0;34m\u001b[0m\u001b[0m\n\u001b[1;32m      4\u001b[0m \u001b[0mmer\u001b[0m\u001b[0;34m\u001b[0m\u001b[0m\n\u001b[1;32m      5\u001b[0m \u001b[0;31m# type(seq[1]),axis=1)#\u001b[0m\u001b[0;34m\u001b[0m\u001b[0;34m\u001b[0m\u001b[0m\n",
      "\u001b[0;32m/Users/ingrid/anaconda/lib/python3.5/site-packages/pandas/core/generic.py\u001b[0m in \u001b[0;36m__getattr__\u001b[0;34m(self, name)\u001b[0m\n\u001b[1;32m   2358\u001b[0m                 \u001b[0;32mreturn\u001b[0m \u001b[0mself\u001b[0m\u001b[0;34m[\u001b[0m\u001b[0mname\u001b[0m\u001b[0;34m]\u001b[0m\u001b[0;34m\u001b[0m\u001b[0m\n\u001b[1;32m   2359\u001b[0m             raise AttributeError(\"'%s' object has no attribute '%s'\" %\n\u001b[0;32m-> 2360\u001b[0;31m                                  (type(self).__name__, name))\n\u001b[0m\u001b[1;32m   2361\u001b[0m \u001b[0;34m\u001b[0m\u001b[0m\n\u001b[1;32m   2362\u001b[0m     \u001b[0;32mdef\u001b[0m \u001b[0m__setattr__\u001b[0m\u001b[0;34m(\u001b[0m\u001b[0mself\u001b[0m\u001b[0;34m,\u001b[0m \u001b[0mname\u001b[0m\u001b[0;34m,\u001b[0m \u001b[0mvalue\u001b[0m\u001b[0;34m)\u001b[0m\u001b[0;34m:\u001b[0m\u001b[0;34m\u001b[0m\u001b[0m\n",
      "\u001b[0;31mAttributeError\u001b[0m: 'DataFrame' object has no attribute 'true'"
     ]
    }
   ],
   "source": [
    "mer.true = mer.true.fillna(False)\n",
    "pd.isnull(mer.iloc[2].seq)\n",
    "mer.iloc[2].seq is None\n",
    "mer\n",
    "# type(seq[1]),axis=1)#\n",
    "mer.seq = mer.apply(lambda seq: seq[3] if not pd.isnull(seq[3]) else reverse_complement(data[int(seq[1]):int(seq[2])]), axis=1 )\n",
    "mer[\"true\"] = mer.true.fillna(False, inplace=True)\n",
    "## regression - gene candidate and take nearest candiate neighbors or gene neighbors\n",
    "## common sub-sequences in front of genes, \n",
    "## matrix of character combinations.... \n",
    "### Feature 1: nucleotide frequences\n",
    "##Convert sequences in to amino acid sequences\n",
    "### CountVectorizer N-gram analysis\n",
    "### Features 2: amino acid frequencies\n",
    "### CountVectorizer N-gram analysis\n",
    "\n",
    "### linear regression on result and see if we can predict which STOPS are real given the prior sequences"
   ]
  },
  {
   "cell_type": "code",
   "execution_count": null,
   "metadata": {
    "collapsed": true
   },
   "outputs": [],
   "source": [
    "### Views!\n",
    "# draw where all actual stops are (color by frame)\n",
    "# draw where all potential stops are (color by frame)"
   ]
  },
  {
   "cell_type": "code",
   "execution_count": 112,
   "metadata": {
    "collapsed": true
   },
   "outputs": [],
   "source": [
    "mer = pd.merge(potential_subset,actual_forward_stops, on=['start','end'], how=\"outer\")\n",
    "\n",
    "\n",
    "mer.true = mer.true.fillna(False)\n",
    "pd.isnull(mer.iloc[2].seq)\n",
    "mer.iloc[2].seq is None\n",
    "mer\n",
    "# type(seq[1]),axis=1)#\n",
    "mer.seq = mer.apply(lambda seq: seq[3] if not pd.isnull(seq[3]) else reverse_complement(data[int(seq[1]):int(seq[2])]), axis=1 )\n",
    "mer[\"true\"] = mer.true.fillna(False, inplace=True)\n",
    "## regression - gene candidate and take nearest candiate neighbors or gene neighbors\n",
    "## common sub-sequences in front of genes, \n",
    "## matrix of character combinations.... "
   ]
  },
  {
   "cell_type": "code",
   "execution_count": 97,
   "metadata": {
    "collapsed": false
   },
   "outputs": [],
   "source": [
    "mer.true = mer.true.fillna(False)\n",
    "pd.isnull(mer.iloc[2].seq)\n",
    "mer.iloc[2].seq is None\n",
    "mer\n",
    "# type(seq[1]),axis=1)#\n",
    "mer.seq = mer.apply(lambda seq: seq[3] if not pd.isnull(seq[3]) else reverse_complement(data[int(seq[1]):int(seq[2])]), axis=1 )\n",
    "mer[\"true\"] = mer.true.fillna(False, inplace=True)"
   ]
  },
  {
   "cell_type": "code",
   "execution_count": 44,
   "metadata": {
    "collapsed": false
   },
   "outputs": [],
   "source": [
    "mer[\"true\"] = mer.true.fillna(False, inplace=True)"
   ]
  },
  {
   "cell_type": "code",
   "execution_count": 77,
   "metadata": {
    "collapsed": false
   },
   "outputs": [],
   "source": [
    "regions[\"true\"] = True\n",
    "merged_df = pd.merge(df,regions[regions.state != \"N\"], on=['start', 'end'],how='outer')"
   ]
  },
  {
   "cell_type": "code",
   "execution_count": 78,
   "metadata": {
    "collapsed": false,
    "scrolled": true
   },
   "outputs": [],
   "source": [
    "merged_df[\"true\"] = merged_df.true.fillna(False)"
   ]
  },
  {
   "cell_type": "code",
   "execution_count": 175,
   "metadata": {
    "collapsed": false
   },
   "outputs": [],
   "source": [
    "# merged_df[merged_df.true == True]"
   ]
  },
  {
   "cell_type": "code",
   "execution_count": 22,
   "metadata": {
    "collapsed": false
   },
   "outputs": [
    {
     "name": "stdout",
     "output_type": "stream",
     "text": [
      "Calculated sequence lengths...\n"
     ]
    }
   ],
   "source": [
    "## Add length of each sequence\n",
    "df[\"len\"] = df.apply(lambda x: x[1] - x[0],axis=1) #x[1] - x[0])\n",
    "print(\"Calculated sequence lengths...\")"
   ]
  },
  {
   "cell_type": "code",
   "execution_count": 26,
   "metadata": {
    "collapsed": false
   },
   "outputs": [
    {
     "data": {
      "text/html": [
       "<div>\n",
       "<table border=\"1\" class=\"dataframe\">\n",
       "  <thead>\n",
       "    <tr style=\"text-align: right;\">\n",
       "      <th></th>\n",
       "      <th>start</th>\n",
       "      <th>end</th>\n",
       "    </tr>\n",
       "  </thead>\n",
       "  <tbody>\n",
       "    <tr>\n",
       "      <th>0</th>\n",
       "      <td>37</td>\n",
       "      <td>112</td>\n",
       "    </tr>\n",
       "    <tr>\n",
       "      <th>1</th>\n",
       "      <td>76</td>\n",
       "      <td>112</td>\n",
       "    </tr>\n",
       "    <tr>\n",
       "      <th>2</th>\n",
       "      <td>188</td>\n",
       "      <td>347</td>\n",
       "    </tr>\n",
       "    <tr>\n",
       "      <th>3</th>\n",
       "      <td>231</td>\n",
       "      <td>1587</td>\n",
       "    </tr>\n",
       "    <tr>\n",
       "      <th>4</th>\n",
       "      <td>241</td>\n",
       "      <td>292</td>\n",
       "    </tr>\n",
       "  </tbody>\n",
       "</table>\n",
       "</div>"
      ],
      "text/plain": [
       "   start   end\n",
       "0     37   112\n",
       "1     76   112\n",
       "2    188   347\n",
       "3    231  1587\n",
       "4    241   292"
      ]
     },
     "execution_count": 26,
     "metadata": {},
     "output_type": "execute_result"
    }
   ],
   "source": [
    "df[df.strand == 'F'][[\"start\",\"end\"]].head()"
   ]
  },
  {
   "cell_type": "code",
   "execution_count": 116,
   "metadata": {
    "collapsed": false
   },
   "outputs": [
    {
     "ename": "KeyboardInterrupt",
     "evalue": "",
     "output_type": "error",
     "traceback": [
      "\u001b[0;31m---------------------------------------------------------------------------\u001b[0m",
      "\u001b[0;31mKeyboardInterrupt\u001b[0m                         Traceback (most recent call last)",
      "\u001b[0;32m<ipython-input-116-3dafa92a3aa8>\u001b[0m in \u001b[0;36m<module>\u001b[0;34m()\u001b[0m\n\u001b[1;32m      1\u001b[0m \u001b[0;31m## Obtain potential gene sequence  -- TIME SUCK\u001b[0m\u001b[0;34m\u001b[0m\u001b[0;34m\u001b[0m\u001b[0m\n\u001b[0;32m----> 2\u001b[0;31m \u001b[0mdf\u001b[0m\u001b[0;34m[\u001b[0m\u001b[0;34m\"seq\"\u001b[0m\u001b[0;34m]\u001b[0m \u001b[0;34m=\u001b[0m \u001b[0mdf\u001b[0m\u001b[0;34m.\u001b[0m\u001b[0mapply\u001b[0m\u001b[0;34m(\u001b[0m\u001b[0;32mlambda\u001b[0m \u001b[0mx\u001b[0m\u001b[0;34m:\u001b[0m \u001b[0mdata\u001b[0m\u001b[0;34m[\u001b[0m\u001b[0mx\u001b[0m\u001b[0;34m[\u001b[0m\u001b[0;36m0\u001b[0m\u001b[0;34m]\u001b[0m\u001b[0;34m:\u001b[0m\u001b[0mx\u001b[0m\u001b[0;34m[\u001b[0m\u001b[0;36m1\u001b[0m\u001b[0;34m]\u001b[0m\u001b[0;34m]\u001b[0m\u001b[0;34m,\u001b[0m\u001b[0maxis\u001b[0m\u001b[0;34m=\u001b[0m\u001b[0;36m1\u001b[0m\u001b[0;34m)\u001b[0m\u001b[0;34m\u001b[0m\u001b[0m\n\u001b[0m\u001b[1;32m      3\u001b[0m \u001b[0mprint\u001b[0m\u001b[0;34m(\u001b[0m\u001b[0;34m\"Obtained potential sequences...\"\u001b[0m\u001b[0;34m)\u001b[0m\u001b[0;34m\u001b[0m\u001b[0m\n\u001b[1;32m      4\u001b[0m \u001b[0;34m\u001b[0m\u001b[0m\n\u001b[1;32m      5\u001b[0m \u001b[0;31m## Nucleotide Frequencies for each Potential Gene\u001b[0m\u001b[0;34m\u001b[0m\u001b[0;34m\u001b[0m\u001b[0m\n",
      "\u001b[0;32m/Users/ingrid/anaconda/lib/python3.5/site-packages/pandas/core/frame.py\u001b[0m in \u001b[0;36mapply\u001b[0;34m(self, func, axis, broadcast, raw, reduce, args, **kwds)\u001b[0m\n\u001b[1;32m   3970\u001b[0m                     \u001b[0;32mif\u001b[0m \u001b[0mreduce\u001b[0m \u001b[0;32mis\u001b[0m \u001b[0;32mNone\u001b[0m\u001b[0;34m:\u001b[0m\u001b[0;34m\u001b[0m\u001b[0m\n\u001b[1;32m   3971\u001b[0m                         \u001b[0mreduce\u001b[0m \u001b[0;34m=\u001b[0m \u001b[0;32mTrue\u001b[0m\u001b[0;34m\u001b[0m\u001b[0m\n\u001b[0;32m-> 3972\u001b[0;31m                     \u001b[0;32mreturn\u001b[0m \u001b[0mself\u001b[0m\u001b[0;34m.\u001b[0m\u001b[0m_apply_standard\u001b[0m\u001b[0;34m(\u001b[0m\u001b[0mf\u001b[0m\u001b[0;34m,\u001b[0m \u001b[0maxis\u001b[0m\u001b[0;34m,\u001b[0m \u001b[0mreduce\u001b[0m\u001b[0;34m=\u001b[0m\u001b[0mreduce\u001b[0m\u001b[0;34m)\u001b[0m\u001b[0;34m\u001b[0m\u001b[0m\n\u001b[0m\u001b[1;32m   3973\u001b[0m             \u001b[0;32melse\u001b[0m\u001b[0;34m:\u001b[0m\u001b[0;34m\u001b[0m\u001b[0m\n\u001b[1;32m   3974\u001b[0m                 \u001b[0;32mreturn\u001b[0m \u001b[0mself\u001b[0m\u001b[0;34m.\u001b[0m\u001b[0m_apply_broadcast\u001b[0m\u001b[0;34m(\u001b[0m\u001b[0mf\u001b[0m\u001b[0;34m,\u001b[0m \u001b[0maxis\u001b[0m\u001b[0;34m)\u001b[0m\u001b[0;34m\u001b[0m\u001b[0m\n",
      "\u001b[0;32m/Users/ingrid/anaconda/lib/python3.5/site-packages/pandas/core/frame.py\u001b[0m in \u001b[0;36m_apply_standard\u001b[0;34m(self, func, axis, ignore_failures, reduce)\u001b[0m\n\u001b[1;32m   4024\u001b[0m                 \u001b[0mlabels\u001b[0m \u001b[0;34m=\u001b[0m \u001b[0mself\u001b[0m\u001b[0;34m.\u001b[0m\u001b[0m_get_agg_axis\u001b[0m\u001b[0;34m(\u001b[0m\u001b[0maxis\u001b[0m\u001b[0;34m)\u001b[0m\u001b[0;34m\u001b[0m\u001b[0m\n\u001b[1;32m   4025\u001b[0m                 result = lib.reduce(values, func, axis=axis, dummy=dummy,\n\u001b[0;32m-> 4026\u001b[0;31m                                     labels=labels)\n\u001b[0m\u001b[1;32m   4027\u001b[0m                 \u001b[0;32mreturn\u001b[0m \u001b[0mSeries\u001b[0m\u001b[0;34m(\u001b[0m\u001b[0mresult\u001b[0m\u001b[0;34m,\u001b[0m \u001b[0mindex\u001b[0m\u001b[0;34m=\u001b[0m\u001b[0mlabels\u001b[0m\u001b[0;34m)\u001b[0m\u001b[0;34m\u001b[0m\u001b[0m\n\u001b[1;32m   4028\u001b[0m             \u001b[0;32mexcept\u001b[0m \u001b[0mException\u001b[0m\u001b[0;34m:\u001b[0m\u001b[0;34m\u001b[0m\u001b[0m\n",
      "\u001b[0;32mpandas/src/reduce.pyx\u001b[0m in \u001b[0;36mpandas.lib.reduce (pandas/lib.c:43773)\u001b[0;34m()\u001b[0m\n",
      "\u001b[0;32mpandas/src/reduce.pyx\u001b[0m in \u001b[0;36mpandas.lib.Reducer.get_result (pandas/lib.c:33913)\u001b[0;34m()\u001b[0m\n",
      "\u001b[0;32m<ipython-input-116-3dafa92a3aa8>\u001b[0m in \u001b[0;36m<lambda>\u001b[0;34m(x)\u001b[0m\n\u001b[1;32m      1\u001b[0m \u001b[0;31m## Obtain potential gene sequence  -- TIME SUCK\u001b[0m\u001b[0;34m\u001b[0m\u001b[0;34m\u001b[0m\u001b[0m\n\u001b[0;32m----> 2\u001b[0;31m \u001b[0mdf\u001b[0m\u001b[0;34m[\u001b[0m\u001b[0;34m\"seq\"\u001b[0m\u001b[0;34m]\u001b[0m \u001b[0;34m=\u001b[0m \u001b[0mdf\u001b[0m\u001b[0;34m.\u001b[0m\u001b[0mapply\u001b[0m\u001b[0;34m(\u001b[0m\u001b[0;32mlambda\u001b[0m \u001b[0mx\u001b[0m\u001b[0;34m:\u001b[0m \u001b[0mdata\u001b[0m\u001b[0;34m[\u001b[0m\u001b[0mx\u001b[0m\u001b[0;34m[\u001b[0m\u001b[0;36m0\u001b[0m\u001b[0;34m]\u001b[0m\u001b[0;34m:\u001b[0m\u001b[0mx\u001b[0m\u001b[0;34m[\u001b[0m\u001b[0;36m1\u001b[0m\u001b[0;34m]\u001b[0m\u001b[0;34m]\u001b[0m\u001b[0;34m,\u001b[0m\u001b[0maxis\u001b[0m\u001b[0;34m=\u001b[0m\u001b[0;36m1\u001b[0m\u001b[0;34m)\u001b[0m\u001b[0;34m\u001b[0m\u001b[0m\n\u001b[0m\u001b[1;32m      3\u001b[0m \u001b[0mprint\u001b[0m\u001b[0;34m(\u001b[0m\u001b[0;34m\"Obtained potential sequences...\"\u001b[0m\u001b[0;34m)\u001b[0m\u001b[0;34m\u001b[0m\u001b[0m\n\u001b[1;32m      4\u001b[0m \u001b[0;34m\u001b[0m\u001b[0m\n\u001b[1;32m      5\u001b[0m \u001b[0;31m## Nucleotide Frequencies for each Potential Gene\u001b[0m\u001b[0;34m\u001b[0m\u001b[0;34m\u001b[0m\u001b[0m\n",
      "\u001b[0;32m/Users/ingrid/anaconda/lib/python3.5/site-packages/pandas/core/series.py\u001b[0m in \u001b[0;36m__getitem__\u001b[0;34m(self, key)\u001b[0m\n\u001b[1;32m    555\u001b[0m     \u001b[0;32mdef\u001b[0m \u001b[0m__getitem__\u001b[0m\u001b[0;34m(\u001b[0m\u001b[0mself\u001b[0m\u001b[0;34m,\u001b[0m \u001b[0mkey\u001b[0m\u001b[0;34m)\u001b[0m\u001b[0;34m:\u001b[0m\u001b[0;34m\u001b[0m\u001b[0m\n\u001b[1;32m    556\u001b[0m         \u001b[0;32mtry\u001b[0m\u001b[0;34m:\u001b[0m\u001b[0;34m\u001b[0m\u001b[0m\n\u001b[0;32m--> 557\u001b[0;31m             \u001b[0mresult\u001b[0m \u001b[0;34m=\u001b[0m \u001b[0mself\u001b[0m\u001b[0;34m.\u001b[0m\u001b[0mindex\u001b[0m\u001b[0;34m.\u001b[0m\u001b[0mget_value\u001b[0m\u001b[0;34m(\u001b[0m\u001b[0mself\u001b[0m\u001b[0;34m,\u001b[0m \u001b[0mkey\u001b[0m\u001b[0;34m)\u001b[0m\u001b[0;34m\u001b[0m\u001b[0m\n\u001b[0m\u001b[1;32m    558\u001b[0m \u001b[0;34m\u001b[0m\u001b[0m\n\u001b[1;32m    559\u001b[0m             \u001b[0;32mif\u001b[0m \u001b[0;32mnot\u001b[0m \u001b[0mnp\u001b[0m\u001b[0;34m.\u001b[0m\u001b[0misscalar\u001b[0m\u001b[0;34m(\u001b[0m\u001b[0mresult\u001b[0m\u001b[0;34m)\u001b[0m\u001b[0;34m:\u001b[0m\u001b[0;34m\u001b[0m\u001b[0m\n",
      "\u001b[0;32m/Users/ingrid/anaconda/lib/python3.5/site-packages/pandas/core/index.py\u001b[0m in \u001b[0;36mget_value\u001b[0;34m(self, series, key)\u001b[0m\n\u001b[1;32m   1780\u001b[0m             \u001b[0;32mreturn\u001b[0m \u001b[0ms\u001b[0m\u001b[0;34m[\u001b[0m\u001b[0mkey\u001b[0m\u001b[0;34m]\u001b[0m\u001b[0;34m\u001b[0m\u001b[0m\n\u001b[1;32m   1781\u001b[0m \u001b[0;34m\u001b[0m\u001b[0m\n\u001b[0;32m-> 1782\u001b[0;31m         \u001b[0ms\u001b[0m \u001b[0;34m=\u001b[0m \u001b[0m_values_from_object\u001b[0m\u001b[0;34m(\u001b[0m\u001b[0mseries\u001b[0m\u001b[0;34m)\u001b[0m\u001b[0;34m\u001b[0m\u001b[0m\n\u001b[0m\u001b[1;32m   1783\u001b[0m         \u001b[0mk\u001b[0m \u001b[0;34m=\u001b[0m \u001b[0m_values_from_object\u001b[0m\u001b[0;34m(\u001b[0m\u001b[0mkey\u001b[0m\u001b[0;34m)\u001b[0m\u001b[0;34m\u001b[0m\u001b[0m\n\u001b[1;32m   1784\u001b[0m \u001b[0;34m\u001b[0m\u001b[0m\n",
      "\u001b[0;32mpandas/lib.pyx\u001b[0m in \u001b[0;36mpandas.lib.values_from_object (pandas/lib.c:4231)\u001b[0;34m()\u001b[0m\n",
      "\u001b[0;32m/Users/ingrid/anaconda/lib/python3.5/site-packages/pandas/core/series.py\u001b[0m in \u001b[0;36mget_values\u001b[0;34m(self)\u001b[0m\n\u001b[1;32m    357\u001b[0m     \u001b[0;32mdef\u001b[0m \u001b[0mget_values\u001b[0m\u001b[0;34m(\u001b[0m\u001b[0mself\u001b[0m\u001b[0;34m)\u001b[0m\u001b[0;34m:\u001b[0m\u001b[0;34m\u001b[0m\u001b[0m\n\u001b[1;32m    358\u001b[0m         \u001b[0;34m\"\"\" same as values (but handles sparseness conversions); is a view \"\"\"\u001b[0m\u001b[0;34m\u001b[0m\u001b[0m\n\u001b[0;32m--> 359\u001b[0;31m         \u001b[0;32mreturn\u001b[0m \u001b[0mself\u001b[0m\u001b[0;34m.\u001b[0m\u001b[0m_data\u001b[0m\u001b[0;34m.\u001b[0m\u001b[0mget_values\u001b[0m\u001b[0;34m(\u001b[0m\u001b[0;34m)\u001b[0m\u001b[0;34m\u001b[0m\u001b[0m\n\u001b[0m\u001b[1;32m    360\u001b[0m \u001b[0;34m\u001b[0m\u001b[0m\n\u001b[1;32m    361\u001b[0m     \u001b[0;31m# ops\u001b[0m\u001b[0;34m\u001b[0m\u001b[0;34m\u001b[0m\u001b[0m\n",
      "\u001b[0;32m/Users/ingrid/anaconda/lib/python3.5/site-packages/pandas/core/internals.py\u001b[0m in \u001b[0;36mget_values\u001b[0;34m(self)\u001b[0m\n\u001b[1;32m   3836\u001b[0m     \u001b[0;32mdef\u001b[0m \u001b[0mget_values\u001b[0m\u001b[0;34m(\u001b[0m\u001b[0mself\u001b[0m\u001b[0;34m)\u001b[0m\u001b[0;34m:\u001b[0m\u001b[0;34m\u001b[0m\u001b[0m\n\u001b[1;32m   3837\u001b[0m         \u001b[0;34m\"\"\" return a dense type view \"\"\"\u001b[0m\u001b[0;34m\u001b[0m\u001b[0m\n\u001b[0;32m-> 3838\u001b[0;31m         \u001b[0;32mreturn\u001b[0m \u001b[0mnp\u001b[0m\u001b[0;34m.\u001b[0m\u001b[0marray\u001b[0m\u001b[0;34m(\u001b[0m\u001b[0mself\u001b[0m\u001b[0;34m.\u001b[0m\u001b[0m_block\u001b[0m\u001b[0;34m.\u001b[0m\u001b[0mto_dense\u001b[0m\u001b[0;34m(\u001b[0m\u001b[0;34m)\u001b[0m\u001b[0;34m,\u001b[0m\u001b[0mcopy\u001b[0m\u001b[0;34m=\u001b[0m\u001b[0;32mFalse\u001b[0m\u001b[0;34m)\u001b[0m\u001b[0;34m\u001b[0m\u001b[0m\n\u001b[0m\u001b[1;32m   3839\u001b[0m \u001b[0;34m\u001b[0m\u001b[0m\n\u001b[1;32m   3840\u001b[0m     \u001b[0;34m@\u001b[0m\u001b[0mproperty\u001b[0m\u001b[0;34m\u001b[0m\u001b[0m\n",
      "\u001b[0;32m/Users/ingrid/anaconda/lib/python3.5/site-packages/pandas/core/internals.py\u001b[0m in \u001b[0;36m_block\u001b[0;34m(self)\u001b[0m\n\u001b[1;32m   3741\u001b[0m         \u001b[0;32mpass\u001b[0m\u001b[0;34m\u001b[0m\u001b[0m\n\u001b[1;32m   3742\u001b[0m \u001b[0;34m\u001b[0m\u001b[0m\n\u001b[0;32m-> 3743\u001b[0;31m     \u001b[0;34m@\u001b[0m\u001b[0mproperty\u001b[0m\u001b[0;34m\u001b[0m\u001b[0m\n\u001b[0m\u001b[1;32m   3744\u001b[0m     \u001b[0;32mdef\u001b[0m \u001b[0m_block\u001b[0m\u001b[0;34m(\u001b[0m\u001b[0mself\u001b[0m\u001b[0;34m)\u001b[0m\u001b[0;34m:\u001b[0m\u001b[0;34m\u001b[0m\u001b[0m\n\u001b[1;32m   3745\u001b[0m         \u001b[0;32mreturn\u001b[0m \u001b[0mself\u001b[0m\u001b[0;34m.\u001b[0m\u001b[0mblocks\u001b[0m\u001b[0;34m[\u001b[0m\u001b[0;36m0\u001b[0m\u001b[0;34m]\u001b[0m\u001b[0;34m\u001b[0m\u001b[0m\n",
      "\u001b[0;31mKeyboardInterrupt\u001b[0m: "
     ]
    }
   ],
   "source": [
    "## Obtain potential gene sequence  -- TIME SUCK\n",
    "df[\"seq\"] = df.apply(lambda x: data[x[0]:x[1]],axis=1)\n",
    "print(\"Obtained potential sequences...\")\n",
    "\n",
    "## Nucleotide Frequencies for each Potential Gene\n",
    "res = [[l[1] for l in list(nucleotide_frequency(seg).items())] for seg in list(df.seq)]\n",
    "frequency_df = pd.DataFrame(res)\n",
    "frequency_df.columns=[\"a\",\"c\",\"g\",\"t\"]\n",
    "print(\"Calculate Nucleotide Frequencies...\")\n",
    "\n",
    "## Combine tables\n",
    "# 1. reset df index\n",
    "df.reset_index(inplace=True)\n",
    "# 2. concat\n",
    "df = pd.concat([df,frequency_df],axis=1)\n",
    "print(\"Combined frequence and gene tables...\")"
   ]
  },
  {
   "cell_type": "code",
   "execution_count": null,
   "metadata": {
    "collapsed": true
   },
   "outputs": [],
   "source": []
  },
  {
   "cell_type": "code",
   "execution_count": 66,
   "metadata": {
    "collapsed": false
   },
   "outputs": [],
   "source": [
    "## Filter for Genes\n",
    "    # x[0] - start\n",
    "    # x[1] - end\n",
    "    # x[4] - strand\n",
    "# df[\"is_gene\"] = df.apply(lambda x: check_gene_state([x[0],x[1]],annot, x[4]), axis=1)"
   ]
  },
  {
   "cell_type": "code",
   "execution_count": 341,
   "metadata": {
    "collapsed": false
   },
   "outputs": [],
   "source": [
    "y = nsample_df.is_gene\n",
    "x = nsample_df[[\"start\",\"end\",\"shift\",\"len\",\"a\",\"c\",\"g\",\"t\"]]"
   ]
  },
  {
   "cell_type": "code",
   "execution_count": 357,
   "metadata": {
    "collapsed": false
   },
   "outputs": [
    {
     "data": {
      "text/plain": [
       "False    9995\n",
       "True        5\n",
       "Name: is_gene, dtype: int64"
      ]
     },
     "execution_count": 357,
     "metadata": {},
     "output_type": "execute_result"
    }
   ],
   "source": [
    "nsample_df.is_gene.value_counts()"
   ]
  },
  {
   "cell_type": "code",
   "execution_count": 326,
   "metadata": {
    "collapsed": false
   },
   "outputs": [
    {
     "data": {
      "text/plain": [
       "{False}"
      ]
     },
     "execution_count": 326,
     "metadata": {},
     "output_type": "execute_result"
    }
   ],
   "source": [
    "set(nsample_df.isnull().any(axis=1))"
   ]
  },
  {
   "cell_type": "code",
   "execution_count": 290,
   "metadata": {
    "collapsed": true
   },
   "outputs": [],
   "source": [
    "sample_df[\"len\"] = sample_df.seq.apply(lambda x: len(x))\n"
   ]
  },
  {
   "cell_type": "code",
   "execution_count": 291,
   "metadata": {
    "collapsed": false
   },
   "outputs": [],
   "source": [
    "Nsample_df = sample_df.reindex(np.arange(10000))"
   ]
  },
  {
   "cell_type": "code",
   "execution_count": 296,
   "metadata": {
    "collapsed": false
   },
   "outputs": [
    {
     "data": {
      "text/plain": [
       "{False}"
      ]
     },
     "execution_count": 296,
     "metadata": {},
     "output_type": "execute_result"
    }
   ],
   "source": [
    "set(sample_df.isnull().any(axis=1))"
   ]
  },
  {
   "cell_type": "code",
   "execution_count": 283,
   "metadata": {
    "collapsed": false
   },
   "outputs": [
    {
     "data": {
      "text/plain": [
       "(10000, 7)"
      ]
     },
     "execution_count": 283,
     "metadata": {},
     "output_type": "execute_result"
    }
   ],
   "source": [
    "ex = Nsample_df.seq\n",
    "# ex.apply(lambda x: len(str(x)))\n",
    "sample_df.isnull().shape"
   ]
  },
  {
   "cell_type": "code",
   "execution_count": 361,
   "metadata": {
    "collapsed": false
   },
   "outputs": [],
   "source": [
    "xxx = list(sample_df[sample_df.is_gene == True].seq)"
   ]
  },
  {
   "cell_type": "code",
   "execution_count": 362,
   "metadata": {
    "collapsed": false
   },
   "outputs": [
    {
     "name": "stdout",
     "output_type": "stream",
     "text": [
      "Query:    1 ATG--ATTC--AAT--T----TTCAA-TTAAT--CGCACATTATTTAT--T--C-ATGCTTT--AA-ATACAACTAAACGTGCTATT-AGCACTAAA-AATG-CC--ATTCCTATTCTTTCATCAA--TAA--A--AA---TTGAAGTCACTT--CTACAGGAGTAACTTTAACAGGGTCT-AACGGTC-AAATATCA--ATTGAAAACACTATTCCTGTAAGTA-ATGAAAAT-GCT-GG-T-TTGCTAATTAC-CTCTCCAGGAGCTATTTTA-T--TAGAAGCTA-GT-T-TTTTTATTAATATTATTTCAAGTTTG-CCAGATATTAGTATAA---ATGT--TAAA-GAAATT-G-AA--CAACACCAAGTT-GTTTTAA-CC-AGTGGT-AAATCAGAGAT-T-AC--CTTAAAA--GGA--AAAGATG-TTG--A-CCAGTA-TC-CTCGT-CTA-CA---A-GAAGTATCAACAG-AAAATCCTTTG-ATTTTA-A-AAACAAAATTATTGAAG-TCT---AT-TATT-GCT-GAAACA-GCT-TTTGCAGCCAGTTTACAAGAA-AG-TC-GTCCTA-TTTTAACAGGAGTTCATATTGTATTAAGTAATCATAA-AGATT-T--TAA--AGC-A--GTAGCGA-CTGA-C-TCTC-ATCG-TAT-G-AGCCAACGTTTAATCACT--TTGGACAAT----ACTT--CAG-CAGAT-T------T--TGATGTAGTT-ATTC-CAAGT--AAATCTTTGAGAGAATTTTCAGCAGTATTTACAGATGATATTGAGACCGTTGAGGTATTTTT-CTCACCA-AGCCA---A--ATCTTGTTCAGAAGTGAACACATTT-CTTTTTAT-ACACG-CCTCTTAGAAGG-AAATTATCCCGATA-CAGAC-CGTT--T-A-TT-AATGACAGAATTTGAGACGGAGGT--TGTTTTCAATAC--CC-AATCCCTTCGC-CAC-GCTATGGAACG-T-G-CCT-TCTTGA-TTTCTAATGCTACTC-AA-AATGGTACTGTTAAGCTTG-AGATTACTCAAAATCATATTTCAGCTCATGTTAAC-TCACCTGAGGTTGGTAAGGTA---AACGAGGATTTAGATATTG--TTAGTC-AGTCTGGTAG-T--G-ATTTA--AC-T---AT--CAGCTTCAATCCA-ACTTACCT--TATTGAGTCTTTAAAAGCTATTAAAAGTGAAACAGTA-AAAATTCATTTC-TTATCACCAGTTCGACC-AT--TCACCCT-AACACCAGGCGAT--G--AGGAAGAAAGTTTTA---TCCAATTAATT-ACACCAGT-ACGAAC-AAACTAA 1137\n",
      "            |||  ||||  |.|  |    ||.|| ||.||  |||.|| .||||.|  |  | |||.|||  || | |.|.|| ||  ||  ||| ||||  ||| .| | ||  |.| | | .|   ||..||  |||  |  ||   ||.||.|| .||  |||| .|  |.|| ||  || |.|.| |||  || |||||| |  .||||||||..|||| |   |||.| |||||||| |.| || | |||||..|| | .| ..|||.|||||  .|| |  |.||| ||| .| | .|..| || .| |||||| ..|.|.| ||.|...||.|.|.||   ||.|  |||| |..||| | ||  |...| |.| || |  ..|| || |.||.| .|||.|.|.|| | ||  ||.||||  ..|  ||.|| | |||  | ||| || || | |.| .|| ||   | ||| | |.|| || |||||  ||.| |.|||| | ..|| ...|||||||.| |.|   || | || ||| .|||.| ||| |.||.| .||     |||||| || || .|..|| |||||| .|.|.||||||    | ||| ||| || || |.||| |  |||  ||| |  ||| | | |.|| | |||| || | |.| | ||  |.||.|||.|.|||  ||..| |||    | ||  ||| || || |      |  |||| |  || |..| |.|||  ..|| |||||.| ||   | |  | .|||.| |||  ||| | | | | ||    ||||||| ||||..| | |||   |  || ||| .|.|  ||   || |||| .||.|.|| .|| | ..| |||||||| ...||| ...|||| .||.| .|||  | | || ||  ||| || ||||.|| || .|  ||||..||.|.|  || ||.|..||||| | | | .|.|.|| | | | ||| ...||| ..| ||.|.|.| || || ||    | | |.||||  | | |.|  |..|||  || ||| | | ..|||||.| ||| ..||..||  .|||.||   |||||..| ..|.||||||  |||| | ||.|..|||| |  | .||||  || |   ||  ||| .| ||  || .||| |||  .|||| |     ||||| .|||  ..|||  .||| | |..|||||  .| .|| |.|||  | | || ||  | |...| ||.|.||.|  ||  |  ||||.|||||..|||   ||.||   ||| |.|||| | |..||| |||.|||\n",
      "Ref  :  179 ATGTTATTCTTACTGCTGGTTTTGAAGTTTATAACGCTCA-AATTTCTGTTGACTATGTTTTCGAAGA-AGACCT-AA--TG--ATTGAGCA--AAATCA-GACCAAAAT-C-A-AC---CAAAAACCTAAGCAGCAAGCCTTAAATTC-TTTGCCTAC-TG--TTAC-TT--CA-GATTTAAAC--TCGAAATAT-AGTTTTGAAAACTTTATT-C---AAGGAGATGAAAATCGTTGGGCTGTTGCTGCTT-CAAT-AGCAGTAGCTA--ATACTCCTGGAA-CTACCTATAATCCT-TT-GT-TTATTT-GGGGTGGCCCTGGGCTTGGAAAAACCCATTTATTAAATGCTATTGGTAATTCTGTA-CTA-TTAG--AAAATCCAAATGCTCGAATTAAATATATCACAGCTGAAAACTTTATTAATGA-GTTTGTTATCCA-TATTCGC-CTTGATACCATGGATGAA-T-TGAA-AGAAAAAT--TTCGTAATTTAGATTTAC-TCCTTATTGATGATATCCAATCT-TTAGCTAAAAAAACGCTCTCTGGA-ACA-----CAAGAAGAGTTCTTTAATACTTTTAA-TGCACTTCATA----A-TAA-TAA-CA-AACAAATTGTCCTAACAAGCGACCGTA-C-ACCAGATCATCTCAAT-GATTTAGAAG--ATCGATTAGTTACTCGTTTTA-AATGGGGA-TTAACAGTCA-ATATCACACCTCCTGAT-T--TTGAAACACGAGTGGCTAT-TTTGACA-AA---T-A--A-AATTCA-AGA--ATA-T-A-A-C-TT----TATTTTTCCTCAAGATA-CCATTGAGTAT-TTG-GCTG--GT---CA-ATTTGATTCTAATGTCA-GAGAT-TTAGAAGGTGCCTTA-AAAGATATTAGTCTGGTTGCTAATTTCAA--ACA-AA-TTGACAC-GA-TTACTGTTGACATTGCTGCCGAAGCTATTCGCGC-CAG-AAAGCAA-GATGGACCTAAAATGACAGT-TATTCCCA-TCGAAGAA----A-T-TCAAGC--GCA-AGT--TGGAAA--AT-TTT-A-C-GGTGTTACCGTCA-AAGAAATT--AAAGCTACTAAACGAACA-CAAAATATTGTTTTAG-CAAGACAAGTAGCTATGTTTTTAGCACGTGAAATGACAG-AT-AA--CAGTCTT-CCTAAAATTG-G-----AAAAG-AATT--TGGTG--GCAG-AGACCATTCA--ACAGTA-CTCCA--T-G-CCTATAAT-AAAATCAAAAACATG--ATCAGCCAGGACGAAAGCCTTAGGATCGAA---ATTGAAACCA-TAAAAAACAAAATTAA 1352\n",
      "\n",
      "Score: 941\n",
      "Matches: 764 (56.6%)\n",
      "Mismatches: 587\n",
      "CIGAR: 3M2D4M2D3M2D1M4D5M1D5M2D6M1I7M2D1M2D1M1D7M2D2M1D1M1I6M1I2M2I2M2I3M1D4M2I3M1D2M1I1M1D2M2D3M1I1M1I1M1I2M3I6M2D3M2D1M2D2M3D8M1I3M2D4M1I2M2I4M1I2M2I2M1I5M1D3M2I2M1D6M1I1M2D15M1I1M3I5M1D8M1D3M1D2M1D1M1D9M1I1M1D2M1I11M2I3M1D1M2D5M1I3M1D2M1D1M1D5M1I2M1I2M1I6M1I7M1D16M3D4M2D4M1D6M1D1M1D2M2D5M1I3M1I2M1D1M2I4M1D2M1D6M1D11M1D1M1D2M2D7M2D3M2D5M1I1M1D3M2D1M1D3M1I2M1D2M1D1M1I3M1D3M1D2M3D1M1D3M1I1M1I4M1I2M1D5M2I4M1D6M1D1M1D4M1I12M1D3M3D2M1D1M1I2M1D3M1D6M1D3M1D6M1I3M5I6M1D2M1D2M1D6M1D6M1I11M4I1M1I3M1I3M1I2M1I2M1D5M1D1M2D3M2D3M1D1M2D3M1I1M1I1M1D4M1D1M1D4M1D2M1I1M1D3M1D1M1D2M2I14M2D5M1I3M4D1M1I2M2D3M1D2M1I2M1D1M6D1M2D4M1I1M2I2M1D4M1D5M2D4M1I7M1I2M3I1M1I1M2I1M1I6M1I3M2I3M1I1M1I1M1I1M1I1M1I2M4I7M1D7M1D1M1I3M3D1M2D2M1I3M1I4M2I2M3I2M1I4M1D8M1D3M1I1M1D3M1I8M1D6M1I7M1D5M1D4M2D1M1D1M1D2M1D2M2I3M1I2M1I7M1I2M1I2M2D12M2D2M1D11M1D1M1I1M1D1M1I7M1I1M1D1M1D1M1D3M1D6M1D3M1I8M1I2M1D2M1D2M4I1M1I1M1I6M2I1M1D1M1I3M2I6M2I2M1I3M1I1M1I1M1I9M1D3M1I8M2I7M3D8M1I10M2D4M1I1M1D10M1D1M2D1M1D5M2D2M1D1M3D2M2D3M1I2M1I2M2I2M1D4M1I3M2D5M1I1M5I5M1I4M2I5M2I4M1I1M1D8M2I2M1D3M1I5M2I1M1I1M1I2M1D2M2D1M1I5M1D9M2I2M2D1M2D15M3D5M3I3M1D6M1I1M1D6M1D7M\n"
     ]
    }
   ],
   "source": [
    "import swalign\n",
    "# choose your own values here… 2 and -1 are common.\n",
    "match = 2\n",
    "mismatch = -1\n",
    "scoring = swalign.NucleotideScoringMatrix(match, mismatch)\n",
    "\n",
    "sw = swalign.LocalAlignment(scoring)  # you can also choose gap penalties, etc...\n",
    "alignment = sw.align(xxx[0],xxx[1])\n",
    "alignment.dump()"
   ]
  },
  {
   "cell_type": "code",
   "execution_count": 301,
   "metadata": {
    "collapsed": false
   },
   "outputs": [],
   "source": [
    "frequency_df[\"start\"] = sample_df.start"
   ]
  },
  {
   "cell_type": "code",
   "execution_count": 304,
   "metadata": {
    "collapsed": false
   },
   "outputs": [
    {
     "ename": "ValueError",
     "evalue": "labels [ nan  nan  nan ...,  nan  nan  nan] not contained in axis",
     "output_type": "error",
     "traceback": [
      "\u001b[0;31m---------------------------------------------------------------------------\u001b[0m",
      "\u001b[0;31mValueError\u001b[0m                                Traceback (most recent call last)",
      "\u001b[0;32m<ipython-input-304-9e306ef10fa6>\u001b[0m in \u001b[0;36m<module>\u001b[0;34m()\u001b[0m\n\u001b[0;32m----> 1\u001b[0;31m \u001b[0mfrequency_df\u001b[0m\u001b[0;34m.\u001b[0m\u001b[0mdrop\u001b[0m\u001b[0;34m(\u001b[0m\u001b[0mfrequency_df\u001b[0m\u001b[0;34m.\u001b[0m\u001b[0mstart\u001b[0m\u001b[0;34m)\u001b[0m\u001b[0;34m\u001b[0m\u001b[0m\n\u001b[0m",
      "\u001b[0;32m/Users/ingrid/anaconda/envs/py27/lib/python2.7/site-packages/pandas/core/generic.pyc\u001b[0m in \u001b[0;36mdrop\u001b[0;34m(self, labels, axis, level, inplace, errors)\u001b[0m\n\u001b[1;32m   1615\u001b[0m                 \u001b[0mnew_axis\u001b[0m \u001b[0;34m=\u001b[0m \u001b[0maxis\u001b[0m\u001b[0;34m.\u001b[0m\u001b[0mdrop\u001b[0m\u001b[0;34m(\u001b[0m\u001b[0mlabels\u001b[0m\u001b[0;34m,\u001b[0m \u001b[0mlevel\u001b[0m\u001b[0;34m=\u001b[0m\u001b[0mlevel\u001b[0m\u001b[0;34m,\u001b[0m \u001b[0merrors\u001b[0m\u001b[0;34m=\u001b[0m\u001b[0merrors\u001b[0m\u001b[0;34m)\u001b[0m\u001b[0;34m\u001b[0m\u001b[0m\n\u001b[1;32m   1616\u001b[0m             \u001b[0;32melse\u001b[0m\u001b[0;34m:\u001b[0m\u001b[0;34m\u001b[0m\u001b[0m\n\u001b[0;32m-> 1617\u001b[0;31m                 \u001b[0mnew_axis\u001b[0m \u001b[0;34m=\u001b[0m \u001b[0maxis\u001b[0m\u001b[0;34m.\u001b[0m\u001b[0mdrop\u001b[0m\u001b[0;34m(\u001b[0m\u001b[0mlabels\u001b[0m\u001b[0;34m,\u001b[0m \u001b[0merrors\u001b[0m\u001b[0;34m=\u001b[0m\u001b[0merrors\u001b[0m\u001b[0;34m)\u001b[0m\u001b[0;34m\u001b[0m\u001b[0m\n\u001b[0m\u001b[1;32m   1618\u001b[0m             \u001b[0mdropped\u001b[0m \u001b[0;34m=\u001b[0m \u001b[0mself\u001b[0m\u001b[0;34m.\u001b[0m\u001b[0mreindex\u001b[0m\u001b[0;34m(\u001b[0m\u001b[0;34m**\u001b[0m\u001b[0;34m{\u001b[0m\u001b[0maxis_name\u001b[0m\u001b[0;34m:\u001b[0m \u001b[0mnew_axis\u001b[0m\u001b[0;34m}\u001b[0m\u001b[0;34m)\u001b[0m\u001b[0;34m\u001b[0m\u001b[0m\n\u001b[1;32m   1619\u001b[0m             \u001b[0;32mtry\u001b[0m\u001b[0;34m:\u001b[0m\u001b[0;34m\u001b[0m\u001b[0m\n",
      "\u001b[0;32m/Users/ingrid/anaconda/envs/py27/lib/python2.7/site-packages/pandas/core/index.pyc\u001b[0m in \u001b[0;36mdrop\u001b[0;34m(self, labels, errors)\u001b[0m\n\u001b[1;32m   2801\u001b[0m         \u001b[0;32mif\u001b[0m \u001b[0mmask\u001b[0m\u001b[0;34m.\u001b[0m\u001b[0many\u001b[0m\u001b[0;34m(\u001b[0m\u001b[0;34m)\u001b[0m\u001b[0;34m:\u001b[0m\u001b[0;34m\u001b[0m\u001b[0m\n\u001b[1;32m   2802\u001b[0m             \u001b[0;32mif\u001b[0m \u001b[0merrors\u001b[0m \u001b[0;34m!=\u001b[0m \u001b[0;34m'ignore'\u001b[0m\u001b[0;34m:\u001b[0m\u001b[0;34m\u001b[0m\u001b[0m\n\u001b[0;32m-> 2803\u001b[0;31m                 \u001b[0;32mraise\u001b[0m \u001b[0mValueError\u001b[0m\u001b[0;34m(\u001b[0m\u001b[0;34m'labels %s not contained in axis'\u001b[0m \u001b[0;34m%\u001b[0m \u001b[0mlabels\u001b[0m\u001b[0;34m[\u001b[0m\u001b[0mmask\u001b[0m\u001b[0;34m]\u001b[0m\u001b[0;34m)\u001b[0m\u001b[0;34m\u001b[0m\u001b[0m\n\u001b[0m\u001b[1;32m   2804\u001b[0m             \u001b[0mindexer\u001b[0m \u001b[0;34m=\u001b[0m \u001b[0mindexer\u001b[0m\u001b[0;34m[\u001b[0m\u001b[0;34m~\u001b[0m\u001b[0mmask\u001b[0m\u001b[0;34m]\u001b[0m\u001b[0;34m\u001b[0m\u001b[0m\n\u001b[1;32m   2805\u001b[0m         \u001b[0;32mreturn\u001b[0m \u001b[0mself\u001b[0m\u001b[0;34m.\u001b[0m\u001b[0mdelete\u001b[0m\u001b[0;34m(\u001b[0m\u001b[0mindexer\u001b[0m\u001b[0;34m)\u001b[0m\u001b[0;34m\u001b[0m\u001b[0m\n",
      "\u001b[0;31mValueError\u001b[0m: labels [ nan  nan  nan ...,  nan  nan  nan] not contained in axis"
     ]
    }
   ],
   "source": [
    "frequency_df.drop(frequency_df.start)"
   ]
  },
  {
   "cell_type": "code",
   "execution_count": 258,
   "metadata": {
    "collapsed": false
   },
   "outputs": [
    {
     "data": {
      "text/plain": [
       "(10000, 4)"
      ]
     },
     "execution_count": 258,
     "metadata": {},
     "output_type": "execute_result"
    }
   ],
   "source": [
    "frequency_df.shape"
   ]
  },
  {
   "cell_type": "code",
   "execution_count": 259,
   "metadata": {
    "collapsed": false
   },
   "outputs": [],
   "source": [
    "new_df = pd.concat([Nsample_df,frequency_df],axis=1)"
   ]
  },
  {
   "cell_type": "code",
   "execution_count": 260,
   "metadata": {
    "collapsed": false
   },
   "outputs": [
    {
     "data": {
      "text/plain": [
       "(10000, 11)"
      ]
     },
     "execution_count": 260,
     "metadata": {},
     "output_type": "execute_result"
    }
   ],
   "source": [
    "new_df.shape"
   ]
  },
  {
   "cell_type": "code",
   "execution_count": null,
   "metadata": {
    "collapsed": true
   },
   "outputs": [],
   "source": [
    "nucleotide_frequency(seq)"
   ]
  },
  {
   "cell_type": "code",
   "execution_count": 201,
   "metadata": {
    "collapsed": false
   },
   "outputs": [],
   "source": [
    "from sklearn.feature_extraction.text import CountVectorizer\n",
    "vectorizer = CountVectorizer(analyzer = 'char_wb', ngram_range=(1,3), min_df= 1)\n",
    "d = vectorizer.fit_transform(list(sample_df['seq']))\n"
   ]
  },
  {
   "cell_type": "code",
   "execution_count": null,
   "metadata": {
    "collapsed": true
   },
   "outputs": [],
   "source": []
  },
  {
   "cell_type": "code",
   "execution_count": 243,
   "metadata": {
    "collapsed": true
   },
   "outputs": [],
   "source": []
  },
  {
   "cell_type": "code",
   "execution_count": 98,
   "metadata": {
    "collapsed": false
   },
   "outputs": [
    {
     "data": {
      "text/plain": [
       "False"
      ]
     },
     "execution_count": 98,
     "metadata": {},
     "output_type": "execute_result"
    }
   ],
   "source": [
    "check_gene_state((37, 1438),annot,'C','F')"
   ]
  },
  {
   "cell_type": "code",
   "execution_count": 87,
   "metadata": {
    "collapsed": false
   },
   "outputs": [
    {
     "data": {
      "text/plain": [
       "u'ATGAAAAATAGTTGAAAACAATAGCGGTGTCCCCTTAAAATGGCTTTTCCACAGGTTGTGGAGAACCCAAATTAACAGTGTTAATTTATTTTCCACAGGTTGTGGAAAAACTAACTATTATCCATCGTTCTGTGGAAAACTAGAATAGTTTATGGTAGAATAGTTCTAGAATTATCCACAAGAAGGAACCTAGTATGA'"
      ]
     },
     "execution_count": 87,
     "metadata": {},
     "output_type": "execute_result"
    }
   ],
   "source": [
    "sample_df.iloc[1].seq"
   ]
  },
  {
   "cell_type": "code",
   "execution_count": null,
   "metadata": {
    "collapsed": true
   },
   "outputs": [],
   "source": [
    "df[\"sequence_s\"] =  df[['start', 'end']].apply(lambda x: data[x[0]:x[1]], axis=1)"
   ]
  },
  {
   "cell_type": "code",
   "execution_count": null,
   "metadata": {
    "collapsed": true
   },
   "outputs": [],
   "source": []
  },
  {
   "cell_type": "code",
   "execution_count": 6,
   "metadata": {
    "collapsed": true
   },
   "outputs": [],
   "source": []
  },
  {
   "cell_type": "code",
   "execution_count": 39,
   "metadata": {
    "collapsed": false
   },
   "outputs": [
    {
     "name": "stdout",
     "output_type": "stream",
     "text": [
      "50\n"
     ]
    }
   ],
   "source": [
    "result = [[l[1] for l in list(nucleotide_frequency(seg).items())] for seg in seg_50]\n",
    "df = pd.DataFrame(result)\n",
    "df.columns=[\"a\",\"c\",\"g\",\"t\"]\n",
    "df[\"gene\"] = gene_label(seg_50_an)\n",
    "\n",
    "gene_df = pd.DataFrame({\"label\":df.gene,\"sequence\": seg_50})"
   ]
  },
  {
   "cell_type": "code",
   "execution_count": 124,
   "metadata": {
    "collapsed": false
   },
   "outputs": [
    {
     "data": {
      "text/plain": [
       "'x'"
      ]
     },
     "execution_count": 124,
     "metadata": {},
     "output_type": "execute_result"
    }
   ],
   "source": [
    "str(u'x')"
   ]
  },
  {
   "cell_type": "code",
   "execution_count": 122,
   "metadata": {
    "collapsed": false
   },
   "outputs": [],
   "source": [
    "he = prior_state_emissions(data,annot)"
   ]
  },
  {
   "cell_type": "code",
   "execution_count": 123,
   "metadata": {
    "collapsed": false
   },
   "outputs": [
    {
     "data": {
      "text/plain": [
       "{u'C': ['C',\n",
       "  0,\n",
       "  {'A': 0.3129376364986609,\n",
       "   'C': 0.18263194813359745,\n",
       "   'G': 0.20960154402206216,\n",
       "   'T': 0.2948288713456795},\n",
       "  {'C': 0.39282114788001343, 'N': 0.0004367210615614748, 'R': 0.0}],\n",
       " u'N': ['N',\n",
       "  1,\n",
       "  {'A': 0.3190287760527498,\n",
       "   'C': 0.1789016522921669,\n",
       "   'G': 0.18693843939846827,\n",
       "   'T': 0.315131132256615},\n",
       "  {'C': 0.0004367210615614748,\n",
       "   'N': 0.2719266092685273,\n",
       "   'R': 0.000344950257525071}],\n",
       " u'R': ['R',\n",
       "  0,\n",
       "  {'A': 0.29606142439037003,\n",
       "   'C': 0.20997386780698055,\n",
       "   'G': 0.1825552662752494,\n",
       "   'T': 0.3114094415274},\n",
       "  {'C': 0.0, 'N': 0.000344950257525071, 'R': 0.3336883603850271}]}"
      ]
     },
     "execution_count": 123,
     "metadata": {},
     "output_type": "execute_result"
    }
   ],
   "source": [
    "he"
   ]
  },
  {
   "cell_type": "code",
   "execution_count": null,
   "metadata": {
    "collapsed": true
   },
   "outputs": [],
   "source": [
    "emi = emissions(data,annot)"
   ]
  },
  {
   "cell_type": "code",
   "execution_count": 100,
   "metadata": {
    "collapsed": false
   },
   "outputs": [],
   "source": [
    "trs = transitions(annot)"
   ]
  },
  {
   "cell_type": "code",
   "execution_count": null,
   "metadata": {
    "collapsed": false
   },
   "outputs": [],
   "source": [
    "# dir(hmm)\n",
    "from hmm import hmm"
   ]
  },
  {
   "cell_type": "code",
   "execution_count": 133,
   "metadata": {
    "collapsed": false
   },
   "outputs": [
    {
     "data": {
      "text/plain": [
       "{'A': 0.3190287760527498,\n",
       " 'C': 0.1789016522921669,\n",
       " 'G': 0.18693843939846827,\n",
       " 'T': 0.315131132256615}"
      ]
     },
     "execution_count": 133,
     "metadata": {},
     "output_type": "execute_result"
    }
   ],
   "source": [
    "he[u'N'][2]"
   ]
  },
  {
   "cell_type": "code",
   "execution_count": 136,
   "metadata": {
    "collapsed": false
   },
   "outputs": [],
   "source": [
    "NC = hmm.state(he[u'N'][0],he[u'N'][1],he[u'N'][2],he[u'N'][3])\n",
    "C = hmm.state(he[u'C'][0],he[u'C'][1],he[u'C'][2],he[u'C'][3])\n",
    "R = hmm.state(he[u'R'][0],he[u'R'][1],he[u'R'][2],he[u'R'][3])\n",
    "gene_model = hmm.hmm(['A','T','G','C'],[NC,C,R])"
   ]
  },
  {
   "cell_type": "code",
   "execution_count": 139,
   "metadata": {
    "collapsed": false
   },
   "outputs": [
    {
     "name": "stdout",
     "output_type": "stream",
     "text": [
      "('N', 'C', 'C', 'C'): -6.615035\n"
     ]
    },
    {
     "ename": "ValueError",
     "evalue": "math domain error",
     "output_type": "error",
     "traceback": [
      "\u001b[0;31m---------------------------------------------------------------------------\u001b[0m",
      "\u001b[0;31mValueError\u001b[0m                                Traceback (most recent call last)",
      "\u001b[0;32m<ipython-input-139-af260a53f2ee>\u001b[0m in \u001b[0;36m<module>\u001b[0;34m()\u001b[0m\n\u001b[0;32m----> 1\u001b[0;31m \u001b[0mgene_model\u001b[0m\u001b[0;34m.\u001b[0m\u001b[0menumerate\u001b[0m\u001b[0;34m(\u001b[0m\u001b[0;34m'ATGC'\u001b[0m\u001b[0;34m)\u001b[0m\u001b[0;34m\u001b[0m\u001b[0m\n\u001b[0m",
      "\u001b[0;32m/Users/ingrid/Downloads/hmm/hmm.py\u001b[0m in \u001b[0;36menumerate\u001b[0;34m(self, observed)\u001b[0m\n\u001b[1;32m    173\u001b[0m         \u001b[0mbest_score\u001b[0m \u001b[0;34m=\u001b[0m \u001b[0mNone\u001b[0m\u001b[0;34m\u001b[0m\u001b[0m\n\u001b[1;32m    174\u001b[0m         \u001b[0;32mfor\u001b[0m \u001b[0mseq\u001b[0m \u001b[0;32min\u001b[0m \u001b[0mitertools\u001b[0m\u001b[0;34m.\u001b[0m\u001b[0mproduct\u001b[0m\u001b[0;34m(\u001b[0m\u001b[0mself\u001b[0m\u001b[0;34m.\u001b[0m\u001b[0mstates\u001b[0m\u001b[0;34m.\u001b[0m\u001b[0mkeys\u001b[0m\u001b[0;34m(\u001b[0m\u001b[0;34m)\u001b[0m\u001b[0;34m,\u001b[0m \u001b[0mrepeat\u001b[0m\u001b[0;34m=\u001b[0m\u001b[0mlen\u001b[0m\u001b[0;34m(\u001b[0m\u001b[0mobserved\u001b[0m\u001b[0;34m)\u001b[0m\u001b[0;34m)\u001b[0m\u001b[0;34m:\u001b[0m\u001b[0;34m\u001b[0m\u001b[0m\n\u001b[0;32m--> 175\u001b[0;31m             \u001b[0ms\u001b[0m \u001b[0;34m=\u001b[0m \u001b[0mself\u001b[0m\u001b[0;34m.\u001b[0m\u001b[0mscore\u001b[0m\u001b[0;34m(\u001b[0m\u001b[0mseq\u001b[0m\u001b[0;34m,\u001b[0m \u001b[0mobserved\u001b[0m\u001b[0;34m)\u001b[0m\u001b[0;34m\u001b[0m\u001b[0m\n\u001b[0m\u001b[1;32m    176\u001b[0m             \u001b[0;32mif\u001b[0m \u001b[0ms\u001b[0m \u001b[0;32mis\u001b[0m \u001b[0;32mnot\u001b[0m \u001b[0mNone\u001b[0m\u001b[0;34m:\u001b[0m\u001b[0;34m\u001b[0m\u001b[0m\n\u001b[1;32m    177\u001b[0m                 \u001b[0;32mprint\u001b[0m \u001b[0;34m'%s: %f'\u001b[0m \u001b[0;34m%\u001b[0m \u001b[0;34m(\u001b[0m\u001b[0mseq\u001b[0m\u001b[0;34m,\u001b[0m \u001b[0ms\u001b[0m\u001b[0;34m)\u001b[0m\u001b[0;34m\u001b[0m\u001b[0m\n",
      "\u001b[0;32m/Users/ingrid/Downloads/hmm/hmm.py\u001b[0m in \u001b[0;36mscore\u001b[0;34m(self, seq_state, seq_observed)\u001b[0m\n\u001b[1;32m    134\u001b[0m                     \u001b[0;32mreturn\u001b[0m \u001b[0mNone\u001b[0m\u001b[0;34m\u001b[0m\u001b[0m\n\u001b[1;32m    135\u001b[0m \u001b[0;34m\u001b[0m\u001b[0m\n\u001b[0;32m--> 136\u001b[0;31m                 \u001b[0mp\u001b[0m \u001b[0;34m+=\u001b[0m \u001b[0mmath\u001b[0m\u001b[0;34m.\u001b[0m\u001b[0mlog10\u001b[0m\u001b[0;34m(\u001b[0m\u001b[0mstate_prev\u001b[0m\u001b[0;34m.\u001b[0m\u001b[0mp_transition\u001b[0m\u001b[0;34m[\u001b[0m\u001b[0mseq_state\u001b[0m\u001b[0;34m[\u001b[0m\u001b[0mi\u001b[0m\u001b[0;34m]\u001b[0m\u001b[0;34m]\u001b[0m\u001b[0;34m)\u001b[0m\u001b[0;34m\u001b[0m\u001b[0m\n\u001b[0m\u001b[1;32m    137\u001b[0m \u001b[0;34m\u001b[0m\u001b[0m\n\u001b[1;32m    138\u001b[0m             \u001b[0;31m# check that this state can emit the observed alphabet symbol\u001b[0m\u001b[0;34m\u001b[0m\u001b[0;34m\u001b[0m\u001b[0m\n",
      "\u001b[0;31mValueError\u001b[0m: math domain error"
     ]
    }
   ],
   "source": [
    "gene_model.enumerate('ATGC')"
   ]
  },
  {
   "cell_type": "code",
   "execution_count": 83,
   "metadata": {
    "collapsed": false
   },
   "outputs": [],
   "source": [
    "s1 = hmm.state(\n",
    "        'S1',            # name of the state\n",
    "        0.5,             # probability of being the initial state\n",
    "        { '1': 0.5,      # probability of emitting a '1' at each visit\n",
    "          '2': 0.5 },    # probability of emitting a '2' at each visit\n",
    "        { 'S1': 0.9,     # probability of transitioning to itself\n",
    "          'S2': 0.1 })   # probability of transitioning to state 'S2'\n",
    "s2 = hmm.state('S2', 0.5,\n",
    "        { '1': 0.25, '2': 0.75 },\n",
    "        { 'S1': 0.8, 'S2': 0.2 })\n",
    "model = hmm.hmm(['1', '2'],  # all symbols that can be emitted\n",
    "                [s1, s2])    # all of the states in this HMM"
   ]
  },
  {
   "cell_type": "code",
   "execution_count": null,
   "metadata": {
    "collapsed": true
   },
   "outputs": [],
   "source": [
    "model = hmm.hmm(['A', 'C','T','G'],  # all symbols that can be emitted\n",
    "                [s1, s2])"
   ]
  },
  {
   "cell_type": "code",
   "execution_count": 84,
   "metadata": {
    "collapsed": false
   },
   "outputs": [
    {
     "name": "stdout",
     "output_type": "stream",
     "text": [
      "('S2', 'S2', 'S2'): -2.073786\n",
      "('S2', 'S2', 'S1'): -1.647817\n",
      "('S2', 'S1', 'S2'): -1.948847\n",
      "('S2', 'S1', 'S1'): -1.170696\n",
      "('S1', 'S2', 'S2'): -2.550907\n",
      "('S1', 'S2', 'S1'): -2.124939\n",
      "('S1', 'S1', 'S2'): -2.073786\n",
      "('S1', 'S1', 'S1'): -1.295635\n",
      "BEST: ('S2', 'S1', 'S1'): -1.170696\n"
     ]
    }
   ],
   "source": [
    "model.enumerate('222')"
   ]
  },
  {
   "cell_type": "code",
   "execution_count": 45,
   "metadata": {
    "collapsed": false
   },
   "outputs": [],
   "source": [
    "training_data = build_training_data(annot,data)"
   ]
  },
  {
   "cell_type": "code",
   "execution_count": 58,
   "metadata": {
    "collapsed": true
   },
   "outputs": [],
   "source": [
    "import hmm"
   ]
  },
  {
   "cell_type": "code",
   "execution_count": 57,
   "metadata": {
    "collapsed": false
   },
   "outputs": [
    {
     "ename": "TypeError",
     "evalue": "'module' object is not callable",
     "output_type": "error",
     "traceback": [
      "\u001b[0;31m---------------------------------------------------------------------------\u001b[0m",
      "\u001b[0;31mTypeError\u001b[0m                                 Traceback (most recent call last)",
      "\u001b[0;32m<ipython-input-57-df4d22853628>\u001b[0m in \u001b[0;36m<module>\u001b[0;34m()\u001b[0m\n\u001b[0;32m----> 1\u001b[0;31m \u001b[0mtabul\u001b[0m \u001b[0;34m=\u001b[0m \u001b[0mhmm\u001b[0m\u001b[0;34m(\u001b[0m\u001b[0mdata\u001b[0m\u001b[0;34m,\u001b[0m \u001b[0mannot\u001b[0m\u001b[0;34m)\u001b[0m\u001b[0;34m\u001b[0m\u001b[0m\n\u001b[0m",
      "\u001b[0;31mTypeError\u001b[0m: 'module' object is not callable"
     ]
    }
   ],
   "source": [
    "tabul = hmm(data, annot)"
   ]
  },
  {
   "cell_type": "code",
   "execution_count": 54,
   "metadata": {
    "collapsed": false
   },
   "outputs": [
    {
     "ename": "NameError",
     "evalue": "global name 'state' is not defined",
     "output_type": "error",
     "traceback": [
      "\u001b[0;31m---------------------------------------------------------------------------\u001b[0m",
      "\u001b[0;31mNameError\u001b[0m                                 Traceback (most recent call last)",
      "\u001b[0;32m<ipython-input-54-a64a5c4f888d>\u001b[0m in \u001b[0;36m<module>\u001b[0;34m()\u001b[0m\n\u001b[0;32m----> 1\u001b[0;31m \u001b[0mtrain_hmm\u001b[0m\u001b[0;34m(\u001b[0m\u001b[0mtraining_data\u001b[0m\u001b[0;34m)\u001b[0m\u001b[0;34m\u001b[0m\u001b[0m\n\u001b[0m",
      "\u001b[0;32m<ipython-input-49-85de8a1f7edf>\u001b[0m in \u001b[0;36mtrain_hmm\u001b[0;34m(training_data, include_terminal_state)\u001b[0m\n\u001b[1;32m     28\u001b[0m     \u001b[0mstates\u001b[0m \u001b[0;34m=\u001b[0m \u001b[0;34m[\u001b[0m\u001b[0;34m]\u001b[0m\u001b[0;34m\u001b[0m\u001b[0m\n\u001b[1;32m     29\u001b[0m     \u001b[0;32mfor\u001b[0m \u001b[0ms_name\u001b[0m \u001b[0;32min\u001b[0m \u001b[0mstate_names\u001b[0m\u001b[0;34m:\u001b[0m\u001b[0;34m\u001b[0m\u001b[0m\n\u001b[0;32m---> 30\u001b[0;31m         \u001b[0mstates\u001b[0m\u001b[0;34m.\u001b[0m\u001b[0mappend\u001b[0m\u001b[0;34m(\u001b[0m\u001b[0mstate\u001b[0m\u001b[0;34m(\u001b[0m\u001b[0ms_name\u001b[0m\u001b[0;34m,\u001b[0m \u001b[0;36m0.0\u001b[0m\u001b[0;34m,\u001b[0m \u001b[0mNone\u001b[0m\u001b[0;34m,\u001b[0m \u001b[0mNone\u001b[0m\u001b[0;34m)\u001b[0m\u001b[0;34m)\u001b[0m\u001b[0;34m\u001b[0m\u001b[0m\n\u001b[0m\u001b[1;32m     31\u001b[0m \u001b[0;34m\u001b[0m\u001b[0m\n\u001b[1;32m     32\u001b[0m     \u001b[0;31m# calculate the initial probabilities\u001b[0m\u001b[0;34m\u001b[0m\u001b[0;34m\u001b[0m\u001b[0m\n",
      "\u001b[0;31mNameError\u001b[0m: global name 'state' is not defined"
     ]
    }
   ],
   "source": [
    "train_hmm(training_data)"
   ]
  },
  {
   "cell_type": "code",
   "execution_count": null,
   "metadata": {
    "collapsed": true
   },
   "outputs": [],
   "source": []
  },
  {
   "cell_type": "code",
   "execution_count": null,
   "metadata": {
    "collapsed": false
   },
   "outputs": [],
   "source": [
    "emissions(data,annot)"
   ]
  },
  {
   "cell_type": "code",
   "execution_count": null,
   "metadata": {
    "collapsed": true
   },
   "outputs": [],
   "source": []
  },
  {
   "cell_type": "code",
   "execution_count": null,
   "metadata": {
    "collapsed": false
   },
   "outputs": [],
   "source": [
    "set(data)"
   ]
  },
  {
   "cell_type": "code",
   "execution_count": null,
   "metadata": {
    "collapsed": false
   },
   "outputs": [],
   "source": [
    "# two_state_transitions(annot,1)\n",
    "two_state_emissions(data,annot,1)\n",
    "# str(annot[0]) == \"N\""
   ]
  },
  {
   "cell_type": "code",
   "execution_count": null,
   "metadata": {
    "collapsed": true
   },
   "outputs": [],
   "source": []
  },
  {
   "cell_type": "code",
   "execution_count": null,
   "metadata": {
    "collapsed": false
   },
   "outputs": [],
   "source": [
    "reverse_complement(\"aaatttgggcca\")"
   ]
  },
  {
   "cell_type": "code",
   "execution_count": null,
   "metadata": {
    "collapsed": true
   },
   "outputs": [],
   "source": []
  },
  {
   "cell_type": "code",
   "execution_count": null,
   "metadata": {
    "collapsed": true
   },
   "outputs": [],
   "source": []
  },
  {
   "cell_type": "code",
   "execution_count": null,
   "metadata": {
    "collapsed": true
   },
   "outputs": [],
   "source": [
    "df[\"sequence\"] = gene_df.sequence\n",
    "df[\"start\"] = gene_df.sequence.apply(lambda seq: \"ATG\" in seq)\n",
    "df[\"stop\"] = gene_df.sequence.apply(lambda seq: any(x in seq for x in [\"TAA\", \"TAG\", \"TGA\"]))\n",
    "# df.iloc[0].sequence"
   ]
  },
  {
   "cell_type": "code",
   "execution_count": null,
   "metadata": {
    "collapsed": true
   },
   "outputs": [],
   "source": [
    "# from collections import defaultdict\n",
    "def aa_find(seq):\n",
    "    codon_count = {}\n",
    "    for aa, codons in codon_map.items():\n",
    "        codon_count[aa] = 0\n",
    "        if any(x in seq for x in codons):\n",
    "            codon_count[aa] += 1\n",
    "    return codon_count"
   ]
  },
  {
   "cell_type": "code",
   "execution_count": null,
   "metadata": {
    "collapsed": false
   },
   "outputs": [],
   "source": [
    "df[\"dict\"] = gene_df.sequence.apply(lambda seq: aa_find(seq)) "
   ]
  },
  {
   "cell_type": "code",
   "execution_count": null,
   "metadata": {
    "collapsed": false
   },
   "outputs": [],
   "source": [
    "aa_counts = pd.DataFrame(list(df[\"dict\"]))"
   ]
  },
  {
   "cell_type": "code",
   "execution_count": null,
   "metadata": {
    "collapsed": false
   },
   "outputs": [],
   "source": [
    "# aa_counts[[\"a\"],[\"c\"],[\"g\"],[\"t\"],[\"gene\"]] = [[df.a],[df.c],[df.g],[df.t],[df.gene]]\n",
    "# aa_counts[[\"a\"]]\n",
    "aa_counts[\"a\"] = df.a\n",
    "aa_counts[\"c\"] = df.c\n",
    "aa_counts[\"g\"] = df.g\n",
    "aa_counts[\"t\"] = df.t\n",
    "aa_counts[\"gene\"] = df.gene\n"
   ]
  },
  {
   "cell_type": "code",
   "execution_count": null,
   "metadata": {
    "collapsed": false
   },
   "outputs": [],
   "source": [
    "df.shape"
   ]
  },
  {
   "cell_type": "code",
   "execution_count": null,
   "metadata": {
    "collapsed": false
   },
   "outputs": [],
   "source": [
    "a = []\n",
    "a.append(aa_find(df.iloc[1].sequence).values())\n",
    "a.append(aa_find(df.iloc[2].sequence).values())\n",
    "a.append(aa_find(df.iloc[3].sequence).values())\n",
    "pd.DataFrame(a)"
   ]
  },
  {
   "cell_type": "code",
   "execution_count": null,
   "metadata": {
    "collapsed": false
   },
   "outputs": [],
   "source": [
    "[a[1] for a in aa_find(df.iloc[1].sequence).items()]"
   ]
  },
  {
   "cell_type": "code",
   "execution_count": null,
   "metadata": {
    "collapsed": false
   },
   "outputs": [],
   "source": [
    "aa_find(df.iloc[1].sequence).items()"
   ]
  },
  {
   "cell_type": "code",
   "execution_count": null,
   "metadata": {
    "collapsed": false
   },
   "outputs": [],
   "source": [
    "codon_to_aa.items()\n",
    "codon_map.items()"
   ]
  },
  {
   "cell_type": "markdown",
   "metadata": {},
   "source": [
    "\n",
    "## Feature Development"
   ]
  },
  {
   "cell_type": "code",
   "execution_count": null,
   "metadata": {
    "collapsed": true
   },
   "outputs": [],
   "source": [
    "# ngrams\n",
    "- 3 grams, which frame?, relationship between subsequent sequence fragments.\n",
    "... am I next to a fragment"
   ]
  },
  {
   "cell_type": "code",
   "execution_count": null,
   "metadata": {
    "collapsed": false
   },
   "outputs": [],
   "source": [
    "\"atg\" in \"gowijgoijatgsoijdfo\""
   ]
  },
  {
   "cell_type": "code",
   "execution_count": null,
   "metadata": {
    "collapsed": false
   },
   "outputs": [],
   "source": [
    "gene_df.sequence[0]"
   ]
  },
  {
   "cell_type": "code",
   "execution_count": null,
   "metadata": {
    "collapsed": true
   },
   "outputs": [],
   "source": [
    "from sklearn.feature_extraction.text import CountVectorizer\n",
    "vectorizer = CountVectorizer(analyzer = 'char_wb', ngram_range=(1,3), min_df= 1)\n",
    "d = vectorizer.fit_transform(list(gene_df['sequence']))"
   ]
  },
  {
   "cell_type": "code",
   "execution_count": null,
   "metadata": {
    "collapsed": false
   },
   "outputs": [],
   "source": [
    "def frameShift(seq,shift):\n",
    "    new_seq = ''\n",
    "    for j, i in enumerate(seq):\n",
    "        if j % shift == 0:\n",
    "            new_seq = new_seq + i + ' '\n",
    "        else: \n",
    "            new_seq = new_seq + i\n",
    "    return new_seq\n",
    "\n",
    "\n",
    "fs = [frameShift(seq,3) for seq in gene_df.sequence]"
   ]
  },
  {
   "cell_type": "code",
   "execution_count": null,
   "metadata": {
    "collapsed": false
   },
   "outputs": [],
   "source": [
    "fs[0]"
   ]
  },
  {
   "cell_type": "code",
   "execution_count": null,
   "metadata": {
    "collapsed": true
   },
   "outputs": [],
   "source": [
    "from sklearn.feature_extraction.text import CountVectorizer\n",
    "vectorizer = CountVectorizer(analyzer = 'char_wb', ngram_range=(3,3), min_df= 1)\n",
    "d = vectorizer.fit_transform(fs)"
   ]
  },
  {
   "cell_type": "code",
   "execution_count": null,
   "metadata": {
    "collapsed": false
   },
   "outputs": [],
   "source": [
    "fs[0]"
   ]
  },
  {
   "cell_type": "code",
   "execution_count": null,
   "metadata": {
    "collapsed": false,
    "scrolled": true
   },
   "outputs": [],
   "source": [
    "x = vectorizer.vocabulary_.copy()\n",
    "my_dict2 = dict((y,str(x)) for x,y in x.iteritems())"
   ]
  },
  {
   "cell_type": "code",
   "execution_count": null,
   "metadata": {
    "collapsed": false
   },
   "outputs": [],
   "source": [
    "my_dict2 = dict((y,str(x)) for x,y in x.iteritems())"
   ]
  },
  {
   "cell_type": "code",
   "execution_count": null,
   "metadata": {
    "collapsed": false
   },
   "outputs": [],
   "source": [
    "my_dict2"
   ]
  },
  {
   "cell_type": "code",
   "execution_count": null,
   "metadata": {
    "collapsed": false
   },
   "outputs": [],
   "source": [
    "nx = [x.pop(val) for val in vectorizer.vocabulary_ if len(val.strip()) != 3]\n"
   ]
  },
  {
   "cell_type": "code",
   "execution_count": null,
   "metadata": {
    "collapsed": false
   },
   "outputs": [],
   "source": [
    "gg = list(d)"
   ]
  },
  {
   "cell_type": "code",
   "execution_count": null,
   "metadata": {
    "collapsed": false
   },
   "outputs": [],
   "source": [
    "len(gg)"
   ]
  },
  {
   "cell_type": "code",
   "execution_count": null,
   "metadata": {
    "collapsed": false
   },
   "outputs": [],
   "source": [
    "len(d.indptr)\n",
    "len(d.data)"
   ]
  },
  {
   "cell_type": "code",
   "execution_count": null,
   "metadata": {
    "collapsed": false
   },
   "outputs": [],
   "source": [
    "test = gg[0]"
   ]
  },
  {
   "cell_type": "code",
   "execution_count": null,
   "metadata": {
    "collapsed": false
   },
   "outputs": [],
   "source": [
    "import pandas as pd\n",
    "\n",
    "l = []\n",
    "for i in range(len(gg)):\n",
    "    doc = gg[i]\n",
    "    l.append(pd.DataFrame({\"doc\":i,\"index\":doc.indices,\"count\":doc.data}))\n",
    "dum = pd.concat(l)\n",
    "# df2 = pd.DataFrame({\"index\":doc.indices,\"count\":doc.data})\n",
    "# df2\n"
   ]
  },
  {
   "cell_type": "code",
   "execution_count": null,
   "metadata": {
    "collapsed": false
   },
   "outputs": [],
   "source": [
    "len(set(dum.doc))"
   ]
  },
  {
   "cell_type": "code",
   "execution_count": null,
   "metadata": {
    "collapsed": false
   },
   "outputs": [],
   "source": [
    "dum.index"
   ]
  },
  {
   "cell_type": "code",
   "execution_count": null,
   "metadata": {
    "collapsed": false
   },
   "outputs": [],
   "source": [
    "x = vectorizer.vocabulary_.copy()\n",
    "my_dict2 = dict((y,str(x)) for x,y in x.iteritems())\n",
    "dum[\"codon\"] = dum['index'].apply(lambda ind: my_dict2[ind])\n",
    "codonCount = dum[dum.codon.apply(lambda v: len(v.strip())) == 3]"
   ]
  },
  {
   "cell_type": "code",
   "execution_count": null,
   "metadata": {
    "collapsed": false
   },
   "outputs": [],
   "source": [
    "codonCount = dum[dum.codon.apply(lambda v: len(v.strip())) == 3]\n",
    "# dum.codon.apply(lambda v: len(v.strip()))"
   ]
  },
  {
   "cell_type": "code",
   "execution_count": null,
   "metadata": {
    "collapsed": false
   },
   "outputs": [],
   "source": [
    "codonCount"
   ]
  },
  {
   "cell_type": "code",
   "execution_count": null,
   "metadata": {
    "collapsed": true
   },
   "outputs": [],
   "source": [
    "ngrams = list(vectorizer.get_feature_names())\n",
    "[gram.strip() for gram in ngrams if len(gram.strip()) == 3]\n",
    "\n",
    "\n"
   ]
  },
  {
   "cell_type": "code",
   "execution_count": null,
   "metadata": {
    "collapsed": false
   },
   "outputs": [],
   "source": [
    "df"
   ]
  },
  {
   "cell_type": "code",
   "execution_count": null,
   "metadata": {
    "collapsed": false
   },
   "outputs": [],
   "source": [
    "codon_map = {\"I\":[\"ATT\", \"ATC\", \"ATA\"],\"L\":[\"CTT\", \"CTC\", \"CTA\", \"CTG\", \"TTA\",\" TTG\"],\n",
    "          \"V\":[\"GTT\", \"GTC\", \"GTA\", \"GTG\"],\"F\":[\"TTT\", \"TTC\"],\"M\":[\"ATG\"],\"C\":[\"TGT\", \"TGC\"],\n",
    "          \"A\":[\"GCT\", \"GCC\", \"GCA\", \"GCG\"],\"G\":[\"GGT\", \"GGC\", \"GGA\", \"GGG\"],\n",
    "          \"P\":[\"CCT\", \"CCC\", \"CCA\", \"CCG\"],\n",
    "          \"T\":[\"ACT\", \"ACC\", \"ACA\", \"ACG\"],\"S\":[\"TCT\", \"TCC\", \"TCA\", \"TCG\", \"AGT\", \"AGC\"],\n",
    "          \"Y\":[\"TAT\", \"TAC\"],\"W\":[\"TGG\"],\"Q\":[\"CAA\", \"CAG\"],\"N\":[\"AAT\", \"AAC\"],\"H\":[\"CAT\", \"CAC\"],\n",
    "             \"E\":[\"GAA\", \"GAG\"],\"D\":[\"GAT\", \"GAC\"],\"K\":[\"AAA\", \"AAG\"],\n",
    "             \"R\":[\"CGT\", \"CGC\", \"CGA\", \"CGG\",\"AGA\", \"AGG\"],\"Stop\":[\"TAA\", \"TAG\", \"TGA\"]}\n",
    "def invert(d):\n",
    "    return dict( (v,k) for k in d for v in d[k] )\n",
    "codon_to_aa = invert(codon_map)\n",
    "\n",
    "def codonToAA(strand):\n",
    "    aa_seq = ''.join([codon_to_aa(codon) for codon in strand])\n",
    "    return aa_seq"
   ]
  },
  {
   "cell_type": "code",
   "execution_count": null,
   "metadata": {
    "collapsed": false
   },
   "outputs": [],
   "source": [
    "codon_to_aa\n",
    "\n",
    "#e"
   ]
  },
  {
   "cell_type": "code",
   "execution_count": null,
   "metadata": {
    "collapsed": true
   },
   "outputs": [],
   "source": [
    "def codonToAA(strand):\n",
    "    aa_seq = ''.join([codon_to_aa(codon) for codon in strand])\n",
    "    return aa_seq\n"
   ]
  },
  {
   "cell_type": "code",
   "execution_count": null,
   "metadata": {
    "collapsed": false
   },
   "outputs": [],
   "source": [
    "new_seq"
   ]
  },
  {
   "cell_type": "code",
   "execution_count": null,
   "metadata": {
    "collapsed": false
   },
   "outputs": [],
   "source": [
    "ngrams = list(vectorizer.get_feature_names())\n",
    "ngrams\n"
   ]
  },
  {
   "cell_type": "code",
   "execution_count": null,
   "metadata": {
    "collapsed": true
   },
   "outputs": [],
   "source": [
    "## amino acid to nucleotide chart http://www.cbs.dtu.dk/courses/27619/codon.html\n",
    "aa = [\"I\",\"L\",\"V\",\"F\",\"M\",\"C\",\"A\",\"G\",\"P\",\"T\",\"S\",\"Y\",\"W\",\"Q\",\"N\",\"H\",\"E\",\"D\",\"K\",\"R\",\"STOP\"]\n",
    "aa_name = [\"Isoleucine\",\"Leucine\",\"Valine\",\"Phenylalanine\",\"Methionine\",\"Cysteine\",\"Alanine\",\n",
    "           \"Glycine\",\"Proline\",\"Threonine\",\"Serine\",\"Tyrosine\",\"Tryptophan\",\n",
    "           \"Glutamine\",\"Asparagine\",\"Histidine\",\"Glutamic_acid\", \"Aspartic_acid\", \n",
    "           \"Lysine\",\"Arginine\",\"Stop_codons\"]\n",
    "codons = [[\"ATT\", \"ATC\", \"ATA\"],[\"CTT\", \"CTC\", \"CTA\", \"CTG\", \"TTA\",\" TTG\"],\n",
    "          [\"GTT\", \"GTC\", \"GTA\", \"GTG\"],[\"TTT\", \"TTC\"],[\"ATG\"],[\"TGT\", \"TGC\"],\n",
    "          [\"GCT\", \"GCC\", \"GCA\", \"GCG\"],[\"GGT\", \"GGC\", \"GGA\", \"GGG\"],\n",
    "          [\"CCT\", \"CCC\", \"CCA\", \"CCG\"],\n",
    "          [\"ACT\", \"ACC\", \"ACA\", \"ACG\"],[\"TCT\", \"TCC\", \"TCA\", \"TCG\", \"AGT\", \"AGC\"],\n",
    "          [\"TAT\", \"TAC\"],[\"TGG\"],[\"CAA\", \"CAG\"],[\"AAT\", \"AAC\"],[\"CAT\", \"CAC\"],[\"GAA\", \"GAG\"],\n",
    "          [\"GAT\", \"GAC\"],[\"AAA\", \"AAG\"],[\"CGT\", \"CGC\", \"CGA\", \"CGG\",\"AGA\", \"AGG\"],\n",
    "          [\"TAA\", \"TAG\", \"TGA\"]]\n",
    "\n",
    "codon_map = {\"I\":[\"ATT\", \"ATC\", \"ATA\"],\"L\":[\"CTT\", \"CTC\", \"CTA\", \"CTG\", \"TTA\",\" TTG\"],\n",
    "          \"V\":[\"GTT\", \"GTC\", \"GTA\", \"GTG\"],\"F\":[\"TTT\", \"TTC\"],\"M\":[\"ATG\"],\"C\":[\"TGT\", \"TGC\"],\n",
    "          \"A\":[\"GCT\", \"GCC\", \"GCA\", \"GCG\"],\"G\":[\"GGT\", \"GGC\", \"GGA\", \"GGG\"],\n",
    "          \"P\":[\"CCT\", \"CCC\", \"CCA\", \"CCG\"],\n",
    "          \"T\":[\"ACT\", \"ACC\", \"ACA\", \"ACG\"],\"S\":[\"TCT\", \"TCC\", \"TCA\", \"TCG\", \"AGT\", \"AGC\"],\n",
    "          \"Y\":[\"TAT\", \"TAC\"],\"W\":[\"TGG\"],\"Q\"[\"CAA\", \"CAG\"],\"N\":[\"AAT\", \"AAC\"],\"H\":[\"CAT\", \"CAC\"],\n",
    "             \"E\":[\"GAA\", \"GAG\"],\"D\":[\"GAT\", \"GAC\"],\"K\":[\"AAA\", \"AAG\"],\n",
    "             \"R\":[\"CGT\", \"CGC\", \"CGA\", \"CGG\",\"AGA\", \"AGG\"],\"Stop\":[\"TAA\", \"TAG\", \"TGA\"]}\n",
    "def invert(d):\n",
    "    return dict( (v,k) for k in d for v in d[k] )\n",
    "# aa_properties\n",
    "Aliphatic: Alanine,Isoleucine,Leucine,Valine\n",
    "Aromatic: Phenylalanine, Tryptophan, Tyrosine\n",
    "Polar_neutral: Asparagine, Cysteine, Glutamine, Methionine,Serine,Threonine\n",
    "charged: Aspartic acid, Glutamic acid\n",
    "    \n",
    "Properties table\n",
    "https://www.thermofisher.com/us/en/home/life-science/protein-biology/protein-biology-learning-center/protein-biology-resource-library/pierce-protein-methods/amino-acid-physical-properties.html\n",
    "\n",
    "http://www.ncbi.nlm.nih.gov/pmc/articles/PMC3456822/pdf/10867_2004_Article_396406.pdf\n",
    "\n",
    "http://www.proteinstructures.com/Structure/Structure/amino-acids.html"
   ]
  },
  {
   "cell_type": "code",
   "execution_count": null,
   "metadata": {
    "collapsed": false
   },
   "outputs": [],
   "source": [
    "codon_map = {\"I\":[\"ATT\", \"ATC\", \"ATA\"],\"L\":[\"CTT\", \"CTC\", \"CTA\", \"CTG\", \"TTA\",\" TTG\"],\n",
    "          \"V\":[\"GTT\", \"GTC\", \"GTA\", \"GTG\"],\"F\":[\"TTT\", \"TTC\"],\"M\":[\"ATG\"],\"C\":[\"TGT\", \"TGC\"],\n",
    "          \"A\":[\"GCT\", \"GCC\", \"GCA\", \"GCG\"],\"G\":[\"GGT\", \"GGC\", \"GGA\", \"GGG\"],\n",
    "          \"P\":[\"CCT\", \"CCC\", \"CCA\", \"CCG\"],\n",
    "          \"T\":[\"ACT\", \"ACC\", \"ACA\", \"ACG\"],\"S\":[\"TCT\", \"TCC\", \"TCA\", \"TCG\", \"AGT\", \"AGC\"],\n",
    "          \"Y\":[\"TAT\", \"TAC\"],\"W\":[\"TGG\"],\"Q\":[\"CAA\", \"CAG\"],\"N\":[\"AAT\", \"AAC\"],\"H\":[\"CAT\", \"CAC\"],\n",
    "             \"E\":[\"GAA\", \"GAG\"],\"D\":[\"GAT\", \"GAC\"],\"K\":[\"AAA\", \"AAG\"],\n",
    "             \"R\":[\"CGT\", \"CGC\", \"CGA\", \"CGG\",\"AGA\", \"AGG\"],\"Stop\":[\"TAA\", \"TAG\", \"TGA\"]}\n",
    "def invert(d):\n",
    "    return dict( (v,k) for k in d for v in d[k] )\n",
    "codon_to_aa = invert(codon_map)"
   ]
  },
  {
   "cell_type": "code",
   "execution_count": null,
   "metadata": {
    "collapsed": false
   },
   "outputs": [],
   "source": [
    "codon_to_aa"
   ]
  },
  {
   "cell_type": "markdown",
   "metadata": {
    "collapsed": true
   },
   "source": [
    "## Model testing"
   ]
  },
  {
   "cell_type": "code",
   "execution_count": 288,
   "metadata": {
    "collapsed": true
   },
   "outputs": [],
   "source": [
    "from sklearn.linear_model import LogisticRegression\n",
    "from sklearn.naive_bayes import GaussianNB\n",
    "from sklearn.svm import SVC\n",
    "from sklearn.tree import DecisionTreeClassifier\n",
    "from sklearn.ensemble import RandomForestClassifier\n",
    "from sklearn.neighbors import KNeighborsClassifier\n",
    "\n",
    "from sklearn.metrics import accuracy_score, classification_report\n",
    "\n",
    "\n",
    "from sklearn.learning_curve import learning_curve\n",
    "\n",
    "from sklearn.cross_validation import train_test_split, KFold, cross_val_score"
   ]
  },
  {
   "cell_type": "code",
   "execution_count": 292,
   "metadata": {
    "collapsed": false
   },
   "outputs": [],
   "source": [
    "# x = df[[\"a\",\"c\",\"g\",\"t\",\"start\",\"stop\"]]\n",
    "y = merged_frames.gene\n",
    "x = merged_frames[['frame', 'len', 'a',\n",
    "       'c', 'g', 't', 'X', 'N', 'T', 'D', 'Y', 'L', 'W', 'Q', 'S', 'I', 'M',\n",
    "       'C', 'A', 'V', 'K', 'G', 'H', 'R', 'P', 'F', 'E']]\n",
    "# y = df.gene\n",
    "# x = aa_counts.drop('gene', 1)"
   ]
  },
  {
   "cell_type": "code",
   "execution_count": 294,
   "metadata": {
    "collapsed": false
   },
   "outputs": [],
   "source": [
    "y = y.apply(lambda x: int(x))"
   ]
  },
  {
   "cell_type": "code",
   "execution_count": 298,
   "metadata": {
    "collapsed": false
   },
   "outputs": [
    {
     "name": "stdout",
     "output_type": "stream",
     "text": [
      "RandomForestClassifier Accuracy Score : 0.540549\n",
      "DecisionTreeClassifier Accuracy Score : 0.530125\n",
      "GaussianNB Accuracy Score : 0.583099\n",
      "SVC Accuracy Score : 0.550363\n",
      "KNeighborsClassifier Accuracy Score : 0.524844\n",
      "LogisticRegression Accuracy Score : 0.594902\n"
     ]
    }
   ],
   "source": [
    "algorithms = [RandomForestClassifier(), DecisionTreeClassifier(), GaussianNB(), \n",
    "              SVC(), KNeighborsClassifier(n_neighbors=6), LogisticRegression()]\n",
    "\n",
    "for algo in algorithms:\n",
    "    accuracy = cross_val_score(algo,x,y)\n",
    "    print(\"{:s} Accuracy Score : {:f}\".format(str(algo).split('(', 1)[0],accuracy.mean()))"
   ]
  },
  {
   "cell_type": "code",
   "execution_count": 52,
   "metadata": {
    "collapsed": true
   },
   "outputs": [],
   "source": [
    "import hmm"
   ]
  },
  {
   "cell_type": "code",
   "execution_count": null,
   "metadata": {
    "collapsed": true
   },
   "outputs": [],
   "source": []
  }
 ],
 "metadata": {
  "kernelspec": {
   "display_name": "Python 3",
   "language": "python",
   "name": "python3"
  },
  "language_info": {
   "codemirror_mode": {
    "name": "ipython",
    "version": 3
   },
   "file_extension": ".py",
   "mimetype": "text/x-python",
   "name": "python",
   "nbconvert_exporter": "python",
   "pygments_lexer": "ipython3",
   "version": "3.5.1"
  }
 },
 "nbformat": 4,
 "nbformat_minor": 0
}
