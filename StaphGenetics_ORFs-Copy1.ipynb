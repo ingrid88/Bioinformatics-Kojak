{
 "cells": [
  {
   "cell_type": "markdown",
   "metadata": {},
   "source": [
    "## Staph data\n",
    "http://users-birc.au.dk/cstorm/courses/MLiB_f14/project1.html"
   ]
  },
  {
   "cell_type": "code",
   "execution_count": 78,
   "metadata": {
    "collapsed": true
   },
   "outputs": [],
   "source": [
    "import requests\n",
    "import numpy as np\n",
    "import pandas as pd\n",
    "import re\n",
    "from itertools import groupby\n",
    "import pickle"
   ]
  },
  {
   "cell_type": "code",
   "execution_count": 2,
   "metadata": {
    "collapsed": true
   },
   "outputs": [],
   "source": [
    "staph_url = [\"http://users-birc.au.dk/cstorm/courses/MLiB_f14/projects/project3/genome1.fa\",\n",
    "            \"http://users-birc.au.dk/cstorm/courses/MLiB_f14/projects/project3/genome2.fa\",\n",
    "           \"http://users-birc.au.dk/cstorm/courses/MLiB_f14/projects/project3/genome3.fa\"]\n",
    "staph_annot = [\"http://users-birc.au.dk/cstorm/courses/MLiB_f14/projects/project3/annotation1.fa\",\n",
    "              \"http://users-birc.au.dk/cstorm/courses/MLiB_f14/projects/project3/annotation2.fa\"\n",
    "              \"http://users-birc.au.dk/cstorm/courses/MLiB_f14/projects/project3/annotation3.fa\"]"
   ]
  },
  {
   "cell_type": "markdown",
   "metadata": {
    "collapsed": true
   },
   "source": [
    "## Load/ Modify Data"
   ]
  },
  {
   "cell_type": "code",
   "execution_count": 3,
   "metadata": {
    "collapsed": true
   },
   "outputs": [],
   "source": [
    "def load_file(url,genome=True):\n",
    "    \"\"\"input: url for genome, \n",
    "    output: pulled data without header and as a single txt string\"\"\"\n",
    "    data = ''.join(requests.get(url).text.split(\"\\n\")[1::])\n",
    "    return data\n",
    "\n",
    "def segment_genome(data_string,split_size):\n",
    "    \"\"\"input: genome data string (data_string) and then size we should split the data (split_size)\n",
    "    output: array split by specified split_size\"\"\"\n",
    "    chunks = len(data_string)\n",
    "    data = [data_string[i:i+split_size] for i in range(0,chunks,split_size)]\n",
    "    return data\n",
    "\n",
    "def gene_label(annotation, min_gene=10):\n",
    "    \"\"\"Input: annotation\n",
    "    ouput: the label array for data (true if C or R else false for > 50% of line)\"\"\"\n",
    "    size = len(annotation[0])\n",
    "    print(size)\n",
    "    label = [True if len(line.strip(\"C\")) < size/2 or len(line.strip(\"R\")) < size/2 else False \n",
    "             for line in annotation]\n",
    "    return label\n",
    "\n",
    "def gene_label_dir(annotation,direction=\"C\"):\n",
    "    \"\"\"Input: annotation and direction is C (forward) unless specified as R (reverse)\n",
    "    ouput: the label array for data\"\"\"\n",
    "    size = len(annotation[0])\n",
    "    label = [True if len(line.strip(direction)) < size/2 else False \n",
    "             for line in annotation]\n",
    "    return label\n",
    "\n",
    "def nucleotide_frequency(seq):\n",
    "    '''Count the occurrences of characters in \"seq\".'''\n",
    "    counts = {'A':0,'C':0,'G':0,'T':0}\n",
    "    for c in seq:\n",
    "        counts[c] +=1\n",
    "    return counts"
   ]
  },
  {
   "cell_type": "code",
   "execution_count": 4,
   "metadata": {
    "collapsed": false
   },
   "outputs": [],
   "source": [
    "import re\n",
    "\n",
    "def ORF_finds(seq):\n",
    "    \"\"\"input: A sequence string (the genome) is taken and all the ATG's in the sequence are found\n",
    "    output: a list of start indices \n",
    "    *** on this reverse strand... these are from the end of the sequence!!\"\"\"\n",
    "    starts = [m.start() for m in re.finditer('ATG', seq)]\n",
    "    return starts\n",
    "\n",
    "def sequence_list(genome,ends,start):\n",
    "    \"\"\"input: output: \"\"\"\n",
    "    sequences = [genome[start:start+end+3] for end in ends[0]]\n",
    "    sequences += [genome[start:start+end+3] for end in ends[1]] \n",
    "    sequences += [genome[start:start+end+3] for end in ends[2]]\n",
    "    return sequences\n",
    "\n",
    "def sequence_list2(genome,ends,start,direction):\n",
    "    \"\"\"input: \"\"\"\n",
    "    frame = start % 3\n",
    "    sequences = [(start, start+end+3, 'taa', frame, direction) for end in ends[0]]\n",
    "    sequences += [(start, start+end+3, 'tag', frame, direction) for end in ends[1]] \n",
    "    sequences += [(start, start+end+3, 'tga', frame, direction) for end in ends[2]]\n",
    "    return sequences\n",
    "\n",
    "# def geneList(genome,direction):\n",
    "#     \"\"\"input: genome (character string), which direction we are looking at (the forward or reverse strand)\n",
    "#     output: a list of sequences on that particular strand of interest (forward or reverse complement)\"\"\"\n",
    "#     if direction == 'R':\n",
    "#         genome = reverse_complement(genome)\n",
    "#     starts = ORF_finds(genome)\n",
    "#     sequences = []\n",
    "#     for start in starts:\n",
    "#         ## m.start()+1 so that when we sample the sequence we go from \n",
    "#         ends = [[m.start() for m in re.finditer(x, genome[start:start+2000]) if m.start() % 3 == 0] for x in [\"TAA\", \"TAG\", \"TGA\"]]\n",
    "#         if direction == 'R':\n",
    "#             length = len(genome)\n",
    "#             start = length - 3 - start  # CAT ~ ATG (length - 1 - 2)\n",
    "#             ends = [[length - e for e in end] for end in ends]\n",
    "#         sequences.append(sequence_list2(genome,ends,start,direction))\n",
    "#     return sequences \n",
    "\n",
    "def geneList(genome,direction):\n",
    "    \"\"\"input: genome (character string), which direction we are looking at (the forward or reverse strand)\n",
    "    output: a list of sequences on that particular strand of interest (forward or reverse complement)\"\"\"\n",
    "    starts = ORF_finds(genome)\n",
    "    sequences = []\n",
    "    for start in starts:\n",
    "        ## m.start()+1 so that when we sample the sequence we go from \n",
    "        ends = [[m.start() for m in re.finditer(x, genome[start:start+2000]) if m.start() % 3 == 0] for x in [\"TAA\", \"TAG\", \"TGA\"]]\n",
    "        sequences.append(sequence_list2(genome,ends,start,direction))\n",
    "    return sequences   \n",
    "\n",
    "def fixed(possible_reverse_sequences, genome_length):\n",
    "    fixed_reversed_sequences = []\n",
    "    for possible_reverse in possible_reverse_sequences:\n",
    "        f = [(genome_length - end , genome_length - start,end_codon,frame,strand) for start,end,end_codon,frame,strand in possible_reverse]\n",
    "        fixed_reversed_sequences.append(f)\n",
    "    return fixed_reversed_sequences\n",
    "\n",
    "def potentialGenes(genome):\n",
    "    \"\"\"input: genome which is a string of a's, t's, g's, c's\n",
    "    ouput: the number of possible genes that start with ATG and \n",
    "    end with taa,tag, or tga on the forward and reverse complement DNA strand\"\"\"\n",
    "    forwards = geneList(genome,'F')\n",
    "    reversed_genome = reverse_complement(str(genome))\n",
    "    reverse = geneList(reversed_genome,'R')\n",
    "    reverses = fixed(reverse, len(genome))\n",
    "    combos = forwards + reverses\n",
    "    return combos"
   ]
  },
  {
   "cell_type": "code",
   "execution_count": 5,
   "metadata": {
    "collapsed": true
   },
   "outputs": [],
   "source": [
    "def reverse_complement(genome):\n",
    "    \"\"\"input: genome, output: reverse complement\"\"\"\n",
    "    switch = {\"A\":\"T\",\"G\":\"C\",\"T\":\"A\",\"C\":\"G\"}\n",
    "    rc = ''.join([switch[letter] for letter in genome])[::-1]\n",
    "    return rc"
   ]
  },
  {
   "cell_type": "code",
   "execution_count": 6,
   "metadata": {
    "collapsed": true
   },
   "outputs": [],
   "source": [
    "codon_map = {\"I\":[\"ATT\", \"ATC\", \"ATA\"],\"L\":[\"CTT\", \"CTC\", \"CTA\", \"CTG\", \"TTA\",\" TTG\"],\n",
    "          \"V\":[\"GTT\", \"GTC\", \"GTA\", \"GTG\"],\"F\":[\"TTT\", \"TTC\"],\"M\":[\"ATG\"],\"C\":[\"TGT\", \"TGC\"],\n",
    "          \"A\":[\"GCT\", \"GCC\", \"GCA\", \"GCG\"],\"G\":[\"GGT\", \"GGC\", \"GGA\", \"GGG\"],\n",
    "          \"P\":[\"CCT\", \"CCC\", \"CCA\", \"CCG\"],\n",
    "          \"T\":[\"ACT\", \"ACC\", \"ACA\", \"ACG\"],\"S\":[\"TCT\", \"TCC\", \"TCA\", \"TCG\", \"AGT\", \"AGC\"],\n",
    "          \"Y\":[\"TAT\", \"TAC\"],\"W\":[\"TGG\"],\"Q\":[\"CAA\", \"CAG\"],\"N\":[\"AAT\", \"AAC\"],\"H\":[\"CAT\", \"CAC\"],\n",
    "             \"E\":[\"GAA\", \"GAG\"],\"D\":[\"GAT\", \"GAC\"],\"K\":[\"AAA\", \"AAG\"],\n",
    "             \"R\":[\"CGT\", \"CGC\", \"CGA\", \"CGG\",\"AGA\", \"AGG\"],\"Stop\":[\"TAA\", \"TAG\", \"TGA\"]}\n",
    "\n",
    "def invert(d):\n",
    "    return dict( (v,k) for k in d for v in d[k] )\n",
    "\n",
    "codon_to_aa = invert(codon_map)\n",
    "\n",
    "def codonToAA(strand):\n",
    "    aa_seq = ''.join([codon_to_aa(codon) for codon in strand])\n",
    "    return aa_seq"
   ]
  },
  {
   "cell_type": "code",
   "execution_count": 7,
   "metadata": {
    "collapsed": false
   },
   "outputs": [],
   "source": [
    "## amino acid to nucleotide chart http://www.cbs.dtu.dk/courses/27619/codon.html\n",
    "aa = [\"I\",\"L\",\"V\",\"F\",\"M\",\"C\",\"A\",\"G\",\"P\",\"T\",\"S\",\"Y\",\"W\",\"Q\",\"N\",\"H\",\"E\",\"D\",\"K\",\"R\",\"STOP\"]\n",
    "aa_name = [\"Isoleucine\",\"Leucine\",\"Valine\",\"Phenylalanine\",\"Methionine\",\"Cysteine\",\"Alanine\",\n",
    "           \"Glycine\",\"Proline\",\"Threonine\",\"Serine\",\"Tyrosine\",\"Tryptophan\",\n",
    "           \"Glutamine\",\"Asparagine\",\"Histidine\",\"Glutamic_acid\", \"Aspartic_acid\", \n",
    "           \"Lysine\",\"Arginine\",\"Stop_codons\"]\n",
    "codons = [[\"ATT\", \"ATC\", \"ATA\"],[\"CTT\", \"CTC\", \"CTA\", \"CTG\", \"TTA\",\" TTG\"],\n",
    "          [\"GTT\", \"GTC\", \"GTA\", \"GTG\"],[\"TTT\", \"TTC\"],[\"ATG\"],[\"TGT\", \"TGC\"],\n",
    "          [\"GCT\", \"GCC\", \"GCA\", \"GCG\"],[\"GGT\", \"GGC\", \"GGA\", \"GGG\"],\n",
    "          [\"CCT\", \"CCC\", \"CCA\", \"CCG\"],\n",
    "          [\"ACT\", \"ACC\", \"ACA\", \"ACG\"],[\"TCT\", \"TCC\", \"TCA\", \"TCG\", \"AGT\", \"AGC\"],\n",
    "          [\"TAT\", \"TAC\"],[\"TGG\"],[\"CAA\", \"CAG\"],[\"AAT\", \"AAC\"],[\"CAT\", \"CAC\"],[\"GAA\", \"GAG\"],\n",
    "          [\"GAT\", \"GAC\"],[\"AAA\", \"AAG\"],[\"CGT\", \"CGC\", \"CGA\", \"CGG\",\"AGA\", \"AGG\"],\n",
    "          [\"TAA\", \"TAG\", \"TGA\"]]\n",
    "\n",
    "codon_map = {\"I\":[\"ATT\", \"ATC\", \"ATA\"],\n",
    "             \"L\":[\"CTT\", \"CTC\", \"CTA\", \"CTG\", \"TTA\",\" TTG\"],\n",
    "             \"V\":[\"GTT\", \"GTC\", \"GTA\", \"GTG\"],\n",
    "             \"F\":[\"TTT\", \"TTC\"],\"M\":[\"ATG\"],\n",
    "             \"C\":[\"TGT\", \"TGC\"],\n",
    "             \"A\":[\"GCT\", \"GCC\", \"GCA\", \"GCG\"],\n",
    "             \"G\":[\"GGT\", \"GGC\", \"GGA\", \"GGG\"],\n",
    "             \"P\":[\"CCT\", \"CCC\", \"CCA\", \"CCG\"],\n",
    "             \"T\":[\"ACT\", \"ACC\", \"ACA\", \"ACG\"],\n",
    "             \"S\":[\"TCT\", \"TCC\", \"TCA\", \"TCG\", \"AGT\", \"AGC\"],\n",
    "             \"Y\":[\"TAT\", \"TAC\"],\n",
    "             \"W\":[\"TGG\"],\n",
    "             \"Q\":[\"CAA\", \"CAG\"],\n",
    "             \"N\":[\"AAT\", \"AAC\"],\n",
    "             \"H\":[\"CAT\", \"CAC\"],\n",
    "             \"E\":[\"GAA\", \"GAG\"],\n",
    "             \"D\":[\"GAT\", \"GAC\"],\n",
    "             \"K\":[\"AAA\", \"AAG\"],\n",
    "             \"R\":[\"CGT\", \"CGC\", \"CGA\", \"CGG\",\"AGA\", \"AGG\"],\n",
    "             \"Stop\":[\"TAA\", \"TAG\", \"TGA\"]}\n",
    "\n",
    "codon_properties_map = {}"
   ]
  },
  {
   "cell_type": "code",
   "execution_count": 8,
   "metadata": {
    "collapsed": false
   },
   "outputs": [],
   "source": [
    "## Thermofisher aa properties table\n",
    "from lxml import html\n",
    "def pull_page(url):\n",
    "    data = requests.get(url).text\n",
    "    return data\n",
    "tag = \"table table-bordered table-striped\"\n",
    "tag = \"table\"\n",
    "url = \"https://www.thermofisher.com/us/en/home/life-science/protein-biology/protein-biology-learning-center/protein-biology-resource-library/pierce-protein-methods/amino-acid-physical-properties.html\"\n",
    "\n",
    "page = html.fromstring(pull_page(url))\n",
    "tables = page.cssselect(tag)\n",
    "aa_table = pd.read_html(html.tostring(tables[0]),header=0)[0]\n"
   ]
  },
  {
   "cell_type": "markdown",
   "metadata": {},
   "source": [
    "### aa_properties\n",
    "Aliphatic: Alanine,Isoleucine,Leucine,Valine\n",
    "Aromatic: Phenylalanine, Tryptophan, Tyrosine\n",
    "Polar_neutral: Asparagine, Cysteine, Glutamine, Methionine,Serine,Threonine\n",
    "charged: Aspartic acid, Glutamic acid\n",
    "    \n",
    "Properties table\n",
    "https://www.thermofisher.com/us/en/home/life-science/protein-biology/protein-biology-learning-center/protein-biology-resource-library/pierce-protein-methods/amino-acid-physical-properties.html\n",
    "\n",
    "http://www.ncbi.nlm.nih.gov/pmc/articles/PMC3456822/pdf/10867_2004_Article_396406.pdf\n",
    "\n",
    "http://www.proteinstructures.com/Structure/Structure/amino-acids.html"
   ]
  },
  {
   "cell_type": "code",
   "execution_count": 9,
   "metadata": {
    "collapsed": false
   },
   "outputs": [],
   "source": [
    "# flipped_annot = annot[::-1]\n",
    "\n",
    "def check_gene_state(loc,annot,strand):\n",
    "    \"\"\"input: output: \"\"\"\n",
    "    start, end = int(loc[0]), int(loc[1])\n",
    "    fwd = list(set(annot[start:end+1]))\n",
    "    bhd = list(set(annot[start - 1:end]))\n",
    "    if strand == 'F':\n",
    "        states = list(set(annot[start:end]))\n",
    "        state = 'C'\n",
    "    else:\n",
    "        r_annot = flipped_annot\n",
    "        states = list(set(r_annot[start:end]))\n",
    "        state = 'R'\n",
    "    if len(states) == 1 and states[0] == state and len(fwd) != 1 and len(bhd) != 1:\n",
    "        return True\n",
    "    else:\n",
    "        return False"
   ]
  },
  {
   "cell_type": "code",
   "execution_count": 10,
   "metadata": {
    "collapsed": false
   },
   "outputs": [],
   "source": [
    "def build_training_data(annot, data):\n",
    "    \"\"\"This finds all the genes, non-coding regions, \n",
    "    reverse regions in the genome and returns them as a list\n",
    "    annot is the annotated genome with c's as forward genes, \n",
    "    n's as noncoding regions and r's as genes on the reverse complement strand. \n",
    "    data is the genome comprised of a's,t's,g's,c's. \n",
    "    Both annot and data are strings\"\"\"\n",
    "    d = []\n",
    "    i = 0\n",
    "    c = ''\n",
    "    start = 0\n",
    "    while i < len(annot)-1:\n",
    "        if str(annot[i]) != str(annot[i+1]):\n",
    "            end = i\n",
    "            d.append((start,end,str(c),str(annot[i-1])))\n",
    "            c = ''\n",
    "            start = i+1\n",
    "        else:\n",
    "            c = c + data[i]\n",
    "        i += 1\n",
    "    d.append((start,i,str(c),str(annot[i-1])))   \n",
    "    return d"
   ]
  },
  {
   "cell_type": "code",
   "execution_count": 11,
   "metadata": {
    "collapsed": false
   },
   "outputs": [],
   "source": [
    "from itertools import groupby\n",
    "\n",
    "def find_regions(annot,data):\n",
    "    \"\"\"This finds all the genes, non-coding regions, \n",
    "    reverse regions in the genome and returns them as a list\n",
    "    annot is the annotated genome with c's as forward genes, \n",
    "    n's as noncoding regions and r's as genes on the reverse complement strand. \n",
    "    data is the genome comprised of a's,t's,g's,c's. \n",
    "    Both annot and data are strings\"\"\"\n",
    "    stateGroups = groupby(enumerate(annot), lambda value: value[1])\n",
    "    genome_regions = [(state, [x for x, _ in iterator]) for state, iterator in stateGroups] \n",
    "    regions = [(region[0],min(region[1]),max(region[1])+1,\n",
    "                data[min(region[1]):max(region[1])+1]) for region in genome_regions]\n",
    "    return regions"
   ]
  },
  {
   "cell_type": "code",
   "execution_count": 12,
   "metadata": {
    "collapsed": false
   },
   "outputs": [],
   "source": [
    "def frameShift(seq,shift):\n",
    "    \"\"\"input: seq and shift -- shift not used....\"\"\"\n",
    "    new_seq = ''\n",
    "    for j, i in enumerate(seq):\n",
    "        if j % shift == 0:\n",
    "            new_seq = new_seq + i + ' '\n",
    "        else: \n",
    "            new_seq = new_seq + i\n",
    "    return new_seq\n",
    "\n",
    "\n",
    "# fs = [frameShift(seq,3) for seq in gene_df.sequence]"
   ]
  },
  {
   "cell_type": "code",
   "execution_count": 13,
   "metadata": {
    "collapsed": true
   },
   "outputs": [],
   "source": [
    "def state(annot):\n",
    "    \"\"\"input: states are possible annotations C forward gene,\n",
    "    N - not a gene, or R for reverse gene\"\"\"\n",
    "    states = list(set(annot))\n",
    "    return states\n",
    "\n",
    "def transitions(annot,state):\n",
    "    \"\"\"input: determine when transitions occur where annot is annotated \n",
    "    and state is the state i'm looking to transition from ouput: there location\"\"\"\n",
    "    trs = list(set(annot))\n",
    "    transits = {}\n",
    "    total = len(annot) \n",
    "\n",
    "    for transition_state in trs:\n",
    "        count = len([ts for i,ts in enumerate(annot[:-1]) if str(ts) == state and str(annot[i+1]) == transition_state])\n",
    "        transits[str(transition_state)] = count/total\n",
    "    return transits\n",
    "\n",
    "def emissions(genome,annot,state):\n",
    "    \"\"\"input: genome is  a genome, annot is its annotation, \n",
    "    state is the state i want to count nucleotide frequency of\"\"\"\n",
    "    ems = list(set(genome))\n",
    "    \n",
    "    emissions = {}\n",
    "    transition_totals = {}\n",
    "\n",
    "    total = len([letter for letter in annot if str(letter) == state])\n",
    "    for emission_state in ems:\n",
    "        count = len([letter for i,letter in enumerate(genome) if \n",
    "                     str(letter) == emission_state and str(annot[i])==state])\n",
    "        emissions[str(emission_state)] = count/total    \n",
    "    return emissions\n",
    "\n",
    "def prior_state_emissions(genome,annot):\n",
    "    \"\"\"input: \"\"\"\n",
    "    state_dictionary = {}\n",
    "    states = state(annot)\n",
    "    for s in states:\n",
    "        if s == 'N':\n",
    "            prob = 1\n",
    "        else:\n",
    "            prob = 0\n",
    "        em = emissions(genome,annot,s)\n",
    "        tr = transitions(annot,s)\n",
    "        state_dictionary[s] = [str(s),prob,em,tr]\n",
    "    return state_dictionary"
   ]
  },
  {
   "cell_type": "code",
   "execution_count": 14,
   "metadata": {
    "collapsed": true
   },
   "outputs": [],
   "source": [
    "# from collections import defaultdict\n",
    "def aa_find(seq):\n",
    "    \"\"\"find aa's in sequence\n",
    "    input: sequence, \n",
    "    output: dictionary of codons in sequence\"\"\"\n",
    "    codon_count = {}\n",
    "    for aa, codons in codon_map.items():\n",
    "        codon_count[aa] = 0\n",
    "        if any(x in seq for x in codons):\n",
    "            codon_count[aa] += 1\n",
    "    return codon_count"
   ]
  },
  {
   "cell_type": "code",
   "execution_count": 15,
   "metadata": {
    "collapsed": false
   },
   "outputs": [
    {
     "name": "stdout",
     "output_type": "stream",
     "text": [
      "Built table of sequences for each state in genome...\n",
      "  state  start   end                                                seq\n",
      "0     N      0   231  TTGTTGATATTCTGTTTTTTCTTTTTTAGTTTTCCACATGAAAAAT...\n",
      "1     C    231  1587  ATGACTGAAAATGAACAAATTTTTTGGAACAGGGTCTTGGAATTAG...\n",
      "2     N   1587  1741  CATGTGGAAAAGAATATCTTTTATGAAATAGTTATCCACAAGTTGT...\n",
      "3     C   1741  2878  ATGATTCAATTTTCAATTAATCGCACATTATTTATTCATGCTTTAA...\n",
      "4     N   2878  2952  GTAAGAAAAAGCTCCCTTTTAGGAGTTTTTTTGTTATTATAAATAT...\n",
      "State 'R' sequences were reverse complemented...\n"
     ]
    }
   ],
   "source": [
    "### Pipeline\n",
    "\n",
    "## load genome annotation\n",
    "annot = load_file(staph_annot[0])\n",
    "\n",
    "## load genome\n",
    "data = load_file(staph_url[0])\n",
    "\n",
    "## Built table of sequences for each state in genome\n",
    "region = find_regions(annot,data)\n",
    "# re = build_training_data(annot,data)\n",
    "regions = pd.DataFrame(region)\n",
    "regions.columns = [[\"state\",\"start\",\"end\",\"seq\"]]\n",
    "regions.head()\n",
    "print(\"Built table of sequences for each state in genome...\")\n",
    "print(regions.head(5))\n",
    "\n",
    "## Reverse Complement strands found on the Reverse strand\n",
    "regions.seq = regions.apply(lambda x: reverse_complement(x[3]) if x[0] == \"R\" else x[3],axis=1)\n",
    "print(\"State 'R' sequences were reverse complemented...\")"
   ]
  },
  {
   "cell_type": "code",
   "execution_count": 81,
   "metadata": {
    "collapsed": false
   },
   "outputs": [
    {
     "name": "stdout",
     "output_type": "stream",
     "text": [
      "StaphGenome1.pkl Saved!\n",
      "StaphGenome1_annot.pkl Saved!\n",
      "StaphGenome1_regions_df.pkl Saved!\n"
     ]
    },
    {
     "data": {
      "text/plain": [
       "True"
      ]
     },
     "execution_count": 81,
     "metadata": {},
     "output_type": "execute_result"
    }
   ],
   "source": [
    "## Save Data, corresponding Annotation\n",
    "def pickle_save(filename, variable):\n",
    "    filename = filename+'.pkl'\n",
    "    output = open(filename, 'wb')\n",
    "    pickle.dump(variable, output)\n",
    "    output.close()\n",
    "    print(filename + \" Saved!\")\n",
    "    return True\n",
    "\n",
    "pickle_save('StaphGenome1', data)\n",
    "pickle_save('StaphGenome1_annot', annot)\n",
    "pickle_save('StaphGenome1_regions_df', regions)"
   ]
  },
  {
   "cell_type": "code",
   "execution_count": 92,
   "metadata": {
    "collapsed": false
   },
   "outputs": [
    {
     "name": "stdout",
     "output_type": "stream",
     "text": [
      "StaphGenome1_regions_df.pkl dataframe sucessfully loaded!\n",
      "StaphGenome1.pkl sucessfully loaded!\n"
     ]
    }
   ],
   "source": [
    "import pandas as pd\n",
    "import os\n",
    "\n",
    "## Open Pickles in Folder\n",
    "def find_pickles():\n",
    "    directory_files = os.listdir()\n",
    "    filenames = []\n",
    "    for file in directory_files:\n",
    "        filename, file_extension = os.path.splitext(file)\n",
    "        if file_extension in ['.pkl','.p']:\n",
    "            filenames.append(file)\n",
    "    return filenames\n",
    "\n",
    "def open_pickles():\n",
    "    filenames = find_pickles()\n",
    "    d = {}\n",
    "    for file in filenames:\n",
    "        key = os.path.splitext(file)[0]\n",
    "        d[key] = pickle_open(file)\n",
    "    return d\n",
    "\n",
    "def pickle_open(filename, df=False):\n",
    "    \"\"\"Eventually check if we are opening a python 3 or python 2 file \n",
    "    and deal with discrepencies (python 3 pickle opened in python 2 etc...)\"\"\"\n",
    "    if df == True:\n",
    "        file = pd.read_pickle(filename)\n",
    "        print(filename + \" dataframe sucessfully loaded!\")\n",
    "    else:\n",
    "        file = pickle.load( open( filename, \"rb\" ) )\n",
    "        print(filename + \" sucessfully loaded!\")\n",
    "    return file\n",
    "\n",
    "df_test = pickle_open('StaphGenome1_regions_df.pkl',df=True)\n",
    "data2 = pickle_open('StaphGenome1.pkl')"
   ]
  },
  {
   "cell_type": "code",
   "execution_count": 94,
   "metadata": {
    "collapsed": false
   },
   "outputs": [
    {
     "name": "stdout",
     "output_type": "stream",
     "text": [
      "start-stops.pkl sucessfully loaded!\n",
      "StaphGenome1.pkl sucessfully loaded!\n",
      "StaphGenome1_annot.pkl sucessfully loaded!\n",
      "StaphGenome1_regions_df.pkl sucessfully loaded!\n"
     ]
    }
   ],
   "source": [
    "d = open_pickles()"
   ]
  },
  {
   "cell_type": "code",
   "execution_count": 96,
   "metadata": {
    "collapsed": false
   },
   "outputs": [
    {
     "data": {
      "text/plain": [
       "dict_keys(['start-stops', 'StaphGenome1_regions_df', 'StaphGenome1_annot', 'StaphGenome1'])"
      ]
     },
     "execution_count": 96,
     "metadata": {},
     "output_type": "execute_result"
    }
   ],
   "source": [
    "d.keys()"
   ]
  },
  {
   "cell_type": "code",
   "execution_count": 16,
   "metadata": {
    "collapsed": false
   },
   "outputs": [
    {
     "data": {
      "text/plain": [
       "N    1449\n",
       "C     809\n",
       "R     639\n",
       "Name: state, dtype: int64"
      ]
     },
     "execution_count": 16,
     "metadata": {},
     "output_type": "execute_result"
    }
   ],
   "source": [
    "regions.state.value_counts()"
   ]
  },
  {
   "cell_type": "code",
   "execution_count": 19,
   "metadata": {
    "collapsed": false
   },
   "outputs": [
    {
     "name": "stdout",
     "output_type": "stream",
     "text": [
      "Found potential sequences...\n",
      "Genome DataFrame Built...\n"
     ]
    }
   ],
   "source": [
    "## Find potential sequences\n",
    "pot_sequences = potentialGenes(data)\n",
    "print(\"Found potential sequences...\")\n",
    "\n",
    "## Create DataFrame\n",
    "df = pd.DataFrame(list(pd.DataFrame(pot_sequences).unstack().dropna()))\n",
    "df.columns=[[\"start\",\"end\",\"end_codon\",\"shift\",\"strand\"]]\n",
    "print(\"Genome DataFrame Built...\")"
   ]
  },
  {
   "cell_type": "markdown",
   "metadata": {},
   "source": [
    "### Is this a STOP or not?\n",
    "How many potential stops are there?\n",
    "Can I visualize where I see them in the genome\n",
    "Can I visualize where the actual stops are in the genome\n",
    "Can I predict where the actual stops are in the genome and which frame the are?"
   ]
  },
  {
   "cell_type": "code",
   "execution_count": 113,
   "metadata": {
    "collapsed": true
   },
   "outputs": [],
   "source": [
    "## Find all potential stop locations\n",
    "## Find closest in frame start\n",
    "## Tag if its (in) a gene or not and which frame we have found it within"
   ]
  },
  {
   "cell_type": "code",
   "execution_count": null,
   "metadata": {
    "collapsed": true
   },
   "outputs": [],
   "source": [
    "# def pos_fix(reverse_end_indices,genome_length):\n",
    "#     pos_list = [genome_length - indice - 1 for indice in reverse_end_indices]\n",
    "#     return pos_list\n",
    "\n",
    "# def stop_indices(genome):\n",
    "#     stops = [\"TAA\",\"TAG\",\"TGA\"]\n",
    "#     forward = [finds(genome,stop) for stop in stops]\n",
    "#     reverse = [pos_fix(finds(reverse_complement(genome), stop),len(genome)) for stop in stops]\n",
    "#     stop_locations = forward + reverse\n",
    "#     return stop_locations\n",
    "\n",
    "# def finds(seq,pattern):\n",
    "#     \"\"\"input: A sequence string (the genome) and a pattern sequence are\n",
    "#     taken and all the patterns in the sequence are found\n",
    "#     output: a list of start indices \n",
    "#     *** on this reverse strand... these are from the end of the sequence!!\"\"\"\n",
    "#     starts = [m.start() for m in re.finditer(pattern, seq)]\n",
    "#     return starts"
   ]
  },
  {
   "cell_type": "code",
   "execution_count": 69,
   "metadata": {
    "collapsed": true
   },
   "outputs": [],
   "source": [
    "import itertools\n",
    "from itertools import product\n",
    "\n",
    "def find_all_occurrences(pattern, string):\n",
    "    \"\"\"finds all occurrences of pattern in string, \n",
    "    returning a list of positions for each occurrence\"\"\"\n",
    "    occurence_indices = [m.start() for m in re.finditer(pattern, string)]\n",
    "    return occurence_indices\n",
    "\n",
    "def stop_indices(seq):\n",
    "    patterns = [\"TAA\",\"TAG\",\"TGA\"]\n",
    "    stop_locations = [find_all_occurrences(pattern,seq) for pattern in patterns]\n",
    "    stop_locations = list(itertools.chain(*stop_locations))\n",
    "    return stop_locations\n",
    "\n",
    "def start_indices(seq):\n",
    "    pattern = \"ATG\"\n",
    "    start_locations = find_all_occurrences(pattern,seq)\n",
    "    return start_locations\n",
    "\n",
    "def start_stops(genome):\n",
    "    \"\"\"input: output:\"\"\"\n",
    "    stop_locations = sorted(stop_indices(genome))\n",
    "    start_locations = start_indices(genome)\n",
    "    return [start_locations, stop_locations]\n",
    "\n",
    "def split_into_frames(starts,stops):\n",
    "    \"\"\"input: starts and stops are a list of indices \n",
    "    where starts: (ATGs) or stops: (taa,tag,tga) where found in the genome.\n",
    "    output: a list of tuples in the form of [...(start, stop, frame),...]\"\"\"\n",
    "    res = []\n",
    "    for i in range(3):\n",
    "        s = np.array([-1] + [start for start in starts if (start - i) % 3 == 0])\n",
    "        e = [end for end in stops if (end - i) % 3 == 0]\n",
    "        indices = np.searchsorted(s,e)\n",
    "        res += [(s[ind-1],e[index]+3,i) for index,ind in enumerate(indices)]\n",
    "    return res\n",
    "\n",
    "def process_genome(genome):\n",
    "    \"\"\"input: \n",
    "    output: \"\"\"\n",
    "    starts, stops = start_stops(genome)\n",
    "    pairs = [pair for pair in split_into_frames(starts,stops) if pair[0] !=-1]\n",
    "#     pairs = split_into_frames(starts,stops)\n",
    "    return pairs\n",
    "\n",
    "\n",
    "# def split_into_frames(starts,stops):\n",
    "#     res = []\n",
    "#     for i in range(3):\n",
    "#         s = np.array([-1] + [start for start in starts if (start - i) % 3 == 0])\n",
    "#         e = [end for end in stops if (end - i) % 3 == 0]\n",
    "#         res += clever_name(s,e)\n",
    "#     return res\n",
    "    \n",
    "    \n",
    "# def clever_name(s,e):\n",
    "#     indices = np.searchsorted(s,e)\n",
    "#     return np.stack([s[indices-1], e]).T\n",
    "\n"
   ]
  },
  {
   "cell_type": "code",
   "execution_count": 70,
   "metadata": {
    "collapsed": false
   },
   "outputs": [],
   "source": [
    "tester = data[0:3000]\n",
    "r_data = reverse_complement(data)"
   ]
  },
  {
   "cell_type": "code",
   "execution_count": 71,
   "metadata": {
    "collapsed": false
   },
   "outputs": [],
   "source": [
    "F_pairs = process_genome(data)\n",
    "R_pairs = genome_end_genes(r_data)"
   ]
  },
  {
   "cell_type": "code",
   "execution_count": 36,
   "metadata": {
    "collapsed": false
   },
   "outputs": [],
   "source": [
    "import pickle"
   ]
  },
  {
   "cell_type": "code",
   "execution_count": 37,
   "metadata": {
    "collapsed": true
   },
   "outputs": [],
   "source": [
    "output = open('start-stops.pkl', 'wb')\n",
    "\n",
    "pickle.dump(tup_list, output)\n",
    "output.close()"
   ]
  },
  {
   "cell_type": "code",
   "execution_count": 34,
   "metadata": {
    "collapsed": false
   },
   "outputs": [
    {
     "data": {
      "text/plain": [
       "33"
      ]
     },
     "execution_count": 34,
     "metadata": {},
     "output_type": "execute_result"
    }
   ],
   "source": [
    "109 - 76"
   ]
  },
  {
   "cell_type": "code",
   "execution_count": null,
   "metadata": {
    "collapsed": true
   },
   "outputs": [],
   "source": [
    "from itertools import product\n",
    "ssx = sorted(product(arr1, arr2), key=lambda t: t[1]-t[0])[0:len(arr2)]"
   ]
  },
  {
   "cell_type": "code",
   "execution_count": null,
   "metadata": {
    "collapsed": true
   },
   "outputs": [],
   "source": [
    "len(ssx)"
   ]
  },
  {
   "cell_type": "code",
   "execution_count": null,
   "metadata": {
    "collapsed": true
   },
   "outputs": [],
   "source": [
    "matches = ssx[0:len(arr2)]"
   ]
  },
  {
   "cell_type": "code",
   "execution_count": 121,
   "metadata": {
    "collapsed": false
   },
   "outputs": [],
   "source": [
    "stops = stop_indices(data)"
   ]
  },
  {
   "cell_type": "code",
   "execution_count": 132,
   "metadata": {
    "collapsed": false
   },
   "outputs": [
    {
     "data": {
      "text/plain": [
       "'TAAAGG'"
      ]
     },
     "execution_count": 132,
     "metadata": {},
     "output_type": "execute_result"
    }
   ],
   "source": [
    "data[35413:35419]"
   ]
  },
  {
   "cell_type": "code",
   "execution_count": 133,
   "metadata": {
    "collapsed": false
   },
   "outputs": [
    {
     "data": {
      "text/plain": [
       "229411"
      ]
     },
     "execution_count": 133,
     "metadata": {},
     "output_type": "execute_result"
    }
   ],
   "source": [
    "# stops\n",
    "all_stops = stops[0]+stops[1]+stops[2]+stops[3]+stops[4]+stops[5]\n",
    "len(all_stops)"
   ]
  },
  {
   "cell_type": "code",
   "execution_count": 47,
   "metadata": {
    "collapsed": false
   },
   "outputs": [
    {
     "name": "stderr",
     "output_type": "stream",
     "text": [
      "/Users/ingrid/anaconda/lib/python3.5/site-packages/ipykernel/__main__.py:2: SettingWithCopyWarning: \n",
      "A value is trying to be set on a copy of a slice from a DataFrame.\n",
      "Try using .loc[row_indexer,col_indexer] = value instead\n",
      "\n",
      "See the caveats in the documentation: http://pandas.pydata.org/pandas-docs/stable/indexing.html#indexing-view-versus-copy\n",
      "  from ipykernel import kernelapp as app\n"
     ]
    }
   ],
   "source": [
    "tzz= regions[regions.start == 45122]\n",
    "tzz[\"true\"] = True"
   ]
  },
  {
   "cell_type": "raw",
   "metadata": {},
   "source": [
    "regions[regions.state == 'R']\n",
    "rzz = df[df.start == 45122]"
   ]
  },
  {
   "cell_type": "code",
   "execution_count": 95,
   "metadata": {
    "collapsed": true
   },
   "outputs": [],
   "source": [
    "mer = pd.merge(tzz,rzz, on=['start','end'], how=\"outer\")\n",
    "\n",
    "## regression - gene candidate and take nearest candiate neighbors or gene neighbors\n",
    "## common sub-sequences in front of genes, \n",
    "## matrix of character combinations.... "
   ]
  },
  {
   "cell_type": "code",
   "execution_count": 111,
   "metadata": {
    "collapsed": false
   },
   "outputs": [
    {
     "data": {
      "text/plain": [
       "'TAGAACAAGTACGTCGACAAAATCCGCTATTGATAGGCTCATTCACCTTTTTTCCGTTACCTTAGCTAAGCACCTTGTACATATAGGCGGTTACGTGAAGAAAACGTCGAAAAGCAAATTCGAGACGATTACCAAAAGTCAATGGATTTCCGATGCCATTACGGACGTGCACCCCTGTATAGCGCTTTTTAGTCCCAATAGGACACTTATTCTGTGGTTCGTATCCCCGATAGCGAACCAAACTATTTTTGCGAATAGTCAGTTTACGACGAATGCCAGTACATCGTACCCATCGACTATAGGCACCTCTGTGACAGTGATAGCTTCTCATATTAATGTTGCGACCTGTTCCGGGACTTTCTATGGTATTCGCAGTTTAAGGTTTTAGAGTCCATTCACCAATATAGGTAAAATTTCTGAATAGTAGAGTCTGTTCAGTAAGGATGGGTTCTGTTGATTTTGTGTAAAGAGTTCGAAGTAAACTGGGGAGACCTTGAATAGTGAAATGTTGGTCTAATGGTCAGTTTCCTGTTTGGTCATAGCTATCGGGACTAGAACGAATGATACTTCGTCCAGTTAGACAAATAATGCTATTTCAGCACTGACGACCTCCAATATGTACCGAATCGATGGAGTCAAAAAGACCTTTGGCTGCGATATAAGGGTAATTTCTCGGGCGTGTCAGACACCAAGTTTTACTGTTATGTTTTGGAAGGTAATTCCAGCCACTATGACAATGGAAGGGACCGCAAAAAGCACATCTAGTCGAACAATTATTAAACTAGCAATTATTTCTTAATCGGCCTCCTCTGGGTTGAGGTGATTTGACCTAACTAGGGTGTGGTAATCTACTTTGTCTATTGGTTCCTTTTCAAAATCCTCTAGTTTAAGAGGCACACCCACTTATAAAATAGCAGTGACCATCAATATTTCATAATTTTTAACTAGTTGGTTCATTACCATAAATACAAGTTTAGCCTAGAGCACCTTGTACCCATTTACGACTATTTCGATTGTTTAATATC'"
      ]
     },
     "execution_count": 111,
     "metadata": {},
     "output_type": "execute_result"
    }
   ],
   "source": [
    "data[45122:46147][::-1]"
   ]
  },
  {
   "cell_type": "code",
   "execution_count": 97,
   "metadata": {
    "collapsed": false
   },
   "outputs": [],
   "source": [
    "mer.true = mer.true.fillna(False)\n",
    "pd.isnull(mer.iloc[2].seq)\n",
    "mer.iloc[2].seq is None\n",
    "mer\n",
    "# type(seq[1]),axis=1)#\n",
    "mer.seq = mer.apply(lambda seq: seq[3] if not pd.isnull(seq[3]) else reverse_complement(data[int(seq[1]):int(seq[2])]), axis=1 )"
   ]
  },
  {
   "cell_type": "code",
   "execution_count": 98,
   "metadata": {
    "collapsed": false
   },
   "outputs": [
    {
     "data": {
      "text/html": [
       "<div>\n",
       "<table border=\"1\" class=\"dataframe\">\n",
       "  <thead>\n",
       "    <tr style=\"text-align: right;\">\n",
       "      <th></th>\n",
       "      <th>state</th>\n",
       "      <th>start</th>\n",
       "      <th>end</th>\n",
       "      <th>seq</th>\n",
       "      <th>true</th>\n",
       "      <th>end_codon</th>\n",
       "      <th>shift</th>\n",
       "      <th>strand</th>\n",
       "    </tr>\n",
       "  </thead>\n",
       "  <tbody>\n",
       "    <tr>\n",
       "      <th>0</th>\n",
       "      <td>R</td>\n",
       "      <td>45122</td>\n",
       "      <td>46247</td>\n",
       "      <td>ATGAAAAAATTTCATCGTTTTTTGGTCTCAGGAGTAATCCTTTTAG...</td>\n",
       "      <td>True</td>\n",
       "      <td>tag</td>\n",
       "      <td>2</td>\n",
       "      <td>R</td>\n",
       "    </tr>\n",
       "    <tr>\n",
       "      <th>1</th>\n",
       "      <td>NaN</td>\n",
       "      <td>45122</td>\n",
       "      <td>46178</td>\n",
       "      <td>ATGCCATCTACACTTATTTCGCAACAGGAAAATCTTGTTCATGCAG...</td>\n",
       "      <td>False</td>\n",
       "      <td>tag</td>\n",
       "      <td>2</td>\n",
       "      <td>R</td>\n",
       "    </tr>\n",
       "    <tr>\n",
       "      <th>2</th>\n",
       "      <td>NaN</td>\n",
       "      <td>45122</td>\n",
       "      <td>46070</td>\n",
       "      <td>ATGTATATCCGCCAATGCACTTCTTTTGCAGCTTTTCGTTTAAGCT...</td>\n",
       "      <td>False</td>\n",
       "      <td>tag</td>\n",
       "      <td>2</td>\n",
       "      <td>R</td>\n",
       "    </tr>\n",
       "    <tr>\n",
       "      <th>3</th>\n",
       "      <td>NaN</td>\n",
       "      <td>45122</td>\n",
       "      <td>46538</td>\n",
       "      <td>ATGTTCACGACCACCTGAACCAACAACAAGTAATTTCAAAACATCC...</td>\n",
       "      <td>False</td>\n",
       "      <td>tag</td>\n",
       "      <td>2</td>\n",
       "      <td>R</td>\n",
       "    </tr>\n",
       "    <tr>\n",
       "      <th>4</th>\n",
       "      <td>NaN</td>\n",
       "      <td>45122</td>\n",
       "      <td>46655</td>\n",
       "      <td>ATGTTCGGAAACTACTATATTCACCAAGTCCAGACCATCCAAGGTC...</td>\n",
       "      <td>False</td>\n",
       "      <td>tag</td>\n",
       "      <td>2</td>\n",
       "      <td>R</td>\n",
       "    </tr>\n",
       "  </tbody>\n",
       "</table>\n",
       "</div>"
      ],
      "text/plain": [
       "  state  start    end                                                seq  \\\n",
       "0     R  45122  46247  ATGAAAAAATTTCATCGTTTTTTGGTCTCAGGAGTAATCCTTTTAG...   \n",
       "1   NaN  45122  46178  ATGCCATCTACACTTATTTCGCAACAGGAAAATCTTGTTCATGCAG...   \n",
       "2   NaN  45122  46070  ATGTATATCCGCCAATGCACTTCTTTTGCAGCTTTTCGTTTAAGCT...   \n",
       "3   NaN  45122  46538  ATGTTCACGACCACCTGAACCAACAACAAGTAATTTCAAAACATCC...   \n",
       "4   NaN  45122  46655  ATGTTCGGAAACTACTATATTCACCAAGTCCAGACCATCCAAGGTC...   \n",
       "\n",
       "    true end_codon  shift strand  \n",
       "0   True       tag      2      R  \n",
       "1  False       tag      2      R  \n",
       "2  False       tag      2      R  \n",
       "3  False       tag      2      R  \n",
       "4  False       tag      2      R  "
      ]
     },
     "execution_count": 98,
     "metadata": {},
     "output_type": "execute_result"
    }
   ],
   "source": [
    "mer"
   ]
  },
  {
   "cell_type": "code",
   "execution_count": 44,
   "metadata": {
    "collapsed": false
   },
   "outputs": [],
   "source": [
    "mer[\"true\"] = mer.true.fillna(False, inplace=True)"
   ]
  },
  {
   "cell_type": "code",
   "execution_count": 46,
   "metadata": {
    "collapsed": false
   },
   "outputs": [
    {
     "data": {
      "text/html": [
       "<div>\n",
       "<table border=\"1\" class=\"dataframe\">\n",
       "  <thead>\n",
       "    <tr style=\"text-align: right;\">\n",
       "      <th></th>\n",
       "      <th>state</th>\n",
       "      <th>start</th>\n",
       "      <th>end</th>\n",
       "      <th>seq</th>\n",
       "      <th>true</th>\n",
       "      <th>end_codon</th>\n",
       "      <th>shift</th>\n",
       "      <th>strand</th>\n",
       "    </tr>\n",
       "  </thead>\n",
       "  <tbody>\n",
       "    <tr>\n",
       "      <th>0</th>\n",
       "      <td>R</td>\n",
       "      <td>45122</td>\n",
       "      <td>46247</td>\n",
       "      <td>ATGAAAAAATTTCATCGTTTTTTGGTCTCAGGAGTAATCCTTTTAG...</td>\n",
       "      <td>None</td>\n",
       "      <td>tag</td>\n",
       "      <td>2</td>\n",
       "      <td>R</td>\n",
       "    </tr>\n",
       "    <tr>\n",
       "      <th>1</th>\n",
       "      <td>NaN</td>\n",
       "      <td>45122</td>\n",
       "      <td>46178</td>\n",
       "      <td>NaN</td>\n",
       "      <td>None</td>\n",
       "      <td>tag</td>\n",
       "      <td>2</td>\n",
       "      <td>R</td>\n",
       "    </tr>\n",
       "    <tr>\n",
       "      <th>2</th>\n",
       "      <td>NaN</td>\n",
       "      <td>45122</td>\n",
       "      <td>46070</td>\n",
       "      <td>NaN</td>\n",
       "      <td>None</td>\n",
       "      <td>tag</td>\n",
       "      <td>2</td>\n",
       "      <td>R</td>\n",
       "    </tr>\n",
       "    <tr>\n",
       "      <th>3</th>\n",
       "      <td>NaN</td>\n",
       "      <td>45122</td>\n",
       "      <td>46538</td>\n",
       "      <td>NaN</td>\n",
       "      <td>None</td>\n",
       "      <td>tag</td>\n",
       "      <td>2</td>\n",
       "      <td>R</td>\n",
       "    </tr>\n",
       "    <tr>\n",
       "      <th>4</th>\n",
       "      <td>NaN</td>\n",
       "      <td>45122</td>\n",
       "      <td>46655</td>\n",
       "      <td>NaN</td>\n",
       "      <td>None</td>\n",
       "      <td>tag</td>\n",
       "      <td>2</td>\n",
       "      <td>R</td>\n",
       "    </tr>\n",
       "  </tbody>\n",
       "</table>\n",
       "</div>"
      ],
      "text/plain": [
       "  state  start    end                                                seq  \\\n",
       "0     R  45122  46247  ATGAAAAAATTTCATCGTTTTTTGGTCTCAGGAGTAATCCTTTTAG...   \n",
       "1   NaN  45122  46178                                                NaN   \n",
       "2   NaN  45122  46070                                                NaN   \n",
       "3   NaN  45122  46538                                                NaN   \n",
       "4   NaN  45122  46655                                                NaN   \n",
       "\n",
       "   true end_codon  shift strand  \n",
       "0  None       tag      2      R  \n",
       "1  None       tag      2      R  \n",
       "2  None       tag      2      R  \n",
       "3  None       tag      2      R  \n",
       "4  None       tag      2      R  "
      ]
     },
     "execution_count": 46,
     "metadata": {},
     "output_type": "execute_result"
    }
   ],
   "source": [
    "mer"
   ]
  },
  {
   "cell_type": "code",
   "execution_count": 77,
   "metadata": {
    "collapsed": false
   },
   "outputs": [],
   "source": [
    "regions[\"true\"] = True\n",
    "merged_df = pd.merge(df,regions[regions.state != \"N\"], on=['start', 'end'],how='outer')"
   ]
  },
  {
   "cell_type": "code",
   "execution_count": 78,
   "metadata": {
    "collapsed": false,
    "scrolled": true
   },
   "outputs": [],
   "source": [
    "merged_df[\"true\"] = merged_df.true.fillna(False)"
   ]
  },
  {
   "cell_type": "code",
   "execution_count": 95,
   "metadata": {
    "collapsed": false
   },
   "outputs": [
    {
     "data": {
      "text/plain": [
       "'ATGTCATTTTACAGTGAAACTGACATAGCTGCCGCTATGACTGTTAAGTT'"
      ]
     },
     "execution_count": 95,
     "metadata": {},
     "output_type": "execute_result"
    }
   ],
   "source": [
    "data[1732800:1732850]"
   ]
  },
  {
   "cell_type": "code",
   "execution_count": 94,
   "metadata": {
    "collapsed": false
   },
   "outputs": [
    {
     "data": {
      "text/html": [
       "<div>\n",
       "<table border=\"1\" class=\"dataframe\">\n",
       "  <thead>\n",
       "    <tr style=\"text-align: right;\">\n",
       "      <th></th>\n",
       "      <th>start</th>\n",
       "      <th>end</th>\n",
       "      <th>end_codon</th>\n",
       "      <th>shift</th>\n",
       "      <th>strand</th>\n",
       "    </tr>\n",
       "  </thead>\n",
       "  <tbody>\n",
       "    <tr>\n",
       "      <th>30585</th>\n",
       "      <td>1732836</td>\n",
       "      <td>1734831</td>\n",
       "      <td>taa</td>\n",
       "      <td>0</td>\n",
       "      <td>F</td>\n",
       "    </tr>\n",
       "    <tr>\n",
       "      <th>30586</th>\n",
       "      <td>1732855</td>\n",
       "      <td>1733497</td>\n",
       "      <td>taa</td>\n",
       "      <td>1</td>\n",
       "      <td>F</td>\n",
       "    </tr>\n",
       "    <tr>\n",
       "      <th>30587</th>\n",
       "      <td>1732954</td>\n",
       "      <td>1733497</td>\n",
       "      <td>taa</td>\n",
       "      <td>1</td>\n",
       "      <td>F</td>\n",
       "    </tr>\n",
       "    <tr>\n",
       "      <th>30588</th>\n",
       "      <td>1732966</td>\n",
       "      <td>1733497</td>\n",
       "      <td>taa</td>\n",
       "      <td>1</td>\n",
       "      <td>F</td>\n",
       "    </tr>\n",
       "    <tr>\n",
       "      <th>30589</th>\n",
       "      <td>1733038</td>\n",
       "      <td>1733497</td>\n",
       "      <td>taa</td>\n",
       "      <td>1</td>\n",
       "      <td>F</td>\n",
       "    </tr>\n",
       "    <tr>\n",
       "      <th>30590</th>\n",
       "      <td>1733121</td>\n",
       "      <td>1734831</td>\n",
       "      <td>taa</td>\n",
       "      <td>0</td>\n",
       "      <td>F</td>\n",
       "    </tr>\n",
       "    <tr>\n",
       "      <th>30591</th>\n",
       "      <td>1733130</td>\n",
       "      <td>1734831</td>\n",
       "      <td>taa</td>\n",
       "      <td>0</td>\n",
       "      <td>F</td>\n",
       "    </tr>\n",
       "    <tr>\n",
       "      <th>30592</th>\n",
       "      <td>1733188</td>\n",
       "      <td>1733497</td>\n",
       "      <td>taa</td>\n",
       "      <td>1</td>\n",
       "      <td>F</td>\n",
       "    </tr>\n",
       "    <tr>\n",
       "      <th>30593</th>\n",
       "      <td>1733220</td>\n",
       "      <td>1734831</td>\n",
       "      <td>taa</td>\n",
       "      <td>0</td>\n",
       "      <td>F</td>\n",
       "    </tr>\n",
       "    <tr>\n",
       "      <th>30594</th>\n",
       "      <td>1733256</td>\n",
       "      <td>1734831</td>\n",
       "      <td>taa</td>\n",
       "      <td>0</td>\n",
       "      <td>F</td>\n",
       "    </tr>\n",
       "    <tr>\n",
       "      <th>30595</th>\n",
       "      <td>1733263</td>\n",
       "      <td>1733497</td>\n",
       "      <td>taa</td>\n",
       "      <td>1</td>\n",
       "      <td>F</td>\n",
       "    </tr>\n",
       "    <tr>\n",
       "      <th>30596</th>\n",
       "      <td>1733347</td>\n",
       "      <td>1733497</td>\n",
       "      <td>taa</td>\n",
       "      <td>1</td>\n",
       "      <td>F</td>\n",
       "    </tr>\n",
       "    <tr>\n",
       "      <th>30597</th>\n",
       "      <td>1733376</td>\n",
       "      <td>1734831</td>\n",
       "      <td>taa</td>\n",
       "      <td>0</td>\n",
       "      <td>F</td>\n",
       "    </tr>\n",
       "    <tr>\n",
       "      <th>30598</th>\n",
       "      <td>1733403</td>\n",
       "      <td>1734831</td>\n",
       "      <td>taa</td>\n",
       "      <td>0</td>\n",
       "      <td>F</td>\n",
       "    </tr>\n",
       "    <tr>\n",
       "      <th>30599</th>\n",
       "      <td>1733419</td>\n",
       "      <td>1733497</td>\n",
       "      <td>taa</td>\n",
       "      <td>1</td>\n",
       "      <td>F</td>\n",
       "    </tr>\n",
       "    <tr>\n",
       "      <th>30600</th>\n",
       "      <td>1733427</td>\n",
       "      <td>1734831</td>\n",
       "      <td>taa</td>\n",
       "      <td>0</td>\n",
       "      <td>F</td>\n",
       "    </tr>\n",
       "    <tr>\n",
       "      <th>30601</th>\n",
       "      <td>1733445</td>\n",
       "      <td>1734831</td>\n",
       "      <td>taa</td>\n",
       "      <td>0</td>\n",
       "      <td>F</td>\n",
       "    </tr>\n",
       "    <tr>\n",
       "      <th>30602</th>\n",
       "      <td>1733473</td>\n",
       "      <td>1733497</td>\n",
       "      <td>taa</td>\n",
       "      <td>1</td>\n",
       "      <td>F</td>\n",
       "    </tr>\n",
       "    <tr>\n",
       "      <th>30603</th>\n",
       "      <td>1733497</td>\n",
       "      <td>1733989</td>\n",
       "      <td>taa</td>\n",
       "      <td>1</td>\n",
       "      <td>F</td>\n",
       "    </tr>\n",
       "    <tr>\n",
       "      <th>30604</th>\n",
       "      <td>1733527</td>\n",
       "      <td>1733989</td>\n",
       "      <td>taa</td>\n",
       "      <td>1</td>\n",
       "      <td>F</td>\n",
       "    </tr>\n",
       "    <tr>\n",
       "      <th>30605</th>\n",
       "      <td>1733577</td>\n",
       "      <td>1734831</td>\n",
       "      <td>taa</td>\n",
       "      <td>0</td>\n",
       "      <td>F</td>\n",
       "    </tr>\n",
       "    <tr>\n",
       "      <th>30606</th>\n",
       "      <td>1733737</td>\n",
       "      <td>1733989</td>\n",
       "      <td>taa</td>\n",
       "      <td>1</td>\n",
       "      <td>F</td>\n",
       "    </tr>\n",
       "    <tr>\n",
       "      <th>30607</th>\n",
       "      <td>1733767</td>\n",
       "      <td>1733989</td>\n",
       "      <td>taa</td>\n",
       "      <td>1</td>\n",
       "      <td>F</td>\n",
       "    </tr>\n",
       "    <tr>\n",
       "      <th>30608</th>\n",
       "      <td>1733800</td>\n",
       "      <td>1733989</td>\n",
       "      <td>taa</td>\n",
       "      <td>1</td>\n",
       "      <td>F</td>\n",
       "    </tr>\n",
       "    <tr>\n",
       "      <th>30609</th>\n",
       "      <td>1733815</td>\n",
       "      <td>1733989</td>\n",
       "      <td>taa</td>\n",
       "      <td>1</td>\n",
       "      <td>F</td>\n",
       "    </tr>\n",
       "    <tr>\n",
       "      <th>30610</th>\n",
       "      <td>1733857</td>\n",
       "      <td>1733989</td>\n",
       "      <td>taa</td>\n",
       "      <td>1</td>\n",
       "      <td>F</td>\n",
       "    </tr>\n",
       "    <tr>\n",
       "      <th>30611</th>\n",
       "      <td>1733940</td>\n",
       "      <td>1734831</td>\n",
       "      <td>taa</td>\n",
       "      <td>0</td>\n",
       "      <td>F</td>\n",
       "    </tr>\n",
       "    <tr>\n",
       "      <th>30612</th>\n",
       "      <td>1733947</td>\n",
       "      <td>1733989</td>\n",
       "      <td>taa</td>\n",
       "      <td>1</td>\n",
       "      <td>F</td>\n",
       "    </tr>\n",
       "    <tr>\n",
       "      <th>30613</th>\n",
       "      <td>1733995</td>\n",
       "      <td>1734853</td>\n",
       "      <td>taa</td>\n",
       "      <td>1</td>\n",
       "      <td>F</td>\n",
       "    </tr>\n",
       "    <tr>\n",
       "      <th>30614</th>\n",
       "      <td>1734022</td>\n",
       "      <td>1734853</td>\n",
       "      <td>taa</td>\n",
       "      <td>1</td>\n",
       "      <td>F</td>\n",
       "    </tr>\n",
       "    <tr>\n",
       "      <th>...</th>\n",
       "      <td>...</td>\n",
       "      <td>...</td>\n",
       "      <td>...</td>\n",
       "      <td>...</td>\n",
       "      <td>...</td>\n",
       "    </tr>\n",
       "    <tr>\n",
       "      <th>2500347</th>\n",
       "      <td>1816389</td>\n",
       "      <td>1817847</td>\n",
       "      <td>tga</td>\n",
       "      <td>1</td>\n",
       "      <td>R</td>\n",
       "    </tr>\n",
       "    <tr>\n",
       "      <th>2500606</th>\n",
       "      <td>1781279</td>\n",
       "      <td>1783112</td>\n",
       "      <td>tga</td>\n",
       "      <td>2</td>\n",
       "      <td>F</td>\n",
       "    </tr>\n",
       "    <tr>\n",
       "      <th>2500607</th>\n",
       "      <td>1790248</td>\n",
       "      <td>1791967</td>\n",
       "      <td>tga</td>\n",
       "      <td>1</td>\n",
       "      <td>F</td>\n",
       "    </tr>\n",
       "    <tr>\n",
       "      <th>2500608</th>\n",
       "      <td>1790308</td>\n",
       "      <td>1792072</td>\n",
       "      <td>tga</td>\n",
       "      <td>1</td>\n",
       "      <td>F</td>\n",
       "    </tr>\n",
       "    <tr>\n",
       "      <th>2500609</th>\n",
       "      <td>1790347</td>\n",
       "      <td>1792078</td>\n",
       "      <td>tga</td>\n",
       "      <td>1</td>\n",
       "      <td>F</td>\n",
       "    </tr>\n",
       "    <tr>\n",
       "      <th>2500610</th>\n",
       "      <td>1849971</td>\n",
       "      <td>1851600</td>\n",
       "      <td>tga</td>\n",
       "      <td>1</td>\n",
       "      <td>R</td>\n",
       "    </tr>\n",
       "    <tr>\n",
       "      <th>2500611</th>\n",
       "      <td>1831025</td>\n",
       "      <td>1832810</td>\n",
       "      <td>tga</td>\n",
       "      <td>2</td>\n",
       "      <td>R</td>\n",
       "    </tr>\n",
       "    <tr>\n",
       "      <th>2500612</th>\n",
       "      <td>1816368</td>\n",
       "      <td>1817847</td>\n",
       "      <td>tga</td>\n",
       "      <td>1</td>\n",
       "      <td>R</td>\n",
       "    </tr>\n",
       "    <tr>\n",
       "      <th>2500842</th>\n",
       "      <td>1781279</td>\n",
       "      <td>1783199</td>\n",
       "      <td>tga</td>\n",
       "      <td>2</td>\n",
       "      <td>F</td>\n",
       "    </tr>\n",
       "    <tr>\n",
       "      <th>2500843</th>\n",
       "      <td>1790248</td>\n",
       "      <td>1792033</td>\n",
       "      <td>tga</td>\n",
       "      <td>1</td>\n",
       "      <td>F</td>\n",
       "    </tr>\n",
       "    <tr>\n",
       "      <th>2500844</th>\n",
       "      <td>1790308</td>\n",
       "      <td>1792078</td>\n",
       "      <td>tga</td>\n",
       "      <td>1</td>\n",
       "      <td>F</td>\n",
       "    </tr>\n",
       "    <tr>\n",
       "      <th>2500845</th>\n",
       "      <td>1790347</td>\n",
       "      <td>1792147</td>\n",
       "      <td>tga</td>\n",
       "      <td>1</td>\n",
       "      <td>F</td>\n",
       "    </tr>\n",
       "    <tr>\n",
       "      <th>2500846</th>\n",
       "      <td>1849764</td>\n",
       "      <td>1851600</td>\n",
       "      <td>tga</td>\n",
       "      <td>1</td>\n",
       "      <td>R</td>\n",
       "    </tr>\n",
       "    <tr>\n",
       "      <th>2500847</th>\n",
       "      <td>1830944</td>\n",
       "      <td>1832810</td>\n",
       "      <td>tga</td>\n",
       "      <td>2</td>\n",
       "      <td>R</td>\n",
       "    </tr>\n",
       "    <tr>\n",
       "      <th>2500848</th>\n",
       "      <td>1816338</td>\n",
       "      <td>1817847</td>\n",
       "      <td>tga</td>\n",
       "      <td>1</td>\n",
       "      <td>R</td>\n",
       "    </tr>\n",
       "    <tr>\n",
       "      <th>2501038</th>\n",
       "      <td>1781279</td>\n",
       "      <td>1783247</td>\n",
       "      <td>tga</td>\n",
       "      <td>2</td>\n",
       "      <td>F</td>\n",
       "    </tr>\n",
       "    <tr>\n",
       "      <th>2501039</th>\n",
       "      <td>1790248</td>\n",
       "      <td>1792072</td>\n",
       "      <td>tga</td>\n",
       "      <td>1</td>\n",
       "      <td>F</td>\n",
       "    </tr>\n",
       "    <tr>\n",
       "      <th>2501040</th>\n",
       "      <td>1790308</td>\n",
       "      <td>1792147</td>\n",
       "      <td>tga</td>\n",
       "      <td>1</td>\n",
       "      <td>F</td>\n",
       "    </tr>\n",
       "    <tr>\n",
       "      <th>2501041</th>\n",
       "      <td>1790347</td>\n",
       "      <td>1792243</td>\n",
       "      <td>tga</td>\n",
       "      <td>1</td>\n",
       "      <td>F</td>\n",
       "    </tr>\n",
       "    <tr>\n",
       "      <th>2501042</th>\n",
       "      <td>1849689</td>\n",
       "      <td>1851600</td>\n",
       "      <td>tga</td>\n",
       "      <td>1</td>\n",
       "      <td>R</td>\n",
       "    </tr>\n",
       "    <tr>\n",
       "      <th>2501043</th>\n",
       "      <td>1830821</td>\n",
       "      <td>1832810</td>\n",
       "      <td>tga</td>\n",
       "      <td>2</td>\n",
       "      <td>R</td>\n",
       "    </tr>\n",
       "    <tr>\n",
       "      <th>2501044</th>\n",
       "      <td>1816242</td>\n",
       "      <td>1817847</td>\n",
       "      <td>tga</td>\n",
       "      <td>1</td>\n",
       "      <td>R</td>\n",
       "    </tr>\n",
       "    <tr>\n",
       "      <th>2501199</th>\n",
       "      <td>1790248</td>\n",
       "      <td>1792078</td>\n",
       "      <td>tga</td>\n",
       "      <td>1</td>\n",
       "      <td>F</td>\n",
       "    </tr>\n",
       "    <tr>\n",
       "      <th>2501200</th>\n",
       "      <td>1790308</td>\n",
       "      <td>1792243</td>\n",
       "      <td>tga</td>\n",
       "      <td>1</td>\n",
       "      <td>F</td>\n",
       "    </tr>\n",
       "    <tr>\n",
       "      <th>2501201</th>\n",
       "      <td>1790347</td>\n",
       "      <td>1792312</td>\n",
       "      <td>tga</td>\n",
       "      <td>1</td>\n",
       "      <td>F</td>\n",
       "    </tr>\n",
       "    <tr>\n",
       "      <th>2501202</th>\n",
       "      <td>1849650</td>\n",
       "      <td>1851600</td>\n",
       "      <td>tga</td>\n",
       "      <td>1</td>\n",
       "      <td>R</td>\n",
       "    </tr>\n",
       "    <tr>\n",
       "      <th>2501203</th>\n",
       "      <td>1816221</td>\n",
       "      <td>1817847</td>\n",
       "      <td>tga</td>\n",
       "      <td>1</td>\n",
       "      <td>R</td>\n",
       "    </tr>\n",
       "    <tr>\n",
       "      <th>2501333</th>\n",
       "      <td>1790248</td>\n",
       "      <td>1792147</td>\n",
       "      <td>tga</td>\n",
       "      <td>1</td>\n",
       "      <td>F</td>\n",
       "    </tr>\n",
       "    <tr>\n",
       "      <th>2501334</th>\n",
       "      <td>1790347</td>\n",
       "      <td>1792324</td>\n",
       "      <td>tga</td>\n",
       "      <td>1</td>\n",
       "      <td>F</td>\n",
       "    </tr>\n",
       "    <tr>\n",
       "      <th>2501450</th>\n",
       "      <td>1790248</td>\n",
       "      <td>1792243</td>\n",
       "      <td>tga</td>\n",
       "      <td>1</td>\n",
       "      <td>F</td>\n",
       "    </tr>\n",
       "  </tbody>\n",
       "</table>\n",
       "<p>155619 rows × 5 columns</p>\n",
       "</div>"
      ],
      "text/plain": [
       "           start      end end_codon  shift strand\n",
       "30585    1732836  1734831       taa      0      F\n",
       "30586    1732855  1733497       taa      1      F\n",
       "30587    1732954  1733497       taa      1      F\n",
       "30588    1732966  1733497       taa      1      F\n",
       "30589    1733038  1733497       taa      1      F\n",
       "30590    1733121  1734831       taa      0      F\n",
       "30591    1733130  1734831       taa      0      F\n",
       "30592    1733188  1733497       taa      1      F\n",
       "30593    1733220  1734831       taa      0      F\n",
       "30594    1733256  1734831       taa      0      F\n",
       "30595    1733263  1733497       taa      1      F\n",
       "30596    1733347  1733497       taa      1      F\n",
       "30597    1733376  1734831       taa      0      F\n",
       "30598    1733403  1734831       taa      0      F\n",
       "30599    1733419  1733497       taa      1      F\n",
       "30600    1733427  1734831       taa      0      F\n",
       "30601    1733445  1734831       taa      0      F\n",
       "30602    1733473  1733497       taa      1      F\n",
       "30603    1733497  1733989       taa      1      F\n",
       "30604    1733527  1733989       taa      1      F\n",
       "30605    1733577  1734831       taa      0      F\n",
       "30606    1733737  1733989       taa      1      F\n",
       "30607    1733767  1733989       taa      1      F\n",
       "30608    1733800  1733989       taa      1      F\n",
       "30609    1733815  1733989       taa      1      F\n",
       "30610    1733857  1733989       taa      1      F\n",
       "30611    1733940  1734831       taa      0      F\n",
       "30612    1733947  1733989       taa      1      F\n",
       "30613    1733995  1734853       taa      1      F\n",
       "30614    1734022  1734853       taa      1      F\n",
       "...          ...      ...       ...    ...    ...\n",
       "2500347  1816389  1817847       tga      1      R\n",
       "2500606  1781279  1783112       tga      2      F\n",
       "2500607  1790248  1791967       tga      1      F\n",
       "2500608  1790308  1792072       tga      1      F\n",
       "2500609  1790347  1792078       tga      1      F\n",
       "2500610  1849971  1851600       tga      1      R\n",
       "2500611  1831025  1832810       tga      2      R\n",
       "2500612  1816368  1817847       tga      1      R\n",
       "2500842  1781279  1783199       tga      2      F\n",
       "2500843  1790248  1792033       tga      1      F\n",
       "2500844  1790308  1792078       tga      1      F\n",
       "2500845  1790347  1792147       tga      1      F\n",
       "2500846  1849764  1851600       tga      1      R\n",
       "2500847  1830944  1832810       tga      2      R\n",
       "2500848  1816338  1817847       tga      1      R\n",
       "2501038  1781279  1783247       tga      2      F\n",
       "2501039  1790248  1792072       tga      1      F\n",
       "2501040  1790308  1792147       tga      1      F\n",
       "2501041  1790347  1792243       tga      1      F\n",
       "2501042  1849689  1851600       tga      1      R\n",
       "2501043  1830821  1832810       tga      2      R\n",
       "2501044  1816242  1817847       tga      1      R\n",
       "2501199  1790248  1792078       tga      1      F\n",
       "2501200  1790308  1792243       tga      1      F\n",
       "2501201  1790347  1792312       tga      1      F\n",
       "2501202  1849650  1851600       tga      1      R\n",
       "2501203  1816221  1817847       tga      1      R\n",
       "2501333  1790248  1792147       tga      1      F\n",
       "2501334  1790347  1792324       tga      1      F\n",
       "2501450  1790248  1792243       tga      1      F\n",
       "\n",
       "[155619 rows x 5 columns]"
      ]
     },
     "execution_count": 94,
     "metadata": {},
     "output_type": "execute_result"
    }
   ],
   "source": [
    "df[df.start > 1732700]"
   ]
  },
  {
   "cell_type": "code",
   "execution_count": 91,
   "metadata": {
    "collapsed": false
   },
   "outputs": [
    {
     "data": {
      "text/plain": [
       "'ATGTCATTTT'"
      ]
     },
     "execution_count": 91,
     "metadata": {},
     "output_type": "execute_result"
    }
   ],
   "source": [
    "data[1732800:1732810]"
   ]
  },
  {
   "cell_type": "code",
   "execution_count": 87,
   "metadata": {
    "collapsed": false
   },
   "outputs": [
    {
     "data": {
      "text/html": [
       "<div>\n",
       "<table border=\"1\" class=\"dataframe\">\n",
       "  <thead>\n",
       "    <tr style=\"text-align: right;\">\n",
       "      <th></th>\n",
       "      <th>start</th>\n",
       "      <th>end</th>\n",
       "      <th>end_codon</th>\n",
       "      <th>shift</th>\n",
       "      <th>strand</th>\n",
       "      <th>state</th>\n",
       "      <th>seq</th>\n",
       "      <th>true</th>\n",
       "    </tr>\n",
       "  </thead>\n",
       "  <tbody>\n",
       "    <tr>\n",
       "      <th>3</th>\n",
       "      <td>231</td>\n",
       "      <td>1587</td>\n",
       "      <td>taa</td>\n",
       "      <td>0</td>\n",
       "      <td>F</td>\n",
       "      <td>C</td>\n",
       "      <td>ATGACTGAAAATGAACAAATTTTTTGGAACAGGGTCTTGGAATTAG...</td>\n",
       "      <td>True</td>\n",
       "    </tr>\n",
       "    <tr>\n",
       "      <th>31</th>\n",
       "      <td>1741</td>\n",
       "      <td>2878</td>\n",
       "      <td>taa</td>\n",
       "      <td>1</td>\n",
       "      <td>F</td>\n",
       "      <td>C</td>\n",
       "      <td>ATGATTCAATTTTCAATTAATCGCACATTATTTATTCATGCTTTAA...</td>\n",
       "      <td>True</td>\n",
       "    </tr>\n",
       "    <tr>\n",
       "      <th>64</th>\n",
       "      <td>3479</td>\n",
       "      <td>4595</td>\n",
       "      <td>taa</td>\n",
       "      <td>2</td>\n",
       "      <td>F</td>\n",
       "      <td>C</td>\n",
       "      <td>ATGGCTTTAACAGCAGGTATTGTAGGCTTACCAAATGTTGGTAAAT...</td>\n",
       "      <td>True</td>\n",
       "    </tr>\n",
       "    <tr>\n",
       "      <th>96</th>\n",
       "      <td>4664</td>\n",
       "      <td>5234</td>\n",
       "      <td>taa</td>\n",
       "      <td>2</td>\n",
       "      <td>F</td>\n",
       "      <td>C</td>\n",
       "      <td>ATGGTAAAAATGATTGTTGGTCTGGGAAATCCAGGCTCTAAATATG...</td>\n",
       "      <td>True</td>\n",
       "    </tr>\n",
       "    <tr>\n",
       "      <th>270</th>\n",
       "      <td>12805</td>\n",
       "      <td>14785</td>\n",
       "      <td>tga</td>\n",
       "      <td>1</td>\n",
       "      <td>F</td>\n",
       "      <td>C</td>\n",
       "      <td>ATGAAAAATAATAAAAATAATGGTTTTGTTAAAAATTCTTTTATAT...</td>\n",
       "      <td>True</td>\n",
       "    </tr>\n",
       "    <tr>\n",
       "      <th>332</th>\n",
       "      <td>15109</td>\n",
       "      <td>16501</td>\n",
       "      <td>taa</td>\n",
       "      <td>1</td>\n",
       "      <td>F</td>\n",
       "      <td>C</td>\n",
       "      <td>ATGACTATTTTTCGTAAAAAAAAGAAATATTCCAATAAAACAGAAA...</td>\n",
       "      <td>True</td>\n",
       "    </tr>\n",
       "    <tr>\n",
       "      <th>576</th>\n",
       "      <td>30545</td>\n",
       "      <td>31742</td>\n",
       "      <td>taa</td>\n",
       "      <td>2</td>\n",
       "      <td>F</td>\n",
       "      <td>C</td>\n",
       "      <td>ATGAAAAAAAGAATTTTATCAGCAGTTCTTGTAAGTGGTGTTACCC...</td>\n",
       "      <td>True</td>\n",
       "    </tr>\n",
       "    <tr>\n",
       "      <th>596</th>\n",
       "      <td>31994</td>\n",
       "      <td>32957</td>\n",
       "      <td>taa</td>\n",
       "      <td>2</td>\n",
       "      <td>F</td>\n",
       "      <td>C</td>\n",
       "      <td>ATGTCTTATTCTGATTTAAAATTGTTTGCTTTATCGTCAAACAAGG...</td>\n",
       "      <td>True</td>\n",
       "    </tr>\n",
       "    <tr>\n",
       "      <th>683</th>\n",
       "      <td>35363</td>\n",
       "      <td>36098</td>\n",
       "      <td>taa</td>\n",
       "      <td>2</td>\n",
       "      <td>F</td>\n",
       "      <td>C</td>\n",
       "      <td>ATGAAAACAGAAAGAAAGGCGAATAATCAAGTGACTAACCAGCTTA...</td>\n",
       "      <td>True</td>\n",
       "    </tr>\n",
       "    <tr>\n",
       "      <th>762</th>\n",
       "      <td>40107</td>\n",
       "      <td>41562</td>\n",
       "      <td>taa</td>\n",
       "      <td>0</td>\n",
       "      <td>F</td>\n",
       "      <td>C</td>\n",
       "      <td>ATGACATACGAAGTAAAATCTCTAAATGAAGAATGTGGAGTCTTTG...</td>\n",
       "      <td>True</td>\n",
       "    </tr>\n",
       "    <tr>\n",
       "      <th>808</th>\n",
       "      <td>41589</td>\n",
       "      <td>42612</td>\n",
       "      <td>taa</td>\n",
       "      <td>0</td>\n",
       "      <td>F</td>\n",
       "      <td>C</td>\n",
       "      <td>ATGTCTGAAAAAAATGCTTATGCAAAATCTGGTGTTGATGTTGAAG...</td>\n",
       "      <td>True</td>\n",
       "    </tr>\n",
       "    <tr>\n",
       "      <th>920</th>\n",
       "      <td>48042</td>\n",
       "      <td>48534</td>\n",
       "      <td>taa</td>\n",
       "      <td>0</td>\n",
       "      <td>F</td>\n",
       "      <td>C</td>\n",
       "      <td>ATGAAAACTCCAATTATTTCTATTATCATGGGCTCCAAATCTGACT...</td>\n",
       "      <td>True</td>\n",
       "    </tr>\n",
       "    <tr>\n",
       "      <th>959</th>\n",
       "      <td>49620</td>\n",
       "      <td>51264</td>\n",
       "      <td>taa</td>\n",
       "      <td>0</td>\n",
       "      <td>F</td>\n",
       "      <td>C</td>\n",
       "      <td>ATGGCAAATATTCAAATAAATAGAATAAAAAGTAAATTGACAGAAC...</td>\n",
       "      <td>True</td>\n",
       "    </tr>\n",
       "    <tr>\n",
       "      <th>1000</th>\n",
       "      <td>51281</td>\n",
       "      <td>52574</td>\n",
       "      <td>taa</td>\n",
       "      <td>2</td>\n",
       "      <td>F</td>\n",
       "      <td>C</td>\n",
       "      <td>ATGCTAGAACGTTATTCACGCCCTGAGATGGCGGCAATTTGGACAG...</td>\n",
       "      <td>True</td>\n",
       "    </tr>\n",
       "    <tr>\n",
       "      <th>1028</th>\n",
       "      <td>52705</td>\n",
       "      <td>53617</td>\n",
       "      <td>taa</td>\n",
       "      <td>1</td>\n",
       "      <td>F</td>\n",
       "      <td>C</td>\n",
       "      <td>ATGTTAGAACATTTTGGTGGAAAAGTAAAAGTGTTAAGACTTGAAA...</td>\n",
       "      <td>True</td>\n",
       "    </tr>\n",
       "    <tr>\n",
       "      <th>1052</th>\n",
       "      <td>53842</td>\n",
       "      <td>54841</td>\n",
       "      <td>taa</td>\n",
       "      <td>1</td>\n",
       "      <td>F</td>\n",
       "      <td>C</td>\n",
       "      <td>ATGGCTAGAATTTTAGACAATAATGTAATGGGAAATGAGGAGTTTT...</td>\n",
       "      <td>True</td>\n",
       "    </tr>\n",
       "    <tr>\n",
       "      <th>1213</th>\n",
       "      <td>60814</td>\n",
       "      <td>61831</td>\n",
       "      <td>taa</td>\n",
       "      <td>1</td>\n",
       "      <td>F</td>\n",
       "      <td>C</td>\n",
       "      <td>ATGAAAGCCGTAGTTGTTAATCAAGCTAGTACAGGTGTCGAAGTTG...</td>\n",
       "      <td>True</td>\n",
       "    </tr>\n",
       "    <tr>\n",
       "      <th>1275</th>\n",
       "      <td>63711</td>\n",
       "      <td>64020</td>\n",
       "      <td>taa</td>\n",
       "      <td>0</td>\n",
       "      <td>F</td>\n",
       "      <td>C</td>\n",
       "      <td>ATGGCAAACAAAAAAATCCGTATCCGTTTGAAAGCGTACGAACACC...</td>\n",
       "      <td>True</td>\n",
       "    </tr>\n",
       "    <tr>\n",
       "      <th>1282</th>\n",
       "      <td>64267</td>\n",
       "      <td>64894</td>\n",
       "      <td>taa</td>\n",
       "      <td>1</td>\n",
       "      <td>F</td>\n",
       "      <td>C</td>\n",
       "      <td>ATGACAAAAGGAATCTTAGGGAAAAAAGTGGGAATGACTCAAATTT...</td>\n",
       "      <td>True</td>\n",
       "    </tr>\n",
       "    <tr>\n",
       "      <th>1292</th>\n",
       "      <td>64917</td>\n",
       "      <td>65541</td>\n",
       "      <td>taa</td>\n",
       "      <td>0</td>\n",
       "      <td>F</td>\n",
       "      <td>C</td>\n",
       "      <td>ATGGCAAACGTAAAACTATTTGACCAAACTGGTAAAGAAGTTAGCT...</td>\n",
       "      <td>True</td>\n",
       "    </tr>\n",
       "    <tr>\n",
       "      <th>1309</th>\n",
       "      <td>66826</td>\n",
       "      <td>67105</td>\n",
       "      <td>taa</td>\n",
       "      <td>1</td>\n",
       "      <td>F</td>\n",
       "      <td>C</td>\n",
       "      <td>ATGGGACGTAGTCTTAAAAAAGGACCTTTCGTCGATGAGCATTTGA...</td>\n",
       "      <td>True</td>\n",
       "    </tr>\n",
       "    <tr>\n",
       "      <th>1315</th>\n",
       "      <td>67120</td>\n",
       "      <td>67465</td>\n",
       "      <td>taa</td>\n",
       "      <td>1</td>\n",
       "      <td>F</td>\n",
       "      <td>C</td>\n",
       "      <td>ATGGCAGAAATTACTTCAGCTAAAGCAATGGCTCGTACAGTGCGTG...</td>\n",
       "      <td>True</td>\n",
       "    </tr>\n",
       "    <tr>\n",
       "      <th>1328</th>\n",
       "      <td>68134</td>\n",
       "      <td>68548</td>\n",
       "      <td>taa</td>\n",
       "      <td>1</td>\n",
       "      <td>F</td>\n",
       "      <td>C</td>\n",
       "      <td>ATGTTAGTACCTAAACGTGTTAAACACCGTCGCGAATTCCGTGGAA...</td>\n",
       "      <td>True</td>\n",
       "    </tr>\n",
       "    <tr>\n",
       "      <th>1334</th>\n",
       "      <td>68557</td>\n",
       "      <td>68764</td>\n",
       "      <td>taa</td>\n",
       "      <td>1</td>\n",
       "      <td>F</td>\n",
       "      <td>C</td>\n",
       "      <td>ATGAAACTTCAAGAAATTAAAGATTTTGTTAAAGAGCTTCGTGGAT...</td>\n",
       "      <td>True</td>\n",
       "    </tr>\n",
       "    <tr>\n",
       "      <th>1336</th>\n",
       "      <td>68789</td>\n",
       "      <td>69050</td>\n",
       "      <td>taa</td>\n",
       "      <td>2</td>\n",
       "      <td>F</td>\n",
       "      <td>C</td>\n",
       "      <td>ATGGAACGTAATCAACGTAAAACTCTTTACGGACGCGTAGTGTCTG...</td>\n",
       "      <td>True</td>\n",
       "    </tr>\n",
       "    <tr>\n",
       "      <th>1341</th>\n",
       "      <td>69074</td>\n",
       "      <td>69443</td>\n",
       "      <td>taa</td>\n",
       "      <td>2</td>\n",
       "      <td>F</td>\n",
       "      <td>C</td>\n",
       "      <td>ATGATTCAACAAGAAACTCGCTTGAAAGTTGCTGATAATAGCGGTG...</td>\n",
       "      <td>True</td>\n",
       "    </tr>\n",
       "    <tr>\n",
       "      <th>1346</th>\n",
       "      <td>69521</td>\n",
       "      <td>69827</td>\n",
       "      <td>taa</td>\n",
       "      <td>2</td>\n",
       "      <td>F</td>\n",
       "      <td>C</td>\n",
       "      <td>ATGTTTGTAAAAAAAGGCGACAAAGTTCGCGTAATTGCTGGCAAGG...</td>\n",
       "      <td>True</td>\n",
       "    </tr>\n",
       "    <tr>\n",
       "      <th>1351</th>\n",
       "      <td>69850</td>\n",
       "      <td>70393</td>\n",
       "      <td>taa</td>\n",
       "      <td>1</td>\n",
       "      <td>F</td>\n",
       "      <td>C</td>\n",
       "      <td>ATGGCAAATCGTTTAAAAGAAAAATATACTAACGAAGTAATTCCTG...</td>\n",
       "      <td>True</td>\n",
       "    </tr>\n",
       "    <tr>\n",
       "      <th>1364</th>\n",
       "      <td>70744</td>\n",
       "      <td>71143</td>\n",
       "      <td>taa</td>\n",
       "      <td>1</td>\n",
       "      <td>F</td>\n",
       "      <td>C</td>\n",
       "      <td>ATGGTTATGACTGACCCAATTGCAGACTTTTTAACACGTATCCGTA...</td>\n",
       "      <td>True</td>\n",
       "    </tr>\n",
       "    <tr>\n",
       "      <th>1374</th>\n",
       "      <td>71345</td>\n",
       "      <td>71882</td>\n",
       "      <td>taa</td>\n",
       "      <td>2</td>\n",
       "      <td>F</td>\n",
       "      <td>C</td>\n",
       "      <td>ATGTCACGTATTGGTAATAAAGTAATTACTATGCCTGCAGGCGTTG...</td>\n",
       "      <td>True</td>\n",
       "    </tr>\n",
       "    <tr>\n",
       "      <th>...</th>\n",
       "      <td>...</td>\n",
       "      <td>...</td>\n",
       "      <td>...</td>\n",
       "      <td>...</td>\n",
       "      <td>...</td>\n",
       "      <td>...</td>\n",
       "      <td>...</td>\n",
       "      <td>...</td>\n",
       "    </tr>\n",
       "    <tr>\n",
       "      <th>2502378</th>\n",
       "      <td>1628381</td>\n",
       "      <td>1632779</td>\n",
       "      <td>NaN</td>\n",
       "      <td>NaN</td>\n",
       "      <td>NaN</td>\n",
       "      <td>R</td>\n",
       "      <td>ATGTCAGATTTATTCGCTAAATTGATGGACCAGATAGAAATGCCAC...</td>\n",
       "      <td>True</td>\n",
       "    </tr>\n",
       "    <tr>\n",
       "      <th>2502379</th>\n",
       "      <td>1639164</td>\n",
       "      <td>1642662</td>\n",
       "      <td>NaN</td>\n",
       "      <td>NaN</td>\n",
       "      <td>NaN</td>\n",
       "      <td>R</td>\n",
       "      <td>ATGAAAAAGAAAGTCAACCAAGGATCAAAGCGCTATCAATATCTGT...</td>\n",
       "      <td>True</td>\n",
       "    </tr>\n",
       "    <tr>\n",
       "      <th>2502380</th>\n",
       "      <td>1649118</td>\n",
       "      <td>1651350</td>\n",
       "      <td>NaN</td>\n",
       "      <td>NaN</td>\n",
       "      <td>NaN</td>\n",
       "      <td>R</td>\n",
       "      <td>ATGAGGAACGAAATGGCAAAAATAATGAACGTAACAGGAGAAGAAG...</td>\n",
       "      <td>True</td>\n",
       "    </tr>\n",
       "    <tr>\n",
       "      <th>2502381</th>\n",
       "      <td>1654794</td>\n",
       "      <td>1656981</td>\n",
       "      <td>NaN</td>\n",
       "      <td>NaN</td>\n",
       "      <td>NaN</td>\n",
       "      <td>R</td>\n",
       "      <td>ATGAAAACATCATTCAAGCAACTGTTTCGTTTCGAATTTTGGCAAA...</td>\n",
       "      <td>True</td>\n",
       "    </tr>\n",
       "    <tr>\n",
       "      <th>2502382</th>\n",
       "      <td>1664430</td>\n",
       "      <td>1664937</td>\n",
       "      <td>NaN</td>\n",
       "      <td>NaN</td>\n",
       "      <td>NaN</td>\n",
       "      <td>C</td>\n",
       "      <td>TTGAAAATTGCCATCATTGGACATAGTGGCTCTGGCAAGTCAACCT...</td>\n",
       "      <td>True</td>\n",
       "    </tr>\n",
       "    <tr>\n",
       "      <th>2502383</th>\n",
       "      <td>1666615</td>\n",
       "      <td>1668244</td>\n",
       "      <td>NaN</td>\n",
       "      <td>NaN</td>\n",
       "      <td>NaN</td>\n",
       "      <td>C</td>\n",
       "      <td>GTGTCAAAATACCTAAAATACTTCTCTATTATCACGTTATTTTTGA...</td>\n",
       "      <td>True</td>\n",
       "    </tr>\n",
       "    <tr>\n",
       "      <th>2502384</th>\n",
       "      <td>1668356</td>\n",
       "      <td>1669334</td>\n",
       "      <td>NaN</td>\n",
       "      <td>NaN</td>\n",
       "      <td>NaN</td>\n",
       "      <td>C</td>\n",
       "      <td>GTGAAACGTACTACCATTATTATCATCTGGAAAATCATCAGATGTG...</td>\n",
       "      <td>True</td>\n",
       "    </tr>\n",
       "    <tr>\n",
       "      <th>2502385</th>\n",
       "      <td>1672026</td>\n",
       "      <td>1674504</td>\n",
       "      <td>NaN</td>\n",
       "      <td>NaN</td>\n",
       "      <td>NaN</td>\n",
       "      <td>R</td>\n",
       "      <td>GTGAAGAAAACATATGGTTATATCGGCTCAGTTGCTGCTATTTTAC...</td>\n",
       "      <td>True</td>\n",
       "    </tr>\n",
       "    <tr>\n",
       "      <th>2502386</th>\n",
       "      <td>1676908</td>\n",
       "      <td>1680454</td>\n",
       "      <td>NaN</td>\n",
       "      <td>NaN</td>\n",
       "      <td>NaN</td>\n",
       "      <td>R</td>\n",
       "      <td>TTGCGTAAAAAACAAAAATTACCATTTGATAAACTTGCCATTGCGC...</td>\n",
       "      <td>True</td>\n",
       "    </tr>\n",
       "    <tr>\n",
       "      <th>2502387</th>\n",
       "      <td>1689747</td>\n",
       "      <td>1691136</td>\n",
       "      <td>NaN</td>\n",
       "      <td>NaN</td>\n",
       "      <td>NaN</td>\n",
       "      <td>R</td>\n",
       "      <td>GTGAGACTAATCAAAAAAACCTTTTTGGTCATCAATGGCTTAATTA...</td>\n",
       "      <td>True</td>\n",
       "    </tr>\n",
       "    <tr>\n",
       "      <th>2502388</th>\n",
       "      <td>1693109</td>\n",
       "      <td>1693784</td>\n",
       "      <td>NaN</td>\n",
       "      <td>NaN</td>\n",
       "      <td>NaN</td>\n",
       "      <td>R</td>\n",
       "      <td>TTGTTAAACCTTAAAGATATTCGAAAAAGCTATCATCTTGGAACTG...</td>\n",
       "      <td>True</td>\n",
       "    </tr>\n",
       "    <tr>\n",
       "      <th>2502389</th>\n",
       "      <td>1705476</td>\n",
       "      <td>1707894</td>\n",
       "      <td>NaN</td>\n",
       "      <td>NaN</td>\n",
       "      <td>NaN</td>\n",
       "      <td>R</td>\n",
       "      <td>ATGACTGAAACAAAAAGCCCTTATTTTGGACATTTAACAGACAGAA...</td>\n",
       "      <td>True</td>\n",
       "    </tr>\n",
       "    <tr>\n",
       "      <th>2502390</th>\n",
       "      <td>1713630</td>\n",
       "      <td>1715967</td>\n",
       "      <td>NaN</td>\n",
       "      <td>NaN</td>\n",
       "      <td>NaN</td>\n",
       "      <td>R</td>\n",
       "      <td>ATGAGATTTCTAGAACTTTTACAAAAGAAATTTTTTCCTAAAGCAT...</td>\n",
       "      <td>True</td>\n",
       "    </tr>\n",
       "    <tr>\n",
       "      <th>2502391</th>\n",
       "      <td>1717144</td>\n",
       "      <td>1717963</td>\n",
       "      <td>NaN</td>\n",
       "      <td>NaN</td>\n",
       "      <td>NaN</td>\n",
       "      <td>C</td>\n",
       "      <td>TTGTTAATTCCCCGTAAAATTAGGCATTTTCTGAGAACTAAAAAAC...</td>\n",
       "      <td>True</td>\n",
       "    </tr>\n",
       "    <tr>\n",
       "      <th>2502392</th>\n",
       "      <td>1718051</td>\n",
       "      <td>1719776</td>\n",
       "      <td>NaN</td>\n",
       "      <td>NaN</td>\n",
       "      <td>NaN</td>\n",
       "      <td>R</td>\n",
       "      <td>GTGAACTATCTAGGTTTCTTCGAAAATCCATTAGCCATTTATGATA...</td>\n",
       "      <td>True</td>\n",
       "    </tr>\n",
       "    <tr>\n",
       "      <th>2502393</th>\n",
       "      <td>1724772</td>\n",
       "      <td>1727217</td>\n",
       "      <td>NaN</td>\n",
       "      <td>NaN</td>\n",
       "      <td>NaN</td>\n",
       "      <td>R</td>\n",
       "      <td>ATGATTATGTATTCAACGAAGATGCAAGACATTTTTAGACAGGCGC...</td>\n",
       "      <td>True</td>\n",
       "    </tr>\n",
       "    <tr>\n",
       "      <th>2502394</th>\n",
       "      <td>1732800</td>\n",
       "      <td>1734831</td>\n",
       "      <td>NaN</td>\n",
       "      <td>NaN</td>\n",
       "      <td>NaN</td>\n",
       "      <td>C</td>\n",
       "      <td>ATGTCATTTTACAGTGAAACTGACATAGCTGCCGCTATGACTGTTA...</td>\n",
       "      <td>True</td>\n",
       "    </tr>\n",
       "    <tr>\n",
       "      <th>2502395</th>\n",
       "      <td>1743082</td>\n",
       "      <td>1746157</td>\n",
       "      <td>NaN</td>\n",
       "      <td>NaN</td>\n",
       "      <td>NaN</td>\n",
       "      <td>R</td>\n",
       "      <td>ATGACGAAGGGTATTCGATTTCAATTGCTTGGCAGTCCCCACATTT...</td>\n",
       "      <td>True</td>\n",
       "    </tr>\n",
       "    <tr>\n",
       "      <th>2502396</th>\n",
       "      <td>1752365</td>\n",
       "      <td>1754390</td>\n",
       "      <td>NaN</td>\n",
       "      <td>NaN</td>\n",
       "      <td>NaN</td>\n",
       "      <td>R</td>\n",
       "      <td>ATGGGAAAATTTGAACAGGATGCTAAGAGTCTTCTAACTGCTATTG...</td>\n",
       "      <td>True</td>\n",
       "    </tr>\n",
       "    <tr>\n",
       "      <th>2502397</th>\n",
       "      <td>1760345</td>\n",
       "      <td>1762544</td>\n",
       "      <td>NaN</td>\n",
       "      <td>NaN</td>\n",
       "      <td>NaN</td>\n",
       "      <td>R</td>\n",
       "      <td>ATGGTAAGTTTAGAAGAAGACAAGGTGACTGTTCAACCTGATATTA...</td>\n",
       "      <td>True</td>\n",
       "    </tr>\n",
       "    <tr>\n",
       "      <th>2502398</th>\n",
       "      <td>1762640</td>\n",
       "      <td>1764200</td>\n",
       "      <td>NaN</td>\n",
       "      <td>NaN</td>\n",
       "      <td>NaN</td>\n",
       "      <td>R</td>\n",
       "      <td>GTGATCGAGTTAAACGATGAATTCATCCGAAAAGAGACGATAGAAC...</td>\n",
       "      <td>True</td>\n",
       "    </tr>\n",
       "    <tr>\n",
       "      <th>2502399</th>\n",
       "      <td>1766416</td>\n",
       "      <td>1767553</td>\n",
       "      <td>NaN</td>\n",
       "      <td>NaN</td>\n",
       "      <td>NaN</td>\n",
       "      <td>R</td>\n",
       "      <td>TTGGCAAAAAAATTAAAAAAGAATGAAGAAATCACTAAGAAGTTTG...</td>\n",
       "      <td>True</td>\n",
       "    </tr>\n",
       "    <tr>\n",
       "      <th>2502400</th>\n",
       "      <td>1785831</td>\n",
       "      <td>1786407</td>\n",
       "      <td>NaN</td>\n",
       "      <td>NaN</td>\n",
       "      <td>NaN</td>\n",
       "      <td>C</td>\n",
       "      <td>TTGATATTTAATTTTAAGGAGAATATAGTGAAAAAGAAATTAGTTT...</td>\n",
       "      <td>True</td>\n",
       "    </tr>\n",
       "    <tr>\n",
       "      <th>2502401</th>\n",
       "      <td>1787020</td>\n",
       "      <td>1789576</td>\n",
       "      <td>NaN</td>\n",
       "      <td>NaN</td>\n",
       "      <td>NaN</td>\n",
       "      <td>R</td>\n",
       "      <td>ATGGCAAAAACTAACATTTCTCCTGGAATGCAACAGTATCTGGACA...</td>\n",
       "      <td>True</td>\n",
       "    </tr>\n",
       "    <tr>\n",
       "      <th>2502402</th>\n",
       "      <td>1801729</td>\n",
       "      <td>1802482</td>\n",
       "      <td>NaN</td>\n",
       "      <td>NaN</td>\n",
       "      <td>NaN</td>\n",
       "      <td>C</td>\n",
       "      <td>TTGGCGATTCCTGATTTAGATAAATTTTCATCTAACTTACAACAGG...</td>\n",
       "      <td>True</td>\n",
       "    </tr>\n",
       "    <tr>\n",
       "      <th>2502403</th>\n",
       "      <td>1808122</td>\n",
       "      <td>1810396</td>\n",
       "      <td>NaN</td>\n",
       "      <td>NaN</td>\n",
       "      <td>NaN</td>\n",
       "      <td>R</td>\n",
       "      <td>ATGTTAGAAGAATTGAAAACACTTATTAAAAATCCAAAATTAATGA...</td>\n",
       "      <td>True</td>\n",
       "    </tr>\n",
       "    <tr>\n",
       "      <th>2502404</th>\n",
       "      <td>1820108</td>\n",
       "      <td>1820426</td>\n",
       "      <td>NaN</td>\n",
       "      <td>NaN</td>\n",
       "      <td>NaN</td>\n",
       "      <td>R</td>\n",
       "      <td>TTGATTGTTAGAAATGGTAAGAATTTTTTAACTAGAGATGCAGATG...</td>\n",
       "      <td>True</td>\n",
       "    </tr>\n",
       "    <tr>\n",
       "      <th>2502405</th>\n",
       "      <td>1832624</td>\n",
       "      <td>1833884</td>\n",
       "      <td>NaN</td>\n",
       "      <td>NaN</td>\n",
       "      <td>NaN</td>\n",
       "      <td>C</td>\n",
       "      <td>GTGCCTATTTTTAAAAAAACTTTAATTGTTTTATCCTTTATTTTTT...</td>\n",
       "      <td>True</td>\n",
       "    </tr>\n",
       "    <tr>\n",
       "      <th>2502406</th>\n",
       "      <td>1843353</td>\n",
       "      <td>1844973</td>\n",
       "      <td>NaN</td>\n",
       "      <td>NaN</td>\n",
       "      <td>NaN</td>\n",
       "      <td>C</td>\n",
       "      <td>TTGCTTACAGTTTCTGATGTATCACTACGCTTTAGTGATCGAAAAC...</td>\n",
       "      <td>True</td>\n",
       "    </tr>\n",
       "    <tr>\n",
       "      <th>2502407</th>\n",
       "      <td>1845055</td>\n",
       "      <td>1847632</td>\n",
       "      <td>NaN</td>\n",
       "      <td>NaN</td>\n",
       "      <td>NaN</td>\n",
       "      <td>C</td>\n",
       "      <td>ATGAAAAATAATAATAAATGGATAATTGCTGGACTTGCTAGTTTTT...</td>\n",
       "      <td>True</td>\n",
       "    </tr>\n",
       "  </tbody>\n",
       "</table>\n",
       "<p>1448 rows × 8 columns</p>\n",
       "</div>"
      ],
      "text/plain": [
       "           start      end end_codon  shift strand state  \\\n",
       "3            231     1587       taa      0      F     C   \n",
       "31          1741     2878       taa      1      F     C   \n",
       "64          3479     4595       taa      2      F     C   \n",
       "96          4664     5234       taa      2      F     C   \n",
       "270        12805    14785       tga      1      F     C   \n",
       "332        15109    16501       taa      1      F     C   \n",
       "576        30545    31742       taa      2      F     C   \n",
       "596        31994    32957       taa      2      F     C   \n",
       "683        35363    36098       taa      2      F     C   \n",
       "762        40107    41562       taa      0      F     C   \n",
       "808        41589    42612       taa      0      F     C   \n",
       "920        48042    48534       taa      0      F     C   \n",
       "959        49620    51264       taa      0      F     C   \n",
       "1000       51281    52574       taa      2      F     C   \n",
       "1028       52705    53617       taa      1      F     C   \n",
       "1052       53842    54841       taa      1      F     C   \n",
       "1213       60814    61831       taa      1      F     C   \n",
       "1275       63711    64020       taa      0      F     C   \n",
       "1282       64267    64894       taa      1      F     C   \n",
       "1292       64917    65541       taa      0      F     C   \n",
       "1309       66826    67105       taa      1      F     C   \n",
       "1315       67120    67465       taa      1      F     C   \n",
       "1328       68134    68548       taa      1      F     C   \n",
       "1334       68557    68764       taa      1      F     C   \n",
       "1336       68789    69050       taa      2      F     C   \n",
       "1341       69074    69443       taa      2      F     C   \n",
       "1346       69521    69827       taa      2      F     C   \n",
       "1351       69850    70393       taa      1      F     C   \n",
       "1364       70744    71143       taa      1      F     C   \n",
       "1374       71345    71882       taa      2      F     C   \n",
       "...          ...      ...       ...    ...    ...   ...   \n",
       "2502378  1628381  1632779       NaN    NaN    NaN     R   \n",
       "2502379  1639164  1642662       NaN    NaN    NaN     R   \n",
       "2502380  1649118  1651350       NaN    NaN    NaN     R   \n",
       "2502381  1654794  1656981       NaN    NaN    NaN     R   \n",
       "2502382  1664430  1664937       NaN    NaN    NaN     C   \n",
       "2502383  1666615  1668244       NaN    NaN    NaN     C   \n",
       "2502384  1668356  1669334       NaN    NaN    NaN     C   \n",
       "2502385  1672026  1674504       NaN    NaN    NaN     R   \n",
       "2502386  1676908  1680454       NaN    NaN    NaN     R   \n",
       "2502387  1689747  1691136       NaN    NaN    NaN     R   \n",
       "2502388  1693109  1693784       NaN    NaN    NaN     R   \n",
       "2502389  1705476  1707894       NaN    NaN    NaN     R   \n",
       "2502390  1713630  1715967       NaN    NaN    NaN     R   \n",
       "2502391  1717144  1717963       NaN    NaN    NaN     C   \n",
       "2502392  1718051  1719776       NaN    NaN    NaN     R   \n",
       "2502393  1724772  1727217       NaN    NaN    NaN     R   \n",
       "2502394  1732800  1734831       NaN    NaN    NaN     C   \n",
       "2502395  1743082  1746157       NaN    NaN    NaN     R   \n",
       "2502396  1752365  1754390       NaN    NaN    NaN     R   \n",
       "2502397  1760345  1762544       NaN    NaN    NaN     R   \n",
       "2502398  1762640  1764200       NaN    NaN    NaN     R   \n",
       "2502399  1766416  1767553       NaN    NaN    NaN     R   \n",
       "2502400  1785831  1786407       NaN    NaN    NaN     C   \n",
       "2502401  1787020  1789576       NaN    NaN    NaN     R   \n",
       "2502402  1801729  1802482       NaN    NaN    NaN     C   \n",
       "2502403  1808122  1810396       NaN    NaN    NaN     R   \n",
       "2502404  1820108  1820426       NaN    NaN    NaN     R   \n",
       "2502405  1832624  1833884       NaN    NaN    NaN     C   \n",
       "2502406  1843353  1844973       NaN    NaN    NaN     C   \n",
       "2502407  1845055  1847632       NaN    NaN    NaN     C   \n",
       "\n",
       "                                                       seq  true  \n",
       "3        ATGACTGAAAATGAACAAATTTTTTGGAACAGGGTCTTGGAATTAG...  True  \n",
       "31       ATGATTCAATTTTCAATTAATCGCACATTATTTATTCATGCTTTAA...  True  \n",
       "64       ATGGCTTTAACAGCAGGTATTGTAGGCTTACCAAATGTTGGTAAAT...  True  \n",
       "96       ATGGTAAAAATGATTGTTGGTCTGGGAAATCCAGGCTCTAAATATG...  True  \n",
       "270      ATGAAAAATAATAAAAATAATGGTTTTGTTAAAAATTCTTTTATAT...  True  \n",
       "332      ATGACTATTTTTCGTAAAAAAAAGAAATATTCCAATAAAACAGAAA...  True  \n",
       "576      ATGAAAAAAAGAATTTTATCAGCAGTTCTTGTAAGTGGTGTTACCC...  True  \n",
       "596      ATGTCTTATTCTGATTTAAAATTGTTTGCTTTATCGTCAAACAAGG...  True  \n",
       "683      ATGAAAACAGAAAGAAAGGCGAATAATCAAGTGACTAACCAGCTTA...  True  \n",
       "762      ATGACATACGAAGTAAAATCTCTAAATGAAGAATGTGGAGTCTTTG...  True  \n",
       "808      ATGTCTGAAAAAAATGCTTATGCAAAATCTGGTGTTGATGTTGAAG...  True  \n",
       "920      ATGAAAACTCCAATTATTTCTATTATCATGGGCTCCAAATCTGACT...  True  \n",
       "959      ATGGCAAATATTCAAATAAATAGAATAAAAAGTAAATTGACAGAAC...  True  \n",
       "1000     ATGCTAGAACGTTATTCACGCCCTGAGATGGCGGCAATTTGGACAG...  True  \n",
       "1028     ATGTTAGAACATTTTGGTGGAAAAGTAAAAGTGTTAAGACTTGAAA...  True  \n",
       "1052     ATGGCTAGAATTTTAGACAATAATGTAATGGGAAATGAGGAGTTTT...  True  \n",
       "1213     ATGAAAGCCGTAGTTGTTAATCAAGCTAGTACAGGTGTCGAAGTTG...  True  \n",
       "1275     ATGGCAAACAAAAAAATCCGTATCCGTTTGAAAGCGTACGAACACC...  True  \n",
       "1282     ATGACAAAAGGAATCTTAGGGAAAAAAGTGGGAATGACTCAAATTT...  True  \n",
       "1292     ATGGCAAACGTAAAACTATTTGACCAAACTGGTAAAGAAGTTAGCT...  True  \n",
       "1309     ATGGGACGTAGTCTTAAAAAAGGACCTTTCGTCGATGAGCATTTGA...  True  \n",
       "1315     ATGGCAGAAATTACTTCAGCTAAAGCAATGGCTCGTACAGTGCGTG...  True  \n",
       "1328     ATGTTAGTACCTAAACGTGTTAAACACCGTCGCGAATTCCGTGGAA...  True  \n",
       "1334     ATGAAACTTCAAGAAATTAAAGATTTTGTTAAAGAGCTTCGTGGAT...  True  \n",
       "1336     ATGGAACGTAATCAACGTAAAACTCTTTACGGACGCGTAGTGTCTG...  True  \n",
       "1341     ATGATTCAACAAGAAACTCGCTTGAAAGTTGCTGATAATAGCGGTG...  True  \n",
       "1346     ATGTTTGTAAAAAAAGGCGACAAAGTTCGCGTAATTGCTGGCAAGG...  True  \n",
       "1351     ATGGCAAATCGTTTAAAAGAAAAATATACTAACGAAGTAATTCCTG...  True  \n",
       "1364     ATGGTTATGACTGACCCAATTGCAGACTTTTTAACACGTATCCGTA...  True  \n",
       "1374     ATGTCACGTATTGGTAATAAAGTAATTACTATGCCTGCAGGCGTTG...  True  \n",
       "...                                                    ...   ...  \n",
       "2502378  ATGTCAGATTTATTCGCTAAATTGATGGACCAGATAGAAATGCCAC...  True  \n",
       "2502379  ATGAAAAAGAAAGTCAACCAAGGATCAAAGCGCTATCAATATCTGT...  True  \n",
       "2502380  ATGAGGAACGAAATGGCAAAAATAATGAACGTAACAGGAGAAGAAG...  True  \n",
       "2502381  ATGAAAACATCATTCAAGCAACTGTTTCGTTTCGAATTTTGGCAAA...  True  \n",
       "2502382  TTGAAAATTGCCATCATTGGACATAGTGGCTCTGGCAAGTCAACCT...  True  \n",
       "2502383  GTGTCAAAATACCTAAAATACTTCTCTATTATCACGTTATTTTTGA...  True  \n",
       "2502384  GTGAAACGTACTACCATTATTATCATCTGGAAAATCATCAGATGTG...  True  \n",
       "2502385  GTGAAGAAAACATATGGTTATATCGGCTCAGTTGCTGCTATTTTAC...  True  \n",
       "2502386  TTGCGTAAAAAACAAAAATTACCATTTGATAAACTTGCCATTGCGC...  True  \n",
       "2502387  GTGAGACTAATCAAAAAAACCTTTTTGGTCATCAATGGCTTAATTA...  True  \n",
       "2502388  TTGTTAAACCTTAAAGATATTCGAAAAAGCTATCATCTTGGAACTG...  True  \n",
       "2502389  ATGACTGAAACAAAAAGCCCTTATTTTGGACATTTAACAGACAGAA...  True  \n",
       "2502390  ATGAGATTTCTAGAACTTTTACAAAAGAAATTTTTTCCTAAAGCAT...  True  \n",
       "2502391  TTGTTAATTCCCCGTAAAATTAGGCATTTTCTGAGAACTAAAAAAC...  True  \n",
       "2502392  GTGAACTATCTAGGTTTCTTCGAAAATCCATTAGCCATTTATGATA...  True  \n",
       "2502393  ATGATTATGTATTCAACGAAGATGCAAGACATTTTTAGACAGGCGC...  True  \n",
       "2502394  ATGTCATTTTACAGTGAAACTGACATAGCTGCCGCTATGACTGTTA...  True  \n",
       "2502395  ATGACGAAGGGTATTCGATTTCAATTGCTTGGCAGTCCCCACATTT...  True  \n",
       "2502396  ATGGGAAAATTTGAACAGGATGCTAAGAGTCTTCTAACTGCTATTG...  True  \n",
       "2502397  ATGGTAAGTTTAGAAGAAGACAAGGTGACTGTTCAACCTGATATTA...  True  \n",
       "2502398  GTGATCGAGTTAAACGATGAATTCATCCGAAAAGAGACGATAGAAC...  True  \n",
       "2502399  TTGGCAAAAAAATTAAAAAAGAATGAAGAAATCACTAAGAAGTTTG...  True  \n",
       "2502400  TTGATATTTAATTTTAAGGAGAATATAGTGAAAAAGAAATTAGTTT...  True  \n",
       "2502401  ATGGCAAAAACTAACATTTCTCCTGGAATGCAACAGTATCTGGACA...  True  \n",
       "2502402  TTGGCGATTCCTGATTTAGATAAATTTTCATCTAACTTACAACAGG...  True  \n",
       "2502403  ATGTTAGAAGAATTGAAAACACTTATTAAAAATCCAAAATTAATGA...  True  \n",
       "2502404  TTGATTGTTAGAAATGGTAAGAATTTTTTAACTAGAGATGCAGATG...  True  \n",
       "2502405  GTGCCTATTTTTAAAAAAACTTTAATTGTTTTATCCTTTATTTTTT...  True  \n",
       "2502406  TTGCTTACAGTTTCTGATGTATCACTACGCTTTAGTGATCGAAAAC...  True  \n",
       "2502407  ATGAAAAATAATAATAAATGGATAATTGCTGGACTTGCTAGTTTTT...  True  \n",
       "\n",
       "[1448 rows x 8 columns]"
      ]
     },
     "execution_count": 87,
     "metadata": {},
     "output_type": "execute_result"
    }
   ],
   "source": [
    "merged_df[merged_df.true == True]"
   ]
  },
  {
   "cell_type": "code",
   "execution_count": 22,
   "metadata": {
    "collapsed": false
   },
   "outputs": [
    {
     "name": "stdout",
     "output_type": "stream",
     "text": [
      "Calculated sequence lengths...\n"
     ]
    }
   ],
   "source": [
    "## Add length of each sequence\n",
    "df[\"len\"] = df.apply(lambda x: x[1] - x[0],axis=1) #x[1] - x[0])\n",
    "print(\"Calculated sequence lengths...\")"
   ]
  },
  {
   "cell_type": "code",
   "execution_count": 26,
   "metadata": {
    "collapsed": false
   },
   "outputs": [
    {
     "data": {
      "text/html": [
       "<div>\n",
       "<table border=\"1\" class=\"dataframe\">\n",
       "  <thead>\n",
       "    <tr style=\"text-align: right;\">\n",
       "      <th></th>\n",
       "      <th>start</th>\n",
       "      <th>end</th>\n",
       "    </tr>\n",
       "  </thead>\n",
       "  <tbody>\n",
       "    <tr>\n",
       "      <th>0</th>\n",
       "      <td>37</td>\n",
       "      <td>112</td>\n",
       "    </tr>\n",
       "    <tr>\n",
       "      <th>1</th>\n",
       "      <td>76</td>\n",
       "      <td>112</td>\n",
       "    </tr>\n",
       "    <tr>\n",
       "      <th>2</th>\n",
       "      <td>188</td>\n",
       "      <td>347</td>\n",
       "    </tr>\n",
       "    <tr>\n",
       "      <th>3</th>\n",
       "      <td>231</td>\n",
       "      <td>1587</td>\n",
       "    </tr>\n",
       "    <tr>\n",
       "      <th>4</th>\n",
       "      <td>241</td>\n",
       "      <td>292</td>\n",
       "    </tr>\n",
       "  </tbody>\n",
       "</table>\n",
       "</div>"
      ],
      "text/plain": [
       "   start   end\n",
       "0     37   112\n",
       "1     76   112\n",
       "2    188   347\n",
       "3    231  1587\n",
       "4    241   292"
      ]
     },
     "execution_count": 26,
     "metadata": {},
     "output_type": "execute_result"
    }
   ],
   "source": [
    "df[df.strand == 'F'][[\"start\",\"end\"]].head()"
   ]
  },
  {
   "cell_type": "code",
   "execution_count": 116,
   "metadata": {
    "collapsed": false
   },
   "outputs": [
    {
     "ename": "KeyboardInterrupt",
     "evalue": "",
     "output_type": "error",
     "traceback": [
      "\u001b[0;31m---------------------------------------------------------------------------\u001b[0m",
      "\u001b[0;31mKeyboardInterrupt\u001b[0m                         Traceback (most recent call last)",
      "\u001b[0;32m<ipython-input-116-3dafa92a3aa8>\u001b[0m in \u001b[0;36m<module>\u001b[0;34m()\u001b[0m\n\u001b[1;32m      1\u001b[0m \u001b[0;31m## Obtain potential gene sequence  -- TIME SUCK\u001b[0m\u001b[0;34m\u001b[0m\u001b[0;34m\u001b[0m\u001b[0m\n\u001b[0;32m----> 2\u001b[0;31m \u001b[0mdf\u001b[0m\u001b[0;34m[\u001b[0m\u001b[0;34m\"seq\"\u001b[0m\u001b[0;34m]\u001b[0m \u001b[0;34m=\u001b[0m \u001b[0mdf\u001b[0m\u001b[0;34m.\u001b[0m\u001b[0mapply\u001b[0m\u001b[0;34m(\u001b[0m\u001b[0;32mlambda\u001b[0m \u001b[0mx\u001b[0m\u001b[0;34m:\u001b[0m \u001b[0mdata\u001b[0m\u001b[0;34m[\u001b[0m\u001b[0mx\u001b[0m\u001b[0;34m[\u001b[0m\u001b[0;36m0\u001b[0m\u001b[0;34m]\u001b[0m\u001b[0;34m:\u001b[0m\u001b[0mx\u001b[0m\u001b[0;34m[\u001b[0m\u001b[0;36m1\u001b[0m\u001b[0;34m]\u001b[0m\u001b[0;34m]\u001b[0m\u001b[0;34m,\u001b[0m\u001b[0maxis\u001b[0m\u001b[0;34m=\u001b[0m\u001b[0;36m1\u001b[0m\u001b[0;34m)\u001b[0m\u001b[0;34m\u001b[0m\u001b[0m\n\u001b[0m\u001b[1;32m      3\u001b[0m \u001b[0mprint\u001b[0m\u001b[0;34m(\u001b[0m\u001b[0;34m\"Obtained potential sequences...\"\u001b[0m\u001b[0;34m)\u001b[0m\u001b[0;34m\u001b[0m\u001b[0m\n\u001b[1;32m      4\u001b[0m \u001b[0;34m\u001b[0m\u001b[0m\n\u001b[1;32m      5\u001b[0m \u001b[0;31m## Nucleotide Frequencies for each Potential Gene\u001b[0m\u001b[0;34m\u001b[0m\u001b[0;34m\u001b[0m\u001b[0m\n",
      "\u001b[0;32m/Users/ingrid/anaconda/lib/python3.5/site-packages/pandas/core/frame.py\u001b[0m in \u001b[0;36mapply\u001b[0;34m(self, func, axis, broadcast, raw, reduce, args, **kwds)\u001b[0m\n\u001b[1;32m   3970\u001b[0m                     \u001b[0;32mif\u001b[0m \u001b[0mreduce\u001b[0m \u001b[0;32mis\u001b[0m \u001b[0;32mNone\u001b[0m\u001b[0;34m:\u001b[0m\u001b[0;34m\u001b[0m\u001b[0m\n\u001b[1;32m   3971\u001b[0m                         \u001b[0mreduce\u001b[0m \u001b[0;34m=\u001b[0m \u001b[0;32mTrue\u001b[0m\u001b[0;34m\u001b[0m\u001b[0m\n\u001b[0;32m-> 3972\u001b[0;31m                     \u001b[0;32mreturn\u001b[0m \u001b[0mself\u001b[0m\u001b[0;34m.\u001b[0m\u001b[0m_apply_standard\u001b[0m\u001b[0;34m(\u001b[0m\u001b[0mf\u001b[0m\u001b[0;34m,\u001b[0m \u001b[0maxis\u001b[0m\u001b[0;34m,\u001b[0m \u001b[0mreduce\u001b[0m\u001b[0;34m=\u001b[0m\u001b[0mreduce\u001b[0m\u001b[0;34m)\u001b[0m\u001b[0;34m\u001b[0m\u001b[0m\n\u001b[0m\u001b[1;32m   3973\u001b[0m             \u001b[0;32melse\u001b[0m\u001b[0;34m:\u001b[0m\u001b[0;34m\u001b[0m\u001b[0m\n\u001b[1;32m   3974\u001b[0m                 \u001b[0;32mreturn\u001b[0m \u001b[0mself\u001b[0m\u001b[0;34m.\u001b[0m\u001b[0m_apply_broadcast\u001b[0m\u001b[0;34m(\u001b[0m\u001b[0mf\u001b[0m\u001b[0;34m,\u001b[0m \u001b[0maxis\u001b[0m\u001b[0;34m)\u001b[0m\u001b[0;34m\u001b[0m\u001b[0m\n",
      "\u001b[0;32m/Users/ingrid/anaconda/lib/python3.5/site-packages/pandas/core/frame.py\u001b[0m in \u001b[0;36m_apply_standard\u001b[0;34m(self, func, axis, ignore_failures, reduce)\u001b[0m\n\u001b[1;32m   4024\u001b[0m                 \u001b[0mlabels\u001b[0m \u001b[0;34m=\u001b[0m \u001b[0mself\u001b[0m\u001b[0;34m.\u001b[0m\u001b[0m_get_agg_axis\u001b[0m\u001b[0;34m(\u001b[0m\u001b[0maxis\u001b[0m\u001b[0;34m)\u001b[0m\u001b[0;34m\u001b[0m\u001b[0m\n\u001b[1;32m   4025\u001b[0m                 result = lib.reduce(values, func, axis=axis, dummy=dummy,\n\u001b[0;32m-> 4026\u001b[0;31m                                     labels=labels)\n\u001b[0m\u001b[1;32m   4027\u001b[0m                 \u001b[0;32mreturn\u001b[0m \u001b[0mSeries\u001b[0m\u001b[0;34m(\u001b[0m\u001b[0mresult\u001b[0m\u001b[0;34m,\u001b[0m \u001b[0mindex\u001b[0m\u001b[0;34m=\u001b[0m\u001b[0mlabels\u001b[0m\u001b[0;34m)\u001b[0m\u001b[0;34m\u001b[0m\u001b[0m\n\u001b[1;32m   4028\u001b[0m             \u001b[0;32mexcept\u001b[0m \u001b[0mException\u001b[0m\u001b[0;34m:\u001b[0m\u001b[0;34m\u001b[0m\u001b[0m\n",
      "\u001b[0;32mpandas/src/reduce.pyx\u001b[0m in \u001b[0;36mpandas.lib.reduce (pandas/lib.c:43773)\u001b[0;34m()\u001b[0m\n",
      "\u001b[0;32mpandas/src/reduce.pyx\u001b[0m in \u001b[0;36mpandas.lib.Reducer.get_result (pandas/lib.c:33913)\u001b[0;34m()\u001b[0m\n",
      "\u001b[0;32m<ipython-input-116-3dafa92a3aa8>\u001b[0m in \u001b[0;36m<lambda>\u001b[0;34m(x)\u001b[0m\n\u001b[1;32m      1\u001b[0m \u001b[0;31m## Obtain potential gene sequence  -- TIME SUCK\u001b[0m\u001b[0;34m\u001b[0m\u001b[0;34m\u001b[0m\u001b[0m\n\u001b[0;32m----> 2\u001b[0;31m \u001b[0mdf\u001b[0m\u001b[0;34m[\u001b[0m\u001b[0;34m\"seq\"\u001b[0m\u001b[0;34m]\u001b[0m \u001b[0;34m=\u001b[0m \u001b[0mdf\u001b[0m\u001b[0;34m.\u001b[0m\u001b[0mapply\u001b[0m\u001b[0;34m(\u001b[0m\u001b[0;32mlambda\u001b[0m \u001b[0mx\u001b[0m\u001b[0;34m:\u001b[0m \u001b[0mdata\u001b[0m\u001b[0;34m[\u001b[0m\u001b[0mx\u001b[0m\u001b[0;34m[\u001b[0m\u001b[0;36m0\u001b[0m\u001b[0;34m]\u001b[0m\u001b[0;34m:\u001b[0m\u001b[0mx\u001b[0m\u001b[0;34m[\u001b[0m\u001b[0;36m1\u001b[0m\u001b[0;34m]\u001b[0m\u001b[0;34m]\u001b[0m\u001b[0;34m,\u001b[0m\u001b[0maxis\u001b[0m\u001b[0;34m=\u001b[0m\u001b[0;36m1\u001b[0m\u001b[0;34m)\u001b[0m\u001b[0;34m\u001b[0m\u001b[0m\n\u001b[0m\u001b[1;32m      3\u001b[0m \u001b[0mprint\u001b[0m\u001b[0;34m(\u001b[0m\u001b[0;34m\"Obtained potential sequences...\"\u001b[0m\u001b[0;34m)\u001b[0m\u001b[0;34m\u001b[0m\u001b[0m\n\u001b[1;32m      4\u001b[0m \u001b[0;34m\u001b[0m\u001b[0m\n\u001b[1;32m      5\u001b[0m \u001b[0;31m## Nucleotide Frequencies for each Potential Gene\u001b[0m\u001b[0;34m\u001b[0m\u001b[0;34m\u001b[0m\u001b[0m\n",
      "\u001b[0;32m/Users/ingrid/anaconda/lib/python3.5/site-packages/pandas/core/series.py\u001b[0m in \u001b[0;36m__getitem__\u001b[0;34m(self, key)\u001b[0m\n\u001b[1;32m    555\u001b[0m     \u001b[0;32mdef\u001b[0m \u001b[0m__getitem__\u001b[0m\u001b[0;34m(\u001b[0m\u001b[0mself\u001b[0m\u001b[0;34m,\u001b[0m \u001b[0mkey\u001b[0m\u001b[0;34m)\u001b[0m\u001b[0;34m:\u001b[0m\u001b[0;34m\u001b[0m\u001b[0m\n\u001b[1;32m    556\u001b[0m         \u001b[0;32mtry\u001b[0m\u001b[0;34m:\u001b[0m\u001b[0;34m\u001b[0m\u001b[0m\n\u001b[0;32m--> 557\u001b[0;31m             \u001b[0mresult\u001b[0m \u001b[0;34m=\u001b[0m \u001b[0mself\u001b[0m\u001b[0;34m.\u001b[0m\u001b[0mindex\u001b[0m\u001b[0;34m.\u001b[0m\u001b[0mget_value\u001b[0m\u001b[0;34m(\u001b[0m\u001b[0mself\u001b[0m\u001b[0;34m,\u001b[0m \u001b[0mkey\u001b[0m\u001b[0;34m)\u001b[0m\u001b[0;34m\u001b[0m\u001b[0m\n\u001b[0m\u001b[1;32m    558\u001b[0m \u001b[0;34m\u001b[0m\u001b[0m\n\u001b[1;32m    559\u001b[0m             \u001b[0;32mif\u001b[0m \u001b[0;32mnot\u001b[0m \u001b[0mnp\u001b[0m\u001b[0;34m.\u001b[0m\u001b[0misscalar\u001b[0m\u001b[0;34m(\u001b[0m\u001b[0mresult\u001b[0m\u001b[0;34m)\u001b[0m\u001b[0;34m:\u001b[0m\u001b[0;34m\u001b[0m\u001b[0m\n",
      "\u001b[0;32m/Users/ingrid/anaconda/lib/python3.5/site-packages/pandas/core/index.py\u001b[0m in \u001b[0;36mget_value\u001b[0;34m(self, series, key)\u001b[0m\n\u001b[1;32m   1780\u001b[0m             \u001b[0;32mreturn\u001b[0m \u001b[0ms\u001b[0m\u001b[0;34m[\u001b[0m\u001b[0mkey\u001b[0m\u001b[0;34m]\u001b[0m\u001b[0;34m\u001b[0m\u001b[0m\n\u001b[1;32m   1781\u001b[0m \u001b[0;34m\u001b[0m\u001b[0m\n\u001b[0;32m-> 1782\u001b[0;31m         \u001b[0ms\u001b[0m \u001b[0;34m=\u001b[0m \u001b[0m_values_from_object\u001b[0m\u001b[0;34m(\u001b[0m\u001b[0mseries\u001b[0m\u001b[0;34m)\u001b[0m\u001b[0;34m\u001b[0m\u001b[0m\n\u001b[0m\u001b[1;32m   1783\u001b[0m         \u001b[0mk\u001b[0m \u001b[0;34m=\u001b[0m \u001b[0m_values_from_object\u001b[0m\u001b[0;34m(\u001b[0m\u001b[0mkey\u001b[0m\u001b[0;34m)\u001b[0m\u001b[0;34m\u001b[0m\u001b[0m\n\u001b[1;32m   1784\u001b[0m \u001b[0;34m\u001b[0m\u001b[0m\n",
      "\u001b[0;32mpandas/lib.pyx\u001b[0m in \u001b[0;36mpandas.lib.values_from_object (pandas/lib.c:4231)\u001b[0;34m()\u001b[0m\n",
      "\u001b[0;32m/Users/ingrid/anaconda/lib/python3.5/site-packages/pandas/core/series.py\u001b[0m in \u001b[0;36mget_values\u001b[0;34m(self)\u001b[0m\n\u001b[1;32m    357\u001b[0m     \u001b[0;32mdef\u001b[0m \u001b[0mget_values\u001b[0m\u001b[0;34m(\u001b[0m\u001b[0mself\u001b[0m\u001b[0;34m)\u001b[0m\u001b[0;34m:\u001b[0m\u001b[0;34m\u001b[0m\u001b[0m\n\u001b[1;32m    358\u001b[0m         \u001b[0;34m\"\"\" same as values (but handles sparseness conversions); is a view \"\"\"\u001b[0m\u001b[0;34m\u001b[0m\u001b[0m\n\u001b[0;32m--> 359\u001b[0;31m         \u001b[0;32mreturn\u001b[0m \u001b[0mself\u001b[0m\u001b[0;34m.\u001b[0m\u001b[0m_data\u001b[0m\u001b[0;34m.\u001b[0m\u001b[0mget_values\u001b[0m\u001b[0;34m(\u001b[0m\u001b[0;34m)\u001b[0m\u001b[0;34m\u001b[0m\u001b[0m\n\u001b[0m\u001b[1;32m    360\u001b[0m \u001b[0;34m\u001b[0m\u001b[0m\n\u001b[1;32m    361\u001b[0m     \u001b[0;31m# ops\u001b[0m\u001b[0;34m\u001b[0m\u001b[0;34m\u001b[0m\u001b[0m\n",
      "\u001b[0;32m/Users/ingrid/anaconda/lib/python3.5/site-packages/pandas/core/internals.py\u001b[0m in \u001b[0;36mget_values\u001b[0;34m(self)\u001b[0m\n\u001b[1;32m   3836\u001b[0m     \u001b[0;32mdef\u001b[0m \u001b[0mget_values\u001b[0m\u001b[0;34m(\u001b[0m\u001b[0mself\u001b[0m\u001b[0;34m)\u001b[0m\u001b[0;34m:\u001b[0m\u001b[0;34m\u001b[0m\u001b[0m\n\u001b[1;32m   3837\u001b[0m         \u001b[0;34m\"\"\" return a dense type view \"\"\"\u001b[0m\u001b[0;34m\u001b[0m\u001b[0m\n\u001b[0;32m-> 3838\u001b[0;31m         \u001b[0;32mreturn\u001b[0m \u001b[0mnp\u001b[0m\u001b[0;34m.\u001b[0m\u001b[0marray\u001b[0m\u001b[0;34m(\u001b[0m\u001b[0mself\u001b[0m\u001b[0;34m.\u001b[0m\u001b[0m_block\u001b[0m\u001b[0;34m.\u001b[0m\u001b[0mto_dense\u001b[0m\u001b[0;34m(\u001b[0m\u001b[0;34m)\u001b[0m\u001b[0;34m,\u001b[0m\u001b[0mcopy\u001b[0m\u001b[0;34m=\u001b[0m\u001b[0;32mFalse\u001b[0m\u001b[0;34m)\u001b[0m\u001b[0;34m\u001b[0m\u001b[0m\n\u001b[0m\u001b[1;32m   3839\u001b[0m \u001b[0;34m\u001b[0m\u001b[0m\n\u001b[1;32m   3840\u001b[0m     \u001b[0;34m@\u001b[0m\u001b[0mproperty\u001b[0m\u001b[0;34m\u001b[0m\u001b[0m\n",
      "\u001b[0;32m/Users/ingrid/anaconda/lib/python3.5/site-packages/pandas/core/internals.py\u001b[0m in \u001b[0;36m_block\u001b[0;34m(self)\u001b[0m\n\u001b[1;32m   3741\u001b[0m         \u001b[0;32mpass\u001b[0m\u001b[0;34m\u001b[0m\u001b[0m\n\u001b[1;32m   3742\u001b[0m \u001b[0;34m\u001b[0m\u001b[0m\n\u001b[0;32m-> 3743\u001b[0;31m     \u001b[0;34m@\u001b[0m\u001b[0mproperty\u001b[0m\u001b[0;34m\u001b[0m\u001b[0m\n\u001b[0m\u001b[1;32m   3744\u001b[0m     \u001b[0;32mdef\u001b[0m \u001b[0m_block\u001b[0m\u001b[0;34m(\u001b[0m\u001b[0mself\u001b[0m\u001b[0;34m)\u001b[0m\u001b[0;34m:\u001b[0m\u001b[0;34m\u001b[0m\u001b[0m\n\u001b[1;32m   3745\u001b[0m         \u001b[0;32mreturn\u001b[0m \u001b[0mself\u001b[0m\u001b[0;34m.\u001b[0m\u001b[0mblocks\u001b[0m\u001b[0;34m[\u001b[0m\u001b[0;36m0\u001b[0m\u001b[0;34m]\u001b[0m\u001b[0;34m\u001b[0m\u001b[0m\n",
      "\u001b[0;31mKeyboardInterrupt\u001b[0m: "
     ]
    }
   ],
   "source": [
    "## Obtain potential gene sequence  -- TIME SUCK\n",
    "df[\"seq\"] = df.apply(lambda x: data[x[0]:x[1]],axis=1)\n",
    "print(\"Obtained potential sequences...\")\n",
    "\n",
    "## Nucleotide Frequencies for each Potential Gene\n",
    "res = [[l[1] for l in list(nucleotide_frequency(seg).items())] for seg in list(df.seq)]\n",
    "frequency_df = pd.DataFrame(res)\n",
    "frequency_df.columns=[\"a\",\"c\",\"g\",\"t\"]\n",
    "print(\"Calculate Nucleotide Frequencies...\")\n",
    "\n",
    "## Combine tables\n",
    "# 1. reset df index\n",
    "df.reset_index(inplace=True)\n",
    "# 2. concat\n",
    "df = pd.concat([df,frequency_df],axis=1)\n",
    "print(\"Combined frequence and gene tables...\")"
   ]
  },
  {
   "cell_type": "code",
   "execution_count": null,
   "metadata": {
    "collapsed": true
   },
   "outputs": [],
   "source": []
  },
  {
   "cell_type": "code",
   "execution_count": 66,
   "metadata": {
    "collapsed": false
   },
   "outputs": [],
   "source": [
    "## Filter for Genes\n",
    "    # x[0] - start\n",
    "    # x[1] - end\n",
    "    # x[4] - strand\n",
    "# df[\"is_gene\"] = df.apply(lambda x: check_gene_state([x[0],x[1]],annot, x[4]), axis=1)"
   ]
  },
  {
   "cell_type": "code",
   "execution_count": 341,
   "metadata": {
    "collapsed": false
   },
   "outputs": [],
   "source": [
    "y = nsample_df.is_gene\n",
    "x = nsample_df[[\"start\",\"end\",\"shift\",\"len\",\"a\",\"c\",\"g\",\"t\"]]"
   ]
  },
  {
   "cell_type": "code",
   "execution_count": 357,
   "metadata": {
    "collapsed": false
   },
   "outputs": [
    {
     "data": {
      "text/plain": [
       "False    9995\n",
       "True        5\n",
       "Name: is_gene, dtype: int64"
      ]
     },
     "execution_count": 357,
     "metadata": {},
     "output_type": "execute_result"
    }
   ],
   "source": [
    "nsample_df.is_gene.value_counts()"
   ]
  },
  {
   "cell_type": "code",
   "execution_count": 326,
   "metadata": {
    "collapsed": false
   },
   "outputs": [
    {
     "data": {
      "text/plain": [
       "{False}"
      ]
     },
     "execution_count": 326,
     "metadata": {},
     "output_type": "execute_result"
    }
   ],
   "source": [
    "set(nsample_df.isnull().any(axis=1))"
   ]
  },
  {
   "cell_type": "code",
   "execution_count": 290,
   "metadata": {
    "collapsed": true
   },
   "outputs": [],
   "source": [
    "sample_df[\"len\"] = sample_df.seq.apply(lambda x: len(x))\n"
   ]
  },
  {
   "cell_type": "code",
   "execution_count": 291,
   "metadata": {
    "collapsed": false
   },
   "outputs": [],
   "source": [
    "Nsample_df = sample_df.reindex(np.arange(10000))"
   ]
  },
  {
   "cell_type": "code",
   "execution_count": 296,
   "metadata": {
    "collapsed": false
   },
   "outputs": [
    {
     "data": {
      "text/plain": [
       "{False}"
      ]
     },
     "execution_count": 296,
     "metadata": {},
     "output_type": "execute_result"
    }
   ],
   "source": [
    "set(sample_df.isnull().any(axis=1))"
   ]
  },
  {
   "cell_type": "code",
   "execution_count": 283,
   "metadata": {
    "collapsed": false
   },
   "outputs": [
    {
     "data": {
      "text/plain": [
       "(10000, 7)"
      ]
     },
     "execution_count": 283,
     "metadata": {},
     "output_type": "execute_result"
    }
   ],
   "source": [
    "ex = Nsample_df.seq\n",
    "# ex.apply(lambda x: len(str(x)))\n",
    "sample_df.isnull().shape"
   ]
  },
  {
   "cell_type": "code",
   "execution_count": 361,
   "metadata": {
    "collapsed": false
   },
   "outputs": [],
   "source": [
    "xxx = list(sample_df[sample_df.is_gene == True].seq)"
   ]
  },
  {
   "cell_type": "code",
   "execution_count": 362,
   "metadata": {
    "collapsed": false
   },
   "outputs": [
    {
     "name": "stdout",
     "output_type": "stream",
     "text": [
      "Query:    1 ATG--ATTC--AAT--T----TTCAA-TTAAT--CGCACATTATTTAT--T--C-ATGCTTT--AA-ATACAACTAAACGTGCTATT-AGCACTAAA-AATG-CC--ATTCCTATTCTTTCATCAA--TAA--A--AA---TTGAAGTCACTT--CTACAGGAGTAACTTTAACAGGGTCT-AACGGTC-AAATATCA--ATTGAAAACACTATTCCTGTAAGTA-ATGAAAAT-GCT-GG-T-TTGCTAATTAC-CTCTCCAGGAGCTATTTTA-T--TAGAAGCTA-GT-T-TTTTTATTAATATTATTTCAAGTTTG-CCAGATATTAGTATAA---ATGT--TAAA-GAAATT-G-AA--CAACACCAAGTT-GTTTTAA-CC-AGTGGT-AAATCAGAGAT-T-AC--CTTAAAA--GGA--AAAGATG-TTG--A-CCAGTA-TC-CTCGT-CTA-CA---A-GAAGTATCAACAG-AAAATCCTTTG-ATTTTA-A-AAACAAAATTATTGAAG-TCT---AT-TATT-GCT-GAAACA-GCT-TTTGCAGCCAGTTTACAAGAA-AG-TC-GTCCTA-TTTTAACAGGAGTTCATATTGTATTAAGTAATCATAA-AGATT-T--TAA--AGC-A--GTAGCGA-CTGA-C-TCTC-ATCG-TAT-G-AGCCAACGTTTAATCACT--TTGGACAAT----ACTT--CAG-CAGAT-T------T--TGATGTAGTT-ATTC-CAAGT--AAATCTTTGAGAGAATTTTCAGCAGTATTTACAGATGATATTGAGACCGTTGAGGTATTTTT-CTCACCA-AGCCA---A--ATCTTGTTCAGAAGTGAACACATTT-CTTTTTAT-ACACG-CCTCTTAGAAGG-AAATTATCCCGATA-CAGAC-CGTT--T-A-TT-AATGACAGAATTTGAGACGGAGGT--TGTTTTCAATAC--CC-AATCCCTTCGC-CAC-GCTATGGAACG-T-G-CCT-TCTTGA-TTTCTAATGCTACTC-AA-AATGGTACTGTTAAGCTTG-AGATTACTCAAAATCATATTTCAGCTCATGTTAAC-TCACCTGAGGTTGGTAAGGTA---AACGAGGATTTAGATATTG--TTAGTC-AGTCTGGTAG-T--G-ATTTA--AC-T---AT--CAGCTTCAATCCA-ACTTACCT--TATTGAGTCTTTAAAAGCTATTAAAAGTGAAACAGTA-AAAATTCATTTC-TTATCACCAGTTCGACC-AT--TCACCCT-AACACCAGGCGAT--G--AGGAAGAAAGTTTTA---TCCAATTAATT-ACACCAGT-ACGAAC-AAACTAA 1137\n",
      "            |||  ||||  |.|  |    ||.|| ||.||  |||.|| .||||.|  |  | |||.|||  || | |.|.|| ||  ||  ||| ||||  ||| .| | ||  |.| | | .|   ||..||  |||  |  ||   ||.||.|| .||  |||| .|  |.|| ||  || |.|.| |||  || |||||| |  .||||||||..|||| |   |||.| |||||||| |.| || | |||||..|| | .| ..|||.|||||  .|| |  |.||| ||| .| | .|..| || .| |||||| ..|.|.| ||.|...||.|.|.||   ||.|  |||| |..||| | ||  |...| |.| || |  ..|| || |.||.| .|||.|.|.|| | ||  ||.||||  ..|  ||.|| | |||  | ||| || || | |.| .|| ||   | ||| | |.|| || |||||  ||.| |.|||| | ..|| ...|||||||.| |.|   || | || ||| .|||.| ||| |.||.| .||     |||||| || || .|..|| |||||| .|.|.||||||    | ||| ||| || || |.||| |  |||  ||| |  ||| | | |.|| | |||| || | |.| | ||  |.||.|||.|.|||  ||..| |||    | ||  ||| || || |      |  |||| |  || |..| |.|||  ..|| |||||.| ||   | |  | .|||.| |||  ||| | | | | ||    ||||||| ||||..| | |||   |  || ||| .|.|  ||   || |||| .||.|.|| .|| | ..| |||||||| ...||| ...|||| .||.| .|||  | | || ||  ||| || ||||.|| || .|  ||||..||.|.|  || ||.|..||||| | | | .|.|.|| | | | ||| ...||| ..| ||.|.|.| || || ||    | | |.||||  | | |.|  |..|||  || ||| | | ..|||||.| ||| ..||..||  .|||.||   |||||..| ..|.||||||  |||| | ||.|..|||| |  | .||||  || |   ||  ||| .| ||  || .||| |||  .|||| |     ||||| .|||  ..|||  .||| | |..|||||  .| .|| |.|||  | | || ||  | |...| ||.|.||.|  ||  |  ||||.|||||..|||   ||.||   ||| |.|||| | |..||| |||.|||\n",
      "Ref  :  179 ATGTTATTCTTACTGCTGGTTTTGAAGTTTATAACGCTCA-AATTTCTGTTGACTATGTTTTCGAAGA-AGACCT-AA--TG--ATTGAGCA--AAATCA-GACCAAAAT-C-A-AC---CAAAAACCTAAGCAGCAAGCCTTAAATTC-TTTGCCTAC-TG--TTAC-TT--CA-GATTTAAAC--TCGAAATAT-AGTTTTGAAAACTTTATT-C---AAGGAGATGAAAATCGTTGGGCTGTTGCTGCTT-CAAT-AGCAGTAGCTA--ATACTCCTGGAA-CTACCTATAATCCT-TT-GT-TTATTT-GGGGTGGCCCTGGGCTTGGAAAAACCCATTTATTAAATGCTATTGGTAATTCTGTA-CTA-TTAG--AAAATCCAAATGCTCGAATTAAATATATCACAGCTGAAAACTTTATTAATGA-GTTTGTTATCCA-TATTCGC-CTTGATACCATGGATGAA-T-TGAA-AGAAAAAT--TTCGTAATTTAGATTTAC-TCCTTATTGATGATATCCAATCT-TTAGCTAAAAAAACGCTCTCTGGA-ACA-----CAAGAAGAGTTCTTTAATACTTTTAA-TGCACTTCATA----A-TAA-TAA-CA-AACAAATTGTCCTAACAAGCGACCGTA-C-ACCAGATCATCTCAAT-GATTTAGAAG--ATCGATTAGTTACTCGTTTTA-AATGGGGA-TTAACAGTCA-ATATCACACCTCCTGAT-T--TTGAAACACGAGTGGCTAT-TTTGACA-AA---T-A--A-AATTCA-AGA--ATA-T-A-A-C-TT----TATTTTTCCTCAAGATA-CCATTGAGTAT-TTG-GCTG--GT---CA-ATTTGATTCTAATGTCA-GAGAT-TTAGAAGGTGCCTTA-AAAGATATTAGTCTGGTTGCTAATTTCAA--ACA-AA-TTGACAC-GA-TTACTGTTGACATTGCTGCCGAAGCTATTCGCGC-CAG-AAAGCAA-GATGGACCTAAAATGACAGT-TATTCCCA-TCGAAGAA----A-T-TCAAGC--GCA-AGT--TGGAAA--AT-TTT-A-C-GGTGTTACCGTCA-AAGAAATT--AAAGCTACTAAACGAACA-CAAAATATTGTTTTAG-CAAGACAAGTAGCTATGTTTTTAGCACGTGAAATGACAG-AT-AA--CAGTCTT-CCTAAAATTG-G-----AAAAG-AATT--TGGTG--GCAG-AGACCATTCA--ACAGTA-CTCCA--T-G-CCTATAAT-AAAATCAAAAACATG--ATCAGCCAGGACGAAAGCCTTAGGATCGAA---ATTGAAACCA-TAAAAAACAAAATTAA 1352\n",
      "\n",
      "Score: 941\n",
      "Matches: 764 (56.6%)\n",
      "Mismatches: 587\n",
      "CIGAR: 3M2D4M2D3M2D1M4D5M1D5M2D6M1I7M2D1M2D1M1D7M2D2M1D1M1I6M1I2M2I2M2I3M1D4M2I3M1D2M1I1M1D2M2D3M1I1M1I1M1I2M3I6M2D3M2D1M2D2M3D8M1I3M2D4M1I2M2I4M1I2M2I2M1I5M1D3M2I2M1D6M1I1M2D15M1I1M3I5M1D8M1D3M1D2M1D1M1D9M1I1M1D2M1I11M2I3M1D1M2D5M1I3M1D2M1D1M1D5M1I2M1I2M1I6M1I7M1D16M3D4M2D4M1D6M1D1M1D2M2D5M1I3M1I2M1D1M2I4M1D2M1D6M1D11M1D1M1D2M2D7M2D3M2D5M1I1M1D3M2D1M1D3M1I2M1D2M1D1M1I3M1D3M1D2M3D1M1D3M1I1M1I4M1I2M1D5M2I4M1D6M1D1M1D4M1I12M1D3M3D2M1D1M1I2M1D3M1D6M1D3M1D6M1I3M5I6M1D2M1D2M1D6M1D6M1I11M4I1M1I3M1I3M1I2M1I2M1D5M1D1M2D3M2D3M1D1M2D3M1I1M1I1M1D4M1D1M1D4M1D2M1I1M1D3M1D1M1D2M2I14M2D5M1I3M4D1M1I2M2D3M1D2M1I2M1D1M6D1M2D4M1I1M2I2M1D4M1D5M2D4M1I7M1I2M3I1M1I1M2I1M1I6M1I3M2I3M1I1M1I1M1I1M1I1M1I2M4I7M1D7M1D1M1I3M3D1M2D2M1I3M1I4M2I2M3I2M1I4M1D8M1D3M1I1M1D3M1I8M1D6M1I7M1D5M1D4M2D1M1D1M1D2M1D2M2I3M1I2M1I7M1I2M1I2M2D12M2D2M1D11M1D1M1I1M1D1M1I7M1I1M1D1M1D1M1D3M1D6M1D3M1I8M1I2M1D2M1D2M4I1M1I1M1I6M2I1M1D1M1I3M2I6M2I2M1I3M1I1M1I1M1I9M1D3M1I8M2I7M3D8M1I10M2D4M1I1M1D10M1D1M2D1M1D5M2D2M1D1M3D2M2D3M1I2M1I2M2I2M1D4M1I3M2D5M1I1M5I5M1I4M2I5M2I4M1I1M1D8M2I2M1D3M1I5M2I1M1I1M1I2M1D2M2D1M1I5M1D9M2I2M2D1M2D15M3D5M3I3M1D6M1I1M1D6M1D7M\n"
     ]
    }
   ],
   "source": [
    "import swalign\n",
    "# choose your own values here… 2 and -1 are common.\n",
    "match = 2\n",
    "mismatch = -1\n",
    "scoring = swalign.NucleotideScoringMatrix(match, mismatch)\n",
    "\n",
    "sw = swalign.LocalAlignment(scoring)  # you can also choose gap penalties, etc...\n",
    "alignment = sw.align(xxx[0],xxx[1])\n",
    "alignment.dump()"
   ]
  },
  {
   "cell_type": "code",
   "execution_count": 308,
   "metadata": {
    "collapsed": false
   },
   "outputs": [
    {
     "data": {
      "text/plain": [
       "75"
      ]
     },
     "execution_count": 308,
     "metadata": {},
     "output_type": "execute_result"
    }
   ],
   "source": [
    "28+13+19+15"
   ]
  },
  {
   "cell_type": "code",
   "execution_count": 301,
   "metadata": {
    "collapsed": false
   },
   "outputs": [],
   "source": [
    "frequency_df[\"start\"] = sample_df.start"
   ]
  },
  {
   "cell_type": "code",
   "execution_count": 304,
   "metadata": {
    "collapsed": false
   },
   "outputs": [
    {
     "ename": "ValueError",
     "evalue": "labels [ nan  nan  nan ...,  nan  nan  nan] not contained in axis",
     "output_type": "error",
     "traceback": [
      "\u001b[0;31m---------------------------------------------------------------------------\u001b[0m",
      "\u001b[0;31mValueError\u001b[0m                                Traceback (most recent call last)",
      "\u001b[0;32m<ipython-input-304-9e306ef10fa6>\u001b[0m in \u001b[0;36m<module>\u001b[0;34m()\u001b[0m\n\u001b[0;32m----> 1\u001b[0;31m \u001b[0mfrequency_df\u001b[0m\u001b[0;34m.\u001b[0m\u001b[0mdrop\u001b[0m\u001b[0;34m(\u001b[0m\u001b[0mfrequency_df\u001b[0m\u001b[0;34m.\u001b[0m\u001b[0mstart\u001b[0m\u001b[0;34m)\u001b[0m\u001b[0;34m\u001b[0m\u001b[0m\n\u001b[0m",
      "\u001b[0;32m/Users/ingrid/anaconda/envs/py27/lib/python2.7/site-packages/pandas/core/generic.pyc\u001b[0m in \u001b[0;36mdrop\u001b[0;34m(self, labels, axis, level, inplace, errors)\u001b[0m\n\u001b[1;32m   1615\u001b[0m                 \u001b[0mnew_axis\u001b[0m \u001b[0;34m=\u001b[0m \u001b[0maxis\u001b[0m\u001b[0;34m.\u001b[0m\u001b[0mdrop\u001b[0m\u001b[0;34m(\u001b[0m\u001b[0mlabels\u001b[0m\u001b[0;34m,\u001b[0m \u001b[0mlevel\u001b[0m\u001b[0;34m=\u001b[0m\u001b[0mlevel\u001b[0m\u001b[0;34m,\u001b[0m \u001b[0merrors\u001b[0m\u001b[0;34m=\u001b[0m\u001b[0merrors\u001b[0m\u001b[0;34m)\u001b[0m\u001b[0;34m\u001b[0m\u001b[0m\n\u001b[1;32m   1616\u001b[0m             \u001b[0;32melse\u001b[0m\u001b[0;34m:\u001b[0m\u001b[0;34m\u001b[0m\u001b[0m\n\u001b[0;32m-> 1617\u001b[0;31m                 \u001b[0mnew_axis\u001b[0m \u001b[0;34m=\u001b[0m \u001b[0maxis\u001b[0m\u001b[0;34m.\u001b[0m\u001b[0mdrop\u001b[0m\u001b[0;34m(\u001b[0m\u001b[0mlabels\u001b[0m\u001b[0;34m,\u001b[0m \u001b[0merrors\u001b[0m\u001b[0;34m=\u001b[0m\u001b[0merrors\u001b[0m\u001b[0;34m)\u001b[0m\u001b[0;34m\u001b[0m\u001b[0m\n\u001b[0m\u001b[1;32m   1618\u001b[0m             \u001b[0mdropped\u001b[0m \u001b[0;34m=\u001b[0m \u001b[0mself\u001b[0m\u001b[0;34m.\u001b[0m\u001b[0mreindex\u001b[0m\u001b[0;34m(\u001b[0m\u001b[0;34m**\u001b[0m\u001b[0;34m{\u001b[0m\u001b[0maxis_name\u001b[0m\u001b[0;34m:\u001b[0m \u001b[0mnew_axis\u001b[0m\u001b[0;34m}\u001b[0m\u001b[0;34m)\u001b[0m\u001b[0;34m\u001b[0m\u001b[0m\n\u001b[1;32m   1619\u001b[0m             \u001b[0;32mtry\u001b[0m\u001b[0;34m:\u001b[0m\u001b[0;34m\u001b[0m\u001b[0m\n",
      "\u001b[0;32m/Users/ingrid/anaconda/envs/py27/lib/python2.7/site-packages/pandas/core/index.pyc\u001b[0m in \u001b[0;36mdrop\u001b[0;34m(self, labels, errors)\u001b[0m\n\u001b[1;32m   2801\u001b[0m         \u001b[0;32mif\u001b[0m \u001b[0mmask\u001b[0m\u001b[0;34m.\u001b[0m\u001b[0many\u001b[0m\u001b[0;34m(\u001b[0m\u001b[0;34m)\u001b[0m\u001b[0;34m:\u001b[0m\u001b[0;34m\u001b[0m\u001b[0m\n\u001b[1;32m   2802\u001b[0m             \u001b[0;32mif\u001b[0m \u001b[0merrors\u001b[0m \u001b[0;34m!=\u001b[0m \u001b[0;34m'ignore'\u001b[0m\u001b[0;34m:\u001b[0m\u001b[0;34m\u001b[0m\u001b[0m\n\u001b[0;32m-> 2803\u001b[0;31m                 \u001b[0;32mraise\u001b[0m \u001b[0mValueError\u001b[0m\u001b[0;34m(\u001b[0m\u001b[0;34m'labels %s not contained in axis'\u001b[0m \u001b[0;34m%\u001b[0m \u001b[0mlabels\u001b[0m\u001b[0;34m[\u001b[0m\u001b[0mmask\u001b[0m\u001b[0;34m]\u001b[0m\u001b[0;34m)\u001b[0m\u001b[0;34m\u001b[0m\u001b[0m\n\u001b[0m\u001b[1;32m   2804\u001b[0m             \u001b[0mindexer\u001b[0m \u001b[0;34m=\u001b[0m \u001b[0mindexer\u001b[0m\u001b[0;34m[\u001b[0m\u001b[0;34m~\u001b[0m\u001b[0mmask\u001b[0m\u001b[0;34m]\u001b[0m\u001b[0;34m\u001b[0m\u001b[0m\n\u001b[1;32m   2805\u001b[0m         \u001b[0;32mreturn\u001b[0m \u001b[0mself\u001b[0m\u001b[0;34m.\u001b[0m\u001b[0mdelete\u001b[0m\u001b[0;34m(\u001b[0m\u001b[0mindexer\u001b[0m\u001b[0;34m)\u001b[0m\u001b[0;34m\u001b[0m\u001b[0m\n",
      "\u001b[0;31mValueError\u001b[0m: labels [ nan  nan  nan ...,  nan  nan  nan] not contained in axis"
     ]
    }
   ],
   "source": [
    "frequency_df.drop(frequency_df.start)"
   ]
  },
  {
   "cell_type": "code",
   "execution_count": 258,
   "metadata": {
    "collapsed": false
   },
   "outputs": [
    {
     "data": {
      "text/plain": [
       "(10000, 4)"
      ]
     },
     "execution_count": 258,
     "metadata": {},
     "output_type": "execute_result"
    }
   ],
   "source": [
    "frequency_df.shape"
   ]
  },
  {
   "cell_type": "code",
   "execution_count": 259,
   "metadata": {
    "collapsed": false
   },
   "outputs": [],
   "source": [
    "new_df = pd.concat([Nsample_df,frequency_df],axis=1)"
   ]
  },
  {
   "cell_type": "code",
   "execution_count": 260,
   "metadata": {
    "collapsed": false
   },
   "outputs": [
    {
     "data": {
      "text/plain": [
       "(10000, 11)"
      ]
     },
     "execution_count": 260,
     "metadata": {},
     "output_type": "execute_result"
    }
   ],
   "source": [
    "new_df.shape"
   ]
  },
  {
   "cell_type": "code",
   "execution_count": null,
   "metadata": {
    "collapsed": true
   },
   "outputs": [],
   "source": [
    "nucleotide_frequency(seq)"
   ]
  },
  {
   "cell_type": "code",
   "execution_count": 201,
   "metadata": {
    "collapsed": false
   },
   "outputs": [],
   "source": [
    "from sklearn.feature_extraction.text import CountVectorizer\n",
    "vectorizer = CountVectorizer(analyzer = 'char_wb', ngram_range=(1,3), min_df= 1)\n",
    "d = vectorizer.fit_transform(list(sample_df['seq']))\n"
   ]
  },
  {
   "cell_type": "code",
   "execution_count": null,
   "metadata": {
    "collapsed": true
   },
   "outputs": [],
   "source": []
  },
  {
   "cell_type": "code",
   "execution_count": 243,
   "metadata": {
    "collapsed": true
   },
   "outputs": [],
   "source": []
  },
  {
   "cell_type": "code",
   "execution_count": 98,
   "metadata": {
    "collapsed": false
   },
   "outputs": [
    {
     "data": {
      "text/plain": [
       "False"
      ]
     },
     "execution_count": 98,
     "metadata": {},
     "output_type": "execute_result"
    }
   ],
   "source": [
    "check_gene_state((37, 1438),annot,'C','F')"
   ]
  },
  {
   "cell_type": "code",
   "execution_count": 87,
   "metadata": {
    "collapsed": false
   },
   "outputs": [
    {
     "data": {
      "text/plain": [
       "u'ATGAAAAATAGTTGAAAACAATAGCGGTGTCCCCTTAAAATGGCTTTTCCACAGGTTGTGGAGAACCCAAATTAACAGTGTTAATTTATTTTCCACAGGTTGTGGAAAAACTAACTATTATCCATCGTTCTGTGGAAAACTAGAATAGTTTATGGTAGAATAGTTCTAGAATTATCCACAAGAAGGAACCTAGTATGA'"
      ]
     },
     "execution_count": 87,
     "metadata": {},
     "output_type": "execute_result"
    }
   ],
   "source": [
    "sample_df.iloc[1].seq"
   ]
  },
  {
   "cell_type": "code",
   "execution_count": null,
   "metadata": {
    "collapsed": true
   },
   "outputs": [],
   "source": [
    "df[\"sequence_s\"] =  df[['start', 'end']].apply(lambda x: data[x[0]:x[1]], axis=1)"
   ]
  },
  {
   "cell_type": "code",
   "execution_count": null,
   "metadata": {
    "collapsed": true
   },
   "outputs": [],
   "source": []
  },
  {
   "cell_type": "code",
   "execution_count": 6,
   "metadata": {
    "collapsed": true
   },
   "outputs": [],
   "source": []
  },
  {
   "cell_type": "code",
   "execution_count": 39,
   "metadata": {
    "collapsed": false
   },
   "outputs": [
    {
     "name": "stdout",
     "output_type": "stream",
     "text": [
      "50\n"
     ]
    }
   ],
   "source": [
    "result = [[l[1] for l in list(nucleotide_frequency(seg).items())] for seg in seg_50]\n",
    "df = pd.DataFrame(result)\n",
    "df.columns=[\"a\",\"c\",\"g\",\"t\"]\n",
    "df[\"gene\"] = gene_label(seg_50_an)\n",
    "\n",
    "gene_df = pd.DataFrame({\"label\":df.gene,\"sequence\": seg_50})"
   ]
  },
  {
   "cell_type": "code",
   "execution_count": 124,
   "metadata": {
    "collapsed": false
   },
   "outputs": [
    {
     "data": {
      "text/plain": [
       "'x'"
      ]
     },
     "execution_count": 124,
     "metadata": {},
     "output_type": "execute_result"
    }
   ],
   "source": [
    "str(u'x')"
   ]
  },
  {
   "cell_type": "code",
   "execution_count": 122,
   "metadata": {
    "collapsed": false
   },
   "outputs": [],
   "source": [
    "he = prior_state_emissions(data,annot)"
   ]
  },
  {
   "cell_type": "code",
   "execution_count": 123,
   "metadata": {
    "collapsed": false
   },
   "outputs": [
    {
     "data": {
      "text/plain": [
       "{u'C': ['C',\n",
       "  0,\n",
       "  {'A': 0.3129376364986609,\n",
       "   'C': 0.18263194813359745,\n",
       "   'G': 0.20960154402206216,\n",
       "   'T': 0.2948288713456795},\n",
       "  {'C': 0.39282114788001343, 'N': 0.0004367210615614748, 'R': 0.0}],\n",
       " u'N': ['N',\n",
       "  1,\n",
       "  {'A': 0.3190287760527498,\n",
       "   'C': 0.1789016522921669,\n",
       "   'G': 0.18693843939846827,\n",
       "   'T': 0.315131132256615},\n",
       "  {'C': 0.0004367210615614748,\n",
       "   'N': 0.2719266092685273,\n",
       "   'R': 0.000344950257525071}],\n",
       " u'R': ['R',\n",
       "  0,\n",
       "  {'A': 0.29606142439037003,\n",
       "   'C': 0.20997386780698055,\n",
       "   'G': 0.1825552662752494,\n",
       "   'T': 0.3114094415274},\n",
       "  {'C': 0.0, 'N': 0.000344950257525071, 'R': 0.3336883603850271}]}"
      ]
     },
     "execution_count": 123,
     "metadata": {},
     "output_type": "execute_result"
    }
   ],
   "source": [
    "he"
   ]
  },
  {
   "cell_type": "code",
   "execution_count": null,
   "metadata": {
    "collapsed": true
   },
   "outputs": [],
   "source": [
    "emi = emissions(data,annot)"
   ]
  },
  {
   "cell_type": "code",
   "execution_count": 100,
   "metadata": {
    "collapsed": false
   },
   "outputs": [],
   "source": [
    "trs = transitions(annot)"
   ]
  },
  {
   "cell_type": "code",
   "execution_count": null,
   "metadata": {
    "collapsed": false
   },
   "outputs": [],
   "source": [
    "# dir(hmm)\n",
    "from hmm import hmm"
   ]
  },
  {
   "cell_type": "code",
   "execution_count": 133,
   "metadata": {
    "collapsed": false
   },
   "outputs": [
    {
     "data": {
      "text/plain": [
       "{'A': 0.3190287760527498,\n",
       " 'C': 0.1789016522921669,\n",
       " 'G': 0.18693843939846827,\n",
       " 'T': 0.315131132256615}"
      ]
     },
     "execution_count": 133,
     "metadata": {},
     "output_type": "execute_result"
    }
   ],
   "source": [
    "he[u'N'][2]"
   ]
  },
  {
   "cell_type": "code",
   "execution_count": 136,
   "metadata": {
    "collapsed": false
   },
   "outputs": [],
   "source": [
    "NC = hmm.state(he[u'N'][0],he[u'N'][1],he[u'N'][2],he[u'N'][3])\n",
    "C = hmm.state(he[u'C'][0],he[u'C'][1],he[u'C'][2],he[u'C'][3])\n",
    "R = hmm.state(he[u'R'][0],he[u'R'][1],he[u'R'][2],he[u'R'][3])\n",
    "gene_model = hmm.hmm(['A','T','G','C'],[NC,C,R])"
   ]
  },
  {
   "cell_type": "code",
   "execution_count": 139,
   "metadata": {
    "collapsed": false
   },
   "outputs": [
    {
     "name": "stdout",
     "output_type": "stream",
     "text": [
      "('N', 'C', 'C', 'C'): -6.615035\n"
     ]
    },
    {
     "ename": "ValueError",
     "evalue": "math domain error",
     "output_type": "error",
     "traceback": [
      "\u001b[0;31m---------------------------------------------------------------------------\u001b[0m",
      "\u001b[0;31mValueError\u001b[0m                                Traceback (most recent call last)",
      "\u001b[0;32m<ipython-input-139-af260a53f2ee>\u001b[0m in \u001b[0;36m<module>\u001b[0;34m()\u001b[0m\n\u001b[0;32m----> 1\u001b[0;31m \u001b[0mgene_model\u001b[0m\u001b[0;34m.\u001b[0m\u001b[0menumerate\u001b[0m\u001b[0;34m(\u001b[0m\u001b[0;34m'ATGC'\u001b[0m\u001b[0;34m)\u001b[0m\u001b[0;34m\u001b[0m\u001b[0m\n\u001b[0m",
      "\u001b[0;32m/Users/ingrid/Downloads/hmm/hmm.py\u001b[0m in \u001b[0;36menumerate\u001b[0;34m(self, observed)\u001b[0m\n\u001b[1;32m    173\u001b[0m         \u001b[0mbest_score\u001b[0m \u001b[0;34m=\u001b[0m \u001b[0mNone\u001b[0m\u001b[0;34m\u001b[0m\u001b[0m\n\u001b[1;32m    174\u001b[0m         \u001b[0;32mfor\u001b[0m \u001b[0mseq\u001b[0m \u001b[0;32min\u001b[0m \u001b[0mitertools\u001b[0m\u001b[0;34m.\u001b[0m\u001b[0mproduct\u001b[0m\u001b[0;34m(\u001b[0m\u001b[0mself\u001b[0m\u001b[0;34m.\u001b[0m\u001b[0mstates\u001b[0m\u001b[0;34m.\u001b[0m\u001b[0mkeys\u001b[0m\u001b[0;34m(\u001b[0m\u001b[0;34m)\u001b[0m\u001b[0;34m,\u001b[0m \u001b[0mrepeat\u001b[0m\u001b[0;34m=\u001b[0m\u001b[0mlen\u001b[0m\u001b[0;34m(\u001b[0m\u001b[0mobserved\u001b[0m\u001b[0;34m)\u001b[0m\u001b[0;34m)\u001b[0m\u001b[0;34m:\u001b[0m\u001b[0;34m\u001b[0m\u001b[0m\n\u001b[0;32m--> 175\u001b[0;31m             \u001b[0ms\u001b[0m \u001b[0;34m=\u001b[0m \u001b[0mself\u001b[0m\u001b[0;34m.\u001b[0m\u001b[0mscore\u001b[0m\u001b[0;34m(\u001b[0m\u001b[0mseq\u001b[0m\u001b[0;34m,\u001b[0m \u001b[0mobserved\u001b[0m\u001b[0;34m)\u001b[0m\u001b[0;34m\u001b[0m\u001b[0m\n\u001b[0m\u001b[1;32m    176\u001b[0m             \u001b[0;32mif\u001b[0m \u001b[0ms\u001b[0m \u001b[0;32mis\u001b[0m \u001b[0;32mnot\u001b[0m \u001b[0mNone\u001b[0m\u001b[0;34m:\u001b[0m\u001b[0;34m\u001b[0m\u001b[0m\n\u001b[1;32m    177\u001b[0m                 \u001b[0;32mprint\u001b[0m \u001b[0;34m'%s: %f'\u001b[0m \u001b[0;34m%\u001b[0m \u001b[0;34m(\u001b[0m\u001b[0mseq\u001b[0m\u001b[0;34m,\u001b[0m \u001b[0ms\u001b[0m\u001b[0;34m)\u001b[0m\u001b[0;34m\u001b[0m\u001b[0m\n",
      "\u001b[0;32m/Users/ingrid/Downloads/hmm/hmm.py\u001b[0m in \u001b[0;36mscore\u001b[0;34m(self, seq_state, seq_observed)\u001b[0m\n\u001b[1;32m    134\u001b[0m                     \u001b[0;32mreturn\u001b[0m \u001b[0mNone\u001b[0m\u001b[0;34m\u001b[0m\u001b[0m\n\u001b[1;32m    135\u001b[0m \u001b[0;34m\u001b[0m\u001b[0m\n\u001b[0;32m--> 136\u001b[0;31m                 \u001b[0mp\u001b[0m \u001b[0;34m+=\u001b[0m \u001b[0mmath\u001b[0m\u001b[0;34m.\u001b[0m\u001b[0mlog10\u001b[0m\u001b[0;34m(\u001b[0m\u001b[0mstate_prev\u001b[0m\u001b[0;34m.\u001b[0m\u001b[0mp_transition\u001b[0m\u001b[0;34m[\u001b[0m\u001b[0mseq_state\u001b[0m\u001b[0;34m[\u001b[0m\u001b[0mi\u001b[0m\u001b[0;34m]\u001b[0m\u001b[0;34m]\u001b[0m\u001b[0;34m)\u001b[0m\u001b[0;34m\u001b[0m\u001b[0m\n\u001b[0m\u001b[1;32m    137\u001b[0m \u001b[0;34m\u001b[0m\u001b[0m\n\u001b[1;32m    138\u001b[0m             \u001b[0;31m# check that this state can emit the observed alphabet symbol\u001b[0m\u001b[0;34m\u001b[0m\u001b[0;34m\u001b[0m\u001b[0m\n",
      "\u001b[0;31mValueError\u001b[0m: math domain error"
     ]
    }
   ],
   "source": [
    "gene_model.enumerate('ATGC')"
   ]
  },
  {
   "cell_type": "code",
   "execution_count": 83,
   "metadata": {
    "collapsed": false
   },
   "outputs": [],
   "source": [
    "s1 = hmm.state(\n",
    "        'S1',            # name of the state\n",
    "        0.5,             # probability of being the initial state\n",
    "        { '1': 0.5,      # probability of emitting a '1' at each visit\n",
    "          '2': 0.5 },    # probability of emitting a '2' at each visit\n",
    "        { 'S1': 0.9,     # probability of transitioning to itself\n",
    "          'S2': 0.1 })   # probability of transitioning to state 'S2'\n",
    "s2 = hmm.state('S2', 0.5,\n",
    "        { '1': 0.25, '2': 0.75 },\n",
    "        { 'S1': 0.8, 'S2': 0.2 })\n",
    "model = hmm.hmm(['1', '2'],  # all symbols that can be emitted\n",
    "                [s1, s2])    # all of the states in this HMM"
   ]
  },
  {
   "cell_type": "code",
   "execution_count": null,
   "metadata": {
    "collapsed": true
   },
   "outputs": [],
   "source": [
    "model = hmm.hmm(['A', 'C','T','G'],  # all symbols that can be emitted\n",
    "                [s1, s2])"
   ]
  },
  {
   "cell_type": "code",
   "execution_count": 84,
   "metadata": {
    "collapsed": false
   },
   "outputs": [
    {
     "name": "stdout",
     "output_type": "stream",
     "text": [
      "('S2', 'S2', 'S2'): -2.073786\n",
      "('S2', 'S2', 'S1'): -1.647817\n",
      "('S2', 'S1', 'S2'): -1.948847\n",
      "('S2', 'S1', 'S1'): -1.170696\n",
      "('S1', 'S2', 'S2'): -2.550907\n",
      "('S1', 'S2', 'S1'): -2.124939\n",
      "('S1', 'S1', 'S2'): -2.073786\n",
      "('S1', 'S1', 'S1'): -1.295635\n",
      "BEST: ('S2', 'S1', 'S1'): -1.170696\n"
     ]
    }
   ],
   "source": [
    "model.enumerate('222')"
   ]
  },
  {
   "cell_type": "code",
   "execution_count": 45,
   "metadata": {
    "collapsed": false
   },
   "outputs": [],
   "source": [
    "training_data = build_training_data(annot,data)"
   ]
  },
  {
   "cell_type": "code",
   "execution_count": 58,
   "metadata": {
    "collapsed": true
   },
   "outputs": [],
   "source": [
    "import hmm"
   ]
  },
  {
   "cell_type": "code",
   "execution_count": 57,
   "metadata": {
    "collapsed": false
   },
   "outputs": [
    {
     "ename": "TypeError",
     "evalue": "'module' object is not callable",
     "output_type": "error",
     "traceback": [
      "\u001b[0;31m---------------------------------------------------------------------------\u001b[0m",
      "\u001b[0;31mTypeError\u001b[0m                                 Traceback (most recent call last)",
      "\u001b[0;32m<ipython-input-57-df4d22853628>\u001b[0m in \u001b[0;36m<module>\u001b[0;34m()\u001b[0m\n\u001b[0;32m----> 1\u001b[0;31m \u001b[0mtabul\u001b[0m \u001b[0;34m=\u001b[0m \u001b[0mhmm\u001b[0m\u001b[0;34m(\u001b[0m\u001b[0mdata\u001b[0m\u001b[0;34m,\u001b[0m \u001b[0mannot\u001b[0m\u001b[0;34m)\u001b[0m\u001b[0;34m\u001b[0m\u001b[0m\n\u001b[0m",
      "\u001b[0;31mTypeError\u001b[0m: 'module' object is not callable"
     ]
    }
   ],
   "source": [
    "tabul = hmm(data, annot)"
   ]
  },
  {
   "cell_type": "code",
   "execution_count": 54,
   "metadata": {
    "collapsed": false
   },
   "outputs": [
    {
     "ename": "NameError",
     "evalue": "global name 'state' is not defined",
     "output_type": "error",
     "traceback": [
      "\u001b[0;31m---------------------------------------------------------------------------\u001b[0m",
      "\u001b[0;31mNameError\u001b[0m                                 Traceback (most recent call last)",
      "\u001b[0;32m<ipython-input-54-a64a5c4f888d>\u001b[0m in \u001b[0;36m<module>\u001b[0;34m()\u001b[0m\n\u001b[0;32m----> 1\u001b[0;31m \u001b[0mtrain_hmm\u001b[0m\u001b[0;34m(\u001b[0m\u001b[0mtraining_data\u001b[0m\u001b[0;34m)\u001b[0m\u001b[0;34m\u001b[0m\u001b[0m\n\u001b[0m",
      "\u001b[0;32m<ipython-input-49-85de8a1f7edf>\u001b[0m in \u001b[0;36mtrain_hmm\u001b[0;34m(training_data, include_terminal_state)\u001b[0m\n\u001b[1;32m     28\u001b[0m     \u001b[0mstates\u001b[0m \u001b[0;34m=\u001b[0m \u001b[0;34m[\u001b[0m\u001b[0;34m]\u001b[0m\u001b[0;34m\u001b[0m\u001b[0m\n\u001b[1;32m     29\u001b[0m     \u001b[0;32mfor\u001b[0m \u001b[0ms_name\u001b[0m \u001b[0;32min\u001b[0m \u001b[0mstate_names\u001b[0m\u001b[0;34m:\u001b[0m\u001b[0;34m\u001b[0m\u001b[0m\n\u001b[0;32m---> 30\u001b[0;31m         \u001b[0mstates\u001b[0m\u001b[0;34m.\u001b[0m\u001b[0mappend\u001b[0m\u001b[0;34m(\u001b[0m\u001b[0mstate\u001b[0m\u001b[0;34m(\u001b[0m\u001b[0ms_name\u001b[0m\u001b[0;34m,\u001b[0m \u001b[0;36m0.0\u001b[0m\u001b[0;34m,\u001b[0m \u001b[0mNone\u001b[0m\u001b[0;34m,\u001b[0m \u001b[0mNone\u001b[0m\u001b[0;34m)\u001b[0m\u001b[0;34m)\u001b[0m\u001b[0;34m\u001b[0m\u001b[0m\n\u001b[0m\u001b[1;32m     31\u001b[0m \u001b[0;34m\u001b[0m\u001b[0m\n\u001b[1;32m     32\u001b[0m     \u001b[0;31m# calculate the initial probabilities\u001b[0m\u001b[0;34m\u001b[0m\u001b[0;34m\u001b[0m\u001b[0m\n",
      "\u001b[0;31mNameError\u001b[0m: global name 'state' is not defined"
     ]
    }
   ],
   "source": [
    "train_hmm(training_data)"
   ]
  },
  {
   "cell_type": "code",
   "execution_count": null,
   "metadata": {
    "collapsed": true
   },
   "outputs": [],
   "source": []
  },
  {
   "cell_type": "code",
   "execution_count": null,
   "metadata": {
    "collapsed": false
   },
   "outputs": [],
   "source": [
    "emissions(data,annot)"
   ]
  },
  {
   "cell_type": "code",
   "execution_count": null,
   "metadata": {
    "collapsed": true
   },
   "outputs": [],
   "source": []
  },
  {
   "cell_type": "code",
   "execution_count": null,
   "metadata": {
    "collapsed": false
   },
   "outputs": [],
   "source": [
    "set(data)"
   ]
  },
  {
   "cell_type": "code",
   "execution_count": null,
   "metadata": {
    "collapsed": false
   },
   "outputs": [],
   "source": [
    "# two_state_transitions(annot,1)\n",
    "two_state_emissions(data,annot,1)\n",
    "# str(annot[0]) == \"N\""
   ]
  },
  {
   "cell_type": "code",
   "execution_count": null,
   "metadata": {
    "collapsed": true
   },
   "outputs": [],
   "source": []
  },
  {
   "cell_type": "code",
   "execution_count": null,
   "metadata": {
    "collapsed": false
   },
   "outputs": [],
   "source": [
    "reverse_complement(\"aaatttgggcca\")"
   ]
  },
  {
   "cell_type": "code",
   "execution_count": null,
   "metadata": {
    "collapsed": true
   },
   "outputs": [],
   "source": []
  },
  {
   "cell_type": "code",
   "execution_count": null,
   "metadata": {
    "collapsed": true
   },
   "outputs": [],
   "source": []
  },
  {
   "cell_type": "code",
   "execution_count": null,
   "metadata": {
    "collapsed": true
   },
   "outputs": [],
   "source": [
    "df[\"sequence\"] = gene_df.sequence\n",
    "df[\"start\"] = gene_df.sequence.apply(lambda seq: \"ATG\" in seq)\n",
    "df[\"stop\"] = gene_df.sequence.apply(lambda seq: any(x in seq for x in [\"TAA\", \"TAG\", \"TGA\"]))\n",
    "# df.iloc[0].sequence"
   ]
  },
  {
   "cell_type": "code",
   "execution_count": null,
   "metadata": {
    "collapsed": true
   },
   "outputs": [],
   "source": [
    "# from collections import defaultdict\n",
    "def aa_find(seq):\n",
    "    codon_count = {}\n",
    "    for aa, codons in codon_map.items():\n",
    "        codon_count[aa] = 0\n",
    "        if any(x in seq for x in codons):\n",
    "            codon_count[aa] += 1\n",
    "    return codon_count"
   ]
  },
  {
   "cell_type": "code",
   "execution_count": null,
   "metadata": {
    "collapsed": false
   },
   "outputs": [],
   "source": [
    "df[\"dict\"] = gene_df.sequence.apply(lambda seq: aa_find(seq)) "
   ]
  },
  {
   "cell_type": "code",
   "execution_count": null,
   "metadata": {
    "collapsed": false
   },
   "outputs": [],
   "source": [
    "aa_counts = pd.DataFrame(list(df[\"dict\"]))"
   ]
  },
  {
   "cell_type": "code",
   "execution_count": null,
   "metadata": {
    "collapsed": false
   },
   "outputs": [],
   "source": [
    "# aa_counts[[\"a\"],[\"c\"],[\"g\"],[\"t\"],[\"gene\"]] = [[df.a],[df.c],[df.g],[df.t],[df.gene]]\n",
    "# aa_counts[[\"a\"]]\n",
    "aa_counts[\"a\"] = df.a\n",
    "aa_counts[\"c\"] = df.c\n",
    "aa_counts[\"g\"] = df.g\n",
    "aa_counts[\"t\"] = df.t\n",
    "aa_counts[\"gene\"] = df.gene\n"
   ]
  },
  {
   "cell_type": "code",
   "execution_count": null,
   "metadata": {
    "collapsed": false
   },
   "outputs": [],
   "source": [
    "df.shape"
   ]
  },
  {
   "cell_type": "code",
   "execution_count": null,
   "metadata": {
    "collapsed": false
   },
   "outputs": [],
   "source": [
    "a = []\n",
    "a.append(aa_find(df.iloc[1].sequence).values())\n",
    "a.append(aa_find(df.iloc[2].sequence).values())\n",
    "a.append(aa_find(df.iloc[3].sequence).values())\n",
    "pd.DataFrame(a)"
   ]
  },
  {
   "cell_type": "code",
   "execution_count": null,
   "metadata": {
    "collapsed": false
   },
   "outputs": [],
   "source": [
    "[a[1] for a in aa_find(df.iloc[1].sequence).items()]"
   ]
  },
  {
   "cell_type": "code",
   "execution_count": null,
   "metadata": {
    "collapsed": false
   },
   "outputs": [],
   "source": [
    "aa_find(df.iloc[1].sequence).items()"
   ]
  },
  {
   "cell_type": "code",
   "execution_count": null,
   "metadata": {
    "collapsed": false
   },
   "outputs": [],
   "source": [
    "codon_to_aa.items()\n",
    "codon_map.items()"
   ]
  },
  {
   "cell_type": "markdown",
   "metadata": {},
   "source": [
    "\n",
    "## Feature Development"
   ]
  },
  {
   "cell_type": "code",
   "execution_count": null,
   "metadata": {
    "collapsed": true
   },
   "outputs": [],
   "source": [
    "# ngrams\n",
    "- 3 grams, which frame?, relationship between subsequent sequence fragments.\n",
    "... am I next to a fragment"
   ]
  },
  {
   "cell_type": "code",
   "execution_count": null,
   "metadata": {
    "collapsed": false
   },
   "outputs": [],
   "source": [
    "\"atg\" in \"gowijgoijatgsoijdfo\""
   ]
  },
  {
   "cell_type": "code",
   "execution_count": null,
   "metadata": {
    "collapsed": false
   },
   "outputs": [],
   "source": [
    "gene_df.sequence[0]"
   ]
  },
  {
   "cell_type": "code",
   "execution_count": null,
   "metadata": {
    "collapsed": true
   },
   "outputs": [],
   "source": [
    "from sklearn.feature_extraction.text import CountVectorizer\n",
    "vectorizer = CountVectorizer(analyzer = 'char_wb', ngram_range=(1,3), min_df= 1)\n",
    "d = vectorizer.fit_transform(list(gene_df['sequence']))"
   ]
  },
  {
   "cell_type": "code",
   "execution_count": null,
   "metadata": {
    "collapsed": false
   },
   "outputs": [],
   "source": [
    "def frameShift(seq,shift):\n",
    "    new_seq = ''\n",
    "    for j, i in enumerate(seq):\n",
    "        if j % shift == 0:\n",
    "            new_seq = new_seq + i + ' '\n",
    "        else: \n",
    "            new_seq = new_seq + i\n",
    "    return new_seq\n",
    "\n",
    "\n",
    "fs = [frameShift(seq,3) for seq in gene_df.sequence]"
   ]
  },
  {
   "cell_type": "code",
   "execution_count": null,
   "metadata": {
    "collapsed": false
   },
   "outputs": [],
   "source": [
    "fs[0]"
   ]
  },
  {
   "cell_type": "code",
   "execution_count": null,
   "metadata": {
    "collapsed": true
   },
   "outputs": [],
   "source": [
    "from sklearn.feature_extraction.text import CountVectorizer\n",
    "vectorizer = CountVectorizer(analyzer = 'char_wb', ngram_range=(3,3), min_df= 1)\n",
    "d = vectorizer.fit_transform(fs)"
   ]
  },
  {
   "cell_type": "code",
   "execution_count": null,
   "metadata": {
    "collapsed": false
   },
   "outputs": [],
   "source": [
    "fs[0]"
   ]
  },
  {
   "cell_type": "code",
   "execution_count": null,
   "metadata": {
    "collapsed": false,
    "scrolled": true
   },
   "outputs": [],
   "source": [
    "x = vectorizer.vocabulary_.copy()\n",
    "my_dict2 = dict((y,str(x)) for x,y in x.iteritems())"
   ]
  },
  {
   "cell_type": "code",
   "execution_count": null,
   "metadata": {
    "collapsed": false
   },
   "outputs": [],
   "source": [
    "my_dict2 = dict((y,str(x)) for x,y in x.iteritems())"
   ]
  },
  {
   "cell_type": "code",
   "execution_count": null,
   "metadata": {
    "collapsed": false
   },
   "outputs": [],
   "source": [
    "my_dict2"
   ]
  },
  {
   "cell_type": "code",
   "execution_count": null,
   "metadata": {
    "collapsed": false
   },
   "outputs": [],
   "source": [
    "nx = [x.pop(val) for val in vectorizer.vocabulary_ if len(val.strip()) != 3]\n"
   ]
  },
  {
   "cell_type": "code",
   "execution_count": null,
   "metadata": {
    "collapsed": false
   },
   "outputs": [],
   "source": [
    "gg = list(d)"
   ]
  },
  {
   "cell_type": "code",
   "execution_count": null,
   "metadata": {
    "collapsed": false
   },
   "outputs": [],
   "source": [
    "len(gg)"
   ]
  },
  {
   "cell_type": "code",
   "execution_count": null,
   "metadata": {
    "collapsed": false
   },
   "outputs": [],
   "source": [
    "len(d.indptr)\n",
    "len(d.data)"
   ]
  },
  {
   "cell_type": "code",
   "execution_count": null,
   "metadata": {
    "collapsed": false
   },
   "outputs": [],
   "source": [
    "test = gg[0]"
   ]
  },
  {
   "cell_type": "code",
   "execution_count": null,
   "metadata": {
    "collapsed": false
   },
   "outputs": [],
   "source": [
    "import pandas as pd\n",
    "\n",
    "l = []\n",
    "for i in range(len(gg)):\n",
    "    doc = gg[i]\n",
    "    l.append(pd.DataFrame({\"doc\":i,\"index\":doc.indices,\"count\":doc.data}))\n",
    "dum = pd.concat(l)\n",
    "# df2 = pd.DataFrame({\"index\":doc.indices,\"count\":doc.data})\n",
    "# df2\n"
   ]
  },
  {
   "cell_type": "code",
   "execution_count": null,
   "metadata": {
    "collapsed": false
   },
   "outputs": [],
   "source": [
    "len(set(dum.doc))"
   ]
  },
  {
   "cell_type": "code",
   "execution_count": null,
   "metadata": {
    "collapsed": false
   },
   "outputs": [],
   "source": [
    "dum.index"
   ]
  },
  {
   "cell_type": "code",
   "execution_count": null,
   "metadata": {
    "collapsed": false
   },
   "outputs": [],
   "source": [
    "x = vectorizer.vocabulary_.copy()\n",
    "my_dict2 = dict((y,str(x)) for x,y in x.iteritems())\n",
    "dum[\"codon\"] = dum['index'].apply(lambda ind: my_dict2[ind])\n",
    "codonCount = dum[dum.codon.apply(lambda v: len(v.strip())) == 3]"
   ]
  },
  {
   "cell_type": "code",
   "execution_count": null,
   "metadata": {
    "collapsed": false
   },
   "outputs": [],
   "source": [
    "codonCount = dum[dum.codon.apply(lambda v: len(v.strip())) == 3]\n",
    "# dum.codon.apply(lambda v: len(v.strip()))"
   ]
  },
  {
   "cell_type": "code",
   "execution_count": null,
   "metadata": {
    "collapsed": false
   },
   "outputs": [],
   "source": [
    "codonCount"
   ]
  },
  {
   "cell_type": "code",
   "execution_count": null,
   "metadata": {
    "collapsed": true
   },
   "outputs": [],
   "source": [
    "ngrams = list(vectorizer.get_feature_names())\n",
    "[gram.strip() for gram in ngrams if len(gram.strip()) == 3]\n",
    "\n",
    "\n"
   ]
  },
  {
   "cell_type": "code",
   "execution_count": null,
   "metadata": {
    "collapsed": false
   },
   "outputs": [],
   "source": [
    "df"
   ]
  },
  {
   "cell_type": "code",
   "execution_count": null,
   "metadata": {
    "collapsed": false
   },
   "outputs": [],
   "source": [
    "codon_map = {\"I\":[\"ATT\", \"ATC\", \"ATA\"],\"L\":[\"CTT\", \"CTC\", \"CTA\", \"CTG\", \"TTA\",\" TTG\"],\n",
    "          \"V\":[\"GTT\", \"GTC\", \"GTA\", \"GTG\"],\"F\":[\"TTT\", \"TTC\"],\"M\":[\"ATG\"],\"C\":[\"TGT\", \"TGC\"],\n",
    "          \"A\":[\"GCT\", \"GCC\", \"GCA\", \"GCG\"],\"G\":[\"GGT\", \"GGC\", \"GGA\", \"GGG\"],\n",
    "          \"P\":[\"CCT\", \"CCC\", \"CCA\", \"CCG\"],\n",
    "          \"T\":[\"ACT\", \"ACC\", \"ACA\", \"ACG\"],\"S\":[\"TCT\", \"TCC\", \"TCA\", \"TCG\", \"AGT\", \"AGC\"],\n",
    "          \"Y\":[\"TAT\", \"TAC\"],\"W\":[\"TGG\"],\"Q\":[\"CAA\", \"CAG\"],\"N\":[\"AAT\", \"AAC\"],\"H\":[\"CAT\", \"CAC\"],\n",
    "             \"E\":[\"GAA\", \"GAG\"],\"D\":[\"GAT\", \"GAC\"],\"K\":[\"AAA\", \"AAG\"],\n",
    "             \"R\":[\"CGT\", \"CGC\", \"CGA\", \"CGG\",\"AGA\", \"AGG\"],\"Stop\":[\"TAA\", \"TAG\", \"TGA\"]}\n",
    "def invert(d):\n",
    "    return dict( (v,k) for k in d for v in d[k] )\n",
    "codon_to_aa = invert(codon_map)\n",
    "\n",
    "def codonToAA(strand):\n",
    "    aa_seq = ''.join([codon_to_aa(codon) for codon in strand])\n",
    "    return aa_seq"
   ]
  },
  {
   "cell_type": "code",
   "execution_count": null,
   "metadata": {
    "collapsed": false
   },
   "outputs": [],
   "source": [
    "codon_to_aa\n",
    "\n",
    "#e"
   ]
  },
  {
   "cell_type": "code",
   "execution_count": null,
   "metadata": {
    "collapsed": true
   },
   "outputs": [],
   "source": [
    "def codonToAA(strand):\n",
    "    aa_seq = ''.join([codon_to_aa(codon) for codon in strand])\n",
    "    return aa_seq\n"
   ]
  },
  {
   "cell_type": "code",
   "execution_count": null,
   "metadata": {
    "collapsed": false
   },
   "outputs": [],
   "source": [
    "new_seq"
   ]
  },
  {
   "cell_type": "code",
   "execution_count": null,
   "metadata": {
    "collapsed": false
   },
   "outputs": [],
   "source": [
    "ngrams = list(vectorizer.get_feature_names())\n",
    "ngrams\n"
   ]
  },
  {
   "cell_type": "code",
   "execution_count": null,
   "metadata": {
    "collapsed": true
   },
   "outputs": [],
   "source": [
    "## amino acid to nucleotide chart http://www.cbs.dtu.dk/courses/27619/codon.html\n",
    "aa = [\"I\",\"L\",\"V\",\"F\",\"M\",\"C\",\"A\",\"G\",\"P\",\"T\",\"S\",\"Y\",\"W\",\"Q\",\"N\",\"H\",\"E\",\"D\",\"K\",\"R\",\"STOP\"]\n",
    "aa_name = [\"Isoleucine\",\"Leucine\",\"Valine\",\"Phenylalanine\",\"Methionine\",\"Cysteine\",\"Alanine\",\n",
    "           \"Glycine\",\"Proline\",\"Threonine\",\"Serine\",\"Tyrosine\",\"Tryptophan\",\n",
    "           \"Glutamine\",\"Asparagine\",\"Histidine\",\"Glutamic_acid\", \"Aspartic_acid\", \n",
    "           \"Lysine\",\"Arginine\",\"Stop_codons\"]\n",
    "codons = [[\"ATT\", \"ATC\", \"ATA\"],[\"CTT\", \"CTC\", \"CTA\", \"CTG\", \"TTA\",\" TTG\"],\n",
    "          [\"GTT\", \"GTC\", \"GTA\", \"GTG\"],[\"TTT\", \"TTC\"],[\"ATG\"],[\"TGT\", \"TGC\"],\n",
    "          [\"GCT\", \"GCC\", \"GCA\", \"GCG\"],[\"GGT\", \"GGC\", \"GGA\", \"GGG\"],\n",
    "          [\"CCT\", \"CCC\", \"CCA\", \"CCG\"],\n",
    "          [\"ACT\", \"ACC\", \"ACA\", \"ACG\"],[\"TCT\", \"TCC\", \"TCA\", \"TCG\", \"AGT\", \"AGC\"],\n",
    "          [\"TAT\", \"TAC\"],[\"TGG\"],[\"CAA\", \"CAG\"],[\"AAT\", \"AAC\"],[\"CAT\", \"CAC\"],[\"GAA\", \"GAG\"],\n",
    "          [\"GAT\", \"GAC\"],[\"AAA\", \"AAG\"],[\"CGT\", \"CGC\", \"CGA\", \"CGG\",\"AGA\", \"AGG\"],\n",
    "          [\"TAA\", \"TAG\", \"TGA\"]]\n",
    "\n",
    "codon_map = {\"I\":[\"ATT\", \"ATC\", \"ATA\"],\"L\":[\"CTT\", \"CTC\", \"CTA\", \"CTG\", \"TTA\",\" TTG\"],\n",
    "          \"V\":[\"GTT\", \"GTC\", \"GTA\", \"GTG\"],\"F\":[\"TTT\", \"TTC\"],\"M\":[\"ATG\"],\"C\":[\"TGT\", \"TGC\"],\n",
    "          \"A\":[\"GCT\", \"GCC\", \"GCA\", \"GCG\"],\"G\":[\"GGT\", \"GGC\", \"GGA\", \"GGG\"],\n",
    "          \"P\":[\"CCT\", \"CCC\", \"CCA\", \"CCG\"],\n",
    "          \"T\":[\"ACT\", \"ACC\", \"ACA\", \"ACG\"],\"S\":[\"TCT\", \"TCC\", \"TCA\", \"TCG\", \"AGT\", \"AGC\"],\n",
    "          \"Y\":[\"TAT\", \"TAC\"],\"W\":[\"TGG\"],\"Q\"[\"CAA\", \"CAG\"],\"N\":[\"AAT\", \"AAC\"],\"H\":[\"CAT\", \"CAC\"],\n",
    "             \"E\":[\"GAA\", \"GAG\"],\"D\":[\"GAT\", \"GAC\"],\"K\":[\"AAA\", \"AAG\"],\n",
    "             \"R\":[\"CGT\", \"CGC\", \"CGA\", \"CGG\",\"AGA\", \"AGG\"],\"Stop\":[\"TAA\", \"TAG\", \"TGA\"]}\n",
    "def invert(d):\n",
    "    return dict( (v,k) for k in d for v in d[k] )\n",
    "# aa_properties\n",
    "Aliphatic: Alanine,Isoleucine,Leucine,Valine\n",
    "Aromatic: Phenylalanine, Tryptophan, Tyrosine\n",
    "Polar_neutral: Asparagine, Cysteine, Glutamine, Methionine,Serine,Threonine\n",
    "charged: Aspartic acid, Glutamic acid\n",
    "    \n",
    "Properties table\n",
    "https://www.thermofisher.com/us/en/home/life-science/protein-biology/protein-biology-learning-center/protein-biology-resource-library/pierce-protein-methods/amino-acid-physical-properties.html\n",
    "\n",
    "http://www.ncbi.nlm.nih.gov/pmc/articles/PMC3456822/pdf/10867_2004_Article_396406.pdf\n",
    "\n",
    "http://www.proteinstructures.com/Structure/Structure/amino-acids.html"
   ]
  },
  {
   "cell_type": "code",
   "execution_count": null,
   "metadata": {
    "collapsed": false
   },
   "outputs": [],
   "source": [
    "codon_map = {\"I\":[\"ATT\", \"ATC\", \"ATA\"],\"L\":[\"CTT\", \"CTC\", \"CTA\", \"CTG\", \"TTA\",\" TTG\"],\n",
    "          \"V\":[\"GTT\", \"GTC\", \"GTA\", \"GTG\"],\"F\":[\"TTT\", \"TTC\"],\"M\":[\"ATG\"],\"C\":[\"TGT\", \"TGC\"],\n",
    "          \"A\":[\"GCT\", \"GCC\", \"GCA\", \"GCG\"],\"G\":[\"GGT\", \"GGC\", \"GGA\", \"GGG\"],\n",
    "          \"P\":[\"CCT\", \"CCC\", \"CCA\", \"CCG\"],\n",
    "          \"T\":[\"ACT\", \"ACC\", \"ACA\", \"ACG\"],\"S\":[\"TCT\", \"TCC\", \"TCA\", \"TCG\", \"AGT\", \"AGC\"],\n",
    "          \"Y\":[\"TAT\", \"TAC\"],\"W\":[\"TGG\"],\"Q\":[\"CAA\", \"CAG\"],\"N\":[\"AAT\", \"AAC\"],\"H\":[\"CAT\", \"CAC\"],\n",
    "             \"E\":[\"GAA\", \"GAG\"],\"D\":[\"GAT\", \"GAC\"],\"K\":[\"AAA\", \"AAG\"],\n",
    "             \"R\":[\"CGT\", \"CGC\", \"CGA\", \"CGG\",\"AGA\", \"AGG\"],\"Stop\":[\"TAA\", \"TAG\", \"TGA\"]}\n",
    "def invert(d):\n",
    "    return dict( (v,k) for k in d for v in d[k] )\n",
    "codon_to_aa = invert(codon_map)"
   ]
  },
  {
   "cell_type": "code",
   "execution_count": null,
   "metadata": {
    "collapsed": false
   },
   "outputs": [],
   "source": [
    "codon_to_aa"
   ]
  },
  {
   "cell_type": "markdown",
   "metadata": {
    "collapsed": true
   },
   "source": [
    "## Model testing"
   ]
  },
  {
   "cell_type": "code",
   "execution_count": 339,
   "metadata": {
    "collapsed": true
   },
   "outputs": [],
   "source": [
    "from sklearn.linear_model import LogisticRegression\n",
    "from sklearn.naive_bayes import GaussianNB\n",
    "from sklearn.svm import SVC\n",
    "from sklearn.tree import DecisionTreeClassifier\n",
    "from sklearn.ensemble import RandomForestClassifier\n",
    "from sklearn.neighbors import KNeighborsClassifier\n",
    "\n",
    "from sklearn.metrics import accuracy_score, classification_report\n",
    "\n",
    "\n",
    "from sklearn.learning_curve import learning_curve\n",
    "\n",
    "from sklearn.cross_validation import train_test_split, KFold, cross_val_score"
   ]
  },
  {
   "cell_type": "code",
   "execution_count": null,
   "metadata": {
    "collapsed": false
   },
   "outputs": [],
   "source": [
    "# x = df[[\"a\",\"c\",\"g\",\"t\",\"start\",\"stop\"]]\n",
    "y = df.gene\n",
    "x = aa_counts.drop('gene', 1)"
   ]
  },
  {
   "cell_type": "code",
   "execution_count": 351,
   "metadata": {
    "collapsed": false
   },
   "outputs": [],
   "source": [
    "y = y.apply(lambda x: int(x))"
   ]
  },
  {
   "cell_type": "code",
   "execution_count": 352,
   "metadata": {
    "collapsed": false
   },
   "outputs": [
    {
     "name": "stdout",
     "output_type": "stream",
     "text": [
      "RandomForestClassifier Accuracy Score : 0.999500\n",
      "DecisionTreeClassifier Accuracy Score : 0.669966\n",
      "GaussianNB Accuracy Score : 0.996001\n",
      "SVC Accuracy Score : 0.999500\n",
      "KNeighborsClassifier Accuracy Score : 0.999500\n",
      "LogisticRegression Accuracy Score : 0.996901\n"
     ]
    }
   ],
   "source": [
    "algorithms = [RandomForestClassifier(), DecisionTreeClassifier(), GaussianNB(), \n",
    "              SVC(), KNeighborsClassifier(n_neighbors=6), LogisticRegression()]\n",
    "\n",
    "for algo in algorithms:\n",
    "    accuracy = cross_val_score(algo,x,y)\n",
    "    print(\"{:s} Accuracy Score : {:f}\".format(str(algo).split('(', 1)[0],accuracy.mean()))"
   ]
  },
  {
   "cell_type": "code",
   "execution_count": 52,
   "metadata": {
    "collapsed": true
   },
   "outputs": [],
   "source": [
    "import hmm"
   ]
  },
  {
   "cell_type": "code",
   "execution_count": null,
   "metadata": {
    "collapsed": true
   },
   "outputs": [],
   "source": []
  }
 ],
 "metadata": {
  "kernelspec": {
   "display_name": "Python 3",
   "language": "python",
   "name": "python3"
  },
  "language_info": {
   "codemirror_mode": {
    "name": "ipython",
    "version": 3
   },
   "file_extension": ".py",
   "mimetype": "text/x-python",
   "name": "python",
   "nbconvert_exporter": "python",
   "pygments_lexer": "ipython3",
   "version": "3.5.1"
  }
 },
 "nbformat": 4,
 "nbformat_minor": 0
}
