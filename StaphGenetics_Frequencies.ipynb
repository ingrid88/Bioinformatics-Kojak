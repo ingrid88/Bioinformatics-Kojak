{
 "cells": [
  {
   "cell_type": "markdown",
   "metadata": {},
   "source": [
    "## Staph data\n",
    "http://users-birc.au.dk/cstorm/courses/MLiB_f14/project1.html"
   ]
  },
  {
   "cell_type": "code",
   "execution_count": 2,
   "metadata": {
    "collapsed": true
   },
   "outputs": [],
   "source": [
    "import requests\n",
    "import numpy as np\n",
    "import pandas as pd\n",
    "import re\n",
    "from itertools import groupby\n",
    "import pickle"
   ]
  },
  {
   "cell_type": "code",
   "execution_count": 3,
   "metadata": {
    "collapsed": true
   },
   "outputs": [],
   "source": [
    "staph_url = [\"http://users-birc.au.dk/cstorm/courses/MLiB_f14/projects/project3/genome1.fa\",\n",
    "            \"http://users-birc.au.dk/cstorm/courses/MLiB_f14/projects/project3/genome2.fa\",\n",
    "           \"http://users-birc.au.dk/cstorm/courses/MLiB_f14/projects/project3/genome3.fa\"]\n",
    "staph_annot = [\"http://users-birc.au.dk/cstorm/courses/MLiB_f14/projects/project3/annotation1.fa\",\n",
    "              \"http://users-birc.au.dk/cstorm/courses/MLiB_f14/projects/project3/annotation2.fa\"\n",
    "              \"http://users-birc.au.dk/cstorm/courses/MLiB_f14/projects/project3/annotation3.fa\"]"
   ]
  },
  {
   "cell_type": "markdown",
   "metadata": {
    "collapsed": true
   },
   "source": [
    "## Load/ Modify Data"
   ]
  },
  {
   "cell_type": "code",
   "execution_count": 3,
   "metadata": {
    "collapsed": true
   },
   "outputs": [],
   "source": [
    "def load_file(url,genome=True):\n",
    "    \"\"\"input: url for genome, \n",
    "    output: pulled data without header and as a single txt string\"\"\"\n",
    "    data = ''.join(requests.get(url).text.split(\"\\n\")[1::])\n",
    "    return data\n",
    "\n",
    "def segment_genome(data_string,split_size):\n",
    "    \"\"\"input: genome data string (data_string) and then size we should split the data (split_size)\n",
    "    output: array split by specified split_size\"\"\"\n",
    "    chunks = len(data_string)\n",
    "    data = [data_string[i:i+split_size] for i in range(0,chunks,split_size)]\n",
    "    return data\n",
    "\n",
    "def gene_label(annotation, min_gene=10):\n",
    "    \"\"\"Input: annotation\n",
    "    ouput: the label array for data (true if C or R else false for > 50% of line)\"\"\"\n",
    "    size = len(annotation[0])\n",
    "    print(size)\n",
    "    label = [True if len(line.strip(\"C\")) < size/2 or len(line.strip(\"R\")) < size/2 else False \n",
    "             for line in annotation]\n",
    "    return label\n",
    "\n",
    "def gene_label_dir(annotation,direction=\"C\"):\n",
    "    \"\"\"Input: annotation and direction is C (forward) unless specified as R (reverse)\n",
    "    ouput: the label array for data\"\"\"\n",
    "    size = len(annotation[0])\n",
    "    label = [True if len(line.strip(direction)) < size/2 else False \n",
    "             for line in annotation]\n",
    "    return label\n",
    "\n",
    "def nucleotide_frequency(seq):\n",
    "    '''Count the occurrences of characters in \"seq\".'''\n",
    "    counts = {'A':0,'C':0,'G':0,'T':0}\n",
    "    for c in seq:\n",
    "        counts[c] +=1\n",
    "    total = sum(list(counts.values()))\n",
    "    for key, value in counts.items():\n",
    "        counts[key] = value / total\n",
    "    return counts"
   ]
  },
  {
   "cell_type": "code",
   "execution_count": 4,
   "metadata": {
    "collapsed": false
   },
   "outputs": [],
   "source": [
    "import re\n",
    "\n",
    "def ORF_finds(seq):\n",
    "    \"\"\"input: A sequence string (the genome) is taken and all the ATG's in the sequence are found\n",
    "    output: a list of start indices \n",
    "    *** on this reverse strand... these are from the end of the sequence!!\"\"\"\n",
    "    starts = [m.start() for m in re.finditer('ATG', seq)]\n",
    "    return starts\n",
    "\n",
    "def sequence_list(genome,ends,start):\n",
    "    \"\"\"input: output: \"\"\"\n",
    "    sequences = [genome[start:start+end+3] for end in ends[0]]\n",
    "    sequences += [genome[start:start+end+3] for end in ends[1]] \n",
    "    sequences += [genome[start:start+end+3] for end in ends[2]]\n",
    "    return sequences\n",
    "\n",
    "def sequence_list2(genome,ends,start,direction):\n",
    "    \"\"\"input: \"\"\"\n",
    "    frame = start % 3\n",
    "    sequences = [(start, start+end+3, 'taa', frame, direction) for end in ends[0]]\n",
    "    sequences += [(start, start+end+3, 'tag', frame, direction) for end in ends[1]] \n",
    "    sequences += [(start, start+end+3, 'tga', frame, direction) for end in ends[2]]\n",
    "    return sequences\n",
    "\n",
    "# def geneList(genome,direction):\n",
    "#     \"\"\"input: genome (character string), which direction we are looking at (the forward or reverse strand)\n",
    "#     output: a list of sequences on that particular strand of interest (forward or reverse complement)\"\"\"\n",
    "#     if direction == 'R':\n",
    "#         genome = reverse_complement(genome)\n",
    "#     starts = ORF_finds(genome)\n",
    "#     sequences = []\n",
    "#     for start in starts:\n",
    "#         ## m.start()+1 so that when we sample the sequence we go from \n",
    "#         ends = [[m.start() for m in re.finditer(x, genome[start:start+2000]) if m.start() % 3 == 0] for x in [\"TAA\", \"TAG\", \"TGA\"]]\n",
    "#         if direction == 'R':\n",
    "#             length = len(genome)\n",
    "#             start = length - 3 - start  # CAT ~ ATG (length - 1 - 2)\n",
    "#             ends = [[length - e for e in end] for end in ends]\n",
    "#         sequences.append(sequence_list2(genome,ends,start,direction))\n",
    "#     return sequences \n",
    "\n",
    "def geneList(genome,direction):\n",
    "    \"\"\"input: genome (character string), which direction we are looking at (the forward or reverse strand)\n",
    "    output: a list of sequences on that particular strand of interest (forward or reverse complement)\"\"\"\n",
    "    starts = ORF_finds(genome)\n",
    "    sequences = []\n",
    "    for start in starts:\n",
    "        ## m.start()+1 so that when we sample the sequence we go from \n",
    "        ends = [[m.start() for m in re.finditer(x, genome[start:start+2000]) if m.start() % 3 == 0] for x in [\"TAA\", \"TAG\", \"TGA\"]]\n",
    "        sequences.append(sequence_list2(genome,ends,start,direction))\n",
    "    return sequences   \n",
    "\n",
    "def fixed(possible_reverse_sequences, genome_length):\n",
    "    fixed_reversed_sequences = []\n",
    "    for possible_reverse in possible_reverse_sequences:\n",
    "        f = [(genome_length - end , genome_length - start,end_codon,frame,strand) for start,end,end_codon,frame,strand in possible_reverse]\n",
    "        fixed_reversed_sequences.append(f)\n",
    "    return fixed_reversed_sequences\n",
    "\n",
    "def potentialGenes(genome):\n",
    "    \"\"\"input: genome which is a string of a's, t's, g's, c's\n",
    "    ouput: the number of possible genes that start with ATG and \n",
    "    end with taa,tag, or tga on the forward and reverse complement DNA strand\"\"\"\n",
    "    forwards = geneList(genome,'F')\n",
    "    reversed_genome = reverse_complement(str(genome))\n",
    "    reverse = geneList(reversed_genome,'R')\n",
    "    reverses = fixed(reverse, len(genome))\n",
    "    combos = forwards + reverses\n",
    "    return combos"
   ]
  },
  {
   "cell_type": "code",
   "execution_count": 5,
   "metadata": {
    "collapsed": true
   },
   "outputs": [],
   "source": [
    "def reverse_complement(genome):\n",
    "    \"\"\"input: genome, output: reverse complement\"\"\"\n",
    "    switch = {\"A\":\"T\",\"G\":\"C\",\"T\":\"A\",\"C\":\"G\"}\n",
    "    rc = ''.join([switch[letter] for letter in genome])[::-1]\n",
    "    return rc"
   ]
  },
  {
   "cell_type": "code",
   "execution_count": 197,
   "metadata": {
    "collapsed": true
   },
   "outputs": [],
   "source": [
    "##Convert sequences in to amino acid sequences\n",
    "def tri_split(seq):\n",
    "    return ''.join([char+' ' if (i+1) % 3 == 0 else char for i,char in enumerate(seq)]).split()\n",
    "def codonToAA(codon_list):\n",
    "    aa_seq = ''.join([codon_to_aa[codon] for codon in codon_list])\n",
    "    return aa_seq\n",
    "def aa_frequency(seq):\n",
    "    \"\"\"Count the occurrences of amino acids in \"seq\".\"\"\"\n",
    "    zeros = [0]*len(aa)\n",
    "    counts = dict(zip(aa, zeros))\n",
    "    for c in seq:\n",
    "        counts[c] +=1\n",
    "        \n",
    "    total = sum(list(counts.values()))\n",
    "    for key, value in counts.items():\n",
    "        counts[key] = value / total\n",
    "    return counts\n",
    "\n",
    "def no_prior_stops(aa_seq):\n",
    "    prior = aa_seq[0:len(aa_seq)-1]\n",
    "    if 'x' in prior:\n",
    "        return False\n",
    "    else:\n",
    "        return True"
   ]
  },
  {
   "cell_type": "code",
   "execution_count": 6,
   "metadata": {
    "collapsed": true
   },
   "outputs": [],
   "source": [
    "codon_map = {\"I\":[\"ATT\", \"ATC\", \"ATA\"],\"L\":[\"CTT\", \"CTC\", \"CTA\", \"CTG\", \"TTA\",\"TTG\"],\n",
    "          \"V\":[\"GTT\", \"GTC\", \"GTA\", \"GTG\"],\"F\":[\"TTT\", \"TTC\"],\"M\":[\"ATG\"],\"C\":[\"TGT\", \"TGC\"],\n",
    "          \"A\":[\"GCT\", \"GCC\", \"GCA\", \"GCG\"],\"G\":[\"GGT\", \"GGC\", \"GGA\", \"GGG\"],\n",
    "          \"P\":[\"CCT\", \"CCC\", \"CCA\", \"CCG\"],\n",
    "          \"T\":[\"ACT\", \"ACC\", \"ACA\", \"ACG\"],\"S\":[\"TCT\", \"TCC\", \"TCA\", \"TCG\", \"AGT\", \"AGC\"],\n",
    "          \"Y\":[\"TAT\", \"TAC\"],\"W\":[\"TGG\"],\"Q\":[\"CAA\", \"CAG\"],\"N\":[\"AAT\", \"AAC\"],\"H\":[\"CAT\", \"CAC\"],\n",
    "             \"E\":[\"GAA\", \"GAG\"],\"D\":[\"GAT\", \"GAC\"],\"K\":[\"AAA\", \"AAG\"],\n",
    "             \"R\":[\"CGT\", \"CGC\", \"CGA\", \"CGG\",\"AGA\", \"AGG\"],\"X\":[\"TAA\", \"TAG\", \"TGA\"]}\n",
    "\n",
    "def invert(d):\n",
    "    return dict( (v,k) for k in d for v in d[k] )\n",
    "\n",
    "codon_to_aa = invert(codon_map)\n",
    "\n",
    "def codonToAA(strand):\n",
    "    aa_seq = ''.join([codon_to_aa(codon) for codon in strand])\n",
    "    return aa_seq"
   ]
  },
  {
   "cell_type": "code",
   "execution_count": 7,
   "metadata": {
    "collapsed": false
   },
   "outputs": [],
   "source": [
    "## amino acid to nucleotide chart http://www.cbs.dtu.dk/courses/27619/codon.html\n",
    "## X === stop\n",
    "aa = [\"I\",\"L\",\"V\",\"F\",\"M\",\"C\",\"A\",\"G\",\"P\",\"T\",\"S\",\"Y\",\"W\",\"Q\",\"N\",\"H\",\"E\",\"D\",\"K\",\"R\",\"X\"]\n",
    "aa_name = [\"Isoleucine\",\"Leucine\",\"Valine\",\"Phenylalanine\",\"Methionine\",\"Cysteine\",\"Alanine\",\n",
    "           \"Glycine\",\"Proline\",\"Threonine\",\"Serine\",\"Tyrosine\",\"Tryptophan\",\n",
    "           \"Glutamine\",\"Asparagine\",\"Histidine\",\"Glutamic_acid\", \"Aspartic_acid\", \n",
    "           \"Lysine\",\"Arginine\",\"Stop_codons\"]\n",
    "codons = [[\"ATT\", \"ATC\", \"ATA\"],[\"CTT\", \"CTC\", \"CTA\", \"CTG\", \"TTA\",\" TTG\"],\n",
    "          [\"GTT\", \"GTC\", \"GTA\", \"GTG\"],[\"TTT\", \"TTC\"],[\"ATG\"],[\"TGT\", \"TGC\"],\n",
    "          [\"GCT\", \"GCC\", \"GCA\", \"GCG\"],[\"GGT\", \"GGC\", \"GGA\", \"GGG\"],\n",
    "          [\"CCT\", \"CCC\", \"CCA\", \"CCG\"],\n",
    "          [\"ACT\", \"ACC\", \"ACA\", \"ACG\"],[\"TCT\", \"TCC\", \"TCA\", \"TCG\", \"AGT\", \"AGC\"],\n",
    "          [\"TAT\", \"TAC\"],[\"TGG\"],[\"CAA\", \"CAG\"],[\"AAT\", \"AAC\"],[\"CAT\", \"CAC\"],[\"GAA\", \"GAG\"],\n",
    "          [\"GAT\", \"GAC\"],[\"AAA\", \"AAG\"],[\"CGT\", \"CGC\", \"CGA\", \"CGG\",\"AGA\", \"AGG\"],\n",
    "          [\"TAA\", \"TAG\", \"TGA\"]]\n",
    "\n",
    "codon_map = {\"I\":[\"ATT\", \"ATC\", \"ATA\"],\n",
    "             \"L\":[\"CTT\", \"CTC\", \"CTA\", \"CTG\", \"TTA\",\" TTG\"],\n",
    "             \"V\":[\"GTT\", \"GTC\", \"GTA\", \"GTG\"],\n",
    "             \"F\":[\"TTT\", \"TTC\"],\"M\":[\"ATG\"],\n",
    "             \"C\":[\"TGT\", \"TGC\"],\n",
    "             \"A\":[\"GCT\", \"GCC\", \"GCA\", \"GCG\"],\n",
    "             \"G\":[\"GGT\", \"GGC\", \"GGA\", \"GGG\"],\n",
    "             \"P\":[\"CCT\", \"CCC\", \"CCA\", \"CCG\"],\n",
    "             \"T\":[\"ACT\", \"ACC\", \"ACA\", \"ACG\"],\n",
    "             \"S\":[\"TCT\", \"TCC\", \"TCA\", \"TCG\", \"AGT\", \"AGC\"],\n",
    "             \"Y\":[\"TAT\", \"TAC\"],\n",
    "             \"W\":[\"TGG\"],\n",
    "             \"Q\":[\"CAA\", \"CAG\"],\n",
    "             \"N\":[\"AAT\", \"AAC\"],\n",
    "             \"H\":[\"CAT\", \"CAC\"],\n",
    "             \"E\":[\"GAA\", \"GAG\"],\n",
    "             \"D\":[\"GAT\", \"GAC\"],\n",
    "             \"K\":[\"AAA\", \"AAG\"],\n",
    "             \"R\":[\"CGT\", \"CGC\", \"CGA\", \"CGG\",\"AGA\", \"AGG\"],\n",
    "             \"Stop\":[\"TAA\", \"TAG\", \"TGA\"]}\n",
    "\n",
    "codon_properties_map = {}"
   ]
  },
  {
   "cell_type": "code",
   "execution_count": 8,
   "metadata": {
    "collapsed": false
   },
   "outputs": [],
   "source": [
    "## Thermofisher aa properties table\n",
    "from lxml import html\n",
    "def pull_page(url):\n",
    "    data = requests.get(url).text\n",
    "    return data\n",
    "tag = \"table table-bordered table-striped\"\n",
    "tag = \"table\"\n",
    "url = \"https://www.thermofisher.com/us/en/home/life-science/protein-biology/protein-biology-learning-center/protein-biology-resource-library/pierce-protein-methods/amino-acid-physical-properties.html\"\n",
    "\n",
    "page = html.fromstring(pull_page(url))\n",
    "tables = page.cssselect(tag)\n",
    "aa_table = pd.read_html(html.tostring(tables[0]),header=0)[0]\n"
   ]
  },
  {
   "cell_type": "markdown",
   "metadata": {},
   "source": [
    "### aa_properties\n",
    "Aliphatic: Alanine,Isoleucine,Leucine,Valine\n",
    "Aromatic: Phenylalanine, Tryptophan, Tyrosine\n",
    "Polar_neutral: Asparagine, Cysteine, Glutamine, Methionine,Serine,Threonine\n",
    "charged: Aspartic acid, Glutamic acid\n",
    "    \n",
    "Properties table\n",
    "https://www.thermofisher.com/us/en/home/life-science/protein-biology/protein-biology-learning-center/protein-biology-resource-library/pierce-protein-methods/amino-acid-physical-properties.html\n",
    "\n",
    "http://www.ncbi.nlm.nih.gov/pmc/articles/PMC3456822/pdf/10867_2004_Article_396406.pdf\n",
    "\n",
    "http://www.proteinstructures.com/Structure/Structure/amino-acids.html"
   ]
  },
  {
   "cell_type": "code",
   "execution_count": 9,
   "metadata": {
    "collapsed": false
   },
   "outputs": [],
   "source": [
    "# flipped_annot = annot[::-1]\n",
    "\n",
    "def check_gene_state(loc,annot,strand):\n",
    "    \"\"\"input: output: \"\"\"\n",
    "    start, end = int(loc[0]), int(loc[1])\n",
    "    fwd = list(set(annot[start:end+1]))\n",
    "    bhd = list(set(annot[start - 1:end]))\n",
    "    if strand == 'F':\n",
    "        states = list(set(annot[start:end]))\n",
    "        state = 'C'\n",
    "    else:\n",
    "        r_annot = flipped_annot\n",
    "        states = list(set(r_annot[start:end]))\n",
    "        state = 'R'\n",
    "    if len(states) == 1 and states[0] == state and len(fwd) != 1 and len(bhd) != 1:\n",
    "        return True\n",
    "    else:\n",
    "        return False"
   ]
  },
  {
   "cell_type": "code",
   "execution_count": 10,
   "metadata": {
    "collapsed": false
   },
   "outputs": [],
   "source": [
    "def build_training_data(annot, data):\n",
    "    \"\"\"This finds all the genes, non-coding regions, \n",
    "    reverse regions in the genome and returns them as a list\n",
    "    annot is the annotated genome with c's as forward genes, \n",
    "    n's as noncoding regions and r's as genes on the reverse complement strand. \n",
    "    data is the genome comprised of a's,t's,g's,c's. \n",
    "    Both annot and data are strings\"\"\"\n",
    "    d = []\n",
    "    i = 0\n",
    "    c = ''\n",
    "    start = 0\n",
    "    while i < len(annot)-1:\n",
    "        if str(annot[i]) != str(annot[i+1]):\n",
    "            end = i\n",
    "            d.append((start,end,str(c),str(annot[i-1])))\n",
    "            c = ''\n",
    "            start = i+1\n",
    "        else:\n",
    "            c = c + data[i]\n",
    "        i += 1\n",
    "    d.append((start,i,str(c),str(annot[i-1])))   \n",
    "    return d"
   ]
  },
  {
   "cell_type": "code",
   "execution_count": 11,
   "metadata": {
    "collapsed": false
   },
   "outputs": [],
   "source": [
    "from itertools import groupby\n",
    "\n",
    "def find_regions(annot,data):\n",
    "    \"\"\"This finds all the genes, non-coding regions, \n",
    "    reverse regions in the genome and returns them as a list\n",
    "    annot is the annotated genome with c's as forward genes, \n",
    "    n's as noncoding regions and r's as genes on the reverse complement strand. \n",
    "    data is the genome comprised of a's,t's,g's,c's. \n",
    "    Both annot and data are strings\"\"\"\n",
    "    stateGroups = groupby(enumerate(annot), lambda value: value[1])\n",
    "    genome_regions = [(state, [x for x, _ in iterator]) for state, iterator in stateGroups] \n",
    "    regions = [(region[0],min(region[1]),max(region[1])+1,\n",
    "                data[min(region[1]):max(region[1])+1]) for region in genome_regions]\n",
    "    return regions"
   ]
  },
  {
   "cell_type": "code",
   "execution_count": 12,
   "metadata": {
    "collapsed": false
   },
   "outputs": [],
   "source": [
    "def frameShift(seq,shift):\n",
    "    \"\"\"input: seq and shift -- shift not used....\"\"\"\n",
    "    new_seq = ''\n",
    "    for j, i in enumerate(seq):\n",
    "        if j % shift == 0:\n",
    "            new_seq = new_seq + i + ' '\n",
    "        else: \n",
    "            new_seq = new_seq + i\n",
    "    return new_seq\n",
    "\n",
    "\n",
    "# fs = [frameShift(seq,3) for seq in gene_df.sequence]"
   ]
  },
  {
   "cell_type": "code",
   "execution_count": 13,
   "metadata": {
    "collapsed": true
   },
   "outputs": [],
   "source": [
    "def state(annot):\n",
    "    \"\"\"input: states are possible annotations C forward gene,\n",
    "    N - not a gene, or R for reverse gene\"\"\"\n",
    "    states = list(set(annot))\n",
    "    return states\n",
    "\n",
    "def transitions(annot,state):\n",
    "    \"\"\"input: determine when transitions occur where annot is annotated \n",
    "    and state is the state i'm looking to transition from ouput: there location\"\"\"\n",
    "    trs = list(set(annot))\n",
    "    transits = {}\n",
    "    total = len(annot) \n",
    "\n",
    "    for transition_state in trs:\n",
    "        count = len([ts for i,ts in enumerate(annot[:-1]) if str(ts) == state and str(annot[i+1]) == transition_state])\n",
    "        transits[str(transition_state)] = count/total\n",
    "    return transits\n",
    "\n",
    "def emissions(genome,annot,state):\n",
    "    \"\"\"input: genome is  a genome, annot is its annotation, \n",
    "    state is the state i want to count nucleotide frequency of\"\"\"\n",
    "    ems = list(set(genome))\n",
    "    \n",
    "    emissions = {}\n",
    "    transition_totals = {}\n",
    "\n",
    "    total = len([letter for letter in annot if str(letter) == state])\n",
    "    for emission_state in ems:\n",
    "        count = len([letter for i,letter in enumerate(genome) if \n",
    "                     str(letter) == emission_state and str(annot[i])==state])\n",
    "        emissions[str(emission_state)] = count/total    \n",
    "    return emissions\n",
    "\n",
    "def prior_state_emissions(genome,annot):\n",
    "    \"\"\"input: \"\"\"\n",
    "    state_dictionary = {}\n",
    "    states = state(annot)\n",
    "    for s in states:\n",
    "        if s == 'N':\n",
    "            prob = 1\n",
    "        else:\n",
    "            prob = 0\n",
    "        em = emissions(genome,annot,s)\n",
    "        tr = transitions(annot,s)\n",
    "        state_dictionary[s] = [str(s),prob,em,tr]\n",
    "    return state_dictionary"
   ]
  },
  {
   "cell_type": "code",
   "execution_count": 14,
   "metadata": {
    "collapsed": true
   },
   "outputs": [],
   "source": [
    "# from collections import defaultdict\n",
    "def aa_find(seq):\n",
    "    \"\"\"find aa's in sequence\n",
    "    input: sequence, \n",
    "    output: dictionary of codons in sequence\"\"\"\n",
    "    codon_count = {}\n",
    "    for aa, codons in codon_map.items():\n",
    "        codon_count[aa] = 0\n",
    "        if any(x in seq for x in codons):\n",
    "            codon_count[aa] += 1\n",
    "    return codon_count"
   ]
  },
  {
   "cell_type": "code",
   "execution_count": 15,
   "metadata": {
    "collapsed": false
   },
   "outputs": [
    {
     "name": "stdout",
     "output_type": "stream",
     "text": [
      "Built table of sequences for each state in genome...\n",
      "  state  start   end                                                seq\n",
      "0     N      0   231  TTGTTGATATTCTGTTTTTTCTTTTTTAGTTTTCCACATGAAAAAT...\n",
      "1     C    231  1587  ATGACTGAAAATGAACAAATTTTTTGGAACAGGGTCTTGGAATTAG...\n",
      "2     N   1587  1741  CATGTGGAAAAGAATATCTTTTATGAAATAGTTATCCACAAGTTGT...\n",
      "3     C   1741  2878  ATGATTCAATTTTCAATTAATCGCACATTATTTATTCATGCTTTAA...\n",
      "4     N   2878  2952  GTAAGAAAAAGCTCCCTTTTAGGAGTTTTTTTGTTATTATAAATAT...\n",
      "State 'R' sequences were reverse complemented...\n"
     ]
    }
   ],
   "source": [
    "### Pipeline\n",
    "\n",
    "## load genome annotation\n",
    "annot = load_file(staph_annot[0])\n",
    "\n",
    "## load genome\n",
    "data = load_file(staph_url[0])\n",
    "\n",
    "## Built table of sequences for each state in genome\n",
    "region = find_regions(annot,data)\n",
    "# re = build_training_data(annot,data)\n",
    "regions = pd.DataFrame(region)\n",
    "regions.columns = [[\"state\",\"start\",\"end\",\"seq\"]]\n",
    "regions.head()\n",
    "print(\"Built table of sequences for each state in genome...\")\n",
    "print(regions.head(5))\n",
    "\n",
    "## Reverse Complement strands found on the Reverse strand\n",
    "regions.seq = regions.apply(lambda x: reverse_complement(x[3]) if x[0] == \"R\" else x[3],axis=1)\n",
    "print(\"State 'R' sequences were reverse complemented...\")"
   ]
  },
  {
   "cell_type": "code",
   "execution_count": 16,
   "metadata": {
    "collapsed": false
   },
   "outputs": [
    {
     "name": "stdout",
     "output_type": "stream",
     "text": [
      "StaphGenome1.pkl Saved!\n",
      "StaphGenome1_annot.pkl Saved!\n",
      "StaphGenome1_regions_df.pkl Saved!\n"
     ]
    },
    {
     "data": {
      "text/plain": [
       "True"
      ]
     },
     "execution_count": 16,
     "metadata": {},
     "output_type": "execute_result"
    }
   ],
   "source": [
    "## Save Data, corresponding Annotation\n",
    "def pickle_save(filename, variable):\n",
    "    filename = filename+'.pkl'\n",
    "    output = open(filename, 'wb')\n",
    "    pickle.dump(variable, output)\n",
    "    output.close()\n",
    "    print(filename + \" Saved!\")\n",
    "    return True\n",
    "\n",
    "pickle_save('StaphGenome1', data)\n",
    "pickle_save('StaphGenome1_annot', annot)\n",
    "pickle_save('StaphGenome1_regions_df', regions)"
   ]
  },
  {
   "cell_type": "code",
   "execution_count": 17,
   "metadata": {
    "collapsed": false
   },
   "outputs": [
    {
     "name": "stdout",
     "output_type": "stream",
     "text": [
      "StaphGenome1_regions_df.pkl dataframe sucessfully loaded!\n",
      "StaphGenome1.pkl sucessfully loaded!\n"
     ]
    }
   ],
   "source": [
    "import pandas as pd\n",
    "import os\n",
    "\n",
    "## Open Pickles in Folder\n",
    "def find_pickles():\n",
    "    directory_files = os.listdir()\n",
    "    filenames = []\n",
    "    for file in directory_files:\n",
    "        filename, file_extension = os.path.splitext(file)\n",
    "        if file_extension in ['.pkl','.p']:\n",
    "            filenames.append(file)\n",
    "    return filenames\n",
    "\n",
    "def open_pickles():\n",
    "    filenames = find_pickles()\n",
    "    d = {}\n",
    "    for file in filenames:\n",
    "        key = os.path.splitext(file)[0]\n",
    "        d[key] = pickle_open(file)\n",
    "    return d\n",
    "\n",
    "def pickle_open(filename, df=False):\n",
    "    \"\"\"Eventually check if we are opening a python 3 or python 2 file \n",
    "    and deal with discrepencies (python 3 pickle opened in python 2 etc...)\"\"\"\n",
    "    if df == True:\n",
    "        file = pd.read_pickle(filename)\n",
    "        print(filename + \" dataframe sucessfully loaded!\")\n",
    "    else:\n",
    "        file = pickle.load( open( filename, \"rb\" ) )\n",
    "        print(filename + \" sucessfully loaded!\")\n",
    "    return file\n",
    "\n",
    "df_test = pickle_open('StaphGenome1_regions_df.pkl',df=True)\n",
    "data2 = pickle_open('StaphGenome1.pkl')"
   ]
  },
  {
   "cell_type": "code",
   "execution_count": 18,
   "metadata": {
    "collapsed": false
   },
   "outputs": [
    {
     "data": {
      "text/plain": [
       "N    1449\n",
       "C     809\n",
       "R     639\n",
       "Name: state, dtype: int64"
      ]
     },
     "execution_count": 18,
     "metadata": {},
     "output_type": "execute_result"
    }
   ],
   "source": [
    "regions.state.value_counts()"
   ]
  },
  {
   "cell_type": "code",
   "execution_count": 19,
   "metadata": {
    "collapsed": false
   },
   "outputs": [
    {
     "ename": "KeyboardInterrupt",
     "evalue": "",
     "output_type": "error",
     "traceback": [
      "\u001b[0;31m---------------------------------------------------------------------------\u001b[0m",
      "\u001b[0;31mKeyboardInterrupt\u001b[0m                         Traceback (most recent call last)",
      "\u001b[0;32m<ipython-input-19-21d1ce9db478>\u001b[0m in \u001b[0;36m<module>\u001b[0;34m()\u001b[0m\n\u001b[1;32m      1\u001b[0m \u001b[0;31m## Find potential sequences\u001b[0m\u001b[0;34m\u001b[0m\u001b[0;34m\u001b[0m\u001b[0m\n\u001b[0;32m----> 2\u001b[0;31m \u001b[0mpot_sequences\u001b[0m \u001b[0;34m=\u001b[0m \u001b[0mpotentialGenes\u001b[0m\u001b[0;34m(\u001b[0m\u001b[0mdata\u001b[0m\u001b[0;34m)\u001b[0m\u001b[0;34m\u001b[0m\u001b[0m\n\u001b[0m\u001b[1;32m      3\u001b[0m \u001b[0mprint\u001b[0m\u001b[0;34m(\u001b[0m\u001b[0;34m\"Found potential sequences...\"\u001b[0m\u001b[0;34m)\u001b[0m\u001b[0;34m\u001b[0m\u001b[0m\n\u001b[1;32m      4\u001b[0m \u001b[0;34m\u001b[0m\u001b[0m\n\u001b[1;32m      5\u001b[0m \u001b[0;31m## Create DataFrame\u001b[0m\u001b[0;34m\u001b[0m\u001b[0;34m\u001b[0m\u001b[0m\n",
      "\u001b[0;32m<ipython-input-4-5e41ee471473>\u001b[0m in \u001b[0;36mpotentialGenes\u001b[0;34m(genome)\u001b[0m\n\u001b[1;32m     65\u001b[0m     \u001b[0mreversed_genome\u001b[0m \u001b[0;34m=\u001b[0m \u001b[0mreverse_complement\u001b[0m\u001b[0;34m(\u001b[0m\u001b[0mstr\u001b[0m\u001b[0;34m(\u001b[0m\u001b[0mgenome\u001b[0m\u001b[0;34m)\u001b[0m\u001b[0;34m)\u001b[0m\u001b[0;34m\u001b[0m\u001b[0m\n\u001b[1;32m     66\u001b[0m     \u001b[0mreverse\u001b[0m \u001b[0;34m=\u001b[0m \u001b[0mgeneList\u001b[0m\u001b[0;34m(\u001b[0m\u001b[0mreversed_genome\u001b[0m\u001b[0;34m,\u001b[0m\u001b[0;34m'R'\u001b[0m\u001b[0;34m)\u001b[0m\u001b[0;34m\u001b[0m\u001b[0m\n\u001b[0;32m---> 67\u001b[0;31m     \u001b[0mreverses\u001b[0m \u001b[0;34m=\u001b[0m \u001b[0mfixed\u001b[0m\u001b[0;34m(\u001b[0m\u001b[0mreverse\u001b[0m\u001b[0;34m,\u001b[0m \u001b[0mlen\u001b[0m\u001b[0;34m(\u001b[0m\u001b[0mgenome\u001b[0m\u001b[0;34m)\u001b[0m\u001b[0;34m)\u001b[0m\u001b[0;34m\u001b[0m\u001b[0m\n\u001b[0m\u001b[1;32m     68\u001b[0m     \u001b[0mcombos\u001b[0m \u001b[0;34m=\u001b[0m \u001b[0mforwards\u001b[0m \u001b[0;34m+\u001b[0m \u001b[0mreverses\u001b[0m\u001b[0;34m\u001b[0m\u001b[0m\n\u001b[1;32m     69\u001b[0m     \u001b[0;32mreturn\u001b[0m \u001b[0mcombos\u001b[0m\u001b[0;34m\u001b[0m\u001b[0m\n",
      "\u001b[0;32m<ipython-input-4-5e41ee471473>\u001b[0m in \u001b[0;36mfixed\u001b[0;34m(possible_reverse_sequences, genome_length)\u001b[0m\n\u001b[1;32m     54\u001b[0m     \u001b[0mfixed_reversed_sequences\u001b[0m \u001b[0;34m=\u001b[0m \u001b[0;34m[\u001b[0m\u001b[0;34m]\u001b[0m\u001b[0;34m\u001b[0m\u001b[0m\n\u001b[1;32m     55\u001b[0m     \u001b[0;32mfor\u001b[0m \u001b[0mpossible_reverse\u001b[0m \u001b[0;32min\u001b[0m \u001b[0mpossible_reverse_sequences\u001b[0m\u001b[0;34m:\u001b[0m\u001b[0;34m\u001b[0m\u001b[0m\n\u001b[0;32m---> 56\u001b[0;31m         \u001b[0mf\u001b[0m \u001b[0;34m=\u001b[0m \u001b[0;34m[\u001b[0m\u001b[0;34m(\u001b[0m\u001b[0mgenome_length\u001b[0m \u001b[0;34m-\u001b[0m \u001b[0mend\u001b[0m \u001b[0;34m,\u001b[0m \u001b[0mgenome_length\u001b[0m \u001b[0;34m-\u001b[0m \u001b[0mstart\u001b[0m\u001b[0;34m,\u001b[0m\u001b[0mend_codon\u001b[0m\u001b[0;34m,\u001b[0m\u001b[0mframe\u001b[0m\u001b[0;34m,\u001b[0m\u001b[0mstrand\u001b[0m\u001b[0;34m)\u001b[0m \u001b[0;32mfor\u001b[0m \u001b[0mstart\u001b[0m\u001b[0;34m,\u001b[0m\u001b[0mend\u001b[0m\u001b[0;34m,\u001b[0m\u001b[0mend_codon\u001b[0m\u001b[0;34m,\u001b[0m\u001b[0mframe\u001b[0m\u001b[0;34m,\u001b[0m\u001b[0mstrand\u001b[0m \u001b[0;32min\u001b[0m \u001b[0mpossible_reverse\u001b[0m\u001b[0;34m]\u001b[0m\u001b[0;34m\u001b[0m\u001b[0m\n\u001b[0m\u001b[1;32m     57\u001b[0m         \u001b[0mfixed_reversed_sequences\u001b[0m\u001b[0;34m.\u001b[0m\u001b[0mappend\u001b[0m\u001b[0;34m(\u001b[0m\u001b[0mf\u001b[0m\u001b[0;34m)\u001b[0m\u001b[0;34m\u001b[0m\u001b[0m\n\u001b[1;32m     58\u001b[0m     \u001b[0;32mreturn\u001b[0m \u001b[0mfixed_reversed_sequences\u001b[0m\u001b[0;34m\u001b[0m\u001b[0m\n",
      "\u001b[0;32m<ipython-input-4-5e41ee471473>\u001b[0m in \u001b[0;36m<listcomp>\u001b[0;34m(.0)\u001b[0m\n\u001b[1;32m     54\u001b[0m     \u001b[0mfixed_reversed_sequences\u001b[0m \u001b[0;34m=\u001b[0m \u001b[0;34m[\u001b[0m\u001b[0;34m]\u001b[0m\u001b[0;34m\u001b[0m\u001b[0m\n\u001b[1;32m     55\u001b[0m     \u001b[0;32mfor\u001b[0m \u001b[0mpossible_reverse\u001b[0m \u001b[0;32min\u001b[0m \u001b[0mpossible_reverse_sequences\u001b[0m\u001b[0;34m:\u001b[0m\u001b[0;34m\u001b[0m\u001b[0m\n\u001b[0;32m---> 56\u001b[0;31m         \u001b[0mf\u001b[0m \u001b[0;34m=\u001b[0m \u001b[0;34m[\u001b[0m\u001b[0;34m(\u001b[0m\u001b[0mgenome_length\u001b[0m \u001b[0;34m-\u001b[0m \u001b[0mend\u001b[0m \u001b[0;34m,\u001b[0m \u001b[0mgenome_length\u001b[0m \u001b[0;34m-\u001b[0m \u001b[0mstart\u001b[0m\u001b[0;34m,\u001b[0m\u001b[0mend_codon\u001b[0m\u001b[0;34m,\u001b[0m\u001b[0mframe\u001b[0m\u001b[0;34m,\u001b[0m\u001b[0mstrand\u001b[0m\u001b[0;34m)\u001b[0m \u001b[0;32mfor\u001b[0m \u001b[0mstart\u001b[0m\u001b[0;34m,\u001b[0m\u001b[0mend\u001b[0m\u001b[0;34m,\u001b[0m\u001b[0mend_codon\u001b[0m\u001b[0;34m,\u001b[0m\u001b[0mframe\u001b[0m\u001b[0;34m,\u001b[0m\u001b[0mstrand\u001b[0m \u001b[0;32min\u001b[0m \u001b[0mpossible_reverse\u001b[0m\u001b[0;34m]\u001b[0m\u001b[0;34m\u001b[0m\u001b[0m\n\u001b[0m\u001b[1;32m     57\u001b[0m         \u001b[0mfixed_reversed_sequences\u001b[0m\u001b[0;34m.\u001b[0m\u001b[0mappend\u001b[0m\u001b[0;34m(\u001b[0m\u001b[0mf\u001b[0m\u001b[0;34m)\u001b[0m\u001b[0;34m\u001b[0m\u001b[0m\n\u001b[1;32m     58\u001b[0m     \u001b[0;32mreturn\u001b[0m \u001b[0mfixed_reversed_sequences\u001b[0m\u001b[0;34m\u001b[0m\u001b[0m\n",
      "\u001b[0;31mKeyboardInterrupt\u001b[0m: "
     ]
    }
   ],
   "source": [
    "## Find potential sequences\n",
    "pot_sequences = potentialGenes(data)\n",
    "print(\"Found potential sequences...\")\n",
    "\n",
    "## Create DataFrame\n",
    "df = pd.DataFrame(list(pd.DataFrame(pot_sequences).unstack().dropna()))\n",
    "df.columns=[[\"start\",\"end\",\"end_codon\",\"shift\",\"strand\"]]\n",
    "print(\"Genome DataFrame Built...\")"
   ]
  },
  {
   "cell_type": "markdown",
   "metadata": {},
   "source": [
    "### Is this a STOP or not?\n",
    "How many potential stops are there?\n",
    "Can I visualize where I see them in the genome\n",
    "Can I visualize where the actual stops are in the genome\n",
    "Can I predict where the actual stops are in the genome and which frame the are?"
   ]
  },
  {
   "cell_type": "code",
   "execution_count": 113,
   "metadata": {
    "collapsed": true
   },
   "outputs": [],
   "source": [
    "## Find all potential stop locations\n",
    "## Find closest in frame start\n",
    "## Tag if its (in) a gene or not and which frame we have found it within"
   ]
  },
  {
   "cell_type": "code",
   "execution_count": null,
   "metadata": {
    "collapsed": true
   },
   "outputs": [],
   "source": [
    "# def pos_fix(reverse_end_indices,genome_length):\n",
    "#     pos_list = [genome_length - indice - 1 for indice in reverse_end_indices]\n",
    "#     return pos_list\n",
    "\n",
    "# def stop_indices(genome):\n",
    "#     stops = [\"TAA\",\"TAG\",\"TGA\"]\n",
    "#     forward = [finds(genome,stop) for stop in stops]\n",
    "#     reverse = [pos_fix(finds(reverse_complement(genome), stop),len(genome)) for stop in stops]\n",
    "#     stop_locations = forward + reverse\n",
    "#     return stop_locations\n",
    "\n",
    "# def finds(seq,pattern):\n",
    "#     \"\"\"input: A sequence string (the genome) and a pattern sequence are\n",
    "#     taken and all the patterns in the sequence are found\n",
    "#     output: a list of start indices \n",
    "#     *** on this reverse strand... these are from the end of the sequence!!\"\"\"\n",
    "#     starts = [m.start() for m in re.finditer(pattern, seq)]\n",
    "#     return starts"
   ]
  },
  {
   "cell_type": "code",
   "execution_count": 60,
   "metadata": {
    "collapsed": true
   },
   "outputs": [],
   "source": [
    "import itertools\n",
    "from itertools import product\n",
    "\n",
    "def find_all_occurrences(pattern, string):\n",
    "    \"\"\"finds all occurrences of pattern in string, \n",
    "    returning a list of positions for each occurrence\"\"\"\n",
    "    occurence_indices = [m.start() for m in re.finditer(pattern, string)]\n",
    "    return occurence_indices\n",
    "\n",
    "def stop_indices(seq):\n",
    "    patterns = [\"TAA\",\"TAG\",\"TGA\"]\n",
    "    stop_locations = [find_all_occurrences(pattern,seq) for pattern in patterns]\n",
    "    stop_locations = list(itertools.chain(*stop_locations))\n",
    "    return stop_locations\n",
    "\n",
    "def start_indices(seq):\n",
    "    pattern = \"ATG\"\n",
    "    start_locations = find_all_occurrences(pattern,seq)\n",
    "    return start_locations\n",
    "\n",
    "def start_stops(genome):\n",
    "    \"\"\"input: output:\"\"\"\n",
    "    stop_locations = sorted(stop_indices(genome))\n",
    "    start_locations = start_indices(genome)\n",
    "    return [start_locations, stop_locations]\n",
    "\n",
    "# def split_into_frames(starts,stops):\n",
    "#     \"\"\"input: starts and stops are a list of indices \n",
    "#     where starts: (ATGs) or stops: (taa,tag,tga) where found in the genome.\n",
    "#     output: a list of tuples in the form of [...(start, stop, frame),...]\"\"\"\n",
    "#     res = []\n",
    "#     for i in range(3):\n",
    "#         s = np.array([-1] + [start for start in starts if (start - i) % 3 == 0])\n",
    "#         e = [end for end in stops if (end - i) % 3 == 0]\n",
    "#         indices = np.searchsorted(s,e)\n",
    "#         res += [(s[ind-1],e[index]+3,i) for index,ind in enumerate(indices)]\n",
    "#     return res\n",
    "\n",
    "def split_into_frames(starts,stops):\n",
    "    \"\"\"input: starts and stops are a list of indices \n",
    "    where starts: (ATGs) or stops: (taa,tag,tga) where found in the genome.\n",
    "    output: a list of tuples in the form of [...(start, stop, frame),...]\"\"\"\n",
    "    res = []\n",
    "    for i in range(3):\n",
    "        s = np.array([-1] + [start for start in starts if (start - i) % 3 == 0])\n",
    "        e = [end for end in stops if (end - i) % 3 == 0]\n",
    "        indices = np.searchsorted(e,s)\n",
    "        res += [(s[index],e[ind]+3,i) for index,ind in enumerate(indices)]\n",
    "    return res\n",
    "\n",
    "def process_genome(genome):\n",
    "    \"\"\"input:  \n",
    "    output: \"\"\"\n",
    "    starts, stops = start_stops(genome)\n",
    "    pairs = [pair for pair in split_into_frames(starts,stops) if pair[0] !=-1]\n",
    "    pairs = [pair for pair in pairs if pair[1] - pair[0] > 200]\n",
    "    return pairs\n",
    "\n",
    "def genome_end_genes(genome):\n",
    "    \"\"\"input: \n",
    "    output: \"\"\"\n",
    "    starts, stops = closest_inframe_start(genome)\n",
    "    pairs = [pair for pair in closest_start_end(starts,stops) if pair[0] !=-1]\n",
    "    return pairs\n",
    "\n",
    "# def split_into_frames(starts,stops):\n",
    "#     res = []\n",
    "#     for i in range(3):\n",
    "#         s = np.array([-1] + [start for start in starts if (start - i) % 3 == 0])\n",
    "#         e = [end for end in stops if (end - i) % 3 == 0]\n",
    "#         res += clever_name(s,e)\n",
    "#     return res\n",
    "    \n",
    "    \n",
    "# def clever_name(s,e):\n",
    "#     indices = np.searchsorted(s,e)\n",
    "#     return np.stack([s[indices-1], e]).T\n",
    "\n"
   ]
  },
  {
   "cell_type": "code",
   "execution_count": null,
   "metadata": {
    "collapsed": true
   },
   "outputs": [],
   "source": []
  },
  {
   "cell_type": "code",
   "execution_count": 61,
   "metadata": {
    "collapsed": true
   },
   "outputs": [],
   "source": [
    "starts, stops = start_stops(data)\n",
    "pairs = [pair for pair in split_into_frames(starts,stops) if pair[0] !=-1]"
   ]
  },
  {
   "cell_type": "code",
   "execution_count": 62,
   "metadata": {
    "collapsed": false
   },
   "outputs": [],
   "source": [
    "# pd.DataFrame(pairs,columns=[\"start\",'stop','frame']).sort_values(by='stop')"
   ]
  },
  {
   "cell_type": "code",
   "execution_count": 63,
   "metadata": {
    "collapsed": false
   },
   "outputs": [],
   "source": [
    "# pd.DataFrame(pairs,columns=[\"start\",'stop','frame']).groupby(['stop']).max().reset_index()"
   ]
  },
  {
   "cell_type": "code",
   "execution_count": 64,
   "metadata": {
    "collapsed": false
   },
   "outputs": [
    {
     "name": "stdout",
     "output_type": "stream",
     "text": [
      "Method not found and lost forever...\n"
     ]
    }
   ],
   "source": [
    "## Find lost / deleted code in unterminated notebook\n",
    "import re\n",
    "import inspect\n",
    "\n",
    "def lost_code(method_name):\n",
    "    \"\"\"input: potential method name output: prints method name \"\"\"\n",
    "    try: \n",
    "        x = inspect.getsource(method_name)\n",
    "        print(x)\n",
    "    except: \n",
    "        print(\"Method not found and lost forever...\")\n",
    "lost_code('closest_start_end')"
   ]
  },
  {
   "cell_type": "code",
   "execution_count": 121,
   "metadata": {
    "collapsed": false
   },
   "outputs": [],
   "source": [
    "## Pipeline\n",
    "r_data = reverse_complement(data)\n",
    "\n",
    "## Build pair sets\n",
    "F_pairs = process_genome(data)\n",
    "# R_pairs = genome_end_genes(r_data)\n",
    "# term =  genome_end_genes(r_data)\n",
    "pair_df = pd.DataFrame(F_pairs,columns=[\"start\",'end','frame']).groupby(['end']).max().reset_index()"
   ]
  },
  {
   "cell_type": "code",
   "execution_count": 66,
   "metadata": {
    "collapsed": false
   },
   "outputs": [
    {
     "data": {
      "text/html": [
       "<div>\n",
       "<table border=\"1\" class=\"dataframe\">\n",
       "  <thead>\n",
       "    <tr style=\"text-align: right;\">\n",
       "      <th></th>\n",
       "      <th>start</th>\n",
       "      <th>end</th>\n",
       "      <th>frame</th>\n",
       "      <th>seq</th>\n",
       "      <th>state</th>\n",
       "    </tr>\n",
       "  </thead>\n",
       "  <tbody>\n",
       "    <tr>\n",
       "      <th>2403</th>\n",
       "      <td>67120</td>\n",
       "      <td>67465</td>\n",
       "      <td>1</td>\n",
       "      <td>ATGGCAGAAATTACTTCAGCTAAAGCAATGGCTCGTACAGTGCGTG...</td>\n",
       "      <td>C</td>\n",
       "    </tr>\n",
       "    <tr>\n",
       "      <th>6009</th>\n",
       "      <td>932510</td>\n",
       "      <td>932795</td>\n",
       "      <td>2</td>\n",
       "      <td>ATGATTCCAAGCCCAGTTCTTGGTGGAGCCATGCTTGTTCTCTTTG...</td>\n",
       "      <td>C</td>\n",
       "    </tr>\n",
       "    <tr>\n",
       "      <th>1011</th>\n",
       "      <td>578382</td>\n",
       "      <td>579645</td>\n",
       "      <td>0</td>\n",
       "      <td>ATGATTAAATCAATTGCAACACTGCCTAAACCTTCCTTGAAAGAAG...</td>\n",
       "      <td>C</td>\n",
       "    </tr>\n",
       "    <tr>\n",
       "      <th>5878</th>\n",
       "      <td>862967</td>\n",
       "      <td>863732</td>\n",
       "      <td>2</td>\n",
       "      <td>ATGGATGTGATTCAAGAACGTTTGGAACGTGAATTTAACATTGATT...</td>\n",
       "      <td>C</td>\n",
       "    </tr>\n",
       "    <tr>\n",
       "      <th>98</th>\n",
       "      <td>94875</td>\n",
       "      <td>97152</td>\n",
       "      <td>0</td>\n",
       "      <td>ATGGAGCGTAACGTGCGTGAGCGTATGTCTGTTCAAGACAACGATG...</td>\n",
       "      <td>C</td>\n",
       "    </tr>\n",
       "    <tr>\n",
       "      <th>4442</th>\n",
       "      <td>3815</td>\n",
       "      <td>4595</td>\n",
       "      <td>2</td>\n",
       "      <td>ATGCGTGAACAAGGTCGTGAGGATGCTTTCGTTGATCCTATAGCAG...</td>\n",
       "      <td>C</td>\n",
       "    </tr>\n",
       "    <tr>\n",
       "      <th>6099</th>\n",
       "      <td>975023</td>\n",
       "      <td>976319</td>\n",
       "      <td>2</td>\n",
       "      <td>ATGAATATGGTCTTGGAGGAAATTGCCAAAATGGGCATTAAAAACC...</td>\n",
       "      <td>C</td>\n",
       "    </tr>\n",
       "    <tr>\n",
       "      <th>5046</th>\n",
       "      <td>368570</td>\n",
       "      <td>369125</td>\n",
       "      <td>2</td>\n",
       "      <td>ATGAAATTTGAAGAAAAAACGCTTAAGAGACAAACAGTTTTTGATG...</td>\n",
       "      <td>C</td>\n",
       "    </tr>\n",
       "    <tr>\n",
       "      <th>3330</th>\n",
       "      <td>591637</td>\n",
       "      <td>597817</td>\n",
       "      <td>1</td>\n",
       "      <td>ATGTTTTTAAAACACCAAGATGTGAAACAAAAAAATTGGAGAATGC...</td>\n",
       "      <td>C</td>\n",
       "    </tr>\n",
       "    <tr>\n",
       "      <th>1172</th>\n",
       "      <td>657708</td>\n",
       "      <td>658128</td>\n",
       "      <td>0</td>\n",
       "      <td>ATGGTAATTAATCTGATTAATATGAATAATATTTTTCAGTTTGGCG...</td>\n",
       "      <td>C</td>\n",
       "    </tr>\n",
       "    <tr>\n",
       "      <th>1541</th>\n",
       "      <td>864384</td>\n",
       "      <td>864648</td>\n",
       "      <td>0</td>\n",
       "      <td>ATGGTCTTCCAGGTAAAGACGGCAAGGACGGCCAAAACGGTAAAGA...</td>\n",
       "      <td>C</td>\n",
       "    </tr>\n",
       "    <tr>\n",
       "      <th>4659</th>\n",
       "      <td>173558</td>\n",
       "      <td>173825</td>\n",
       "      <td>2</td>\n",
       "      <td>ATGAAGGGGCAGACATTCATACCTCAACGGCTATGCGTGTGTTTGG...</td>\n",
       "      <td>C</td>\n",
       "    </tr>\n",
       "    <tr>\n",
       "      <th>2299</th>\n",
       "      <td>12397</td>\n",
       "      <td>12784</td>\n",
       "      <td>1</td>\n",
       "      <td>ATGAAACACATCGATACTCATGTTGAAATTGATTTTATGGTAGTAT...</td>\n",
       "      <td>C</td>\n",
       "    </tr>\n",
       "    <tr>\n",
       "      <th>5491</th>\n",
       "      <td>690779</td>\n",
       "      <td>691097</td>\n",
       "      <td>2</td>\n",
       "      <td>ATGTTGGTATCTGTCACAGAGCGAACTAGAGAAATTGGTTTACGTA...</td>\n",
       "      <td>C</td>\n",
       "    </tr>\n",
       "    <tr>\n",
       "      <th>6541</th>\n",
       "      <td>1791953</td>\n",
       "      <td>1792331</td>\n",
       "      <td>2</td>\n",
       "      <td>ATGGTTTCCTTTGAAGGAGAAACTGGACCTTATGTTCAATACGCTC...</td>\n",
       "      <td>C</td>\n",
       "    </tr>\n",
       "    <tr>\n",
       "      <th>3364</th>\n",
       "      <td>622369</td>\n",
       "      <td>622900</td>\n",
       "      <td>1</td>\n",
       "      <td>ATGACTTCAGGCAATGTTTTGATTAGAGATGCTGTTTGGGAACATA...</td>\n",
       "      <td>C</td>\n",
       "    </tr>\n",
       "    <tr>\n",
       "      <th>5268</th>\n",
       "      <td>547484</td>\n",
       "      <td>548366</td>\n",
       "      <td>2</td>\n",
       "      <td>ATGGATTTTATCCAGGAGTGTTTTAGGCGTACTTGGGCGGCTAAGC...</td>\n",
       "      <td>C</td>\n",
       "    </tr>\n",
       "    <tr>\n",
       "      <th>6146</th>\n",
       "      <td>1039730</td>\n",
       "      <td>1040111</td>\n",
       "      <td>2</td>\n",
       "      <td>ATGAATCACTTCAAAAATGACACTCTGGATGATTTGTACCGTTTGT...</td>\n",
       "      <td>C</td>\n",
       "    </tr>\n",
       "    <tr>\n",
       "      <th>221</th>\n",
       "      <td>138459</td>\n",
       "      <td>138750</td>\n",
       "      <td>0</td>\n",
       "      <td>ATGACGTGGTTTGAAAATGTAACACCTGATAGCTATATGACAGCCC...</td>\n",
       "      <td>C</td>\n",
       "    </tr>\n",
       "    <tr>\n",
       "      <th>3537</th>\n",
       "      <td>730714</td>\n",
       "      <td>731080</td>\n",
       "      <td>1</td>\n",
       "      <td>ATGTTTGATGTTAGACGTGTAGGGGAAGATCTTTATTTAGATGCTA...</td>\n",
       "      <td>C</td>\n",
       "    </tr>\n",
       "    <tr>\n",
       "      <th>281</th>\n",
       "      <td>169854</td>\n",
       "      <td>171393</td>\n",
       "      <td>0</td>\n",
       "      <td>ATGTTTTTCCTTGCTAAGAAAAAATGGCCTTTGCCAACCTTTACCT...</td>\n",
       "      <td>C</td>\n",
       "    </tr>\n",
       "    <tr>\n",
       "      <th>650</th>\n",
       "      <td>381576</td>\n",
       "      <td>382119</td>\n",
       "      <td>0</td>\n",
       "      <td>ATGAAAGAACTATGGCCTAAAAAAGGGGATAAACTTTACATTCGTT...</td>\n",
       "      <td>C</td>\n",
       "    </tr>\n",
       "    <tr>\n",
       "      <th>4627</th>\n",
       "      <td>163946</td>\n",
       "      <td>164651</td>\n",
       "      <td>2</td>\n",
       "      <td>ATGGCGAAAAACTTGCAAGAAATGCGTGAACGTGTCTGTGCGGCTA...</td>\n",
       "      <td>C</td>\n",
       "    </tr>\n",
       "    <tr>\n",
       "      <th>965</th>\n",
       "      <td>548430</td>\n",
       "      <td>549882</td>\n",
       "      <td>0</td>\n",
       "      <td>ATGACAACGCAGAGTCTTACAAATATAACTGATCATCCTAAAATAG...</td>\n",
       "      <td>C</td>\n",
       "    </tr>\n",
       "    <tr>\n",
       "      <th>2676</th>\n",
       "      <td>207649</td>\n",
       "      <td>208255</td>\n",
       "      <td>1</td>\n",
       "      <td>ATGGTTTATCATACTGAGAATGTAACCTTGAATACCAAATTGAATG...</td>\n",
       "      <td>C</td>\n",
       "    </tr>\n",
       "    <tr>\n",
       "      <th>4690</th>\n",
       "      <td>202844</td>\n",
       "      <td>203846</td>\n",
       "      <td>2</td>\n",
       "      <td>ATGAATGGAATGAGCCTTATTAACACGGCTATCGTGATTTTTGTCG...</td>\n",
       "      <td>C</td>\n",
       "    </tr>\n",
       "    <tr>\n",
       "      <th>598</th>\n",
       "      <td>320898</td>\n",
       "      <td>321819</td>\n",
       "      <td>0</td>\n",
       "      <td>ATGAAAAAAAGATATCAGACATTAAATGAGCATTACCGTCAACTAT...</td>\n",
       "      <td>C</td>\n",
       "    </tr>\n",
       "    <tr>\n",
       "      <th>6564</th>\n",
       "      <td>1835753</td>\n",
       "      <td>1836224</td>\n",
       "      <td>2</td>\n",
       "      <td>ATGGAGGACTATGACAAGACGCATGCATCCACTATCGCTGTGATGA...</td>\n",
       "      <td>C</td>\n",
       "    </tr>\n",
       "    <tr>\n",
       "      <th>1271</th>\n",
       "      <td>707880</td>\n",
       "      <td>708240</td>\n",
       "      <td>0</td>\n",
       "      <td>ATGGCAGGTGGTATGGTACCTCCTCTTGCTGTTTTTGTAGCCACTC...</td>\n",
       "      <td>C</td>\n",
       "    </tr>\n",
       "    <tr>\n",
       "      <th>3878</th>\n",
       "      <td>925411</td>\n",
       "      <td>925660</td>\n",
       "      <td>1</td>\n",
       "      <td>ATGGTCTCCAAAGATGATGGTATTATTATTAATTTAGGGTCAACCG...</td>\n",
       "      <td>C</td>\n",
       "    </tr>\n",
       "    <tr>\n",
       "      <th>...</th>\n",
       "      <td>...</td>\n",
       "      <td>...</td>\n",
       "      <td>...</td>\n",
       "      <td>...</td>\n",
       "      <td>...</td>\n",
       "    </tr>\n",
       "    <tr>\n",
       "      <th>3458</th>\n",
       "      <td>669064</td>\n",
       "      <td>670417</td>\n",
       "      <td>1</td>\n",
       "      <td>ATGGTTATTCCTTATGATTATATTGTTATTGGTGGAGGGAGTGCAG...</td>\n",
       "      <td>C</td>\n",
       "    </tr>\n",
       "    <tr>\n",
       "      <th>3011</th>\n",
       "      <td>412237</td>\n",
       "      <td>412528</td>\n",
       "      <td>1</td>\n",
       "      <td>ATGGGTAAAGACTTCAAAGCCATTTTTAGTGACATGGCCACAGTCT...</td>\n",
       "      <td>C</td>\n",
       "    </tr>\n",
       "    <tr>\n",
       "      <th>2443</th>\n",
       "      <td>88687</td>\n",
       "      <td>89188</td>\n",
       "      <td>1</td>\n",
       "      <td>ATGAGTAAGTCGCATAGTTCATCAAGCATGAGTTTAGAACAATACC...</td>\n",
       "      <td>C</td>\n",
       "    </tr>\n",
       "    <tr>\n",
       "      <th>4431</th>\n",
       "      <td>1845934</td>\n",
       "      <td>1847632</td>\n",
       "      <td>1</td>\n",
       "      <td>ATGATTTACGTAGGATTATTTCCCCTAATGCTTAGTGTTATTTATT...</td>\n",
       "      <td>C</td>\n",
       "    </tr>\n",
       "    <tr>\n",
       "      <th>4504</th>\n",
       "      <td>47183</td>\n",
       "      <td>47765</td>\n",
       "      <td>2</td>\n",
       "      <td>ATGGGTGCCTATGCGCCAGTTCCTCATCTACCTCAGAGCGTGGTAG...</td>\n",
       "      <td>C</td>\n",
       "    </tr>\n",
       "    <tr>\n",
       "      <th>2809</th>\n",
       "      <td>313537</td>\n",
       "      <td>314296</td>\n",
       "      <td>1</td>\n",
       "      <td>ATGATAAATCAAGAGACCCAGCGTGAGATTAAGGTAACTCCCCATG...</td>\n",
       "      <td>C</td>\n",
       "    </tr>\n",
       "    <tr>\n",
       "      <th>2546</th>\n",
       "      <td>140737</td>\n",
       "      <td>141043</td>\n",
       "      <td>1</td>\n",
       "      <td>ATGGCTGTTGCCCGGCAAATTCGGGAGGATTATCTCCAGCAAAATG...</td>\n",
       "      <td>C</td>\n",
       "    </tr>\n",
       "    <tr>\n",
       "      <th>3558</th>\n",
       "      <td>757756</td>\n",
       "      <td>757996</td>\n",
       "      <td>1</td>\n",
       "      <td>ATGACAGTAATTGAGGGTGATGTTCCAATTAATGAATTGGATAAAT...</td>\n",
       "      <td>C</td>\n",
       "    </tr>\n",
       "    <tr>\n",
       "      <th>6263</th>\n",
       "      <td>1323650</td>\n",
       "      <td>1324397</td>\n",
       "      <td>2</td>\n",
       "      <td>ATGGAGAAAAATAATCCTCGCCTCCAATTCACCACACGTTTTGATA...</td>\n",
       "      <td>C</td>\n",
       "    </tr>\n",
       "    <tr>\n",
       "      <th>4454</th>\n",
       "      <td>9287</td>\n",
       "      <td>9533</td>\n",
       "      <td>2</td>\n",
       "      <td>ATGTTTTTATTTATTTTGCCAACTTATAATCTTGTCAAAAGTTATG...</td>\n",
       "      <td>C</td>\n",
       "    </tr>\n",
       "    <tr>\n",
       "      <th>142</th>\n",
       "      <td>98874</td>\n",
       "      <td>100884</td>\n",
       "      <td>0</td>\n",
       "      <td>ATGCCAAACAAACCTTGGAAAGACAATCAAAGACATAAAATCATGG...</td>\n",
       "      <td>C</td>\n",
       "    </tr>\n",
       "    <tr>\n",
       "      <th>2493</th>\n",
       "      <td>119221</td>\n",
       "      <td>119617</td>\n",
       "      <td>1</td>\n",
       "      <td>ATGATTATCAAAAGAAACGATATGGCTCCTAGTGTAAAAGCAGGAG...</td>\n",
       "      <td>C</td>\n",
       "    </tr>\n",
       "    <tr>\n",
       "      <th>5480</th>\n",
       "      <td>687392</td>\n",
       "      <td>687677</td>\n",
       "      <td>2</td>\n",
       "      <td>ATGGCTACTCAAGGTACAGCAGCTTACTTTGCTGAGCAAGGCTTAA...</td>\n",
       "      <td>C</td>\n",
       "    </tr>\n",
       "    <tr>\n",
       "      <th>2924</th>\n",
       "      <td>376159</td>\n",
       "      <td>377629</td>\n",
       "      <td>1</td>\n",
       "      <td>ATGGATGAACCTGTTGAAGTTGATTTCACACCAAAAACCCATCTTC...</td>\n",
       "      <td>C</td>\n",
       "    </tr>\n",
       "    <tr>\n",
       "      <th>2136</th>\n",
       "      <td>1682595</td>\n",
       "      <td>1683021</td>\n",
       "      <td>0</td>\n",
       "      <td>ATGGAATCAGAATTTTTCGTAAAAATCCCTAAGAAGCGTGGCAAAA...</td>\n",
       "      <td>C</td>\n",
       "    </tr>\n",
       "    <tr>\n",
       "      <th>4162</th>\n",
       "      <td>1427281</td>\n",
       "      <td>1427491</td>\n",
       "      <td>1</td>\n",
       "      <td>ATGAGAAGAGCCATTTGCTTGTTTTCGAGCAGCCTGTTCCTTTGCA...</td>\n",
       "      <td>C</td>\n",
       "    </tr>\n",
       "    <tr>\n",
       "      <th>489</th>\n",
       "      <td>248580</td>\n",
       "      <td>249351</td>\n",
       "      <td>0</td>\n",
       "      <td>ATGTCAATTCTTGAGATTAATAATTTACATGTTTCAATAGAAGGTA...</td>\n",
       "      <td>C</td>\n",
       "    </tr>\n",
       "    <tr>\n",
       "      <th>3672</th>\n",
       "      <td>835588</td>\n",
       "      <td>836590</td>\n",
       "      <td>1</td>\n",
       "      <td>ATGATGTCAGAAACAAAATTAATGGCTTTGCGTGAAGCAGTCAACC...</td>\n",
       "      <td>C</td>\n",
       "    </tr>\n",
       "    <tr>\n",
       "      <th>3280</th>\n",
       "      <td>572038</td>\n",
       "      <td>573586</td>\n",
       "      <td>1</td>\n",
       "      <td>ATGAAAAAGAAAATTCTTTTAATGATGAGTTTAATCAGTGTCTTTT...</td>\n",
       "      <td>C</td>\n",
       "    </tr>\n",
       "    <tr>\n",
       "      <th>689</th>\n",
       "      <td>418344</td>\n",
       "      <td>419295</td>\n",
       "      <td>0</td>\n",
       "      <td>ATGAACTGCCCACACCACATTCAAGTGTATAAAAATCATGTGCGTT...</td>\n",
       "      <td>C</td>\n",
       "    </tr>\n",
       "    <tr>\n",
       "      <th>2069</th>\n",
       "      <td>1539333</td>\n",
       "      <td>1539612</td>\n",
       "      <td>0</td>\n",
       "      <td>ATGTATTTCACAGTCCATGTCATTTCCATGTTTTCTGGTTTCCTCC...</td>\n",
       "      <td>C</td>\n",
       "    </tr>\n",
       "    <tr>\n",
       "      <th>3666</th>\n",
       "      <td>832843</td>\n",
       "      <td>834280</td>\n",
       "      <td>1</td>\n",
       "      <td>ATGACTATCGCTGAGCTGTCAGGGGGTCAAAATACTCGTCTGGCCT...</td>\n",
       "      <td>C</td>\n",
       "    </tr>\n",
       "    <tr>\n",
       "      <th>2664</th>\n",
       "      <td>205585</td>\n",
       "      <td>206728</td>\n",
       "      <td>1</td>\n",
       "      <td>ATGTCTGAATTTAATAGAGTTCTTGGAGGGGGTGTGGTTCCTGGAA...</td>\n",
       "      <td>C</td>\n",
       "    </tr>\n",
       "    <tr>\n",
       "      <th>6094</th>\n",
       "      <td>963968</td>\n",
       "      <td>964352</td>\n",
       "      <td>2</td>\n",
       "      <td>ATGCATCGCAATTCCTATATGGATTCACCAAATCTTTTAACCGAAA...</td>\n",
       "      <td>C</td>\n",
       "    </tr>\n",
       "    <tr>\n",
       "      <th>550</th>\n",
       "      <td>276990</td>\n",
       "      <td>277941</td>\n",
       "      <td>0</td>\n",
       "      <td>ATGGCTCTTAAAAATGGTGCAGATATTGTTGTGGAATTGCCCTTTT...</td>\n",
       "      <td>C</td>\n",
       "    </tr>\n",
       "    <tr>\n",
       "      <th>4265</th>\n",
       "      <td>1633549</td>\n",
       "      <td>1633783</td>\n",
       "      <td>1</td>\n",
       "      <td>ATGACCGACTTCGATACCACGCGCAAACTGGAGAACACCATGACCG...</td>\n",
       "      <td>C</td>\n",
       "    </tr>\n",
       "    <tr>\n",
       "      <th>4949</th>\n",
       "      <td>325259</td>\n",
       "      <td>325814</td>\n",
       "      <td>2</td>\n",
       "      <td>ATGTTTAAAGAAAATGGCATCGAGGTGCCAAAAGCGATTGCAGGGA...</td>\n",
       "      <td>C</td>\n",
       "    </tr>\n",
       "    <tr>\n",
       "      <th>355</th>\n",
       "      <td>200904</td>\n",
       "      <td>202059</td>\n",
       "      <td>0</td>\n",
       "      <td>ATGGATAAGATTAATCGCATCGCTAAGGAAAATCTCCGTGGCGTTC...</td>\n",
       "      <td>C</td>\n",
       "    </tr>\n",
       "    <tr>\n",
       "      <th>2523</th>\n",
       "      <td>134989</td>\n",
       "      <td>136603</td>\n",
       "      <td>1</td>\n",
       "      <td>ATGATGTCACAAAAGATAGAGCGACTAGAGCAGCTGCAAAGCAAAA...</td>\n",
       "      <td>C</td>\n",
       "    </tr>\n",
       "    <tr>\n",
       "      <th>1421</th>\n",
       "      <td>788484</td>\n",
       "      <td>789030</td>\n",
       "      <td>0</td>\n",
       "      <td>ATGAAACGTGCTGAACGTTGTGAAGGATATGATGGATTCGAGGCTG...</td>\n",
       "      <td>C</td>\n",
       "    </tr>\n",
       "  </tbody>\n",
       "</table>\n",
       "<p>809 rows × 5 columns</p>\n",
       "</div>"
      ],
      "text/plain": [
       "        start      end  frame  \\\n",
       "2403    67120    67465      1   \n",
       "6009   932510   932795      2   \n",
       "1011   578382   579645      0   \n",
       "5878   862967   863732      2   \n",
       "98      94875    97152      0   \n",
       "4442     3815     4595      2   \n",
       "6099   975023   976319      2   \n",
       "5046   368570   369125      2   \n",
       "3330   591637   597817      1   \n",
       "1172   657708   658128      0   \n",
       "1541   864384   864648      0   \n",
       "4659   173558   173825      2   \n",
       "2299    12397    12784      1   \n",
       "5491   690779   691097      2   \n",
       "6541  1791953  1792331      2   \n",
       "3364   622369   622900      1   \n",
       "5268   547484   548366      2   \n",
       "6146  1039730  1040111      2   \n",
       "221    138459   138750      0   \n",
       "3537   730714   731080      1   \n",
       "281    169854   171393      0   \n",
       "650    381576   382119      0   \n",
       "4627   163946   164651      2   \n",
       "965    548430   549882      0   \n",
       "2676   207649   208255      1   \n",
       "4690   202844   203846      2   \n",
       "598    320898   321819      0   \n",
       "6564  1835753  1836224      2   \n",
       "1271   707880   708240      0   \n",
       "3878   925411   925660      1   \n",
       "...       ...      ...    ...   \n",
       "3458   669064   670417      1   \n",
       "3011   412237   412528      1   \n",
       "2443    88687    89188      1   \n",
       "4431  1845934  1847632      1   \n",
       "4504    47183    47765      2   \n",
       "2809   313537   314296      1   \n",
       "2546   140737   141043      1   \n",
       "3558   757756   757996      1   \n",
       "6263  1323650  1324397      2   \n",
       "4454     9287     9533      2   \n",
       "142     98874   100884      0   \n",
       "2493   119221   119617      1   \n",
       "5480   687392   687677      2   \n",
       "2924   376159   377629      1   \n",
       "2136  1682595  1683021      0   \n",
       "4162  1427281  1427491      1   \n",
       "489    248580   249351      0   \n",
       "3672   835588   836590      1   \n",
       "3280   572038   573586      1   \n",
       "689    418344   419295      0   \n",
       "2069  1539333  1539612      0   \n",
       "3666   832843   834280      1   \n",
       "2664   205585   206728      1   \n",
       "6094   963968   964352      2   \n",
       "550    276990   277941      0   \n",
       "4265  1633549  1633783      1   \n",
       "4949   325259   325814      2   \n",
       "355    200904   202059      0   \n",
       "2523   134989   136603      1   \n",
       "1421   788484   789030      0   \n",
       "\n",
       "                                                    seq state  \n",
       "2403  ATGGCAGAAATTACTTCAGCTAAAGCAATGGCTCGTACAGTGCGTG...     C  \n",
       "6009  ATGATTCCAAGCCCAGTTCTTGGTGGAGCCATGCTTGTTCTCTTTG...     C  \n",
       "1011  ATGATTAAATCAATTGCAACACTGCCTAAACCTTCCTTGAAAGAAG...     C  \n",
       "5878  ATGGATGTGATTCAAGAACGTTTGGAACGTGAATTTAACATTGATT...     C  \n",
       "98    ATGGAGCGTAACGTGCGTGAGCGTATGTCTGTTCAAGACAACGATG...     C  \n",
       "4442  ATGCGTGAACAAGGTCGTGAGGATGCTTTCGTTGATCCTATAGCAG...     C  \n",
       "6099  ATGAATATGGTCTTGGAGGAAATTGCCAAAATGGGCATTAAAAACC...     C  \n",
       "5046  ATGAAATTTGAAGAAAAAACGCTTAAGAGACAAACAGTTTTTGATG...     C  \n",
       "3330  ATGTTTTTAAAACACCAAGATGTGAAACAAAAAAATTGGAGAATGC...     C  \n",
       "1172  ATGGTAATTAATCTGATTAATATGAATAATATTTTTCAGTTTGGCG...     C  \n",
       "1541  ATGGTCTTCCAGGTAAAGACGGCAAGGACGGCCAAAACGGTAAAGA...     C  \n",
       "4659  ATGAAGGGGCAGACATTCATACCTCAACGGCTATGCGTGTGTTTGG...     C  \n",
       "2299  ATGAAACACATCGATACTCATGTTGAAATTGATTTTATGGTAGTAT...     C  \n",
       "5491  ATGTTGGTATCTGTCACAGAGCGAACTAGAGAAATTGGTTTACGTA...     C  \n",
       "6541  ATGGTTTCCTTTGAAGGAGAAACTGGACCTTATGTTCAATACGCTC...     C  \n",
       "3364  ATGACTTCAGGCAATGTTTTGATTAGAGATGCTGTTTGGGAACATA...     C  \n",
       "5268  ATGGATTTTATCCAGGAGTGTTTTAGGCGTACTTGGGCGGCTAAGC...     C  \n",
       "6146  ATGAATCACTTCAAAAATGACACTCTGGATGATTTGTACCGTTTGT...     C  \n",
       "221   ATGACGTGGTTTGAAAATGTAACACCTGATAGCTATATGACAGCCC...     C  \n",
       "3537  ATGTTTGATGTTAGACGTGTAGGGGAAGATCTTTATTTAGATGCTA...     C  \n",
       "281   ATGTTTTTCCTTGCTAAGAAAAAATGGCCTTTGCCAACCTTTACCT...     C  \n",
       "650   ATGAAAGAACTATGGCCTAAAAAAGGGGATAAACTTTACATTCGTT...     C  \n",
       "4627  ATGGCGAAAAACTTGCAAGAAATGCGTGAACGTGTCTGTGCGGCTA...     C  \n",
       "965   ATGACAACGCAGAGTCTTACAAATATAACTGATCATCCTAAAATAG...     C  \n",
       "2676  ATGGTTTATCATACTGAGAATGTAACCTTGAATACCAAATTGAATG...     C  \n",
       "4690  ATGAATGGAATGAGCCTTATTAACACGGCTATCGTGATTTTTGTCG...     C  \n",
       "598   ATGAAAAAAAGATATCAGACATTAAATGAGCATTACCGTCAACTAT...     C  \n",
       "6564  ATGGAGGACTATGACAAGACGCATGCATCCACTATCGCTGTGATGA...     C  \n",
       "1271  ATGGCAGGTGGTATGGTACCTCCTCTTGCTGTTTTTGTAGCCACTC...     C  \n",
       "3878  ATGGTCTCCAAAGATGATGGTATTATTATTAATTTAGGGTCAACCG...     C  \n",
       "...                                                 ...   ...  \n",
       "3458  ATGGTTATTCCTTATGATTATATTGTTATTGGTGGAGGGAGTGCAG...     C  \n",
       "3011  ATGGGTAAAGACTTCAAAGCCATTTTTAGTGACATGGCCACAGTCT...     C  \n",
       "2443  ATGAGTAAGTCGCATAGTTCATCAAGCATGAGTTTAGAACAATACC...     C  \n",
       "4431  ATGATTTACGTAGGATTATTTCCCCTAATGCTTAGTGTTATTTATT...     C  \n",
       "4504  ATGGGTGCCTATGCGCCAGTTCCTCATCTACCTCAGAGCGTGGTAG...     C  \n",
       "2809  ATGATAAATCAAGAGACCCAGCGTGAGATTAAGGTAACTCCCCATG...     C  \n",
       "2546  ATGGCTGTTGCCCGGCAAATTCGGGAGGATTATCTCCAGCAAAATG...     C  \n",
       "3558  ATGACAGTAATTGAGGGTGATGTTCCAATTAATGAATTGGATAAAT...     C  \n",
       "6263  ATGGAGAAAAATAATCCTCGCCTCCAATTCACCACACGTTTTGATA...     C  \n",
       "4454  ATGTTTTTATTTATTTTGCCAACTTATAATCTTGTCAAAAGTTATG...     C  \n",
       "142   ATGCCAAACAAACCTTGGAAAGACAATCAAAGACATAAAATCATGG...     C  \n",
       "2493  ATGATTATCAAAAGAAACGATATGGCTCCTAGTGTAAAAGCAGGAG...     C  \n",
       "5480  ATGGCTACTCAAGGTACAGCAGCTTACTTTGCTGAGCAAGGCTTAA...     C  \n",
       "2924  ATGGATGAACCTGTTGAAGTTGATTTCACACCAAAAACCCATCTTC...     C  \n",
       "2136  ATGGAATCAGAATTTTTCGTAAAAATCCCTAAGAAGCGTGGCAAAA...     C  \n",
       "4162  ATGAGAAGAGCCATTTGCTTGTTTTCGAGCAGCCTGTTCCTTTGCA...     C  \n",
       "489   ATGTCAATTCTTGAGATTAATAATTTACATGTTTCAATAGAAGGTA...     C  \n",
       "3672  ATGATGTCAGAAACAAAATTAATGGCTTTGCGTGAAGCAGTCAACC...     C  \n",
       "3280  ATGAAAAAGAAAATTCTTTTAATGATGAGTTTAATCAGTGTCTTTT...     C  \n",
       "689   ATGAACTGCCCACACCACATTCAAGTGTATAAAAATCATGTGCGTT...     C  \n",
       "2069  ATGTATTTCACAGTCCATGTCATTTCCATGTTTTCTGGTTTCCTCC...     C  \n",
       "3666  ATGACTATCGCTGAGCTGTCAGGGGGTCAAAATACTCGTCTGGCCT...     C  \n",
       "2664  ATGTCTGAATTTAATAGAGTTCTTGGAGGGGGTGTGGTTCCTGGAA...     C  \n",
       "6094  ATGCATCGCAATTCCTATATGGATTCACCAAATCTTTTAACCGAAA...     C  \n",
       "550   ATGGCTCTTAAAAATGGTGCAGATATTGTTGTGGAATTGCCCTTTT...     C  \n",
       "4265  ATGACCGACTTCGATACCACGCGCAAACTGGAGAACACCATGACCG...     C  \n",
       "4949  ATGTTTAAAGAAAATGGCATCGAGGTGCCAAAAGCGATTGCAGGGA...     C  \n",
       "355   ATGGATAAGATTAATCGCATCGCTAAGGAAAATCTCCGTGGCGTTC...     C  \n",
       "2523  ATGATGTCACAAAAGATAGAGCGACTAGAGCAGCTGCAAAGCAAAA...     C  \n",
       "1421  ATGAAACGTGCTGAACGTTGTGAAGGATATGATGGATTCGAGGCTG...     C  \n",
       "\n",
       "[809 rows x 5 columns]"
      ]
     },
     "execution_count": 66,
     "metadata": {},
     "output_type": "execute_result"
    }
   ],
   "source": [
    "##Downsample from potential regions\n",
    "\n",
    "potential_forward_stops = pd.DataFrame(F_pairs,columns=['start', 'end', 'frame'])\n",
    "\n",
    "potential_subset = potential_forward_stops.sample(n=809)\n",
    "potential_subset[\"seq\"] = potential_subset.apply(lambda x: data[x[0]:x[1]],axis=1)\n",
    "potential_subset[\"state\"] = ['C']*len(potential_subset)\n",
    "# potential_subset"
   ]
  },
  {
   "cell_type": "code",
   "execution_count": 67,
   "metadata": {
    "collapsed": false
   },
   "outputs": [
    {
     "name": "stderr",
     "output_type": "stream",
     "text": [
      "/Users/ingrid/anaconda/lib/python3.5/site-packages/ipykernel/__main__.py:3: SettingWithCopyWarning: \n",
      "A value is trying to be set on a copy of a slice from a DataFrame.\n",
      "Try using .loc[row_indexer,col_indexer] = value instead\n",
      "\n",
      "See the caveats in the documentation: http://pandas.pydata.org/pandas-docs/stable/indexing.html#indexing-view-versus-copy\n",
      "  app.launch_new_instance()\n",
      "/Users/ingrid/anaconda/lib/python3.5/site-packages/ipykernel/__main__.py:4: SettingWithCopyWarning: \n",
      "A value is trying to be set on a copy of a slice from a DataFrame.\n",
      "Try using .loc[row_indexer,col_indexer] = value instead\n",
      "\n",
      "See the caveats in the documentation: http://pandas.pydata.org/pandas-docs/stable/indexing.html#indexing-view-versus-copy\n"
     ]
    },
    {
     "data": {
      "text/html": [
       "<div>\n",
       "<table border=\"1\" class=\"dataframe\">\n",
       "  <thead>\n",
       "    <tr style=\"text-align: right;\">\n",
       "      <th></th>\n",
       "      <th>state</th>\n",
       "      <th>start</th>\n",
       "      <th>end</th>\n",
       "      <th>seq</th>\n",
       "      <th>frame</th>\n",
       "      <th>gene</th>\n",
       "    </tr>\n",
       "  </thead>\n",
       "  <tbody>\n",
       "    <tr>\n",
       "      <th>1</th>\n",
       "      <td>C</td>\n",
       "      <td>231</td>\n",
       "      <td>1587</td>\n",
       "      <td>ATGACTGAAAATGAACAAATTTTTTGGAACAGGGTCTTGGAATTAG...</td>\n",
       "      <td>0</td>\n",
       "      <td>True</td>\n",
       "    </tr>\n",
       "    <tr>\n",
       "      <th>3</th>\n",
       "      <td>C</td>\n",
       "      <td>1741</td>\n",
       "      <td>2878</td>\n",
       "      <td>ATGATTCAATTTTCAATTAATCGCACATTATTTATTCATGCTTTAA...</td>\n",
       "      <td>1</td>\n",
       "      <td>True</td>\n",
       "    </tr>\n",
       "    <tr>\n",
       "      <th>5</th>\n",
       "      <td>C</td>\n",
       "      <td>2952</td>\n",
       "      <td>3150</td>\n",
       "      <td>ATGTATCAAATTGGATCATTTGTTGAAATGAAAAAACCTCATGCTT...</td>\n",
       "      <td>0</td>\n",
       "      <td>True</td>\n",
       "    </tr>\n",
       "    <tr>\n",
       "      <th>7</th>\n",
       "      <td>C</td>\n",
       "      <td>3479</td>\n",
       "      <td>4595</td>\n",
       "      <td>ATGGCTTTAACAGCAGGTATTGTAGGCTTACCAAATGTTGGTAAAT...</td>\n",
       "      <td>2</td>\n",
       "      <td>True</td>\n",
       "    </tr>\n",
       "    <tr>\n",
       "      <th>9</th>\n",
       "      <td>C</td>\n",
       "      <td>4664</td>\n",
       "      <td>5234</td>\n",
       "      <td>ATGGTAAAAATGATTGTTGGTCTGGGAAATCCAGGCTCTAAATATG...</td>\n",
       "      <td>2</td>\n",
       "      <td>True</td>\n",
       "    </tr>\n",
       "  </tbody>\n",
       "</table>\n",
       "</div>"
      ],
      "text/plain": [
       "  state  start   end                                                seq  \\\n",
       "1     C    231  1587  ATGACTGAAAATGAACAAATTTTTTGGAACAGGGTCTTGGAATTAG...   \n",
       "3     C   1741  2878  ATGATTCAATTTTCAATTAATCGCACATTATTTATTCATGCTTTAA...   \n",
       "5     C   2952  3150  ATGTATCAAATTGGATCATTTGTTGAAATGAAAAAACCTCATGCTT...   \n",
       "7     C   3479  4595  ATGGCTTTAACAGCAGGTATTGTAGGCTTACCAAATGTTGGTAAAT...   \n",
       "9     C   4664  5234  ATGGTAAAAATGATTGTTGGTCTGGGAAATCCAGGCTCTAAATATG...   \n",
       "\n",
       "   frame  gene  \n",
       "1      0  True  \n",
       "3      1  True  \n",
       "5      0  True  \n",
       "7      2  True  \n",
       "9      2  True  "
      ]
     },
     "execution_count": 67,
     "metadata": {},
     "output_type": "execute_result"
    }
   ],
   "source": [
    "##Sample from Actual Sequences and label as true\n",
    "actual_forward_stops = regions[regions.state == 'C']\n",
    "actual_forward_stops[\"frame\"] = actual_forward_stops.start.apply(lambda start: int(start) % 3)\n",
    "actual_forward_stops[\"gene\"] = True\n",
    "actual_forward_stops.head()"
   ]
  },
  {
   "cell_type": "code",
   "execution_count": 68,
   "metadata": {
    "collapsed": false
   },
   "outputs": [
    {
     "data": {
      "text/plain": [
       "True     809\n",
       "False    731\n",
       "Name: gene, dtype: int64"
      ]
     },
     "execution_count": 68,
     "metadata": {},
     "output_type": "execute_result"
    }
   ],
   "source": [
    "##Merge actual and potential to create dataframe of both true and false sequences\n",
    "merged_frames = pd.merge(potential_subset,actual_forward_stops, on=[\"start\",'end','frame','state','seq'],how='outer')\n",
    "merged_frames.gene.fillna(False, inplace=True)\n",
    "merged_frames.gene.value_counts()"
   ]
  },
  {
   "cell_type": "code",
   "execution_count": 69,
   "metadata": {
    "collapsed": false
   },
   "outputs": [
    {
     "name": "stdout",
     "output_type": "stream",
     "text": [
      "Calculated Nucleotide Frequencies...\n",
      "          a         c         g         t\n",
      "0  0.252174  0.214493  0.182609  0.350725\n",
      "1  0.350877  0.178947  0.196491  0.273684\n",
      "2  0.345210  0.195566  0.225653  0.233571\n",
      "3  0.290196  0.177778  0.230065  0.301961\n",
      "4  0.273166  0.207729  0.237593  0.281511\n"
     ]
    }
   ],
   "source": [
    "## Nucleotide Frequencies for each Potential Gene\n",
    "res = [[l[1] for l in list(nucleotide_frequency(seg).items())] for seg in list(merged_frames.seq)]\n",
    "frequency_df = pd.DataFrame(res)\n",
    "frequency_df.columns=[\"a\",\"c\",\"g\",\"t\"]\n",
    "print(\"Calculated Nucleotide Frequencies...\")\n",
    "print(frequency_df.head())"
   ]
  },
  {
   "cell_type": "code",
   "execution_count": 70,
   "metadata": {
    "collapsed": false
   },
   "outputs": [
    {
     "name": "stdout",
     "output_type": "stream",
     "text": [
      "Calculated amino acid frequencies...\n",
      "    X   N  T  D   Y   L   W   Q   S   I ...   C   A   V   K   G   H  R   P  \\\n",
      "0   4   7  1  0   7  10   7   8   5   7 ...   3   0  16  12  11   4  0  10   \n",
      "1   9   5  1  0   3   5   6   8   3  13 ...   6   1   8   3   9   6  0   1   \n",
      "2  43  24  1  5  12  24  31   8  18  67 ...  11  16  41  16  38  26  2  10   \n",
      "3  10  15  1  0  19   7  21   6  10  16 ...  10   9  16  24  25  13  1  16   \n",
      "4  66  40  1  4  66  37  38  32  33  54 ...  27  21  50  39  73  21  2  46   \n",
      "\n",
      "    F   E  \n",
      "0   2   1  \n",
      "1   3   0  \n",
      "2   6  10  \n",
      "3  21   3  \n",
      "4  60  18  \n",
      "\n",
      "[5 rows x 21 columns]\n"
     ]
    }
   ],
   "source": [
    "aa_matrix = [list(aa_frequency(codonToAA(tri_split(seg))).values()) for seg in list(merged_frames.seq)]\n",
    "# aa_matrix = [codonToAA(tri_split(seg)) for seg in list(merged_frames.seq)]\n",
    "aa_frequency_df = pd.DataFrame(aa_matrix)\n",
    "aa_frequency_df.columns=[['X','N','T','D','Y','L','W','Q','S','I','M','C','A','V','K','G','H','R','P','F','E']]\n",
    "print(\"Calculated amino acid frequencies...\")\n",
    "print(aa_frequency_df.head())"
   ]
  },
  {
   "cell_type": "code",
   "execution_count": 71,
   "metadata": {
    "collapsed": true
   },
   "outputs": [],
   "source": [
    "def codons():\n",
    "    d = {}\n",
    "    for first in ['A','T','G','C']:\n",
    "        for second in ['A','T','G','C']:\n",
    "            for third in ['A','T','G','C']:\n",
    "                d[first+second+third] = 0\n",
    "    return d\n",
    "                \n",
    "def codon_frequency(codon_list):\n",
    "    d = codons()\n",
    "    for codon in codon_list:\n",
    "        d[codon] += 1\n",
    "    total = sum(list(d.values()))\n",
    "    for key, value in d.items():\n",
    "        d[key] = value / total\n",
    "    return d"
   ]
  },
  {
   "cell_type": "code",
   "execution_count": 102,
   "metadata": {
    "collapsed": false
   },
   "outputs": [
    {
     "data": {
      "text/plain": [
       "208.0"
      ]
     },
     "execution_count": 102,
     "metadata": {},
     "output_type": "execute_result"
    }
   ],
   "source": [
    "seq = 'ATGCTTCATTAACGTGTACAAAGACTAGGTTCCCTTCGCCTGCTTCACCGTCTTCCTCTTTAGTACTGTCGACCACCGTAAAGACATCATAGGCTTGATACTCACCTTTTTTGGCTGGCTCGATTAGCTCAAGCATGCCTTTATAAATGTCAGGATCAATCTTGCCGCCGCTCGTTAACATGTGGATGGTTTGCAAGTTAATCATTCGCTGTGTACGCTCTGCGGACACCTTAGCTAGTCCAGCAGCTGTTTGAGCAGTTTTGGCAGTCTTAGCGGTTTCCTGTGAGATTTTTTCAAGGTCGTCTACCTTTTGCACGGCTTCGCCCATTGCAATTTCAACGTATTCAGATTTTTTAAATTCTTCCAAAGTAGCTTTGATAATCTCTGTGTCATTATTTGAGGTTAAGTCCTGCTTGATTGGTTGAGAGATGACTGAGCCATCCTCAGCAGTGATAATAATATGTGTGCTTGCGACTGCTCCTGTGCTGTCAAATTGTGGGTATTTTCCTGTCACTTTCCAATTTCTCATGGTTATTCTCCTTTTTTACTTTCTTCAAATTGTTCCAAAATGTTGTCGATAAGAATGATTTCAGATGATGTAAATTCATCTTCACACTCTTCTAA'\n",
    "len(tri_split(seq))\n",
    "sum(list(codon_frequency(tri_split(seq)).values()))*208"
   ]
  },
  {
   "cell_type": "code",
   "execution_count": 72,
   "metadata": {
    "collapsed": false
   },
   "outputs": [
    {
     "name": "stdout",
     "output_type": "stream",
     "text": [
      "Calculated codon frequencies...\n",
      "        CAC  TAC  TGG       ACA       GCA  ACC       TCA       GAG       AGC  \\\n",
      "0  0.008696    0    0  0.043478  0.069565    0  0.052174  0.008696  0.000000   \n",
      "1  0.000000    0    0  0.021053  0.010526    0  0.010526  0.021053  0.021053   \n",
      "\n",
      "        GCC ...        ATC       CCA  GGG       GCG  CCG  CAG       ATG  \\\n",
      "0  0.000000 ...   0.034783  0.034783    0  0.008696    0    0  0.026087   \n",
      "1  0.042105 ...   0.010526  0.031579    0  0.000000    0    0  0.063158   \n",
      "\n",
      "        TTT       CGT  CTA  \n",
      "0  0.008696  0.086957    0  \n",
      "1  0.042105  0.010526    0  \n",
      "\n",
      "[2 rows x 64 columns]\n"
     ]
    }
   ],
   "source": [
    "### Feature 4: Codon frequencies\n",
    "codon_matrix = [list(codon_frequency(tri_split(seg)).values()) for seg in list(merged_frames.seq)]\n",
    "# aa_matrix = [codonToAA(tri_split(seg)) for seg in list(merged_frames.seq)]\n",
    "codon_frequency_df = pd.DataFrame(codon_matrix)\n",
    "codon_frequency_df.columns=[list(codons().keys())]\n",
    "print(\"Calculated codon frequencies...\")\n",
    "print(codon_frequency_df.head(2))\n"
   ]
  },
  {
   "cell_type": "code",
   "execution_count": 73,
   "metadata": {
    "collapsed": false
   },
   "outputs": [
    {
     "name": "stdout",
     "output_type": "stream",
     "text": [
      "Calculated sequence lengths...\n"
     ]
    }
   ],
   "source": [
    "### Feature 3: length of sequence // false sequences should be at least 300 nucleotides long\n",
    "## Add length of each sequence\n",
    "merged_frames[\"len\"] = merged_frames.apply(lambda x: x[1] - x[0],axis=1) #x[1] - x[0])\n",
    "print(\"Calculated sequence lengths...\")"
   ]
  },
  {
   "cell_type": "code",
   "execution_count": 74,
   "metadata": {
    "collapsed": false
   },
   "outputs": [
    {
     "name": "stdout",
     "output_type": "stream",
     "text": [
      "Combined frequence and gene tables...\n"
     ]
    }
   ],
   "source": [
    "## Combine tables\n",
    "# 1. reset df index\n",
    "merged_frames.reset_index(inplace=True)\n",
    "# 2. concat\n",
    "merged_frames = pd.concat([merged_frames,frequency_df,aa_frequency_df,codon_frequency_df],axis=1)\n",
    "print(\"Combined frequence and gene tables...\")"
   ]
  },
  {
   "cell_type": "code",
   "execution_count": 112,
   "metadata": {
    "collapsed": false
   },
   "outputs": [
    {
     "data": {
      "text/html": [
       "<div>\n",
       "<table border=\"1\" class=\"dataframe\">\n",
       "  <thead>\n",
       "    <tr style=\"text-align: right;\">\n",
       "      <th></th>\n",
       "      <th>gene</th>\n",
       "      <th>seq</th>\n",
       "      <th>start</th>\n",
       "      <th>end</th>\n",
       "    </tr>\n",
       "  </thead>\n",
       "  <tbody>\n",
       "    <tr>\n",
       "      <th>0</th>\n",
       "      <td>True</td>\n",
       "      <td>ATGGCAGAAATTACTTCAGCTAAAGCAATGGCTCGTACAGTGCGTG...</td>\n",
       "      <td>67120</td>\n",
       "      <td>67465</td>\n",
       "    </tr>\n",
       "    <tr>\n",
       "      <th>1</th>\n",
       "      <td>False</td>\n",
       "      <td>ATGATTCCAAGCCCAGTTCTTGGTGGAGCCATGCTTGTTCTCTTTG...</td>\n",
       "      <td>932510</td>\n",
       "      <td>932795</td>\n",
       "    </tr>\n",
       "    <tr>\n",
       "      <th>2</th>\n",
       "      <td>False</td>\n",
       "      <td>ATGATTAAATCAATTGCAACACTGCCTAAACCTTCCTTGAAAGAAG...</td>\n",
       "      <td>578382</td>\n",
       "      <td>579645</td>\n",
       "    </tr>\n",
       "    <tr>\n",
       "      <th>3</th>\n",
       "      <td>False</td>\n",
       "      <td>ATGGATGTGATTCAAGAACGTTTGGAACGTGAATTTAACATTGATT...</td>\n",
       "      <td>862967</td>\n",
       "      <td>863732</td>\n",
       "    </tr>\n",
       "    <tr>\n",
       "      <th>4</th>\n",
       "      <td>False</td>\n",
       "      <td>ATGGAGCGTAACGTGCGTGAGCGTATGTCTGTTCAAGACAACGATG...</td>\n",
       "      <td>94875</td>\n",
       "      <td>97152</td>\n",
       "    </tr>\n",
       "    <tr>\n",
       "      <th>5</th>\n",
       "      <td>False</td>\n",
       "      <td>ATGCGTGAACAAGGTCGTGAGGATGCTTTCGTTGATCCTATAGCAG...</td>\n",
       "      <td>3815</td>\n",
       "      <td>4595</td>\n",
       "    </tr>\n",
       "    <tr>\n",
       "      <th>6</th>\n",
       "      <td>False</td>\n",
       "      <td>ATGAATATGGTCTTGGAGGAAATTGCCAAAATGGGCATTAAAAACC...</td>\n",
       "      <td>975023</td>\n",
       "      <td>976319</td>\n",
       "    </tr>\n",
       "    <tr>\n",
       "      <th>7</th>\n",
       "      <td>True</td>\n",
       "      <td>ATGAAATTTGAAGAAAAAACGCTTAAGAGACAAACAGTTTTTGATG...</td>\n",
       "      <td>368570</td>\n",
       "      <td>369125</td>\n",
       "    </tr>\n",
       "    <tr>\n",
       "      <th>8</th>\n",
       "      <td>False</td>\n",
       "      <td>ATGTTTTTAAAACACCAAGATGTGAAACAAAAAAATTGGAGAATGC...</td>\n",
       "      <td>591637</td>\n",
       "      <td>597817</td>\n",
       "    </tr>\n",
       "    <tr>\n",
       "      <th>9</th>\n",
       "      <td>False</td>\n",
       "      <td>ATGGTAATTAATCTGATTAATATGAATAATATTTTTCAGTTTGGCG...</td>\n",
       "      <td>657708</td>\n",
       "      <td>658128</td>\n",
       "    </tr>\n",
       "    <tr>\n",
       "      <th>10</th>\n",
       "      <td>False</td>\n",
       "      <td>ATGGTCTTCCAGGTAAAGACGGCAAGGACGGCCAAAACGGTAAAGA...</td>\n",
       "      <td>864384</td>\n",
       "      <td>864648</td>\n",
       "    </tr>\n",
       "    <tr>\n",
       "      <th>11</th>\n",
       "      <td>False</td>\n",
       "      <td>ATGAAGGGGCAGACATTCATACCTCAACGGCTATGCGTGTGTTTGG...</td>\n",
       "      <td>173558</td>\n",
       "      <td>173825</td>\n",
       "    </tr>\n",
       "    <tr>\n",
       "      <th>12</th>\n",
       "      <td>False</td>\n",
       "      <td>ATGAAACACATCGATACTCATGTTGAAATTGATTTTATGGTAGTAT...</td>\n",
       "      <td>12397</td>\n",
       "      <td>12784</td>\n",
       "    </tr>\n",
       "    <tr>\n",
       "      <th>13</th>\n",
       "      <td>False</td>\n",
       "      <td>ATGTTGGTATCTGTCACAGAGCGAACTAGAGAAATTGGTTTACGTA...</td>\n",
       "      <td>690779</td>\n",
       "      <td>691097</td>\n",
       "    </tr>\n",
       "    <tr>\n",
       "      <th>14</th>\n",
       "      <td>False</td>\n",
       "      <td>ATGGTTTCCTTTGAAGGAGAAACTGGACCTTATGTTCAATACGCTC...</td>\n",
       "      <td>1791953</td>\n",
       "      <td>1792331</td>\n",
       "    </tr>\n",
       "    <tr>\n",
       "      <th>15</th>\n",
       "      <td>False</td>\n",
       "      <td>ATGACTTCAGGCAATGTTTTGATTAGAGATGCTGTTTGGGAACATA...</td>\n",
       "      <td>622369</td>\n",
       "      <td>622900</td>\n",
       "    </tr>\n",
       "    <tr>\n",
       "      <th>16</th>\n",
       "      <td>False</td>\n",
       "      <td>ATGGATTTTATCCAGGAGTGTTTTAGGCGTACTTGGGCGGCTAAGC...</td>\n",
       "      <td>547484</td>\n",
       "      <td>548366</td>\n",
       "    </tr>\n",
       "    <tr>\n",
       "      <th>17</th>\n",
       "      <td>False</td>\n",
       "      <td>ATGAATCACTTCAAAAATGACACTCTGGATGATTTGTACCGTTTGT...</td>\n",
       "      <td>1039730</td>\n",
       "      <td>1040111</td>\n",
       "    </tr>\n",
       "    <tr>\n",
       "      <th>18</th>\n",
       "      <td>False</td>\n",
       "      <td>ATGACGTGGTTTGAAAATGTAACACCTGATAGCTATATGACAGCCC...</td>\n",
       "      <td>138459</td>\n",
       "      <td>138750</td>\n",
       "    </tr>\n",
       "    <tr>\n",
       "      <th>19</th>\n",
       "      <td>False</td>\n",
       "      <td>ATGTTTGATGTTAGACGTGTAGGGGAAGATCTTTATTTAGATGCTA...</td>\n",
       "      <td>730714</td>\n",
       "      <td>731080</td>\n",
       "    </tr>\n",
       "    <tr>\n",
       "      <th>20</th>\n",
       "      <td>False</td>\n",
       "      <td>ATGTTTTTCCTTGCTAAGAAAAAATGGCCTTTGCCAACCTTTACCT...</td>\n",
       "      <td>169854</td>\n",
       "      <td>171393</td>\n",
       "    </tr>\n",
       "    <tr>\n",
       "      <th>21</th>\n",
       "      <td>False</td>\n",
       "      <td>ATGAAAGAACTATGGCCTAAAAAAGGGGATAAACTTTACATTCGTT...</td>\n",
       "      <td>381576</td>\n",
       "      <td>382119</td>\n",
       "    </tr>\n",
       "    <tr>\n",
       "      <th>22</th>\n",
       "      <td>True</td>\n",
       "      <td>ATGGCGAAAAACTTGCAAGAAATGCGTGAACGTGTCTGTGCGGCTA...</td>\n",
       "      <td>163946</td>\n",
       "      <td>164651</td>\n",
       "    </tr>\n",
       "    <tr>\n",
       "      <th>23</th>\n",
       "      <td>False</td>\n",
       "      <td>ATGACAACGCAGAGTCTTACAAATATAACTGATCATCCTAAAATAG...</td>\n",
       "      <td>548430</td>\n",
       "      <td>549882</td>\n",
       "    </tr>\n",
       "    <tr>\n",
       "      <th>24</th>\n",
       "      <td>False</td>\n",
       "      <td>ATGGTTTATCATACTGAGAATGTAACCTTGAATACCAAATTGAATG...</td>\n",
       "      <td>207649</td>\n",
       "      <td>208255</td>\n",
       "    </tr>\n",
       "    <tr>\n",
       "      <th>25</th>\n",
       "      <td>False</td>\n",
       "      <td>ATGAATGGAATGAGCCTTATTAACACGGCTATCGTGATTTTTGTCG...</td>\n",
       "      <td>202844</td>\n",
       "      <td>203846</td>\n",
       "    </tr>\n",
       "    <tr>\n",
       "      <th>26</th>\n",
       "      <td>True</td>\n",
       "      <td>ATGAAAAAAAGATATCAGACATTAAATGAGCATTACCGTCAACTAT...</td>\n",
       "      <td>320898</td>\n",
       "      <td>321819</td>\n",
       "    </tr>\n",
       "    <tr>\n",
       "      <th>27</th>\n",
       "      <td>False</td>\n",
       "      <td>ATGGAGGACTATGACAAGACGCATGCATCCACTATCGCTGTGATGA...</td>\n",
       "      <td>1835753</td>\n",
       "      <td>1836224</td>\n",
       "    </tr>\n",
       "    <tr>\n",
       "      <th>28</th>\n",
       "      <td>False</td>\n",
       "      <td>ATGGCAGGTGGTATGGTACCTCCTCTTGCTGTTTTTGTAGCCACTC...</td>\n",
       "      <td>707880</td>\n",
       "      <td>708240</td>\n",
       "    </tr>\n",
       "    <tr>\n",
       "      <th>29</th>\n",
       "      <td>False</td>\n",
       "      <td>ATGGTCTCCAAAGATGATGGTATTATTATTAATTTAGGGTCAACCG...</td>\n",
       "      <td>925411</td>\n",
       "      <td>925660</td>\n",
       "    </tr>\n",
       "    <tr>\n",
       "      <th>...</th>\n",
       "      <td>...</td>\n",
       "      <td>...</td>\n",
       "      <td>...</td>\n",
       "      <td>...</td>\n",
       "    </tr>\n",
       "    <tr>\n",
       "      <th>1510</th>\n",
       "      <td>True</td>\n",
       "      <td>ATGAGGAGGAATTACAGTAGAGTCATTGACGAACTGCGTACTGACT...</td>\n",
       "      <td>1777022</td>\n",
       "      <td>1777790</td>\n",
       "    </tr>\n",
       "    <tr>\n",
       "      <th>1511</th>\n",
       "      <td>True</td>\n",
       "      <td>ATGAACAAAACAGAAACATGGAACGGATATACTATCCGATTTGTAG...</td>\n",
       "      <td>1777799</td>\n",
       "      <td>1778423</td>\n",
       "    </tr>\n",
       "    <tr>\n",
       "      <th>1512</th>\n",
       "      <td>True</td>\n",
       "      <td>ATGAAATATAGAGTAGAAACAAATCCTTTTTCAAAAGATAGATACA...</td>\n",
       "      <td>1778947</td>\n",
       "      <td>1779289</td>\n",
       "    </tr>\n",
       "    <tr>\n",
       "      <th>1513</th>\n",
       "      <td>True</td>\n",
       "      <td>ATGCAAGAACTTAACCTCACACCAACACAGACGCTTATTCTATTCT...</td>\n",
       "      <td>1779499</td>\n",
       "      <td>1779691</td>\n",
       "    </tr>\n",
       "    <tr>\n",
       "      <th>1514</th>\n",
       "      <td>True</td>\n",
       "      <td>ATGACACTACCAGAGAATTATAGACGTGTCCTTAATCTGATCAAGG...</td>\n",
       "      <td>1779702</td>\n",
       "      <td>1780032</td>\n",
       "    </tr>\n",
       "    <tr>\n",
       "      <th>1515</th>\n",
       "      <td>True</td>\n",
       "      <td>ATGAACGTATTTAGTCAAGATTATGAAGCCAAACTCTTAGAACAAA...</td>\n",
       "      <td>1780034</td>\n",
       "      <td>1781165</td>\n",
       "    </tr>\n",
       "    <tr>\n",
       "      <th>1516</th>\n",
       "      <td>True</td>\n",
       "      <td>ATGACTGGTACTTATGAGCAACCAGTGATTGACGCAACTTATCACA...</td>\n",
       "      <td>1783561</td>\n",
       "      <td>1783972</td>\n",
       "    </tr>\n",
       "    <tr>\n",
       "      <th>1517</th>\n",
       "      <td>True</td>\n",
       "      <td>ATGTTAGAACTATCTATTGAGAATATCATTAAACCAATGAAGACAC...</td>\n",
       "      <td>1784045</td>\n",
       "      <td>1784534</td>\n",
       "    </tr>\n",
       "    <tr>\n",
       "      <th>1518</th>\n",
       "      <td>True</td>\n",
       "      <td>TTGATATTTAATTTTAAGGAGAATATAGTGAAAAAGAAATTAGTTT...</td>\n",
       "      <td>1785831</td>\n",
       "      <td>1786407</td>\n",
       "    </tr>\n",
       "    <tr>\n",
       "      <th>1519</th>\n",
       "      <td>True</td>\n",
       "      <td>ATGGATACTAAAACTCTAATCGCAAGTGAAATAGCTAAAGTTGTTC...</td>\n",
       "      <td>1790639</td>\n",
       "      <td>1792331</td>\n",
       "    </tr>\n",
       "    <tr>\n",
       "      <th>1520</th>\n",
       "      <td>True</td>\n",
       "      <td>ATGCCATCAGAAAAAGAAATATTAGATGCTCTTAGTAAAGTTTATA...</td>\n",
       "      <td>1792418</td>\n",
       "      <td>1792727</td>\n",
       "    </tr>\n",
       "    <tr>\n",
       "      <th>1521</th>\n",
       "      <td>True</td>\n",
       "      <td>ATGACAGCTCCATCTGTACAATTCGACGAAACTACTGGAGATTACT...</td>\n",
       "      <td>1799148</td>\n",
       "      <td>1799268</td>\n",
       "    </tr>\n",
       "    <tr>\n",
       "      <th>1522</th>\n",
       "      <td>True</td>\n",
       "      <td>ATGCGCGTAAATATTACACTTGAACATAAAGAATCTGGTGAACGCT...</td>\n",
       "      <td>1799283</td>\n",
       "      <td>1799433</td>\n",
       "    </tr>\n",
       "    <tr>\n",
       "      <th>1523</th>\n",
       "      <td>True</td>\n",
       "      <td>ATGATTCAAAATGTTGTTACTTCAATAATCCTGTATTCTGGGACAG...</td>\n",
       "      <td>1799725</td>\n",
       "      <td>1800340</td>\n",
       "    </tr>\n",
       "    <tr>\n",
       "      <th>1524</th>\n",
       "      <td>True</td>\n",
       "      <td>ATGAAAAAAGATAGTATCTGTCAAGTGGGTGTTATAAATCAACAAA...</td>\n",
       "      <td>1800351</td>\n",
       "      <td>1800690</td>\n",
       "    </tr>\n",
       "    <tr>\n",
       "      <th>1525</th>\n",
       "      <td>True</td>\n",
       "      <td>ATGATTATAGGGGGATTATATATGAAATTTTTTGAAGAAAATTATT...</td>\n",
       "      <td>1800719</td>\n",
       "      <td>1801664</td>\n",
       "    </tr>\n",
       "    <tr>\n",
       "      <th>1526</th>\n",
       "      <td>True</td>\n",
       "      <td>TTGGCGATTCCTGATTTAGATAAATTTTCATCTAACTTACAACAGG...</td>\n",
       "      <td>1801729</td>\n",
       "      <td>1802482</td>\n",
       "    </tr>\n",
       "    <tr>\n",
       "      <th>1527</th>\n",
       "      <td>True</td>\n",
       "      <td>ATGGTTTCATTTATTTCAAGAGTTTTTAAAGGCATGATTATTGCAC...</td>\n",
       "      <td>1804291</td>\n",
       "      <td>1805134</td>\n",
       "    </tr>\n",
       "    <tr>\n",
       "      <th>1528</th>\n",
       "      <td>True</td>\n",
       "      <td>ATGAAAAATATCTCACGCAAATGCTTTATGACCAGTGTGGTATGTA...</td>\n",
       "      <td>1806925</td>\n",
       "      <td>1808005</td>\n",
       "    </tr>\n",
       "    <tr>\n",
       "      <th>1529</th>\n",
       "      <td>True</td>\n",
       "      <td>ATGGTCAACCGTAAAGAAAATACGAAGCAAGCAATTTTAAAAGCAA...</td>\n",
       "      <td>1810530</td>\n",
       "      <td>1811064</td>\n",
       "    </tr>\n",
       "    <tr>\n",
       "      <th>1530</th>\n",
       "      <td>True</td>\n",
       "      <td>ATGAATACACAAAAATTTCAATCAGTTTTTGACATCATTGGGCCAG...</td>\n",
       "      <td>1822621</td>\n",
       "      <td>1823293</td>\n",
       "    </tr>\n",
       "    <tr>\n",
       "      <th>1531</th>\n",
       "      <td>True</td>\n",
       "      <td>ATGTTTTATACTATTGAAGAACTTGTCAAACAAGCTGACCAACAAT...</td>\n",
       "      <td>1823304</td>\n",
       "      <td>1824177</td>\n",
       "    </tr>\n",
       "    <tr>\n",
       "      <th>1532</th>\n",
       "      <td>True</td>\n",
       "      <td>GTGCCTATTTTTAAAAAAACTTTAATTGTTTTATCCTTTATTTTTT...</td>\n",
       "      <td>1832624</td>\n",
       "      <td>1833884</td>\n",
       "    </tr>\n",
       "    <tr>\n",
       "      <th>1533</th>\n",
       "      <td>True</td>\n",
       "      <td>ATGAAAATAGCAGTTGCTGGATCAGGATATGTTGGATTATCACTAG...</td>\n",
       "      <td>1833919</td>\n",
       "      <td>1835128</td>\n",
       "    </tr>\n",
       "    <tr>\n",
       "      <th>1534</th>\n",
       "      <td>True</td>\n",
       "      <td>ATGACCAAAGTCAGAAAAGCCATTATTCCTGCTGCAGGTCTAGGAA...</td>\n",
       "      <td>1835309</td>\n",
       "      <td>1836224</td>\n",
       "    </tr>\n",
       "    <tr>\n",
       "      <th>1535</th>\n",
       "      <td>True</td>\n",
       "      <td>ATGTGGATTAAAGAGTTAGAGTTAAAACATTATCGCAATTATGACC...</td>\n",
       "      <td>1836946</td>\n",
       "      <td>1838053</td>\n",
       "    </tr>\n",
       "    <tr>\n",
       "      <th>1536</th>\n",
       "      <td>True</td>\n",
       "      <td>ATGAAAAAACGAGGGATTGATTTACTACTTGTCACAATTGGCTCAT...</td>\n",
       "      <td>1842402</td>\n",
       "      <td>1843275</td>\n",
       "    </tr>\n",
       "    <tr>\n",
       "      <th>1537</th>\n",
       "      <td>True</td>\n",
       "      <td>TTGCTTACAGTTTCTGATGTATCACTACGCTTTAGTGATCGAAAAC...</td>\n",
       "      <td>1843353</td>\n",
       "      <td>1844973</td>\n",
       "    </tr>\n",
       "    <tr>\n",
       "      <th>1538</th>\n",
       "      <td>True</td>\n",
       "      <td>ATGCCAAGTATGAAACATATCTTAAAATCCTTAAGTATTTTACTAA...</td>\n",
       "      <td>1850351</td>\n",
       "      <td>1851575</td>\n",
       "    </tr>\n",
       "    <tr>\n",
       "      <th>1539</th>\n",
       "      <td>True</td>\n",
       "      <td>ATGTTTCTTATTCTATCCAGGAACTCCCTTATGACAAAAGAATTAT...</td>\n",
       "      <td>1851633</td>\n",
       "      <td>1852440</td>\n",
       "    </tr>\n",
       "  </tbody>\n",
       "</table>\n",
       "<p>1540 rows × 4 columns</p>\n",
       "</div>"
      ],
      "text/plain": [
       "       gene                                                seq    start  \\\n",
       "0      True  ATGGCAGAAATTACTTCAGCTAAAGCAATGGCTCGTACAGTGCGTG...    67120   \n",
       "1     False  ATGATTCCAAGCCCAGTTCTTGGTGGAGCCATGCTTGTTCTCTTTG...   932510   \n",
       "2     False  ATGATTAAATCAATTGCAACACTGCCTAAACCTTCCTTGAAAGAAG...   578382   \n",
       "3     False  ATGGATGTGATTCAAGAACGTTTGGAACGTGAATTTAACATTGATT...   862967   \n",
       "4     False  ATGGAGCGTAACGTGCGTGAGCGTATGTCTGTTCAAGACAACGATG...    94875   \n",
       "5     False  ATGCGTGAACAAGGTCGTGAGGATGCTTTCGTTGATCCTATAGCAG...     3815   \n",
       "6     False  ATGAATATGGTCTTGGAGGAAATTGCCAAAATGGGCATTAAAAACC...   975023   \n",
       "7      True  ATGAAATTTGAAGAAAAAACGCTTAAGAGACAAACAGTTTTTGATG...   368570   \n",
       "8     False  ATGTTTTTAAAACACCAAGATGTGAAACAAAAAAATTGGAGAATGC...   591637   \n",
       "9     False  ATGGTAATTAATCTGATTAATATGAATAATATTTTTCAGTTTGGCG...   657708   \n",
       "10    False  ATGGTCTTCCAGGTAAAGACGGCAAGGACGGCCAAAACGGTAAAGA...   864384   \n",
       "11    False  ATGAAGGGGCAGACATTCATACCTCAACGGCTATGCGTGTGTTTGG...   173558   \n",
       "12    False  ATGAAACACATCGATACTCATGTTGAAATTGATTTTATGGTAGTAT...    12397   \n",
       "13    False  ATGTTGGTATCTGTCACAGAGCGAACTAGAGAAATTGGTTTACGTA...   690779   \n",
       "14    False  ATGGTTTCCTTTGAAGGAGAAACTGGACCTTATGTTCAATACGCTC...  1791953   \n",
       "15    False  ATGACTTCAGGCAATGTTTTGATTAGAGATGCTGTTTGGGAACATA...   622369   \n",
       "16    False  ATGGATTTTATCCAGGAGTGTTTTAGGCGTACTTGGGCGGCTAAGC...   547484   \n",
       "17    False  ATGAATCACTTCAAAAATGACACTCTGGATGATTTGTACCGTTTGT...  1039730   \n",
       "18    False  ATGACGTGGTTTGAAAATGTAACACCTGATAGCTATATGACAGCCC...   138459   \n",
       "19    False  ATGTTTGATGTTAGACGTGTAGGGGAAGATCTTTATTTAGATGCTA...   730714   \n",
       "20    False  ATGTTTTTCCTTGCTAAGAAAAAATGGCCTTTGCCAACCTTTACCT...   169854   \n",
       "21    False  ATGAAAGAACTATGGCCTAAAAAAGGGGATAAACTTTACATTCGTT...   381576   \n",
       "22     True  ATGGCGAAAAACTTGCAAGAAATGCGTGAACGTGTCTGTGCGGCTA...   163946   \n",
       "23    False  ATGACAACGCAGAGTCTTACAAATATAACTGATCATCCTAAAATAG...   548430   \n",
       "24    False  ATGGTTTATCATACTGAGAATGTAACCTTGAATACCAAATTGAATG...   207649   \n",
       "25    False  ATGAATGGAATGAGCCTTATTAACACGGCTATCGTGATTTTTGTCG...   202844   \n",
       "26     True  ATGAAAAAAAGATATCAGACATTAAATGAGCATTACCGTCAACTAT...   320898   \n",
       "27    False  ATGGAGGACTATGACAAGACGCATGCATCCACTATCGCTGTGATGA...  1835753   \n",
       "28    False  ATGGCAGGTGGTATGGTACCTCCTCTTGCTGTTTTTGTAGCCACTC...   707880   \n",
       "29    False  ATGGTCTCCAAAGATGATGGTATTATTATTAATTTAGGGTCAACCG...   925411   \n",
       "...     ...                                                ...      ...   \n",
       "1510   True  ATGAGGAGGAATTACAGTAGAGTCATTGACGAACTGCGTACTGACT...  1777022   \n",
       "1511   True  ATGAACAAAACAGAAACATGGAACGGATATACTATCCGATTTGTAG...  1777799   \n",
       "1512   True  ATGAAATATAGAGTAGAAACAAATCCTTTTTCAAAAGATAGATACA...  1778947   \n",
       "1513   True  ATGCAAGAACTTAACCTCACACCAACACAGACGCTTATTCTATTCT...  1779499   \n",
       "1514   True  ATGACACTACCAGAGAATTATAGACGTGTCCTTAATCTGATCAAGG...  1779702   \n",
       "1515   True  ATGAACGTATTTAGTCAAGATTATGAAGCCAAACTCTTAGAACAAA...  1780034   \n",
       "1516   True  ATGACTGGTACTTATGAGCAACCAGTGATTGACGCAACTTATCACA...  1783561   \n",
       "1517   True  ATGTTAGAACTATCTATTGAGAATATCATTAAACCAATGAAGACAC...  1784045   \n",
       "1518   True  TTGATATTTAATTTTAAGGAGAATATAGTGAAAAAGAAATTAGTTT...  1785831   \n",
       "1519   True  ATGGATACTAAAACTCTAATCGCAAGTGAAATAGCTAAAGTTGTTC...  1790639   \n",
       "1520   True  ATGCCATCAGAAAAAGAAATATTAGATGCTCTTAGTAAAGTTTATA...  1792418   \n",
       "1521   True  ATGACAGCTCCATCTGTACAATTCGACGAAACTACTGGAGATTACT...  1799148   \n",
       "1522   True  ATGCGCGTAAATATTACACTTGAACATAAAGAATCTGGTGAACGCT...  1799283   \n",
       "1523   True  ATGATTCAAAATGTTGTTACTTCAATAATCCTGTATTCTGGGACAG...  1799725   \n",
       "1524   True  ATGAAAAAAGATAGTATCTGTCAAGTGGGTGTTATAAATCAACAAA...  1800351   \n",
       "1525   True  ATGATTATAGGGGGATTATATATGAAATTTTTTGAAGAAAATTATT...  1800719   \n",
       "1526   True  TTGGCGATTCCTGATTTAGATAAATTTTCATCTAACTTACAACAGG...  1801729   \n",
       "1527   True  ATGGTTTCATTTATTTCAAGAGTTTTTAAAGGCATGATTATTGCAC...  1804291   \n",
       "1528   True  ATGAAAAATATCTCACGCAAATGCTTTATGACCAGTGTGGTATGTA...  1806925   \n",
       "1529   True  ATGGTCAACCGTAAAGAAAATACGAAGCAAGCAATTTTAAAAGCAA...  1810530   \n",
       "1530   True  ATGAATACACAAAAATTTCAATCAGTTTTTGACATCATTGGGCCAG...  1822621   \n",
       "1531   True  ATGTTTTATACTATTGAAGAACTTGTCAAACAAGCTGACCAACAAT...  1823304   \n",
       "1532   True  GTGCCTATTTTTAAAAAAACTTTAATTGTTTTATCCTTTATTTTTT...  1832624   \n",
       "1533   True  ATGAAAATAGCAGTTGCTGGATCAGGATATGTTGGATTATCACTAG...  1833919   \n",
       "1534   True  ATGACCAAAGTCAGAAAAGCCATTATTCCTGCTGCAGGTCTAGGAA...  1835309   \n",
       "1535   True  ATGTGGATTAAAGAGTTAGAGTTAAAACATTATCGCAATTATGACC...  1836946   \n",
       "1536   True  ATGAAAAAACGAGGGATTGATTTACTACTTGTCACAATTGGCTCAT...  1842402   \n",
       "1537   True  TTGCTTACAGTTTCTGATGTATCACTACGCTTTAGTGATCGAAAAC...  1843353   \n",
       "1538   True  ATGCCAAGTATGAAACATATCTTAAAATCCTTAAGTATTTTACTAA...  1850351   \n",
       "1539   True  ATGTTTCTTATTCTATCCAGGAACTCCCTTATGACAAAAGAATTAT...  1851633   \n",
       "\n",
       "          end  \n",
       "0       67465  \n",
       "1      932795  \n",
       "2      579645  \n",
       "3      863732  \n",
       "4       97152  \n",
       "5        4595  \n",
       "6      976319  \n",
       "7      369125  \n",
       "8      597817  \n",
       "9      658128  \n",
       "10     864648  \n",
       "11     173825  \n",
       "12      12784  \n",
       "13     691097  \n",
       "14    1792331  \n",
       "15     622900  \n",
       "16     548366  \n",
       "17    1040111  \n",
       "18     138750  \n",
       "19     731080  \n",
       "20     171393  \n",
       "21     382119  \n",
       "22     164651  \n",
       "23     549882  \n",
       "24     208255  \n",
       "25     203846  \n",
       "26     321819  \n",
       "27    1836224  \n",
       "28     708240  \n",
       "29     925660  \n",
       "...       ...  \n",
       "1510  1777790  \n",
       "1511  1778423  \n",
       "1512  1779289  \n",
       "1513  1779691  \n",
       "1514  1780032  \n",
       "1515  1781165  \n",
       "1516  1783972  \n",
       "1517  1784534  \n",
       "1518  1786407  \n",
       "1519  1792331  \n",
       "1520  1792727  \n",
       "1521  1799268  \n",
       "1522  1799433  \n",
       "1523  1800340  \n",
       "1524  1800690  \n",
       "1525  1801664  \n",
       "1526  1802482  \n",
       "1527  1805134  \n",
       "1528  1808005  \n",
       "1529  1811064  \n",
       "1530  1823293  \n",
       "1531  1824177  \n",
       "1532  1833884  \n",
       "1533  1835128  \n",
       "1534  1836224  \n",
       "1535  1838053  \n",
       "1536  1843275  \n",
       "1537  1844973  \n",
       "1538  1851575  \n",
       "1539  1852440  \n",
       "\n",
       "[1540 rows x 4 columns]"
      ]
     },
     "execution_count": 112,
     "metadata": {},
     "output_type": "execute_result"
    }
   ],
   "source": [
    "data\n",
    "\n",
    "# merged_frames[[\"gene\",\"seq\",\"start\",\"end\"]]"
   ]
  },
  {
   "cell_type": "code",
   "execution_count": 75,
   "metadata": {
    "collapsed": false
   },
   "outputs": [
    {
     "data": {
      "text/plain": [
       "True     809\n",
       "False    731\n",
       "Name: gene, dtype: int64"
      ]
     },
     "execution_count": 75,
     "metadata": {},
     "output_type": "execute_result"
    }
   ],
   "source": [
    "merged_frames.gene.value_counts()"
   ]
  },
  {
   "cell_type": "code",
   "execution_count": 302,
   "metadata": {
    "collapsed": false
   },
   "outputs": [
    {
     "name": "stdout",
     "output_type": "stream",
     "text": [
      "Calculate Nucleotide Frequencies...\n",
      "          a         c         g         t\n",
      "0  0.190058  0.295322  0.333333  0.181287\n",
      "1  0.157233  0.369497  0.264937  0.208333\n",
      "2  0.171853  0.332642  0.300830  0.194675\n",
      "3  0.210210  0.279279  0.297297  0.213213\n",
      "4  0.171030  0.308901  0.328098  0.191972\n"
     ]
    }
   ],
   "source": [
    "import warnings\n",
    "warnings.filterwarnings('ignore')\n",
    "\n",
    "##Downsample from potential regions\n",
    "\n",
    "# potential_forward_stops = pd.DataFrame(F_pairs,columns=['start', 'end', 'frame'])\n",
    "# potential_reverse_stops = pd.DataFrame(R_pairs,columns=['start', 'end', 'frame'])\n",
    "\n",
    "# potential_subset = potential_forward_stops.sample(n=809)\n",
    "# potential_subset[\"seq\"] = potential_subset.apply(lambda x: data[x[0]:x[1]],axis=1)\n",
    "# potential_subset[\"state\"] = ['C']*len(potential_subset)\n",
    "# potential_subset\n",
    "def build_potential_stops(pairs,state,data):\n",
    "    df = pd.DataFrame(F_pairs,columns=['start', 'end', 'frame'])\n",
    "    df[\"state\"] = [state]*len(df)\n",
    "    potential_subset[\"seq\"] = potential_subset.apply(lambda x: data[x[0]:x[1]],axis=1)\n",
    "    return df\n",
    "\n",
    "def downsampler(data, n=1000):\n",
    "    df = data.sample(n)\n",
    "    return df\n",
    "\n",
    "\n",
    "##Sample from Actual Sequences and label as true\n",
    "# actual_forward_stops = regions[regions.state == 'C']\n",
    "# actual_forward_stops[\"frame\"] = actual_forward_stops.start.apply(lambda start: int(start) % 3)\n",
    "# actual_forward_stops[\"gene\"] = True\n",
    "# actual_forward_stops.head()\n",
    "def sample_actual_stops(regions,state):\n",
    "    actual_forward_stops = regions[regions.state == state]\n",
    "    actual_forward_stops[\"frame\"] = actual_forward_stops.start.apply(lambda start: int(start) % 3)\n",
    "    actual_forward_stops[\"gene\"] = True\n",
    "\n",
    "##Merge actual and potential to create dataframe of both true and false sequences\n",
    "# merged_frames = pd.merge(potential_subset,actual_forward_stops, on=[\"start\",'end','frame','state','seq'],how='outer')\n",
    "# merged_frames.gene.fillna(False, inplace=True)\n",
    "# merged_frames.gene.value_counts()\n",
    "def merge_true_false_genes(true_genes,false_genes)\n",
    "    merged_frames = pd.merge(true_genes,false_genes, on=[\"start\",'end','frame','state','seq'],how='outer')\n",
    "    merged_frames.gene.fillna(False, inplace=True)\n",
    "    print(merged_frames.gene.value_counts())\n",
    "\n",
    "## Nucleotide Frequencies for each Potential Gene\n",
    "# res = [[l[1] for l in list(nucleotide_frequency(seg).items())] for seg in list(merged_frames.seq)]\n",
    "# frequency_df = pd.DataFrame(res)\n",
    "# frequency_df.columns=[\"a\",\"c\",\"g\",\"t\"]\n",
    "# print(\"Calculated Nucleotide Frequencies...\")\n",
    "# print(frequency_df.head())\n",
    "def nucleotide_frequencies(merged_frames):\n",
    "    res = [[l[1] for l in list(nucleotide_frequency(seg).items())] for seg in list(merged_frames.seq)]\n",
    "    df = pd.DataFrame(res)\n",
    "    df.columns=[\"a\",\"c\",\"g\",\"t\"]\n",
    "    print(\"Calculated Nucleotide Frequencies...\")\n",
    "    print(frequency_df.head())\n",
    "    return df\n",
    "\n",
    "## regression - gene candidate and take nearest candiate neighbors or gene neighbors\n",
    "## common sub-sequences in front of genes, \n",
    "## matrix of character combinations.... \n"
   ]
  },
  {
   "cell_type": "code",
   "execution_count": 304,
   "metadata": {
    "collapsed": false
   },
   "outputs": [
    {
     "ename": "IndexError",
     "evalue": "list index out of range",
     "output_type": "error",
     "traceback": [
      "\u001b[0;31m---------------------------------------------------------------------------\u001b[0m",
      "\u001b[0;31mIndexError\u001b[0m                                Traceback (most recent call last)",
      "\u001b[0;32m<ipython-input-304-b3b2649a3ad5>\u001b[0m in \u001b[0;36m<module>\u001b[0;34m()\u001b[0m\n\u001b[1;32m      4\u001b[0m \u001b[0;31m## Build pair sets\u001b[0m\u001b[0;34m\u001b[0m\u001b[0;34m\u001b[0m\u001b[0m\n\u001b[1;32m      5\u001b[0m \u001b[0mF_pairs\u001b[0m \u001b[0;34m=\u001b[0m \u001b[0mprocess_genome\u001b[0m\u001b[0;34m(\u001b[0m\u001b[0mdata\u001b[0m\u001b[0;34m)\u001b[0m\u001b[0;34m\u001b[0m\u001b[0m\n\u001b[0;32m----> 6\u001b[0;31m \u001b[0mR_pairs\u001b[0m \u001b[0;34m=\u001b[0m \u001b[0mprocess_genome\u001b[0m\u001b[0;34m(\u001b[0m\u001b[0mr_data\u001b[0m\u001b[0;34m)\u001b[0m\u001b[0;34m\u001b[0m\u001b[0m\n\u001b[0m\u001b[1;32m      7\u001b[0m \u001b[0;34m\u001b[0m\u001b[0m\n\u001b[1;32m      8\u001b[0m \u001b[0;31m## Build pandas Dataframes\u001b[0m\u001b[0;34m\u001b[0m\u001b[0;34m\u001b[0m\u001b[0m\n",
      "\u001b[0;32m<ipython-input-282-7c08b54b8fd1>\u001b[0m in \u001b[0;36mprocess_genome\u001b[0;34m(genome)\u001b[0m\n\u001b[1;32m     53\u001b[0m     output: \"\"\"\n\u001b[1;32m     54\u001b[0m     \u001b[0mstarts\u001b[0m\u001b[0;34m,\u001b[0m \u001b[0mstops\u001b[0m \u001b[0;34m=\u001b[0m \u001b[0mstart_stops\u001b[0m\u001b[0;34m(\u001b[0m\u001b[0mgenome\u001b[0m\u001b[0;34m)\u001b[0m\u001b[0;34m\u001b[0m\u001b[0m\n\u001b[0;32m---> 55\u001b[0;31m     \u001b[0mpairs\u001b[0m \u001b[0;34m=\u001b[0m \u001b[0;34m[\u001b[0m\u001b[0mpair\u001b[0m \u001b[0;32mfor\u001b[0m \u001b[0mpair\u001b[0m \u001b[0;32min\u001b[0m \u001b[0msplit_into_frames\u001b[0m\u001b[0;34m(\u001b[0m\u001b[0mstarts\u001b[0m\u001b[0;34m,\u001b[0m\u001b[0mstops\u001b[0m\u001b[0;34m)\u001b[0m \u001b[0;32mif\u001b[0m \u001b[0mpair\u001b[0m\u001b[0;34m[\u001b[0m\u001b[0;36m0\u001b[0m\u001b[0;34m]\u001b[0m \u001b[0;34m!=\u001b[0m\u001b[0;34m-\u001b[0m\u001b[0;36m1\u001b[0m\u001b[0;34m]\u001b[0m\u001b[0;34m\u001b[0m\u001b[0m\n\u001b[0m\u001b[1;32m     56\u001b[0m     \u001b[0mpairs\u001b[0m \u001b[0;34m=\u001b[0m \u001b[0;34m[\u001b[0m\u001b[0mpair\u001b[0m \u001b[0;32mfor\u001b[0m \u001b[0mpair\u001b[0m \u001b[0;32min\u001b[0m \u001b[0mpairs\u001b[0m \u001b[0;32mif\u001b[0m \u001b[0mpair\u001b[0m\u001b[0;34m[\u001b[0m\u001b[0;36m1\u001b[0m\u001b[0;34m]\u001b[0m \u001b[0;34m-\u001b[0m \u001b[0mpair\u001b[0m\u001b[0;34m[\u001b[0m\u001b[0;36m0\u001b[0m\u001b[0;34m]\u001b[0m \u001b[0;34m>\u001b[0m \u001b[0;36m200\u001b[0m\u001b[0;34m]\u001b[0m\u001b[0;34m\u001b[0m\u001b[0m\n\u001b[1;32m     57\u001b[0m     \u001b[0;32mreturn\u001b[0m \u001b[0mpairs\u001b[0m\u001b[0;34m\u001b[0m\u001b[0m\n",
      "\u001b[0;32m<ipython-input-282-7c08b54b8fd1>\u001b[0m in \u001b[0;36msplit_into_frames\u001b[0;34m(starts, stops)\u001b[0m\n\u001b[1;32m     46\u001b[0m         \u001b[0me\u001b[0m \u001b[0;34m=\u001b[0m \u001b[0;34m[\u001b[0m\u001b[0mend\u001b[0m \u001b[0;32mfor\u001b[0m \u001b[0mend\u001b[0m \u001b[0;32min\u001b[0m \u001b[0mstops\u001b[0m \u001b[0;32mif\u001b[0m \u001b[0;34m(\u001b[0m\u001b[0mend\u001b[0m \u001b[0;34m-\u001b[0m \u001b[0mi\u001b[0m\u001b[0;34m)\u001b[0m \u001b[0;34m%\u001b[0m \u001b[0;36m3\u001b[0m \u001b[0;34m==\u001b[0m \u001b[0;36m0\u001b[0m\u001b[0;34m]\u001b[0m\u001b[0;34m\u001b[0m\u001b[0m\n\u001b[1;32m     47\u001b[0m         \u001b[0mindices\u001b[0m \u001b[0;34m=\u001b[0m \u001b[0mnp\u001b[0m\u001b[0;34m.\u001b[0m\u001b[0msearchsorted\u001b[0m\u001b[0;34m(\u001b[0m\u001b[0me\u001b[0m\u001b[0;34m,\u001b[0m\u001b[0ms\u001b[0m\u001b[0;34m)\u001b[0m\u001b[0;34m\u001b[0m\u001b[0m\n\u001b[0;32m---> 48\u001b[0;31m         \u001b[0mres\u001b[0m \u001b[0;34m+=\u001b[0m \u001b[0;34m[\u001b[0m\u001b[0;34m(\u001b[0m\u001b[0ms\u001b[0m\u001b[0;34m[\u001b[0m\u001b[0mindex\u001b[0m\u001b[0;34m]\u001b[0m\u001b[0;34m,\u001b[0m\u001b[0me\u001b[0m\u001b[0;34m[\u001b[0m\u001b[0mind\u001b[0m\u001b[0;34m]\u001b[0m\u001b[0;34m+\u001b[0m\u001b[0;36m3\u001b[0m\u001b[0;34m,\u001b[0m\u001b[0mi\u001b[0m\u001b[0;34m)\u001b[0m \u001b[0;32mfor\u001b[0m \u001b[0mindex\u001b[0m\u001b[0;34m,\u001b[0m\u001b[0mind\u001b[0m \u001b[0;32min\u001b[0m \u001b[0menumerate\u001b[0m\u001b[0;34m(\u001b[0m\u001b[0mindices\u001b[0m\u001b[0;34m)\u001b[0m\u001b[0;34m]\u001b[0m\u001b[0;34m\u001b[0m\u001b[0m\n\u001b[0m\u001b[1;32m     49\u001b[0m     \u001b[0;32mreturn\u001b[0m \u001b[0mres\u001b[0m\u001b[0;34m\u001b[0m\u001b[0m\n\u001b[1;32m     50\u001b[0m \u001b[0;34m\u001b[0m\u001b[0m\n",
      "\u001b[0;32m<ipython-input-282-7c08b54b8fd1>\u001b[0m in \u001b[0;36m<listcomp>\u001b[0;34m(.0)\u001b[0m\n\u001b[1;32m     46\u001b[0m         \u001b[0me\u001b[0m \u001b[0;34m=\u001b[0m \u001b[0;34m[\u001b[0m\u001b[0mend\u001b[0m \u001b[0;32mfor\u001b[0m \u001b[0mend\u001b[0m \u001b[0;32min\u001b[0m \u001b[0mstops\u001b[0m \u001b[0;32mif\u001b[0m \u001b[0;34m(\u001b[0m\u001b[0mend\u001b[0m \u001b[0;34m-\u001b[0m \u001b[0mi\u001b[0m\u001b[0;34m)\u001b[0m \u001b[0;34m%\u001b[0m \u001b[0;36m3\u001b[0m \u001b[0;34m==\u001b[0m \u001b[0;36m0\u001b[0m\u001b[0;34m]\u001b[0m\u001b[0;34m\u001b[0m\u001b[0m\n\u001b[1;32m     47\u001b[0m         \u001b[0mindices\u001b[0m \u001b[0;34m=\u001b[0m \u001b[0mnp\u001b[0m\u001b[0;34m.\u001b[0m\u001b[0msearchsorted\u001b[0m\u001b[0;34m(\u001b[0m\u001b[0me\u001b[0m\u001b[0;34m,\u001b[0m\u001b[0ms\u001b[0m\u001b[0;34m)\u001b[0m\u001b[0;34m\u001b[0m\u001b[0m\n\u001b[0;32m---> 48\u001b[0;31m         \u001b[0mres\u001b[0m \u001b[0;34m+=\u001b[0m \u001b[0;34m[\u001b[0m\u001b[0;34m(\u001b[0m\u001b[0ms\u001b[0m\u001b[0;34m[\u001b[0m\u001b[0mindex\u001b[0m\u001b[0;34m]\u001b[0m\u001b[0;34m,\u001b[0m\u001b[0me\u001b[0m\u001b[0;34m[\u001b[0m\u001b[0mind\u001b[0m\u001b[0;34m]\u001b[0m\u001b[0;34m+\u001b[0m\u001b[0;36m3\u001b[0m\u001b[0;34m,\u001b[0m\u001b[0mi\u001b[0m\u001b[0;34m)\u001b[0m \u001b[0;32mfor\u001b[0m \u001b[0mindex\u001b[0m\u001b[0;34m,\u001b[0m\u001b[0mind\u001b[0m \u001b[0;32min\u001b[0m \u001b[0menumerate\u001b[0m\u001b[0;34m(\u001b[0m\u001b[0mindices\u001b[0m\u001b[0;34m)\u001b[0m\u001b[0;34m]\u001b[0m\u001b[0;34m\u001b[0m\u001b[0m\n\u001b[0m\u001b[1;32m     49\u001b[0m     \u001b[0;32mreturn\u001b[0m \u001b[0mres\u001b[0m\u001b[0;34m\u001b[0m\u001b[0m\n\u001b[1;32m     50\u001b[0m \u001b[0;34m\u001b[0m\u001b[0m\n",
      "\u001b[0;31mIndexError\u001b[0m: list index out of range"
     ]
    }
   ],
   "source": [
    "## Pipeline\n",
    "r_data = reverse_complement(data)\n",
    "\n",
    "## Build pair sets\n",
    "F_pairs = process_genome(data)\n",
    "R_pairs = process_genome(r_data)\n",
    "\n",
    "## Build pandas Dataframes\n",
    "potential_forward_genes = build_potential_genes(F_pairs,'C', data)\n",
    "# potential_reverse_genes = build_potential_genes(R_pairs,'R',r_data)\n",
    "\n",
    "# flip_reverse_gene_start_stops\n",
    "\n",
    "\n",
    "# pd.concat([potential_forward_genes,potential_reverse_genes],axis=1)\n",
    "\n"
   ]
  },
  {
   "cell_type": "code",
   "execution_count": 286,
   "metadata": {
    "collapsed": false
   },
   "outputs": [
    {
     "name": "stdout",
     "output_type": "stream",
     "text": [
      "Calculated amino acid frequencies...\n",
      "          X         N         T         D         Y         L         W  \\\n",
      "0  0.003215  0.045016  0.067524  0.045016  0.016077  0.112540  0.000000   \n",
      "1  0.004016  0.040161  0.048193  0.024096  0.056225  0.152610  0.008032   \n",
      "2  0.006329  0.075949  0.025316  0.075949  0.037975  0.069620  0.000000   \n",
      "3  0.007246  0.050725  0.057971  0.007246  0.021739  0.152174  0.021739   \n",
      "4  0.005051  0.035354  0.075758  0.050505  0.030303  0.126263  0.000000   \n",
      "\n",
      "          Q         S         I    ...            C         A         V  \\\n",
      "0  0.054662  0.051447  0.064309    ...     0.006431  0.115756  0.070740   \n",
      "1  0.080321  0.072289  0.076305    ...     0.004016  0.048193  0.040161   \n",
      "2  0.025316  0.101266  0.132911    ...     0.025316  0.037975  0.025316   \n",
      "3  0.036232  0.028986  0.036232    ...     0.000000  0.094203  0.094203   \n",
      "4  0.045455  0.035354  0.045455    ...     0.020202  0.075758  0.065657   \n",
      "\n",
      "          K         G         H         R         P         F         E  \n",
      "0  0.054662  0.093248  0.019293  0.032154  0.038585  0.019293  0.064309  \n",
      "1  0.092369  0.044177  0.008032  0.040161  0.028112  0.056225  0.056225  \n",
      "2  0.101266  0.050633  0.018987  0.044304  0.037975  0.056962  0.037975  \n",
      "3  0.065217  0.021739  0.014493  0.072464  0.028986  0.072464  0.050725  \n",
      "4  0.075758  0.050505  0.080808  0.075758  0.040404  0.025253  0.030303  \n",
      "\n",
      "[5 rows x 21 columns]\n",
      "Calculated sequence lengths...\n",
      "Combined frequence and gene tables...\n"
     ]
    },
    {
     "data": {
      "text/plain": [
       "1528"
      ]
     },
     "execution_count": 286,
     "metadata": {},
     "output_type": "execute_result"
    }
   ],
   "source": [
    "aa_matrix = [list(aa_frequency(codonToAA(tri_split(seg))).values()) for seg in list(merged_frames.seq)]\n",
    "# aa_matrix = [codonToAA(tri_split(seg)) for seg in list(merged_frames.seq)]\n",
    "aa_frequency_df = pd.DataFrame(aa_matrix)\n",
    "aa_frequency_df.columns=[['X','N','T','D','Y','L','W','Q','S','I','M','C','A','V','K','G','H','R','P','F','E']]\n",
    "print(\"Calculated amino acid frequencies...\")\n",
    "print(aa_frequency_df.head())\n",
    "# seq = 'ATGCTTCATTAACGTGTACAAAGACTAGGTTCCCTTCGCCTGCTTCACCGTCTTCCTCTTTAGTACTGTCGACCACCGTAAAGACATCATAGGCTTGATACTCACCTTTTTTGGCTGGCTCGATTAGCTCAAGCATGCCTTTATAAATGTCAGGATCAATCTTGCCGCCGCTCGTTAACATGTGGATGGTTTGCAAGTTAATCATTCGCTGTGTACGCTCTGCGGACACCTTAGCTAGTCCAGCAGCTGTTTGAGCAGTTTTGGCAGTCTTAGCGGTTTCCTGTGAGATTTTTTCAAGGTCGTCTACCTTTTGCACGGCTTCGCCCATTGCAATTTCAACGTATTCAGATTTTTTAAATTCTTCCAAAGTAGCTTTGATAATCTCTGTGTCATTATTTGAGGTTAAGTCCTGCTTGATTGGTTGAGAGATGACTGAGCCATCCTCAGCAGTGATAATAATATGTGTGCTTGCGACTGCTCCTGTGCTGTCAAATTGTGGGTATTTTCCTGTCACTTTCCAATTTCTCATGGTTATTCTCCTTTTTTACTTTCTTCAAATTGTTCCAAAATGTTGTCGATAAGAATGATTTCAGATGATGTAAATTCATCTTCACACTCTTCTAA'\n",
    "# codonToAA(tri_split(seq))\n",
    "\n",
    "### CountVectorizer N-gram analysis\n",
    "### Features 2: amino acid frequencies\n",
    "### CountVectorizer N-gram analysis\n",
    "\n",
    "\n",
    "\n",
    "### Feature 3: length of sequence // false sequences should be at least 300 nucleotides long\n",
    "## Add length of each sequence\n",
    "merged_frames[\"len\"] = merged_frames.apply(lambda x: x[1] - x[0],axis=1) #x[1] - x[0])\n",
    "print(\"Calculated sequence lengths...\")\n",
    "\n",
    "## Combine tables\n",
    "# 1. reset df index\n",
    "merged_frames.reset_index(inplace=True)\n",
    "# 2. concat\n",
    "merged_frames = pd.concat([merged_frames,frequency_df,aa_frequency_df],axis=1)\n",
    "print(\"Combined frequence and gene tables...\")\n",
    "len(merged_frames)\n",
    "\n",
    "### linear regression on result and see if we can predict which STOPS are real given the prior sequences\n",
    "\n",
    "\n",
    "### Views!\n",
    "# draw where all actual stops are (color by frame)\n",
    "# draw where all potential stops are (color by frame)"
   ]
  },
  {
   "cell_type": "code",
   "execution_count": 160,
   "metadata": {
    "collapsed": true
   },
   "outputs": [],
   "source": [
    "import pickle\n",
    "\n",
    "class Pickler:\n",
    "    def __init__(self, path):\n",
    "        self.path = path\n",
    "\n",
    "    def load(self):\n",
    "        with open(self.path, 'rb') as f:\n",
    "            return pickle.load(f)\n",
    "    \n",
    "    def save(self, thing):\n",
    "        with open(self.path, 'wb') as f:\n",
    "            pickle.dump(thing, f)\n",
    "\n",
    "class StoredValue:\n",
    "    def __init__(self, path, creator):\n",
    "        self.pickler = Pickler(path)\n",
    "        self.creator = creator\n",
    "    def get(self):\n",
    "        try:\n",
    "            value = self.pickler.load()\n",
    "        except FileNotFoundError:\n",
    "            value = self.creator()\n",
    "            pickler.save(value)\n",
    "        return value"
   ]
  },
  {
   "cell_type": "code",
   "execution_count": 51,
   "metadata": {
    "collapsed": false
   },
   "outputs": [],
   "source": [
    "def tri_split(seq):\n",
    "    return ''.join([char+' ' if (i+1) % 3 == 0 else char for i,char in enumerate(seq)]).split()\n",
    "def codonToAA(codon_list):\n",
    "    aa_seq = ''.join([codon_to_aa[codon] for codon in codon_list])\n",
    "    return aa_seq\n",
    "def aa_frequency(seq):\n",
    "    \"\"\"Count the occurrences of amino acids in \"seq\".\"\"\"\n",
    "    zeros = [0]*len(aa)\n",
    "    counts = dict(zip(aa, zeros))\n",
    "    for c in seq:\n",
    "        counts[c] +=1\n",
    "    return counts\n",
    "def codons():\n",
    "    d = {}\n",
    "    for first in ['A','T','G','C']:\n",
    "        for second in ['A','T','G','C']:\n",
    "            for third in ['A','T','G','C']:\n",
    "                d[first+second+third] = 0\n",
    "    return d\n",
    "                \n",
    "def codon_frequency(codon_list):\n",
    "    d = codons()\n",
    "    for codon in codon_list:\n",
    "        d[codon] += 1\n",
    "    total = sum(list(d.values()))\n",
    "    for key, value in d.items():\n",
    "        d[key] = value / total\n",
    "    return d\n",
    "    \n",
    "seq = 'ATGCTTCATTAACGTGTACAAAGACTAGGTTCCCTTCGCCTGCTTCACCGTCTTCCTCTTTAGTACTGTCGACCACCGTAAAGACATCATAGGCTTGATACTCACCTTTTTTGGCTGGCTCGATTAGCTCAAGCATGCCTTTATAAATGTCAGGATCAATCTTGCCGCCGCTCGTTAACATGTGGATGGTTTGCAAGTTAATCATTCGCTGTGTACGCTCTGCGGACACCTTAGCTAGTCCAGCAGCTGTTTGAGCAGTTTTGGCAGTCTTAGCGGTTTCCTGTGAGATTTTTTCAAGGTCGTCTACCTTTTGCACGGCTTCGCCCATTGCAATTTCAACGTATTCAGATTTTTTAAATTCTTCCAAAGTAGCTTTGATAATCTCTGTGTCATTATTTGAGGTTAAGTCCTGCTTGATTGGTTGAGAGATGACTGAGCCATCCTCAGCAGTGATAATAATATGTGTGCTTGCGACTGCTCCTGTGCTGTCAAATTGTGGGTATTTTCCTGTCACTTTCCAATTTCTCATGGTTATTCTCCTTTTTTACTTTCTTCAAATTGTTCCAAAATGTTGTCGATAAGAATGATTTCAGATGATGTAAATTCATCTTCACACTCTTCTAA'"
   ]
  },
  {
   "cell_type": "code",
   "execution_count": 197,
   "metadata": {
    "collapsed": false
   },
   "outputs": [
    {
     "data": {
      "text/plain": [
       "dict_values([17, 3, 5, 4, 5, 35, 4, 16, 13, 6, 1, 10, 8, 9, 5, 4, 7, 21, 10, 23, 2])"
      ]
     },
     "execution_count": 197,
     "metadata": {},
     "output_type": "execute_result"
    }
   ],
   "source": [
    "aa_frequency(codonToAA(tri_split(seq))).values()"
   ]
  },
  {
   "cell_type": "code",
   "execution_count": 198,
   "metadata": {
    "collapsed": false
   },
   "outputs": [
    {
     "data": {
      "text/plain": [
       "dict_keys(['X', 'N', 'T', 'D', 'Y', 'L', 'W', 'Q', 'S', 'I', 'M', 'C', 'A', 'V', 'K', 'G', 'H', 'R', 'P', 'F', 'E'])"
      ]
     },
     "execution_count": 198,
     "metadata": {},
     "output_type": "execute_result"
    }
   ],
   "source": [
    "aa_frequency(codonToAA(tri_split(seq))).keys()"
   ]
  },
  {
   "cell_type": "code",
   "execution_count": 97,
   "metadata": {
    "collapsed": false
   },
   "outputs": [],
   "source": [
    "# aa_frequency(codonToAA(tri_split(seq)))\n",
    "## anomaly vs change point detection"
   ]
  },
  {
   "cell_type": "code",
   "execution_count": 143,
   "metadata": {
    "collapsed": false
   },
   "outputs": [
    {
     "ename": "AttributeError",
     "evalue": "'DataFrame' object has no attribute 'true'",
     "output_type": "error",
     "traceback": [
      "\u001b[0;31m---------------------------------------------------------------------------\u001b[0m",
      "\u001b[0;31mAttributeError\u001b[0m                            Traceback (most recent call last)",
      "\u001b[0;32m<ipython-input-143-a1667e5bf7c5>\u001b[0m in \u001b[0;36m<module>\u001b[0;34m()\u001b[0m\n\u001b[0;32m----> 1\u001b[0;31m \u001b[0mmer\u001b[0m\u001b[0;34m.\u001b[0m\u001b[0mtrue\u001b[0m \u001b[0;34m=\u001b[0m \u001b[0mmer\u001b[0m\u001b[0;34m.\u001b[0m\u001b[0mtrue\u001b[0m\u001b[0;34m.\u001b[0m\u001b[0mfillna\u001b[0m\u001b[0;34m(\u001b[0m\u001b[0;32mFalse\u001b[0m\u001b[0;34m)\u001b[0m\u001b[0;34m\u001b[0m\u001b[0m\n\u001b[0m\u001b[1;32m      2\u001b[0m \u001b[0mpd\u001b[0m\u001b[0;34m.\u001b[0m\u001b[0misnull\u001b[0m\u001b[0;34m(\u001b[0m\u001b[0mmer\u001b[0m\u001b[0;34m.\u001b[0m\u001b[0miloc\u001b[0m\u001b[0;34m[\u001b[0m\u001b[0;36m2\u001b[0m\u001b[0;34m]\u001b[0m\u001b[0;34m.\u001b[0m\u001b[0mseq\u001b[0m\u001b[0;34m)\u001b[0m\u001b[0;34m\u001b[0m\u001b[0m\n\u001b[1;32m      3\u001b[0m \u001b[0mmer\u001b[0m\u001b[0;34m.\u001b[0m\u001b[0miloc\u001b[0m\u001b[0;34m[\u001b[0m\u001b[0;36m2\u001b[0m\u001b[0;34m]\u001b[0m\u001b[0;34m.\u001b[0m\u001b[0mseq\u001b[0m \u001b[0;32mis\u001b[0m \u001b[0;32mNone\u001b[0m\u001b[0;34m\u001b[0m\u001b[0m\n\u001b[1;32m      4\u001b[0m \u001b[0mmer\u001b[0m\u001b[0;34m\u001b[0m\u001b[0m\n\u001b[1;32m      5\u001b[0m \u001b[0;31m# type(seq[1]),axis=1)#\u001b[0m\u001b[0;34m\u001b[0m\u001b[0;34m\u001b[0m\u001b[0m\n",
      "\u001b[0;32m/Users/ingrid/anaconda/lib/python3.5/site-packages/pandas/core/generic.py\u001b[0m in \u001b[0;36m__getattr__\u001b[0;34m(self, name)\u001b[0m\n\u001b[1;32m   2358\u001b[0m                 \u001b[0;32mreturn\u001b[0m \u001b[0mself\u001b[0m\u001b[0;34m[\u001b[0m\u001b[0mname\u001b[0m\u001b[0;34m]\u001b[0m\u001b[0;34m\u001b[0m\u001b[0m\n\u001b[1;32m   2359\u001b[0m             raise AttributeError(\"'%s' object has no attribute '%s'\" %\n\u001b[0;32m-> 2360\u001b[0;31m                                  (type(self).__name__, name))\n\u001b[0m\u001b[1;32m   2361\u001b[0m \u001b[0;34m\u001b[0m\u001b[0m\n\u001b[1;32m   2362\u001b[0m     \u001b[0;32mdef\u001b[0m \u001b[0m__setattr__\u001b[0m\u001b[0;34m(\u001b[0m\u001b[0mself\u001b[0m\u001b[0;34m,\u001b[0m \u001b[0mname\u001b[0m\u001b[0;34m,\u001b[0m \u001b[0mvalue\u001b[0m\u001b[0;34m)\u001b[0m\u001b[0;34m:\u001b[0m\u001b[0;34m\u001b[0m\u001b[0m\n",
      "\u001b[0;31mAttributeError\u001b[0m: 'DataFrame' object has no attribute 'true'"
     ]
    }
   ],
   "source": [
    "mer.true = mer.true.fillna(False)\n",
    "pd.isnull(mer.iloc[2].seq)\n",
    "mer.iloc[2].seq is None\n",
    "mer\n",
    "# type(seq[1]),axis=1)#\n",
    "mer.seq = mer.apply(lambda seq: seq[3] if not pd.isnull(seq[3]) else reverse_complement(data[int(seq[1]):int(seq[2])]), axis=1 )\n",
    "mer[\"true\"] = mer.true.fillna(False, inplace=True)\n",
    "## regression - gene candidate and take nearest candiate neighbors or gene neighbors\n",
    "## common sub-sequences in front of genes, \n",
    "## matrix of character combinations.... \n",
    "### Feature 1: nucleotide frequences\n",
    "##Convert sequences in to amino acid sequences\n",
    "### CountVectorizer N-gram analysis\n",
    "### Features 2: amino acid frequencies\n",
    "### CountVectorizer N-gram analysis\n",
    "\n",
    "### linear regression on result and see if we can predict which STOPS are real given the prior sequences"
   ]
  },
  {
   "cell_type": "code",
   "execution_count": null,
   "metadata": {
    "collapsed": true
   },
   "outputs": [],
   "source": [
    "### Views!\n",
    "# draw where all actual stops are (color by frame)\n",
    "# draw where all potential stops are (color by frame)"
   ]
  },
  {
   "cell_type": "code",
   "execution_count": 112,
   "metadata": {
    "collapsed": true
   },
   "outputs": [],
   "source": [
    "mer = pd.merge(potential_subset,actual_forward_stops, on=['start','end'], how=\"outer\")\n",
    "\n",
    "\n",
    "mer.true = mer.true.fillna(False)\n",
    "pd.isnull(mer.iloc[2].seq)\n",
    "mer.iloc[2].seq is None\n",
    "mer\n",
    "# type(seq[1]),axis=1)#\n",
    "mer.seq = mer.apply(lambda seq: seq[3] if not pd.isnull(seq[3]) else reverse_complement(data[int(seq[1]):int(seq[2])]), axis=1 )\n",
    "mer[\"true\"] = mer.true.fillna(False, inplace=True)\n",
    "## regression - gene candidate and take nearest candiate neighbors or gene neighbors\n",
    "## common sub-sequences in front of genes, \n",
    "## matrix of character combinations.... "
   ]
  },
  {
   "cell_type": "code",
   "execution_count": 97,
   "metadata": {
    "collapsed": false
   },
   "outputs": [],
   "source": [
    "mer.true = mer.true.fillna(False)\n",
    "pd.isnull(mer.iloc[2].seq)\n",
    "mer.iloc[2].seq is None\n",
    "mer\n",
    "# type(seq[1]),axis=1)#\n",
    "mer.seq = mer.apply(lambda seq: seq[3] if not pd.isnull(seq[3]) else reverse_complement(data[int(seq[1]):int(seq[2])]), axis=1 )\n",
    "mer[\"true\"] = mer.true.fillna(False, inplace=True)"
   ]
  },
  {
   "cell_type": "code",
   "execution_count": 44,
   "metadata": {
    "collapsed": false
   },
   "outputs": [],
   "source": [
    "mer[\"true\"] = mer.true.fillna(False, inplace=True)"
   ]
  },
  {
   "cell_type": "code",
   "execution_count": 77,
   "metadata": {
    "collapsed": false
   },
   "outputs": [],
   "source": [
    "regions[\"true\"] = True\n",
    "merged_df = pd.merge(df,regions[regions.state != \"N\"], on=['start', 'end'],how='outer')"
   ]
  },
  {
   "cell_type": "code",
   "execution_count": 78,
   "metadata": {
    "collapsed": false,
    "scrolled": true
   },
   "outputs": [],
   "source": [
    "merged_df[\"true\"] = merged_df.true.fillna(False)"
   ]
  },
  {
   "cell_type": "code",
   "execution_count": 175,
   "metadata": {
    "collapsed": false
   },
   "outputs": [],
   "source": [
    "# merged_df[merged_df.true == True]"
   ]
  },
  {
   "cell_type": "code",
   "execution_count": 22,
   "metadata": {
    "collapsed": false
   },
   "outputs": [
    {
     "name": "stdout",
     "output_type": "stream",
     "text": [
      "Calculated sequence lengths...\n"
     ]
    }
   ],
   "source": [
    "## Add length of each sequence\n",
    "df[\"len\"] = df.apply(lambda x: x[1] - x[0],axis=1) #x[1] - x[0])\n",
    "print(\"Calculated sequence lengths...\")"
   ]
  },
  {
   "cell_type": "code",
   "execution_count": 26,
   "metadata": {
    "collapsed": false
   },
   "outputs": [
    {
     "data": {
      "text/html": [
       "<div>\n",
       "<table border=\"1\" class=\"dataframe\">\n",
       "  <thead>\n",
       "    <tr style=\"text-align: right;\">\n",
       "      <th></th>\n",
       "      <th>start</th>\n",
       "      <th>end</th>\n",
       "    </tr>\n",
       "  </thead>\n",
       "  <tbody>\n",
       "    <tr>\n",
       "      <th>0</th>\n",
       "      <td>37</td>\n",
       "      <td>112</td>\n",
       "    </tr>\n",
       "    <tr>\n",
       "      <th>1</th>\n",
       "      <td>76</td>\n",
       "      <td>112</td>\n",
       "    </tr>\n",
       "    <tr>\n",
       "      <th>2</th>\n",
       "      <td>188</td>\n",
       "      <td>347</td>\n",
       "    </tr>\n",
       "    <tr>\n",
       "      <th>3</th>\n",
       "      <td>231</td>\n",
       "      <td>1587</td>\n",
       "    </tr>\n",
       "    <tr>\n",
       "      <th>4</th>\n",
       "      <td>241</td>\n",
       "      <td>292</td>\n",
       "    </tr>\n",
       "  </tbody>\n",
       "</table>\n",
       "</div>"
      ],
      "text/plain": [
       "   start   end\n",
       "0     37   112\n",
       "1     76   112\n",
       "2    188   347\n",
       "3    231  1587\n",
       "4    241   292"
      ]
     },
     "execution_count": 26,
     "metadata": {},
     "output_type": "execute_result"
    }
   ],
   "source": [
    "df[df.strand == 'F'][[\"start\",\"end\"]].head()"
   ]
  },
  {
   "cell_type": "code",
   "execution_count": 116,
   "metadata": {
    "collapsed": false
   },
   "outputs": [
    {
     "ename": "KeyboardInterrupt",
     "evalue": "",
     "output_type": "error",
     "traceback": [
      "\u001b[0;31m---------------------------------------------------------------------------\u001b[0m",
      "\u001b[0;31mKeyboardInterrupt\u001b[0m                         Traceback (most recent call last)",
      "\u001b[0;32m<ipython-input-116-3dafa92a3aa8>\u001b[0m in \u001b[0;36m<module>\u001b[0;34m()\u001b[0m\n\u001b[1;32m      1\u001b[0m \u001b[0;31m## Obtain potential gene sequence  -- TIME SUCK\u001b[0m\u001b[0;34m\u001b[0m\u001b[0;34m\u001b[0m\u001b[0m\n\u001b[0;32m----> 2\u001b[0;31m \u001b[0mdf\u001b[0m\u001b[0;34m[\u001b[0m\u001b[0;34m\"seq\"\u001b[0m\u001b[0;34m]\u001b[0m \u001b[0;34m=\u001b[0m \u001b[0mdf\u001b[0m\u001b[0;34m.\u001b[0m\u001b[0mapply\u001b[0m\u001b[0;34m(\u001b[0m\u001b[0;32mlambda\u001b[0m \u001b[0mx\u001b[0m\u001b[0;34m:\u001b[0m \u001b[0mdata\u001b[0m\u001b[0;34m[\u001b[0m\u001b[0mx\u001b[0m\u001b[0;34m[\u001b[0m\u001b[0;36m0\u001b[0m\u001b[0;34m]\u001b[0m\u001b[0;34m:\u001b[0m\u001b[0mx\u001b[0m\u001b[0;34m[\u001b[0m\u001b[0;36m1\u001b[0m\u001b[0;34m]\u001b[0m\u001b[0;34m]\u001b[0m\u001b[0;34m,\u001b[0m\u001b[0maxis\u001b[0m\u001b[0;34m=\u001b[0m\u001b[0;36m1\u001b[0m\u001b[0;34m)\u001b[0m\u001b[0;34m\u001b[0m\u001b[0m\n\u001b[0m\u001b[1;32m      3\u001b[0m \u001b[0mprint\u001b[0m\u001b[0;34m(\u001b[0m\u001b[0;34m\"Obtained potential sequences...\"\u001b[0m\u001b[0;34m)\u001b[0m\u001b[0;34m\u001b[0m\u001b[0m\n\u001b[1;32m      4\u001b[0m \u001b[0;34m\u001b[0m\u001b[0m\n\u001b[1;32m      5\u001b[0m \u001b[0;31m## Nucleotide Frequencies for each Potential Gene\u001b[0m\u001b[0;34m\u001b[0m\u001b[0;34m\u001b[0m\u001b[0m\n",
      "\u001b[0;32m/Users/ingrid/anaconda/lib/python3.5/site-packages/pandas/core/frame.py\u001b[0m in \u001b[0;36mapply\u001b[0;34m(self, func, axis, broadcast, raw, reduce, args, **kwds)\u001b[0m\n\u001b[1;32m   3970\u001b[0m                     \u001b[0;32mif\u001b[0m \u001b[0mreduce\u001b[0m \u001b[0;32mis\u001b[0m \u001b[0;32mNone\u001b[0m\u001b[0;34m:\u001b[0m\u001b[0;34m\u001b[0m\u001b[0m\n\u001b[1;32m   3971\u001b[0m                         \u001b[0mreduce\u001b[0m \u001b[0;34m=\u001b[0m \u001b[0;32mTrue\u001b[0m\u001b[0;34m\u001b[0m\u001b[0m\n\u001b[0;32m-> 3972\u001b[0;31m                     \u001b[0;32mreturn\u001b[0m \u001b[0mself\u001b[0m\u001b[0;34m.\u001b[0m\u001b[0m_apply_standard\u001b[0m\u001b[0;34m(\u001b[0m\u001b[0mf\u001b[0m\u001b[0;34m,\u001b[0m \u001b[0maxis\u001b[0m\u001b[0;34m,\u001b[0m \u001b[0mreduce\u001b[0m\u001b[0;34m=\u001b[0m\u001b[0mreduce\u001b[0m\u001b[0;34m)\u001b[0m\u001b[0;34m\u001b[0m\u001b[0m\n\u001b[0m\u001b[1;32m   3973\u001b[0m             \u001b[0;32melse\u001b[0m\u001b[0;34m:\u001b[0m\u001b[0;34m\u001b[0m\u001b[0m\n\u001b[1;32m   3974\u001b[0m                 \u001b[0;32mreturn\u001b[0m \u001b[0mself\u001b[0m\u001b[0;34m.\u001b[0m\u001b[0m_apply_broadcast\u001b[0m\u001b[0;34m(\u001b[0m\u001b[0mf\u001b[0m\u001b[0;34m,\u001b[0m \u001b[0maxis\u001b[0m\u001b[0;34m)\u001b[0m\u001b[0;34m\u001b[0m\u001b[0m\n",
      "\u001b[0;32m/Users/ingrid/anaconda/lib/python3.5/site-packages/pandas/core/frame.py\u001b[0m in \u001b[0;36m_apply_standard\u001b[0;34m(self, func, axis, ignore_failures, reduce)\u001b[0m\n\u001b[1;32m   4024\u001b[0m                 \u001b[0mlabels\u001b[0m \u001b[0;34m=\u001b[0m \u001b[0mself\u001b[0m\u001b[0;34m.\u001b[0m\u001b[0m_get_agg_axis\u001b[0m\u001b[0;34m(\u001b[0m\u001b[0maxis\u001b[0m\u001b[0;34m)\u001b[0m\u001b[0;34m\u001b[0m\u001b[0m\n\u001b[1;32m   4025\u001b[0m                 result = lib.reduce(values, func, axis=axis, dummy=dummy,\n\u001b[0;32m-> 4026\u001b[0;31m                                     labels=labels)\n\u001b[0m\u001b[1;32m   4027\u001b[0m                 \u001b[0;32mreturn\u001b[0m \u001b[0mSeries\u001b[0m\u001b[0;34m(\u001b[0m\u001b[0mresult\u001b[0m\u001b[0;34m,\u001b[0m \u001b[0mindex\u001b[0m\u001b[0;34m=\u001b[0m\u001b[0mlabels\u001b[0m\u001b[0;34m)\u001b[0m\u001b[0;34m\u001b[0m\u001b[0m\n\u001b[1;32m   4028\u001b[0m             \u001b[0;32mexcept\u001b[0m \u001b[0mException\u001b[0m\u001b[0;34m:\u001b[0m\u001b[0;34m\u001b[0m\u001b[0m\n",
      "\u001b[0;32mpandas/src/reduce.pyx\u001b[0m in \u001b[0;36mpandas.lib.reduce (pandas/lib.c:43773)\u001b[0;34m()\u001b[0m\n",
      "\u001b[0;32mpandas/src/reduce.pyx\u001b[0m in \u001b[0;36mpandas.lib.Reducer.get_result (pandas/lib.c:33913)\u001b[0;34m()\u001b[0m\n",
      "\u001b[0;32m<ipython-input-116-3dafa92a3aa8>\u001b[0m in \u001b[0;36m<lambda>\u001b[0;34m(x)\u001b[0m\n\u001b[1;32m      1\u001b[0m \u001b[0;31m## Obtain potential gene sequence  -- TIME SUCK\u001b[0m\u001b[0;34m\u001b[0m\u001b[0;34m\u001b[0m\u001b[0m\n\u001b[0;32m----> 2\u001b[0;31m \u001b[0mdf\u001b[0m\u001b[0;34m[\u001b[0m\u001b[0;34m\"seq\"\u001b[0m\u001b[0;34m]\u001b[0m \u001b[0;34m=\u001b[0m \u001b[0mdf\u001b[0m\u001b[0;34m.\u001b[0m\u001b[0mapply\u001b[0m\u001b[0;34m(\u001b[0m\u001b[0;32mlambda\u001b[0m \u001b[0mx\u001b[0m\u001b[0;34m:\u001b[0m \u001b[0mdata\u001b[0m\u001b[0;34m[\u001b[0m\u001b[0mx\u001b[0m\u001b[0;34m[\u001b[0m\u001b[0;36m0\u001b[0m\u001b[0;34m]\u001b[0m\u001b[0;34m:\u001b[0m\u001b[0mx\u001b[0m\u001b[0;34m[\u001b[0m\u001b[0;36m1\u001b[0m\u001b[0;34m]\u001b[0m\u001b[0;34m]\u001b[0m\u001b[0;34m,\u001b[0m\u001b[0maxis\u001b[0m\u001b[0;34m=\u001b[0m\u001b[0;36m1\u001b[0m\u001b[0;34m)\u001b[0m\u001b[0;34m\u001b[0m\u001b[0m\n\u001b[0m\u001b[1;32m      3\u001b[0m \u001b[0mprint\u001b[0m\u001b[0;34m(\u001b[0m\u001b[0;34m\"Obtained potential sequences...\"\u001b[0m\u001b[0;34m)\u001b[0m\u001b[0;34m\u001b[0m\u001b[0m\n\u001b[1;32m      4\u001b[0m \u001b[0;34m\u001b[0m\u001b[0m\n\u001b[1;32m      5\u001b[0m \u001b[0;31m## Nucleotide Frequencies for each Potential Gene\u001b[0m\u001b[0;34m\u001b[0m\u001b[0;34m\u001b[0m\u001b[0m\n",
      "\u001b[0;32m/Users/ingrid/anaconda/lib/python3.5/site-packages/pandas/core/series.py\u001b[0m in \u001b[0;36m__getitem__\u001b[0;34m(self, key)\u001b[0m\n\u001b[1;32m    555\u001b[0m     \u001b[0;32mdef\u001b[0m \u001b[0m__getitem__\u001b[0m\u001b[0;34m(\u001b[0m\u001b[0mself\u001b[0m\u001b[0;34m,\u001b[0m \u001b[0mkey\u001b[0m\u001b[0;34m)\u001b[0m\u001b[0;34m:\u001b[0m\u001b[0;34m\u001b[0m\u001b[0m\n\u001b[1;32m    556\u001b[0m         \u001b[0;32mtry\u001b[0m\u001b[0;34m:\u001b[0m\u001b[0;34m\u001b[0m\u001b[0m\n\u001b[0;32m--> 557\u001b[0;31m             \u001b[0mresult\u001b[0m \u001b[0;34m=\u001b[0m \u001b[0mself\u001b[0m\u001b[0;34m.\u001b[0m\u001b[0mindex\u001b[0m\u001b[0;34m.\u001b[0m\u001b[0mget_value\u001b[0m\u001b[0;34m(\u001b[0m\u001b[0mself\u001b[0m\u001b[0;34m,\u001b[0m \u001b[0mkey\u001b[0m\u001b[0;34m)\u001b[0m\u001b[0;34m\u001b[0m\u001b[0m\n\u001b[0m\u001b[1;32m    558\u001b[0m \u001b[0;34m\u001b[0m\u001b[0m\n\u001b[1;32m    559\u001b[0m             \u001b[0;32mif\u001b[0m \u001b[0;32mnot\u001b[0m \u001b[0mnp\u001b[0m\u001b[0;34m.\u001b[0m\u001b[0misscalar\u001b[0m\u001b[0;34m(\u001b[0m\u001b[0mresult\u001b[0m\u001b[0;34m)\u001b[0m\u001b[0;34m:\u001b[0m\u001b[0;34m\u001b[0m\u001b[0m\n",
      "\u001b[0;32m/Users/ingrid/anaconda/lib/python3.5/site-packages/pandas/core/index.py\u001b[0m in \u001b[0;36mget_value\u001b[0;34m(self, series, key)\u001b[0m\n\u001b[1;32m   1780\u001b[0m             \u001b[0;32mreturn\u001b[0m \u001b[0ms\u001b[0m\u001b[0;34m[\u001b[0m\u001b[0mkey\u001b[0m\u001b[0;34m]\u001b[0m\u001b[0;34m\u001b[0m\u001b[0m\n\u001b[1;32m   1781\u001b[0m \u001b[0;34m\u001b[0m\u001b[0m\n\u001b[0;32m-> 1782\u001b[0;31m         \u001b[0ms\u001b[0m \u001b[0;34m=\u001b[0m \u001b[0m_values_from_object\u001b[0m\u001b[0;34m(\u001b[0m\u001b[0mseries\u001b[0m\u001b[0;34m)\u001b[0m\u001b[0;34m\u001b[0m\u001b[0m\n\u001b[0m\u001b[1;32m   1783\u001b[0m         \u001b[0mk\u001b[0m \u001b[0;34m=\u001b[0m \u001b[0m_values_from_object\u001b[0m\u001b[0;34m(\u001b[0m\u001b[0mkey\u001b[0m\u001b[0;34m)\u001b[0m\u001b[0;34m\u001b[0m\u001b[0m\n\u001b[1;32m   1784\u001b[0m \u001b[0;34m\u001b[0m\u001b[0m\n",
      "\u001b[0;32mpandas/lib.pyx\u001b[0m in \u001b[0;36mpandas.lib.values_from_object (pandas/lib.c:4231)\u001b[0;34m()\u001b[0m\n",
      "\u001b[0;32m/Users/ingrid/anaconda/lib/python3.5/site-packages/pandas/core/series.py\u001b[0m in \u001b[0;36mget_values\u001b[0;34m(self)\u001b[0m\n\u001b[1;32m    357\u001b[0m     \u001b[0;32mdef\u001b[0m \u001b[0mget_values\u001b[0m\u001b[0;34m(\u001b[0m\u001b[0mself\u001b[0m\u001b[0;34m)\u001b[0m\u001b[0;34m:\u001b[0m\u001b[0;34m\u001b[0m\u001b[0m\n\u001b[1;32m    358\u001b[0m         \u001b[0;34m\"\"\" same as values (but handles sparseness conversions); is a view \"\"\"\u001b[0m\u001b[0;34m\u001b[0m\u001b[0m\n\u001b[0;32m--> 359\u001b[0;31m         \u001b[0;32mreturn\u001b[0m \u001b[0mself\u001b[0m\u001b[0;34m.\u001b[0m\u001b[0m_data\u001b[0m\u001b[0;34m.\u001b[0m\u001b[0mget_values\u001b[0m\u001b[0;34m(\u001b[0m\u001b[0;34m)\u001b[0m\u001b[0;34m\u001b[0m\u001b[0m\n\u001b[0m\u001b[1;32m    360\u001b[0m \u001b[0;34m\u001b[0m\u001b[0m\n\u001b[1;32m    361\u001b[0m     \u001b[0;31m# ops\u001b[0m\u001b[0;34m\u001b[0m\u001b[0;34m\u001b[0m\u001b[0m\n",
      "\u001b[0;32m/Users/ingrid/anaconda/lib/python3.5/site-packages/pandas/core/internals.py\u001b[0m in \u001b[0;36mget_values\u001b[0;34m(self)\u001b[0m\n\u001b[1;32m   3836\u001b[0m     \u001b[0;32mdef\u001b[0m \u001b[0mget_values\u001b[0m\u001b[0;34m(\u001b[0m\u001b[0mself\u001b[0m\u001b[0;34m)\u001b[0m\u001b[0;34m:\u001b[0m\u001b[0;34m\u001b[0m\u001b[0m\n\u001b[1;32m   3837\u001b[0m         \u001b[0;34m\"\"\" return a dense type view \"\"\"\u001b[0m\u001b[0;34m\u001b[0m\u001b[0m\n\u001b[0;32m-> 3838\u001b[0;31m         \u001b[0;32mreturn\u001b[0m \u001b[0mnp\u001b[0m\u001b[0;34m.\u001b[0m\u001b[0marray\u001b[0m\u001b[0;34m(\u001b[0m\u001b[0mself\u001b[0m\u001b[0;34m.\u001b[0m\u001b[0m_block\u001b[0m\u001b[0;34m.\u001b[0m\u001b[0mto_dense\u001b[0m\u001b[0;34m(\u001b[0m\u001b[0;34m)\u001b[0m\u001b[0;34m,\u001b[0m\u001b[0mcopy\u001b[0m\u001b[0;34m=\u001b[0m\u001b[0;32mFalse\u001b[0m\u001b[0;34m)\u001b[0m\u001b[0;34m\u001b[0m\u001b[0m\n\u001b[0m\u001b[1;32m   3839\u001b[0m \u001b[0;34m\u001b[0m\u001b[0m\n\u001b[1;32m   3840\u001b[0m     \u001b[0;34m@\u001b[0m\u001b[0mproperty\u001b[0m\u001b[0;34m\u001b[0m\u001b[0m\n",
      "\u001b[0;32m/Users/ingrid/anaconda/lib/python3.5/site-packages/pandas/core/internals.py\u001b[0m in \u001b[0;36m_block\u001b[0;34m(self)\u001b[0m\n\u001b[1;32m   3741\u001b[0m         \u001b[0;32mpass\u001b[0m\u001b[0;34m\u001b[0m\u001b[0m\n\u001b[1;32m   3742\u001b[0m \u001b[0;34m\u001b[0m\u001b[0m\n\u001b[0;32m-> 3743\u001b[0;31m     \u001b[0;34m@\u001b[0m\u001b[0mproperty\u001b[0m\u001b[0;34m\u001b[0m\u001b[0m\n\u001b[0m\u001b[1;32m   3744\u001b[0m     \u001b[0;32mdef\u001b[0m \u001b[0m_block\u001b[0m\u001b[0;34m(\u001b[0m\u001b[0mself\u001b[0m\u001b[0;34m)\u001b[0m\u001b[0;34m:\u001b[0m\u001b[0;34m\u001b[0m\u001b[0m\n\u001b[1;32m   3745\u001b[0m         \u001b[0;32mreturn\u001b[0m \u001b[0mself\u001b[0m\u001b[0;34m.\u001b[0m\u001b[0mblocks\u001b[0m\u001b[0;34m[\u001b[0m\u001b[0;36m0\u001b[0m\u001b[0;34m]\u001b[0m\u001b[0;34m\u001b[0m\u001b[0m\n",
      "\u001b[0;31mKeyboardInterrupt\u001b[0m: "
     ]
    }
   ],
   "source": [
    "## Obtain potential gene sequence  -- TIME SUCK\n",
    "df[\"seq\"] = df.apply(lambda x: data[x[0]:x[1]],axis=1)\n",
    "print(\"Obtained potential sequences...\")\n",
    "\n",
    "## Nucleotide Frequencies for each Potential Gene\n",
    "res = [[l[1] for l in list(nucleotide_frequency(seg).items())] for seg in list(df.seq)]\n",
    "frequency_df = pd.DataFrame(res)\n",
    "frequency_df.columns=[\"a\",\"c\",\"g\",\"t\"]\n",
    "print(\"Calculate Nucleotide Frequencies...\")\n",
    "\n",
    "## Combine tables\n",
    "# 1. reset df index\n",
    "df.reset_index(inplace=True)\n",
    "# 2. concat\n",
    "df = pd.concat([df,frequency_df],axis=1)\n",
    "print(\"Combined frequence and gene tables...\")"
   ]
  },
  {
   "cell_type": "code",
   "execution_count": null,
   "metadata": {
    "collapsed": true
   },
   "outputs": [],
   "source": []
  },
  {
   "cell_type": "code",
   "execution_count": 66,
   "metadata": {
    "collapsed": false
   },
   "outputs": [],
   "source": [
    "## Filter for Genes\n",
    "    # x[0] - start\n",
    "    # x[1] - end\n",
    "    # x[4] - strand\n",
    "# df[\"is_gene\"] = df.apply(lambda x: check_gene_state([x[0],x[1]],annot, x[4]), axis=1)"
   ]
  },
  {
   "cell_type": "code",
   "execution_count": 341,
   "metadata": {
    "collapsed": false
   },
   "outputs": [],
   "source": [
    "y = nsample_df.is_gene\n",
    "x = nsample_df[[\"start\",\"end\",\"shift\",\"len\",\"a\",\"c\",\"g\",\"t\"]]"
   ]
  },
  {
   "cell_type": "code",
   "execution_count": 357,
   "metadata": {
    "collapsed": false
   },
   "outputs": [
    {
     "data": {
      "text/plain": [
       "False    9995\n",
       "True        5\n",
       "Name: is_gene, dtype: int64"
      ]
     },
     "execution_count": 357,
     "metadata": {},
     "output_type": "execute_result"
    }
   ],
   "source": [
    "nsample_df.is_gene.value_counts()"
   ]
  },
  {
   "cell_type": "code",
   "execution_count": 326,
   "metadata": {
    "collapsed": false
   },
   "outputs": [
    {
     "data": {
      "text/plain": [
       "{False}"
      ]
     },
     "execution_count": 326,
     "metadata": {},
     "output_type": "execute_result"
    }
   ],
   "source": [
    "set(nsample_df.isnull().any(axis=1))"
   ]
  },
  {
   "cell_type": "code",
   "execution_count": 290,
   "metadata": {
    "collapsed": true
   },
   "outputs": [],
   "source": [
    "sample_df[\"len\"] = sample_df.seq.apply(lambda x: len(x))\n"
   ]
  },
  {
   "cell_type": "code",
   "execution_count": 291,
   "metadata": {
    "collapsed": false
   },
   "outputs": [],
   "source": [
    "Nsample_df = sample_df.reindex(np.arange(10000))"
   ]
  },
  {
   "cell_type": "code",
   "execution_count": 296,
   "metadata": {
    "collapsed": false
   },
   "outputs": [
    {
     "data": {
      "text/plain": [
       "{False}"
      ]
     },
     "execution_count": 296,
     "metadata": {},
     "output_type": "execute_result"
    }
   ],
   "source": [
    "set(sample_df.isnull().any(axis=1))"
   ]
  },
  {
   "cell_type": "code",
   "execution_count": 283,
   "metadata": {
    "collapsed": false
   },
   "outputs": [
    {
     "data": {
      "text/plain": [
       "(10000, 7)"
      ]
     },
     "execution_count": 283,
     "metadata": {},
     "output_type": "execute_result"
    }
   ],
   "source": [
    "ex = Nsample_df.seq\n",
    "# ex.apply(lambda x: len(str(x)))\n",
    "sample_df.isnull().shape"
   ]
  },
  {
   "cell_type": "code",
   "execution_count": 361,
   "metadata": {
    "collapsed": false
   },
   "outputs": [],
   "source": [
    "xxx = list(sample_df[sample_df.is_gene == True].seq)"
   ]
  },
  {
   "cell_type": "code",
   "execution_count": 362,
   "metadata": {
    "collapsed": false
   },
   "outputs": [
    {
     "name": "stdout",
     "output_type": "stream",
     "text": [
      "Query:    1 ATG--ATTC--AAT--T----TTCAA-TTAAT--CGCACATTATTTAT--T--C-ATGCTTT--AA-ATACAACTAAACGTGCTATT-AGCACTAAA-AATG-CC--ATTCCTATTCTTTCATCAA--TAA--A--AA---TTGAAGTCACTT--CTACAGGAGTAACTTTAACAGGGTCT-AACGGTC-AAATATCA--ATTGAAAACACTATTCCTGTAAGTA-ATGAAAAT-GCT-GG-T-TTGCTAATTAC-CTCTCCAGGAGCTATTTTA-T--TAGAAGCTA-GT-T-TTTTTATTAATATTATTTCAAGTTTG-CCAGATATTAGTATAA---ATGT--TAAA-GAAATT-G-AA--CAACACCAAGTT-GTTTTAA-CC-AGTGGT-AAATCAGAGAT-T-AC--CTTAAAA--GGA--AAAGATG-TTG--A-CCAGTA-TC-CTCGT-CTA-CA---A-GAAGTATCAACAG-AAAATCCTTTG-ATTTTA-A-AAACAAAATTATTGAAG-TCT---AT-TATT-GCT-GAAACA-GCT-TTTGCAGCCAGTTTACAAGAA-AG-TC-GTCCTA-TTTTAACAGGAGTTCATATTGTATTAAGTAATCATAA-AGATT-T--TAA--AGC-A--GTAGCGA-CTGA-C-TCTC-ATCG-TAT-G-AGCCAACGTTTAATCACT--TTGGACAAT----ACTT--CAG-CAGAT-T------T--TGATGTAGTT-ATTC-CAAGT--AAATCTTTGAGAGAATTTTCAGCAGTATTTACAGATGATATTGAGACCGTTGAGGTATTTTT-CTCACCA-AGCCA---A--ATCTTGTTCAGAAGTGAACACATTT-CTTTTTAT-ACACG-CCTCTTAGAAGG-AAATTATCCCGATA-CAGAC-CGTT--T-A-TT-AATGACAGAATTTGAGACGGAGGT--TGTTTTCAATAC--CC-AATCCCTTCGC-CAC-GCTATGGAACG-T-G-CCT-TCTTGA-TTTCTAATGCTACTC-AA-AATGGTACTGTTAAGCTTG-AGATTACTCAAAATCATATTTCAGCTCATGTTAAC-TCACCTGAGGTTGGTAAGGTA---AACGAGGATTTAGATATTG--TTAGTC-AGTCTGGTAG-T--G-ATTTA--AC-T---AT--CAGCTTCAATCCA-ACTTACCT--TATTGAGTCTTTAAAAGCTATTAAAAGTGAAACAGTA-AAAATTCATTTC-TTATCACCAGTTCGACC-AT--TCACCCT-AACACCAGGCGAT--G--AGGAAGAAAGTTTTA---TCCAATTAATT-ACACCAGT-ACGAAC-AAACTAA 1137\n",
      "            |||  ||||  |.|  |    ||.|| ||.||  |||.|| .||||.|  |  | |||.|||  || | |.|.|| ||  ||  ||| ||||  ||| .| | ||  |.| | | .|   ||..||  |||  |  ||   ||.||.|| .||  |||| .|  |.|| ||  || |.|.| |||  || |||||| |  .||||||||..|||| |   |||.| |||||||| |.| || | |||||..|| | .| ..|||.|||||  .|| |  |.||| ||| .| | .|..| || .| |||||| ..|.|.| ||.|...||.|.|.||   ||.|  |||| |..||| | ||  |...| |.| || |  ..|| || |.||.| .|||.|.|.|| | ||  ||.||||  ..|  ||.|| | |||  | ||| || || | |.| .|| ||   | ||| | |.|| || |||||  ||.| |.|||| | ..|| ...|||||||.| |.|   || | || ||| .|||.| ||| |.||.| .||     |||||| || || .|..|| |||||| .|.|.||||||    | ||| ||| || || |.||| |  |||  ||| |  ||| | | |.|| | |||| || | |.| | ||  |.||.|||.|.|||  ||..| |||    | ||  ||| || || |      |  |||| |  || |..| |.|||  ..|| |||||.| ||   | |  | .|||.| |||  ||| | | | | ||    ||||||| ||||..| | |||   |  || ||| .|.|  ||   || |||| .||.|.|| .|| | ..| |||||||| ...||| ...|||| .||.| .|||  | | || ||  ||| || ||||.|| || .|  ||||..||.|.|  || ||.|..||||| | | | .|.|.|| | | | ||| ...||| ..| ||.|.|.| || || ||    | | |.||||  | | |.|  |..|||  || ||| | | ..|||||.| ||| ..||..||  .|||.||   |||||..| ..|.||||||  |||| | ||.|..|||| |  | .||||  || |   ||  ||| .| ||  || .||| |||  .|||| |     ||||| .|||  ..|||  .||| | |..|||||  .| .|| |.|||  | | || ||  | |...| ||.|.||.|  ||  |  ||||.|||||..|||   ||.||   ||| |.|||| | |..||| |||.|||\n",
      "Ref  :  179 ATGTTATTCTTACTGCTGGTTTTGAAGTTTATAACGCTCA-AATTTCTGTTGACTATGTTTTCGAAGA-AGACCT-AA--TG--ATTGAGCA--AAATCA-GACCAAAAT-C-A-AC---CAAAAACCTAAGCAGCAAGCCTTAAATTC-TTTGCCTAC-TG--TTAC-TT--CA-GATTTAAAC--TCGAAATAT-AGTTTTGAAAACTTTATT-C---AAGGAGATGAAAATCGTTGGGCTGTTGCTGCTT-CAAT-AGCAGTAGCTA--ATACTCCTGGAA-CTACCTATAATCCT-TT-GT-TTATTT-GGGGTGGCCCTGGGCTTGGAAAAACCCATTTATTAAATGCTATTGGTAATTCTGTA-CTA-TTAG--AAAATCCAAATGCTCGAATTAAATATATCACAGCTGAAAACTTTATTAATGA-GTTTGTTATCCA-TATTCGC-CTTGATACCATGGATGAA-T-TGAA-AGAAAAAT--TTCGTAATTTAGATTTAC-TCCTTATTGATGATATCCAATCT-TTAGCTAAAAAAACGCTCTCTGGA-ACA-----CAAGAAGAGTTCTTTAATACTTTTAA-TGCACTTCATA----A-TAA-TAA-CA-AACAAATTGTCCTAACAAGCGACCGTA-C-ACCAGATCATCTCAAT-GATTTAGAAG--ATCGATTAGTTACTCGTTTTA-AATGGGGA-TTAACAGTCA-ATATCACACCTCCTGAT-T--TTGAAACACGAGTGGCTAT-TTTGACA-AA---T-A--A-AATTCA-AGA--ATA-T-A-A-C-TT----TATTTTTCCTCAAGATA-CCATTGAGTAT-TTG-GCTG--GT---CA-ATTTGATTCTAATGTCA-GAGAT-TTAGAAGGTGCCTTA-AAAGATATTAGTCTGGTTGCTAATTTCAA--ACA-AA-TTGACAC-GA-TTACTGTTGACATTGCTGCCGAAGCTATTCGCGC-CAG-AAAGCAA-GATGGACCTAAAATGACAGT-TATTCCCA-TCGAAGAA----A-T-TCAAGC--GCA-AGT--TGGAAA--AT-TTT-A-C-GGTGTTACCGTCA-AAGAAATT--AAAGCTACTAAACGAACA-CAAAATATTGTTTTAG-CAAGACAAGTAGCTATGTTTTTAGCACGTGAAATGACAG-AT-AA--CAGTCTT-CCTAAAATTG-G-----AAAAG-AATT--TGGTG--GCAG-AGACCATTCA--ACAGTA-CTCCA--T-G-CCTATAAT-AAAATCAAAAACATG--ATCAGCCAGGACGAAAGCCTTAGGATCGAA---ATTGAAACCA-TAAAAAACAAAATTAA 1352\n",
      "\n",
      "Score: 941\n",
      "Matches: 764 (56.6%)\n",
      "Mismatches: 587\n",
      "CIGAR: 3M2D4M2D3M2D1M4D5M1D5M2D6M1I7M2D1M2D1M1D7M2D2M1D1M1I6M1I2M2I2M2I3M1D4M2I3M1D2M1I1M1D2M2D3M1I1M1I1M1I2M3I6M2D3M2D1M2D2M3D8M1I3M2D4M1I2M2I4M1I2M2I2M1I5M1D3M2I2M1D6M1I1M2D15M1I1M3I5M1D8M1D3M1D2M1D1M1D9M1I1M1D2M1I11M2I3M1D1M2D5M1I3M1D2M1D1M1D5M1I2M1I2M1I6M1I7M1D16M3D4M2D4M1D6M1D1M1D2M2D5M1I3M1I2M1D1M2I4M1D2M1D6M1D11M1D1M1D2M2D7M2D3M2D5M1I1M1D3M2D1M1D3M1I2M1D2M1D1M1I3M1D3M1D2M3D1M1D3M1I1M1I4M1I2M1D5M2I4M1D6M1D1M1D4M1I12M1D3M3D2M1D1M1I2M1D3M1D6M1D3M1D6M1I3M5I6M1D2M1D2M1D6M1D6M1I11M4I1M1I3M1I3M1I2M1I2M1D5M1D1M2D3M2D3M1D1M2D3M1I1M1I1M1D4M1D1M1D4M1D2M1I1M1D3M1D1M1D2M2I14M2D5M1I3M4D1M1I2M2D3M1D2M1I2M1D1M6D1M2D4M1I1M2I2M1D4M1D5M2D4M1I7M1I2M3I1M1I1M2I1M1I6M1I3M2I3M1I1M1I1M1I1M1I1M1I2M4I7M1D7M1D1M1I3M3D1M2D2M1I3M1I4M2I2M3I2M1I4M1D8M1D3M1I1M1D3M1I8M1D6M1I7M1D5M1D4M2D1M1D1M1D2M1D2M2I3M1I2M1I7M1I2M1I2M2D12M2D2M1D11M1D1M1I1M1D1M1I7M1I1M1D1M1D1M1D3M1D6M1D3M1I8M1I2M1D2M1D2M4I1M1I1M1I6M2I1M1D1M1I3M2I6M2I2M1I3M1I1M1I1M1I9M1D3M1I8M2I7M3D8M1I10M2D4M1I1M1D10M1D1M2D1M1D5M2D2M1D1M3D2M2D3M1I2M1I2M2I2M1D4M1I3M2D5M1I1M5I5M1I4M2I5M2I4M1I1M1D8M2I2M1D3M1I5M2I1M1I1M1I2M1D2M2D1M1I5M1D9M2I2M2D1M2D15M3D5M3I3M1D6M1I1M1D6M1D7M\n"
     ]
    }
   ],
   "source": [
    "import swalign\n",
    "# choose your own values here… 2 and -1 are common.\n",
    "match = 2\n",
    "mismatch = -1\n",
    "scoring = swalign.NucleotideScoringMatrix(match, mismatch)\n",
    "\n",
    "sw = swalign.LocalAlignment(scoring)  # you can also choose gap penalties, etc...\n",
    "alignment = sw.align(xxx[0],xxx[1])\n",
    "alignment.dump()"
   ]
  },
  {
   "cell_type": "code",
   "execution_count": 301,
   "metadata": {
    "collapsed": false
   },
   "outputs": [],
   "source": [
    "frequency_df[\"start\"] = sample_df.start"
   ]
  },
  {
   "cell_type": "code",
   "execution_count": 304,
   "metadata": {
    "collapsed": false
   },
   "outputs": [
    {
     "ename": "ValueError",
     "evalue": "labels [ nan  nan  nan ...,  nan  nan  nan] not contained in axis",
     "output_type": "error",
     "traceback": [
      "\u001b[0;31m---------------------------------------------------------------------------\u001b[0m",
      "\u001b[0;31mValueError\u001b[0m                                Traceback (most recent call last)",
      "\u001b[0;32m<ipython-input-304-9e306ef10fa6>\u001b[0m in \u001b[0;36m<module>\u001b[0;34m()\u001b[0m\n\u001b[0;32m----> 1\u001b[0;31m \u001b[0mfrequency_df\u001b[0m\u001b[0;34m.\u001b[0m\u001b[0mdrop\u001b[0m\u001b[0;34m(\u001b[0m\u001b[0mfrequency_df\u001b[0m\u001b[0;34m.\u001b[0m\u001b[0mstart\u001b[0m\u001b[0;34m)\u001b[0m\u001b[0;34m\u001b[0m\u001b[0m\n\u001b[0m",
      "\u001b[0;32m/Users/ingrid/anaconda/envs/py27/lib/python2.7/site-packages/pandas/core/generic.pyc\u001b[0m in \u001b[0;36mdrop\u001b[0;34m(self, labels, axis, level, inplace, errors)\u001b[0m\n\u001b[1;32m   1615\u001b[0m                 \u001b[0mnew_axis\u001b[0m \u001b[0;34m=\u001b[0m \u001b[0maxis\u001b[0m\u001b[0;34m.\u001b[0m\u001b[0mdrop\u001b[0m\u001b[0;34m(\u001b[0m\u001b[0mlabels\u001b[0m\u001b[0;34m,\u001b[0m \u001b[0mlevel\u001b[0m\u001b[0;34m=\u001b[0m\u001b[0mlevel\u001b[0m\u001b[0;34m,\u001b[0m \u001b[0merrors\u001b[0m\u001b[0;34m=\u001b[0m\u001b[0merrors\u001b[0m\u001b[0;34m)\u001b[0m\u001b[0;34m\u001b[0m\u001b[0m\n\u001b[1;32m   1616\u001b[0m             \u001b[0;32melse\u001b[0m\u001b[0;34m:\u001b[0m\u001b[0;34m\u001b[0m\u001b[0m\n\u001b[0;32m-> 1617\u001b[0;31m                 \u001b[0mnew_axis\u001b[0m \u001b[0;34m=\u001b[0m \u001b[0maxis\u001b[0m\u001b[0;34m.\u001b[0m\u001b[0mdrop\u001b[0m\u001b[0;34m(\u001b[0m\u001b[0mlabels\u001b[0m\u001b[0;34m,\u001b[0m \u001b[0merrors\u001b[0m\u001b[0;34m=\u001b[0m\u001b[0merrors\u001b[0m\u001b[0;34m)\u001b[0m\u001b[0;34m\u001b[0m\u001b[0m\n\u001b[0m\u001b[1;32m   1618\u001b[0m             \u001b[0mdropped\u001b[0m \u001b[0;34m=\u001b[0m \u001b[0mself\u001b[0m\u001b[0;34m.\u001b[0m\u001b[0mreindex\u001b[0m\u001b[0;34m(\u001b[0m\u001b[0;34m**\u001b[0m\u001b[0;34m{\u001b[0m\u001b[0maxis_name\u001b[0m\u001b[0;34m:\u001b[0m \u001b[0mnew_axis\u001b[0m\u001b[0;34m}\u001b[0m\u001b[0;34m)\u001b[0m\u001b[0;34m\u001b[0m\u001b[0m\n\u001b[1;32m   1619\u001b[0m             \u001b[0;32mtry\u001b[0m\u001b[0;34m:\u001b[0m\u001b[0;34m\u001b[0m\u001b[0m\n",
      "\u001b[0;32m/Users/ingrid/anaconda/envs/py27/lib/python2.7/site-packages/pandas/core/index.pyc\u001b[0m in \u001b[0;36mdrop\u001b[0;34m(self, labels, errors)\u001b[0m\n\u001b[1;32m   2801\u001b[0m         \u001b[0;32mif\u001b[0m \u001b[0mmask\u001b[0m\u001b[0;34m.\u001b[0m\u001b[0many\u001b[0m\u001b[0;34m(\u001b[0m\u001b[0;34m)\u001b[0m\u001b[0;34m:\u001b[0m\u001b[0;34m\u001b[0m\u001b[0m\n\u001b[1;32m   2802\u001b[0m             \u001b[0;32mif\u001b[0m \u001b[0merrors\u001b[0m \u001b[0;34m!=\u001b[0m \u001b[0;34m'ignore'\u001b[0m\u001b[0;34m:\u001b[0m\u001b[0;34m\u001b[0m\u001b[0m\n\u001b[0;32m-> 2803\u001b[0;31m                 \u001b[0;32mraise\u001b[0m \u001b[0mValueError\u001b[0m\u001b[0;34m(\u001b[0m\u001b[0;34m'labels %s not contained in axis'\u001b[0m \u001b[0;34m%\u001b[0m \u001b[0mlabels\u001b[0m\u001b[0;34m[\u001b[0m\u001b[0mmask\u001b[0m\u001b[0;34m]\u001b[0m\u001b[0;34m)\u001b[0m\u001b[0;34m\u001b[0m\u001b[0m\n\u001b[0m\u001b[1;32m   2804\u001b[0m             \u001b[0mindexer\u001b[0m \u001b[0;34m=\u001b[0m \u001b[0mindexer\u001b[0m\u001b[0;34m[\u001b[0m\u001b[0;34m~\u001b[0m\u001b[0mmask\u001b[0m\u001b[0;34m]\u001b[0m\u001b[0;34m\u001b[0m\u001b[0m\n\u001b[1;32m   2805\u001b[0m         \u001b[0;32mreturn\u001b[0m \u001b[0mself\u001b[0m\u001b[0;34m.\u001b[0m\u001b[0mdelete\u001b[0m\u001b[0;34m(\u001b[0m\u001b[0mindexer\u001b[0m\u001b[0;34m)\u001b[0m\u001b[0;34m\u001b[0m\u001b[0m\n",
      "\u001b[0;31mValueError\u001b[0m: labels [ nan  nan  nan ...,  nan  nan  nan] not contained in axis"
     ]
    }
   ],
   "source": [
    "frequency_df.drop(frequency_df.start)"
   ]
  },
  {
   "cell_type": "code",
   "execution_count": 259,
   "metadata": {
    "collapsed": false
   },
   "outputs": [],
   "source": [
    "new_df = pd.concat([Nsample_df,frequency_df],axis=1)"
   ]
  },
  {
   "cell_type": "code",
   "execution_count": 87,
   "metadata": {
    "collapsed": false
   },
   "outputs": [
    {
     "data": {
      "text/plain": [
       "u'ATGAAAAATAGTTGAAAACAATAGCGGTGTCCCCTTAAAATGGCTTTTCCACAGGTTGTGGAGAACCCAAATTAACAGTGTTAATTTATTTTCCACAGGTTGTGGAAAAACTAACTATTATCCATCGTTCTGTGGAAAACTAGAATAGTTTATGGTAGAATAGTTCTAGAATTATCCACAAGAAGGAACCTAGTATGA'"
      ]
     },
     "execution_count": 87,
     "metadata": {},
     "output_type": "execute_result"
    }
   ],
   "source": [
    "sample_df.iloc[1].seq"
   ]
  },
  {
   "cell_type": "code",
   "execution_count": null,
   "metadata": {
    "collapsed": true
   },
   "outputs": [],
   "source": [
    "df[\"sequence_s\"] =  df[['start', 'end']].apply(lambda x: data[x[0]:x[1]], axis=1)"
   ]
  },
  {
   "cell_type": "code",
   "execution_count": null,
   "metadata": {
    "collapsed": true
   },
   "outputs": [],
   "source": []
  },
  {
   "cell_type": "code",
   "execution_count": 6,
   "metadata": {
    "collapsed": true
   },
   "outputs": [],
   "source": []
  },
  {
   "cell_type": "code",
   "execution_count": 39,
   "metadata": {
    "collapsed": false
   },
   "outputs": [
    {
     "name": "stdout",
     "output_type": "stream",
     "text": [
      "50\n"
     ]
    }
   ],
   "source": [
    "result = [[l[1] for l in list(nucleotide_frequency(seg).items())] for seg in seg_50]\n",
    "df = pd.DataFrame(result)\n",
    "df.columns=[\"a\",\"c\",\"g\",\"t\"]\n",
    "df[\"gene\"] = gene_label(seg_50_an)\n",
    "\n",
    "gene_df = pd.DataFrame({\"label\":df.gene,\"sequence\": seg_50})"
   ]
  },
  {
   "cell_type": "code",
   "execution_count": 124,
   "metadata": {
    "collapsed": false
   },
   "outputs": [
    {
     "data": {
      "text/plain": [
       "'x'"
      ]
     },
     "execution_count": 124,
     "metadata": {},
     "output_type": "execute_result"
    }
   ],
   "source": [
    "str(u'x')"
   ]
  },
  {
   "cell_type": "code",
   "execution_count": 122,
   "metadata": {
    "collapsed": false
   },
   "outputs": [],
   "source": [
    "he = prior_state_emissions(data,annot)"
   ]
  },
  {
   "cell_type": "code",
   "execution_count": 123,
   "metadata": {
    "collapsed": false
   },
   "outputs": [
    {
     "data": {
      "text/plain": [
       "{u'C': ['C',\n",
       "  0,\n",
       "  {'A': 0.3129376364986609,\n",
       "   'C': 0.18263194813359745,\n",
       "   'G': 0.20960154402206216,\n",
       "   'T': 0.2948288713456795},\n",
       "  {'C': 0.39282114788001343, 'N': 0.0004367210615614748, 'R': 0.0}],\n",
       " u'N': ['N',\n",
       "  1,\n",
       "  {'A': 0.3190287760527498,\n",
       "   'C': 0.1789016522921669,\n",
       "   'G': 0.18693843939846827,\n",
       "   'T': 0.315131132256615},\n",
       "  {'C': 0.0004367210615614748,\n",
       "   'N': 0.2719266092685273,\n",
       "   'R': 0.000344950257525071}],\n",
       " u'R': ['R',\n",
       "  0,\n",
       "  {'A': 0.29606142439037003,\n",
       "   'C': 0.20997386780698055,\n",
       "   'G': 0.1825552662752494,\n",
       "   'T': 0.3114094415274},\n",
       "  {'C': 0.0, 'N': 0.000344950257525071, 'R': 0.3336883603850271}]}"
      ]
     },
     "execution_count": 123,
     "metadata": {},
     "output_type": "execute_result"
    }
   ],
   "source": [
    "he"
   ]
  },
  {
   "cell_type": "code",
   "execution_count": null,
   "metadata": {
    "collapsed": true
   },
   "outputs": [],
   "source": [
    "emi = emissions(data,annot)"
   ]
  },
  {
   "cell_type": "code",
   "execution_count": 100,
   "metadata": {
    "collapsed": false
   },
   "outputs": [],
   "source": [
    "trs = transitions(annot)"
   ]
  },
  {
   "cell_type": "code",
   "execution_count": null,
   "metadata": {
    "collapsed": false
   },
   "outputs": [],
   "source": [
    "# dir(hmm)\n",
    "from hmm import hmm"
   ]
  },
  {
   "cell_type": "code",
   "execution_count": 133,
   "metadata": {
    "collapsed": false
   },
   "outputs": [
    {
     "data": {
      "text/plain": [
       "{'A': 0.3190287760527498,\n",
       " 'C': 0.1789016522921669,\n",
       " 'G': 0.18693843939846827,\n",
       " 'T': 0.315131132256615}"
      ]
     },
     "execution_count": 133,
     "metadata": {},
     "output_type": "execute_result"
    }
   ],
   "source": [
    "he[u'N'][2]"
   ]
  },
  {
   "cell_type": "code",
   "execution_count": 136,
   "metadata": {
    "collapsed": false
   },
   "outputs": [],
   "source": [
    "NC = hmm.state(he[u'N'][0],he[u'N'][1],he[u'N'][2],he[u'N'][3])\n",
    "C = hmm.state(he[u'C'][0],he[u'C'][1],he[u'C'][2],he[u'C'][3])\n",
    "R = hmm.state(he[u'R'][0],he[u'R'][1],he[u'R'][2],he[u'R'][3])\n",
    "gene_model = hmm.hmm(['A','T','G','C'],[NC,C,R])"
   ]
  },
  {
   "cell_type": "code",
   "execution_count": 139,
   "metadata": {
    "collapsed": false
   },
   "outputs": [
    {
     "name": "stdout",
     "output_type": "stream",
     "text": [
      "('N', 'C', 'C', 'C'): -6.615035\n"
     ]
    },
    {
     "ename": "ValueError",
     "evalue": "math domain error",
     "output_type": "error",
     "traceback": [
      "\u001b[0;31m---------------------------------------------------------------------------\u001b[0m",
      "\u001b[0;31mValueError\u001b[0m                                Traceback (most recent call last)",
      "\u001b[0;32m<ipython-input-139-af260a53f2ee>\u001b[0m in \u001b[0;36m<module>\u001b[0;34m()\u001b[0m\n\u001b[0;32m----> 1\u001b[0;31m \u001b[0mgene_model\u001b[0m\u001b[0;34m.\u001b[0m\u001b[0menumerate\u001b[0m\u001b[0;34m(\u001b[0m\u001b[0;34m'ATGC'\u001b[0m\u001b[0;34m)\u001b[0m\u001b[0;34m\u001b[0m\u001b[0m\n\u001b[0m",
      "\u001b[0;32m/Users/ingrid/Downloads/hmm/hmm.py\u001b[0m in \u001b[0;36menumerate\u001b[0;34m(self, observed)\u001b[0m\n\u001b[1;32m    173\u001b[0m         \u001b[0mbest_score\u001b[0m \u001b[0;34m=\u001b[0m \u001b[0mNone\u001b[0m\u001b[0;34m\u001b[0m\u001b[0m\n\u001b[1;32m    174\u001b[0m         \u001b[0;32mfor\u001b[0m \u001b[0mseq\u001b[0m \u001b[0;32min\u001b[0m \u001b[0mitertools\u001b[0m\u001b[0;34m.\u001b[0m\u001b[0mproduct\u001b[0m\u001b[0;34m(\u001b[0m\u001b[0mself\u001b[0m\u001b[0;34m.\u001b[0m\u001b[0mstates\u001b[0m\u001b[0;34m.\u001b[0m\u001b[0mkeys\u001b[0m\u001b[0;34m(\u001b[0m\u001b[0;34m)\u001b[0m\u001b[0;34m,\u001b[0m \u001b[0mrepeat\u001b[0m\u001b[0;34m=\u001b[0m\u001b[0mlen\u001b[0m\u001b[0;34m(\u001b[0m\u001b[0mobserved\u001b[0m\u001b[0;34m)\u001b[0m\u001b[0;34m)\u001b[0m\u001b[0;34m:\u001b[0m\u001b[0;34m\u001b[0m\u001b[0m\n\u001b[0;32m--> 175\u001b[0;31m             \u001b[0ms\u001b[0m \u001b[0;34m=\u001b[0m \u001b[0mself\u001b[0m\u001b[0;34m.\u001b[0m\u001b[0mscore\u001b[0m\u001b[0;34m(\u001b[0m\u001b[0mseq\u001b[0m\u001b[0;34m,\u001b[0m \u001b[0mobserved\u001b[0m\u001b[0;34m)\u001b[0m\u001b[0;34m\u001b[0m\u001b[0m\n\u001b[0m\u001b[1;32m    176\u001b[0m             \u001b[0;32mif\u001b[0m \u001b[0ms\u001b[0m \u001b[0;32mis\u001b[0m \u001b[0;32mnot\u001b[0m \u001b[0mNone\u001b[0m\u001b[0;34m:\u001b[0m\u001b[0;34m\u001b[0m\u001b[0m\n\u001b[1;32m    177\u001b[0m                 \u001b[0;32mprint\u001b[0m \u001b[0;34m'%s: %f'\u001b[0m \u001b[0;34m%\u001b[0m \u001b[0;34m(\u001b[0m\u001b[0mseq\u001b[0m\u001b[0;34m,\u001b[0m \u001b[0ms\u001b[0m\u001b[0;34m)\u001b[0m\u001b[0;34m\u001b[0m\u001b[0m\n",
      "\u001b[0;32m/Users/ingrid/Downloads/hmm/hmm.py\u001b[0m in \u001b[0;36mscore\u001b[0;34m(self, seq_state, seq_observed)\u001b[0m\n\u001b[1;32m    134\u001b[0m                     \u001b[0;32mreturn\u001b[0m \u001b[0mNone\u001b[0m\u001b[0;34m\u001b[0m\u001b[0m\n\u001b[1;32m    135\u001b[0m \u001b[0;34m\u001b[0m\u001b[0m\n\u001b[0;32m--> 136\u001b[0;31m                 \u001b[0mp\u001b[0m \u001b[0;34m+=\u001b[0m \u001b[0mmath\u001b[0m\u001b[0;34m.\u001b[0m\u001b[0mlog10\u001b[0m\u001b[0;34m(\u001b[0m\u001b[0mstate_prev\u001b[0m\u001b[0;34m.\u001b[0m\u001b[0mp_transition\u001b[0m\u001b[0;34m[\u001b[0m\u001b[0mseq_state\u001b[0m\u001b[0;34m[\u001b[0m\u001b[0mi\u001b[0m\u001b[0;34m]\u001b[0m\u001b[0;34m]\u001b[0m\u001b[0;34m)\u001b[0m\u001b[0;34m\u001b[0m\u001b[0m\n\u001b[0m\u001b[1;32m    137\u001b[0m \u001b[0;34m\u001b[0m\u001b[0m\n\u001b[1;32m    138\u001b[0m             \u001b[0;31m# check that this state can emit the observed alphabet symbol\u001b[0m\u001b[0;34m\u001b[0m\u001b[0;34m\u001b[0m\u001b[0m\n",
      "\u001b[0;31mValueError\u001b[0m: math domain error"
     ]
    }
   ],
   "source": [
    "gene_model.enumerate('ATGC')"
   ]
  },
  {
   "cell_type": "code",
   "execution_count": 83,
   "metadata": {
    "collapsed": false
   },
   "outputs": [],
   "source": [
    "s1 = hmm.state(\n",
    "        'S1',            # name of the state\n",
    "        0.5,             # probability of being the initial state\n",
    "        { '1': 0.5,      # probability of emitting a '1' at each visit\n",
    "          '2': 0.5 },    # probability of emitting a '2' at each visit\n",
    "        { 'S1': 0.9,     # probability of transitioning to itself\n",
    "          'S2': 0.1 })   # probability of transitioning to state 'S2'\n",
    "s2 = hmm.state('S2', 0.5,\n",
    "        { '1': 0.25, '2': 0.75 },\n",
    "        { 'S1': 0.8, 'S2': 0.2 })\n",
    "model = hmm.hmm(['1', '2'],  # all symbols that can be emitted\n",
    "                [s1, s2])    # all of the states in this HMM"
   ]
  },
  {
   "cell_type": "code",
   "execution_count": null,
   "metadata": {
    "collapsed": true
   },
   "outputs": [],
   "source": [
    "model = hmm.hmm(['A', 'C','T','G'],  # all symbols that can be emitted\n",
    "                [s1, s2])"
   ]
  },
  {
   "cell_type": "code",
   "execution_count": 84,
   "metadata": {
    "collapsed": false
   },
   "outputs": [
    {
     "name": "stdout",
     "output_type": "stream",
     "text": [
      "('S2', 'S2', 'S2'): -2.073786\n",
      "('S2', 'S2', 'S1'): -1.647817\n",
      "('S2', 'S1', 'S2'): -1.948847\n",
      "('S2', 'S1', 'S1'): -1.170696\n",
      "('S1', 'S2', 'S2'): -2.550907\n",
      "('S1', 'S2', 'S1'): -2.124939\n",
      "('S1', 'S1', 'S2'): -2.073786\n",
      "('S1', 'S1', 'S1'): -1.295635\n",
      "BEST: ('S2', 'S1', 'S1'): -1.170696\n"
     ]
    }
   ],
   "source": [
    "model.enumerate('222')"
   ]
  },
  {
   "cell_type": "code",
   "execution_count": 45,
   "metadata": {
    "collapsed": false
   },
   "outputs": [],
   "source": [
    "training_data = build_training_data(annot,data)"
   ]
  },
  {
   "cell_type": "code",
   "execution_count": 58,
   "metadata": {
    "collapsed": true
   },
   "outputs": [],
   "source": [
    "import hmm"
   ]
  },
  {
   "cell_type": "code",
   "execution_count": 57,
   "metadata": {
    "collapsed": false
   },
   "outputs": [
    {
     "ename": "TypeError",
     "evalue": "'module' object is not callable",
     "output_type": "error",
     "traceback": [
      "\u001b[0;31m---------------------------------------------------------------------------\u001b[0m",
      "\u001b[0;31mTypeError\u001b[0m                                 Traceback (most recent call last)",
      "\u001b[0;32m<ipython-input-57-df4d22853628>\u001b[0m in \u001b[0;36m<module>\u001b[0;34m()\u001b[0m\n\u001b[0;32m----> 1\u001b[0;31m \u001b[0mtabul\u001b[0m \u001b[0;34m=\u001b[0m \u001b[0mhmm\u001b[0m\u001b[0;34m(\u001b[0m\u001b[0mdata\u001b[0m\u001b[0;34m,\u001b[0m \u001b[0mannot\u001b[0m\u001b[0;34m)\u001b[0m\u001b[0;34m\u001b[0m\u001b[0m\n\u001b[0m",
      "\u001b[0;31mTypeError\u001b[0m: 'module' object is not callable"
     ]
    }
   ],
   "source": [
    "tabul = hmm(data, annot)"
   ]
  },
  {
   "cell_type": "code",
   "execution_count": 54,
   "metadata": {
    "collapsed": false
   },
   "outputs": [
    {
     "ename": "NameError",
     "evalue": "global name 'state' is not defined",
     "output_type": "error",
     "traceback": [
      "\u001b[0;31m---------------------------------------------------------------------------\u001b[0m",
      "\u001b[0;31mNameError\u001b[0m                                 Traceback (most recent call last)",
      "\u001b[0;32m<ipython-input-54-a64a5c4f888d>\u001b[0m in \u001b[0;36m<module>\u001b[0;34m()\u001b[0m\n\u001b[0;32m----> 1\u001b[0;31m \u001b[0mtrain_hmm\u001b[0m\u001b[0;34m(\u001b[0m\u001b[0mtraining_data\u001b[0m\u001b[0;34m)\u001b[0m\u001b[0;34m\u001b[0m\u001b[0m\n\u001b[0m",
      "\u001b[0;32m<ipython-input-49-85de8a1f7edf>\u001b[0m in \u001b[0;36mtrain_hmm\u001b[0;34m(training_data, include_terminal_state)\u001b[0m\n\u001b[1;32m     28\u001b[0m     \u001b[0mstates\u001b[0m \u001b[0;34m=\u001b[0m \u001b[0;34m[\u001b[0m\u001b[0;34m]\u001b[0m\u001b[0;34m\u001b[0m\u001b[0m\n\u001b[1;32m     29\u001b[0m     \u001b[0;32mfor\u001b[0m \u001b[0ms_name\u001b[0m \u001b[0;32min\u001b[0m \u001b[0mstate_names\u001b[0m\u001b[0;34m:\u001b[0m\u001b[0;34m\u001b[0m\u001b[0m\n\u001b[0;32m---> 30\u001b[0;31m         \u001b[0mstates\u001b[0m\u001b[0;34m.\u001b[0m\u001b[0mappend\u001b[0m\u001b[0;34m(\u001b[0m\u001b[0mstate\u001b[0m\u001b[0;34m(\u001b[0m\u001b[0ms_name\u001b[0m\u001b[0;34m,\u001b[0m \u001b[0;36m0.0\u001b[0m\u001b[0;34m,\u001b[0m \u001b[0mNone\u001b[0m\u001b[0;34m,\u001b[0m \u001b[0mNone\u001b[0m\u001b[0;34m)\u001b[0m\u001b[0;34m)\u001b[0m\u001b[0;34m\u001b[0m\u001b[0m\n\u001b[0m\u001b[1;32m     31\u001b[0m \u001b[0;34m\u001b[0m\u001b[0m\n\u001b[1;32m     32\u001b[0m     \u001b[0;31m# calculate the initial probabilities\u001b[0m\u001b[0;34m\u001b[0m\u001b[0;34m\u001b[0m\u001b[0m\n",
      "\u001b[0;31mNameError\u001b[0m: global name 'state' is not defined"
     ]
    }
   ],
   "source": [
    "train_hmm(training_data)"
   ]
  },
  {
   "cell_type": "code",
   "execution_count": null,
   "metadata": {
    "collapsed": true
   },
   "outputs": [],
   "source": [
    "df[\"sequence\"] = gene_df.sequence\n",
    "df[\"start\"] = gene_df.sequence.apply(lambda seq: \"ATG\" in seq)\n",
    "df[\"stop\"] = gene_df.sequence.apply(lambda seq: any(x in seq for x in [\"TAA\", \"TAG\", \"TGA\"]))\n",
    "# df.iloc[0].sequence"
   ]
  },
  {
   "cell_type": "code",
   "execution_count": null,
   "metadata": {
    "collapsed": true
   },
   "outputs": [],
   "source": [
    "# from collections import defaultdict\n",
    "def aa_find(seq):\n",
    "    codon_count = {}\n",
    "    for aa, codons in codon_map.items():\n",
    "        codon_count[aa] = 0\n",
    "        if any(x in seq for x in codons):\n",
    "            codon_count[aa] += 1\n",
    "    return codon_count"
   ]
  },
  {
   "cell_type": "code",
   "execution_count": null,
   "metadata": {
    "collapsed": false
   },
   "outputs": [],
   "source": [
    "df[\"dict\"] = gene_df.sequence.apply(lambda seq: aa_find(seq)) "
   ]
  },
  {
   "cell_type": "code",
   "execution_count": null,
   "metadata": {
    "collapsed": false
   },
   "outputs": [],
   "source": [
    "aa_counts = pd.DataFrame(list(df[\"dict\"]))"
   ]
  },
  {
   "cell_type": "code",
   "execution_count": null,
   "metadata": {
    "collapsed": false
   },
   "outputs": [],
   "source": [
    "# aa_counts[[\"a\"],[\"c\"],[\"g\"],[\"t\"],[\"gene\"]] = [[df.a],[df.c],[df.g],[df.t],[df.gene]]\n",
    "# aa_counts[[\"a\"]]\n",
    "aa_counts[\"a\"] = df.a\n",
    "aa_counts[\"c\"] = df.c\n",
    "aa_counts[\"g\"] = df.g\n",
    "aa_counts[\"t\"] = df.t\n",
    "aa_counts[\"gene\"] = df.gene\n"
   ]
  },
  {
   "cell_type": "code",
   "execution_count": null,
   "metadata": {
    "collapsed": false
   },
   "outputs": [],
   "source": [
    "df.shape"
   ]
  },
  {
   "cell_type": "code",
   "execution_count": null,
   "metadata": {
    "collapsed": false
   },
   "outputs": [],
   "source": [
    "a = []\n",
    "a.append(aa_find(df.iloc[1].sequence).values())\n",
    "a.append(aa_find(df.iloc[2].sequence).values())\n",
    "a.append(aa_find(df.iloc[3].sequence).values())\n",
    "pd.DataFrame(a)"
   ]
  },
  {
   "cell_type": "code",
   "execution_count": null,
   "metadata": {
    "collapsed": false
   },
   "outputs": [],
   "source": [
    "[a[1] for a in aa_find(df.iloc[1].sequence).items()]"
   ]
  },
  {
   "cell_type": "code",
   "execution_count": null,
   "metadata": {
    "collapsed": false
   },
   "outputs": [],
   "source": [
    "aa_find(df.iloc[1].sequence).items()"
   ]
  },
  {
   "cell_type": "code",
   "execution_count": null,
   "metadata": {
    "collapsed": false
   },
   "outputs": [],
   "source": [
    "codon_to_aa.items()\n",
    "codon_map.items()"
   ]
  },
  {
   "cell_type": "markdown",
   "metadata": {},
   "source": [
    "\n",
    "## Feature Development"
   ]
  },
  {
   "cell_type": "code",
   "execution_count": null,
   "metadata": {
    "collapsed": true
   },
   "outputs": [],
   "source": [
    "# ngrams\n",
    "- 3 grams, which frame?, relationship between subsequent sequence fragments.\n",
    "... am I next to a fragment"
   ]
  },
  {
   "cell_type": "code",
   "execution_count": null,
   "metadata": {
    "collapsed": false
   },
   "outputs": [],
   "source": [
    "\"atg\" in \"gowijgoijatgsoijdfo\""
   ]
  },
  {
   "cell_type": "code",
   "execution_count": null,
   "metadata": {
    "collapsed": false
   },
   "outputs": [],
   "source": [
    "gene_df.sequence[0]"
   ]
  },
  {
   "cell_type": "code",
   "execution_count": null,
   "metadata": {
    "collapsed": true
   },
   "outputs": [],
   "source": [
    "from sklearn.feature_extraction.text import CountVectorizer\n",
    "vectorizer = CountVectorizer(analyzer = 'char_wb', ngram_range=(1,3), min_df= 1)\n",
    "d = vectorizer.fit_transform(list(gene_df['sequence']))"
   ]
  },
  {
   "cell_type": "code",
   "execution_count": null,
   "metadata": {
    "collapsed": false
   },
   "outputs": [],
   "source": [
    "def frameShift(seq,shift):\n",
    "    new_seq = ''\n",
    "    for j, i in enumerate(seq):\n",
    "        if j % shift == 0:\n",
    "            new_seq = new_seq + i + ' '\n",
    "        else: \n",
    "            new_seq = new_seq + i\n",
    "    return new_seq\n",
    "\n",
    "\n",
    "fs = [frameShift(seq,3) for seq in gene_df.sequence]"
   ]
  },
  {
   "cell_type": "code",
   "execution_count": null,
   "metadata": {
    "collapsed": false
   },
   "outputs": [],
   "source": [
    "fs[0]"
   ]
  },
  {
   "cell_type": "code",
   "execution_count": null,
   "metadata": {
    "collapsed": true
   },
   "outputs": [],
   "source": [
    "from sklearn.feature_extraction.text import CountVectorizer\n",
    "vectorizer = CountVectorizer(analyzer = 'char_wb', ngram_range=(3,3), min_df= 1)\n",
    "d = vectorizer.fit_transform(fs)"
   ]
  },
  {
   "cell_type": "code",
   "execution_count": null,
   "metadata": {
    "collapsed": false
   },
   "outputs": [],
   "source": [
    "fs[0]"
   ]
  },
  {
   "cell_type": "code",
   "execution_count": null,
   "metadata": {
    "collapsed": false,
    "scrolled": true
   },
   "outputs": [],
   "source": [
    "x = vectorizer.vocabulary_.copy()\n",
    "my_dict2 = dict((y,str(x)) for x,y in x.iteritems())"
   ]
  },
  {
   "cell_type": "code",
   "execution_count": null,
   "metadata": {
    "collapsed": false
   },
   "outputs": [],
   "source": [
    "my_dict2 = dict((y,str(x)) for x,y in x.iteritems())"
   ]
  },
  {
   "cell_type": "code",
   "execution_count": null,
   "metadata": {
    "collapsed": false
   },
   "outputs": [],
   "source": [
    "my_dict2"
   ]
  },
  {
   "cell_type": "code",
   "execution_count": null,
   "metadata": {
    "collapsed": false
   },
   "outputs": [],
   "source": [
    "nx = [x.pop(val) for val in vectorizer.vocabulary_ if len(val.strip()) != 3]\n"
   ]
  },
  {
   "cell_type": "code",
   "execution_count": null,
   "metadata": {
    "collapsed": false
   },
   "outputs": [],
   "source": [
    "gg = list(d)"
   ]
  },
  {
   "cell_type": "code",
   "execution_count": null,
   "metadata": {
    "collapsed": false
   },
   "outputs": [],
   "source": [
    "len(gg)"
   ]
  },
  {
   "cell_type": "code",
   "execution_count": null,
   "metadata": {
    "collapsed": false
   },
   "outputs": [],
   "source": [
    "len(d.indptr)\n",
    "len(d.data)"
   ]
  },
  {
   "cell_type": "code",
   "execution_count": null,
   "metadata": {
    "collapsed": false
   },
   "outputs": [],
   "source": [
    "test = gg[0]"
   ]
  },
  {
   "cell_type": "code",
   "execution_count": null,
   "metadata": {
    "collapsed": false
   },
   "outputs": [],
   "source": [
    "import pandas as pd\n",
    "\n",
    "l = []\n",
    "for i in range(len(gg)):\n",
    "    doc = gg[i]\n",
    "    l.append(pd.DataFrame({\"doc\":i,\"index\":doc.indices,\"count\":doc.data}))\n",
    "dum = pd.concat(l)\n",
    "# df2 = pd.DataFrame({\"index\":doc.indices,\"count\":doc.data})\n",
    "# df2\n"
   ]
  },
  {
   "cell_type": "code",
   "execution_count": null,
   "metadata": {
    "collapsed": false
   },
   "outputs": [],
   "source": [
    "len(set(dum.doc))"
   ]
  },
  {
   "cell_type": "code",
   "execution_count": null,
   "metadata": {
    "collapsed": false
   },
   "outputs": [],
   "source": [
    "dum.index"
   ]
  },
  {
   "cell_type": "code",
   "execution_count": null,
   "metadata": {
    "collapsed": false
   },
   "outputs": [],
   "source": [
    "x = vectorizer.vocabulary_.copy()\n",
    "my_dict2 = dict((y,str(x)) for x,y in x.iteritems())\n",
    "dum[\"codon\"] = dum['index'].apply(lambda ind: my_dict2[ind])\n",
    "codonCount = dum[dum.codon.apply(lambda v: len(v.strip())) == 3]"
   ]
  },
  {
   "cell_type": "code",
   "execution_count": null,
   "metadata": {
    "collapsed": false
   },
   "outputs": [],
   "source": [
    "codonCount = dum[dum.codon.apply(lambda v: len(v.strip())) == 3]\n",
    "# dum.codon.apply(lambda v: len(v.strip()))"
   ]
  },
  {
   "cell_type": "code",
   "execution_count": null,
   "metadata": {
    "collapsed": true
   },
   "outputs": [],
   "source": [
    "ngrams = list(vectorizer.get_feature_names())\n",
    "[gram.strip() for gram in ngrams if len(gram.strip()) == 3]\n",
    "\n",
    "\n"
   ]
  },
  {
   "cell_type": "code",
   "execution_count": null,
   "metadata": {
    "collapsed": false
   },
   "outputs": [],
   "source": [
    "codon_map = {\"I\":[\"ATT\", \"ATC\", \"ATA\"],\"L\":[\"CTT\", \"CTC\", \"CTA\", \"CTG\", \"TTA\",\" TTG\"],\n",
    "          \"V\":[\"GTT\", \"GTC\", \"GTA\", \"GTG\"],\"F\":[\"TTT\", \"TTC\"],\"M\":[\"ATG\"],\"C\":[\"TGT\", \"TGC\"],\n",
    "          \"A\":[\"GCT\", \"GCC\", \"GCA\", \"GCG\"],\"G\":[\"GGT\", \"GGC\", \"GGA\", \"GGG\"],\n",
    "          \"P\":[\"CCT\", \"CCC\", \"CCA\", \"CCG\"],\n",
    "          \"T\":[\"ACT\", \"ACC\", \"ACA\", \"ACG\"],\"S\":[\"TCT\", \"TCC\", \"TCA\", \"TCG\", \"AGT\", \"AGC\"],\n",
    "          \"Y\":[\"TAT\", \"TAC\"],\"W\":[\"TGG\"],\"Q\":[\"CAA\", \"CAG\"],\"N\":[\"AAT\", \"AAC\"],\"H\":[\"CAT\", \"CAC\"],\n",
    "             \"E\":[\"GAA\", \"GAG\"],\"D\":[\"GAT\", \"GAC\"],\"K\":[\"AAA\", \"AAG\"],\n",
    "             \"R\":[\"CGT\", \"CGC\", \"CGA\", \"CGG\",\"AGA\", \"AGG\"],\"Stop\":[\"TAA\", \"TAG\", \"TGA\"]}\n",
    "def invert(d):\n",
    "    return dict( (v,k) for k in d for v in d[k] )\n",
    "codon_to_aa = invert(codon_map)\n",
    "\n",
    "def codonToAA(strand):\n",
    "    aa_seq = ''.join([codon_to_aa(codon) for codon in strand])\n",
    "    return aa_seq"
   ]
  },
  {
   "cell_type": "code",
   "execution_count": null,
   "metadata": {
    "collapsed": true
   },
   "outputs": [],
   "source": [
    "def codonToAA(strand):\n",
    "    aa_seq = ''.join([codon_to_aa(codon) for codon in strand])\n",
    "    return aa_seq\n"
   ]
  },
  {
   "cell_type": "code",
   "execution_count": null,
   "metadata": {
    "collapsed": false
   },
   "outputs": [],
   "source": [
    "ngrams = list(vectorizer.get_feature_names())\n",
    "ngrams\n"
   ]
  },
  {
   "cell_type": "markdown",
   "metadata": {},
   "source": [
    "## Visualizing the Distributions"
   ]
  },
  {
   "cell_type": "code",
   "execution_count": 311,
   "metadata": {
    "collapsed": true
   },
   "outputs": [],
   "source": [
    "import numpy as np\n",
    "import pandas as pd\n",
    "from scipy import stats, integrate\n",
    "import matplotlib.pyplot as plt\n",
    "import seaborn as sns\n",
    "sns.set(color_codes=True)"
   ]
  },
  {
   "cell_type": "code",
   "execution_count": null,
   "metadata": {
    "collapsed": true
   },
   "outputs": [],
   "source": []
  },
  {
   "cell_type": "code",
   "execution_count": 1,
   "metadata": {
    "collapsed": false
   },
   "outputs": [
    {
     "ename": "NameError",
     "evalue": "name 'x' is not defined",
     "output_type": "error",
     "traceback": [
      "\u001b[0;31m---------------------------------------------------------------------------\u001b[0m",
      "\u001b[0;31mNameError\u001b[0m                                 Traceback (most recent call last)",
      "\u001b[0;32m<ipython-input-1-255e40a50721>\u001b[0m in \u001b[0;36m<module>\u001b[0;34m()\u001b[0m\n\u001b[0;32m----> 1\u001b[0;31m \u001b[0mx\u001b[0m\u001b[0;34m[\u001b[0m\u001b[0;34m[\u001b[0m\u001b[0;34m'Y'\u001b[0m\u001b[0;34m,\u001b[0m \u001b[0;34m'GAA'\u001b[0m\u001b[0;34m,\u001b[0m \u001b[0;34m'X'\u001b[0m\u001b[0;34m]\u001b[0m\u001b[0;34m]\u001b[0m\u001b[0;31m#, 'GAT', 'V', 'A', 'ATT', 'GGT', 'g']]\u001b[0m\u001b[0;34m\u001b[0m\u001b[0m\n\u001b[0m\u001b[1;32m      2\u001b[0m \u001b[0msns\u001b[0m\u001b[0;34m.\u001b[0m\u001b[0mpairplot\u001b[0m\u001b[0;34m(\u001b[0m\u001b[0mx\u001b[0m\u001b[0;34m[\u001b[0m\u001b[0;34m[\u001b[0m\u001b[0;34m'Y'\u001b[0m\u001b[0;34m,\u001b[0m \u001b[0;34m'GAA'\u001b[0m\u001b[0;34m,\u001b[0m \u001b[0;34m'X'\u001b[0m\u001b[0;34m]\u001b[0m\u001b[0;34m]\u001b[0m\u001b[0;34m)\u001b[0m\u001b[0;34m;\u001b[0m\u001b[0;34m\u001b[0m\u001b[0m\n",
      "\u001b[0;31mNameError\u001b[0m: name 'x' is not defined"
     ]
    }
   ],
   "source": [
    "x[['Y', 'GAA', 'X']]#, 'GAT', 'V', 'A', 'ATT', 'GGT', 'g']]\n",
    "sns.pairplot(x[['Y', 'GAA', 'X']]);"
   ]
  },
  {
   "cell_type": "markdown",
   "metadata": {
    "collapsed": true
   },
   "source": [
    "## Model testing"
   ]
  },
  {
   "cell_type": "code",
   "execution_count": 40,
   "metadata": {
    "collapsed": true
   },
   "outputs": [],
   "source": [
    "from sklearn.linear_model import LogisticRegression\n",
    "from sklearn.naive_bayes import GaussianNB\n",
    "from sklearn.svm import SVC\n",
    "from sklearn.tree import DecisionTreeClassifier\n",
    "from sklearn.ensemble import RandomForestClassifier\n",
    "from sklearn.neighbors import KNeighborsClassifier\n",
    "\n",
    "from sklearn.metrics import accuracy_score, classification_report\n",
    "\n",
    "\n",
    "from sklearn.learning_curve import learning_curve\n",
    "\n",
    "from sklearn.cross_validation import train_test_split, KFold, cross_val_score"
   ]
  },
  {
   "cell_type": "markdown",
   "metadata": {},
   "source": [
    "## Test for sequence prediciction (PERFECT)"
   ]
  },
  {
   "cell_type": "code",
   "execution_count": 78,
   "metadata": {
    "collapsed": false
   },
   "outputs": [
    {
     "data": {
      "text/plain": [
       "Index(['index', 'start', 'end', 'frame', 'seq', 'state', 'gene', 'len', 'a',\n",
       "       'c', 'g', 't', 'X', 'N', 'T', 'D', 'Y', 'L', 'W', 'Q', 'S', 'I', 'M',\n",
       "       'C', 'A', 'V', 'K', 'G', 'H', 'R', 'P', 'F', 'E', 'CAC', 'TAC', 'TGG',\n",
       "       'ACA', 'GCA', 'ACC', 'TCA', 'GAG', 'AGC', 'GCC', 'CGA', 'AAC', 'GTC',\n",
       "       'CTC', 'ACG', 'TCC', 'GTA', 'GAA', 'TAA', 'AGT', 'AAT', 'AGG', 'AGA',\n",
       "       'TCT', 'TCG', 'AAG', 'ACT', 'TGC', 'GAC', 'TTG', 'CCT', 'TTA', 'TGA',\n",
       "       'CTG', 'GTG', 'ATA', 'CAA', 'CAT', 'TAG', 'CGG', 'GCT', 'CCC', 'CTT',\n",
       "       'TGT', 'TTC', 'GGC', 'GTT', 'TAT', 'GGA', 'GAT', 'AAA', 'CGC', 'GGT',\n",
       "       'ATT', 'ATC', 'CCA', 'GGG', 'GCG', 'CCG', 'CAG', 'ATG', 'TTT', 'CGT',\n",
       "       'CTA'],\n",
       "      dtype='object')"
      ]
     },
     "execution_count": 78,
     "metadata": {},
     "output_type": "execute_result"
    }
   ],
   "source": [
    "merged_frames.keys()"
   ]
  },
  {
   "cell_type": "code",
   "execution_count": 80,
   "metadata": {
    "collapsed": false
   },
   "outputs": [],
   "source": [
    "# x = df[[\"a\",\"c\",\"g\",\"t\",\"start\",\"stop\"]]\n",
    "y = merged_frames.gene\n",
    "x = merged_frames[['frame', 'len', 'a',\n",
    "       'c', 'g', 't', 'X', 'N', 'T', 'D', 'Y', 'L', 'W', 'Q', 'S', 'I', 'M',\n",
    "       'C', 'A', 'V', 'K', 'G', 'H', 'R', 'P', 'F', 'E', 'CAC', 'TAC', 'TGG',\n",
    "       'ACA', 'GCA', 'ACC', 'TCA', 'GAG', 'AGC', 'GCC', 'CGA', 'AAC', 'GTC',\n",
    "       'CTC', 'ACG', 'TCC', 'GTA', 'GAA', 'TAA', 'AGT', 'AAT', 'AGG', 'AGA',\n",
    "       'TCT', 'TCG', 'AAG', 'ACT', 'TGC', 'GAC', 'TTG', 'CCT', 'TTA', 'TGA',\n",
    "       'CTG', 'GTG', 'ATA', 'CAA', 'CAT', 'TAG', 'CGG', 'GCT', 'CCC', 'CTT',\n",
    "       'TGT', 'TTC', 'GGC', 'GTT', 'TAT', 'GGA', 'GAT', 'AAA', 'CGC', 'GGT',\n",
    "       'ATT', 'ATC', 'CCA', 'GGG', 'GCG', 'CCG', 'CAG', 'ATG', 'TTT', 'CGT',\n",
    "       'CTA']]\n",
    "# y = df.gene\n",
    "# x = aa_counts.drop('gene', 1)"
   ]
  },
  {
   "cell_type": "code",
   "execution_count": 113,
   "metadata": {
    "collapsed": false
   },
   "outputs": [
    {
     "data": {
      "text/html": [
       "<div>\n",
       "<table border=\"1\" class=\"dataframe\">\n",
       "  <thead>\n",
       "    <tr style=\"text-align: right;\">\n",
       "      <th></th>\n",
       "      <th>level_0</th>\n",
       "      <th>level_1</th>\n",
       "      <th>0</th>\n",
       "    </tr>\n",
       "  </thead>\n",
       "  <tbody>\n",
       "    <tr>\n",
       "      <th>0</th>\n",
       "      <td>L</td>\n",
       "      <td>len</td>\n",
       "      <td>0.941414</td>\n",
       "    </tr>\n",
       "    <tr>\n",
       "      <th>1</th>\n",
       "      <td>len</td>\n",
       "      <td>L</td>\n",
       "      <td>0.941414</td>\n",
       "    </tr>\n",
       "    <tr>\n",
       "      <th>2</th>\n",
       "      <td>G</td>\n",
       "      <td>len</td>\n",
       "      <td>0.917544</td>\n",
       "    </tr>\n",
       "    <tr>\n",
       "      <th>3</th>\n",
       "      <td>len</td>\n",
       "      <td>G</td>\n",
       "      <td>0.917544</td>\n",
       "    </tr>\n",
       "    <tr>\n",
       "      <th>4</th>\n",
       "      <td>F</td>\n",
       "      <td>Y</td>\n",
       "      <td>0.916171</td>\n",
       "    </tr>\n",
       "  </tbody>\n",
       "</table>\n",
       "</div>"
      ],
      "text/plain": [
       "  level_0 level_1         0\n",
       "0       L     len  0.941414\n",
       "1     len       L  0.941414\n",
       "2       G     len  0.917544\n",
       "3     len       G  0.917544\n",
       "4       F       Y  0.916171"
      ]
     },
     "execution_count": 113,
     "metadata": {},
     "output_type": "execute_result"
    }
   ],
   "source": [
    "temp = x.corr().unstack().sort_values(ascending = False)\n",
    "temp[temp != 1].reset_index().head()#.sort_values(by='level_0')#['level_0' == 'len']"
   ]
  },
  {
   "cell_type": "code",
   "execution_count": 84,
   "metadata": {
    "collapsed": false
   },
   "outputs": [
    {
     "data": {
      "text/plain": [
       "True     809\n",
       "False    731\n",
       "Name: gene, dtype: int64"
      ]
     },
     "execution_count": 84,
     "metadata": {},
     "output_type": "execute_result"
    }
   ],
   "source": [
    "merged_frames.gene.value_counts()"
   ]
  },
  {
   "cell_type": "code",
   "execution_count": 9,
   "metadata": {
    "collapsed": false
   },
   "outputs": [
    {
     "ename": "NameError",
     "evalue": "name 'de' is not defined",
     "output_type": "error",
     "traceback": [
      "\u001b[0;31m---------------------------------------------------------------------------\u001b[0m",
      "\u001b[0;31mNameError\u001b[0m                                 Traceback (most recent call last)",
      "\u001b[0;32m<ipython-input-9-3798b4769d15>\u001b[0m in \u001b[0;36m<module>\u001b[0;34m()\u001b[0m\n\u001b[0;32m----> 1\u001b[0;31m \u001b[0mde\u001b[0m\u001b[0;34m[\u001b[0m\u001b[0;36m0\u001b[0m\u001b[0;34m]\u001b[0m\u001b[0;34m[\u001b[0m\u001b[0;36m0\u001b[0m\u001b[0;34m]\u001b[0m\u001b[0;34m[\u001b[0m\u001b[0;36m2952\u001b[0m\u001b[0;34m:\u001b[0m\u001b[0;36m3150\u001b[0m\u001b[0;34m]\u001b[0m\u001b[0;34m\u001b[0m\u001b[0m\n\u001b[0m",
      "\u001b[0;31mNameError\u001b[0m: name 'de' is not defined"
     ]
    }
   ],
   "source": [
    "de[0][0][2952:3150]"
   ]
  },
  {
   "cell_type": "code",
   "execution_count": null,
   "metadata": {
    "collapsed": true
   },
   "outputs": [],
   "source": []
  },
  {
   "cell_type": "code",
   "execution_count": 81,
   "metadata": {
    "collapsed": false
   },
   "outputs": [],
   "source": [
    "y = y.apply(lambda x: int(x))"
   ]
  },
  {
   "cell_type": "code",
   "execution_count": 82,
   "metadata": {
    "collapsed": false
   },
   "outputs": [
    {
     "name": "stdout",
     "output_type": "stream",
     "text": [
      "RandomForestClassifier Accuracy Score : 0.554520\n",
      "DecisionTreeClassifier Accuracy Score : 0.551949\n",
      "GaussianNB Accuracy Score : 0.526594\n",
      "SVC Accuracy Score : 0.580554\n",
      "KNeighborsClassifier Accuracy Score : 0.548724\n",
      "LogisticRegression Accuracy Score : 0.562351\n"
     ]
    }
   ],
   "source": [
    "\n",
    "algorithms = [RandomForestClassifier(), DecisionTreeClassifier(), GaussianNB(), \n",
    "              SVC(), KNeighborsClassifier(n_neighbors=6), LogisticRegression()]\n",
    "\n",
    "for algo in algorithms:\n",
    "    accuracy = cross_val_score(algo,x,y)\n",
    "    print(\"{:s} Accuracy Score : {:f}\".format(str(algo).split('(', 1)[0],accuracy.mean()))"
   ]
  },
  {
   "cell_type": "markdown",
   "metadata": {
    "collapsed": true
   },
   "source": [
    "## Test for ENDS"
   ]
  },
  {
   "cell_type": "code",
   "execution_count": 152,
   "metadata": {
    "collapsed": false
   },
   "outputs": [
    {
     "name": "stdout",
     "output_type": "stream",
     "text": [
      "      actual_start  predicted_start      end   gene predicted\n",
      "27           60814            61612    61831   True      True\n",
      "821            NaN            49264    49594  False      True\n",
      "886            NaN           275188   275413  False      True\n",
      "589         896713           897745   897991   True      True\n",
      "996            NaN           711403   711706  False      True\n",
      "803        1836946          1837831  1838053   True      True\n",
      "230         364355           365003   365315   True      True\n",
      "538         821736           822657   822918   True      True\n",
      "180         289904           290429   290801   True      True\n",
      "616         946970           949250   949457   True      True\n",
      "1320           NaN          1829067  1829268  False      True\n",
      "406         655030           655030   655372   True      True\n",
      "1231           NaN          1501698  1501914  False      True\n",
      "1172           NaN          1299962  1300172  False      True\n",
      "894            NaN           302792   302993  False      True\n",
      "814            NaN            35000    35243  False      True\n",
      "912            NaN           383996   384251  False      True\n",
      "1012           NaN           766854   767061  False      True\n",
      "312         510950           511364   511592   True      True\n",
      "421         674884           675925   676177   True      True\n"
     ]
    },
    {
     "data": {
      "text/plain": [
       "True     809\n",
       "False    514\n",
       "Name: gene, dtype: int64"
      ]
     },
     "execution_count": 152,
     "metadata": {},
     "output_type": "execute_result"
    }
   ],
   "source": [
    "# Table of actual ends locations\n",
    "##Sample from Actual Sequences and label as true\n",
    "# actual_forward_stops = regions[regions.state == 'C']\n",
    "# actual_forward_stops[\"frame\"] = actual_forward_stops.start.apply(lambda start: int(start) % 3)\n",
    "# actual_forward_stops[\"gene\"] = True\n",
    "# actual_forward_stops.head()\n",
    "\n",
    "actual_ends = actual_forward_stops[[\"start\",\"end\",\"gene\"]]\n",
    "predicted_ends = pair_df[[\"start\",\"end\"]]\n",
    "predicted_ends[\"predicted\"] = True\n",
    "\n",
    "# actual_ends\n",
    "# predicted_ends\n",
    "# Table of predicted ends locations\n",
    "# merged tables\n",
    "merged_ends = pd.merge(actual_ends,predicted_ends, on='end',how='outer')\n",
    "merged_ends.gene.fillna(False, inplace=True)\n",
    "merged_ends.predicted.fillna(False, inplace=True)\n",
    "merged_ends = merged_ends[[\"start_x\",\"start_y\",\"end\",\"gene\",\"predicted\"]]\n",
    "merged_ends.columns = [[\"actual_start\",\"predicted_start\",\"end\",\"gene\",\"predicted\"]]\n",
    "print(merged_ends.sample(n=20))\n",
    "merged_ends.gene.value_counts()"
   ]
  },
  {
   "cell_type": "code",
   "execution_count": 153,
   "metadata": {
    "collapsed": false
   },
   "outputs": [
    {
     "name": "stdout",
     "output_type": "stream",
     "text": [
      "True     1277\n",
      "False      46\n",
      "Name: predicted, dtype: int64\n",
      "True     809\n",
      "False    514\n",
      "Name: gene, dtype: int64\n",
      "       gene  predicted\n",
      "True    809       1277\n",
      "False   514         46\n"
     ]
    }
   ],
   "source": [
    "# merged_ends.sort_values(by='predicted')\n",
    "print(merged_ends.predicted.value_counts())\n",
    "print(merged_ends.gene.value_counts())\n",
    "print(merged_ends[[\"gene\",\"predicted\"]].apply(pd.Series.value_counts))"
   ]
  },
  {
   "cell_type": "code",
   "execution_count": 157,
   "metadata": {
    "collapsed": false
   },
   "outputs": [
    {
     "data": {
      "text/html": [
       "<div>\n",
       "<table border=\"1\" class=\"dataframe\">\n",
       "  <thead>\n",
       "    <tr style=\"text-align: right;\">\n",
       "      <th></th>\n",
       "      <th></th>\n",
       "      <th>end</th>\n",
       "    </tr>\n",
       "    <tr>\n",
       "      <th>gene</th>\n",
       "      <th>predicted</th>\n",
       "      <th></th>\n",
       "    </tr>\n",
       "  </thead>\n",
       "  <tbody>\n",
       "    <tr>\n",
       "      <th>False</th>\n",
       "      <th>True</th>\n",
       "      <td>514</td>\n",
       "    </tr>\n",
       "    <tr>\n",
       "      <th rowspan=\"2\" valign=\"top\">True</th>\n",
       "      <th>False</th>\n",
       "      <td>46</td>\n",
       "    </tr>\n",
       "    <tr>\n",
       "      <th>True</th>\n",
       "      <td>763</td>\n",
       "    </tr>\n",
       "  </tbody>\n",
       "</table>\n",
       "</div>"
      ],
      "text/plain": [
       "                 end\n",
       "gene  predicted     \n",
       "False True       514\n",
       "True  False       46\n",
       "      True       763"
      ]
     },
     "execution_count": 157,
     "metadata": {},
     "output_type": "execute_result"
    }
   ],
   "source": [
    "merged_ends[[\"end\",\"gene\",\"predicted\"]].groupby([\"gene\",\"predicted\"]).count()"
   ]
  },
  {
   "cell_type": "code",
   "execution_count": 167,
   "metadata": {
    "collapsed": false
   },
   "outputs": [
    {
     "data": {
      "text/html": [
       "<div>\n",
       "<table border=\"1\" class=\"dataframe\">\n",
       "  <thead>\n",
       "    <tr style=\"text-align: right;\">\n",
       "      <th></th>\n",
       "      <th>actual_start</th>\n",
       "      <th>predicted_start</th>\n",
       "      <th>end</th>\n",
       "      <th>gene</th>\n",
       "      <th>predicted</th>\n",
       "      <th>False_Predictions</th>\n",
       "      <th>True_predictions</th>\n",
       "    </tr>\n",
       "  </thead>\n",
       "  <tbody>\n",
       "    <tr>\n",
       "      <th>809</th>\n",
       "      <td>NaN</td>\n",
       "      <td>6731</td>\n",
       "      <td>6953</td>\n",
       "      <td>False</td>\n",
       "      <td>True</td>\n",
       "      <td>True</td>\n",
       "      <td>False</td>\n",
       "    </tr>\n",
       "    <tr>\n",
       "      <th>810</th>\n",
       "      <td>NaN</td>\n",
       "      <td>9287</td>\n",
       "      <td>9533</td>\n",
       "      <td>False</td>\n",
       "      <td>True</td>\n",
       "      <td>True</td>\n",
       "      <td>False</td>\n",
       "    </tr>\n",
       "    <tr>\n",
       "      <th>811</th>\n",
       "      <td>NaN</td>\n",
       "      <td>11937</td>\n",
       "      <td>12237</td>\n",
       "      <td>False</td>\n",
       "      <td>True</td>\n",
       "      <td>True</td>\n",
       "      <td>False</td>\n",
       "    </tr>\n",
       "    <tr>\n",
       "      <th>812</th>\n",
       "      <td>NaN</td>\n",
       "      <td>12580</td>\n",
       "      <td>12784</td>\n",
       "      <td>False</td>\n",
       "      <td>True</td>\n",
       "      <td>True</td>\n",
       "      <td>False</td>\n",
       "    </tr>\n",
       "    <tr>\n",
       "      <th>813</th>\n",
       "      <td>NaN</td>\n",
       "      <td>22392</td>\n",
       "      <td>22683</td>\n",
       "      <td>False</td>\n",
       "      <td>True</td>\n",
       "      <td>True</td>\n",
       "      <td>False</td>\n",
       "    </tr>\n",
       "  </tbody>\n",
       "</table>\n",
       "</div>"
      ],
      "text/plain": [
       "     actual_start  predicted_start    end   gene predicted False_Predictions  \\\n",
       "809           NaN             6731   6953  False      True              True   \n",
       "810           NaN             9287   9533  False      True              True   \n",
       "811           NaN            11937  12237  False      True              True   \n",
       "812           NaN            12580  12784  False      True              True   \n",
       "813           NaN            22392  22683  False      True              True   \n",
       "\n",
       "    True_predictions  \n",
       "809            False  \n",
       "810            False  \n",
       "811            False  \n",
       "812            False  \n",
       "813            False  "
      ]
     },
     "execution_count": 167,
     "metadata": {},
     "output_type": "execute_result"
    }
   ],
   "source": [
    "merged_ends[\"False_Predictions\"] = merged_ends.gene == False\n",
    "merged_ends[\"True_predictions\"] = merged_ends.apply(lambda x: x[4] == True and x[3] == True, axis=1)\n",
    "merged_ends[merged_ends.False_Predictions == True].head()"
   ]
  },
  {
   "cell_type": "code",
   "execution_count": 219,
   "metadata": {
    "collapsed": true
   },
   "outputs": [],
   "source": [
    "## Nucleotide Frequencies for each Potential Gene\n",
    "\n",
    "# def frequency_features(table,frequency_type='nucleotide'):\n",
    "    \n",
    "#     if frequency_type == 'nucleotide':\n",
    "#         res = [[l[1] for l in list(nucleotide_frequency(seg).items())] for seg in list(table.seq)]\n",
    "#         frequency_df = pd.DataFrame(res)\n",
    "#         frequency_df.columns=[\"a\",\"c\",\"g\",\"t\"]\n",
    "#     elif frequency_type == 'aa':\n",
    "#     elif frequency_type == 'codon':\n",
    "#     else:\n",
    "#         print(\"Options are nucleotide, aa, or codon\")\n",
    "#         frequency_df = table\n",
    "#     print(\"Calculated Frequencies...\")\n",
    "#     print(frequency_df.head())\n",
    "#     return frequency_df\n",
    "def nucleotide_frequency_features(table):\n",
    "    res = [[l[1] for l in list(nucleotide_frequency(seg).items())] for seg in list(table.seq)]\n",
    "    frequency_df = pd.DataFrame(res)\n",
    "    frequency_df.columns=[\"a\",\"c\",\"g\",\"t\"]\n",
    "    print(\"Calculated Nucleotide Frequencies...\")\n",
    "    print(frequency_df.head())\n",
    "    return frequency_df\n",
    "def codon_frequency_features(table):\n",
    "    codon_matrix = [list(codon_frequency(tri_split(seg)).values()) for seg in list(table.seq)]\n",
    "    codon_frequency_df = pd.DataFrame(codon_matrix)\n",
    "    codon_frequency_df.columns=[list(codons().keys())]\n",
    "    print(\"Calculated codon frequencies...\")\n",
    "    print(codon_frequency_df.head(2))\n",
    "    return codon_frequency_df\n",
    "def aa_frequency_features(table):\n",
    "    aa_matrix = [list(aa_frequency(codonToAA(tri_split(seg))).values()) for seg in list(table.seq)]\n",
    "    aa_frequency_df = pd.DataFrame(aa_matrix)\n",
    "    aa_frequency_df.columns=[['X','N','T','D','Y','L','W','Q','S','I','M','C','A','V','K','G','H','R','P','F','E']]\n",
    "    print(\"Calculated amino acid frequencies...\")\n",
    "    print(aa_frequency_df.head())\n",
    "    return aa_frequency_df"
   ]
  },
  {
   "cell_type": "code",
   "execution_count": 210,
   "metadata": {
    "collapsed": false
   },
   "outputs": [
    {
     "name": "stderr",
     "output_type": "stream",
     "text": [
      "/Users/ingrid/anaconda/lib/python3.5/site-packages/ipykernel/__main__.py:2: SettingWithCopyWarning: \n",
      "A value is trying to be set on a copy of a slice from a DataFrame.\n",
      "Try using .loc[row_indexer,col_indexer] = value instead\n",
      "\n",
      "See the caveats in the documentation: http://pandas.pydata.org/pandas-docs/stable/indexing.html#indexing-view-versus-copy\n",
      "  from ipykernel import kernelapp as app\n"
     ]
    }
   ],
   "source": [
    "face = merged_ends[merged_ends.False_Predictions == True]\n",
    "face[\"seq\"] = face.apply(lambda x: data[int(x[1]):int(x[2])],axis=1)\n",
    "\n",
    "# data[6731:6953]"
   ]
  },
  {
   "cell_type": "code",
   "execution_count": 229,
   "metadata": {
    "collapsed": false
   },
   "outputs": [
    {
     "name": "stderr",
     "output_type": "stream",
     "text": [
      "/Users/ingrid/anaconda/lib/python3.5/site-packages/ipykernel/__main__.py:3: SettingWithCopyWarning: \n",
      "A value is trying to be set on a copy of a slice from a DataFrame.\n",
      "Try using .loc[row_indexer,col_indexer] = value instead\n",
      "\n",
      "See the caveats in the documentation: http://pandas.pydata.org/pandas-docs/stable/indexing.html#indexing-view-versus-copy\n",
      "  app.launch_new_instance()\n"
     ]
    }
   ],
   "source": [
    "# face[\"seq\"] = face.apply(lambda x: data[x[1]:x[2]],axis=1)\n",
    "egg = merged_ends[merged_ends.True_predictions == True]\n",
    "egg[\"seq\"] = egg.apply(lambda x: data[int(x[1]):int(x[2])],axis=1)\n"
   ]
  },
  {
   "cell_type": "code",
   "execution_count": 231,
   "metadata": {
    "collapsed": false
   },
   "outputs": [
    {
     "data": {
      "text/html": [
       "<div>\n",
       "<table border=\"1\" class=\"dataframe\">\n",
       "  <thead>\n",
       "    <tr style=\"text-align: right;\">\n",
       "      <th></th>\n",
       "      <th>actual_start</th>\n",
       "      <th>predicted_start</th>\n",
       "      <th>end</th>\n",
       "      <th>gene</th>\n",
       "      <th>predicted</th>\n",
       "      <th>False_Predictions</th>\n",
       "      <th>True_predictions</th>\n",
       "      <th>seq</th>\n",
       "    </tr>\n",
       "  </thead>\n",
       "  <tbody>\n",
       "    <tr>\n",
       "      <th>0</th>\n",
       "      <td>231</td>\n",
       "      <td>1296</td>\n",
       "      <td>1587</td>\n",
       "      <td>True</td>\n",
       "      <td>True</td>\n",
       "      <td>False</td>\n",
       "      <td>True</td>\n",
       "      <td>ATGACAGTTATTCCCATCGAAGAAATTCAAGCGCAAGTTGGAAAAT...</td>\n",
       "    </tr>\n",
       "    <tr>\n",
       "      <th>1</th>\n",
       "      <td>1741</td>\n",
       "      <td>2563</td>\n",
       "      <td>2878</td>\n",
       "      <td>True</td>\n",
       "      <td>True</td>\n",
       "      <td>False</td>\n",
       "      <td>True</td>\n",
       "      <td>ATGGAACGTGCCTTCTTGATTTCTAATGCTACTCAAAATGGTACTG...</td>\n",
       "    </tr>\n",
       "    <tr>\n",
       "      <th>3</th>\n",
       "      <td>3479</td>\n",
       "      <td>3938</td>\n",
       "      <td>4595</td>\n",
       "      <td>True</td>\n",
       "      <td>True</td>\n",
       "      <td>False</td>\n",
       "      <td>True</td>\n",
       "      <td>ATGGCACGAACTCAAAAAGATAAAGAATCAGTAGCAGAGTTTAATG...</td>\n",
       "    </tr>\n",
       "    <tr>\n",
       "      <th>4</th>\n",
       "      <td>4664</td>\n",
       "      <td>4952</td>\n",
       "      <td>5234</td>\n",
       "      <td>True</td>\n",
       "      <td>True</td>\n",
       "      <td>False</td>\n",
       "      <td>True</td>\n",
       "      <td>ATGGAAGTCAGTAAATTACGTTTACGTAGTAAGGGTTCAGCAGGAG...</td>\n",
       "    </tr>\n",
       "    <tr>\n",
       "      <th>5</th>\n",
       "      <td>5236</td>\n",
       "      <td>8464</td>\n",
       "      <td>8740</td>\n",
       "      <td>True</td>\n",
       "      <td>True</td>\n",
       "      <td>False</td>\n",
       "      <td>True</td>\n",
       "      <td>ATGGACAATGCCTTTGCGGAATTAGTTGAACGCAAAAATAATCAGG...</td>\n",
       "    </tr>\n",
       "    <tr>\n",
       "      <th>6</th>\n",
       "      <td>8878</td>\n",
       "      <td>8902</td>\n",
       "      <td>9175</td>\n",
       "      <td>True</td>\n",
       "      <td>True</td>\n",
       "      <td>False</td>\n",
       "      <td>True</td>\n",
       "      <td>ATGAGACTAGATAAATATCTAAAGGTATCGCGCCTTATTAAACGTC...</td>\n",
       "    </tr>\n",
       "    <tr>\n",
       "      <th>7</th>\n",
       "      <td>9667</td>\n",
       "      <td>10705</td>\n",
       "      <td>10954</td>\n",
       "      <td>True</td>\n",
       "      <td>True</td>\n",
       "      <td>False</td>\n",
       "      <td>True</td>\n",
       "      <td>ATGGAAGCTATTTATCATCAAAAAGGCCAAATTATTTCTTACCTTT...</td>\n",
       "    </tr>\n",
       "    <tr>\n",
       "      <th>8</th>\n",
       "      <td>12805</td>\n",
       "      <td>14527</td>\n",
       "      <td>14785</td>\n",
       "      <td>True</td>\n",
       "      <td>True</td>\n",
       "      <td>False</td>\n",
       "      <td>True</td>\n",
       "      <td>ATGATTGATGATGAGGTTCGTGAACTCTTAAATCAAGCTCGTAATC...</td>\n",
       "    </tr>\n",
       "    <tr>\n",
       "      <th>9</th>\n",
       "      <td>15109</td>\n",
       "      <td>16198</td>\n",
       "      <td>16501</td>\n",
       "      <td>True</td>\n",
       "      <td>True</td>\n",
       "      <td>False</td>\n",
       "      <td>True</td>\n",
       "      <td>ATGATTTGTGCGGGAATATTTCCTTTATCGAGTCTAGCAGAGTTTG...</td>\n",
       "    </tr>\n",
       "    <tr>\n",
       "      <th>10</th>\n",
       "      <td>30545</td>\n",
       "      <td>31076</td>\n",
       "      <td>31742</td>\n",
       "      <td>True</td>\n",
       "      <td>True</td>\n",
       "      <td>False</td>\n",
       "      <td>True</td>\n",
       "      <td>ATGGCTGAAGAAAACCAAAATACATTACGTACTCAACAAGCTAATT...</td>\n",
       "    </tr>\n",
       "    <tr>\n",
       "      <th>11</th>\n",
       "      <td>31994</td>\n",
       "      <td>32669</td>\n",
       "      <td>32957</td>\n",
       "      <td>True</td>\n",
       "      <td>True</td>\n",
       "      <td>False</td>\n",
       "      <td>True</td>\n",
       "      <td>ATGATTGATACCGCAGGGACTATTTGCCATGCAGCAGATGCGCTTG...</td>\n",
       "    </tr>\n",
       "    <tr>\n",
       "      <th>12</th>\n",
       "      <td>33142</td>\n",
       "      <td>33505</td>\n",
       "      <td>33898</td>\n",
       "      <td>True</td>\n",
       "      <td>True</td>\n",
       "      <td>False</td>\n",
       "      <td>True</td>\n",
       "      <td>ATGGAAGAGGGCCTAGATTATGAAATTTTGACAAATATTTTTGAAA...</td>\n",
       "    </tr>\n",
       "    <tr>\n",
       "      <th>13</th>\n",
       "      <td>34000</td>\n",
       "      <td>34726</td>\n",
       "      <td>35008</td>\n",
       "      <td>True</td>\n",
       "      <td>True</td>\n",
       "      <td>False</td>\n",
       "      <td>True</td>\n",
       "      <td>ATGGGGCAACTGAAACAGATAATTAATAGCGGCGGTATTAAGACTA...</td>\n",
       "    </tr>\n",
       "    <tr>\n",
       "      <th>14</th>\n",
       "      <td>35363</td>\n",
       "      <td>35489</td>\n",
       "      <td>36098</td>\n",
       "      <td>True</td>\n",
       "      <td>True</td>\n",
       "      <td>False</td>\n",
       "      <td>True</td>\n",
       "      <td>ATGTTGAATGGAGCTCGTAAGGAGACTATTGATGGCAAGGGAGCAC...</td>\n",
       "    </tr>\n",
       "    <tr>\n",
       "      <th>15</th>\n",
       "      <td>36173</td>\n",
       "      <td>39575</td>\n",
       "      <td>39947</td>\n",
       "      <td>True</td>\n",
       "      <td>True</td>\n",
       "      <td>False</td>\n",
       "      <td>True</td>\n",
       "      <td>ATGGTTGAGACTCGTATCGCAAATACCAACTCACCTTGGTTGGCAG...</td>\n",
       "    </tr>\n",
       "    <tr>\n",
       "      <th>16</th>\n",
       "      <td>40107</td>\n",
       "      <td>41169</td>\n",
       "      <td>41562</td>\n",
       "      <td>True</td>\n",
       "      <td>True</td>\n",
       "      <td>False</td>\n",
       "      <td>True</td>\n",
       "      <td>ATGATTGATGACTCAATTGTAAGAGGAACGACTTCTAGAAGGATTG...</td>\n",
       "    </tr>\n",
       "    <tr>\n",
       "      <th>17</th>\n",
       "      <td>41589</td>\n",
       "      <td>42363</td>\n",
       "      <td>42612</td>\n",
       "      <td>True</td>\n",
       "      <td>True</td>\n",
       "      <td>False</td>\n",
       "      <td>True</td>\n",
       "      <td>ATGTTTGCGGATGATTTGGCTGCGGAAATCGATGAGGACAAGGTGC...</td>\n",
       "    </tr>\n",
       "    <tr>\n",
       "      <th>18</th>\n",
       "      <td>42779</td>\n",
       "      <td>43022</td>\n",
       "      <td>43334</td>\n",
       "      <td>True</td>\n",
       "      <td>True</td>\n",
       "      <td>False</td>\n",
       "      <td>True</td>\n",
       "      <td>ATGAAGATTGTTGGAGAAACCTTACTCTTGGCCTATGAGAGGCGTA...</td>\n",
       "    </tr>\n",
       "    <tr>\n",
       "      <th>19</th>\n",
       "      <td>46499</td>\n",
       "      <td>47438</td>\n",
       "      <td>47765</td>\n",
       "      <td>True</td>\n",
       "      <td>True</td>\n",
       "      <td>False</td>\n",
       "      <td>True</td>\n",
       "      <td>ATGGGCATTGAGCCTTACATCACTTGGCAGAAGGACGGTGTGACTT...</td>\n",
       "    </tr>\n",
       "    <tr>\n",
       "      <th>20</th>\n",
       "      <td>48042</td>\n",
       "      <td>48264</td>\n",
       "      <td>48534</td>\n",
       "      <td>True</td>\n",
       "      <td>True</td>\n",
       "      <td>False</td>\n",
       "      <td>True</td>\n",
       "      <td>ATGGTGGCAGCTAAAACAACGCTGCCTGTTATCGGTGTGCCTGTCA...</td>\n",
       "    </tr>\n",
       "    <tr>\n",
       "      <th>21</th>\n",
       "      <td>49620</td>\n",
       "      <td>51024</td>\n",
       "      <td>51264</td>\n",
       "      <td>True</td>\n",
       "      <td>True</td>\n",
       "      <td>False</td>\n",
       "      <td>True</td>\n",
       "      <td>ATGTCTATTCATGGAAATAGATTTATTCTTCATTTGATTTTCCAAA...</td>\n",
       "    </tr>\n",
       "    <tr>\n",
       "      <th>22</th>\n",
       "      <td>51281</td>\n",
       "      <td>52352</td>\n",
       "      <td>52574</td>\n",
       "      <td>True</td>\n",
       "      <td>True</td>\n",
       "      <td>False</td>\n",
       "      <td>True</td>\n",
       "      <td>ATGCTCAAATTGATTGAAAAAGGAATGACACGAGAAGAAGCTTATG...</td>\n",
       "    </tr>\n",
       "    <tr>\n",
       "      <th>23</th>\n",
       "      <td>52705</td>\n",
       "      <td>53404</td>\n",
       "      <td>53617</td>\n",
       "      <td>True</td>\n",
       "      <td>True</td>\n",
       "      <td>False</td>\n",
       "      <td>True</td>\n",
       "      <td>ATGAGTCAAAAAATTATGGCGAAAATTCAAGATTGGAATAGAATGC...</td>\n",
       "    </tr>\n",
       "    <tr>\n",
       "      <th>24</th>\n",
       "      <td>53842</td>\n",
       "      <td>54589</td>\n",
       "      <td>54841</td>\n",
       "      <td>True</td>\n",
       "      <td>True</td>\n",
       "      <td>False</td>\n",
       "      <td>True</td>\n",
       "      <td>ATGTTAGATGTTGACCGCGAAGGTCTCGATTACATTGATCAGAAAA...</td>\n",
       "    </tr>\n",
       "    <tr>\n",
       "      <th>25</th>\n",
       "      <td>54978</td>\n",
       "      <td>55071</td>\n",
       "      <td>55416</td>\n",
       "      <td>True</td>\n",
       "      <td>True</td>\n",
       "      <td>False</td>\n",
       "      <td>True</td>\n",
       "      <td>ATGATAGAAAGTCGTGCTACTTCTGATTGGGAGCATGGAAACCCTA...</td>\n",
       "    </tr>\n",
       "    <tr>\n",
       "      <th>26</th>\n",
       "      <td>55438</td>\n",
       "      <td>55621</td>\n",
       "      <td>55840</td>\n",
       "      <td>True</td>\n",
       "      <td>True</td>\n",
       "      <td>False</td>\n",
       "      <td>True</td>\n",
       "      <td>ATGAATGGAGAAGGGAAGCTTGTCTACCCCAACGGTGATATCTATG...</td>\n",
       "    </tr>\n",
       "    <tr>\n",
       "      <th>27</th>\n",
       "      <td>60814</td>\n",
       "      <td>61612</td>\n",
       "      <td>61831</td>\n",
       "      <td>True</td>\n",
       "      <td>True</td>\n",
       "      <td>False</td>\n",
       "      <td>True</td>\n",
       "      <td>ATGGAACTGTCTATCGTAAAAACTGTTTTAGATGGTATCAAAGTGG...</td>\n",
       "    </tr>\n",
       "    <tr>\n",
       "      <th>28</th>\n",
       "      <td>62218</td>\n",
       "      <td>63235</td>\n",
       "      <td>63511</td>\n",
       "      <td>True</td>\n",
       "      <td>True</td>\n",
       "      <td>False</td>\n",
       "      <td>True</td>\n",
       "      <td>ATGATTGTTTTACTTTTTTCTTTACTAGGAGCTCCCGCAACGGCAG...</td>\n",
       "    </tr>\n",
       "    <tr>\n",
       "      <th>29</th>\n",
       "      <td>63711</td>\n",
       "      <td>63711</td>\n",
       "      <td>64020</td>\n",
       "      <td>True</td>\n",
       "      <td>True</td>\n",
       "      <td>False</td>\n",
       "      <td>True</td>\n",
       "      <td>ATGGCAAACAAAAAAATCCGTATCCGTTTGAAAGCGTACGAACACC...</td>\n",
       "    </tr>\n",
       "    <tr>\n",
       "      <th>30</th>\n",
       "      <td>64267</td>\n",
       "      <td>64657</td>\n",
       "      <td>64894</td>\n",
       "      <td>True</td>\n",
       "      <td>True</td>\n",
       "      <td>False</td>\n",
       "      <td>True</td>\n",
       "      <td>ATGGCTCACGGTTCTCGTTACCATCGTCGCCCAGGTTCTATGGGAC...</td>\n",
       "    </tr>\n",
       "    <tr>\n",
       "      <th>...</th>\n",
       "      <td>...</td>\n",
       "      <td>...</td>\n",
       "      <td>...</td>\n",
       "      <td>...</td>\n",
       "      <td>...</td>\n",
       "      <td>...</td>\n",
       "      <td>...</td>\n",
       "      <td>...</td>\n",
       "    </tr>\n",
       "    <tr>\n",
       "      <th>1293</th>\n",
       "      <td>NaN</td>\n",
       "      <td>1696432</td>\n",
       "      <td>1696669</td>\n",
       "      <td>False</td>\n",
       "      <td>True</td>\n",
       "      <td>True</td>\n",
       "      <td>False</td>\n",
       "      <td>ATGACCCATCGTTTTTTTCTCACCCCTCTTTCAACCCTCTGGCGCC...</td>\n",
       "    </tr>\n",
       "    <tr>\n",
       "      <th>1294</th>\n",
       "      <td>NaN</td>\n",
       "      <td>1703800</td>\n",
       "      <td>1704100</td>\n",
       "      <td>False</td>\n",
       "      <td>True</td>\n",
       "      <td>True</td>\n",
       "      <td>False</td>\n",
       "      <td>ATGCATTTCTTTGAGGGTTGTTGGCATGCCAATAGCTTGGTAAAAG...</td>\n",
       "    </tr>\n",
       "    <tr>\n",
       "      <th>1295</th>\n",
       "      <td>NaN</td>\n",
       "      <td>1708509</td>\n",
       "      <td>1708728</td>\n",
       "      <td>False</td>\n",
       "      <td>True</td>\n",
       "      <td>True</td>\n",
       "      <td>False</td>\n",
       "      <td>ATGCCAGAACCTGATAGAATCAAGAAAGAGTCTAAAAATTGTTGGG...</td>\n",
       "    </tr>\n",
       "    <tr>\n",
       "      <th>1296</th>\n",
       "      <td>NaN</td>\n",
       "      <td>1709238</td>\n",
       "      <td>1709478</td>\n",
       "      <td>False</td>\n",
       "      <td>True</td>\n",
       "      <td>True</td>\n",
       "      <td>False</td>\n",
       "      <td>ATGGCATCATTAACCCCTTGGAAAGGAATCTGCCCAGCAATCAGGA...</td>\n",
       "    </tr>\n",
       "    <tr>\n",
       "      <th>1297</th>\n",
       "      <td>NaN</td>\n",
       "      <td>1718369</td>\n",
       "      <td>1718585</td>\n",
       "      <td>False</td>\n",
       "      <td>True</td>\n",
       "      <td>True</td>\n",
       "      <td>False</td>\n",
       "      <td>ATGGATGCTCAAACCATTGGCTTGGCCTGTCCACGTTCCCAAAATA...</td>\n",
       "    </tr>\n",
       "    <tr>\n",
       "      <th>1298</th>\n",
       "      <td>NaN</td>\n",
       "      <td>1723400</td>\n",
       "      <td>1723673</td>\n",
       "      <td>False</td>\n",
       "      <td>True</td>\n",
       "      <td>True</td>\n",
       "      <td>False</td>\n",
       "      <td>ATGTCTTCAAGCATAGCTTTACGACGATCACCAAATCCTGGCGCTT...</td>\n",
       "    </tr>\n",
       "    <tr>\n",
       "      <th>1299</th>\n",
       "      <td>NaN</td>\n",
       "      <td>1724105</td>\n",
       "      <td>1724315</td>\n",
       "      <td>False</td>\n",
       "      <td>True</td>\n",
       "      <td>True</td>\n",
       "      <td>False</td>\n",
       "      <td>ATGGTTACCCCGTCATTAGTAATTAAGGGAGAACCAAAAGCTTTTT...</td>\n",
       "    </tr>\n",
       "    <tr>\n",
       "      <th>1300</th>\n",
       "      <td>NaN</td>\n",
       "      <td>1724916</td>\n",
       "      <td>1725117</td>\n",
       "      <td>False</td>\n",
       "      <td>True</td>\n",
       "      <td>True</td>\n",
       "      <td>False</td>\n",
       "      <td>ATGCTCATCATAGCCGACCTCGGACAAATGTTTCAAGGCCAAAGGC...</td>\n",
       "    </tr>\n",
       "    <tr>\n",
       "      <th>1301</th>\n",
       "      <td>NaN</td>\n",
       "      <td>1727047</td>\n",
       "      <td>1727278</td>\n",
       "      <td>False</td>\n",
       "      <td>True</td>\n",
       "      <td>True</td>\n",
       "      <td>False</td>\n",
       "      <td>ATGGCGACTTGGGCATCATATTCACTTAAAATCATATTTGCTAAAG...</td>\n",
       "    </tr>\n",
       "    <tr>\n",
       "      <th>1302</th>\n",
       "      <td>NaN</td>\n",
       "      <td>1732233</td>\n",
       "      <td>1732443</td>\n",
       "      <td>False</td>\n",
       "      <td>True</td>\n",
       "      <td>True</td>\n",
       "      <td>False</td>\n",
       "      <td>ATGTTCACGACTGCCACCATAGACCAAATGGGTATGACAGTCAATA...</td>\n",
       "    </tr>\n",
       "    <tr>\n",
       "      <th>1303</th>\n",
       "      <td>NaN</td>\n",
       "      <td>1735184</td>\n",
       "      <td>1735439</td>\n",
       "      <td>False</td>\n",
       "      <td>True</td>\n",
       "      <td>True</td>\n",
       "      <td>False</td>\n",
       "      <td>ATGTCTGCCCATTCGTTCCGATCAAAGACATCACTACACAAGAATG...</td>\n",
       "    </tr>\n",
       "    <tr>\n",
       "      <th>1304</th>\n",
       "      <td>NaN</td>\n",
       "      <td>1737485</td>\n",
       "      <td>1737692</td>\n",
       "      <td>False</td>\n",
       "      <td>True</td>\n",
       "      <td>True</td>\n",
       "      <td>False</td>\n",
       "      <td>ATGGGGGTGTGCCAAAAGCAGACCTGGCTACTGAAAATGTTCAGGC...</td>\n",
       "    </tr>\n",
       "    <tr>\n",
       "      <th>1305</th>\n",
       "      <td>NaN</td>\n",
       "      <td>1748718</td>\n",
       "      <td>1748946</td>\n",
       "      <td>False</td>\n",
       "      <td>True</td>\n",
       "      <td>True</td>\n",
       "      <td>False</td>\n",
       "      <td>ATGTATTCCTCACGGGCCTTCATACGCCAAATCGTCGCAAAGTTAA...</td>\n",
       "    </tr>\n",
       "    <tr>\n",
       "      <th>1306</th>\n",
       "      <td>NaN</td>\n",
       "      <td>1751624</td>\n",
       "      <td>1751846</td>\n",
       "      <td>False</td>\n",
       "      <td>True</td>\n",
       "      <td>True</td>\n",
       "      <td>False</td>\n",
       "      <td>ATGAAGATAAGTGTGAGTAATAGGACGATCCGTATAAGCTGGCTTA...</td>\n",
       "    </tr>\n",
       "    <tr>\n",
       "      <th>1307</th>\n",
       "      <td>NaN</td>\n",
       "      <td>1760408</td>\n",
       "      <td>1760693</td>\n",
       "      <td>False</td>\n",
       "      <td>True</td>\n",
       "      <td>True</td>\n",
       "      <td>False</td>\n",
       "      <td>ATGGCGACCGTTAACCATTGGGCGGGCCTGAGGATTCCCCAAGTAA...</td>\n",
       "    </tr>\n",
       "    <tr>\n",
       "      <th>1308</th>\n",
       "      <td>NaN</td>\n",
       "      <td>1778449</td>\n",
       "      <td>1778692</td>\n",
       "      <td>False</td>\n",
       "      <td>True</td>\n",
       "      <td>True</td>\n",
       "      <td>False</td>\n",
       "      <td>ATGAAAGCAACAACTTACAAAGAGTTGAAGAAATGGATTGATGAAG...</td>\n",
       "    </tr>\n",
       "    <tr>\n",
       "      <th>1309</th>\n",
       "      <td>NaN</td>\n",
       "      <td>1779275</td>\n",
       "      <td>1779497</td>\n",
       "      <td>False</td>\n",
       "      <td>True</td>\n",
       "      <td>True</td>\n",
       "      <td>False</td>\n",
       "      <td>ATGAAAAGCATTAAAGAATTAAATGAAATCGCTAACGACATTTTGG...</td>\n",
       "    </tr>\n",
       "    <tr>\n",
       "      <th>1310</th>\n",
       "      <td>NaN</td>\n",
       "      <td>1780034</td>\n",
       "      <td>1780307</td>\n",
       "      <td>False</td>\n",
       "      <td>True</td>\n",
       "      <td>True</td>\n",
       "      <td>False</td>\n",
       "      <td>ATGAACGTATTTAGTCAAGATTATGAAGCCAAACTCTTAGAACAAA...</td>\n",
       "    </tr>\n",
       "    <tr>\n",
       "      <th>1311</th>\n",
       "      <td>NaN</td>\n",
       "      <td>1782450</td>\n",
       "      <td>1782822</td>\n",
       "      <td>False</td>\n",
       "      <td>True</td>\n",
       "      <td>True</td>\n",
       "      <td>False</td>\n",
       "      <td>ATGAACCCAGTTATTGACTTCGTTTCTAAGTTCTTCACGGATGAGC...</td>\n",
       "    </tr>\n",
       "    <tr>\n",
       "      <th>1312</th>\n",
       "      <td>NaN</td>\n",
       "      <td>1785274</td>\n",
       "      <td>1785658</td>\n",
       "      <td>False</td>\n",
       "      <td>True</td>\n",
       "      <td>True</td>\n",
       "      <td>False</td>\n",
       "      <td>ATGAACAAGAAGAACGCTATTCGTAAGCTGAAAGAATTCCATAGAT...</td>\n",
       "    </tr>\n",
       "    <tr>\n",
       "      <th>1313</th>\n",
       "      <td>NaN</td>\n",
       "      <td>1789867</td>\n",
       "      <td>1790116</td>\n",
       "      <td>False</td>\n",
       "      <td>True</td>\n",
       "      <td>True</td>\n",
       "      <td>False</td>\n",
       "      <td>ATGGATAGCAAGAATCAATTGTGTCAAAGACTCTTAATAGCTAGTC...</td>\n",
       "    </tr>\n",
       "    <tr>\n",
       "      <th>1314</th>\n",
       "      <td>NaN</td>\n",
       "      <td>1791228</td>\n",
       "      <td>1791450</td>\n",
       "      <td>False</td>\n",
       "      <td>True</td>\n",
       "      <td>True</td>\n",
       "      <td>False</td>\n",
       "      <td>ATGCTGAAGCTGAAACTGATCCCACCGTTGATGAAGAAGCTCGTGA...</td>\n",
       "    </tr>\n",
       "    <tr>\n",
       "      <th>1315</th>\n",
       "      <td>NaN</td>\n",
       "      <td>1796944</td>\n",
       "      <td>1797283</td>\n",
       "      <td>False</td>\n",
       "      <td>True</td>\n",
       "      <td>True</td>\n",
       "      <td>False</td>\n",
       "      <td>ATGGTCAAAGCAGATACTTTTAACTCAACCATTCCTGTCGCCAACT...</td>\n",
       "    </tr>\n",
       "    <tr>\n",
       "      <th>1316</th>\n",
       "      <td>NaN</td>\n",
       "      <td>1802709</td>\n",
       "      <td>1803081</td>\n",
       "      <td>False</td>\n",
       "      <td>True</td>\n",
       "      <td>True</td>\n",
       "      <td>False</td>\n",
       "      <td>ATGATACAACGCTTGAATACAGATAGCCTTGGGAACTACTGCCAAT...</td>\n",
       "    </tr>\n",
       "    <tr>\n",
       "      <th>1317</th>\n",
       "      <td>NaN</td>\n",
       "      <td>1806668</td>\n",
       "      <td>1806929</td>\n",
       "      <td>False</td>\n",
       "      <td>True</td>\n",
       "      <td>True</td>\n",
       "      <td>False</td>\n",
       "      <td>ATGCTCGGGCTCACAGCTATCTTTGCCGCCTACATTTTTGGGCTTG...</td>\n",
       "    </tr>\n",
       "    <tr>\n",
       "      <th>1318</th>\n",
       "      <td>NaN</td>\n",
       "      <td>1808940</td>\n",
       "      <td>1809147</td>\n",
       "      <td>False</td>\n",
       "      <td>True</td>\n",
       "      <td>True</td>\n",
       "      <td>False</td>\n",
       "      <td>ATGACAAGGCATTGGCACCTTCTGAGAGTTTTATTACCCCAGAACC...</td>\n",
       "    </tr>\n",
       "    <tr>\n",
       "      <th>1319</th>\n",
       "      <td>NaN</td>\n",
       "      <td>1819649</td>\n",
       "      <td>1819883</td>\n",
       "      <td>False</td>\n",
       "      <td>True</td>\n",
       "      <td>True</td>\n",
       "      <td>False</td>\n",
       "      <td>ATGTTTCATTTCACGCGCATACAGGGATTTATCTGCTTGAGCTCGG...</td>\n",
       "    </tr>\n",
       "    <tr>\n",
       "      <th>1320</th>\n",
       "      <td>NaN</td>\n",
       "      <td>1829067</td>\n",
       "      <td>1829268</td>\n",
       "      <td>False</td>\n",
       "      <td>True</td>\n",
       "      <td>True</td>\n",
       "      <td>False</td>\n",
       "      <td>ATGGGAAATAGTGACGTTTTAGAACGACTGTCAGTGCTATTTCGCC...</td>\n",
       "    </tr>\n",
       "    <tr>\n",
       "      <th>1321</th>\n",
       "      <td>NaN</td>\n",
       "      <td>1838231</td>\n",
       "      <td>1838483</td>\n",
       "      <td>False</td>\n",
       "      <td>True</td>\n",
       "      <td>True</td>\n",
       "      <td>False</td>\n",
       "      <td>ATGATAGCACCTAATTGTGAGAAACTAAAGGCAATAGCAAGTCCTG...</td>\n",
       "    </tr>\n",
       "    <tr>\n",
       "      <th>1322</th>\n",
       "      <td>NaN</td>\n",
       "      <td>1850547</td>\n",
       "      <td>1850802</td>\n",
       "      <td>False</td>\n",
       "      <td>True</td>\n",
       "      <td>True</td>\n",
       "      <td>False</td>\n",
       "      <td>ATGCAGTTGTATCAGTTATTAATTATCAAGATAACCCTTCTTCATC...</td>\n",
       "    </tr>\n",
       "  </tbody>\n",
       "</table>\n",
       "<p>1277 rows × 8 columns</p>\n",
       "</div>"
      ],
      "text/plain": [
       "      actual_start  predicted_start      end   gene predicted  \\\n",
       "0              231             1296     1587   True      True   \n",
       "1             1741             2563     2878   True      True   \n",
       "3             3479             3938     4595   True      True   \n",
       "4             4664             4952     5234   True      True   \n",
       "5             5236             8464     8740   True      True   \n",
       "6             8878             8902     9175   True      True   \n",
       "7             9667            10705    10954   True      True   \n",
       "8            12805            14527    14785   True      True   \n",
       "9            15109            16198    16501   True      True   \n",
       "10           30545            31076    31742   True      True   \n",
       "11           31994            32669    32957   True      True   \n",
       "12           33142            33505    33898   True      True   \n",
       "13           34000            34726    35008   True      True   \n",
       "14           35363            35489    36098   True      True   \n",
       "15           36173            39575    39947   True      True   \n",
       "16           40107            41169    41562   True      True   \n",
       "17           41589            42363    42612   True      True   \n",
       "18           42779            43022    43334   True      True   \n",
       "19           46499            47438    47765   True      True   \n",
       "20           48042            48264    48534   True      True   \n",
       "21           49620            51024    51264   True      True   \n",
       "22           51281            52352    52574   True      True   \n",
       "23           52705            53404    53617   True      True   \n",
       "24           53842            54589    54841   True      True   \n",
       "25           54978            55071    55416   True      True   \n",
       "26           55438            55621    55840   True      True   \n",
       "27           60814            61612    61831   True      True   \n",
       "28           62218            63235    63511   True      True   \n",
       "29           63711            63711    64020   True      True   \n",
       "30           64267            64657    64894   True      True   \n",
       "...            ...              ...      ...    ...       ...   \n",
       "1293           NaN          1696432  1696669  False      True   \n",
       "1294           NaN          1703800  1704100  False      True   \n",
       "1295           NaN          1708509  1708728  False      True   \n",
       "1296           NaN          1709238  1709478  False      True   \n",
       "1297           NaN          1718369  1718585  False      True   \n",
       "1298           NaN          1723400  1723673  False      True   \n",
       "1299           NaN          1724105  1724315  False      True   \n",
       "1300           NaN          1724916  1725117  False      True   \n",
       "1301           NaN          1727047  1727278  False      True   \n",
       "1302           NaN          1732233  1732443  False      True   \n",
       "1303           NaN          1735184  1735439  False      True   \n",
       "1304           NaN          1737485  1737692  False      True   \n",
       "1305           NaN          1748718  1748946  False      True   \n",
       "1306           NaN          1751624  1751846  False      True   \n",
       "1307           NaN          1760408  1760693  False      True   \n",
       "1308           NaN          1778449  1778692  False      True   \n",
       "1309           NaN          1779275  1779497  False      True   \n",
       "1310           NaN          1780034  1780307  False      True   \n",
       "1311           NaN          1782450  1782822  False      True   \n",
       "1312           NaN          1785274  1785658  False      True   \n",
       "1313           NaN          1789867  1790116  False      True   \n",
       "1314           NaN          1791228  1791450  False      True   \n",
       "1315           NaN          1796944  1797283  False      True   \n",
       "1316           NaN          1802709  1803081  False      True   \n",
       "1317           NaN          1806668  1806929  False      True   \n",
       "1318           NaN          1808940  1809147  False      True   \n",
       "1319           NaN          1819649  1819883  False      True   \n",
       "1320           NaN          1829067  1829268  False      True   \n",
       "1321           NaN          1838231  1838483  False      True   \n",
       "1322           NaN          1850547  1850802  False      True   \n",
       "\n",
       "     False_Predictions True_predictions  \\\n",
       "0                False             True   \n",
       "1                False             True   \n",
       "3                False             True   \n",
       "4                False             True   \n",
       "5                False             True   \n",
       "6                False             True   \n",
       "7                False             True   \n",
       "8                False             True   \n",
       "9                False             True   \n",
       "10               False             True   \n",
       "11               False             True   \n",
       "12               False             True   \n",
       "13               False             True   \n",
       "14               False             True   \n",
       "15               False             True   \n",
       "16               False             True   \n",
       "17               False             True   \n",
       "18               False             True   \n",
       "19               False             True   \n",
       "20               False             True   \n",
       "21               False             True   \n",
       "22               False             True   \n",
       "23               False             True   \n",
       "24               False             True   \n",
       "25               False             True   \n",
       "26               False             True   \n",
       "27               False             True   \n",
       "28               False             True   \n",
       "29               False             True   \n",
       "30               False             True   \n",
       "...                ...              ...   \n",
       "1293              True            False   \n",
       "1294              True            False   \n",
       "1295              True            False   \n",
       "1296              True            False   \n",
       "1297              True            False   \n",
       "1298              True            False   \n",
       "1299              True            False   \n",
       "1300              True            False   \n",
       "1301              True            False   \n",
       "1302              True            False   \n",
       "1303              True            False   \n",
       "1304              True            False   \n",
       "1305              True            False   \n",
       "1306              True            False   \n",
       "1307              True            False   \n",
       "1308              True            False   \n",
       "1309              True            False   \n",
       "1310              True            False   \n",
       "1311              True            False   \n",
       "1312              True            False   \n",
       "1313              True            False   \n",
       "1314              True            False   \n",
       "1315              True            False   \n",
       "1316              True            False   \n",
       "1317              True            False   \n",
       "1318              True            False   \n",
       "1319              True            False   \n",
       "1320              True            False   \n",
       "1321              True            False   \n",
       "1322              True            False   \n",
       "\n",
       "                                                    seq  \n",
       "0     ATGACAGTTATTCCCATCGAAGAAATTCAAGCGCAAGTTGGAAAAT...  \n",
       "1     ATGGAACGTGCCTTCTTGATTTCTAATGCTACTCAAAATGGTACTG...  \n",
       "3     ATGGCACGAACTCAAAAAGATAAAGAATCAGTAGCAGAGTTTAATG...  \n",
       "4     ATGGAAGTCAGTAAATTACGTTTACGTAGTAAGGGTTCAGCAGGAG...  \n",
       "5     ATGGACAATGCCTTTGCGGAATTAGTTGAACGCAAAAATAATCAGG...  \n",
       "6     ATGAGACTAGATAAATATCTAAAGGTATCGCGCCTTATTAAACGTC...  \n",
       "7     ATGGAAGCTATTTATCATCAAAAAGGCCAAATTATTTCTTACCTTT...  \n",
       "8     ATGATTGATGATGAGGTTCGTGAACTCTTAAATCAAGCTCGTAATC...  \n",
       "9     ATGATTTGTGCGGGAATATTTCCTTTATCGAGTCTAGCAGAGTTTG...  \n",
       "10    ATGGCTGAAGAAAACCAAAATACATTACGTACTCAACAAGCTAATT...  \n",
       "11    ATGATTGATACCGCAGGGACTATTTGCCATGCAGCAGATGCGCTTG...  \n",
       "12    ATGGAAGAGGGCCTAGATTATGAAATTTTGACAAATATTTTTGAAA...  \n",
       "13    ATGGGGCAACTGAAACAGATAATTAATAGCGGCGGTATTAAGACTA...  \n",
       "14    ATGTTGAATGGAGCTCGTAAGGAGACTATTGATGGCAAGGGAGCAC...  \n",
       "15    ATGGTTGAGACTCGTATCGCAAATACCAACTCACCTTGGTTGGCAG...  \n",
       "16    ATGATTGATGACTCAATTGTAAGAGGAACGACTTCTAGAAGGATTG...  \n",
       "17    ATGTTTGCGGATGATTTGGCTGCGGAAATCGATGAGGACAAGGTGC...  \n",
       "18    ATGAAGATTGTTGGAGAAACCTTACTCTTGGCCTATGAGAGGCGTA...  \n",
       "19    ATGGGCATTGAGCCTTACATCACTTGGCAGAAGGACGGTGTGACTT...  \n",
       "20    ATGGTGGCAGCTAAAACAACGCTGCCTGTTATCGGTGTGCCTGTCA...  \n",
       "21    ATGTCTATTCATGGAAATAGATTTATTCTTCATTTGATTTTCCAAA...  \n",
       "22    ATGCTCAAATTGATTGAAAAAGGAATGACACGAGAAGAAGCTTATG...  \n",
       "23    ATGAGTCAAAAAATTATGGCGAAAATTCAAGATTGGAATAGAATGC...  \n",
       "24    ATGTTAGATGTTGACCGCGAAGGTCTCGATTACATTGATCAGAAAA...  \n",
       "25    ATGATAGAAAGTCGTGCTACTTCTGATTGGGAGCATGGAAACCCTA...  \n",
       "26    ATGAATGGAGAAGGGAAGCTTGTCTACCCCAACGGTGATATCTATG...  \n",
       "27    ATGGAACTGTCTATCGTAAAAACTGTTTTAGATGGTATCAAAGTGG...  \n",
       "28    ATGATTGTTTTACTTTTTTCTTTACTAGGAGCTCCCGCAACGGCAG...  \n",
       "29    ATGGCAAACAAAAAAATCCGTATCCGTTTGAAAGCGTACGAACACC...  \n",
       "30    ATGGCTCACGGTTCTCGTTACCATCGTCGCCCAGGTTCTATGGGAC...  \n",
       "...                                                 ...  \n",
       "1293  ATGACCCATCGTTTTTTTCTCACCCCTCTTTCAACCCTCTGGCGCC...  \n",
       "1294  ATGCATTTCTTTGAGGGTTGTTGGCATGCCAATAGCTTGGTAAAAG...  \n",
       "1295  ATGCCAGAACCTGATAGAATCAAGAAAGAGTCTAAAAATTGTTGGG...  \n",
       "1296  ATGGCATCATTAACCCCTTGGAAAGGAATCTGCCCAGCAATCAGGA...  \n",
       "1297  ATGGATGCTCAAACCATTGGCTTGGCCTGTCCACGTTCCCAAAATA...  \n",
       "1298  ATGTCTTCAAGCATAGCTTTACGACGATCACCAAATCCTGGCGCTT...  \n",
       "1299  ATGGTTACCCCGTCATTAGTAATTAAGGGAGAACCAAAAGCTTTTT...  \n",
       "1300  ATGCTCATCATAGCCGACCTCGGACAAATGTTTCAAGGCCAAAGGC...  \n",
       "1301  ATGGCGACTTGGGCATCATATTCACTTAAAATCATATTTGCTAAAG...  \n",
       "1302  ATGTTCACGACTGCCACCATAGACCAAATGGGTATGACAGTCAATA...  \n",
       "1303  ATGTCTGCCCATTCGTTCCGATCAAAGACATCACTACACAAGAATG...  \n",
       "1304  ATGGGGGTGTGCCAAAAGCAGACCTGGCTACTGAAAATGTTCAGGC...  \n",
       "1305  ATGTATTCCTCACGGGCCTTCATACGCCAAATCGTCGCAAAGTTAA...  \n",
       "1306  ATGAAGATAAGTGTGAGTAATAGGACGATCCGTATAAGCTGGCTTA...  \n",
       "1307  ATGGCGACCGTTAACCATTGGGCGGGCCTGAGGATTCCCCAAGTAA...  \n",
       "1308  ATGAAAGCAACAACTTACAAAGAGTTGAAGAAATGGATTGATGAAG...  \n",
       "1309  ATGAAAAGCATTAAAGAATTAAATGAAATCGCTAACGACATTTTGG...  \n",
       "1310  ATGAACGTATTTAGTCAAGATTATGAAGCCAAACTCTTAGAACAAA...  \n",
       "1311  ATGAACCCAGTTATTGACTTCGTTTCTAAGTTCTTCACGGATGAGC...  \n",
       "1312  ATGAACAAGAAGAACGCTATTCGTAAGCTGAAAGAATTCCATAGAT...  \n",
       "1313  ATGGATAGCAAGAATCAATTGTGTCAAAGACTCTTAATAGCTAGTC...  \n",
       "1314  ATGCTGAAGCTGAAACTGATCCCACCGTTGATGAAGAAGCTCGTGA...  \n",
       "1315  ATGGTCAAAGCAGATACTTTTAACTCAACCATTCCTGTCGCCAACT...  \n",
       "1316  ATGATACAACGCTTGAATACAGATAGCCTTGGGAACTACTGCCAAT...  \n",
       "1317  ATGCTCGGGCTCACAGCTATCTTTGCCGCCTACATTTTTGGGCTTG...  \n",
       "1318  ATGACAAGGCATTGGCACCTTCTGAGAGTTTTATTACCCCAGAACC...  \n",
       "1319  ATGTTTCATTTCACGCGCATACAGGGATTTATCTGCTTGAGCTCGG...  \n",
       "1320  ATGGGAAATAGTGACGTTTTAGAACGACTGTCAGTGCTATTTCGCC...  \n",
       "1321  ATGATAGCACCTAATTGTGAGAAACTAAAGGCAATAGCAAGTCCTG...  \n",
       "1322  ATGCAGTTGTATCAGTTATTAATTATCAAGATAACCCTTCTTCATC...  \n",
       "\n",
       "[1277 rows x 8 columns]"
      ]
     },
     "execution_count": 231,
     "metadata": {},
     "output_type": "execute_result"
    }
   ],
   "source": [
    "new_mix = pd.concat([egg,face])\n",
    "new_mix.sample(n=100)\n",
    "new_mix"
   ]
  },
  {
   "cell_type": "code",
   "execution_count": 220,
   "metadata": {
    "collapsed": false
   },
   "outputs": [
    {
     "name": "stdout",
     "output_type": "stream",
     "text": [
      "Calculated Nucleotide Frequencies...\n",
      "          a         c         g         t\n",
      "0  0.240550  0.168385  0.168385  0.422680\n",
      "1  0.314286  0.187302  0.161905  0.336508\n",
      "2  0.289193  0.144597  0.229833  0.336377\n",
      "3  0.301418  0.141844  0.202128  0.354610\n",
      "4  0.315217  0.137681  0.177536  0.369565\n",
      "Calculated amino acid frequencies...\n",
      "          X         N         T         D         Y         L         W  \\\n",
      "0  0.051546  0.041237  0.010309  0.000000  0.082474  0.072165  0.123711   \n",
      "1  0.038095  0.104762  0.009524  0.000000  0.085714  0.095238  0.095238   \n",
      "2  0.068493  0.036530  0.004566  0.004566  0.123288  0.059361  0.054795   \n",
      "3  0.106383  0.053191  0.010638  0.000000  0.053191  0.053191  0.095745   \n",
      "4  0.021739  0.054348  0.010870  0.000000  0.097826  0.043478  0.076087   \n",
      "\n",
      "          Q         S         I    ...            C         A         V  \\\n",
      "0  0.051546  0.020619  0.051546    ...     0.041237  0.020619  0.061856   \n",
      "1  0.066667  0.057143  0.085714    ...     0.009524  0.009524  0.038095   \n",
      "2  0.022831  0.018265  0.068493    ...     0.018265  0.031963  0.100457   \n",
      "3  0.085106  0.010638  0.063830    ...     0.042553  0.010638  0.042553   \n",
      "4  0.054348  0.000000  0.097826    ...     0.021739  0.032609  0.043478   \n",
      "\n",
      "          K         G         H  R         P         F         E  \n",
      "0  0.113402  0.072165  0.030928  0  0.051546  0.030928  0.020619  \n",
      "1  0.047619  0.076190  0.047619  0  0.028571  0.038095  0.028571  \n",
      "2  0.082192  0.091324  0.050228  0  0.054795  0.077626  0.009132  \n",
      "3  0.085106  0.074468  0.053191  0  0.053191  0.031915  0.031915  \n",
      "4  0.097826  0.076087  0.076087  0  0.065217  0.054348  0.032609  \n",
      "\n",
      "[5 rows x 21 columns]\n",
      "Calculated codon frequencies...\n",
      "   CAC       TAC  TGG       ACA       GCA       ACC       TCA       GAG  \\\n",
      "0    0  0.010309    0  0.041237  0.020619  0.020619  0.010309  0.000000   \n",
      "1    0  0.009524    0  0.038095  0.000000  0.009524  0.028571  0.047619   \n",
      "\n",
      "        AGC       GCC    ...          ATC       CCA  GGG       GCG  CCG  \\\n",
      "0  0.020619  0.010309    ...     0.041237  0.000000    0  0.010309    0   \n",
      "1  0.009524  0.009524    ...     0.019048  0.047619    0  0.000000    0   \n",
      "\n",
      "        CAG       ATG       TTT       CGT       CTA  \n",
      "0  0.010309  0.041237  0.030928  0.010309  0.000000  \n",
      "1  0.009524  0.009524  0.009524  0.009524  0.009524  \n",
      "\n",
      "[2 rows x 64 columns]\n"
     ]
    }
   ],
   "source": [
    "n_df = nucleotide_frequency_features(new_mix)\n",
    "aa_df = aa_frequency_features(new_mix)\n",
    "c_df = codon_frequency_features(new_mix)"
   ]
  },
  {
   "cell_type": "code",
   "execution_count": 224,
   "metadata": {
    "collapsed": false
   },
   "outputs": [
    {
     "data": {
      "text/plain": [
       "(1277, 8)"
      ]
     },
     "execution_count": 224,
     "metadata": {},
     "output_type": "execute_result"
    }
   ],
   "source": [
    "new_mix.shape"
   ]
  },
  {
   "cell_type": "code",
   "execution_count": 225,
   "metadata": {
    "collapsed": false
   },
   "outputs": [
    {
     "data": {
      "text/plain": [
       "(1277, 4)"
      ]
     },
     "execution_count": 225,
     "metadata": {},
     "output_type": "execute_result"
    }
   ],
   "source": [
    "n_df.shape"
   ]
  },
  {
   "cell_type": "code",
   "execution_count": 7,
   "metadata": {
    "collapsed": false
   },
   "outputs": [
    {
     "ename": "NameError",
     "evalue": "name 'n_df' is not defined",
     "output_type": "error",
     "traceback": [
      "\u001b[0;31m---------------------------------------------------------------------------\u001b[0m",
      "\u001b[0;31mNameError\u001b[0m                                 Traceback (most recent call last)",
      "\u001b[0;32m<ipython-input-7-3f25ec6004b1>\u001b[0m in \u001b[0;36m<module>\u001b[0;34m()\u001b[0m\n\u001b[1;32m      1\u001b[0m \u001b[0;34m\u001b[0m\u001b[0m\n\u001b[0;32m----> 2\u001b[0;31m \u001b[0mx\u001b[0m \u001b[0;34m=\u001b[0m \u001b[0mpd\u001b[0m\u001b[0;34m.\u001b[0m\u001b[0mconcat\u001b[0m\u001b[0;34m(\u001b[0m\u001b[0;34m[\u001b[0m\u001b[0mn_df\u001b[0m\u001b[0;34m,\u001b[0m\u001b[0maa_df\u001b[0m\u001b[0;34m,\u001b[0m\u001b[0mc_df\u001b[0m\u001b[0;34m]\u001b[0m\u001b[0;34m,\u001b[0m\u001b[0maxis\u001b[0m\u001b[0;34m=\u001b[0m\u001b[0;36m1\u001b[0m\u001b[0;34m)\u001b[0m\u001b[0;34m\u001b[0m\u001b[0m\n\u001b[0m\u001b[1;32m      3\u001b[0m \u001b[0my\u001b[0m \u001b[0;34m=\u001b[0m \u001b[0mnew_mix\u001b[0m\u001b[0;34m.\u001b[0m\u001b[0mTrue_predictions\u001b[0m\u001b[0;34m\u001b[0m\u001b[0m\n\u001b[1;32m      4\u001b[0m \u001b[0my\u001b[0m\u001b[0;34m.\u001b[0m\u001b[0mvalue_counts\u001b[0m\u001b[0;34m(\u001b[0m\u001b[0;34m)\u001b[0m\u001b[0;34m\u001b[0m\u001b[0m\n",
      "\u001b[0;31mNameError\u001b[0m: name 'n_df' is not defined"
     ]
    }
   ],
   "source": [
    "\n",
    "x = pd.concat([n_df,aa_df,c_df],axis=1)\n",
    "y = new_mix.True_predictions\n",
    "y.value_counts()"
   ]
  },
  {
   "cell_type": "code",
   "execution_count": 243,
   "metadata": {
    "collapsed": false
   },
   "outputs": [
    {
     "name": "stdout",
     "output_type": "stream",
     "text": [
      "RandomForestClassifier Accuracy Score : 0.788647\n",
      "DecisionTreeClassifier Accuracy Score : 0.698542\n",
      "GaussianNB Accuracy Score : 0.823860\n",
      "SVC Accuracy Score : 0.597495\n",
      "KNeighborsClassifier Accuracy Score : 0.784688\n",
      "LogisticRegression Accuracy Score : 0.837219\n"
     ]
    }
   ],
   "source": [
    "y = y.apply(lambda x: int(x))\n",
    "algorithms = [RandomForestClassifier(), DecisionTreeClassifier(), GaussianNB(), \n",
    "              SVC(), KNeighborsClassifier(n_neighbors=6), LogisticRegression()]\n",
    "\n",
    "for algo in algorithms:\n",
    "    accuracy = cross_val_score(algo,x,y)\n",
    "    print(\"{:s} Accuracy Score : {:f}\".format(str(algo).split('(', 1)[0],accuracy.mean()))"
   ]
  },
  {
   "cell_type": "code",
   "execution_count": null,
   "metadata": {
    "collapsed": true
   },
   "outputs": [],
   "source": [
    "#1. look at more (reverses and other genomes)  ---> next notebook"
   ]
  },
  {
   "cell_type": "markdown",
   "metadata": {},
   "source": [
    "## Why is Logistic regression and GaussianNB so good once we uncover the correct ends?\n",
    "763/(514+763) = 0.597\n",
    "\n"
   ]
  },
  {
   "cell_type": "code",
   "execution_count": 293,
   "metadata": {
    "collapsed": false
   },
   "outputs": [
    {
     "data": {
      "text/plain": [
       "array([1, 1, 0, 1, 1, 1, 1, 1, 1, 1, 0, 1, 0, 1, 1, 1, 1, 1, 1, 1, 0, 1, 0,\n",
       "       1, 1, 0, 1, 1, 0, 0, 1, 0, 1, 1, 1, 1, 1, 1, 1, 0, 1, 1, 0, 1, 1, 1,\n",
       "       0, 1, 1, 1, 0, 0, 1, 1, 1, 0, 1, 1, 1, 0, 0, 0, 1, 1, 1, 1, 1, 1, 1,\n",
       "       1, 1, 0, 0, 1, 1, 0, 1, 1, 1, 0, 0, 1, 1, 1, 1, 1, 0, 1, 1, 1, 1, 1,\n",
       "       1, 0, 1, 1, 1, 0, 1, 0, 0, 0, 1, 0, 1, 1, 0, 1, 1, 1, 1, 0, 1, 1, 0,\n",
       "       0, 0, 0, 1, 0, 1, 1, 0, 1, 1, 1, 1, 1, 1, 1, 0, 0, 1, 0, 0, 1, 1, 1,\n",
       "       0, 1, 1, 1, 1, 1, 1, 1, 1, 1, 1, 1, 0, 1, 0, 0, 1, 0, 1, 0, 1, 1, 0,\n",
       "       0, 0, 1, 1, 1, 1, 0, 1, 0, 0, 1, 0, 1, 1, 1, 0, 0, 1, 0, 1, 0, 1, 1,\n",
       "       0, 1, 1, 1, 1, 1, 0, 0, 0, 1, 1, 0, 1, 1, 1, 1, 0, 1, 0, 1, 1, 1, 1,\n",
       "       0, 0, 1, 1, 0, 1, 1, 1, 0, 1, 1, 0, 1, 1, 0, 1, 0, 1, 1, 1, 1, 1, 1,\n",
       "       1, 0, 0, 1, 0, 1, 1, 0, 0, 0, 0, 1, 1, 1, 0, 0, 1, 1, 0, 0, 1, 0, 0,\n",
       "       1, 1, 0, 1, 0, 0, 1, 1, 1, 0, 1, 1, 1, 0, 1, 1, 1, 1, 1, 1, 0, 0, 1,\n",
       "       1, 1, 0, 1, 0, 0, 1, 1, 0, 1, 1, 1, 0, 1, 1, 0, 1, 1, 1, 1, 1, 1, 0,\n",
       "       0, 0, 0, 0, 0, 1, 0, 1, 1, 0, 1, 0, 0, 0, 1, 1, 0, 0, 1, 1, 0, 0, 1,\n",
       "       1, 0, 0, 1, 1, 1, 1, 1, 0, 0, 1, 1, 1, 0, 1, 1, 1, 1, 1, 1, 1, 0, 1,\n",
       "       0, 1, 1, 1, 1, 1, 1, 1, 0, 0, 1, 1, 1, 0, 0, 0, 1, 1, 1, 0, 1, 1, 1,\n",
       "       1, 1, 1, 1, 1, 1, 1, 0, 0, 1, 1, 0, 0, 1, 1, 0, 1, 0, 1, 1, 0, 1, 1,\n",
       "       1, 1, 0, 1, 1, 1, 1, 1, 0, 1, 0, 1, 1, 1, 1, 1, 1, 1, 0, 0, 0, 1, 0,\n",
       "       1, 0, 1, 1, 1, 1, 1, 1])"
      ]
     },
     "execution_count": 293,
     "metadata": {},
     "output_type": "execute_result"
    }
   ],
   "source": [
    "\n",
    "\n",
    "X_train, X_test, y_train, y_test = train_test_split(x, y, test_size=0.33, random_state=42)\n",
    "\n",
    "clf = GaussianNB()\n",
    "clf.fit(X_train, y_train)\n",
    "clf.predict(X_test)\n",
    "\n",
    "# x_min, x_max = x[:, 0].min() - .5, x[:, 0].max() + .5\n",
    "# x\n",
    "# y_min, y_max = x[:, 1].min() - .5, x[:, 1].max() + .5\n",
    "# xx, yy = np.meshgrid(np.arange(x_min, x_max, h),\n",
    "#                      np.arange(y_min, y_max, h))\n",
    "# if hasattr(clf, \"decision_function\"):\n",
    "#     Z = clf.decision_function(np.c_[xx.ravel(), yy.ravel()])\n",
    "# else:\n",
    "#     Z = clf.predict_proba(np.c_[xx.ravel(), yy.ravel()])[:, 1]\n",
    "\n",
    "# print(clf.score(X_test,y_test))\n",
    "\n",
    "# print(clf.get_params)"
   ]
  },
  {
   "cell_type": "code",
   "execution_count": 6,
   "metadata": {
    "collapsed": false
   },
   "outputs": [
    {
     "ename": "NameError",
     "evalue": "name 'LogisticRegression' is not defined",
     "output_type": "error",
     "traceback": [
      "\u001b[0;31m---------------------------------------------------------------------------\u001b[0m",
      "\u001b[0;31mNameError\u001b[0m                                 Traceback (most recent call last)",
      "\u001b[0;32m<ipython-input-6-2febe5d95c49>\u001b[0m in \u001b[0;36m<module>\u001b[0;34m()\u001b[0m\n\u001b[0;32m----> 1\u001b[0;31m \u001b[0mlr\u001b[0m \u001b[0;34m=\u001b[0m \u001b[0mLogisticRegression\u001b[0m\u001b[0;34m(\u001b[0m\u001b[0;34m)\u001b[0m\u001b[0;34m\u001b[0m\u001b[0m\n\u001b[0m\u001b[1;32m      2\u001b[0m \u001b[0mlr\u001b[0m\u001b[0;34m.\u001b[0m\u001b[0mfit\u001b[0m\u001b[0;34m(\u001b[0m\u001b[0mX_train\u001b[0m\u001b[0;34m,\u001b[0m \u001b[0my_train\u001b[0m\u001b[0;34m)\u001b[0m\u001b[0;34m\u001b[0m\u001b[0m\n\u001b[1;32m      3\u001b[0m \u001b[0;31m# lr.predict(X_test)\u001b[0m\u001b[0;34m\u001b[0m\u001b[0;34m\u001b[0m\u001b[0m\n\u001b[1;32m      4\u001b[0m \u001b[0mprint\u001b[0m\u001b[0;34m(\u001b[0m\u001b[0mlr\u001b[0m\u001b[0;34m.\u001b[0m\u001b[0mscore\u001b[0m\u001b[0;34m(\u001b[0m\u001b[0mX_test\u001b[0m\u001b[0;34m,\u001b[0m\u001b[0my_test\u001b[0m\u001b[0;34m)\u001b[0m\u001b[0;34m)\u001b[0m\u001b[0;34m\u001b[0m\u001b[0m\n\u001b[1;32m      5\u001b[0m \u001b[0;31m# lr.get_params()\u001b[0m\u001b[0;34m\u001b[0m\u001b[0;34m\u001b[0m\u001b[0m\n",
      "\u001b[0;31mNameError\u001b[0m: name 'LogisticRegression' is not defined"
     ]
    }
   ],
   "source": [
    "lr = LogisticRegression()\n",
    "lr.fit(X_train, y_train)\n",
    "# lr.predict(X_test)\n",
    "print(lr.score(X_test,y_test))\n",
    "# lr.get_params()\n",
    "\n",
    "xuler = lr.fit_transform(X_test, y_test)\n",
    "# pd.DataFrame([lr.coef_)]\n",
    "\n",
    "k = list(x.keys())\n",
    "lg_coef = list(lr.coef_[0])\n",
    "# GNB_coef = list(clf.coef_[0])\n",
    "coef_df = pd.DataFrame([lg_coef,k])\n",
    "# lr.coef_[0]\n",
    "coef_df = coef_df.T\n",
    "coef_df\n",
    "coef_df.columns = [[\"Logistic_Regression_Coef\",\"Features\"]]"
   ]
  },
  {
   "cell_type": "code",
   "execution_count": null,
   "metadata": {
    "collapsed": true
   },
   "outputs": [],
   "source": [
    "ranked_coef_df = coef_df.sort_values(by=\"Logistic_Regression_Coef\",ascending = False)\n",
    "#2. Find out which features are most important"
   ]
  },
  {
   "cell_type": "code",
   "execution_count": 5,
   "metadata": {
    "collapsed": false
   },
   "outputs": [
    {
     "ename": "NameError",
     "evalue": "name 'ranked_coef_df' is not defined",
     "output_type": "error",
     "traceback": [
      "\u001b[0;31m---------------------------------------------------------------------------\u001b[0m",
      "\u001b[0;31mNameError\u001b[0m                                 Traceback (most recent call last)",
      "\u001b[0;32m<ipython-input-5-3c2276be3f19>\u001b[0m in \u001b[0;36m<module>\u001b[0;34m()\u001b[0m\n\u001b[0;32m----> 1\u001b[0;31m \u001b[0mlist\u001b[0m\u001b[0;34m(\u001b[0m\u001b[0mranked_coef_df\u001b[0m\u001b[0;34m.\u001b[0m\u001b[0mFeatures\u001b[0m\u001b[0;34m.\u001b[0m\u001b[0miloc\u001b[0m\u001b[0;34m[\u001b[0m\u001b[0;34m-\u001b[0m\u001b[0;36m10\u001b[0m\u001b[0;34m:\u001b[0m\u001b[0mlen\u001b[0m\u001b[0;34m(\u001b[0m\u001b[0mranked_coef_df\u001b[0m\u001b[0;34m)\u001b[0m\u001b[0;34m-\u001b[0m\u001b[0;36m1\u001b[0m\u001b[0;34m]\u001b[0m\u001b[0;34m)\u001b[0m\u001b[0;34m\u001b[0m\u001b[0m\n\u001b[0m\u001b[1;32m      2\u001b[0m \u001b[0;31m## 1 is the positive case\u001b[0m\u001b[0;34m\u001b[0m\u001b[0;34m\u001b[0m\u001b[0m\n",
      "\u001b[0;31mNameError\u001b[0m: name 'ranked_coef_df' is not defined"
     ]
    }
   ],
   "source": [
    "list(ranked_coef_df.Features.iloc[-10:len(ranked_coef_df)-1])\n",
    "## 1 is the positive case"
   ]
  },
  {
   "cell_type": "code",
   "execution_count": null,
   "metadata": {
    "collapsed": true
   },
   "outputs": [],
   "source": [
    "#2. Find out which features are most important\n",
    "\n",
    "# coef_df.columns = [[\"Features\",\"Logistic_Regression_Coef\"]]\n",
    "# coef_df.sort_values(by=\"Coefficients\",ascending = False)"
   ]
  },
  {
   "cell_type": "markdown",
   "metadata": {},
   "source": [
    "### How Frequency Features Scale with prediction score"
   ]
  },
  {
   "cell_type": "code",
   "execution_count": 310,
   "metadata": {
    "collapsed": false
   },
   "outputs": [
    {
     "name": "stdout",
     "output_type": "stream",
     "text": [
      "Optimal number of features : 78\n"
     ]
    },
    {
     "data": {
      "image/png": "[encoded data removed]",
      "text/plain": [
       "<matplotlib.figure.Figure at 0x110ece2e8>"
      ]
     },
     "metadata": {},
     "output_type": "display_data"
    }
   ],
   "source": [
    "import matplotlib.pyplot as plt\n",
    "from sklearn.svm import SVC\n",
    "from sklearn.cross_validation import StratifiedKFold\n",
    "from sklearn.feature_selection import RFECV\n",
    "from sklearn.datasets import make_classification\n",
    "from sklearn.linear_model import LinearRegression\n",
    "# # Build a classification task using 3 informative features\n",
    "# X, y = make_classification(n_samples=1000, n_features=25, n_informative=3,\n",
    "#                            n_redundant=2, n_repeated=0, n_classes=8,\n",
    "#                            n_clusters_per_class=1, random_state=0)\n",
    "\n",
    "# Create the RFE object and compute a cross-validated score.\n",
    "svc = SVC(kernel=\"linear\")\n",
    "lg = LogisticRegression()\n",
    "# The \"accuracy\" scoring is proportional to the number of correct\n",
    "# classifications\n",
    "rfecv = RFECV(estimator=svc, step=1, cv=StratifiedKFold(y, 2),\n",
    "              scoring='accuracy')\n",
    "rfecv.fit(x, y)\n",
    "\n",
    "print(\"Optimal number of features : %d\" % rfecv.n_features_)\n",
    "\n",
    "# Plot number of features VS. cross-validation scores\n",
    "%matplotlib inline\n",
    "plt.figure()\n",
    "plt.xlabel(\"Number of features selected\")\n",
    "plt.ylabel(\"Cross validation score (nb of correct classifications)\")\n",
    "plt.plot(range(1, len(rfecv.grid_scores_) + 1), rfecv.grid_scores_)\n",
    "plt.show()"
   ]
  },
  {
   "cell_type": "code",
   "execution_count": 298,
   "metadata": {
    "collapsed": false
   },
   "outputs": [
    {
     "data": {
      "text/plain": [
       "1    763\n",
       "0    514\n",
       "Name: True_predictions, dtype: int64"
      ]
     },
     "execution_count": 298,
     "metadata": {},
     "output_type": "execute_result"
    }
   ],
   "source": [
    "y.value_counts()"
   ]
  },
  {
   "cell_type": "code",
   "execution_count": null,
   "metadata": {
    "collapsed": true
   },
   "outputs": [],
   "source": [
    "## Account for correlation between variables\n",
    "## PCA ??  (find rank of PCA?) -- SCRI Plot (elbow plot)  \n",
    "# - : forward stepwiser regression on eigen values\n",
    "## P-value trace?\n",
    "\n",
    "## "
   ]
  },
  {
   "cell_type": "code",
   "execution_count": null,
   "metadata": {
    "collapsed": true
   },
   "outputs": [],
   "source": []
  }
 ],
 "metadata": {
  "kernelspec": {
   "display_name": "Python 3",
   "language": "python",
   "name": "python3"
  },
  "language_info": {
   "codemirror_mode": {
    "name": "ipython",
    "version": 3
   },
   "file_extension": ".py",
   "mimetype": "text/x-python",
   "name": "python",
   "nbconvert_exporter": "python",
   "pygments_lexer": "ipython3",
   "version": "3.5.1"
  }
 },
 "nbformat": 4,
 "nbformat_minor": 0
}
